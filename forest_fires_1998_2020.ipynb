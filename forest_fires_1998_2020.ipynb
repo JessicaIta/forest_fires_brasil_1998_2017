{
 "cells": [
  {
   "cell_type": "markdown",
   "metadata": {},
   "source": [
    "# Focos de Calor - Incêndios Florestais de 1998 - 2020\n",
    "\n",
    "Base extraída do site de dados públicos do INPE: http://queimadas.dgi.inpe.br/queimadas/portal-static/estatisticas_estados/"
   ]
  },
  {
   "cell_type": "code",
   "execution_count": 26,
   "metadata": {},
   "outputs": [
    {
     "data": {
      "text/html": [
       "        <script type=\"text/javascript\">\n",
       "        window.PlotlyConfig = {MathJaxConfig: 'local'};\n",
       "        if (window.MathJax) {MathJax.Hub.Config({SVG: {font: \"STIX-Web\"}});}\n",
       "        if (typeof require !== 'undefined') {\n",
       "        require.undef(\"plotly\");\n",
       "        requirejs.config({\n",
       "            paths: {\n",
       "                'plotly': ['https://cdn.plot.ly/plotly-latest.min']\n",
       "            }\n",
       "        });\n",
       "        require(['plotly'], function(Plotly) {\n",
       "            window._Plotly = Plotly;\n",
       "        });\n",
       "        }\n",
       "        </script>\n",
       "        "
      ]
     },
     "metadata": {},
     "output_type": "display_data"
    }
   ],
   "source": [
    "import numpy as np\n",
    "import pandas as pd\n",
    "\n",
    "import plotly.offline as py\n",
    "import plotly.graph_objs as go\n",
    "\n",
    "#Função para mostrar o gráfico no notebook\n",
    "py.init_notebook_mode(connected=True)"
   ]
  },
  {
   "cell_type": "code",
   "execution_count": 27,
   "metadata": {},
   "outputs": [],
   "source": [
    "from datetime import datetime\n",
    "\n",
    "def transform_data (year, month):\n",
    "    months = {\n",
    "        'Janeiro' : '01',\n",
    "        'Fevereiro' : '02',\n",
    "        'Março': '03',\n",
    "        'Abril': '04',\n",
    "        'Maio': '05',\n",
    "        'Junho': '06',\n",
    "        'Julho': '07',\n",
    "        'Agosto': '08',\n",
    "        'Setembro': '09',\n",
    "        'Outubro': '10',\n",
    "        'Novembro': '11',\n",
    "        'Dezembro': '12'\n",
    "    }\n",
    "    \n",
    "    data = datetime.strptime(str(year) + '-' + months[month] + '-01', '%Y-%m-%d')\n",
    "    \n",
    "    return data"
   ]
  },
  {
   "cell_type": "code",
   "execution_count": 28,
   "metadata": {},
   "outputs": [
    {
     "data": {
      "text/plain": [
       "datetime.datetime(2020, 1, 1, 0, 0)"
      ]
     },
     "execution_count": 28,
     "metadata": {},
     "output_type": "execute_result"
    }
   ],
   "source": [
    "transform_data(2020, 'Janeiro')"
   ]
  },
  {
   "cell_type": "code",
   "execution_count": 29,
   "metadata": {},
   "outputs": [
    {
     "data": {
      "text/html": [
       "<div>\n",
       "<style scoped>\n",
       "    .dataframe tbody tr th:only-of-type {\n",
       "        vertical-align: middle;\n",
       "    }\n",
       "\n",
       "    .dataframe tbody tr th {\n",
       "        vertical-align: top;\n",
       "    }\n",
       "\n",
       "    .dataframe thead th {\n",
       "        text-align: right;\n",
       "    }\n",
       "</style>\n",
       "<table border=\"1\" class=\"dataframe\">\n",
       "  <thead>\n",
       "    <tr style=\"text-align: right;\">\n",
       "      <th></th>\n",
       "      <th>year</th>\n",
       "      <th>number</th>\n",
       "      <th>month</th>\n",
       "      <th>state</th>\n",
       "    </tr>\n",
       "  </thead>\n",
       "  <tbody>\n",
       "    <tr>\n",
       "      <th>0</th>\n",
       "      <td>1998</td>\n",
       "      <td>0</td>\n",
       "      <td>Janeiro</td>\n",
       "      <td>Acre</td>\n",
       "    </tr>\n",
       "    <tr>\n",
       "      <th>1</th>\n",
       "      <td>1999</td>\n",
       "      <td>0</td>\n",
       "      <td>Janeiro</td>\n",
       "      <td>Acre</td>\n",
       "    </tr>\n",
       "    <tr>\n",
       "      <th>2</th>\n",
       "      <td>2000</td>\n",
       "      <td>0</td>\n",
       "      <td>Janeiro</td>\n",
       "      <td>Acre</td>\n",
       "    </tr>\n",
       "    <tr>\n",
       "      <th>3</th>\n",
       "      <td>2001</td>\n",
       "      <td>0</td>\n",
       "      <td>Janeiro</td>\n",
       "      <td>Acre</td>\n",
       "    </tr>\n",
       "    <tr>\n",
       "      <th>4</th>\n",
       "      <td>2002</td>\n",
       "      <td>0</td>\n",
       "      <td>Janeiro</td>\n",
       "      <td>Acre</td>\n",
       "    </tr>\n",
       "    <tr>\n",
       "      <th>...</th>\n",
       "      <td>...</td>\n",
       "      <td>...</td>\n",
       "      <td>...</td>\n",
       "      <td>...</td>\n",
       "    </tr>\n",
       "    <tr>\n",
       "      <th>7759</th>\n",
       "      <td>2017</td>\n",
       "      <td>81</td>\n",
       "      <td>Dezembro</td>\n",
       "      <td>Tocantins</td>\n",
       "    </tr>\n",
       "    <tr>\n",
       "      <th>7760</th>\n",
       "      <td>2018</td>\n",
       "      <td>166</td>\n",
       "      <td>Dezembro</td>\n",
       "      <td>Tocantins</td>\n",
       "    </tr>\n",
       "    <tr>\n",
       "      <th>7761</th>\n",
       "      <td>2019</td>\n",
       "      <td>219</td>\n",
       "      <td>Dezembro</td>\n",
       "      <td>Tocantins</td>\n",
       "    </tr>\n",
       "    <tr>\n",
       "      <th>7762</th>\n",
       "      <td>2020</td>\n",
       "      <td>211</td>\n",
       "      <td>Dezembro</td>\n",
       "      <td>Tocantins</td>\n",
       "    </tr>\n",
       "    <tr>\n",
       "      <th>7763</th>\n",
       "      <td>2021</td>\n",
       "      <td>0</td>\n",
       "      <td>Dezembro</td>\n",
       "      <td>Tocantins</td>\n",
       "    </tr>\n",
       "  </tbody>\n",
       "</table>\n",
       "<p>7764 rows × 4 columns</p>\n",
       "</div>"
      ],
      "text/plain": [
       "      year  number     month      state\n",
       "0     1998       0   Janeiro       Acre\n",
       "1     1999       0   Janeiro       Acre\n",
       "2     2000       0   Janeiro       Acre\n",
       "3     2001       0   Janeiro       Acre\n",
       "4     2002       0   Janeiro       Acre\n",
       "...    ...     ...       ...        ...\n",
       "7759  2017      81  Dezembro  Tocantins\n",
       "7760  2018     166  Dezembro  Tocantins\n",
       "7761  2019     219  Dezembro  Tocantins\n",
       "7762  2020     211  Dezembro  Tocantins\n",
       "7763  2021       0  Dezembro  Tocantins\n",
       "\n",
       "[7764 rows x 4 columns]"
      ]
     },
     "execution_count": 29,
     "metadata": {},
     "output_type": "execute_result"
    }
   ],
   "source": [
    "archive = 'base_completa_foco_calor.csv'\n",
    "\n",
    "base = pd.read_csv(archive)\n",
    "#base['date'] = pd.to_datetime(base.date)\n",
    "base"
   ]
  },
  {
   "cell_type": "code",
   "execution_count": 30,
   "metadata": {},
   "outputs": [],
   "source": [
    "# Retirada dos dados de 2021\n",
    "base = base[base['year'] < 2021]"
   ]
  },
  {
   "cell_type": "code",
   "execution_count": 32,
   "metadata": {},
   "outputs": [
    {
     "name": "stderr",
     "output_type": "stream",
     "text": [
      "<ipython-input-32-56ec78b67758>:1: SettingWithCopyWarning:\n",
      "\n",
      "\n",
      "A value is trying to be set on a copy of a slice from a DataFrame.\n",
      "Try using .loc[row_indexer,col_indexer] = value instead\n",
      "\n",
      "See the caveats in the documentation: https://pandas.pydata.org/pandas-docs/stable/user_guide/indexing.html#returning-a-view-versus-a-copy\n",
      "\n"
     ]
    }
   ],
   "source": [
    "base['data'] =  base.apply(lambda x: transform_data(x.year, x.month), axis=1)"
   ]
  },
  {
   "cell_type": "code",
   "execution_count": 48,
   "metadata": {},
   "outputs": [
    {
     "data": {
      "text/plain": [
       "0      1998-01-01\n",
       "1      1999-01-01\n",
       "2      2000-01-01\n",
       "3      2001-01-01\n",
       "4      2002-01-01\n",
       "          ...    \n",
       "7758   2016-12-01\n",
       "7759   2017-12-01\n",
       "7760   2018-12-01\n",
       "7761   2019-12-01\n",
       "7762   2020-12-01\n",
       "Name: data, Length: 7452, dtype: datetime64[ns]"
      ]
     },
     "execution_count": 48,
     "metadata": {},
     "output_type": "execute_result"
    }
   ],
   "source": [
    "base['data']"
   ]
  },
  {
   "cell_type": "code",
   "execution_count": 49,
   "metadata": {},
   "outputs": [
    {
     "data": {
      "text/html": [
       "<div>\n",
       "<style scoped>\n",
       "    .dataframe tbody tr th:only-of-type {\n",
       "        vertical-align: middle;\n",
       "    }\n",
       "\n",
       "    .dataframe tbody tr th {\n",
       "        vertical-align: top;\n",
       "    }\n",
       "\n",
       "    .dataframe thead th {\n",
       "        text-align: right;\n",
       "    }\n",
       "</style>\n",
       "<table border=\"1\" class=\"dataframe\">\n",
       "  <thead>\n",
       "    <tr style=\"text-align: right;\">\n",
       "      <th></th>\n",
       "      <th>year</th>\n",
       "      <th>number</th>\n",
       "      <th>month</th>\n",
       "      <th>state</th>\n",
       "      <th>data</th>\n",
       "    </tr>\n",
       "  </thead>\n",
       "  <tbody>\n",
       "    <tr>\n",
       "      <th>7758</th>\n",
       "      <td>2016</td>\n",
       "      <td>115</td>\n",
       "      <td>Dezembro</td>\n",
       "      <td>Tocantins</td>\n",
       "      <td>2016-12-01</td>\n",
       "    </tr>\n",
       "    <tr>\n",
       "      <th>7759</th>\n",
       "      <td>2017</td>\n",
       "      <td>81</td>\n",
       "      <td>Dezembro</td>\n",
       "      <td>Tocantins</td>\n",
       "      <td>2017-12-01</td>\n",
       "    </tr>\n",
       "    <tr>\n",
       "      <th>7760</th>\n",
       "      <td>2018</td>\n",
       "      <td>166</td>\n",
       "      <td>Dezembro</td>\n",
       "      <td>Tocantins</td>\n",
       "      <td>2018-12-01</td>\n",
       "    </tr>\n",
       "    <tr>\n",
       "      <th>7761</th>\n",
       "      <td>2019</td>\n",
       "      <td>219</td>\n",
       "      <td>Dezembro</td>\n",
       "      <td>Tocantins</td>\n",
       "      <td>2019-12-01</td>\n",
       "    </tr>\n",
       "    <tr>\n",
       "      <th>7762</th>\n",
       "      <td>2020</td>\n",
       "      <td>211</td>\n",
       "      <td>Dezembro</td>\n",
       "      <td>Tocantins</td>\n",
       "      <td>2020-12-01</td>\n",
       "    </tr>\n",
       "  </tbody>\n",
       "</table>\n",
       "</div>"
      ],
      "text/plain": [
       "      year  number     month      state       data\n",
       "7758  2016     115  Dezembro  Tocantins 2016-12-01\n",
       "7759  2017      81  Dezembro  Tocantins 2017-12-01\n",
       "7760  2018     166  Dezembro  Tocantins 2018-12-01\n",
       "7761  2019     219  Dezembro  Tocantins 2019-12-01\n",
       "7762  2020     211  Dezembro  Tocantins 2020-12-01"
      ]
     },
     "execution_count": 49,
     "metadata": {},
     "output_type": "execute_result"
    }
   ],
   "source": [
    "base.tail(5)"
   ]
  },
  {
   "cell_type": "code",
   "execution_count": 50,
   "metadata": {},
   "outputs": [
    {
     "name": "stdout",
     "output_type": "stream",
     "text": [
      "<class 'pandas.core.frame.DataFrame'>\n",
      "Int64Index: 7452 entries, 0 to 7762\n",
      "Data columns (total 5 columns):\n",
      " #   Column  Non-Null Count  Dtype         \n",
      "---  ------  --------------  -----         \n",
      " 0   year    7452 non-null   int64         \n",
      " 1   number  7452 non-null   int64         \n",
      " 2   month   7452 non-null   object        \n",
      " 3   state   7452 non-null   object        \n",
      " 4   data    7452 non-null   datetime64[ns]\n",
      "dtypes: datetime64[ns](1), int64(2), object(2)\n",
      "memory usage: 349.3+ KB\n"
     ]
    }
   ],
   "source": [
    "# Informações sobre os dados\n",
    "base.info()"
   ]
  },
  {
   "cell_type": "code",
   "execution_count": 51,
   "metadata": {},
   "outputs": [
    {
     "data": {
      "text/html": [
       "<div>\n",
       "<style scoped>\n",
       "    .dataframe tbody tr th:only-of-type {\n",
       "        vertical-align: middle;\n",
       "    }\n",
       "\n",
       "    .dataframe tbody tr th {\n",
       "        vertical-align: top;\n",
       "    }\n",
       "\n",
       "    .dataframe thead th {\n",
       "        text-align: right;\n",
       "    }\n",
       "</style>\n",
       "<table border=\"1\" class=\"dataframe\">\n",
       "  <thead>\n",
       "    <tr style=\"text-align: right;\">\n",
       "      <th></th>\n",
       "      <th>year</th>\n",
       "      <th>number</th>\n",
       "    </tr>\n",
       "  </thead>\n",
       "  <tbody>\n",
       "    <tr>\n",
       "      <th>count</th>\n",
       "      <td>7452.000000</td>\n",
       "      <td>7452.000000</td>\n",
       "    </tr>\n",
       "    <tr>\n",
       "      <th>mean</th>\n",
       "      <td>2009.000000</td>\n",
       "      <td>681.952630</td>\n",
       "    </tr>\n",
       "    <tr>\n",
       "      <th>std</th>\n",
       "      <td>6.633695</td>\n",
       "      <td>1968.740691</td>\n",
       "    </tr>\n",
       "    <tr>\n",
       "      <th>min</th>\n",
       "      <td>1998.000000</td>\n",
       "      <td>0.000000</td>\n",
       "    </tr>\n",
       "    <tr>\n",
       "      <th>25%</th>\n",
       "      <td>2003.000000</td>\n",
       "      <td>12.000000</td>\n",
       "    </tr>\n",
       "    <tr>\n",
       "      <th>50%</th>\n",
       "      <td>2009.000000</td>\n",
       "      <td>76.000000</td>\n",
       "    </tr>\n",
       "    <tr>\n",
       "      <th>75%</th>\n",
       "      <td>2015.000000</td>\n",
       "      <td>395.250000</td>\n",
       "    </tr>\n",
       "    <tr>\n",
       "      <th>max</th>\n",
       "      <td>2020.000000</td>\n",
       "      <td>37231.000000</td>\n",
       "    </tr>\n",
       "  </tbody>\n",
       "</table>\n",
       "</div>"
      ],
      "text/plain": [
       "              year        number\n",
       "count  7452.000000   7452.000000\n",
       "mean   2009.000000    681.952630\n",
       "std       6.633695   1968.740691\n",
       "min    1998.000000      0.000000\n",
       "25%    2003.000000     12.000000\n",
       "50%    2009.000000     76.000000\n",
       "75%    2015.000000    395.250000\n",
       "max    2020.000000  37231.000000"
      ]
     },
     "execution_count": 51,
     "metadata": {},
     "output_type": "execute_result"
    }
   ],
   "source": [
    "base.describe()"
   ]
  },
  {
   "cell_type": "code",
   "execution_count": 52,
   "metadata": {},
   "outputs": [
    {
     "data": {
      "text/plain": [
       "37231"
      ]
     },
     "execution_count": 52,
     "metadata": {},
     "output_type": "execute_result"
    }
   ],
   "source": [
    "base['number'].max()"
   ]
  },
  {
   "cell_type": "code",
   "execution_count": 57,
   "metadata": {},
   "outputs": [],
   "source": [
    "# Função para Série Temporal\n",
    "\n",
    "def plot_forest_fires_timeline(df, title_graph):\n",
    "    \n",
    "    dataTemp = df.groupby(['year']).agg({'number': 'sum'}).reset_index()\n",
    "    \n",
    "    dataTemp['3-years-SMA'] = dataTemp['number'].rolling(window=3).mean()\n",
    "    \n",
    "    graph = go.Scatter(x = dataTemp['year'],\n",
    "                    y = dataTemp['number'],\n",
    "                    text = dataTemp['number'],\n",
    "                    mode = 'markers+lines+text',\n",
    "                    name = 'Focos de Calor',\n",
    "                    textposition= 'top center'\n",
    "                    )\n",
    "    \n",
    "    graph_sma = go.Scatter(x = dataTemp['year'],\n",
    "                    y = dataTemp['3-years-SMA'],\n",
    "                    mode = 'markers+lines',\n",
    "                    name = 'Média Móvel do Triênio'\n",
    "                    )\n",
    "    \n",
    "    data = [graph, graph_sma]\n",
    "\n",
    "    layout = go.Layout(title = title_graph,\n",
    "                      xaxis = {'title': 'Ano'},\n",
    "                      yaxis = {'title': 'Número de Focos de Calor'},\n",
    "                      height=450, \n",
    "                      width=1000,\n",
    "                      legend=dict(\n",
    "                        yanchor=\"top\",\n",
    "                        y= 0.95,\n",
    "                        xanchor=\"right\",\n",
    "                        x=0.98,\n",
    "                        bgcolor='rgba(255, 255, 255, 0)'\n",
    "                      ))\n",
    "            \n",
    "    fig = go.Figure(data=data, layout=layout)\n",
    "    \n",
    "    return py.iplot(fig)\n",
    "    "
   ]
  },
  {
   "cell_type": "code",
   "execution_count": 58,
   "metadata": {},
   "outputs": [
    {
     "data": {
      "application/vnd.plotly.v1+json": {
       "config": {
        "linkText": "Export to plot.ly",
        "plotlyServerURL": "https://plot.ly",
        "showLink": false
       },
       "data": [
        {
         "mode": "markers+lines+text",
         "name": "Focos de Calor",
         "text": [
          123896,
          134612,
          101530,
          145484,
          321416,
          341239,
          380446,
          362566,
          249184,
          393915,
          211933,
          155104,
          319384,
          158102,
          217238,
          128149,
          175900,
          216782,
          184218,
          207511,
          132872,
          197632,
          222798
         ],
         "textposition": "top center",
         "type": "scatter",
         "x": [
          1998,
          1999,
          2000,
          2001,
          2002,
          2003,
          2004,
          2005,
          2006,
          2007,
          2008,
          2009,
          2010,
          2011,
          2012,
          2013,
          2014,
          2015,
          2016,
          2017,
          2018,
          2019,
          2020
         ],
         "y": [
          123896,
          134612,
          101530,
          145484,
          321416,
          341239,
          380446,
          362566,
          249184,
          393915,
          211933,
          155104,
          319384,
          158102,
          217238,
          128149,
          175900,
          216782,
          184218,
          207511,
          132872,
          197632,
          222798
         ]
        },
        {
         "mode": "markers+lines",
         "name": "Média Móvel do Triênio",
         "type": "scatter",
         "x": [
          1998,
          1999,
          2000,
          2001,
          2002,
          2003,
          2004,
          2005,
          2006,
          2007,
          2008,
          2009,
          2010,
          2011,
          2012,
          2013,
          2014,
          2015,
          2016,
          2017,
          2018,
          2019,
          2020
         ],
         "y": [
          null,
          null,
          120012.66666666667,
          127208.66666666667,
          189476.66666666666,
          269379.6666666667,
          347700.3333333333,
          361417,
          330732,
          335221.6666666667,
          285010.6666666667,
          253650.66666666666,
          228807,
          210863.33333333334,
          231574.66666666666,
          167829.66666666666,
          173762.33333333334,
          173610.33333333334,
          192300,
          202837,
          174867,
          179338.33333333334,
          184434
         ]
        }
       ],
       "layout": {
        "height": 450,
        "legend": {
         "bgcolor": "rgba(255, 255, 255, 0)",
         "x": 0.98,
         "xanchor": "right",
         "y": 0.95,
         "yanchor": "top"
        },
        "template": {
         "data": {
          "bar": [
           {
            "error_x": {
             "color": "#2a3f5f"
            },
            "error_y": {
             "color": "#2a3f5f"
            },
            "marker": {
             "line": {
              "color": "#E5ECF6",
              "width": 0.5
             }
            },
            "type": "bar"
           }
          ],
          "barpolar": [
           {
            "marker": {
             "line": {
              "color": "#E5ECF6",
              "width": 0.5
             }
            },
            "type": "barpolar"
           }
          ],
          "carpet": [
           {
            "aaxis": {
             "endlinecolor": "#2a3f5f",
             "gridcolor": "white",
             "linecolor": "white",
             "minorgridcolor": "white",
             "startlinecolor": "#2a3f5f"
            },
            "baxis": {
             "endlinecolor": "#2a3f5f",
             "gridcolor": "white",
             "linecolor": "white",
             "minorgridcolor": "white",
             "startlinecolor": "#2a3f5f"
            },
            "type": "carpet"
           }
          ],
          "choropleth": [
           {
            "colorbar": {
             "outlinewidth": 0,
             "ticks": ""
            },
            "type": "choropleth"
           }
          ],
          "contour": [
           {
            "colorbar": {
             "outlinewidth": 0,
             "ticks": ""
            },
            "colorscale": [
             [
              0,
              "#0d0887"
             ],
             [
              0.1111111111111111,
              "#46039f"
             ],
             [
              0.2222222222222222,
              "#7201a8"
             ],
             [
              0.3333333333333333,
              "#9c179e"
             ],
             [
              0.4444444444444444,
              "#bd3786"
             ],
             [
              0.5555555555555556,
              "#d8576b"
             ],
             [
              0.6666666666666666,
              "#ed7953"
             ],
             [
              0.7777777777777778,
              "#fb9f3a"
             ],
             [
              0.8888888888888888,
              "#fdca26"
             ],
             [
              1,
              "#f0f921"
             ]
            ],
            "type": "contour"
           }
          ],
          "contourcarpet": [
           {
            "colorbar": {
             "outlinewidth": 0,
             "ticks": ""
            },
            "type": "contourcarpet"
           }
          ],
          "heatmap": [
           {
            "colorbar": {
             "outlinewidth": 0,
             "ticks": ""
            },
            "colorscale": [
             [
              0,
              "#0d0887"
             ],
             [
              0.1111111111111111,
              "#46039f"
             ],
             [
              0.2222222222222222,
              "#7201a8"
             ],
             [
              0.3333333333333333,
              "#9c179e"
             ],
             [
              0.4444444444444444,
              "#bd3786"
             ],
             [
              0.5555555555555556,
              "#d8576b"
             ],
             [
              0.6666666666666666,
              "#ed7953"
             ],
             [
              0.7777777777777778,
              "#fb9f3a"
             ],
             [
              0.8888888888888888,
              "#fdca26"
             ],
             [
              1,
              "#f0f921"
             ]
            ],
            "type": "heatmap"
           }
          ],
          "heatmapgl": [
           {
            "colorbar": {
             "outlinewidth": 0,
             "ticks": ""
            },
            "colorscale": [
             [
              0,
              "#0d0887"
             ],
             [
              0.1111111111111111,
              "#46039f"
             ],
             [
              0.2222222222222222,
              "#7201a8"
             ],
             [
              0.3333333333333333,
              "#9c179e"
             ],
             [
              0.4444444444444444,
              "#bd3786"
             ],
             [
              0.5555555555555556,
              "#d8576b"
             ],
             [
              0.6666666666666666,
              "#ed7953"
             ],
             [
              0.7777777777777778,
              "#fb9f3a"
             ],
             [
              0.8888888888888888,
              "#fdca26"
             ],
             [
              1,
              "#f0f921"
             ]
            ],
            "type": "heatmapgl"
           }
          ],
          "histogram": [
           {
            "marker": {
             "colorbar": {
              "outlinewidth": 0,
              "ticks": ""
             }
            },
            "type": "histogram"
           }
          ],
          "histogram2d": [
           {
            "colorbar": {
             "outlinewidth": 0,
             "ticks": ""
            },
            "colorscale": [
             [
              0,
              "#0d0887"
             ],
             [
              0.1111111111111111,
              "#46039f"
             ],
             [
              0.2222222222222222,
              "#7201a8"
             ],
             [
              0.3333333333333333,
              "#9c179e"
             ],
             [
              0.4444444444444444,
              "#bd3786"
             ],
             [
              0.5555555555555556,
              "#d8576b"
             ],
             [
              0.6666666666666666,
              "#ed7953"
             ],
             [
              0.7777777777777778,
              "#fb9f3a"
             ],
             [
              0.8888888888888888,
              "#fdca26"
             ],
             [
              1,
              "#f0f921"
             ]
            ],
            "type": "histogram2d"
           }
          ],
          "histogram2dcontour": [
           {
            "colorbar": {
             "outlinewidth": 0,
             "ticks": ""
            },
            "colorscale": [
             [
              0,
              "#0d0887"
             ],
             [
              0.1111111111111111,
              "#46039f"
             ],
             [
              0.2222222222222222,
              "#7201a8"
             ],
             [
              0.3333333333333333,
              "#9c179e"
             ],
             [
              0.4444444444444444,
              "#bd3786"
             ],
             [
              0.5555555555555556,
              "#d8576b"
             ],
             [
              0.6666666666666666,
              "#ed7953"
             ],
             [
              0.7777777777777778,
              "#fb9f3a"
             ],
             [
              0.8888888888888888,
              "#fdca26"
             ],
             [
              1,
              "#f0f921"
             ]
            ],
            "type": "histogram2dcontour"
           }
          ],
          "mesh3d": [
           {
            "colorbar": {
             "outlinewidth": 0,
             "ticks": ""
            },
            "type": "mesh3d"
           }
          ],
          "parcoords": [
           {
            "line": {
             "colorbar": {
              "outlinewidth": 0,
              "ticks": ""
             }
            },
            "type": "parcoords"
           }
          ],
          "pie": [
           {
            "automargin": true,
            "type": "pie"
           }
          ],
          "scatter": [
           {
            "marker": {
             "colorbar": {
              "outlinewidth": 0,
              "ticks": ""
             }
            },
            "type": "scatter"
           }
          ],
          "scatter3d": [
           {
            "line": {
             "colorbar": {
              "outlinewidth": 0,
              "ticks": ""
             }
            },
            "marker": {
             "colorbar": {
              "outlinewidth": 0,
              "ticks": ""
             }
            },
            "type": "scatter3d"
           }
          ],
          "scattercarpet": [
           {
            "marker": {
             "colorbar": {
              "outlinewidth": 0,
              "ticks": ""
             }
            },
            "type": "scattercarpet"
           }
          ],
          "scattergeo": [
           {
            "marker": {
             "colorbar": {
              "outlinewidth": 0,
              "ticks": ""
             }
            },
            "type": "scattergeo"
           }
          ],
          "scattergl": [
           {
            "marker": {
             "colorbar": {
              "outlinewidth": 0,
              "ticks": ""
             }
            },
            "type": "scattergl"
           }
          ],
          "scattermapbox": [
           {
            "marker": {
             "colorbar": {
              "outlinewidth": 0,
              "ticks": ""
             }
            },
            "type": "scattermapbox"
           }
          ],
          "scatterpolar": [
           {
            "marker": {
             "colorbar": {
              "outlinewidth": 0,
              "ticks": ""
             }
            },
            "type": "scatterpolar"
           }
          ],
          "scatterpolargl": [
           {
            "marker": {
             "colorbar": {
              "outlinewidth": 0,
              "ticks": ""
             }
            },
            "type": "scatterpolargl"
           }
          ],
          "scatterternary": [
           {
            "marker": {
             "colorbar": {
              "outlinewidth": 0,
              "ticks": ""
             }
            },
            "type": "scatterternary"
           }
          ],
          "surface": [
           {
            "colorbar": {
             "outlinewidth": 0,
             "ticks": ""
            },
            "colorscale": [
             [
              0,
              "#0d0887"
             ],
             [
              0.1111111111111111,
              "#46039f"
             ],
             [
              0.2222222222222222,
              "#7201a8"
             ],
             [
              0.3333333333333333,
              "#9c179e"
             ],
             [
              0.4444444444444444,
              "#bd3786"
             ],
             [
              0.5555555555555556,
              "#d8576b"
             ],
             [
              0.6666666666666666,
              "#ed7953"
             ],
             [
              0.7777777777777778,
              "#fb9f3a"
             ],
             [
              0.8888888888888888,
              "#fdca26"
             ],
             [
              1,
              "#f0f921"
             ]
            ],
            "type": "surface"
           }
          ],
          "table": [
           {
            "cells": {
             "fill": {
              "color": "#EBF0F8"
             },
             "line": {
              "color": "white"
             }
            },
            "header": {
             "fill": {
              "color": "#C8D4E3"
             },
             "line": {
              "color": "white"
             }
            },
            "type": "table"
           }
          ]
         },
         "layout": {
          "annotationdefaults": {
           "arrowcolor": "#2a3f5f",
           "arrowhead": 0,
           "arrowwidth": 1
          },
          "autotypenumbers": "strict",
          "coloraxis": {
           "colorbar": {
            "outlinewidth": 0,
            "ticks": ""
           }
          },
          "colorscale": {
           "diverging": [
            [
             0,
             "#8e0152"
            ],
            [
             0.1,
             "#c51b7d"
            ],
            [
             0.2,
             "#de77ae"
            ],
            [
             0.3,
             "#f1b6da"
            ],
            [
             0.4,
             "#fde0ef"
            ],
            [
             0.5,
             "#f7f7f7"
            ],
            [
             0.6,
             "#e6f5d0"
            ],
            [
             0.7,
             "#b8e186"
            ],
            [
             0.8,
             "#7fbc41"
            ],
            [
             0.9,
             "#4d9221"
            ],
            [
             1,
             "#276419"
            ]
           ],
           "sequential": [
            [
             0,
             "#0d0887"
            ],
            [
             0.1111111111111111,
             "#46039f"
            ],
            [
             0.2222222222222222,
             "#7201a8"
            ],
            [
             0.3333333333333333,
             "#9c179e"
            ],
            [
             0.4444444444444444,
             "#bd3786"
            ],
            [
             0.5555555555555556,
             "#d8576b"
            ],
            [
             0.6666666666666666,
             "#ed7953"
            ],
            [
             0.7777777777777778,
             "#fb9f3a"
            ],
            [
             0.8888888888888888,
             "#fdca26"
            ],
            [
             1,
             "#f0f921"
            ]
           ],
           "sequentialminus": [
            [
             0,
             "#0d0887"
            ],
            [
             0.1111111111111111,
             "#46039f"
            ],
            [
             0.2222222222222222,
             "#7201a8"
            ],
            [
             0.3333333333333333,
             "#9c179e"
            ],
            [
             0.4444444444444444,
             "#bd3786"
            ],
            [
             0.5555555555555556,
             "#d8576b"
            ],
            [
             0.6666666666666666,
             "#ed7953"
            ],
            [
             0.7777777777777778,
             "#fb9f3a"
            ],
            [
             0.8888888888888888,
             "#fdca26"
            ],
            [
             1,
             "#f0f921"
            ]
           ]
          },
          "colorway": [
           "#636efa",
           "#EF553B",
           "#00cc96",
           "#ab63fa",
           "#FFA15A",
           "#19d3f3",
           "#FF6692",
           "#B6E880",
           "#FF97FF",
           "#FECB52"
          ],
          "font": {
           "color": "#2a3f5f"
          },
          "geo": {
           "bgcolor": "white",
           "lakecolor": "white",
           "landcolor": "#E5ECF6",
           "showlakes": true,
           "showland": true,
           "subunitcolor": "white"
          },
          "hoverlabel": {
           "align": "left"
          },
          "hovermode": "closest",
          "mapbox": {
           "style": "light"
          },
          "paper_bgcolor": "white",
          "plot_bgcolor": "#E5ECF6",
          "polar": {
           "angularaxis": {
            "gridcolor": "white",
            "linecolor": "white",
            "ticks": ""
           },
           "bgcolor": "#E5ECF6",
           "radialaxis": {
            "gridcolor": "white",
            "linecolor": "white",
            "ticks": ""
           }
          },
          "scene": {
           "xaxis": {
            "backgroundcolor": "#E5ECF6",
            "gridcolor": "white",
            "gridwidth": 2,
            "linecolor": "white",
            "showbackground": true,
            "ticks": "",
            "zerolinecolor": "white"
           },
           "yaxis": {
            "backgroundcolor": "#E5ECF6",
            "gridcolor": "white",
            "gridwidth": 2,
            "linecolor": "white",
            "showbackground": true,
            "ticks": "",
            "zerolinecolor": "white"
           },
           "zaxis": {
            "backgroundcolor": "#E5ECF6",
            "gridcolor": "white",
            "gridwidth": 2,
            "linecolor": "white",
            "showbackground": true,
            "ticks": "",
            "zerolinecolor": "white"
           }
          },
          "shapedefaults": {
           "line": {
            "color": "#2a3f5f"
           }
          },
          "ternary": {
           "aaxis": {
            "gridcolor": "white",
            "linecolor": "white",
            "ticks": ""
           },
           "baxis": {
            "gridcolor": "white",
            "linecolor": "white",
            "ticks": ""
           },
           "bgcolor": "#E5ECF6",
           "caxis": {
            "gridcolor": "white",
            "linecolor": "white",
            "ticks": ""
           }
          },
          "title": {
           "x": 0.05
          },
          "xaxis": {
           "automargin": true,
           "gridcolor": "white",
           "linecolor": "white",
           "ticks": "",
           "title": {
            "standoff": 15
           },
           "zerolinecolor": "white",
           "zerolinewidth": 2
          },
          "yaxis": {
           "automargin": true,
           "gridcolor": "white",
           "linecolor": "white",
           "ticks": "",
           "title": {
            "standoff": 15
           },
           "zerolinecolor": "white",
           "zerolinewidth": 2
          }
         }
        },
        "title": {
         "text": "Série Temporal dos Focos de Calor"
        },
        "width": 1000,
        "xaxis": {
         "title": {
          "text": "Ano"
         }
        },
        "yaxis": {
         "title": {
          "text": "Número de Focos de Calor"
         }
        }
       }
      },
      "text/html": [
       "<div>                            <div id=\"8ecc1613-f14f-4530-8eab-4812770a80fb\" class=\"plotly-graph-div\" style=\"height:450px; width:1000px;\"></div>            <script type=\"text/javascript\">                require([\"plotly\"], function(Plotly) {                    window.PLOTLYENV=window.PLOTLYENV || {};                                    if (document.getElementById(\"8ecc1613-f14f-4530-8eab-4812770a80fb\")) {                    Plotly.newPlot(                        \"8ecc1613-f14f-4530-8eab-4812770a80fb\",                        [{\"mode\": \"markers+lines+text\", \"name\": \"Focos de Calor\", \"text\": [123896.0, 134612.0, 101530.0, 145484.0, 321416.0, 341239.0, 380446.0, 362566.0, 249184.0, 393915.0, 211933.0, 155104.0, 319384.0, 158102.0, 217238.0, 128149.0, 175900.0, 216782.0, 184218.0, 207511.0, 132872.0, 197632.0, 222798.0], \"textposition\": \"top center\", \"type\": \"scatter\", \"x\": [1998, 1999, 2000, 2001, 2002, 2003, 2004, 2005, 2006, 2007, 2008, 2009, 2010, 2011, 2012, 2013, 2014, 2015, 2016, 2017, 2018, 2019, 2020], \"y\": [123896, 134612, 101530, 145484, 321416, 341239, 380446, 362566, 249184, 393915, 211933, 155104, 319384, 158102, 217238, 128149, 175900, 216782, 184218, 207511, 132872, 197632, 222798]}, {\"mode\": \"markers+lines\", \"name\": \"M\\u00e9dia M\\u00f3vel do Tri\\u00eanio\", \"type\": \"scatter\", \"x\": [1998, 1999, 2000, 2001, 2002, 2003, 2004, 2005, 2006, 2007, 2008, 2009, 2010, 2011, 2012, 2013, 2014, 2015, 2016, 2017, 2018, 2019, 2020], \"y\": [null, null, 120012.66666666667, 127208.66666666667, 189476.66666666666, 269379.6666666667, 347700.3333333333, 361417.0, 330732.0, 335221.6666666667, 285010.6666666667, 253650.66666666666, 228807.0, 210863.33333333334, 231574.66666666666, 167829.66666666666, 173762.33333333334, 173610.33333333334, 192300.0, 202837.0, 174867.0, 179338.33333333334, 184434.0]}],                        {\"height\": 450, \"legend\": {\"bgcolor\": \"rgba(255, 255, 255, 0)\", \"x\": 0.98, \"xanchor\": \"right\", \"y\": 0.95, \"yanchor\": \"top\"}, \"template\": {\"data\": {\"bar\": [{\"error_x\": {\"color\": \"#2a3f5f\"}, \"error_y\": {\"color\": \"#2a3f5f\"}, \"marker\": {\"line\": {\"color\": \"#E5ECF6\", \"width\": 0.5}}, \"type\": \"bar\"}], \"barpolar\": [{\"marker\": {\"line\": {\"color\": \"#E5ECF6\", \"width\": 0.5}}, \"type\": \"barpolar\"}], \"carpet\": [{\"aaxis\": {\"endlinecolor\": \"#2a3f5f\", \"gridcolor\": \"white\", \"linecolor\": \"white\", \"minorgridcolor\": \"white\", \"startlinecolor\": \"#2a3f5f\"}, \"baxis\": {\"endlinecolor\": \"#2a3f5f\", \"gridcolor\": \"white\", \"linecolor\": \"white\", \"minorgridcolor\": \"white\", \"startlinecolor\": \"#2a3f5f\"}, \"type\": \"carpet\"}], \"choropleth\": [{\"colorbar\": {\"outlinewidth\": 0, \"ticks\": \"\"}, \"type\": \"choropleth\"}], \"contour\": [{\"colorbar\": {\"outlinewidth\": 0, \"ticks\": \"\"}, \"colorscale\": [[0.0, \"#0d0887\"], [0.1111111111111111, \"#46039f\"], [0.2222222222222222, \"#7201a8\"], [0.3333333333333333, \"#9c179e\"], [0.4444444444444444, \"#bd3786\"], [0.5555555555555556, \"#d8576b\"], [0.6666666666666666, \"#ed7953\"], [0.7777777777777778, \"#fb9f3a\"], [0.8888888888888888, \"#fdca26\"], [1.0, \"#f0f921\"]], \"type\": \"contour\"}], \"contourcarpet\": [{\"colorbar\": {\"outlinewidth\": 0, \"ticks\": \"\"}, \"type\": \"contourcarpet\"}], \"heatmap\": [{\"colorbar\": {\"outlinewidth\": 0, \"ticks\": \"\"}, \"colorscale\": [[0.0, \"#0d0887\"], [0.1111111111111111, \"#46039f\"], [0.2222222222222222, \"#7201a8\"], [0.3333333333333333, \"#9c179e\"], [0.4444444444444444, \"#bd3786\"], [0.5555555555555556, \"#d8576b\"], [0.6666666666666666, \"#ed7953\"], [0.7777777777777778, \"#fb9f3a\"], [0.8888888888888888, \"#fdca26\"], [1.0, \"#f0f921\"]], \"type\": \"heatmap\"}], \"heatmapgl\": [{\"colorbar\": {\"outlinewidth\": 0, \"ticks\": \"\"}, \"colorscale\": [[0.0, \"#0d0887\"], [0.1111111111111111, \"#46039f\"], [0.2222222222222222, \"#7201a8\"], [0.3333333333333333, \"#9c179e\"], [0.4444444444444444, \"#bd3786\"], [0.5555555555555556, \"#d8576b\"], [0.6666666666666666, \"#ed7953\"], [0.7777777777777778, \"#fb9f3a\"], [0.8888888888888888, \"#fdca26\"], [1.0, \"#f0f921\"]], \"type\": \"heatmapgl\"}], \"histogram\": [{\"marker\": {\"colorbar\": {\"outlinewidth\": 0, \"ticks\": \"\"}}, \"type\": \"histogram\"}], \"histogram2d\": [{\"colorbar\": {\"outlinewidth\": 0, \"ticks\": \"\"}, \"colorscale\": [[0.0, \"#0d0887\"], [0.1111111111111111, \"#46039f\"], [0.2222222222222222, \"#7201a8\"], [0.3333333333333333, \"#9c179e\"], [0.4444444444444444, \"#bd3786\"], [0.5555555555555556, \"#d8576b\"], [0.6666666666666666, \"#ed7953\"], [0.7777777777777778, \"#fb9f3a\"], [0.8888888888888888, \"#fdca26\"], [1.0, \"#f0f921\"]], \"type\": \"histogram2d\"}], \"histogram2dcontour\": [{\"colorbar\": {\"outlinewidth\": 0, \"ticks\": \"\"}, \"colorscale\": [[0.0, \"#0d0887\"], [0.1111111111111111, \"#46039f\"], [0.2222222222222222, \"#7201a8\"], [0.3333333333333333, \"#9c179e\"], [0.4444444444444444, \"#bd3786\"], [0.5555555555555556, \"#d8576b\"], [0.6666666666666666, \"#ed7953\"], [0.7777777777777778, \"#fb9f3a\"], [0.8888888888888888, \"#fdca26\"], [1.0, \"#f0f921\"]], \"type\": \"histogram2dcontour\"}], \"mesh3d\": [{\"colorbar\": {\"outlinewidth\": 0, \"ticks\": \"\"}, \"type\": \"mesh3d\"}], \"parcoords\": [{\"line\": {\"colorbar\": {\"outlinewidth\": 0, \"ticks\": \"\"}}, \"type\": \"parcoords\"}], \"pie\": [{\"automargin\": true, \"type\": \"pie\"}], \"scatter\": [{\"marker\": {\"colorbar\": {\"outlinewidth\": 0, \"ticks\": \"\"}}, \"type\": \"scatter\"}], \"scatter3d\": [{\"line\": {\"colorbar\": {\"outlinewidth\": 0, \"ticks\": \"\"}}, \"marker\": {\"colorbar\": {\"outlinewidth\": 0, \"ticks\": \"\"}}, \"type\": \"scatter3d\"}], \"scattercarpet\": [{\"marker\": {\"colorbar\": {\"outlinewidth\": 0, \"ticks\": \"\"}}, \"type\": \"scattercarpet\"}], \"scattergeo\": [{\"marker\": {\"colorbar\": {\"outlinewidth\": 0, \"ticks\": \"\"}}, \"type\": \"scattergeo\"}], \"scattergl\": [{\"marker\": {\"colorbar\": {\"outlinewidth\": 0, \"ticks\": \"\"}}, \"type\": \"scattergl\"}], \"scattermapbox\": [{\"marker\": {\"colorbar\": {\"outlinewidth\": 0, \"ticks\": \"\"}}, \"type\": \"scattermapbox\"}], \"scatterpolar\": [{\"marker\": {\"colorbar\": {\"outlinewidth\": 0, \"ticks\": \"\"}}, \"type\": \"scatterpolar\"}], \"scatterpolargl\": [{\"marker\": {\"colorbar\": {\"outlinewidth\": 0, \"ticks\": \"\"}}, \"type\": \"scatterpolargl\"}], \"scatterternary\": [{\"marker\": {\"colorbar\": {\"outlinewidth\": 0, \"ticks\": \"\"}}, \"type\": \"scatterternary\"}], \"surface\": [{\"colorbar\": {\"outlinewidth\": 0, \"ticks\": \"\"}, \"colorscale\": [[0.0, \"#0d0887\"], [0.1111111111111111, \"#46039f\"], [0.2222222222222222, \"#7201a8\"], [0.3333333333333333, \"#9c179e\"], [0.4444444444444444, \"#bd3786\"], [0.5555555555555556, \"#d8576b\"], [0.6666666666666666, \"#ed7953\"], [0.7777777777777778, \"#fb9f3a\"], [0.8888888888888888, \"#fdca26\"], [1.0, \"#f0f921\"]], \"type\": \"surface\"}], \"table\": [{\"cells\": {\"fill\": {\"color\": \"#EBF0F8\"}, \"line\": {\"color\": \"white\"}}, \"header\": {\"fill\": {\"color\": \"#C8D4E3\"}, \"line\": {\"color\": \"white\"}}, \"type\": \"table\"}]}, \"layout\": {\"annotationdefaults\": {\"arrowcolor\": \"#2a3f5f\", \"arrowhead\": 0, \"arrowwidth\": 1}, \"autotypenumbers\": \"strict\", \"coloraxis\": {\"colorbar\": {\"outlinewidth\": 0, \"ticks\": \"\"}}, \"colorscale\": {\"diverging\": [[0, \"#8e0152\"], [0.1, \"#c51b7d\"], [0.2, \"#de77ae\"], [0.3, \"#f1b6da\"], [0.4, \"#fde0ef\"], [0.5, \"#f7f7f7\"], [0.6, \"#e6f5d0\"], [0.7, \"#b8e186\"], [0.8, \"#7fbc41\"], [0.9, \"#4d9221\"], [1, \"#276419\"]], \"sequential\": [[0.0, \"#0d0887\"], [0.1111111111111111, \"#46039f\"], [0.2222222222222222, \"#7201a8\"], [0.3333333333333333, \"#9c179e\"], [0.4444444444444444, \"#bd3786\"], [0.5555555555555556, \"#d8576b\"], [0.6666666666666666, \"#ed7953\"], [0.7777777777777778, \"#fb9f3a\"], [0.8888888888888888, \"#fdca26\"], [1.0, \"#f0f921\"]], \"sequentialminus\": [[0.0, \"#0d0887\"], [0.1111111111111111, \"#46039f\"], [0.2222222222222222, \"#7201a8\"], [0.3333333333333333, \"#9c179e\"], [0.4444444444444444, \"#bd3786\"], [0.5555555555555556, \"#d8576b\"], [0.6666666666666666, \"#ed7953\"], [0.7777777777777778, \"#fb9f3a\"], [0.8888888888888888, \"#fdca26\"], [1.0, \"#f0f921\"]]}, \"colorway\": [\"#636efa\", \"#EF553B\", \"#00cc96\", \"#ab63fa\", \"#FFA15A\", \"#19d3f3\", \"#FF6692\", \"#B6E880\", \"#FF97FF\", \"#FECB52\"], \"font\": {\"color\": \"#2a3f5f\"}, \"geo\": {\"bgcolor\": \"white\", \"lakecolor\": \"white\", \"landcolor\": \"#E5ECF6\", \"showlakes\": true, \"showland\": true, \"subunitcolor\": \"white\"}, \"hoverlabel\": {\"align\": \"left\"}, \"hovermode\": \"closest\", \"mapbox\": {\"style\": \"light\"}, \"paper_bgcolor\": \"white\", \"plot_bgcolor\": \"#E5ECF6\", \"polar\": {\"angularaxis\": {\"gridcolor\": \"white\", \"linecolor\": \"white\", \"ticks\": \"\"}, \"bgcolor\": \"#E5ECF6\", \"radialaxis\": {\"gridcolor\": \"white\", \"linecolor\": \"white\", \"ticks\": \"\"}}, \"scene\": {\"xaxis\": {\"backgroundcolor\": \"#E5ECF6\", \"gridcolor\": \"white\", \"gridwidth\": 2, \"linecolor\": \"white\", \"showbackground\": true, \"ticks\": \"\", \"zerolinecolor\": \"white\"}, \"yaxis\": {\"backgroundcolor\": \"#E5ECF6\", \"gridcolor\": \"white\", \"gridwidth\": 2, \"linecolor\": \"white\", \"showbackground\": true, \"ticks\": \"\", \"zerolinecolor\": \"white\"}, \"zaxis\": {\"backgroundcolor\": \"#E5ECF6\", \"gridcolor\": \"white\", \"gridwidth\": 2, \"linecolor\": \"white\", \"showbackground\": true, \"ticks\": \"\", \"zerolinecolor\": \"white\"}}, \"shapedefaults\": {\"line\": {\"color\": \"#2a3f5f\"}}, \"ternary\": {\"aaxis\": {\"gridcolor\": \"white\", \"linecolor\": \"white\", \"ticks\": \"\"}, \"baxis\": {\"gridcolor\": \"white\", \"linecolor\": \"white\", \"ticks\": \"\"}, \"bgcolor\": \"#E5ECF6\", \"caxis\": {\"gridcolor\": \"white\", \"linecolor\": \"white\", \"ticks\": \"\"}}, \"title\": {\"x\": 0.05}, \"xaxis\": {\"automargin\": true, \"gridcolor\": \"white\", \"linecolor\": \"white\", \"ticks\": \"\", \"title\": {\"standoff\": 15}, \"zerolinecolor\": \"white\", \"zerolinewidth\": 2}, \"yaxis\": {\"automargin\": true, \"gridcolor\": \"white\", \"linecolor\": \"white\", \"ticks\": \"\", \"title\": {\"standoff\": 15}, \"zerolinecolor\": \"white\", \"zerolinewidth\": 2}}}, \"title\": {\"text\": \"S\\u00e9rie Temporal dos Focos de Calor\"}, \"width\": 1000, \"xaxis\": {\"title\": {\"text\": \"Ano\"}}, \"yaxis\": {\"title\": {\"text\": \"N\\u00famero de Focos de Calor\"}}},                        {\"responsive\": true}                    ).then(function(){\n",
       "                            \n",
       "var gd = document.getElementById('8ecc1613-f14f-4530-8eab-4812770a80fb');\n",
       "var x = new MutationObserver(function (mutations, observer) {{\n",
       "        var display = window.getComputedStyle(gd).display;\n",
       "        if (!display || display === 'none') {{\n",
       "            console.log([gd, 'removed!']);\n",
       "            Plotly.purge(gd);\n",
       "            observer.disconnect();\n",
       "        }}\n",
       "}});\n",
       "\n",
       "// Listen for the removal of the full notebook cells\n",
       "var notebookContainer = gd.closest('#notebook-container');\n",
       "if (notebookContainer) {{\n",
       "    x.observe(notebookContainer, {childList: true});\n",
       "}}\n",
       "\n",
       "// Listen for the clearing of the current output cell\n",
       "var outputEl = gd.closest('.output');\n",
       "if (outputEl) {{\n",
       "    x.observe(outputEl, {childList: true});\n",
       "}}\n",
       "\n",
       "                        })                };                });            </script>        </div>"
      ]
     },
     "metadata": {},
     "output_type": "display_data"
    }
   ],
   "source": [
    "plot_forest_fires_timeline(base, 'Série Temporal dos Focos de Calor')"
   ]
  },
  {
   "cell_type": "code",
   "execution_count": 59,
   "metadata": {},
   "outputs": [],
   "source": [
    "# Função para Gráfico de Barras\n",
    "\n",
    "def plot_forest_fires_state(df, title_graph, modeGraphBar):\n",
    "    \n",
    "    dataTemp = df.groupby(['state']).agg({'number': 'sum'}).sort_values(\n",
    "        by=['state']).reset_index()\n",
    "    \n",
    "    if modeGraphBar:\n",
    "        graph = go.Bar(x = dataTemp['state'],\n",
    "                    y = dataTemp['number'],\n",
    "                    text = dataTemp['number'],\n",
    "                    textposition='auto'\n",
    "                    )\n",
    "    else:\n",
    "        graph = go.Scatter(x = dataTemp['state'],\n",
    "                    y = dataTemp['number'],\n",
    "                    mode = 'markers',\n",
    "                    marker=dict(\n",
    "                        size=dataTemp['number']/100,\n",
    "                        sizemode='area',\n",
    "                        color='rgb(255, 65, 54)',\n",
    "                        sizemin=4,\n",
    "                        line_width=2\n",
    "                        )\n",
    "                    )    \n",
    "    \n",
    "    data = [graph]\n",
    "\n",
    "    layout = go.Layout(title = title_graph,\n",
    "                      xaxis = {'title': 'Estado'},\n",
    "                      yaxis = {'title': 'Número de Focos de Calor'},\n",
    "                      height=600, \n",
    "                      width=1000)\n",
    "            \n",
    "    fig = go.Figure(data=data, layout=layout)\n",
    "    \n",
    "    return py.iplot(fig)"
   ]
  },
  {
   "cell_type": "code",
   "execution_count": 60,
   "metadata": {},
   "outputs": [
    {
     "data": {
      "application/vnd.plotly.v1+json": {
       "config": {
        "linkText": "Export to plot.ly",
        "plotlyServerURL": "https://plot.ly",
        "showLink": false
       },
       "data": [
        {
         "text": [
          135150,
          5832,
          39303,
          204356,
          280255,
          120100,
          4523,
          9017,
          144068,
          549287,
          945482,
          160632,
          226232,
          88882,
          17606,
          955027,
          29873,
          228033,
          12940,
          58285,
          16054,
          348398,
          48562,
          52541,
          4091,
          90169,
          307213
         ],
         "textposition": "auto",
         "type": "bar",
         "x": [
          "Acre",
          "Alagoas",
          "Amapá",
          "Amazonas",
          "Bahia",
          "Ceará",
          "Distrito Federal",
          "Espírito Santo",
          "Goiás",
          "Maranhão",
          "Mato Grosso",
          "Mato Grosso do Sul",
          "Minas Gerais",
          "Paraná",
          "Paraíba",
          "Pará",
          "Pernambuco",
          "Piauí",
          "Rio Grande do Norte",
          "Rio Grande do Sul",
          "Rio de Janeiro",
          "Rondônia",
          "Roraima",
          "Santa Catarina",
          "Sergipe",
          "São Paulo",
          "Tocantins"
         ],
         "y": [
          135150,
          5832,
          39303,
          204356,
          280255,
          120100,
          4523,
          9017,
          144068,
          549287,
          945482,
          160632,
          226232,
          88882,
          17606,
          955027,
          29873,
          228033,
          12940,
          58285,
          16054,
          348398,
          48562,
          52541,
          4091,
          90169,
          307213
         ]
        }
       ],
       "layout": {
        "height": 600,
        "template": {
         "data": {
          "bar": [
           {
            "error_x": {
             "color": "#2a3f5f"
            },
            "error_y": {
             "color": "#2a3f5f"
            },
            "marker": {
             "line": {
              "color": "#E5ECF6",
              "width": 0.5
             }
            },
            "type": "bar"
           }
          ],
          "barpolar": [
           {
            "marker": {
             "line": {
              "color": "#E5ECF6",
              "width": 0.5
             }
            },
            "type": "barpolar"
           }
          ],
          "carpet": [
           {
            "aaxis": {
             "endlinecolor": "#2a3f5f",
             "gridcolor": "white",
             "linecolor": "white",
             "minorgridcolor": "white",
             "startlinecolor": "#2a3f5f"
            },
            "baxis": {
             "endlinecolor": "#2a3f5f",
             "gridcolor": "white",
             "linecolor": "white",
             "minorgridcolor": "white",
             "startlinecolor": "#2a3f5f"
            },
            "type": "carpet"
           }
          ],
          "choropleth": [
           {
            "colorbar": {
             "outlinewidth": 0,
             "ticks": ""
            },
            "type": "choropleth"
           }
          ],
          "contour": [
           {
            "colorbar": {
             "outlinewidth": 0,
             "ticks": ""
            },
            "colorscale": [
             [
              0,
              "#0d0887"
             ],
             [
              0.1111111111111111,
              "#46039f"
             ],
             [
              0.2222222222222222,
              "#7201a8"
             ],
             [
              0.3333333333333333,
              "#9c179e"
             ],
             [
              0.4444444444444444,
              "#bd3786"
             ],
             [
              0.5555555555555556,
              "#d8576b"
             ],
             [
              0.6666666666666666,
              "#ed7953"
             ],
             [
              0.7777777777777778,
              "#fb9f3a"
             ],
             [
              0.8888888888888888,
              "#fdca26"
             ],
             [
              1,
              "#f0f921"
             ]
            ],
            "type": "contour"
           }
          ],
          "contourcarpet": [
           {
            "colorbar": {
             "outlinewidth": 0,
             "ticks": ""
            },
            "type": "contourcarpet"
           }
          ],
          "heatmap": [
           {
            "colorbar": {
             "outlinewidth": 0,
             "ticks": ""
            },
            "colorscale": [
             [
              0,
              "#0d0887"
             ],
             [
              0.1111111111111111,
              "#46039f"
             ],
             [
              0.2222222222222222,
              "#7201a8"
             ],
             [
              0.3333333333333333,
              "#9c179e"
             ],
             [
              0.4444444444444444,
              "#bd3786"
             ],
             [
              0.5555555555555556,
              "#d8576b"
             ],
             [
              0.6666666666666666,
              "#ed7953"
             ],
             [
              0.7777777777777778,
              "#fb9f3a"
             ],
             [
              0.8888888888888888,
              "#fdca26"
             ],
             [
              1,
              "#f0f921"
             ]
            ],
            "type": "heatmap"
           }
          ],
          "heatmapgl": [
           {
            "colorbar": {
             "outlinewidth": 0,
             "ticks": ""
            },
            "colorscale": [
             [
              0,
              "#0d0887"
             ],
             [
              0.1111111111111111,
              "#46039f"
             ],
             [
              0.2222222222222222,
              "#7201a8"
             ],
             [
              0.3333333333333333,
              "#9c179e"
             ],
             [
              0.4444444444444444,
              "#bd3786"
             ],
             [
              0.5555555555555556,
              "#d8576b"
             ],
             [
              0.6666666666666666,
              "#ed7953"
             ],
             [
              0.7777777777777778,
              "#fb9f3a"
             ],
             [
              0.8888888888888888,
              "#fdca26"
             ],
             [
              1,
              "#f0f921"
             ]
            ],
            "type": "heatmapgl"
           }
          ],
          "histogram": [
           {
            "marker": {
             "colorbar": {
              "outlinewidth": 0,
              "ticks": ""
             }
            },
            "type": "histogram"
           }
          ],
          "histogram2d": [
           {
            "colorbar": {
             "outlinewidth": 0,
             "ticks": ""
            },
            "colorscale": [
             [
              0,
              "#0d0887"
             ],
             [
              0.1111111111111111,
              "#46039f"
             ],
             [
              0.2222222222222222,
              "#7201a8"
             ],
             [
              0.3333333333333333,
              "#9c179e"
             ],
             [
              0.4444444444444444,
              "#bd3786"
             ],
             [
              0.5555555555555556,
              "#d8576b"
             ],
             [
              0.6666666666666666,
              "#ed7953"
             ],
             [
              0.7777777777777778,
              "#fb9f3a"
             ],
             [
              0.8888888888888888,
              "#fdca26"
             ],
             [
              1,
              "#f0f921"
             ]
            ],
            "type": "histogram2d"
           }
          ],
          "histogram2dcontour": [
           {
            "colorbar": {
             "outlinewidth": 0,
             "ticks": ""
            },
            "colorscale": [
             [
              0,
              "#0d0887"
             ],
             [
              0.1111111111111111,
              "#46039f"
             ],
             [
              0.2222222222222222,
              "#7201a8"
             ],
             [
              0.3333333333333333,
              "#9c179e"
             ],
             [
              0.4444444444444444,
              "#bd3786"
             ],
             [
              0.5555555555555556,
              "#d8576b"
             ],
             [
              0.6666666666666666,
              "#ed7953"
             ],
             [
              0.7777777777777778,
              "#fb9f3a"
             ],
             [
              0.8888888888888888,
              "#fdca26"
             ],
             [
              1,
              "#f0f921"
             ]
            ],
            "type": "histogram2dcontour"
           }
          ],
          "mesh3d": [
           {
            "colorbar": {
             "outlinewidth": 0,
             "ticks": ""
            },
            "type": "mesh3d"
           }
          ],
          "parcoords": [
           {
            "line": {
             "colorbar": {
              "outlinewidth": 0,
              "ticks": ""
             }
            },
            "type": "parcoords"
           }
          ],
          "pie": [
           {
            "automargin": true,
            "type": "pie"
           }
          ],
          "scatter": [
           {
            "marker": {
             "colorbar": {
              "outlinewidth": 0,
              "ticks": ""
             }
            },
            "type": "scatter"
           }
          ],
          "scatter3d": [
           {
            "line": {
             "colorbar": {
              "outlinewidth": 0,
              "ticks": ""
             }
            },
            "marker": {
             "colorbar": {
              "outlinewidth": 0,
              "ticks": ""
             }
            },
            "type": "scatter3d"
           }
          ],
          "scattercarpet": [
           {
            "marker": {
             "colorbar": {
              "outlinewidth": 0,
              "ticks": ""
             }
            },
            "type": "scattercarpet"
           }
          ],
          "scattergeo": [
           {
            "marker": {
             "colorbar": {
              "outlinewidth": 0,
              "ticks": ""
             }
            },
            "type": "scattergeo"
           }
          ],
          "scattergl": [
           {
            "marker": {
             "colorbar": {
              "outlinewidth": 0,
              "ticks": ""
             }
            },
            "type": "scattergl"
           }
          ],
          "scattermapbox": [
           {
            "marker": {
             "colorbar": {
              "outlinewidth": 0,
              "ticks": ""
             }
            },
            "type": "scattermapbox"
           }
          ],
          "scatterpolar": [
           {
            "marker": {
             "colorbar": {
              "outlinewidth": 0,
              "ticks": ""
             }
            },
            "type": "scatterpolar"
           }
          ],
          "scatterpolargl": [
           {
            "marker": {
             "colorbar": {
              "outlinewidth": 0,
              "ticks": ""
             }
            },
            "type": "scatterpolargl"
           }
          ],
          "scatterternary": [
           {
            "marker": {
             "colorbar": {
              "outlinewidth": 0,
              "ticks": ""
             }
            },
            "type": "scatterternary"
           }
          ],
          "surface": [
           {
            "colorbar": {
             "outlinewidth": 0,
             "ticks": ""
            },
            "colorscale": [
             [
              0,
              "#0d0887"
             ],
             [
              0.1111111111111111,
              "#46039f"
             ],
             [
              0.2222222222222222,
              "#7201a8"
             ],
             [
              0.3333333333333333,
              "#9c179e"
             ],
             [
              0.4444444444444444,
              "#bd3786"
             ],
             [
              0.5555555555555556,
              "#d8576b"
             ],
             [
              0.6666666666666666,
              "#ed7953"
             ],
             [
              0.7777777777777778,
              "#fb9f3a"
             ],
             [
              0.8888888888888888,
              "#fdca26"
             ],
             [
              1,
              "#f0f921"
             ]
            ],
            "type": "surface"
           }
          ],
          "table": [
           {
            "cells": {
             "fill": {
              "color": "#EBF0F8"
             },
             "line": {
              "color": "white"
             }
            },
            "header": {
             "fill": {
              "color": "#C8D4E3"
             },
             "line": {
              "color": "white"
             }
            },
            "type": "table"
           }
          ]
         },
         "layout": {
          "annotationdefaults": {
           "arrowcolor": "#2a3f5f",
           "arrowhead": 0,
           "arrowwidth": 1
          },
          "autotypenumbers": "strict",
          "coloraxis": {
           "colorbar": {
            "outlinewidth": 0,
            "ticks": ""
           }
          },
          "colorscale": {
           "diverging": [
            [
             0,
             "#8e0152"
            ],
            [
             0.1,
             "#c51b7d"
            ],
            [
             0.2,
             "#de77ae"
            ],
            [
             0.3,
             "#f1b6da"
            ],
            [
             0.4,
             "#fde0ef"
            ],
            [
             0.5,
             "#f7f7f7"
            ],
            [
             0.6,
             "#e6f5d0"
            ],
            [
             0.7,
             "#b8e186"
            ],
            [
             0.8,
             "#7fbc41"
            ],
            [
             0.9,
             "#4d9221"
            ],
            [
             1,
             "#276419"
            ]
           ],
           "sequential": [
            [
             0,
             "#0d0887"
            ],
            [
             0.1111111111111111,
             "#46039f"
            ],
            [
             0.2222222222222222,
             "#7201a8"
            ],
            [
             0.3333333333333333,
             "#9c179e"
            ],
            [
             0.4444444444444444,
             "#bd3786"
            ],
            [
             0.5555555555555556,
             "#d8576b"
            ],
            [
             0.6666666666666666,
             "#ed7953"
            ],
            [
             0.7777777777777778,
             "#fb9f3a"
            ],
            [
             0.8888888888888888,
             "#fdca26"
            ],
            [
             1,
             "#f0f921"
            ]
           ],
           "sequentialminus": [
            [
             0,
             "#0d0887"
            ],
            [
             0.1111111111111111,
             "#46039f"
            ],
            [
             0.2222222222222222,
             "#7201a8"
            ],
            [
             0.3333333333333333,
             "#9c179e"
            ],
            [
             0.4444444444444444,
             "#bd3786"
            ],
            [
             0.5555555555555556,
             "#d8576b"
            ],
            [
             0.6666666666666666,
             "#ed7953"
            ],
            [
             0.7777777777777778,
             "#fb9f3a"
            ],
            [
             0.8888888888888888,
             "#fdca26"
            ],
            [
             1,
             "#f0f921"
            ]
           ]
          },
          "colorway": [
           "#636efa",
           "#EF553B",
           "#00cc96",
           "#ab63fa",
           "#FFA15A",
           "#19d3f3",
           "#FF6692",
           "#B6E880",
           "#FF97FF",
           "#FECB52"
          ],
          "font": {
           "color": "#2a3f5f"
          },
          "geo": {
           "bgcolor": "white",
           "lakecolor": "white",
           "landcolor": "#E5ECF6",
           "showlakes": true,
           "showland": true,
           "subunitcolor": "white"
          },
          "hoverlabel": {
           "align": "left"
          },
          "hovermode": "closest",
          "mapbox": {
           "style": "light"
          },
          "paper_bgcolor": "white",
          "plot_bgcolor": "#E5ECF6",
          "polar": {
           "angularaxis": {
            "gridcolor": "white",
            "linecolor": "white",
            "ticks": ""
           },
           "bgcolor": "#E5ECF6",
           "radialaxis": {
            "gridcolor": "white",
            "linecolor": "white",
            "ticks": ""
           }
          },
          "scene": {
           "xaxis": {
            "backgroundcolor": "#E5ECF6",
            "gridcolor": "white",
            "gridwidth": 2,
            "linecolor": "white",
            "showbackground": true,
            "ticks": "",
            "zerolinecolor": "white"
           },
           "yaxis": {
            "backgroundcolor": "#E5ECF6",
            "gridcolor": "white",
            "gridwidth": 2,
            "linecolor": "white",
            "showbackground": true,
            "ticks": "",
            "zerolinecolor": "white"
           },
           "zaxis": {
            "backgroundcolor": "#E5ECF6",
            "gridcolor": "white",
            "gridwidth": 2,
            "linecolor": "white",
            "showbackground": true,
            "ticks": "",
            "zerolinecolor": "white"
           }
          },
          "shapedefaults": {
           "line": {
            "color": "#2a3f5f"
           }
          },
          "ternary": {
           "aaxis": {
            "gridcolor": "white",
            "linecolor": "white",
            "ticks": ""
           },
           "baxis": {
            "gridcolor": "white",
            "linecolor": "white",
            "ticks": ""
           },
           "bgcolor": "#E5ECF6",
           "caxis": {
            "gridcolor": "white",
            "linecolor": "white",
            "ticks": ""
           }
          },
          "title": {
           "x": 0.05
          },
          "xaxis": {
           "automargin": true,
           "gridcolor": "white",
           "linecolor": "white",
           "ticks": "",
           "title": {
            "standoff": 15
           },
           "zerolinecolor": "white",
           "zerolinewidth": 2
          },
          "yaxis": {
           "automargin": true,
           "gridcolor": "white",
           "linecolor": "white",
           "ticks": "",
           "title": {
            "standoff": 15
           },
           "zerolinecolor": "white",
           "zerolinewidth": 2
          }
         }
        },
        "title": {
         "text": "Número de Focos de Calor por Estado"
        },
        "width": 1000,
        "xaxis": {
         "title": {
          "text": "Estado"
         }
        },
        "yaxis": {
         "title": {
          "text": "Número de Focos de Calor"
         }
        }
       }
      },
      "text/html": [
       "<div>                            <div id=\"45979e9a-2f54-4c0d-8499-519bd02aa18a\" class=\"plotly-graph-div\" style=\"height:600px; width:1000px;\"></div>            <script type=\"text/javascript\">                require([\"plotly\"], function(Plotly) {                    window.PLOTLYENV=window.PLOTLYENV || {};                                    if (document.getElementById(\"45979e9a-2f54-4c0d-8499-519bd02aa18a\")) {                    Plotly.newPlot(                        \"45979e9a-2f54-4c0d-8499-519bd02aa18a\",                        [{\"text\": [135150.0, 5832.0, 39303.0, 204356.0, 280255.0, 120100.0, 4523.0, 9017.0, 144068.0, 549287.0, 945482.0, 160632.0, 226232.0, 88882.0, 17606.0, 955027.0, 29873.0, 228033.0, 12940.0, 58285.0, 16054.0, 348398.0, 48562.0, 52541.0, 4091.0, 90169.0, 307213.0], \"textposition\": \"auto\", \"type\": \"bar\", \"x\": [\"Acre\", \"Alagoas\", \"Amap\\u00e1\", \"Amazonas\", \"Bahia\", \"Cear\\u00e1\", \"Distrito Federal\", \"Esp\\u00edrito Santo\", \"Goi\\u00e1s\", \"Maranh\\u00e3o\", \"Mato Grosso\", \"Mato Grosso do Sul\", \"Minas Gerais\", \"Paran\\u00e1\", \"Para\\u00edba\", \"Par\\u00e1\", \"Pernambuco\", \"Piau\\u00ed\", \"Rio Grande do Norte\", \"Rio Grande do Sul\", \"Rio de Janeiro\", \"Rond\\u00f4nia\", \"Roraima\", \"Santa Catarina\", \"Sergipe\", \"S\\u00e3o Paulo\", \"Tocantins\"], \"y\": [135150, 5832, 39303, 204356, 280255, 120100, 4523, 9017, 144068, 549287, 945482, 160632, 226232, 88882, 17606, 955027, 29873, 228033, 12940, 58285, 16054, 348398, 48562, 52541, 4091, 90169, 307213]}],                        {\"height\": 600, \"template\": {\"data\": {\"bar\": [{\"error_x\": {\"color\": \"#2a3f5f\"}, \"error_y\": {\"color\": \"#2a3f5f\"}, \"marker\": {\"line\": {\"color\": \"#E5ECF6\", \"width\": 0.5}}, \"type\": \"bar\"}], \"barpolar\": [{\"marker\": {\"line\": {\"color\": \"#E5ECF6\", \"width\": 0.5}}, \"type\": \"barpolar\"}], \"carpet\": [{\"aaxis\": {\"endlinecolor\": \"#2a3f5f\", \"gridcolor\": \"white\", \"linecolor\": \"white\", \"minorgridcolor\": \"white\", \"startlinecolor\": \"#2a3f5f\"}, \"baxis\": {\"endlinecolor\": \"#2a3f5f\", \"gridcolor\": \"white\", \"linecolor\": \"white\", \"minorgridcolor\": \"white\", \"startlinecolor\": \"#2a3f5f\"}, \"type\": \"carpet\"}], \"choropleth\": [{\"colorbar\": {\"outlinewidth\": 0, \"ticks\": \"\"}, \"type\": \"choropleth\"}], \"contour\": [{\"colorbar\": {\"outlinewidth\": 0, \"ticks\": \"\"}, \"colorscale\": [[0.0, \"#0d0887\"], [0.1111111111111111, \"#46039f\"], [0.2222222222222222, \"#7201a8\"], [0.3333333333333333, \"#9c179e\"], [0.4444444444444444, \"#bd3786\"], [0.5555555555555556, \"#d8576b\"], [0.6666666666666666, \"#ed7953\"], [0.7777777777777778, \"#fb9f3a\"], [0.8888888888888888, \"#fdca26\"], [1.0, \"#f0f921\"]], \"type\": \"contour\"}], \"contourcarpet\": [{\"colorbar\": {\"outlinewidth\": 0, \"ticks\": \"\"}, \"type\": \"contourcarpet\"}], \"heatmap\": [{\"colorbar\": {\"outlinewidth\": 0, \"ticks\": \"\"}, \"colorscale\": [[0.0, \"#0d0887\"], [0.1111111111111111, \"#46039f\"], [0.2222222222222222, \"#7201a8\"], [0.3333333333333333, \"#9c179e\"], [0.4444444444444444, \"#bd3786\"], [0.5555555555555556, \"#d8576b\"], [0.6666666666666666, \"#ed7953\"], [0.7777777777777778, \"#fb9f3a\"], [0.8888888888888888, \"#fdca26\"], [1.0, \"#f0f921\"]], \"type\": \"heatmap\"}], \"heatmapgl\": [{\"colorbar\": {\"outlinewidth\": 0, \"ticks\": \"\"}, \"colorscale\": [[0.0, \"#0d0887\"], [0.1111111111111111, \"#46039f\"], [0.2222222222222222, \"#7201a8\"], [0.3333333333333333, \"#9c179e\"], [0.4444444444444444, \"#bd3786\"], [0.5555555555555556, \"#d8576b\"], [0.6666666666666666, \"#ed7953\"], [0.7777777777777778, \"#fb9f3a\"], [0.8888888888888888, \"#fdca26\"], [1.0, \"#f0f921\"]], \"type\": \"heatmapgl\"}], \"histogram\": [{\"marker\": {\"colorbar\": {\"outlinewidth\": 0, \"ticks\": \"\"}}, \"type\": \"histogram\"}], \"histogram2d\": [{\"colorbar\": {\"outlinewidth\": 0, \"ticks\": \"\"}, \"colorscale\": [[0.0, \"#0d0887\"], [0.1111111111111111, \"#46039f\"], [0.2222222222222222, \"#7201a8\"], [0.3333333333333333, \"#9c179e\"], [0.4444444444444444, \"#bd3786\"], [0.5555555555555556, \"#d8576b\"], [0.6666666666666666, \"#ed7953\"], [0.7777777777777778, \"#fb9f3a\"], [0.8888888888888888, \"#fdca26\"], [1.0, \"#f0f921\"]], \"type\": \"histogram2d\"}], \"histogram2dcontour\": [{\"colorbar\": {\"outlinewidth\": 0, \"ticks\": \"\"}, \"colorscale\": [[0.0, \"#0d0887\"], [0.1111111111111111, \"#46039f\"], [0.2222222222222222, \"#7201a8\"], [0.3333333333333333, \"#9c179e\"], [0.4444444444444444, \"#bd3786\"], [0.5555555555555556, \"#d8576b\"], [0.6666666666666666, \"#ed7953\"], [0.7777777777777778, \"#fb9f3a\"], [0.8888888888888888, \"#fdca26\"], [1.0, \"#f0f921\"]], \"type\": \"histogram2dcontour\"}], \"mesh3d\": [{\"colorbar\": {\"outlinewidth\": 0, \"ticks\": \"\"}, \"type\": \"mesh3d\"}], \"parcoords\": [{\"line\": {\"colorbar\": {\"outlinewidth\": 0, \"ticks\": \"\"}}, \"type\": \"parcoords\"}], \"pie\": [{\"automargin\": true, \"type\": \"pie\"}], \"scatter\": [{\"marker\": {\"colorbar\": {\"outlinewidth\": 0, \"ticks\": \"\"}}, \"type\": \"scatter\"}], \"scatter3d\": [{\"line\": {\"colorbar\": {\"outlinewidth\": 0, \"ticks\": \"\"}}, \"marker\": {\"colorbar\": {\"outlinewidth\": 0, \"ticks\": \"\"}}, \"type\": \"scatter3d\"}], \"scattercarpet\": [{\"marker\": {\"colorbar\": {\"outlinewidth\": 0, \"ticks\": \"\"}}, \"type\": \"scattercarpet\"}], \"scattergeo\": [{\"marker\": {\"colorbar\": {\"outlinewidth\": 0, \"ticks\": \"\"}}, \"type\": \"scattergeo\"}], \"scattergl\": [{\"marker\": {\"colorbar\": {\"outlinewidth\": 0, \"ticks\": \"\"}}, \"type\": \"scattergl\"}], \"scattermapbox\": [{\"marker\": {\"colorbar\": {\"outlinewidth\": 0, \"ticks\": \"\"}}, \"type\": \"scattermapbox\"}], \"scatterpolar\": [{\"marker\": {\"colorbar\": {\"outlinewidth\": 0, \"ticks\": \"\"}}, \"type\": \"scatterpolar\"}], \"scatterpolargl\": [{\"marker\": {\"colorbar\": {\"outlinewidth\": 0, \"ticks\": \"\"}}, \"type\": \"scatterpolargl\"}], \"scatterternary\": [{\"marker\": {\"colorbar\": {\"outlinewidth\": 0, \"ticks\": \"\"}}, \"type\": \"scatterternary\"}], \"surface\": [{\"colorbar\": {\"outlinewidth\": 0, \"ticks\": \"\"}, \"colorscale\": [[0.0, \"#0d0887\"], [0.1111111111111111, \"#46039f\"], [0.2222222222222222, \"#7201a8\"], [0.3333333333333333, \"#9c179e\"], [0.4444444444444444, \"#bd3786\"], [0.5555555555555556, \"#d8576b\"], [0.6666666666666666, \"#ed7953\"], [0.7777777777777778, \"#fb9f3a\"], [0.8888888888888888, \"#fdca26\"], [1.0, \"#f0f921\"]], \"type\": \"surface\"}], \"table\": [{\"cells\": {\"fill\": {\"color\": \"#EBF0F8\"}, \"line\": {\"color\": \"white\"}}, \"header\": {\"fill\": {\"color\": \"#C8D4E3\"}, \"line\": {\"color\": \"white\"}}, \"type\": \"table\"}]}, \"layout\": {\"annotationdefaults\": {\"arrowcolor\": \"#2a3f5f\", \"arrowhead\": 0, \"arrowwidth\": 1}, \"autotypenumbers\": \"strict\", \"coloraxis\": {\"colorbar\": {\"outlinewidth\": 0, \"ticks\": \"\"}}, \"colorscale\": {\"diverging\": [[0, \"#8e0152\"], [0.1, \"#c51b7d\"], [0.2, \"#de77ae\"], [0.3, \"#f1b6da\"], [0.4, \"#fde0ef\"], [0.5, \"#f7f7f7\"], [0.6, \"#e6f5d0\"], [0.7, \"#b8e186\"], [0.8, \"#7fbc41\"], [0.9, \"#4d9221\"], [1, \"#276419\"]], \"sequential\": [[0.0, \"#0d0887\"], [0.1111111111111111, \"#46039f\"], [0.2222222222222222, \"#7201a8\"], [0.3333333333333333, \"#9c179e\"], [0.4444444444444444, \"#bd3786\"], [0.5555555555555556, \"#d8576b\"], [0.6666666666666666, \"#ed7953\"], [0.7777777777777778, \"#fb9f3a\"], [0.8888888888888888, \"#fdca26\"], [1.0, \"#f0f921\"]], \"sequentialminus\": [[0.0, \"#0d0887\"], [0.1111111111111111, \"#46039f\"], [0.2222222222222222, \"#7201a8\"], [0.3333333333333333, \"#9c179e\"], [0.4444444444444444, \"#bd3786\"], [0.5555555555555556, \"#d8576b\"], [0.6666666666666666, \"#ed7953\"], [0.7777777777777778, \"#fb9f3a\"], [0.8888888888888888, \"#fdca26\"], [1.0, \"#f0f921\"]]}, \"colorway\": [\"#636efa\", \"#EF553B\", \"#00cc96\", \"#ab63fa\", \"#FFA15A\", \"#19d3f3\", \"#FF6692\", \"#B6E880\", \"#FF97FF\", \"#FECB52\"], \"font\": {\"color\": \"#2a3f5f\"}, \"geo\": {\"bgcolor\": \"white\", \"lakecolor\": \"white\", \"landcolor\": \"#E5ECF6\", \"showlakes\": true, \"showland\": true, \"subunitcolor\": \"white\"}, \"hoverlabel\": {\"align\": \"left\"}, \"hovermode\": \"closest\", \"mapbox\": {\"style\": \"light\"}, \"paper_bgcolor\": \"white\", \"plot_bgcolor\": \"#E5ECF6\", \"polar\": {\"angularaxis\": {\"gridcolor\": \"white\", \"linecolor\": \"white\", \"ticks\": \"\"}, \"bgcolor\": \"#E5ECF6\", \"radialaxis\": {\"gridcolor\": \"white\", \"linecolor\": \"white\", \"ticks\": \"\"}}, \"scene\": {\"xaxis\": {\"backgroundcolor\": \"#E5ECF6\", \"gridcolor\": \"white\", \"gridwidth\": 2, \"linecolor\": \"white\", \"showbackground\": true, \"ticks\": \"\", \"zerolinecolor\": \"white\"}, \"yaxis\": {\"backgroundcolor\": \"#E5ECF6\", \"gridcolor\": \"white\", \"gridwidth\": 2, \"linecolor\": \"white\", \"showbackground\": true, \"ticks\": \"\", \"zerolinecolor\": \"white\"}, \"zaxis\": {\"backgroundcolor\": \"#E5ECF6\", \"gridcolor\": \"white\", \"gridwidth\": 2, \"linecolor\": \"white\", \"showbackground\": true, \"ticks\": \"\", \"zerolinecolor\": \"white\"}}, \"shapedefaults\": {\"line\": {\"color\": \"#2a3f5f\"}}, \"ternary\": {\"aaxis\": {\"gridcolor\": \"white\", \"linecolor\": \"white\", \"ticks\": \"\"}, \"baxis\": {\"gridcolor\": \"white\", \"linecolor\": \"white\", \"ticks\": \"\"}, \"bgcolor\": \"#E5ECF6\", \"caxis\": {\"gridcolor\": \"white\", \"linecolor\": \"white\", \"ticks\": \"\"}}, \"title\": {\"x\": 0.05}, \"xaxis\": {\"automargin\": true, \"gridcolor\": \"white\", \"linecolor\": \"white\", \"ticks\": \"\", \"title\": {\"standoff\": 15}, \"zerolinecolor\": \"white\", \"zerolinewidth\": 2}, \"yaxis\": {\"automargin\": true, \"gridcolor\": \"white\", \"linecolor\": \"white\", \"ticks\": \"\", \"title\": {\"standoff\": 15}, \"zerolinecolor\": \"white\", \"zerolinewidth\": 2}}}, \"title\": {\"text\": \"N\\u00famero de Focos de Calor por Estado\"}, \"width\": 1000, \"xaxis\": {\"title\": {\"text\": \"Estado\"}}, \"yaxis\": {\"title\": {\"text\": \"N\\u00famero de Focos de Calor\"}}},                        {\"responsive\": true}                    ).then(function(){\n",
       "                            \n",
       "var gd = document.getElementById('45979e9a-2f54-4c0d-8499-519bd02aa18a');\n",
       "var x = new MutationObserver(function (mutations, observer) {{\n",
       "        var display = window.getComputedStyle(gd).display;\n",
       "        if (!display || display === 'none') {{\n",
       "            console.log([gd, 'removed!']);\n",
       "            Plotly.purge(gd);\n",
       "            observer.disconnect();\n",
       "        }}\n",
       "}});\n",
       "\n",
       "// Listen for the removal of the full notebook cells\n",
       "var notebookContainer = gd.closest('#notebook-container');\n",
       "if (notebookContainer) {{\n",
       "    x.observe(notebookContainer, {childList: true});\n",
       "}}\n",
       "\n",
       "// Listen for the clearing of the current output cell\n",
       "var outputEl = gd.closest('.output');\n",
       "if (outputEl) {{\n",
       "    x.observe(outputEl, {childList: true});\n",
       "}}\n",
       "\n",
       "                        })                };                });            </script>        </div>"
      ]
     },
     "metadata": {},
     "output_type": "display_data"
    }
   ],
   "source": [
    "plot_forest_fires_state(base, 'Número de Focos de Calor por Estado', True)"
   ]
  },
  {
   "cell_type": "code",
   "execution_count": 61,
   "metadata": {},
   "outputs": [],
   "source": [
    "# Função para Gráfico de Barras\n",
    "\n",
    "def plot_forest_fires_month(df):\n",
    "    \n",
    "    dataTemp = df.groupby(['month']).agg({'number': 'sum'}).sort_values(\n",
    "        by=['number'], ascending=False).reset_index()\n",
    "    \n",
    "    \n",
    "    graph = go.Bar(x = dataTemp['month'],\n",
    "                    y = dataTemp['number'],\n",
    "                    text = dataTemp['number'],\n",
    "                    textposition='auto'\n",
    "                    )\n",
    "    \n",
    "    \n",
    "    data = [graph]\n",
    "\n",
    "    layout = go.Layout(title = 'Número de Focos de Calor por Mês',\n",
    "                      xaxis = {'title': 'Estado'},\n",
    "                      yaxis = {'title': 'Número de Focos de Calor'},\n",
    "                      height=600, \n",
    "                      width=900)\n",
    "            \n",
    "    fig = go.Figure(data=data, layout=layout)\n",
    "    \n",
    "    return py.iplot(fig)"
   ]
  },
  {
   "cell_type": "code",
   "execution_count": 62,
   "metadata": {},
   "outputs": [
    {
     "data": {
      "application/vnd.plotly.v1+json": {
       "config": {
        "linkText": "Export to plot.ly",
        "plotlyServerURL": "https://plot.ly",
        "showLink": false
       },
       "data": [
        {
         "text": [
          1508713,
          1082485,
          885803,
          515176,
          348881,
          270017,
          174566,
          78412,
          73218,
          52734,
          48846,
          43060
         ],
         "textposition": "auto",
         "type": "bar",
         "x": [
          "Setembro",
          "Agosto",
          "Outubro",
          "Novembro",
          "Julho",
          "Dezembro",
          "Junho",
          "Maio",
          "Janeiro",
          "Março",
          "Abril",
          "Fevereiro"
         ],
         "y": [
          1508713,
          1082485,
          885803,
          515176,
          348881,
          270017,
          174566,
          78412,
          73218,
          52734,
          48846,
          43060
         ]
        }
       ],
       "layout": {
        "height": 600,
        "template": {
         "data": {
          "bar": [
           {
            "error_x": {
             "color": "#2a3f5f"
            },
            "error_y": {
             "color": "#2a3f5f"
            },
            "marker": {
             "line": {
              "color": "#E5ECF6",
              "width": 0.5
             }
            },
            "type": "bar"
           }
          ],
          "barpolar": [
           {
            "marker": {
             "line": {
              "color": "#E5ECF6",
              "width": 0.5
             }
            },
            "type": "barpolar"
           }
          ],
          "carpet": [
           {
            "aaxis": {
             "endlinecolor": "#2a3f5f",
             "gridcolor": "white",
             "linecolor": "white",
             "minorgridcolor": "white",
             "startlinecolor": "#2a3f5f"
            },
            "baxis": {
             "endlinecolor": "#2a3f5f",
             "gridcolor": "white",
             "linecolor": "white",
             "minorgridcolor": "white",
             "startlinecolor": "#2a3f5f"
            },
            "type": "carpet"
           }
          ],
          "choropleth": [
           {
            "colorbar": {
             "outlinewidth": 0,
             "ticks": ""
            },
            "type": "choropleth"
           }
          ],
          "contour": [
           {
            "colorbar": {
             "outlinewidth": 0,
             "ticks": ""
            },
            "colorscale": [
             [
              0,
              "#0d0887"
             ],
             [
              0.1111111111111111,
              "#46039f"
             ],
             [
              0.2222222222222222,
              "#7201a8"
             ],
             [
              0.3333333333333333,
              "#9c179e"
             ],
             [
              0.4444444444444444,
              "#bd3786"
             ],
             [
              0.5555555555555556,
              "#d8576b"
             ],
             [
              0.6666666666666666,
              "#ed7953"
             ],
             [
              0.7777777777777778,
              "#fb9f3a"
             ],
             [
              0.8888888888888888,
              "#fdca26"
             ],
             [
              1,
              "#f0f921"
             ]
            ],
            "type": "contour"
           }
          ],
          "contourcarpet": [
           {
            "colorbar": {
             "outlinewidth": 0,
             "ticks": ""
            },
            "type": "contourcarpet"
           }
          ],
          "heatmap": [
           {
            "colorbar": {
             "outlinewidth": 0,
             "ticks": ""
            },
            "colorscale": [
             [
              0,
              "#0d0887"
             ],
             [
              0.1111111111111111,
              "#46039f"
             ],
             [
              0.2222222222222222,
              "#7201a8"
             ],
             [
              0.3333333333333333,
              "#9c179e"
             ],
             [
              0.4444444444444444,
              "#bd3786"
             ],
             [
              0.5555555555555556,
              "#d8576b"
             ],
             [
              0.6666666666666666,
              "#ed7953"
             ],
             [
              0.7777777777777778,
              "#fb9f3a"
             ],
             [
              0.8888888888888888,
              "#fdca26"
             ],
             [
              1,
              "#f0f921"
             ]
            ],
            "type": "heatmap"
           }
          ],
          "heatmapgl": [
           {
            "colorbar": {
             "outlinewidth": 0,
             "ticks": ""
            },
            "colorscale": [
             [
              0,
              "#0d0887"
             ],
             [
              0.1111111111111111,
              "#46039f"
             ],
             [
              0.2222222222222222,
              "#7201a8"
             ],
             [
              0.3333333333333333,
              "#9c179e"
             ],
             [
              0.4444444444444444,
              "#bd3786"
             ],
             [
              0.5555555555555556,
              "#d8576b"
             ],
             [
              0.6666666666666666,
              "#ed7953"
             ],
             [
              0.7777777777777778,
              "#fb9f3a"
             ],
             [
              0.8888888888888888,
              "#fdca26"
             ],
             [
              1,
              "#f0f921"
             ]
            ],
            "type": "heatmapgl"
           }
          ],
          "histogram": [
           {
            "marker": {
             "colorbar": {
              "outlinewidth": 0,
              "ticks": ""
             }
            },
            "type": "histogram"
           }
          ],
          "histogram2d": [
           {
            "colorbar": {
             "outlinewidth": 0,
             "ticks": ""
            },
            "colorscale": [
             [
              0,
              "#0d0887"
             ],
             [
              0.1111111111111111,
              "#46039f"
             ],
             [
              0.2222222222222222,
              "#7201a8"
             ],
             [
              0.3333333333333333,
              "#9c179e"
             ],
             [
              0.4444444444444444,
              "#bd3786"
             ],
             [
              0.5555555555555556,
              "#d8576b"
             ],
             [
              0.6666666666666666,
              "#ed7953"
             ],
             [
              0.7777777777777778,
              "#fb9f3a"
             ],
             [
              0.8888888888888888,
              "#fdca26"
             ],
             [
              1,
              "#f0f921"
             ]
            ],
            "type": "histogram2d"
           }
          ],
          "histogram2dcontour": [
           {
            "colorbar": {
             "outlinewidth": 0,
             "ticks": ""
            },
            "colorscale": [
             [
              0,
              "#0d0887"
             ],
             [
              0.1111111111111111,
              "#46039f"
             ],
             [
              0.2222222222222222,
              "#7201a8"
             ],
             [
              0.3333333333333333,
              "#9c179e"
             ],
             [
              0.4444444444444444,
              "#bd3786"
             ],
             [
              0.5555555555555556,
              "#d8576b"
             ],
             [
              0.6666666666666666,
              "#ed7953"
             ],
             [
              0.7777777777777778,
              "#fb9f3a"
             ],
             [
              0.8888888888888888,
              "#fdca26"
             ],
             [
              1,
              "#f0f921"
             ]
            ],
            "type": "histogram2dcontour"
           }
          ],
          "mesh3d": [
           {
            "colorbar": {
             "outlinewidth": 0,
             "ticks": ""
            },
            "type": "mesh3d"
           }
          ],
          "parcoords": [
           {
            "line": {
             "colorbar": {
              "outlinewidth": 0,
              "ticks": ""
             }
            },
            "type": "parcoords"
           }
          ],
          "pie": [
           {
            "automargin": true,
            "type": "pie"
           }
          ],
          "scatter": [
           {
            "marker": {
             "colorbar": {
              "outlinewidth": 0,
              "ticks": ""
             }
            },
            "type": "scatter"
           }
          ],
          "scatter3d": [
           {
            "line": {
             "colorbar": {
              "outlinewidth": 0,
              "ticks": ""
             }
            },
            "marker": {
             "colorbar": {
              "outlinewidth": 0,
              "ticks": ""
             }
            },
            "type": "scatter3d"
           }
          ],
          "scattercarpet": [
           {
            "marker": {
             "colorbar": {
              "outlinewidth": 0,
              "ticks": ""
             }
            },
            "type": "scattercarpet"
           }
          ],
          "scattergeo": [
           {
            "marker": {
             "colorbar": {
              "outlinewidth": 0,
              "ticks": ""
             }
            },
            "type": "scattergeo"
           }
          ],
          "scattergl": [
           {
            "marker": {
             "colorbar": {
              "outlinewidth": 0,
              "ticks": ""
             }
            },
            "type": "scattergl"
           }
          ],
          "scattermapbox": [
           {
            "marker": {
             "colorbar": {
              "outlinewidth": 0,
              "ticks": ""
             }
            },
            "type": "scattermapbox"
           }
          ],
          "scatterpolar": [
           {
            "marker": {
             "colorbar": {
              "outlinewidth": 0,
              "ticks": ""
             }
            },
            "type": "scatterpolar"
           }
          ],
          "scatterpolargl": [
           {
            "marker": {
             "colorbar": {
              "outlinewidth": 0,
              "ticks": ""
             }
            },
            "type": "scatterpolargl"
           }
          ],
          "scatterternary": [
           {
            "marker": {
             "colorbar": {
              "outlinewidth": 0,
              "ticks": ""
             }
            },
            "type": "scatterternary"
           }
          ],
          "surface": [
           {
            "colorbar": {
             "outlinewidth": 0,
             "ticks": ""
            },
            "colorscale": [
             [
              0,
              "#0d0887"
             ],
             [
              0.1111111111111111,
              "#46039f"
             ],
             [
              0.2222222222222222,
              "#7201a8"
             ],
             [
              0.3333333333333333,
              "#9c179e"
             ],
             [
              0.4444444444444444,
              "#bd3786"
             ],
             [
              0.5555555555555556,
              "#d8576b"
             ],
             [
              0.6666666666666666,
              "#ed7953"
             ],
             [
              0.7777777777777778,
              "#fb9f3a"
             ],
             [
              0.8888888888888888,
              "#fdca26"
             ],
             [
              1,
              "#f0f921"
             ]
            ],
            "type": "surface"
           }
          ],
          "table": [
           {
            "cells": {
             "fill": {
              "color": "#EBF0F8"
             },
             "line": {
              "color": "white"
             }
            },
            "header": {
             "fill": {
              "color": "#C8D4E3"
             },
             "line": {
              "color": "white"
             }
            },
            "type": "table"
           }
          ]
         },
         "layout": {
          "annotationdefaults": {
           "arrowcolor": "#2a3f5f",
           "arrowhead": 0,
           "arrowwidth": 1
          },
          "autotypenumbers": "strict",
          "coloraxis": {
           "colorbar": {
            "outlinewidth": 0,
            "ticks": ""
           }
          },
          "colorscale": {
           "diverging": [
            [
             0,
             "#8e0152"
            ],
            [
             0.1,
             "#c51b7d"
            ],
            [
             0.2,
             "#de77ae"
            ],
            [
             0.3,
             "#f1b6da"
            ],
            [
             0.4,
             "#fde0ef"
            ],
            [
             0.5,
             "#f7f7f7"
            ],
            [
             0.6,
             "#e6f5d0"
            ],
            [
             0.7,
             "#b8e186"
            ],
            [
             0.8,
             "#7fbc41"
            ],
            [
             0.9,
             "#4d9221"
            ],
            [
             1,
             "#276419"
            ]
           ],
           "sequential": [
            [
             0,
             "#0d0887"
            ],
            [
             0.1111111111111111,
             "#46039f"
            ],
            [
             0.2222222222222222,
             "#7201a8"
            ],
            [
             0.3333333333333333,
             "#9c179e"
            ],
            [
             0.4444444444444444,
             "#bd3786"
            ],
            [
             0.5555555555555556,
             "#d8576b"
            ],
            [
             0.6666666666666666,
             "#ed7953"
            ],
            [
             0.7777777777777778,
             "#fb9f3a"
            ],
            [
             0.8888888888888888,
             "#fdca26"
            ],
            [
             1,
             "#f0f921"
            ]
           ],
           "sequentialminus": [
            [
             0,
             "#0d0887"
            ],
            [
             0.1111111111111111,
             "#46039f"
            ],
            [
             0.2222222222222222,
             "#7201a8"
            ],
            [
             0.3333333333333333,
             "#9c179e"
            ],
            [
             0.4444444444444444,
             "#bd3786"
            ],
            [
             0.5555555555555556,
             "#d8576b"
            ],
            [
             0.6666666666666666,
             "#ed7953"
            ],
            [
             0.7777777777777778,
             "#fb9f3a"
            ],
            [
             0.8888888888888888,
             "#fdca26"
            ],
            [
             1,
             "#f0f921"
            ]
           ]
          },
          "colorway": [
           "#636efa",
           "#EF553B",
           "#00cc96",
           "#ab63fa",
           "#FFA15A",
           "#19d3f3",
           "#FF6692",
           "#B6E880",
           "#FF97FF",
           "#FECB52"
          ],
          "font": {
           "color": "#2a3f5f"
          },
          "geo": {
           "bgcolor": "white",
           "lakecolor": "white",
           "landcolor": "#E5ECF6",
           "showlakes": true,
           "showland": true,
           "subunitcolor": "white"
          },
          "hoverlabel": {
           "align": "left"
          },
          "hovermode": "closest",
          "mapbox": {
           "style": "light"
          },
          "paper_bgcolor": "white",
          "plot_bgcolor": "#E5ECF6",
          "polar": {
           "angularaxis": {
            "gridcolor": "white",
            "linecolor": "white",
            "ticks": ""
           },
           "bgcolor": "#E5ECF6",
           "radialaxis": {
            "gridcolor": "white",
            "linecolor": "white",
            "ticks": ""
           }
          },
          "scene": {
           "xaxis": {
            "backgroundcolor": "#E5ECF6",
            "gridcolor": "white",
            "gridwidth": 2,
            "linecolor": "white",
            "showbackground": true,
            "ticks": "",
            "zerolinecolor": "white"
           },
           "yaxis": {
            "backgroundcolor": "#E5ECF6",
            "gridcolor": "white",
            "gridwidth": 2,
            "linecolor": "white",
            "showbackground": true,
            "ticks": "",
            "zerolinecolor": "white"
           },
           "zaxis": {
            "backgroundcolor": "#E5ECF6",
            "gridcolor": "white",
            "gridwidth": 2,
            "linecolor": "white",
            "showbackground": true,
            "ticks": "",
            "zerolinecolor": "white"
           }
          },
          "shapedefaults": {
           "line": {
            "color": "#2a3f5f"
           }
          },
          "ternary": {
           "aaxis": {
            "gridcolor": "white",
            "linecolor": "white",
            "ticks": ""
           },
           "baxis": {
            "gridcolor": "white",
            "linecolor": "white",
            "ticks": ""
           },
           "bgcolor": "#E5ECF6",
           "caxis": {
            "gridcolor": "white",
            "linecolor": "white",
            "ticks": ""
           }
          },
          "title": {
           "x": 0.05
          },
          "xaxis": {
           "automargin": true,
           "gridcolor": "white",
           "linecolor": "white",
           "ticks": "",
           "title": {
            "standoff": 15
           },
           "zerolinecolor": "white",
           "zerolinewidth": 2
          },
          "yaxis": {
           "automargin": true,
           "gridcolor": "white",
           "linecolor": "white",
           "ticks": "",
           "title": {
            "standoff": 15
           },
           "zerolinecolor": "white",
           "zerolinewidth": 2
          }
         }
        },
        "title": {
         "text": "Número de Focos de Calor por Mês"
        },
        "width": 900,
        "xaxis": {
         "title": {
          "text": "Estado"
         }
        },
        "yaxis": {
         "title": {
          "text": "Número de Focos de Calor"
         }
        }
       }
      },
      "text/html": [
       "<div>                            <div id=\"3b860d69-1757-453f-9376-6784d65a0edd\" class=\"plotly-graph-div\" style=\"height:600px; width:900px;\"></div>            <script type=\"text/javascript\">                require([\"plotly\"], function(Plotly) {                    window.PLOTLYENV=window.PLOTLYENV || {};                                    if (document.getElementById(\"3b860d69-1757-453f-9376-6784d65a0edd\")) {                    Plotly.newPlot(                        \"3b860d69-1757-453f-9376-6784d65a0edd\",                        [{\"text\": [1508713.0, 1082485.0, 885803.0, 515176.0, 348881.0, 270017.0, 174566.0, 78412.0, 73218.0, 52734.0, 48846.0, 43060.0], \"textposition\": \"auto\", \"type\": \"bar\", \"x\": [\"Setembro\", \"Agosto\", \"Outubro\", \"Novembro\", \"Julho\", \"Dezembro\", \"Junho\", \"Maio\", \"Janeiro\", \"Mar\\u00e7o\", \"Abril\", \"Fevereiro\"], \"y\": [1508713, 1082485, 885803, 515176, 348881, 270017, 174566, 78412, 73218, 52734, 48846, 43060]}],                        {\"height\": 600, \"template\": {\"data\": {\"bar\": [{\"error_x\": {\"color\": \"#2a3f5f\"}, \"error_y\": {\"color\": \"#2a3f5f\"}, \"marker\": {\"line\": {\"color\": \"#E5ECF6\", \"width\": 0.5}}, \"type\": \"bar\"}], \"barpolar\": [{\"marker\": {\"line\": {\"color\": \"#E5ECF6\", \"width\": 0.5}}, \"type\": \"barpolar\"}], \"carpet\": [{\"aaxis\": {\"endlinecolor\": \"#2a3f5f\", \"gridcolor\": \"white\", \"linecolor\": \"white\", \"minorgridcolor\": \"white\", \"startlinecolor\": \"#2a3f5f\"}, \"baxis\": {\"endlinecolor\": \"#2a3f5f\", \"gridcolor\": \"white\", \"linecolor\": \"white\", \"minorgridcolor\": \"white\", \"startlinecolor\": \"#2a3f5f\"}, \"type\": \"carpet\"}], \"choropleth\": [{\"colorbar\": {\"outlinewidth\": 0, \"ticks\": \"\"}, \"type\": \"choropleth\"}], \"contour\": [{\"colorbar\": {\"outlinewidth\": 0, \"ticks\": \"\"}, \"colorscale\": [[0.0, \"#0d0887\"], [0.1111111111111111, \"#46039f\"], [0.2222222222222222, \"#7201a8\"], [0.3333333333333333, \"#9c179e\"], [0.4444444444444444, \"#bd3786\"], [0.5555555555555556, \"#d8576b\"], [0.6666666666666666, \"#ed7953\"], [0.7777777777777778, \"#fb9f3a\"], [0.8888888888888888, \"#fdca26\"], [1.0, \"#f0f921\"]], \"type\": \"contour\"}], \"contourcarpet\": [{\"colorbar\": {\"outlinewidth\": 0, \"ticks\": \"\"}, \"type\": \"contourcarpet\"}], \"heatmap\": [{\"colorbar\": {\"outlinewidth\": 0, \"ticks\": \"\"}, \"colorscale\": [[0.0, \"#0d0887\"], [0.1111111111111111, \"#46039f\"], [0.2222222222222222, \"#7201a8\"], [0.3333333333333333, \"#9c179e\"], [0.4444444444444444, \"#bd3786\"], [0.5555555555555556, \"#d8576b\"], [0.6666666666666666, \"#ed7953\"], [0.7777777777777778, \"#fb9f3a\"], [0.8888888888888888, \"#fdca26\"], [1.0, \"#f0f921\"]], \"type\": \"heatmap\"}], \"heatmapgl\": [{\"colorbar\": {\"outlinewidth\": 0, \"ticks\": \"\"}, \"colorscale\": [[0.0, \"#0d0887\"], [0.1111111111111111, \"#46039f\"], [0.2222222222222222, \"#7201a8\"], [0.3333333333333333, \"#9c179e\"], [0.4444444444444444, \"#bd3786\"], [0.5555555555555556, \"#d8576b\"], [0.6666666666666666, \"#ed7953\"], [0.7777777777777778, \"#fb9f3a\"], [0.8888888888888888, \"#fdca26\"], [1.0, \"#f0f921\"]], \"type\": \"heatmapgl\"}], \"histogram\": [{\"marker\": {\"colorbar\": {\"outlinewidth\": 0, \"ticks\": \"\"}}, \"type\": \"histogram\"}], \"histogram2d\": [{\"colorbar\": {\"outlinewidth\": 0, \"ticks\": \"\"}, \"colorscale\": [[0.0, \"#0d0887\"], [0.1111111111111111, \"#46039f\"], [0.2222222222222222, \"#7201a8\"], [0.3333333333333333, \"#9c179e\"], [0.4444444444444444, \"#bd3786\"], [0.5555555555555556, \"#d8576b\"], [0.6666666666666666, \"#ed7953\"], [0.7777777777777778, \"#fb9f3a\"], [0.8888888888888888, \"#fdca26\"], [1.0, \"#f0f921\"]], \"type\": \"histogram2d\"}], \"histogram2dcontour\": [{\"colorbar\": {\"outlinewidth\": 0, \"ticks\": \"\"}, \"colorscale\": [[0.0, \"#0d0887\"], [0.1111111111111111, \"#46039f\"], [0.2222222222222222, \"#7201a8\"], [0.3333333333333333, \"#9c179e\"], [0.4444444444444444, \"#bd3786\"], [0.5555555555555556, \"#d8576b\"], [0.6666666666666666, \"#ed7953\"], [0.7777777777777778, \"#fb9f3a\"], [0.8888888888888888, \"#fdca26\"], [1.0, \"#f0f921\"]], \"type\": \"histogram2dcontour\"}], \"mesh3d\": [{\"colorbar\": {\"outlinewidth\": 0, \"ticks\": \"\"}, \"type\": \"mesh3d\"}], \"parcoords\": [{\"line\": {\"colorbar\": {\"outlinewidth\": 0, \"ticks\": \"\"}}, \"type\": \"parcoords\"}], \"pie\": [{\"automargin\": true, \"type\": \"pie\"}], \"scatter\": [{\"marker\": {\"colorbar\": {\"outlinewidth\": 0, \"ticks\": \"\"}}, \"type\": \"scatter\"}], \"scatter3d\": [{\"line\": {\"colorbar\": {\"outlinewidth\": 0, \"ticks\": \"\"}}, \"marker\": {\"colorbar\": {\"outlinewidth\": 0, \"ticks\": \"\"}}, \"type\": \"scatter3d\"}], \"scattercarpet\": [{\"marker\": {\"colorbar\": {\"outlinewidth\": 0, \"ticks\": \"\"}}, \"type\": \"scattercarpet\"}], \"scattergeo\": [{\"marker\": {\"colorbar\": {\"outlinewidth\": 0, \"ticks\": \"\"}}, \"type\": \"scattergeo\"}], \"scattergl\": [{\"marker\": {\"colorbar\": {\"outlinewidth\": 0, \"ticks\": \"\"}}, \"type\": \"scattergl\"}], \"scattermapbox\": [{\"marker\": {\"colorbar\": {\"outlinewidth\": 0, \"ticks\": \"\"}}, \"type\": \"scattermapbox\"}], \"scatterpolar\": [{\"marker\": {\"colorbar\": {\"outlinewidth\": 0, \"ticks\": \"\"}}, \"type\": \"scatterpolar\"}], \"scatterpolargl\": [{\"marker\": {\"colorbar\": {\"outlinewidth\": 0, \"ticks\": \"\"}}, \"type\": \"scatterpolargl\"}], \"scatterternary\": [{\"marker\": {\"colorbar\": {\"outlinewidth\": 0, \"ticks\": \"\"}}, \"type\": \"scatterternary\"}], \"surface\": [{\"colorbar\": {\"outlinewidth\": 0, \"ticks\": \"\"}, \"colorscale\": [[0.0, \"#0d0887\"], [0.1111111111111111, \"#46039f\"], [0.2222222222222222, \"#7201a8\"], [0.3333333333333333, \"#9c179e\"], [0.4444444444444444, \"#bd3786\"], [0.5555555555555556, \"#d8576b\"], [0.6666666666666666, \"#ed7953\"], [0.7777777777777778, \"#fb9f3a\"], [0.8888888888888888, \"#fdca26\"], [1.0, \"#f0f921\"]], \"type\": \"surface\"}], \"table\": [{\"cells\": {\"fill\": {\"color\": \"#EBF0F8\"}, \"line\": {\"color\": \"white\"}}, \"header\": {\"fill\": {\"color\": \"#C8D4E3\"}, \"line\": {\"color\": \"white\"}}, \"type\": \"table\"}]}, \"layout\": {\"annotationdefaults\": {\"arrowcolor\": \"#2a3f5f\", \"arrowhead\": 0, \"arrowwidth\": 1}, \"autotypenumbers\": \"strict\", \"coloraxis\": {\"colorbar\": {\"outlinewidth\": 0, \"ticks\": \"\"}}, \"colorscale\": {\"diverging\": [[0, \"#8e0152\"], [0.1, \"#c51b7d\"], [0.2, \"#de77ae\"], [0.3, \"#f1b6da\"], [0.4, \"#fde0ef\"], [0.5, \"#f7f7f7\"], [0.6, \"#e6f5d0\"], [0.7, \"#b8e186\"], [0.8, \"#7fbc41\"], [0.9, \"#4d9221\"], [1, \"#276419\"]], \"sequential\": [[0.0, \"#0d0887\"], [0.1111111111111111, \"#46039f\"], [0.2222222222222222, \"#7201a8\"], [0.3333333333333333, \"#9c179e\"], [0.4444444444444444, \"#bd3786\"], [0.5555555555555556, \"#d8576b\"], [0.6666666666666666, \"#ed7953\"], [0.7777777777777778, \"#fb9f3a\"], [0.8888888888888888, \"#fdca26\"], [1.0, \"#f0f921\"]], \"sequentialminus\": [[0.0, \"#0d0887\"], [0.1111111111111111, \"#46039f\"], [0.2222222222222222, \"#7201a8\"], [0.3333333333333333, \"#9c179e\"], [0.4444444444444444, \"#bd3786\"], [0.5555555555555556, \"#d8576b\"], [0.6666666666666666, \"#ed7953\"], [0.7777777777777778, \"#fb9f3a\"], [0.8888888888888888, \"#fdca26\"], [1.0, \"#f0f921\"]]}, \"colorway\": [\"#636efa\", \"#EF553B\", \"#00cc96\", \"#ab63fa\", \"#FFA15A\", \"#19d3f3\", \"#FF6692\", \"#B6E880\", \"#FF97FF\", \"#FECB52\"], \"font\": {\"color\": \"#2a3f5f\"}, \"geo\": {\"bgcolor\": \"white\", \"lakecolor\": \"white\", \"landcolor\": \"#E5ECF6\", \"showlakes\": true, \"showland\": true, \"subunitcolor\": \"white\"}, \"hoverlabel\": {\"align\": \"left\"}, \"hovermode\": \"closest\", \"mapbox\": {\"style\": \"light\"}, \"paper_bgcolor\": \"white\", \"plot_bgcolor\": \"#E5ECF6\", \"polar\": {\"angularaxis\": {\"gridcolor\": \"white\", \"linecolor\": \"white\", \"ticks\": \"\"}, \"bgcolor\": \"#E5ECF6\", \"radialaxis\": {\"gridcolor\": \"white\", \"linecolor\": \"white\", \"ticks\": \"\"}}, \"scene\": {\"xaxis\": {\"backgroundcolor\": \"#E5ECF6\", \"gridcolor\": \"white\", \"gridwidth\": 2, \"linecolor\": \"white\", \"showbackground\": true, \"ticks\": \"\", \"zerolinecolor\": \"white\"}, \"yaxis\": {\"backgroundcolor\": \"#E5ECF6\", \"gridcolor\": \"white\", \"gridwidth\": 2, \"linecolor\": \"white\", \"showbackground\": true, \"ticks\": \"\", \"zerolinecolor\": \"white\"}, \"zaxis\": {\"backgroundcolor\": \"#E5ECF6\", \"gridcolor\": \"white\", \"gridwidth\": 2, \"linecolor\": \"white\", \"showbackground\": true, \"ticks\": \"\", \"zerolinecolor\": \"white\"}}, \"shapedefaults\": {\"line\": {\"color\": \"#2a3f5f\"}}, \"ternary\": {\"aaxis\": {\"gridcolor\": \"white\", \"linecolor\": \"white\", \"ticks\": \"\"}, \"baxis\": {\"gridcolor\": \"white\", \"linecolor\": \"white\", \"ticks\": \"\"}, \"bgcolor\": \"#E5ECF6\", \"caxis\": {\"gridcolor\": \"white\", \"linecolor\": \"white\", \"ticks\": \"\"}}, \"title\": {\"x\": 0.05}, \"xaxis\": {\"automargin\": true, \"gridcolor\": \"white\", \"linecolor\": \"white\", \"ticks\": \"\", \"title\": {\"standoff\": 15}, \"zerolinecolor\": \"white\", \"zerolinewidth\": 2}, \"yaxis\": {\"automargin\": true, \"gridcolor\": \"white\", \"linecolor\": \"white\", \"ticks\": \"\", \"title\": {\"standoff\": 15}, \"zerolinecolor\": \"white\", \"zerolinewidth\": 2}}}, \"title\": {\"text\": \"N\\u00famero de Focos de Calor por M\\u00eas\"}, \"width\": 900, \"xaxis\": {\"title\": {\"text\": \"Estado\"}}, \"yaxis\": {\"title\": {\"text\": \"N\\u00famero de Focos de Calor\"}}},                        {\"responsive\": true}                    ).then(function(){\n",
       "                            \n",
       "var gd = document.getElementById('3b860d69-1757-453f-9376-6784d65a0edd');\n",
       "var x = new MutationObserver(function (mutations, observer) {{\n",
       "        var display = window.getComputedStyle(gd).display;\n",
       "        if (!display || display === 'none') {{\n",
       "            console.log([gd, 'removed!']);\n",
       "            Plotly.purge(gd);\n",
       "            observer.disconnect();\n",
       "        }}\n",
       "}});\n",
       "\n",
       "// Listen for the removal of the full notebook cells\n",
       "var notebookContainer = gd.closest('#notebook-container');\n",
       "if (notebookContainer) {{\n",
       "    x.observe(notebookContainer, {childList: true});\n",
       "}}\n",
       "\n",
       "// Listen for the clearing of the current output cell\n",
       "var outputEl = gd.closest('.output');\n",
       "if (outputEl) {{\n",
       "    x.observe(outputEl, {childList: true});\n",
       "}}\n",
       "\n",
       "                        })                };                });            </script>        </div>"
      ]
     },
     "metadata": {},
     "output_type": "display_data"
    }
   ],
   "source": [
    "plot_forest_fires_month(base)"
   ]
  },
  {
   "cell_type": "code",
   "execution_count": 63,
   "metadata": {},
   "outputs": [],
   "source": [
    "# Histograma dos focos de calor\n",
    "\n",
    "def plot_histogram(df):\n",
    "\n",
    "    graph = go.Histogram(x=df['number']) \n",
    "\n",
    "                          \n",
    "    data = [graph]\n",
    "    \n",
    "    layout = go.Layout(title = 'Histograma dos Números de Focos de Calor',\n",
    "                   xaxis = {'title': 'Distribuição'},\n",
    "                   yaxis = {'title': 'Frequência'})\n",
    "    \n",
    "    fig = go.Figure(data=data, layout=layout)\n",
    "    return py.iplot(fig)"
   ]
  },
  {
   "cell_type": "code",
   "execution_count": 64,
   "metadata": {},
   "outputs": [
    {
     "data": {
      "application/vnd.plotly.v1+json": {
       "config": {
        "linkText": "Export to plot.ly",
        "plotlyServerURL": "https://plot.ly",
        "showLink": false
       },
       "data": [
        {
         "type": "histogram",
         "x": [
          0,
          0,
          0,
          0,
          0,
          14,
          0,
          20,
          7,
          1,
          0,
          0,
          1,
          2,
          1,
          0,
          0,
          3,
          13,
          0,
          0,
          1,
          16,
          0,
          0,
          0,
          0,
          1,
          0,
          4,
          0,
          1,
          14,
          0,
          2,
          0,
          0,
          0,
          0,
          0,
          2,
          2,
          4,
          2,
          1,
          0,
          0,
          0,
          11,
          0,
          0,
          0,
          0,
          5,
          0,
          5,
          1,
          0,
          1,
          0,
          0,
          0,
          1,
          1,
          0,
          0,
          1,
          2,
          1,
          0,
          0,
          1,
          0,
          0,
          5,
          9,
          2,
          2,
          8,
          1,
          2,
          10,
          4,
          3,
          46,
          7,
          3,
          1,
          1,
          5,
          6,
          4,
          0,
          0,
          1,
          0,
          0,
          18,
          21,
          17,
          58,
          15,
          23,
          10,
          33,
          8,
          15,
          11,
          1,
          2,
          23,
          9,
          14,
          33,
          39,
          3,
          0,
          1,
          1,
          0,
          18,
          12,
          75,
          34,
          76,
          18,
          1,
          41,
          26,
          12,
          19,
          23,
          42,
          101,
          39,
          41,
          60,
          71,
          35,
          1,
          1,
          3,
          59,
          427,
          95,
          1136,
          186,
          181,
          165,
          59,
          210,
          130,
          132,
          98,
          91,
          118,
          588,
          362,
          381,
          272,
          335,
          131,
          67,
          136,
          399,
          1268,
          3163,
          1003,
          7669,
          1507,
          1942,
          1621,
          366,
          2752,
          685,
          1092,
          1045,
          1263,
          1624,
          2526,
          1318,
          1368,
          3051,
          3578,
          512,
          212,
          261,
          288,
          4337,
          5803,
          5458,
          6092,
          3737,
          5446,
          2947,
          2067,
          5030,
          1912,
          2796,
          3331,
          2528,
          2949,
          3863,
          3100,
          4379,
          2977,
          3357,
          44,
          63,
          18,
          137,
          932,
          1041,
          633,
          943,
          600,
          823,
          856,
          952,
          523,
          264,
          627,
          318,
          406,
          912,
          515,
          1350,
          407,
          354,
          1652,
          0,
          4,
          0,
          1,
          139,
          30,
          25,
          27,
          66,
          38,
          63,
          50,
          58,
          152,
          39,
          108,
          70,
          115,
          46,
          102,
          26,
          44,
          129,
          7,
          0,
          0,
          0,
          3,
          4,
          11,
          7,
          0,
          0,
          4,
          2,
          2,
          8,
          3,
          4,
          8,
          8,
          6,
          10,
          2,
          1,
          11,
          0,
          58,
          11,
          5,
          12,
          147,
          13,
          91,
          36,
          33,
          52,
          112,
          32,
          45,
          43,
          45,
          49,
          64,
          22,
          38,
          17,
          32,
          45,
          0,
          19,
          16,
          4,
          15,
          52,
          15,
          47,
          32,
          33,
          83,
          33,
          39,
          35,
          52,
          22,
          26,
          40,
          14,
          16,
          16,
          9,
          21,
          0,
          52,
          32,
          0,
          27,
          32,
          34,
          45,
          46,
          12,
          47,
          47,
          87,
          45,
          58,
          36,
          19,
          27,
          10,
          19,
          13,
          11,
          12,
          0,
          4,
          20,
          0,
          6,
          22,
          10,
          3,
          7,
          16,
          26,
          5,
          5,
          19,
          18,
          20,
          15,
          46,
          14,
          6,
          2,
          5,
          5,
          0,
          1,
          1,
          2,
          1,
          7,
          3,
          0,
          2,
          2,
          8,
          0,
          0,
          0,
          23,
          2,
          1,
          17,
          4,
          1,
          0,
          5,
          1,
          0,
          0,
          0,
          2,
          0,
          5,
          1,
          3,
          0,
          1,
          1,
          0,
          2,
          2,
          5,
          2,
          2,
          2,
          5,
          1,
          6,
          3,
          0,
          0,
          0,
          0,
          0,
          7,
          4,
          3,
          2,
          3,
          6,
          0,
          1,
          1,
          0,
          1,
          1,
          1,
          0,
          5,
          0,
          0,
          2,
          3,
          1,
          3,
          4,
          1,
          5,
          7,
          2,
          9,
          5,
          3,
          3,
          0,
          4,
          11,
          0,
          0,
          3,
          3,
          4,
          1,
          12,
          6,
          5,
          14,
          3,
          22,
          5,
          23,
          8,
          11,
          14,
          13,
          12,
          14,
          16,
          17,
          3,
          6,
          5,
          11,
          4,
          15,
          4,
          7,
          12,
          4,
          20,
          4,
          13,
          15,
          35,
          18,
          23,
          20,
          39,
          25,
          32,
          26,
          14,
          24,
          31,
          23,
          3,
          28,
          63,
          12,
          52,
          20,
          25,
          19,
          15,
          2,
          22,
          58,
          20,
          38,
          32,
          25,
          44,
          73,
          56,
          46,
          26,
          85,
          8,
          9,
          118,
          79,
          11,
          41,
          60,
          10,
          32,
          12,
          2,
          30,
          102,
          51,
          80,
          26,
          60,
          75,
          70,
          64,
          52,
          57,
          55,
          37,
          26,
          111,
          153,
          20,
          35,
          67,
          28,
          0,
          0,
          2,
          0,
          7,
          35,
          58,
          194,
          10,
          12,
          4,
          8,
          4,
          0,
          34,
          2,
          25,
          27,
          16,
          2,
          14,
          4,
          2,
          0,
          1,
          0,
          0,
          2,
          0,
          1,
          1,
          1,
          1,
          1,
          0,
          0,
          3,
          8,
          2,
          2,
          0,
          1,
          0,
          1,
          0,
          1,
          0,
          2,
          0,
          0,
          0,
          5,
          0,
          0,
          0,
          2,
          2,
          0,
          3,
          0,
          3,
          1,
          2,
          1,
          0,
          0,
          0,
          0,
          1,
          0,
          0,
          0,
          0,
          0,
          3,
          1,
          0,
          4,
          0,
          2,
          2,
          0,
          0,
          2,
          2,
          1,
          0,
          0,
          3,
          1,
          0,
          0,
          0,
          0,
          0,
          0,
          3,
          1,
          1,
          1,
          0,
          0,
          0,
          2,
          2,
          2,
          3,
          1,
          0,
          0,
          3,
          2,
          1,
          0,
          0,
          0,
          2,
          0,
          0,
          0,
          3,
          7,
          3,
          0,
          0,
          2,
          1,
          0,
          1,
          8,
          6,
          2,
          2,
          2,
          2,
          3,
          0,
          3,
          0,
          0,
          0,
          1,
          2,
          1,
          4,
          1,
          0,
          19,
          4,
          4,
          3,
          4,
          6,
          1,
          5,
          4,
          1,
          3,
          4,
          4,
          2,
          1,
          0,
          3,
          12,
          21,
          21,
          18,
          15,
          27,
          10,
          14,
          23,
          2,
          12,
          31,
          18,
          19,
          26,
          39,
          28,
          38,
          21,
          16,
          20,
          4,
          19,
          95,
          152,
          135,
          117,
          139,
          159,
          146,
          133,
          214,
          72,
          140,
          173,
          126,
          161,
          198,
          150,
          88,
          123,
          138,
          84,
          41,
          25,
          42,
          193,
          710,
          526,
          534,
          509,
          565,
          485,
          651,
          951,
          358,
          381,
          583,
          560,
          592,
          927,
          816,
          440,
          571,
          540,
          527,
          131,
          26,
          157,
          406,
          1473,
          1117,
          1406,
          1054,
          637,
          753,
          1182,
          1115,
          490,
          407,
          1157,
          613,
          653,
          1424,
          1104,
          972,
          450,
          503,
          76,
          84,
          41,
          30,
          593,
          294,
          669,
          1266,
          103,
          262,
          56,
          158,
          136,
          66,
          446,
          510,
          197,
          386,
          327,
          463,
          406,
          0,
          67,
          38,
          0,
          3,
          7,
          3,
          17,
          379,
          277,
          225,
          79,
          106,
          45,
          34,
          93,
          59,
          8,
          43,
          71,
          38,
          654,
          62,
          46,
          35,
          197,
          0,
          43,
          62,
          8,
          2,
          129,
          129,
          16,
          31,
          167,
          48,
          9,
          76,
          6,
          8,
          4,
          17,
          71,
          252,
          21,
          93,
          90,
          73,
          0,
          7,
          69,
          6,
          5,
          94,
          20,
          15,
          30,
          14,
          25,
          19,
          64,
          23,
          5,
          23,
          30,
          25,
          105,
          24,
          54,
          114,
          77,
          0,
          2,
          18,
          1,
          2,
          42,
          26,
          8,
          28,
          18,
          35,
          11,
          9,
          7,
          8,
          26,
          20,
          20,
          13,
          15,
          14,
          10,
          12,
          0,
          0,
          51,
          0,
          8,
          24,
          11,
          36,
          20,
          16,
          12,
          4,
          37,
          16,
          15,
          21,
          17,
          11,
          26,
          33,
          19,
          21,
          15,
          2,
          7,
          6,
          5,
          5,
          36,
          43,
          130,
          156,
          180,
          42,
          31,
          113,
          32,
          58,
          81,
          73,
          34,
          84,
          95,
          123,
          57,
          122,
          72,
          11,
          39,
          9,
          338,
          655,
          364,
          1894,
          574,
          607,
          457,
          246,
          788,
          330,
          316,
          359,
          253,
          365,
          1087,
          1534,
          1346,
          1371,
          2119,
          320,
          255,
          180,
          499,
          1790,
          3017,
          1850,
          5981,
          3399,
          3990,
          2538,
          1799,
          5261,
          1543,
          3616,
          1981,
          3604,
          4235,
          3652,
          4793,
          2589,
          6668,
          8030,
          263,
          214,
          193,
          168,
          2916,
          2594,
          2436,
          4931,
          4254,
          3521,
          1716,
          3595,
          4021,
          1524,
          2731,
          2204,
          3148,
          5004,
          2785,
          3185,
          4928,
          3026,
          4270,
          82,
          476,
          145,
          332,
          1824,
          1851,
          1564,
          1499,
          2181,
          1663,
          1156,
          2409,
          1137,
          844,
          1484,
          1235,
          794,
          2233,
          1913,
          1190,
          1725,
          548,
          1265,
          6,
          28,
          27,
          244,
          1221,
          780,
          988,
          833,
          588,
          833,
          533,
          983,
          400,
          502,
          749,
          258,
          692,
          909,
          497,
          486,
          472,
          573,
          374,
          196,
          2,
          60,
          22,
          267,
          590,
          375,
          76,
          357,
          178,
          94,
          140,
          140,
          142,
          116,
          277,
          289,
          474,
          105,
          247,
          37,
          163,
          175,
          0,
          114,
          31,
          25,
          124,
          560,
          201,
          414,
          315,
          451,
          376,
          227,
          368,
          135,
          226,
          161,
          123,
          240,
          240,
          150,
          102,
          212,
          164,
          0,
          157,
          32,
          101,
          204,
          306,
          193,
          227,
          433,
          136,
          281,
          175,
          272,
          177,
          242,
          282,
          84,
          124,
          340,
          91,
          45,
          432,
          153,
          0,
          83,
          65,
          4,
          146,
          401,
          179,
          234,
          291,
          249,
          201,
          329,
          192,
          158,
          472,
          441,
          128,
          183,
          237,
          160,
          126,
          475,
          92,
          0,
          55,
          23,
          26,
          108,
          512,
          200,
          180,
          117,
          240,
          229,
          56,
          136,
          204,
          428,
          125,
          157,
          122,
          193,
          91,
          71,
          141,
          98,
          0,
          76,
          71,
          84,
          164,
          226,
          251,
          168,
          172,
          417,
          217,
          48,
          254,
          225,
          335,
          176,
          201,
          133,
          240,
          124,
          101,
          142,
          95,
          55,
          62,
          176,
          98,
          116,
          362,
          306,
          240,
          220,
          619,
          207,
          117,
          430,
          376,
          387,
          228,
          235,
          233,
          388,
          213,
          190,
          186,
          244,
          219,
          107,
          199,
          245,
          611,
          557,
          355,
          424,
          482,
          1375,
          554,
          340,
          663,
          578,
          909,
          378,
          235,
          300,
          340,
          234,
          281,
          337,
          341,
          813,
          453,
          629,
          978,
          1812,
          1078,
          1512,
          1141,
          1318,
          4270,
          1032,
          450,
          2635,
          1524,
          1810,
          602,
          606,
          791,
          727,
          809,
          477,
          542,
          437,
          2719,
          1273,
          2284,
          3957,
          7167,
          9547,
          7395,
          4244,
          3171,
          10076,
          4961,
          3580,
          5780,
          6967,
          6815,
          2617,
          2472,
          6921,
          1729,
          1146,
          1930,
          1896,
          1918,
          1970,
          1308,
          3350,
          1687,
          5415,
          4515,
          5701,
          9031,
          2395,
          7548,
          7949,
          2742,
          5375,
          2306,
          4529,
          1866,
          2515,
          4695,
          1312,
          3144,
          1345,
          1783,
          3666,
          49,
          49,
          114,
          699,
          1169,
          655,
          2016,
          1801,
          810,
          3308,
          4599,
          525,
          694,
          197,
          214,
          248,
          308,
          1569,
          402,
          222,
          169,
          924,
          447,
          82,
          37,
          24,
          158,
          1012,
          865,
          674,
          343,
          494,
          779,
          175,
          367,
          264,
          289,
          529,
          107,
          126,
          1202,
          163,
          66,
          119,
          301,
          257,
          0,
          47,
          1,
          11,
          33,
          323,
          213,
          476,
          298,
          428,
          230,
          464,
          355,
          39,
          308,
          135,
          119,
          189,
          103,
          91,
          166,
          194,
          94,
          0,
          17,
          7,
          0,
          76,
          10,
          11,
          41,
          31,
          5,
          29,
          16,
          76,
          9,
          44,
          55,
          9,
          20,
          12,
          10,
          6,
          12,
          8,
          0,
          30,
          10,
          0,
          17,
          6,
          3,
          7,
          8,
          7,
          0,
          1,
          46,
          3,
          13,
          24,
          4,
          14,
          6,
          4,
          8,
          3,
          2,
          0,
          6,
          16,
          2,
          6,
          4,
          1,
          7,
          4,
          5,
          0,
          0,
          11,
          1,
          2,
          7,
          3,
          0,
          11,
          3,
          1,
          1,
          0,
          0,
          5,
          7,
          81,
          10,
          7,
          7,
          2,
          0,
          11,
          0,
          1,
          6,
          4,
          23,
          9,
          4,
          17,
          7,
          6,
          2,
          3,
          3,
          1,
          16,
          16,
          38,
          13,
          9,
          8,
          7,
          3,
          14,
          6,
          0,
          21,
          7,
          33,
          12,
          15,
          17,
          32,
          6,
          17,
          9,
          12,
          76,
          84,
          20,
          147,
          23,
          41,
          22,
          33,
          18,
          35,
          13,
          9,
          58,
          24,
          50,
          8,
          39,
          23,
          106,
          15,
          29,
          18,
          63,
          95,
          135,
          81,
          224,
          136,
          133,
          69,
          71,
          80,
          237,
          58,
          32,
          206,
          42,
          267,
          36,
          133,
          118,
          286,
          98,
          202,
          138,
          209,
          601,
          132,
          130,
          808,
          241,
          420,
          207,
          187,
          265,
          354,
          199,
          93,
          383,
          226,
          512,
          177,
          136,
          183,
          335,
          336,
          429,
          460,
          440,
          1019,
          314,
          876,
          2051,
          1954,
          2465,
          1610,
          1659,
          932,
          1457,
          1014,
          526,
          676,
          478,
          1102,
          472,
          444,
          603,
          1241,
          793,
          591,
          1373,
          913,
          575,
          526,
          671,
          2461,
          3259,
          4760,
          3615,
          3434,
          2077,
          2639,
          2668,
          1978,
          2327,
          2062,
          1165,
          986,
          761,
          1009,
          1373,
          953,
          860,
          1324,
          1279,
          277,
          396,
          389,
          545,
          2409,
          3448,
          4816,
          2600,
          2451,
          2335,
          3414,
          2327,
          769,
          1903,
          789,
          910,
          660,
          965,
          804,
          1171,
          723,
          769,
          956,
          0,
          0,
          0,
          0,
          0,
          0,
          0,
          0,
          0,
          1,
          0,
          1,
          1,
          0,
          0,
          0,
          0,
          1,
          0,
          1,
          0,
          4,
          2,
          0,
          2,
          0,
          1,
          0,
          1,
          0,
          0,
          0,
          0,
          0,
          0,
          5,
          2,
          0,
          1,
          1,
          0,
          1,
          0,
          0,
          1,
          2,
          0,
          0,
          0,
          0,
          0,
          0,
          0,
          0,
          0,
          1,
          2,
          0,
          2,
          0,
          0,
          1,
          1,
          0,
          1,
          0,
          0,
          0,
          0,
          0,
          0,
          0,
          0,
          1,
          0,
          2,
          0,
          1,
          3,
          1,
          0,
          8,
          1,
          4,
          0,
          2,
          0,
          4,
          1,
          0,
          0,
          5,
          0,
          0,
          2,
          0,
          1,
          1,
          11,
          4,
          9,
          16,
          7,
          15,
          22,
          5,
          0,
          2,
          9,
          2,
          13,
          6,
          2,
          0,
          5,
          2,
          3,
          1,
          3,
          7,
          32,
          5,
          4,
          10,
          59,
          11,
          6,
          78,
          18,
          4,
          5,
          6,
          1,
          37,
          5,
          1,
          6,
          11,
          17,
          4,
          15,
          22,
          38,
          50,
          46,
          38,
          38,
          87,
          39,
          32,
          100,
          54,
          27,
          25,
          28,
          15,
          78,
          28,
          29,
          30,
          25,
          48,
          15,
          9,
          25,
          49,
          43,
          110,
          46,
          64,
          197,
          71,
          37,
          181,
          55,
          51,
          33,
          96,
          53,
          35,
          118,
          15,
          29,
          22,
          31,
          12,
          3,
          13,
          41,
          22,
          116,
          25,
          17,
          99,
          56,
          4,
          204,
          135,
          67,
          33,
          67,
          64,
          51,
          77,
          41,
          116,
          83,
          3,
          8,
          17,
          0,
          22,
          12,
          22,
          18,
          1,
          22,
          8,
          4,
          10,
          0,
          16,
          3,
          31,
          17,
          8,
          51,
          0,
          27,
          39,
          0,
          1,
          0,
          0,
          1,
          0,
          0,
          5,
          0,
          0,
          6,
          0,
          1,
          0,
          0,
          0,
          0,
          2,
          1,
          0,
          0,
          0,
          1,
          0,
          0,
          0,
          1,
          1,
          0,
          0,
          0,
          0,
          0,
          0,
          0,
          1,
          0,
          0,
          2,
          0,
          0,
          0,
          0,
          0,
          0,
          1,
          0,
          33,
          5,
          1,
          2,
          12,
          0,
          7,
          13,
          3,
          20,
          3,
          55,
          6,
          0,
          14,
          11,
          77,
          37,
          14,
          6,
          25,
          10,
          0,
          10,
          5,
          5,
          4,
          14,
          8,
          1,
          53,
          5,
          23,
          13,
          27,
          49,
          27,
          21,
          16,
          59,
          19,
          7,
          1,
          32,
          11,
          0,
          8,
          1,
          2,
          4,
          46,
          2,
          11,
          26,
          16,
          7,
          14,
          5,
          5,
          38,
          18,
          15,
          23,
          103,
          9,
          9,
          22,
          6,
          0,
          2,
          3,
          2,
          2,
          31,
          10,
          9,
          6,
          16,
          6,
          6,
          13,
          8,
          76,
          19,
          8,
          25,
          49,
          7,
          7,
          21,
          8,
          0,
          16,
          2,
          8,
          5,
          16,
          4,
          7,
          16,
          23,
          9,
          8,
          11,
          7,
          25,
          13,
          15,
          11,
          42,
          9,
          4,
          10,
          11,
          6,
          6,
          9,
          9,
          18,
          76,
          2,
          9,
          35,
          34,
          25,
          16,
          25,
          15,
          21,
          24,
          8,
          16,
          45,
          23,
          12,
          19,
          51,
          37,
          9,
          16,
          12,
          16,
          91,
          14,
          15,
          57,
          70,
          36,
          28,
          6,
          27,
          45,
          29,
          11,
          25,
          38,
          3,
          41,
          78,
          34,
          38,
          60,
          26,
          31,
          76,
          142,
          31,
          30,
          90,
          96,
          57,
          21,
          39,
          83,
          17,
          58,
          36,
          28,
          75,
          26,
          9,
          35,
          25,
          110,
          64,
          14,
          38,
          76,
          276,
          77,
          10,
          103,
          92,
          95,
          62,
          65,
          115,
          39,
          28,
          52,
          198,
          112,
          31,
          51,
          171,
          131,
          20,
          23,
          88,
          19,
          151,
          185,
          53,
          84,
          18,
          172,
          116,
          14,
          34,
          35,
          66,
          32,
          82,
          290,
          60,
          46,
          36,
          73,
          82,
          4,
          9,
          3,
          3,
          26,
          55,
          56,
          3,
          4,
          185,
          9,
          23,
          3,
          8,
          7,
          11,
          17,
          131,
          7,
          12,
          11,
          123,
          10,
          5,
          0,
          3,
          1,
          22,
          32,
          10,
          13,
          10,
          45,
          9,
          31,
          12,
          6,
          23,
          8,
          25,
          57,
          12,
          0,
          18,
          13,
          22,
          0,
          14,
          10,
          28,
          12,
          13,
          15,
          30,
          104,
          48,
          33,
          47,
          60,
          40,
          22,
          43,
          60,
          105,
          27,
          46,
          54,
          129,
          60,
          0,
          334,
          11,
          9,
          9,
          55,
          14,
          110,
          28,
          20,
          25,
          45,
          100,
          56,
          29,
          67,
          34,
          43,
          69,
          64,
          41,
          88,
          92,
          0,
          1,
          4,
          10,
          48,
          34,
          59,
          46,
          42,
          104,
          23,
          60,
          96,
          26,
          71,
          74,
          54,
          48,
          107,
          91,
          113,
          138,
          124,
          0,
          25,
          16,
          49,
          78,
          127,
          84,
          150,
          61,
          83,
          64,
          37,
          144,
          111,
          116,
          61,
          117,
          58,
          152,
          58,
          74,
          83,
          156,
          0,
          98,
          58,
          85,
          171,
          265,
          313,
          269,
          192,
          349,
          200,
          136,
          280,
          161,
          123,
          187,
          197,
          117,
          210,
          138,
          181,
          134,
          150,
          172,
          252,
          222,
          209,
          303,
          855,
          515,
          248,
          298,
          690,
          209,
          201,
          723,
          333,
          254,
          202,
          302,
          263,
          261,
          308,
          183,
          217,
          314,
          512,
          311,
          332,
          370,
          792,
          867,
          852,
          536,
          502,
          925,
          552,
          481,
          1224,
          600,
          556,
          356,
          424,
          320,
          815,
          433,
          405,
          403,
          402,
          2216,
          1198,
          925,
          788,
          1498,
          975,
          1618,
          970,
          948,
          2948,
          987,
          638,
          3336,
          1549,
          899,
          527,
          1201,
          876,
          1038,
          1109,
          518,
          698,
          964,
          2870,
          1898,
          1294,
          1861,
          4412,
          1978,
          3544,
          1565,
          1630,
          4978,
          1464,
          709,
          5906,
          2250,
          2334,
          735,
          1568,
          2033,
          1571,
          2155,
          1070,
          4149,
          1825,
          1036,
          743,
          906,
          477,
          1665,
          1318,
          1548,
          2018,
          270,
          2169,
          1425,
          413,
          1418,
          539,
          1450,
          567,
          1728,
          1607,
          488,
          1858,
          345,
          873,
          1622,
          48,
          111,
          26,
          15,
          273,
          212,
          356,
          169,
          254,
          240,
          195,
          111,
          79,
          76,
          64,
          162,
          160,
          490,
          115,
          125,
          36,
          160,
          229,
          13,
          20,
          6,
          18,
          118,
          175,
          94,
          17,
          58,
          85,
          63,
          42,
          53,
          25,
          113,
          69,
          52,
          147,
          59,
          43,
          90,
          88,
          70,
          0,
          54,
          19,
          29,
          49,
          575,
          338,
          674,
          386,
          634,
          203,
          400,
          457,
          195,
          461,
          316,
          291,
          458,
          395,
          178,
          281,
          712,
          86,
          0,
          6,
          11,
          1,
          116,
          13,
          24,
          73,
          36,
          21,
          59,
          30,
          104,
          14,
          84,
          72,
          17,
          78,
          268,
          44,
          15,
          74,
          72,
          0,
          17,
          6,
          0,
          16,
          24,
          43,
          19,
          19,
          89,
          6,
          39,
          129,
          43,
          54,
          45,
          40,
          41,
          70,
          32,
          93,
          57,
          39,
          0,
          4,
          6,
          2,
          28,
          112,
          98,
          99,
          20,
          76,
          40,
          27,
          143,
          46,
          114,
          83,
          66,
          103,
          103,
          90,
          50,
          63,
          93,
          0,
          3,
          28,
          21,
          71,
          236,
          324,
          108,
          89,
          294,
          101,
          25,
          300,
          98,
          370,
          132,
          140,
          184,
          186,
          157,
          203,
          139,
          231,
          78,
          32,
          94,
          101,
          227,
          865,
          818,
          662,
          520,
          1477,
          687,
          312,
          1225,
          689,
          987,
          603,
          786,
          850,
          693,
          644,
          738,
          749,
          757,
          276,
          258,
          233,
          549,
          1675,
          2675,
          1677,
          1984,
          1416,
          2786,
          1542,
          1182,
          2601,
          1159,
          3693,
          1332,
          2027,
          1616,
          2182,
          1973,
          1457,
          1078,
          1871,
          1177,
          897,
          839,
          2035,
          3789,
          2407,
          2426,
          3118,
          2416,
          10780,
          1777,
          2181,
          6826,
          2192,
          10519,
          2374,
          5338,
          5411,
          3849,
          3001,
          2833,
          3366,
          2162,
          3933,
          1739,
          1364,
          4550,
          5543,
          7799,
          6807,
          7805,
          3782,
          11245,
          3575,
          3107,
          11813,
          5086,
          7376,
          4312,
          4357,
          5502,
          3109,
          9243,
          3177,
          3667,
          4403,
          5140,
          3207,
          2654,
          6597,
          7152,
          8588,
          5386,
          8704,
          4270,
          9694,
          5018,
          2839,
          4095,
          3171,
          5911,
          3221,
          5574,
          6387,
          5617,
          4538,
          1832,
          3645,
          3394,
          2235,
          1494,
          2267,
          3521,
          8421,
          7536,
          10348,
          6670,
          6879,
          5191,
          5728,
          6505,
          6082,
          4038,
          2644,
          2368,
          3710,
          4159,
          3826,
          2706,
          2309,
          3158,
          2481,
          1396,
          1001,
          1462,
          1290,
          3377,
          3718,
          5296,
          3775,
          3469,
          2478,
          3386,
          2485,
          2502,
          2584,
          2086,
          2597,
          2329,
          3647,
          1491,
          2970,
          904,
          1813,
          1228,
          0,
          39,
          44,
          44,
          172,
          883,
          261,
          440,
          1000,
          470,
          232,
          615,
          327,
          206,
          179,
          276,
          244,
          720,
          300,
          457,
          317,
          576,
          768,
          0,
          28,
          35,
          54,
          22,
          566,
          397,
          951,
          414,
          280,
          208,
          203,
          440,
          147,
          200,
          374,
          134,
          396,
          763,
          295,
          266,
          709,
          806,
          0,
          18,
          60,
          24,
          103,
          541,
          822,
          423,
          474,
          679,
          227,
          379,
          663,
          301,
          419,
          636,
          481,
          517,
          934,
          698,
          766,
          1188,
          1270,
          0,
          76,
          59,
          309,
          641,
          930,
          946,
          1010,
          428,
          809,
          358,
          255,
          893,
          467,
          560,
          411,
          658,
          638,
          1351,
          708,
          426,
          708,
          992,
          0,
          730,
          1192,
          1191,
          2522,
          2765,
          4053,
          2259,
          1013,
          1546,
          522,
          601,
          1382,
          640,
          958,
          962,
          803,
          437,
          929,
          844,
          985,
          1118,
          951,
          2200,
          2201,
          4358,
          6641,
          7879,
          9038,
          11530,
          2696,
          2398,
          3552,
          1147,
          1148,
          2186,
          1074,
          1933,
          1388,
          1696,
          1328,
          1306,
          1476,
          1623,
          2151,
          1960,
          3711,
          3926,
          1335,
          1554,
          6932,
          12311,
          13214,
          6543,
          4561,
          4217,
          2497,
          1730,
          4037,
          1066,
          2120,
          1711,
          2112,
          1461,
          3301,
          2100,
          1816,
          2326,
          2429,
          15404,
          18563,
          6059,
          7755,
          16911,
          12841,
          16025,
          18153,
          9975,
          18331,
          5259,
          2326,
          17459,
          2652,
          6429,
          3739,
          6418,
          4498,
          6168,
          4578,
          2650,
          8030,
          10430,
          10360,
          11726,
          6251,
          8487,
          18707,
          19936,
          34088,
          27674,
          17382,
          37231,
          9639,
          3692,
          24140,
          6634,
          10620,
          5915,
          6569,
          8933,
          8284,
          14840,
          6638,
          10747,
          20312,
          2705,
          6111,
          6063,
          6544,
          10863,
          6660,
          11405,
          9852,
          2818,
          11291,
          7778,
          3173,
          5433,
          2533,
          3475,
          1828,
          4657,
          5730,
          2715,
          3738,
          1711,
          1774,
          5259,
          182,
          842,
          502,
          373,
          3247,
          2443,
          2825,
          1539,
          2711,
          1025,
          984,
          730,
          920,
          1198,
          488,
          906,
          836,
          1670,
          855,
          928,
          363,
          1176,
          1919,
          76,
          47,
          98,
          37,
          1127,
          1646,
          1446,
          564,
          305,
          537,
          597,
          207,
          1133,
          453,
          572,
          408,
          347,
          1413,
          399,
          249,
          471,
          666,
          612,
          0,
          239,
          326,
          97,
          305,
          238,
          375,
          71,
          72,
          23,
          59,
          310,
          80,
          148,
          187,
          161,
          156,
          176,
          108,
          322,
          47,
          542,
          226,
          0,
          69,
          81,
          90,
          98,
          142,
          271,
          301,
          149,
          137,
          108,
          173,
          167,
          66,
          127,
          107,
          119,
          106,
          119,
          146,
          50,
          290,
          250,
          0,
          100,
          23,
          39,
          115,
          159,
          323,
          261,
          166,
          179,
          128,
          150,
          178,
          47,
          192,
          160,
          72,
          119,
          101,
          164,
          163,
          159,
          575,
          0,
          97,
          90,
          108,
          230,
          177,
          175,
          251,
          106,
          169,
          116,
          639,
          162,
          31,
          105,
          93,
          113,
          54,
          141,
          69,
          94,
          70,
          813,
          0,
          206,
          127,
          112,
          88,
          273,
          58,
          483,
          298,
          242,
          152,
          866,
          132,
          106,
          154,
          96,
          68,
          54,
          98,
          69,
          100,
          113,
          355,
          82,
          125,
          157,
          250,
          520,
          499,
          550,
          557,
          285,
          530,
          163,
          434,
          408,
          117,
          110,
          46,
          81,
          289,
          132,
          150,
          131,
          397,
          508,
          360,
          1297,
          160,
          590,
          1064,
          571,
          598,
          1364,
          728,
          592,
          358,
          369,
          701,
          270,
          553,
          226,
          190,
          355,
          673,
          817,
          333,
          748,
          1305,
          228,
          4356,
          530,
          2450,
          4183,
          1002,
          1605,
          6141,
          1570,
          2279,
          823,
          818,
          1901,
          567,
          2782,
          715,
          296,
          1200,
          1292,
          1159,
          442,
          2430,
          2508,
          457,
          2971,
          509,
          1384,
          2930,
          1185,
          3070,
          2291,
          1199,
          5380,
          1754,
          1165,
          2197,
          1048,
          2166,
          1088,
          343,
          1263,
          2292,
          2084,
          642,
          3210,
          3097,
          576,
          2056,
          657,
          563,
          2586,
          710,
          1104,
          806,
          333,
          1268,
          515,
          895,
          746,
          348,
          689,
          393,
          529,
          451,
          1070,
          541,
          124,
          2310,
          1949,
          307,
          1195,
          274,
          220,
          1938,
          476,
          312,
          226,
          250,
          245,
          182,
          409,
          335,
          439,
          150,
          368,
          175,
          228,
          235,
          136,
          56,
          1243,
          299,
          101,
          306,
          139,
          143,
          486,
          180,
          175,
          152,
          88,
          95,
          472,
          85,
          349,
          544,
          213,
          162,
          72,
          322,
          112,
          80,
          198,
          141,
          195,
          0,
          36,
          24,
          18,
          29,
          47,
          29,
          52,
          168,
          115,
          99,
          82,
          132,
          112,
          90,
          93,
          130,
          127,
          37,
          99,
          62,
          142,
          80,
          0,
          112,
          20,
          39,
          62,
          181,
          36,
          106,
          135,
          99,
          84,
          104,
          185,
          131,
          140,
          161,
          121,
          69,
          127,
          54,
          60,
          111,
          114,
          0,
          13,
          24,
          13,
          62,
          123,
          125,
          157,
          103,
          263,
          113,
          132,
          121,
          82,
          181,
          136,
          62,
          62,
          91,
          99,
          107,
          127,
          82,
          0,
          27,
          49,
          60,
          99,
          265,
          161,
          227,
          153,
          188,
          172,
          61,
          144,
          97,
          201,
          80,
          145,
          85,
          166,
          67,
          56,
          85,
          83,
          0,
          51,
          67,
          83,
          98,
          369,
          237,
          230,
          379,
          473,
          285,
          200,
          246,
          201,
          178,
          182,
          208,
          109,
          178,
          124,
          153,
          143,
          166,
          70,
          133,
          135,
          165,
          207,
          1065,
          303,
          336,
          444,
          884,
          283,
          216,
          619,
          387,
          245,
          191,
          344,
          192,
          241,
          233,
          201,
          322,
          272,
          231,
          319,
          345,
          265,
          888,
          1465,
          831,
          874,
          1277,
          1429,
          767,
          515,
          1040,
          889,
          701,
          512,
          537,
          272,
          986,
          471,
          557,
          808,
          536,
          878,
          1193,
          770,
          858,
          2142,
          2094,
          1865,
          1520,
          1948,
          3681,
          1448,
          702,
          3634,
          2445,
          919,
          933,
          1791,
          962,
          1563,
          1610,
          553,
          1369,
          1155,
          1977,
          2687,
          1080,
          1597,
          3818,
          7489,
          5288,
          2301,
          3077,
          6800,
          2765,
          1380,
          5200,
          5930,
          2919,
          1618,
          3154,
          2631,
          1979,
          3084,
          1860,
          3833,
          3467,
          1091,
          1361,
          1954,
          529,
          4660,
          5540,
          3062,
          7145,
          815,
          5880,
          4299,
          1128,
          2196,
          1251,
          4038,
          1157,
          4373,
          3393,
          911,
          2336,
          840,
          2049,
          2404,
          31,
          271,
          43,
          62,
          486,
          508,
          1066,
          548,
          195,
          2306,
          1436,
          310,
          119,
          192,
          258,
          244,
          349,
          1340,
          113,
          145,
          86,
          892,
          281,
          21,
          32,
          14,
          44,
          280,
          280,
          226,
          206,
          138,
          396,
          137,
          106,
          130,
          49,
          238,
          80,
          123,
          248,
          90,
          61,
          92,
          118,
          97,
          0,
          87,
          30,
          34,
          144,
          1440,
          875,
          2861,
          855,
          817,
          240,
          466,
          701,
          219,
          534,
          291,
          570,
          866,
          1479,
          213,
          536,
          355,
          225,
          0,
          285,
          29,
          16,
          120,
          23,
          36,
          121,
          110,
          39,
          99,
          26,
          147,
          25,
          78,
          47,
          30,
          92,
          370,
          14,
          36,
          80,
          64,
          0,
          7,
          181,
          0,
          14,
          28,
          29,
          32,
          18,
          17,
          11,
          11,
          141,
          16,
          16,
          20,
          17,
          31,
          53,
          18,
          51,
          46,
          63,
          0,
          6,
          40,
          0,
          11,
          14,
          61,
          43,
          11,
          17,
          12,
          15,
          30,
          10,
          24,
          29,
          23,
          22,
          51,
          42,
          13,
          38,
          38,
          0,
          4,
          12,
          7,
          18,
          112,
          193,
          101,
          8,
          90,
          30,
          8,
          97,
          21,
          98,
          74,
          55,
          84,
          148,
          121,
          78,
          80,
          88,
          58,
          37,
          59,
          42,
          149,
          403,
          637,
          656,
          423,
          671,
          328,
          91,
          441,
          199,
          305,
          323,
          284,
          241,
          509,
          486,
          454,
          315,
          491,
          639,
          982,
          426,
          709,
          1308,
          3814,
          6620,
          9464,
          1955,
          1885,
          3020,
          703,
          2065,
          1024,
          1041,
          793,
          813,
          882,
          1732,
          3696,
          929,
          1443,
          2687,
          6816,
          6179,
          5484,
          9042,
          21369,
          8875,
          17861,
          23635,
          15064,
          21386,
          11035,
          5386,
          21677,
          3040,
          9168,
          3173,
          8147,
          7672,
          5185,
          8781,
          2782,
          10185,
          10865,
          6237,
          4417,
          2569,
          6136,
          11379,
          12633,
          14249,
          12728,
          13225,
          22055,
          9463,
          8961,
          15187,
          6821,
          8190,
          4363,
          6636,
          9394,
          3878,
          15735,
          4892,
          4618,
          10876,
          3666,
          5026,
          4308,
          5102,
          7848,
          6673,
          7464,
          8689,
          9346,
          8346,
          11568,
          9444,
          6435,
          4588,
          5946,
          5510,
          6241,
          7379,
          5954,
          6146,
          5028,
          3870,
          8052,
          1862,
          2682,
          3366,
          4936,
          12795,
          10732,
          15958,
          9368,
          9684,
          10114,
          9456,
          12485,
          7544,
          5760,
          8871,
          3844,
          7908,
          9783,
          7314,
          9639,
          6276,
          7390,
          2970,
          1009,
          766,
          1697,
          2566,
          5083,
          8293,
          10231,
          3779,
          5141,
          3054,
          3187,
          4068,
          2731,
          4840,
          2950,
          5579,
          4802,
          6718,
          3051,
          4879,
          1005,
          1745,
          2184,
          0,
          26,
          0,
          11,
          5,
          77,
          38,
          169,
          85,
          77,
          88,
          126,
          52,
          12,
          54,
          39,
          64,
          36,
          16,
          23,
          42,
          42,
          63,
          0,
          2,
          11,
          6,
          18,
          3,
          1,
          22,
          10,
          13,
          20,
          13,
          15,
          2,
          19,
          11,
          5,
          15,
          3,
          8,
          3,
          7,
          16,
          0,
          1,
          5,
          0,
          3,
          1,
          3,
          16,
          8,
          2,
          6,
          4,
          18,
          11,
          11,
          5,
          16,
          6,
          3,
          4,
          3,
          4,
          3,
          0,
          3,
          1,
          0,
          1,
          2,
          3,
          4,
          1,
          1,
          2,
          5,
          2,
          3,
          13,
          7,
          7,
          11,
          1,
          1,
          4,
          0,
          1,
          0,
          0,
          0,
          4,
          1,
          2,
          3,
          0,
          0,
          0,
          0,
          0,
          12,
          0,
          8,
          4,
          1,
          6,
          1,
          1,
          1,
          3,
          0,
          3,
          1,
          1,
          0,
          1,
          0,
          0,
          0,
          2,
          0,
          0,
          0,
          3,
          4,
          5,
          3,
          0,
          0,
          3,
          0,
          1,
          2,
          4,
          0,
          1,
          0,
          9,
          9,
          13,
          3,
          1,
          2,
          6,
          1,
          4,
          7,
          6,
          4,
          1,
          9,
          2,
          20,
          1,
          3,
          4,
          5,
          3,
          4,
          6,
          34,
          51,
          15,
          24,
          1,
          8,
          14,
          3,
          3,
          13,
          12,
          19,
          3,
          28,
          5,
          50,
          2,
          45,
          41,
          50,
          50,
          14,
          9,
          98,
          93,
          94,
          52,
          13,
          32,
          31,
          22,
          29,
          42,
          53,
          58,
          21,
          49,
          47,
          111,
          22,
          70,
          139,
          156,
          178,
          49,
          127,
          278,
          219,
          427,
          205,
          172,
          136,
          165,
          109,
          116,
          166,
          225,
          148,
          53,
          67,
          113,
          283,
          102,
          209,
          332,
          248,
          47,
          38,
          66,
          296,
          250,
          604,
          391,
          305,
          391,
          429,
          299,
          464,
          544,
          406,
          139,
          87,
          91,
          190,
          130,
          114,
          185,
          351,
          181,
          53,
          40,
          34,
          70,
          167,
          324,
          385,
          301,
          339,
          249,
          317,
          292,
          82,
          208,
          70,
          72,
          58,
          109,
          87,
          85,
          193,
          259,
          183,
          0,
          7,
          49,
          32,
          47,
          177,
          206,
          76,
          109,
          41,
          59,
          63,
          22,
          35,
          46,
          49,
          70,
          87,
          124,
          53,
          16,
          92,
          39,
          0,
          22,
          67,
          8,
          24,
          100,
          92,
          158,
          95,
          73,
          91,
          39,
          58,
          18,
          77,
          20,
          57,
          42,
          20,
          64,
          75,
          24,
          49,
          0,
          40,
          51,
          12,
          18,
          139,
          169,
          140,
          92,
          127,
          69,
          122,
          39,
          40,
          88,
          36,
          40,
          43,
          63,
          45,
          21,
          45,
          147,
          0,
          39,
          51,
          43,
          84,
          245,
          172,
          100,
          187,
          111,
          88,
          178,
          99,
          64,
          63,
          137,
          37,
          77,
          162,
          103,
          158,
          59,
          309,
          0,
          57,
          43,
          26,
          65,
          552,
          45,
          248,
          452,
          121,
          289,
          179,
          102,
          197,
          160,
          134,
          111,
          74,
          77,
          47,
          241,
          47,
          319,
          36,
          31,
          53,
          43,
          115,
          799,
          394,
          223,
          396,
          524,
          109,
          196,
          286,
          274,
          132,
          97,
          114,
          201,
          261,
          138,
          158,
          266,
          238,
          59,
          94,
          98,
          120,
          439,
          678,
          418,
          495,
          891,
          440,
          705,
          78,
          419,
          420,
          203,
          311,
          213,
          131,
          552,
          708,
          481,
          418,
          337,
          42,
          939,
          850,
          343,
          2216,
          2770,
          1989,
          1894,
          1681,
          1187,
          954,
          1287,
          1220,
          582,
          821,
          701,
          664,
          640,
          994,
          789,
          672,
          1144,
          801,
          61,
          878,
          381,
          258,
          2451,
          2867,
          1810,
          546,
          1141,
          1212,
          653,
          198,
          419,
          1156,
          544,
          545,
          420,
          604,
          1428,
          1120,
          310,
          731,
          702,
          61,
          451,
          656,
          211,
          675,
          1480,
          967,
          175,
          562,
          663,
          103,
          508,
          429,
          308,
          227,
          238,
          373,
          142,
          166,
          108,
          112,
          310,
          352,
          143,
          445,
          85,
          89,
          853,
          720,
          556,
          764,
          205,
          345,
          242,
          120,
          245,
          192,
          219,
          113,
          59,
          23,
          260,
          319,
          116,
          97,
          186,
          82,
          254,
          159,
          85,
          363,
          339,
          314,
          204,
          69,
          154,
          300,
          57,
          60,
          102,
          88,
          150,
          75,
          23,
          44,
          98,
          151,
          81,
          40,
          0,
          102,
          3,
          7,
          10,
          202,
          41,
          238,
          151,
          145,
          184,
          286,
          62,
          67,
          161,
          56,
          81,
          101,
          22,
          52,
          35,
          67,
          105,
          0,
          14,
          4,
          2,
          19,
          43,
          12,
          43,
          49,
          18,
          60,
          31,
          54,
          25,
          75,
          33,
          20,
          48,
          22,
          24,
          7,
          9,
          36,
          0,
          27,
          14,
          0,
          24,
          13,
          12,
          46,
          25,
          6,
          34,
          24,
          69,
          50,
          68,
          39,
          32,
          27,
          3,
          9,
          8,
          15,
          14,
          0,
          2,
          1,
          2,
          5,
          10,
          10,
          7,
          8,
          9,
          7,
          7,
          6,
          26,
          49,
          8,
          7,
          26,
          8,
          8,
          5,
          11,
          11,
          0,
          6,
          7,
          5,
          13,
          10,
          5,
          2,
          5,
          6,
          2,
          1,
          8,
          3,
          44,
          9,
          2,
          12,
          3,
          13,
          2,
          12,
          2,
          1,
          7,
          4,
          2,
          1,
          4,
          8,
          3,
          1,
          5,
          1,
          2,
          5,
          5,
          16,
          14,
          4,
          2,
          4,
          4,
          13,
          5,
          10,
          5,
          2,
          0,
          6,
          7,
          12,
          17,
          4,
          4,
          11,
          6,
          2,
          11,
          3,
          11,
          7,
          11,
          12,
          14,
          1,
          6,
          5,
          16,
          12,
          3,
          31,
          27,
          34,
          35,
          43,
          15,
          13,
          23,
          8,
          8,
          27,
          29,
          25,
          14,
          16,
          21,
          33,
          18,
          35,
          14,
          18,
          172,
          57,
          134,
          296,
          439,
          575,
          219,
          164,
          143,
          205,
          95,
          165,
          181,
          205,
          171,
          136,
          60,
          107,
          137,
          54,
          95,
          76,
          128,
          376,
          174,
          408,
          455,
          657,
          989,
          659,
          452,
          365,
          833,
          303,
          267,
          387,
          530,
          265,
          157,
          172,
          172,
          274,
          216,
          215,
          204,
          270,
          140,
          39,
          64,
          203,
          516,
          634,
          528,
          474,
          603,
          557,
          517,
          528,
          951,
          401,
          177,
          102,
          97,
          263,
          196,
          91,
          186,
          246,
          214,
          59,
          16,
          22,
          62,
          260,
          243,
          449,
          363,
          392,
          339,
          403,
          393,
          158,
          378,
          123,
          121,
          91,
          159,
          158,
          73,
          115,
          176,
          193,
          0,
          21,
          5,
          29,
          32,
          109,
          55,
          111,
          176,
          152,
          71,
          114,
          116,
          47,
          100,
          78,
          91,
          77,
          93,
          82,
          84,
          115,
          47,
          0,
          22,
          12,
          0,
          159,
          6,
          25,
          34,
          27,
          18,
          24,
          19,
          75,
          12,
          38,
          70,
          12,
          24,
          83,
          19,
          8,
          35,
          38,
          0,
          4,
          14,
          2,
          63,
          14,
          41,
          8,
          16,
          43,
          5,
          24,
          36,
          24,
          74,
          15,
          78,
          31,
          33,
          28,
          43,
          46,
          28,
          0,
          10,
          15,
          1,
          87,
          25,
          25,
          15,
          4,
          44,
          9,
          10,
          63,
          22,
          120,
          34,
          57,
          41,
          31,
          23,
          11,
          25,
          35,
          0,
          8,
          25,
          36,
          84,
          64,
          126,
          27,
          26,
          147,
          40,
          12,
          253,
          82,
          352,
          49,
          131,
          57,
          53,
          45,
          118,
          67,
          54,
          46,
          47,
          18,
          88,
          164,
          213,
          252,
          192,
          123,
          656,
          106,
          64,
          456,
          507,
          865,
          272,
          372,
          268,
          151,
          142,
          382,
          340,
          148,
          188,
          124,
          75,
          338,
          558,
          738,
          579,
          636,
          369,
          1571,
          237,
          316,
          1826,
          874,
          1746,
          371,
          1151,
          706,
          746,
          510,
          1067,
          561,
          511,
          712,
          498,
          416,
          1131,
          2288,
          884,
          1018,
          1124,
          1244,
          4187,
          532,
          818,
          4102,
          1843,
          3615,
          1033,
          2169,
          2039,
          1730,
          1257,
          2479,
          2117,
          919,
          1993,
          873,
          1095,
          2468,
          3035,
          3711,
          3181,
          3351,
          1685,
          5406,
          1572,
          1785,
          5983,
          4389,
          4057,
          2301,
          2494,
          5151,
          1344,
          2192,
          2678,
          3137,
          2772,
          2581,
          1441,
          2559,
          3805,
          2767,
          2690,
          2580,
          3625,
          1728,
          3512,
          2125,
          1046,
          4119,
          1693,
          2639,
          1241,
          1657,
          4000,
          2544,
          2342,
          1641,
          2671,
          3437,
          425,
          336,
          447,
          1489,
          1369,
          1765,
          2139,
          1830,
          1693,
          1505,
          1092,
          1660,
          1746,
          1209,
          530,
          590,
          670,
          842,
          1130,
          552,
          591,
          1211,
          880,
          119,
          75,
          79,
          233,
          537,
          639,
          1165,
          921,
          776,
          737,
          843,
          673,
          417,
          461,
          401,
          430,
          328,
          603,
          365,
          465,
          329,
          569,
          448,
          0,
          0,
          0,
          0,
          0,
          2,
          3,
          13,
          18,
          0,
          2,
          4,
          6,
          9,
          6,
          5,
          26,
          86,
          1,
          12,
          4,
          36,
          7,
          0,
          0,
          1,
          3,
          1,
          17,
          6,
          9,
          11,
          21,
          3,
          3,
          86,
          46,
          12,
          15,
          107,
          28,
          6,
          24,
          0,
          21,
          10,
          0,
          0,
          0,
          0,
          1,
          33,
          5,
          15,
          14,
          45,
          4,
          6,
          4,
          4,
          12,
          3,
          25,
          15,
          3,
          8,
          5,
          3,
          6,
          0,
          1,
          2,
          2,
          8,
          24,
          12,
          13,
          16,
          31,
          2,
          8,
          6,
          4,
          5,
          4,
          9,
          8,
          40,
          11,
          2,
          0,
          10,
          0,
          7,
          5,
          4,
          4,
          32,
          13,
          25,
          56,
          29,
          33,
          40,
          23,
          15,
          12,
          14,
          13,
          16,
          24,
          16,
          7,
          18,
          26,
          3,
          8,
          14,
          13,
          13,
          155,
          55,
          51,
          148,
          46,
          29,
          46,
          109,
          45,
          11,
          21,
          39,
          21,
          30,
          41,
          32,
          47,
          40,
          21,
          14,
          22,
          57,
          52,
          235,
          51,
          59,
          301,
          134,
          136,
          67,
          108,
          122,
          62,
          60,
          44,
          67,
          127,
          59,
          74,
          141,
          131,
          21,
          89,
          34,
          127,
          251,
          250,
          151,
          243,
          322,
          330,
          134,
          95,
          355,
          223,
          76,
          83,
          185,
          141,
          219,
          124,
          29,
          157,
          162,
          44,
          192,
          16,
          60,
          81,
          224,
          338,
          67,
          243,
          422,
          177,
          94,
          361,
          504,
          173,
          118,
          315,
          74,
          177,
          439,
          65,
          208,
          237,
          6,
          30,
          25,
          33,
          332,
          117,
          40,
          168,
          34,
          295,
          59,
          20,
          43,
          109,
          162,
          37,
          473,
          78,
          28,
          182,
          13,
          70,
          52,
          6,
          16,
          2,
          4,
          17,
          10,
          60,
          18,
          7,
          12,
          2,
          31,
          26,
          15,
          12,
          26,
          31,
          3,
          17,
          39,
          2,
          5,
          9,
          1,
          0,
          0,
          2,
          14,
          12,
          16,
          6,
          2,
          4,
          9,
          8,
          10,
          5,
          8,
          6,
          16,
          5,
          5,
          4,
          13,
          6,
          4,
          0,
          32,
          1,
          2,
          4,
          123,
          43,
          161,
          106,
          78,
          90,
          116,
          37,
          15,
          66,
          23,
          32,
          38,
          13,
          27,
          23,
          20,
          37,
          0,
          10,
          7,
          0,
          17,
          20,
          8,
          51,
          21,
          11,
          39,
          13,
          20,
          3,
          16,
          26,
          7,
          14,
          2,
          13,
          6,
          5,
          5,
          0,
          9,
          10,
          0,
          3,
          4,
          0,
          23,
          18,
          5,
          5,
          2,
          28,
          5,
          12,
          7,
          4,
          3,
          2,
          3,
          12,
          2,
          3,
          0,
          21,
          16,
          10,
          0,
          1,
          3,
          3,
          4,
          6,
          3,
          5,
          9,
          0,
          4,
          8,
          2,
          5,
          2,
          6,
          3,
          1,
          2,
          0,
          1,
          3,
          56,
          6,
          6,
          5,
          5,
          4,
          12,
          2,
          0,
          2,
          2,
          17,
          2,
          1,
          4,
          1,
          2,
          1,
          0,
          0,
          1,
          4,
          9,
          13,
          1,
          12,
          9,
          2,
          1,
          1,
          2,
          0,
          2,
          0,
          5,
          2,
          1,
          6,
          5,
          2,
          6,
          1,
          1,
          5,
          7,
          4,
          23,
          11,
          13,
          5,
          9,
          2,
          14,
          1,
          2,
          9,
          0,
          4,
          0,
          2,
          3,
          10,
          3,
          8,
          4,
          7,
          4,
          38,
          30,
          55,
          52,
          108,
          18,
          13,
          19,
          33,
          4,
          1,
          30,
          10,
          28,
          3,
          19,
          16,
          23,
          14,
          47,
          52,
          30,
          49,
          35,
          17,
          43,
          74,
          118,
          59,
          43,
          54,
          74,
          21,
          26,
          58,
          30,
          36,
          6,
          26,
          33,
          38,
          28,
          71,
          81,
          106,
          55,
          40,
          28,
          34,
          181,
          344,
          120,
          215,
          89,
          133,
          80,
          89,
          105,
          94,
          75,
          63,
          69,
          115,
          109,
          84,
          87,
          235,
          175,
          41,
          61,
          9,
          40,
          223,
          462,
          211,
          278,
          232,
          219,
          147,
          181,
          262,
          153,
          90,
          71,
          109,
          87,
          98,
          103,
          128,
          230,
          143,
          17,
          29,
          11,
          20,
          259,
          336,
          344,
          198,
          184,
          188,
          203,
          224,
          66,
          152,
          79,
          39,
          45,
          78,
          75,
          66,
          64,
          99,
          155,
          0,
          63,
          126,
          12,
          263,
          91,
          108,
          186,
          64,
          61,
          71,
          88,
          42,
          26,
          79,
          47,
          38,
          29,
          60,
          26,
          45,
          33,
          32,
          0,
          35,
          43,
          32,
          38,
          18,
          103,
          54,
          63,
          41,
          47,
          26,
          29,
          20,
          43,
          51,
          27,
          34,
          47,
          31,
          72,
          48,
          89,
          0,
          38,
          51,
          11,
          26,
          50,
          225,
          183,
          128,
          34,
          70,
          82,
          43,
          53,
          100,
          56,
          52,
          70,
          33,
          39,
          74,
          94,
          227,
          0,
          12,
          1,
          3,
          6,
          133,
          218,
          81,
          172,
          115,
          182,
          302,
          107,
          88,
          61,
          98,
          64,
          166,
          26,
          61,
          86,
          54,
          457,
          0,
          13,
          4,
          4,
          7,
          179,
          58,
          144,
          267,
          89,
          226,
          271,
          28,
          83,
          247,
          58,
          60,
          166,
          39,
          41,
          108,
          26,
          423,
          0,
          9,
          0,
          1,
          4,
          104,
          260,
          127,
          115,
          156,
          113,
          118,
          39,
          109,
          233,
          41,
          63,
          70,
          311,
          96,
          62,
          134,
          158,
          0,
          10,
          6,
          6,
          405,
          687,
          539,
          296,
          615,
          375,
          439,
          267,
          196,
          188,
          439,
          196,
          206,
          59,
          942,
          707,
          78,
          379,
          201,
          9,
          24,
          18,
          36,
          1482,
          2728,
          1142,
          824,
          1537,
          823,
          466,
          1520,
          1086,
          284,
          665,
          372,
          1200,
          381,
          1182,
          633,
          707,
          1647,
          1404,
          60,
          19,
          27,
          2,
          853,
          1163,
          643,
          430,
          728,
          749,
          273,
          91,
          458,
          785,
          198,
          356,
          212,
          185,
          629,
          278,
          222,
          523,
          263,
          169,
          56,
          10,
          13,
          31,
          595,
          992,
          119,
          213,
          151,
          214,
          187,
          178,
          109,
          134,
          113,
          98,
          63,
          84,
          85,
          69,
          104,
          196,
          28,
          103,
          18,
          49,
          138,
          209,
          273,
          290,
          136,
          118,
          107,
          12,
          134,
          152,
          85,
          102,
          54,
          20,
          97,
          139,
          47,
          53,
          110,
          605,
          1110,
          80,
          80,
          108,
          175,
          168,
          133,
          78,
          110,
          152,
          24,
          175,
          82,
          38,
          57,
          31,
          35,
          77,
          82,
          45,
          101,
          52,
          0,
          1,
          0,
          0,
          6,
          69,
          31,
          122,
          14,
          44,
          6,
          25,
          26,
          2,
          6,
          16,
          11,
          24,
          85,
          43,
          15,
          33,
          56,
          0,
          1,
          6,
          2,
          8,
          14,
          16,
          41,
          19,
          5,
          12,
          2,
          9,
          11,
          9,
          8,
          4,
          17,
          71,
          15,
          7,
          22,
          39,
          0,
          8,
          9,
          0,
          1,
          12,
          28,
          16,
          15,
          27,
          2,
          15,
          13,
          6,
          20,
          30,
          11,
          10,
          30,
          23,
          28,
          28,
          38,
          0,
          3,
          0,
          0,
          3,
          18,
          27,
          26,
          9,
          10,
          12,
          6,
          43,
          12,
          21,
          27,
          16,
          12,
          56,
          20,
          7,
          26,
          33,
          0,
          3,
          15,
          7,
          15,
          102,
          32,
          61,
          105,
          65,
          20,
          10,
          70,
          59,
          35,
          19,
          26,
          13,
          52,
          29,
          41,
          50,
          58,
          27,
          10,
          54,
          31,
          143,
          230,
          297,
          261,
          232,
          314,
          79,
          26,
          223,
          169,
          55,
          32,
          99,
          120,
          174,
          152,
          148,
          170,
          138,
          366,
          135,
          120,
          74,
          741,
          1682,
          1734,
          1947,
          1057,
          587,
          475,
          133,
          871,
          320,
          253,
          159,
          209,
          417,
          947,
          1007,
          769,
          780,
          428,
          2254,
          1977,
          2200,
          2133,
          5484,
          9052,
          9259,
          12801,
          6348,
          6769,
          2840,
          609,
          5837,
          1358,
          2561,
          1102,
          2846,
          3669,
          3551,
          3249,
          1975,
          5593,
          3087,
          3756,
          3059,
          2440,
          1929,
          15903,
          10782,
          23419,
          20907,
          14939,
          14051,
          5122,
          2426,
          7575,
          2460,
          3141,
          2472,
          2806,
          5200,
          3916,
          4568,
          6034,
          3644,
          4202,
          486,
          1884,
          641,
          797,
          5410,
          7593,
          5089,
          4718,
          1895,
          5343,
          2548,
          1910,
          1724,
          1281,
          1866,
          510,
          978,
          2470,
          2041,
          1726,
          986,
          556,
          2413,
          3,
          41,
          13,
          92,
          875,
          750,
          681,
          671,
          1028,
          235,
          420,
          214,
          351,
          357,
          271,
          103,
          187,
          901,
          413,
          423,
          198,
          263,
          509,
          33,
          0,
          7,
          1,
          102,
          253,
          268,
          78,
          41,
          50,
          24,
          25,
          228,
          45,
          74,
          135,
          141,
          260,
          138,
          58,
          47,
          65,
          144,
          0,
          15,
          18,
          101,
          302,
          761,
          522,
          155,
          98,
          288,
          371,
          65,
          457,
          307,
          239,
          482,
          557,
          411,
          1958,
          108,
          480,
          383,
          297,
          0,
          20,
          57,
          646,
          476,
          1063,
          349,
          207,
          441,
          1347,
          223,
          212,
          634,
          140,
          172,
          71,
          332,
          571,
          185,
          124,
          558,
          629,
          483,
          0,
          98,
          125,
          1107,
          819,
          1486,
          449,
          441,
          524,
          927,
          702,
          293,
          536,
          158,
          183,
          265,
          603,
          175,
          1195,
          251,
          727,
          2433,
          695,
          0,
          16,
          0,
          380,
          41,
          354,
          262,
          56,
          376,
          184,
          278,
          279,
          19,
          156,
          49,
          113,
          183,
          307,
          154,
          75,
          191,
          1134,
          165,
          0,
          0,
          7,
          9,
          0,
          6,
          9,
          6,
          5,
          2,
          22,
          277,
          6,
          9,
          21,
          6,
          63,
          14,
          22,
          27,
          10,
          21,
          11,
          0,
          3,
          0,
          1,
          0,
          4,
          9,
          10,
          0,
          3,
          3,
          19,
          1,
          9,
          29,
          6,
          5,
          5,
          10,
          4,
          5,
          2,
          4,
          1,
          4,
          0,
          1,
          11,
          0,
          2,
          8,
          1,
          15,
          0,
          21,
          2,
          10,
          3,
          4,
          9,
          5,
          1,
          3,
          4,
          4,
          9,
          0,
          1,
          9,
          4,
          18,
          6,
          22,
          16,
          21,
          4,
          13,
          41,
          7,
          47,
          8,
          4,
          16,
          14,
          17,
          33,
          7,
          5,
          14,
          2,
          3,
          12,
          1,
          91,
          8,
          15,
          108,
          56,
          19,
          30,
          148,
          27,
          66,
          89,
          39,
          80,
          86,
          18,
          40,
          17,
          26,
          62,
          1,
          10,
          25,
          13,
          238,
          24,
          71,
          121,
          161,
          69,
          112,
          261,
          87,
          81,
          201,
          116,
          65,
          194,
          107,
          150,
          141,
          53,
          113,
          1,
          15,
          32,
          76,
          188,
          52,
          210,
          175,
          96,
          357,
          165,
          394,
          39,
          181,
          257,
          125,
          197,
          298,
          69,
          421,
          120,
          58,
          19,
          16,
          35,
          77,
          76,
          282,
          223,
          301,
          158,
          410,
          29,
          31,
          349,
          103,
          311,
          125,
          164,
          409,
          372,
          134,
          329,
          123,
          36,
          58,
          0,
          11,
          14,
          11,
          22,
          92,
          63,
          61,
          74,
          27,
          37,
          40,
          6,
          20,
          25,
          27,
          51,
          18,
          64,
          46,
          9,
          41,
          35,
          0,
          2,
          8,
          0,
          5,
          64,
          64,
          79,
          35,
          37,
          59,
          18,
          19,
          1,
          34,
          11,
          25,
          15,
          2,
          27,
          48,
          10,
          36,
          0,
          7,
          46,
          1,
          12,
          111,
          141,
          189,
          90,
          68,
          32,
          65,
          25,
          18,
          111,
          30,
          17,
          31,
          20,
          20,
          22,
          22,
          132,
          0,
          0,
          7,
          1,
          7,
          290,
          185,
          116,
          227,
          47,
          59,
          139,
          36,
          21,
          57,
          105,
          35,
          36,
          33,
          28,
          150,
          12,
          308,
          0,
          1,
          0,
          2,
          3,
          492,
          40,
          175,
          346,
          36,
          217,
          102,
          3,
          85,
          160,
          98,
          40,
          70,
          36,
          35,
          77,
          3,
          286,
          2,
          0,
          2,
          1,
          0,
          339,
          369,
          197,
          220,
          162,
          76,
          77,
          40,
          121,
          111,
          81,
          3,
          101,
          104,
          66,
          52,
          104,
          102,
          0,
          2,
          21,
          5,
          323,
          414,
          243,
          392,
          707,
          186,
          438,
          76,
          171,
          81,
          102,
          215,
          83,
          46,
          610,
          461,
          161,
          189,
          89,
          0,
          51,
          68,
          25,
          1263,
          2611,
          1357,
          1357,
          1862,
          848,
          585,
          1133,
          1111,
          350,
          718,
          454,
          521,
          382,
          795,
          558,
          574,
          939,
          977,
          6,
          101,
          36,
          18,
          1189,
          1641,
          943,
          208,
          769,
          771,
          399,
          82,
          377,
          772,
          274,
          370,
          202,
          160,
          677,
          491,
          126,
          272,
          203,
          4,
          16,
          55,
          26,
          74,
          883,
          1056,
          225,
          379,
          245,
          78,
          286,
          191,
          151,
          63,
          116,
          123,
          21,
          56,
          40,
          74,
          68,
          172,
          21,
          84,
          19,
          66,
          554,
          482,
          454,
          500,
          212,
          164,
          132,
          67,
          118,
          100,
          120,
          80,
          45,
          8,
          144,
          164,
          53,
          63,
          69,
          26,
          89,
          29,
          45,
          143,
          229,
          115,
          83,
          65,
          98,
          133,
          36,
          66,
          52,
          45,
          76,
          35,
          18,
          20,
          69,
          71,
          81,
          16,
          0,
          7,
          36,
          26,
          19,
          67,
          56,
          25,
          108,
          43,
          47,
          33,
          56,
          76,
          49,
          51,
          67,
          86,
          56,
          21,
          41,
          90,
          69,
          0,
          47,
          25,
          25,
          19,
          185,
          91,
          131,
          92,
          179,
          34,
          87,
          184,
          77,
          110,
          101,
          97,
          37,
          107,
          88,
          26,
          35,
          103,
          0,
          78,
          27,
          35,
          111,
          96,
          122,
          131,
          187,
          267,
          110,
          108,
          153,
          47,
          139,
          61,
          58,
          45,
          65,
          78,
          126,
          85,
          127,
          0,
          291,
          102,
          61,
          178,
          165,
          112,
          213,
          285,
          202,
          132,
          199,
          148,
          76,
          121,
          172,
          93,
          70,
          293,
          37,
          85,
          78,
          252,
          0,
          500,
          300,
          211,
          319,
          385,
          215,
          401,
          587,
          392,
          282,
          219,
          254,
          217,
          108,
          170,
          178,
          63,
          138,
          45,
          317,
          81,
          262,
          451,
          522,
          605,
          345,
          562,
          757,
          448,
          396,
          667,
          611,
          178,
          231,
          635,
          318,
          63,
          70,
          312,
          144,
          196,
          152,
          292,
          290,
          262,
          597,
          683,
          770,
          539,
          645,
          885,
          529,
          525,
          1011,
          423,
          579,
          159,
          943,
          581,
          235,
          243,
          462,
          139,
          734,
          616,
          1070,
          393,
          558,
          580,
          1210,
          915,
          587,
          909,
          1194,
          1012,
          1161,
          1096,
          754,
          489,
          347,
          2444,
          1159,
          521,
          602,
          1440,
          627,
          840,
          734,
          350,
          742,
          1111,
          525,
          910,
          581,
          423,
          483,
          1104,
          1104,
          291,
          840,
          779,
          589,
          148,
          1923,
          1211,
          908,
          590,
          843,
          344,
          506,
          1930,
          598,
          872,
          2254,
          433,
          763,
          647,
          441,
          700,
          475,
          248,
          264,
          233,
          601,
          120,
          105,
          327,
          250,
          259,
          133,
          852,
          199,
          172,
          134,
          27,
          308,
          995,
          487,
          400,
          96,
          168,
          129,
          208,
          230,
          206,
          171,
          130,
          86,
          81,
          153,
          110,
          74,
          106,
          48,
          18,
          35,
          35,
          16,
          60,
          115,
          121,
          47,
          23,
          52,
          78,
          78,
          167,
          91,
          95,
          95,
          150,
          48,
          72,
          64,
          79,
          93,
          40,
          40,
          45,
          35,
          73,
          40,
          15,
          0,
          36,
          1,
          2,
          1,
          210,
          21,
          111,
          40,
          60,
          113,
          78,
          34,
          42,
          40,
          32,
          18,
          37,
          7,
          30,
          14,
          31,
          29,
          0,
          25,
          6,
          2,
          6,
          63,
          17,
          40,
          52,
          30,
          77,
          72,
          37,
          40,
          36,
          47,
          16,
          33,
          15,
          12,
          18,
          13,
          9,
          0,
          18,
          6,
          1,
          7,
          76,
          62,
          44,
          68,
          4,
          51,
          42,
          46,
          65,
          87,
          59,
          26,
          45,
          25,
          17,
          22,
          12,
          5,
          0,
          6,
          1,
          0,
          12,
          51,
          21,
          13,
          11,
          6,
          7,
          20,
          4,
          19,
          40,
          14,
          7,
          24,
          13,
          8,
          13,
          2,
          6,
          0,
          0,
          0,
          3,
          0,
          5,
          13,
          1,
          0,
          0,
          2,
          0,
          1,
          0,
          16,
          2,
          1,
          9,
          9,
          1,
          1,
          4,
          5,
          0,
          0,
          0,
          0,
          0,
          0,
          0,
          0,
          0,
          1,
          0,
          1,
          0,
          2,
          3,
          1,
          0,
          3,
          0,
          0,
          2,
          0,
          0,
          0,
          0,
          0,
          0,
          0,
          3,
          0,
          0,
          0,
          0,
          0,
          0,
          0,
          2,
          1,
          0,
          0,
          0,
          0,
          0,
          2,
          0,
          0,
          0,
          0,
          0,
          0,
          2,
          0,
          1,
          0,
          2,
          0,
          1,
          0,
          0,
          2,
          0,
          0,
          0,
          0,
          2,
          0,
          5,
          0,
          1,
          0,
          0,
          0,
          1,
          2,
          6,
          1,
          2,
          0,
          0,
          0,
          0,
          0,
          0,
          0,
          1,
          1,
          1,
          2,
          0,
          2,
          0,
          0,
          0,
          0,
          3,
          5,
          20,
          4,
          2,
          13,
          5,
          9,
          1,
          2,
          0,
          6,
          0,
          3,
          3,
          4,
          7,
          0,
          16,
          1,
          4,
          12,
          3,
          0,
          5,
          69,
          5,
          53,
          27,
          10,
          18,
          30,
          11,
          20,
          5,
          6,
          6,
          8,
          41,
          18,
          1,
          16,
          2,
          3,
          8,
          5,
          0,
          5,
          126,
          45,
          97,
          42,
          38,
          63,
          31,
          27,
          23,
          48,
          22,
          9,
          9,
          44,
          36,
          8,
          29,
          16,
          15,
          0,
          36,
          15,
          19,
          36,
          51,
          41,
          75,
          146,
          62,
          45,
          67,
          101,
          25,
          14,
          59,
          90,
          196,
          30,
          57,
          97,
          84,
          75,
          0,
          1,
          6,
          6,
          48,
          12,
          9,
          34,
          19,
          11,
          14,
          32,
          51,
          13,
          51,
          37,
          55,
          48,
          318,
          24,
          16,
          78,
          77,
          0,
          1,
          4,
          0,
          33,
          21,
          32,
          22,
          19,
          148,
          4,
          36,
          125,
          36,
          83,
          63,
          41,
          66,
          132,
          79,
          64,
          82,
          111,
          0,
          9,
          0,
          19,
          39,
          81,
          122,
          107,
          21,
          136,
          63,
          16,
          431,
          120,
          243,
          162,
          172,
          65,
          340,
          161,
          127,
          209,
          221,
          0,
          25,
          69,
          49,
          139,
          293,
          558,
          295,
          204,
          730,
          250,
          103,
          632,
          379,
          487,
          411,
          585,
          487,
          725,
          626,
          599,
          690,
          446,
          252,
          114,
          280,
          303,
          397,
          869,
          1186,
          766,
          870,
          1450,
          769,
          441,
          1783,
          788,
          940,
          895,
          1343,
          1118,
          1100,
          906,
          914,
          1406,
          1188,
          640,
          373,
          503,
          834,
          1126,
          1502,
          1541,
          1558,
          1031,
          1955,
          1008,
          1000,
          2970,
          1006,
          1655,
          1398,
          1364,
          1198,
          2607,
          1823,
          1321,
          1598,
          1361,
          3748,
          1284,
          1952,
          2239,
          3313,
          1553,
          2036,
          2781,
          2066,
          5963,
          1679,
          1141,
          8299,
          1582,
          4269,
          1805,
          2790,
          2451,
          3213,
          2540,
          1361,
          2916,
          1714,
          5154,
          3421,
          2552,
          4845,
          6981,
          5640,
          6748,
          6319,
          3831,
          10066,
          2937,
          2279,
          11611,
          4609,
          7015,
          2512,
          3339,
          4470,
          3073,
          6625,
          1796,
          4505,
          3977,
          1736,
          1378,
          1057,
          682,
          2137,
          1772,
          2154,
          3779,
          1660,
          4366,
          3547,
          902,
          2635,
          1741,
          3874,
          2194,
          3673,
          4518,
          2255,
          2255,
          1371,
          1462,
          2192,
          1,
          29,
          96,
          100,
          226,
          197,
          569,
          384,
          339,
          411,
          371,
          353,
          365,
          203,
          243,
          320,
          423,
          770,
          586,
          496,
          201,
          376,
          520,
          9,
          16,
          20,
          21,
          72,
          133,
          151,
          94,
          93,
          91,
          66,
          58,
          97,
          135,
          170,
          79,
          200,
          318,
          115,
          81,
          166,
          219,
          211
         ]
        }
       ],
       "layout": {
        "template": {
         "data": {
          "bar": [
           {
            "error_x": {
             "color": "#2a3f5f"
            },
            "error_y": {
             "color": "#2a3f5f"
            },
            "marker": {
             "line": {
              "color": "#E5ECF6",
              "width": 0.5
             }
            },
            "type": "bar"
           }
          ],
          "barpolar": [
           {
            "marker": {
             "line": {
              "color": "#E5ECF6",
              "width": 0.5
             }
            },
            "type": "barpolar"
           }
          ],
          "carpet": [
           {
            "aaxis": {
             "endlinecolor": "#2a3f5f",
             "gridcolor": "white",
             "linecolor": "white",
             "minorgridcolor": "white",
             "startlinecolor": "#2a3f5f"
            },
            "baxis": {
             "endlinecolor": "#2a3f5f",
             "gridcolor": "white",
             "linecolor": "white",
             "minorgridcolor": "white",
             "startlinecolor": "#2a3f5f"
            },
            "type": "carpet"
           }
          ],
          "choropleth": [
           {
            "colorbar": {
             "outlinewidth": 0,
             "ticks": ""
            },
            "type": "choropleth"
           }
          ],
          "contour": [
           {
            "colorbar": {
             "outlinewidth": 0,
             "ticks": ""
            },
            "colorscale": [
             [
              0,
              "#0d0887"
             ],
             [
              0.1111111111111111,
              "#46039f"
             ],
             [
              0.2222222222222222,
              "#7201a8"
             ],
             [
              0.3333333333333333,
              "#9c179e"
             ],
             [
              0.4444444444444444,
              "#bd3786"
             ],
             [
              0.5555555555555556,
              "#d8576b"
             ],
             [
              0.6666666666666666,
              "#ed7953"
             ],
             [
              0.7777777777777778,
              "#fb9f3a"
             ],
             [
              0.8888888888888888,
              "#fdca26"
             ],
             [
              1,
              "#f0f921"
             ]
            ],
            "type": "contour"
           }
          ],
          "contourcarpet": [
           {
            "colorbar": {
             "outlinewidth": 0,
             "ticks": ""
            },
            "type": "contourcarpet"
           }
          ],
          "heatmap": [
           {
            "colorbar": {
             "outlinewidth": 0,
             "ticks": ""
            },
            "colorscale": [
             [
              0,
              "#0d0887"
             ],
             [
              0.1111111111111111,
              "#46039f"
             ],
             [
              0.2222222222222222,
              "#7201a8"
             ],
             [
              0.3333333333333333,
              "#9c179e"
             ],
             [
              0.4444444444444444,
              "#bd3786"
             ],
             [
              0.5555555555555556,
              "#d8576b"
             ],
             [
              0.6666666666666666,
              "#ed7953"
             ],
             [
              0.7777777777777778,
              "#fb9f3a"
             ],
             [
              0.8888888888888888,
              "#fdca26"
             ],
             [
              1,
              "#f0f921"
             ]
            ],
            "type": "heatmap"
           }
          ],
          "heatmapgl": [
           {
            "colorbar": {
             "outlinewidth": 0,
             "ticks": ""
            },
            "colorscale": [
             [
              0,
              "#0d0887"
             ],
             [
              0.1111111111111111,
              "#46039f"
             ],
             [
              0.2222222222222222,
              "#7201a8"
             ],
             [
              0.3333333333333333,
              "#9c179e"
             ],
             [
              0.4444444444444444,
              "#bd3786"
             ],
             [
              0.5555555555555556,
              "#d8576b"
             ],
             [
              0.6666666666666666,
              "#ed7953"
             ],
             [
              0.7777777777777778,
              "#fb9f3a"
             ],
             [
              0.8888888888888888,
              "#fdca26"
             ],
             [
              1,
              "#f0f921"
             ]
            ],
            "type": "heatmapgl"
           }
          ],
          "histogram": [
           {
            "marker": {
             "colorbar": {
              "outlinewidth": 0,
              "ticks": ""
             }
            },
            "type": "histogram"
           }
          ],
          "histogram2d": [
           {
            "colorbar": {
             "outlinewidth": 0,
             "ticks": ""
            },
            "colorscale": [
             [
              0,
              "#0d0887"
             ],
             [
              0.1111111111111111,
              "#46039f"
             ],
             [
              0.2222222222222222,
              "#7201a8"
             ],
             [
              0.3333333333333333,
              "#9c179e"
             ],
             [
              0.4444444444444444,
              "#bd3786"
             ],
             [
              0.5555555555555556,
              "#d8576b"
             ],
             [
              0.6666666666666666,
              "#ed7953"
             ],
             [
              0.7777777777777778,
              "#fb9f3a"
             ],
             [
              0.8888888888888888,
              "#fdca26"
             ],
             [
              1,
              "#f0f921"
             ]
            ],
            "type": "histogram2d"
           }
          ],
          "histogram2dcontour": [
           {
            "colorbar": {
             "outlinewidth": 0,
             "ticks": ""
            },
            "colorscale": [
             [
              0,
              "#0d0887"
             ],
             [
              0.1111111111111111,
              "#46039f"
             ],
             [
              0.2222222222222222,
              "#7201a8"
             ],
             [
              0.3333333333333333,
              "#9c179e"
             ],
             [
              0.4444444444444444,
              "#bd3786"
             ],
             [
              0.5555555555555556,
              "#d8576b"
             ],
             [
              0.6666666666666666,
              "#ed7953"
             ],
             [
              0.7777777777777778,
              "#fb9f3a"
             ],
             [
              0.8888888888888888,
              "#fdca26"
             ],
             [
              1,
              "#f0f921"
             ]
            ],
            "type": "histogram2dcontour"
           }
          ],
          "mesh3d": [
           {
            "colorbar": {
             "outlinewidth": 0,
             "ticks": ""
            },
            "type": "mesh3d"
           }
          ],
          "parcoords": [
           {
            "line": {
             "colorbar": {
              "outlinewidth": 0,
              "ticks": ""
             }
            },
            "type": "parcoords"
           }
          ],
          "pie": [
           {
            "automargin": true,
            "type": "pie"
           }
          ],
          "scatter": [
           {
            "marker": {
             "colorbar": {
              "outlinewidth": 0,
              "ticks": ""
             }
            },
            "type": "scatter"
           }
          ],
          "scatter3d": [
           {
            "line": {
             "colorbar": {
              "outlinewidth": 0,
              "ticks": ""
             }
            },
            "marker": {
             "colorbar": {
              "outlinewidth": 0,
              "ticks": ""
             }
            },
            "type": "scatter3d"
           }
          ],
          "scattercarpet": [
           {
            "marker": {
             "colorbar": {
              "outlinewidth": 0,
              "ticks": ""
             }
            },
            "type": "scattercarpet"
           }
          ],
          "scattergeo": [
           {
            "marker": {
             "colorbar": {
              "outlinewidth": 0,
              "ticks": ""
             }
            },
            "type": "scattergeo"
           }
          ],
          "scattergl": [
           {
            "marker": {
             "colorbar": {
              "outlinewidth": 0,
              "ticks": ""
             }
            },
            "type": "scattergl"
           }
          ],
          "scattermapbox": [
           {
            "marker": {
             "colorbar": {
              "outlinewidth": 0,
              "ticks": ""
             }
            },
            "type": "scattermapbox"
           }
          ],
          "scatterpolar": [
           {
            "marker": {
             "colorbar": {
              "outlinewidth": 0,
              "ticks": ""
             }
            },
            "type": "scatterpolar"
           }
          ],
          "scatterpolargl": [
           {
            "marker": {
             "colorbar": {
              "outlinewidth": 0,
              "ticks": ""
             }
            },
            "type": "scatterpolargl"
           }
          ],
          "scatterternary": [
           {
            "marker": {
             "colorbar": {
              "outlinewidth": 0,
              "ticks": ""
             }
            },
            "type": "scatterternary"
           }
          ],
          "surface": [
           {
            "colorbar": {
             "outlinewidth": 0,
             "ticks": ""
            },
            "colorscale": [
             [
              0,
              "#0d0887"
             ],
             [
              0.1111111111111111,
              "#46039f"
             ],
             [
              0.2222222222222222,
              "#7201a8"
             ],
             [
              0.3333333333333333,
              "#9c179e"
             ],
             [
              0.4444444444444444,
              "#bd3786"
             ],
             [
              0.5555555555555556,
              "#d8576b"
             ],
             [
              0.6666666666666666,
              "#ed7953"
             ],
             [
              0.7777777777777778,
              "#fb9f3a"
             ],
             [
              0.8888888888888888,
              "#fdca26"
             ],
             [
              1,
              "#f0f921"
             ]
            ],
            "type": "surface"
           }
          ],
          "table": [
           {
            "cells": {
             "fill": {
              "color": "#EBF0F8"
             },
             "line": {
              "color": "white"
             }
            },
            "header": {
             "fill": {
              "color": "#C8D4E3"
             },
             "line": {
              "color": "white"
             }
            },
            "type": "table"
           }
          ]
         },
         "layout": {
          "annotationdefaults": {
           "arrowcolor": "#2a3f5f",
           "arrowhead": 0,
           "arrowwidth": 1
          },
          "autotypenumbers": "strict",
          "coloraxis": {
           "colorbar": {
            "outlinewidth": 0,
            "ticks": ""
           }
          },
          "colorscale": {
           "diverging": [
            [
             0,
             "#8e0152"
            ],
            [
             0.1,
             "#c51b7d"
            ],
            [
             0.2,
             "#de77ae"
            ],
            [
             0.3,
             "#f1b6da"
            ],
            [
             0.4,
             "#fde0ef"
            ],
            [
             0.5,
             "#f7f7f7"
            ],
            [
             0.6,
             "#e6f5d0"
            ],
            [
             0.7,
             "#b8e186"
            ],
            [
             0.8,
             "#7fbc41"
            ],
            [
             0.9,
             "#4d9221"
            ],
            [
             1,
             "#276419"
            ]
           ],
           "sequential": [
            [
             0,
             "#0d0887"
            ],
            [
             0.1111111111111111,
             "#46039f"
            ],
            [
             0.2222222222222222,
             "#7201a8"
            ],
            [
             0.3333333333333333,
             "#9c179e"
            ],
            [
             0.4444444444444444,
             "#bd3786"
            ],
            [
             0.5555555555555556,
             "#d8576b"
            ],
            [
             0.6666666666666666,
             "#ed7953"
            ],
            [
             0.7777777777777778,
             "#fb9f3a"
            ],
            [
             0.8888888888888888,
             "#fdca26"
            ],
            [
             1,
             "#f0f921"
            ]
           ],
           "sequentialminus": [
            [
             0,
             "#0d0887"
            ],
            [
             0.1111111111111111,
             "#46039f"
            ],
            [
             0.2222222222222222,
             "#7201a8"
            ],
            [
             0.3333333333333333,
             "#9c179e"
            ],
            [
             0.4444444444444444,
             "#bd3786"
            ],
            [
             0.5555555555555556,
             "#d8576b"
            ],
            [
             0.6666666666666666,
             "#ed7953"
            ],
            [
             0.7777777777777778,
             "#fb9f3a"
            ],
            [
             0.8888888888888888,
             "#fdca26"
            ],
            [
             1,
             "#f0f921"
            ]
           ]
          },
          "colorway": [
           "#636efa",
           "#EF553B",
           "#00cc96",
           "#ab63fa",
           "#FFA15A",
           "#19d3f3",
           "#FF6692",
           "#B6E880",
           "#FF97FF",
           "#FECB52"
          ],
          "font": {
           "color": "#2a3f5f"
          },
          "geo": {
           "bgcolor": "white",
           "lakecolor": "white",
           "landcolor": "#E5ECF6",
           "showlakes": true,
           "showland": true,
           "subunitcolor": "white"
          },
          "hoverlabel": {
           "align": "left"
          },
          "hovermode": "closest",
          "mapbox": {
           "style": "light"
          },
          "paper_bgcolor": "white",
          "plot_bgcolor": "#E5ECF6",
          "polar": {
           "angularaxis": {
            "gridcolor": "white",
            "linecolor": "white",
            "ticks": ""
           },
           "bgcolor": "#E5ECF6",
           "radialaxis": {
            "gridcolor": "white",
            "linecolor": "white",
            "ticks": ""
           }
          },
          "scene": {
           "xaxis": {
            "backgroundcolor": "#E5ECF6",
            "gridcolor": "white",
            "gridwidth": 2,
            "linecolor": "white",
            "showbackground": true,
            "ticks": "",
            "zerolinecolor": "white"
           },
           "yaxis": {
            "backgroundcolor": "#E5ECF6",
            "gridcolor": "white",
            "gridwidth": 2,
            "linecolor": "white",
            "showbackground": true,
            "ticks": "",
            "zerolinecolor": "white"
           },
           "zaxis": {
            "backgroundcolor": "#E5ECF6",
            "gridcolor": "white",
            "gridwidth": 2,
            "linecolor": "white",
            "showbackground": true,
            "ticks": "",
            "zerolinecolor": "white"
           }
          },
          "shapedefaults": {
           "line": {
            "color": "#2a3f5f"
           }
          },
          "ternary": {
           "aaxis": {
            "gridcolor": "white",
            "linecolor": "white",
            "ticks": ""
           },
           "baxis": {
            "gridcolor": "white",
            "linecolor": "white",
            "ticks": ""
           },
           "bgcolor": "#E5ECF6",
           "caxis": {
            "gridcolor": "white",
            "linecolor": "white",
            "ticks": ""
           }
          },
          "title": {
           "x": 0.05
          },
          "xaxis": {
           "automargin": true,
           "gridcolor": "white",
           "linecolor": "white",
           "ticks": "",
           "title": {
            "standoff": 15
           },
           "zerolinecolor": "white",
           "zerolinewidth": 2
          },
          "yaxis": {
           "automargin": true,
           "gridcolor": "white",
           "linecolor": "white",
           "ticks": "",
           "title": {
            "standoff": 15
           },
           "zerolinecolor": "white",
           "zerolinewidth": 2
          }
         }
        },
        "title": {
         "text": "Histograma dos Números de Focos de Calor"
        },
        "xaxis": {
         "title": {
          "text": "Distribuição"
         }
        },
        "yaxis": {
         "title": {
          "text": "Frequência"
         }
        }
       }
      },
      "text/html": [
       "<div>                            <div id=\"5315b60f-1736-46ec-860a-0b30b8cae402\" class=\"plotly-graph-div\" style=\"height:525px; width:100%;\"></div>            <script type=\"text/javascript\">                require([\"plotly\"], function(Plotly) {                    window.PLOTLYENV=window.PLOTLYENV || {};                                    if (document.getElementById(\"5315b60f-1736-46ec-860a-0b30b8cae402\")) {                    Plotly.newPlot(                        \"5315b60f-1736-46ec-860a-0b30b8cae402\",                        [{\"type\": \"histogram\", \"x\": [0, 0, 0, 0, 0, 14, 0, 20, 7, 1, 0, 0, 1, 2, 1, 0, 0, 3, 13, 0, 0, 1, 16, 0, 0, 0, 0, 1, 0, 4, 0, 1, 14, 0, 2, 0, 0, 0, 0, 0, 2, 2, 4, 2, 1, 0, 0, 0, 11, 0, 0, 0, 0, 5, 0, 5, 1, 0, 1, 0, 0, 0, 1, 1, 0, 0, 1, 2, 1, 0, 0, 1, 0, 0, 5, 9, 2, 2, 8, 1, 2, 10, 4, 3, 46, 7, 3, 1, 1, 5, 6, 4, 0, 0, 1, 0, 0, 18, 21, 17, 58, 15, 23, 10, 33, 8, 15, 11, 1, 2, 23, 9, 14, 33, 39, 3, 0, 1, 1, 0, 18, 12, 75, 34, 76, 18, 1, 41, 26, 12, 19, 23, 42, 101, 39, 41, 60, 71, 35, 1, 1, 3, 59, 427, 95, 1136, 186, 181, 165, 59, 210, 130, 132, 98, 91, 118, 588, 362, 381, 272, 335, 131, 67, 136, 399, 1268, 3163, 1003, 7669, 1507, 1942, 1621, 366, 2752, 685, 1092, 1045, 1263, 1624, 2526, 1318, 1368, 3051, 3578, 512, 212, 261, 288, 4337, 5803, 5458, 6092, 3737, 5446, 2947, 2067, 5030, 1912, 2796, 3331, 2528, 2949, 3863, 3100, 4379, 2977, 3357, 44, 63, 18, 137, 932, 1041, 633, 943, 600, 823, 856, 952, 523, 264, 627, 318, 406, 912, 515, 1350, 407, 354, 1652, 0, 4, 0, 1, 139, 30, 25, 27, 66, 38, 63, 50, 58, 152, 39, 108, 70, 115, 46, 102, 26, 44, 129, 7, 0, 0, 0, 3, 4, 11, 7, 0, 0, 4, 2, 2, 8, 3, 4, 8, 8, 6, 10, 2, 1, 11, 0, 58, 11, 5, 12, 147, 13, 91, 36, 33, 52, 112, 32, 45, 43, 45, 49, 64, 22, 38, 17, 32, 45, 0, 19, 16, 4, 15, 52, 15, 47, 32, 33, 83, 33, 39, 35, 52, 22, 26, 40, 14, 16, 16, 9, 21, 0, 52, 32, 0, 27, 32, 34, 45, 46, 12, 47, 47, 87, 45, 58, 36, 19, 27, 10, 19, 13, 11, 12, 0, 4, 20, 0, 6, 22, 10, 3, 7, 16, 26, 5, 5, 19, 18, 20, 15, 46, 14, 6, 2, 5, 5, 0, 1, 1, 2, 1, 7, 3, 0, 2, 2, 8, 0, 0, 0, 23, 2, 1, 17, 4, 1, 0, 5, 1, 0, 0, 0, 2, 0, 5, 1, 3, 0, 1, 1, 0, 2, 2, 5, 2, 2, 2, 5, 1, 6, 3, 0, 0, 0, 0, 0, 7, 4, 3, 2, 3, 6, 0, 1, 1, 0, 1, 1, 1, 0, 5, 0, 0, 2, 3, 1, 3, 4, 1, 5, 7, 2, 9, 5, 3, 3, 0, 4, 11, 0, 0, 3, 3, 4, 1, 12, 6, 5, 14, 3, 22, 5, 23, 8, 11, 14, 13, 12, 14, 16, 17, 3, 6, 5, 11, 4, 15, 4, 7, 12, 4, 20, 4, 13, 15, 35, 18, 23, 20, 39, 25, 32, 26, 14, 24, 31, 23, 3, 28, 63, 12, 52, 20, 25, 19, 15, 2, 22, 58, 20, 38, 32, 25, 44, 73, 56, 46, 26, 85, 8, 9, 118, 79, 11, 41, 60, 10, 32, 12, 2, 30, 102, 51, 80, 26, 60, 75, 70, 64, 52, 57, 55, 37, 26, 111, 153, 20, 35, 67, 28, 0, 0, 2, 0, 7, 35, 58, 194, 10, 12, 4, 8, 4, 0, 34, 2, 25, 27, 16, 2, 14, 4, 2, 0, 1, 0, 0, 2, 0, 1, 1, 1, 1, 1, 0, 0, 3, 8, 2, 2, 0, 1, 0, 1, 0, 1, 0, 2, 0, 0, 0, 5, 0, 0, 0, 2, 2, 0, 3, 0, 3, 1, 2, 1, 0, 0, 0, 0, 1, 0, 0, 0, 0, 0, 3, 1, 0, 4, 0, 2, 2, 0, 0, 2, 2, 1, 0, 0, 3, 1, 0, 0, 0, 0, 0, 0, 3, 1, 1, 1, 0, 0, 0, 2, 2, 2, 3, 1, 0, 0, 3, 2, 1, 0, 0, 0, 2, 0, 0, 0, 3, 7, 3, 0, 0, 2, 1, 0, 1, 8, 6, 2, 2, 2, 2, 3, 0, 3, 0, 0, 0, 1, 2, 1, 4, 1, 0, 19, 4, 4, 3, 4, 6, 1, 5, 4, 1, 3, 4, 4, 2, 1, 0, 3, 12, 21, 21, 18, 15, 27, 10, 14, 23, 2, 12, 31, 18, 19, 26, 39, 28, 38, 21, 16, 20, 4, 19, 95, 152, 135, 117, 139, 159, 146, 133, 214, 72, 140, 173, 126, 161, 198, 150, 88, 123, 138, 84, 41, 25, 42, 193, 710, 526, 534, 509, 565, 485, 651, 951, 358, 381, 583, 560, 592, 927, 816, 440, 571, 540, 527, 131, 26, 157, 406, 1473, 1117, 1406, 1054, 637, 753, 1182, 1115, 490, 407, 1157, 613, 653, 1424, 1104, 972, 450, 503, 76, 84, 41, 30, 593, 294, 669, 1266, 103, 262, 56, 158, 136, 66, 446, 510, 197, 386, 327, 463, 406, 0, 67, 38, 0, 3, 7, 3, 17, 379, 277, 225, 79, 106, 45, 34, 93, 59, 8, 43, 71, 38, 654, 62, 46, 35, 197, 0, 43, 62, 8, 2, 129, 129, 16, 31, 167, 48, 9, 76, 6, 8, 4, 17, 71, 252, 21, 93, 90, 73, 0, 7, 69, 6, 5, 94, 20, 15, 30, 14, 25, 19, 64, 23, 5, 23, 30, 25, 105, 24, 54, 114, 77, 0, 2, 18, 1, 2, 42, 26, 8, 28, 18, 35, 11, 9, 7, 8, 26, 20, 20, 13, 15, 14, 10, 12, 0, 0, 51, 0, 8, 24, 11, 36, 20, 16, 12, 4, 37, 16, 15, 21, 17, 11, 26, 33, 19, 21, 15, 2, 7, 6, 5, 5, 36, 43, 130, 156, 180, 42, 31, 113, 32, 58, 81, 73, 34, 84, 95, 123, 57, 122, 72, 11, 39, 9, 338, 655, 364, 1894, 574, 607, 457, 246, 788, 330, 316, 359, 253, 365, 1087, 1534, 1346, 1371, 2119, 320, 255, 180, 499, 1790, 3017, 1850, 5981, 3399, 3990, 2538, 1799, 5261, 1543, 3616, 1981, 3604, 4235, 3652, 4793, 2589, 6668, 8030, 263, 214, 193, 168, 2916, 2594, 2436, 4931, 4254, 3521, 1716, 3595, 4021, 1524, 2731, 2204, 3148, 5004, 2785, 3185, 4928, 3026, 4270, 82, 476, 145, 332, 1824, 1851, 1564, 1499, 2181, 1663, 1156, 2409, 1137, 844, 1484, 1235, 794, 2233, 1913, 1190, 1725, 548, 1265, 6, 28, 27, 244, 1221, 780, 988, 833, 588, 833, 533, 983, 400, 502, 749, 258, 692, 909, 497, 486, 472, 573, 374, 196, 2, 60, 22, 267, 590, 375, 76, 357, 178, 94, 140, 140, 142, 116, 277, 289, 474, 105, 247, 37, 163, 175, 0, 114, 31, 25, 124, 560, 201, 414, 315, 451, 376, 227, 368, 135, 226, 161, 123, 240, 240, 150, 102, 212, 164, 0, 157, 32, 101, 204, 306, 193, 227, 433, 136, 281, 175, 272, 177, 242, 282, 84, 124, 340, 91, 45, 432, 153, 0, 83, 65, 4, 146, 401, 179, 234, 291, 249, 201, 329, 192, 158, 472, 441, 128, 183, 237, 160, 126, 475, 92, 0, 55, 23, 26, 108, 512, 200, 180, 117, 240, 229, 56, 136, 204, 428, 125, 157, 122, 193, 91, 71, 141, 98, 0, 76, 71, 84, 164, 226, 251, 168, 172, 417, 217, 48, 254, 225, 335, 176, 201, 133, 240, 124, 101, 142, 95, 55, 62, 176, 98, 116, 362, 306, 240, 220, 619, 207, 117, 430, 376, 387, 228, 235, 233, 388, 213, 190, 186, 244, 219, 107, 199, 245, 611, 557, 355, 424, 482, 1375, 554, 340, 663, 578, 909, 378, 235, 300, 340, 234, 281, 337, 341, 813, 453, 629, 978, 1812, 1078, 1512, 1141, 1318, 4270, 1032, 450, 2635, 1524, 1810, 602, 606, 791, 727, 809, 477, 542, 437, 2719, 1273, 2284, 3957, 7167, 9547, 7395, 4244, 3171, 10076, 4961, 3580, 5780, 6967, 6815, 2617, 2472, 6921, 1729, 1146, 1930, 1896, 1918, 1970, 1308, 3350, 1687, 5415, 4515, 5701, 9031, 2395, 7548, 7949, 2742, 5375, 2306, 4529, 1866, 2515, 4695, 1312, 3144, 1345, 1783, 3666, 49, 49, 114, 699, 1169, 655, 2016, 1801, 810, 3308, 4599, 525, 694, 197, 214, 248, 308, 1569, 402, 222, 169, 924, 447, 82, 37, 24, 158, 1012, 865, 674, 343, 494, 779, 175, 367, 264, 289, 529, 107, 126, 1202, 163, 66, 119, 301, 257, 0, 47, 1, 11, 33, 323, 213, 476, 298, 428, 230, 464, 355, 39, 308, 135, 119, 189, 103, 91, 166, 194, 94, 0, 17, 7, 0, 76, 10, 11, 41, 31, 5, 29, 16, 76, 9, 44, 55, 9, 20, 12, 10, 6, 12, 8, 0, 30, 10, 0, 17, 6, 3, 7, 8, 7, 0, 1, 46, 3, 13, 24, 4, 14, 6, 4, 8, 3, 2, 0, 6, 16, 2, 6, 4, 1, 7, 4, 5, 0, 0, 11, 1, 2, 7, 3, 0, 11, 3, 1, 1, 0, 0, 5, 7, 81, 10, 7, 7, 2, 0, 11, 0, 1, 6, 4, 23, 9, 4, 17, 7, 6, 2, 3, 3, 1, 16, 16, 38, 13, 9, 8, 7, 3, 14, 6, 0, 21, 7, 33, 12, 15, 17, 32, 6, 17, 9, 12, 76, 84, 20, 147, 23, 41, 22, 33, 18, 35, 13, 9, 58, 24, 50, 8, 39, 23, 106, 15, 29, 18, 63, 95, 135, 81, 224, 136, 133, 69, 71, 80, 237, 58, 32, 206, 42, 267, 36, 133, 118, 286, 98, 202, 138, 209, 601, 132, 130, 808, 241, 420, 207, 187, 265, 354, 199, 93, 383, 226, 512, 177, 136, 183, 335, 336, 429, 460, 440, 1019, 314, 876, 2051, 1954, 2465, 1610, 1659, 932, 1457, 1014, 526, 676, 478, 1102, 472, 444, 603, 1241, 793, 591, 1373, 913, 575, 526, 671, 2461, 3259, 4760, 3615, 3434, 2077, 2639, 2668, 1978, 2327, 2062, 1165, 986, 761, 1009, 1373, 953, 860, 1324, 1279, 277, 396, 389, 545, 2409, 3448, 4816, 2600, 2451, 2335, 3414, 2327, 769, 1903, 789, 910, 660, 965, 804, 1171, 723, 769, 956, 0, 0, 0, 0, 0, 0, 0, 0, 0, 1, 0, 1, 1, 0, 0, 0, 0, 1, 0, 1, 0, 4, 2, 0, 2, 0, 1, 0, 1, 0, 0, 0, 0, 0, 0, 5, 2, 0, 1, 1, 0, 1, 0, 0, 1, 2, 0, 0, 0, 0, 0, 0, 0, 0, 0, 1, 2, 0, 2, 0, 0, 1, 1, 0, 1, 0, 0, 0, 0, 0, 0, 0, 0, 1, 0, 2, 0, 1, 3, 1, 0, 8, 1, 4, 0, 2, 0, 4, 1, 0, 0, 5, 0, 0, 2, 0, 1, 1, 11, 4, 9, 16, 7, 15, 22, 5, 0, 2, 9, 2, 13, 6, 2, 0, 5, 2, 3, 1, 3, 7, 32, 5, 4, 10, 59, 11, 6, 78, 18, 4, 5, 6, 1, 37, 5, 1, 6, 11, 17, 4, 15, 22, 38, 50, 46, 38, 38, 87, 39, 32, 100, 54, 27, 25, 28, 15, 78, 28, 29, 30, 25, 48, 15, 9, 25, 49, 43, 110, 46, 64, 197, 71, 37, 181, 55, 51, 33, 96, 53, 35, 118, 15, 29, 22, 31, 12, 3, 13, 41, 22, 116, 25, 17, 99, 56, 4, 204, 135, 67, 33, 67, 64, 51, 77, 41, 116, 83, 3, 8, 17, 0, 22, 12, 22, 18, 1, 22, 8, 4, 10, 0, 16, 3, 31, 17, 8, 51, 0, 27, 39, 0, 1, 0, 0, 1, 0, 0, 5, 0, 0, 6, 0, 1, 0, 0, 0, 0, 2, 1, 0, 0, 0, 1, 0, 0, 0, 1, 1, 0, 0, 0, 0, 0, 0, 0, 1, 0, 0, 2, 0, 0, 0, 0, 0, 0, 1, 0, 33, 5, 1, 2, 12, 0, 7, 13, 3, 20, 3, 55, 6, 0, 14, 11, 77, 37, 14, 6, 25, 10, 0, 10, 5, 5, 4, 14, 8, 1, 53, 5, 23, 13, 27, 49, 27, 21, 16, 59, 19, 7, 1, 32, 11, 0, 8, 1, 2, 4, 46, 2, 11, 26, 16, 7, 14, 5, 5, 38, 18, 15, 23, 103, 9, 9, 22, 6, 0, 2, 3, 2, 2, 31, 10, 9, 6, 16, 6, 6, 13, 8, 76, 19, 8, 25, 49, 7, 7, 21, 8, 0, 16, 2, 8, 5, 16, 4, 7, 16, 23, 9, 8, 11, 7, 25, 13, 15, 11, 42, 9, 4, 10, 11, 6, 6, 9, 9, 18, 76, 2, 9, 35, 34, 25, 16, 25, 15, 21, 24, 8, 16, 45, 23, 12, 19, 51, 37, 9, 16, 12, 16, 91, 14, 15, 57, 70, 36, 28, 6, 27, 45, 29, 11, 25, 38, 3, 41, 78, 34, 38, 60, 26, 31, 76, 142, 31, 30, 90, 96, 57, 21, 39, 83, 17, 58, 36, 28, 75, 26, 9, 35, 25, 110, 64, 14, 38, 76, 276, 77, 10, 103, 92, 95, 62, 65, 115, 39, 28, 52, 198, 112, 31, 51, 171, 131, 20, 23, 88, 19, 151, 185, 53, 84, 18, 172, 116, 14, 34, 35, 66, 32, 82, 290, 60, 46, 36, 73, 82, 4, 9, 3, 3, 26, 55, 56, 3, 4, 185, 9, 23, 3, 8, 7, 11, 17, 131, 7, 12, 11, 123, 10, 5, 0, 3, 1, 22, 32, 10, 13, 10, 45, 9, 31, 12, 6, 23, 8, 25, 57, 12, 0, 18, 13, 22, 0, 14, 10, 28, 12, 13, 15, 30, 104, 48, 33, 47, 60, 40, 22, 43, 60, 105, 27, 46, 54, 129, 60, 0, 334, 11, 9, 9, 55, 14, 110, 28, 20, 25, 45, 100, 56, 29, 67, 34, 43, 69, 64, 41, 88, 92, 0, 1, 4, 10, 48, 34, 59, 46, 42, 104, 23, 60, 96, 26, 71, 74, 54, 48, 107, 91, 113, 138, 124, 0, 25, 16, 49, 78, 127, 84, 150, 61, 83, 64, 37, 144, 111, 116, 61, 117, 58, 152, 58, 74, 83, 156, 0, 98, 58, 85, 171, 265, 313, 269, 192, 349, 200, 136, 280, 161, 123, 187, 197, 117, 210, 138, 181, 134, 150, 172, 252, 222, 209, 303, 855, 515, 248, 298, 690, 209, 201, 723, 333, 254, 202, 302, 263, 261, 308, 183, 217, 314, 512, 311, 332, 370, 792, 867, 852, 536, 502, 925, 552, 481, 1224, 600, 556, 356, 424, 320, 815, 433, 405, 403, 402, 2216, 1198, 925, 788, 1498, 975, 1618, 970, 948, 2948, 987, 638, 3336, 1549, 899, 527, 1201, 876, 1038, 1109, 518, 698, 964, 2870, 1898, 1294, 1861, 4412, 1978, 3544, 1565, 1630, 4978, 1464, 709, 5906, 2250, 2334, 735, 1568, 2033, 1571, 2155, 1070, 4149, 1825, 1036, 743, 906, 477, 1665, 1318, 1548, 2018, 270, 2169, 1425, 413, 1418, 539, 1450, 567, 1728, 1607, 488, 1858, 345, 873, 1622, 48, 111, 26, 15, 273, 212, 356, 169, 254, 240, 195, 111, 79, 76, 64, 162, 160, 490, 115, 125, 36, 160, 229, 13, 20, 6, 18, 118, 175, 94, 17, 58, 85, 63, 42, 53, 25, 113, 69, 52, 147, 59, 43, 90, 88, 70, 0, 54, 19, 29, 49, 575, 338, 674, 386, 634, 203, 400, 457, 195, 461, 316, 291, 458, 395, 178, 281, 712, 86, 0, 6, 11, 1, 116, 13, 24, 73, 36, 21, 59, 30, 104, 14, 84, 72, 17, 78, 268, 44, 15, 74, 72, 0, 17, 6, 0, 16, 24, 43, 19, 19, 89, 6, 39, 129, 43, 54, 45, 40, 41, 70, 32, 93, 57, 39, 0, 4, 6, 2, 28, 112, 98, 99, 20, 76, 40, 27, 143, 46, 114, 83, 66, 103, 103, 90, 50, 63, 93, 0, 3, 28, 21, 71, 236, 324, 108, 89, 294, 101, 25, 300, 98, 370, 132, 140, 184, 186, 157, 203, 139, 231, 78, 32, 94, 101, 227, 865, 818, 662, 520, 1477, 687, 312, 1225, 689, 987, 603, 786, 850, 693, 644, 738, 749, 757, 276, 258, 233, 549, 1675, 2675, 1677, 1984, 1416, 2786, 1542, 1182, 2601, 1159, 3693, 1332, 2027, 1616, 2182, 1973, 1457, 1078, 1871, 1177, 897, 839, 2035, 3789, 2407, 2426, 3118, 2416, 10780, 1777, 2181, 6826, 2192, 10519, 2374, 5338, 5411, 3849, 3001, 2833, 3366, 2162, 3933, 1739, 1364, 4550, 5543, 7799, 6807, 7805, 3782, 11245, 3575, 3107, 11813, 5086, 7376, 4312, 4357, 5502, 3109, 9243, 3177, 3667, 4403, 5140, 3207, 2654, 6597, 7152, 8588, 5386, 8704, 4270, 9694, 5018, 2839, 4095, 3171, 5911, 3221, 5574, 6387, 5617, 4538, 1832, 3645, 3394, 2235, 1494, 2267, 3521, 8421, 7536, 10348, 6670, 6879, 5191, 5728, 6505, 6082, 4038, 2644, 2368, 3710, 4159, 3826, 2706, 2309, 3158, 2481, 1396, 1001, 1462, 1290, 3377, 3718, 5296, 3775, 3469, 2478, 3386, 2485, 2502, 2584, 2086, 2597, 2329, 3647, 1491, 2970, 904, 1813, 1228, 0, 39, 44, 44, 172, 883, 261, 440, 1000, 470, 232, 615, 327, 206, 179, 276, 244, 720, 300, 457, 317, 576, 768, 0, 28, 35, 54, 22, 566, 397, 951, 414, 280, 208, 203, 440, 147, 200, 374, 134, 396, 763, 295, 266, 709, 806, 0, 18, 60, 24, 103, 541, 822, 423, 474, 679, 227, 379, 663, 301, 419, 636, 481, 517, 934, 698, 766, 1188, 1270, 0, 76, 59, 309, 641, 930, 946, 1010, 428, 809, 358, 255, 893, 467, 560, 411, 658, 638, 1351, 708, 426, 708, 992, 0, 730, 1192, 1191, 2522, 2765, 4053, 2259, 1013, 1546, 522, 601, 1382, 640, 958, 962, 803, 437, 929, 844, 985, 1118, 951, 2200, 2201, 4358, 6641, 7879, 9038, 11530, 2696, 2398, 3552, 1147, 1148, 2186, 1074, 1933, 1388, 1696, 1328, 1306, 1476, 1623, 2151, 1960, 3711, 3926, 1335, 1554, 6932, 12311, 13214, 6543, 4561, 4217, 2497, 1730, 4037, 1066, 2120, 1711, 2112, 1461, 3301, 2100, 1816, 2326, 2429, 15404, 18563, 6059, 7755, 16911, 12841, 16025, 18153, 9975, 18331, 5259, 2326, 17459, 2652, 6429, 3739, 6418, 4498, 6168, 4578, 2650, 8030, 10430, 10360, 11726, 6251, 8487, 18707, 19936, 34088, 27674, 17382, 37231, 9639, 3692, 24140, 6634, 10620, 5915, 6569, 8933, 8284, 14840, 6638, 10747, 20312, 2705, 6111, 6063, 6544, 10863, 6660, 11405, 9852, 2818, 11291, 7778, 3173, 5433, 2533, 3475, 1828, 4657, 5730, 2715, 3738, 1711, 1774, 5259, 182, 842, 502, 373, 3247, 2443, 2825, 1539, 2711, 1025, 984, 730, 920, 1198, 488, 906, 836, 1670, 855, 928, 363, 1176, 1919, 76, 47, 98, 37, 1127, 1646, 1446, 564, 305, 537, 597, 207, 1133, 453, 572, 408, 347, 1413, 399, 249, 471, 666, 612, 0, 239, 326, 97, 305, 238, 375, 71, 72, 23, 59, 310, 80, 148, 187, 161, 156, 176, 108, 322, 47, 542, 226, 0, 69, 81, 90, 98, 142, 271, 301, 149, 137, 108, 173, 167, 66, 127, 107, 119, 106, 119, 146, 50, 290, 250, 0, 100, 23, 39, 115, 159, 323, 261, 166, 179, 128, 150, 178, 47, 192, 160, 72, 119, 101, 164, 163, 159, 575, 0, 97, 90, 108, 230, 177, 175, 251, 106, 169, 116, 639, 162, 31, 105, 93, 113, 54, 141, 69, 94, 70, 813, 0, 206, 127, 112, 88, 273, 58, 483, 298, 242, 152, 866, 132, 106, 154, 96, 68, 54, 98, 69, 100, 113, 355, 82, 125, 157, 250, 520, 499, 550, 557, 285, 530, 163, 434, 408, 117, 110, 46, 81, 289, 132, 150, 131, 397, 508, 360, 1297, 160, 590, 1064, 571, 598, 1364, 728, 592, 358, 369, 701, 270, 553, 226, 190, 355, 673, 817, 333, 748, 1305, 228, 4356, 530, 2450, 4183, 1002, 1605, 6141, 1570, 2279, 823, 818, 1901, 567, 2782, 715, 296, 1200, 1292, 1159, 442, 2430, 2508, 457, 2971, 509, 1384, 2930, 1185, 3070, 2291, 1199, 5380, 1754, 1165, 2197, 1048, 2166, 1088, 343, 1263, 2292, 2084, 642, 3210, 3097, 576, 2056, 657, 563, 2586, 710, 1104, 806, 333, 1268, 515, 895, 746, 348, 689, 393, 529, 451, 1070, 541, 124, 2310, 1949, 307, 1195, 274, 220, 1938, 476, 312, 226, 250, 245, 182, 409, 335, 439, 150, 368, 175, 228, 235, 136, 56, 1243, 299, 101, 306, 139, 143, 486, 180, 175, 152, 88, 95, 472, 85, 349, 544, 213, 162, 72, 322, 112, 80, 198, 141, 195, 0, 36, 24, 18, 29, 47, 29, 52, 168, 115, 99, 82, 132, 112, 90, 93, 130, 127, 37, 99, 62, 142, 80, 0, 112, 20, 39, 62, 181, 36, 106, 135, 99, 84, 104, 185, 131, 140, 161, 121, 69, 127, 54, 60, 111, 114, 0, 13, 24, 13, 62, 123, 125, 157, 103, 263, 113, 132, 121, 82, 181, 136, 62, 62, 91, 99, 107, 127, 82, 0, 27, 49, 60, 99, 265, 161, 227, 153, 188, 172, 61, 144, 97, 201, 80, 145, 85, 166, 67, 56, 85, 83, 0, 51, 67, 83, 98, 369, 237, 230, 379, 473, 285, 200, 246, 201, 178, 182, 208, 109, 178, 124, 153, 143, 166, 70, 133, 135, 165, 207, 1065, 303, 336, 444, 884, 283, 216, 619, 387, 245, 191, 344, 192, 241, 233, 201, 322, 272, 231, 319, 345, 265, 888, 1465, 831, 874, 1277, 1429, 767, 515, 1040, 889, 701, 512, 537, 272, 986, 471, 557, 808, 536, 878, 1193, 770, 858, 2142, 2094, 1865, 1520, 1948, 3681, 1448, 702, 3634, 2445, 919, 933, 1791, 962, 1563, 1610, 553, 1369, 1155, 1977, 2687, 1080, 1597, 3818, 7489, 5288, 2301, 3077, 6800, 2765, 1380, 5200, 5930, 2919, 1618, 3154, 2631, 1979, 3084, 1860, 3833, 3467, 1091, 1361, 1954, 529, 4660, 5540, 3062, 7145, 815, 5880, 4299, 1128, 2196, 1251, 4038, 1157, 4373, 3393, 911, 2336, 840, 2049, 2404, 31, 271, 43, 62, 486, 508, 1066, 548, 195, 2306, 1436, 310, 119, 192, 258, 244, 349, 1340, 113, 145, 86, 892, 281, 21, 32, 14, 44, 280, 280, 226, 206, 138, 396, 137, 106, 130, 49, 238, 80, 123, 248, 90, 61, 92, 118, 97, 0, 87, 30, 34, 144, 1440, 875, 2861, 855, 817, 240, 466, 701, 219, 534, 291, 570, 866, 1479, 213, 536, 355, 225, 0, 285, 29, 16, 120, 23, 36, 121, 110, 39, 99, 26, 147, 25, 78, 47, 30, 92, 370, 14, 36, 80, 64, 0, 7, 181, 0, 14, 28, 29, 32, 18, 17, 11, 11, 141, 16, 16, 20, 17, 31, 53, 18, 51, 46, 63, 0, 6, 40, 0, 11, 14, 61, 43, 11, 17, 12, 15, 30, 10, 24, 29, 23, 22, 51, 42, 13, 38, 38, 0, 4, 12, 7, 18, 112, 193, 101, 8, 90, 30, 8, 97, 21, 98, 74, 55, 84, 148, 121, 78, 80, 88, 58, 37, 59, 42, 149, 403, 637, 656, 423, 671, 328, 91, 441, 199, 305, 323, 284, 241, 509, 486, 454, 315, 491, 639, 982, 426, 709, 1308, 3814, 6620, 9464, 1955, 1885, 3020, 703, 2065, 1024, 1041, 793, 813, 882, 1732, 3696, 929, 1443, 2687, 6816, 6179, 5484, 9042, 21369, 8875, 17861, 23635, 15064, 21386, 11035, 5386, 21677, 3040, 9168, 3173, 8147, 7672, 5185, 8781, 2782, 10185, 10865, 6237, 4417, 2569, 6136, 11379, 12633, 14249, 12728, 13225, 22055, 9463, 8961, 15187, 6821, 8190, 4363, 6636, 9394, 3878, 15735, 4892, 4618, 10876, 3666, 5026, 4308, 5102, 7848, 6673, 7464, 8689, 9346, 8346, 11568, 9444, 6435, 4588, 5946, 5510, 6241, 7379, 5954, 6146, 5028, 3870, 8052, 1862, 2682, 3366, 4936, 12795, 10732, 15958, 9368, 9684, 10114, 9456, 12485, 7544, 5760, 8871, 3844, 7908, 9783, 7314, 9639, 6276, 7390, 2970, 1009, 766, 1697, 2566, 5083, 8293, 10231, 3779, 5141, 3054, 3187, 4068, 2731, 4840, 2950, 5579, 4802, 6718, 3051, 4879, 1005, 1745, 2184, 0, 26, 0, 11, 5, 77, 38, 169, 85, 77, 88, 126, 52, 12, 54, 39, 64, 36, 16, 23, 42, 42, 63, 0, 2, 11, 6, 18, 3, 1, 22, 10, 13, 20, 13, 15, 2, 19, 11, 5, 15, 3, 8, 3, 7, 16, 0, 1, 5, 0, 3, 1, 3, 16, 8, 2, 6, 4, 18, 11, 11, 5, 16, 6, 3, 4, 3, 4, 3, 0, 3, 1, 0, 1, 2, 3, 4, 1, 1, 2, 5, 2, 3, 13, 7, 7, 11, 1, 1, 4, 0, 1, 0, 0, 0, 4, 1, 2, 3, 0, 0, 0, 0, 0, 12, 0, 8, 4, 1, 6, 1, 1, 1, 3, 0, 3, 1, 1, 0, 1, 0, 0, 0, 2, 0, 0, 0, 3, 4, 5, 3, 0, 0, 3, 0, 1, 2, 4, 0, 1, 0, 9, 9, 13, 3, 1, 2, 6, 1, 4, 7, 6, 4, 1, 9, 2, 20, 1, 3, 4, 5, 3, 4, 6, 34, 51, 15, 24, 1, 8, 14, 3, 3, 13, 12, 19, 3, 28, 5, 50, 2, 45, 41, 50, 50, 14, 9, 98, 93, 94, 52, 13, 32, 31, 22, 29, 42, 53, 58, 21, 49, 47, 111, 22, 70, 139, 156, 178, 49, 127, 278, 219, 427, 205, 172, 136, 165, 109, 116, 166, 225, 148, 53, 67, 113, 283, 102, 209, 332, 248, 47, 38, 66, 296, 250, 604, 391, 305, 391, 429, 299, 464, 544, 406, 139, 87, 91, 190, 130, 114, 185, 351, 181, 53, 40, 34, 70, 167, 324, 385, 301, 339, 249, 317, 292, 82, 208, 70, 72, 58, 109, 87, 85, 193, 259, 183, 0, 7, 49, 32, 47, 177, 206, 76, 109, 41, 59, 63, 22, 35, 46, 49, 70, 87, 124, 53, 16, 92, 39, 0, 22, 67, 8, 24, 100, 92, 158, 95, 73, 91, 39, 58, 18, 77, 20, 57, 42, 20, 64, 75, 24, 49, 0, 40, 51, 12, 18, 139, 169, 140, 92, 127, 69, 122, 39, 40, 88, 36, 40, 43, 63, 45, 21, 45, 147, 0, 39, 51, 43, 84, 245, 172, 100, 187, 111, 88, 178, 99, 64, 63, 137, 37, 77, 162, 103, 158, 59, 309, 0, 57, 43, 26, 65, 552, 45, 248, 452, 121, 289, 179, 102, 197, 160, 134, 111, 74, 77, 47, 241, 47, 319, 36, 31, 53, 43, 115, 799, 394, 223, 396, 524, 109, 196, 286, 274, 132, 97, 114, 201, 261, 138, 158, 266, 238, 59, 94, 98, 120, 439, 678, 418, 495, 891, 440, 705, 78, 419, 420, 203, 311, 213, 131, 552, 708, 481, 418, 337, 42, 939, 850, 343, 2216, 2770, 1989, 1894, 1681, 1187, 954, 1287, 1220, 582, 821, 701, 664, 640, 994, 789, 672, 1144, 801, 61, 878, 381, 258, 2451, 2867, 1810, 546, 1141, 1212, 653, 198, 419, 1156, 544, 545, 420, 604, 1428, 1120, 310, 731, 702, 61, 451, 656, 211, 675, 1480, 967, 175, 562, 663, 103, 508, 429, 308, 227, 238, 373, 142, 166, 108, 112, 310, 352, 143, 445, 85, 89, 853, 720, 556, 764, 205, 345, 242, 120, 245, 192, 219, 113, 59, 23, 260, 319, 116, 97, 186, 82, 254, 159, 85, 363, 339, 314, 204, 69, 154, 300, 57, 60, 102, 88, 150, 75, 23, 44, 98, 151, 81, 40, 0, 102, 3, 7, 10, 202, 41, 238, 151, 145, 184, 286, 62, 67, 161, 56, 81, 101, 22, 52, 35, 67, 105, 0, 14, 4, 2, 19, 43, 12, 43, 49, 18, 60, 31, 54, 25, 75, 33, 20, 48, 22, 24, 7, 9, 36, 0, 27, 14, 0, 24, 13, 12, 46, 25, 6, 34, 24, 69, 50, 68, 39, 32, 27, 3, 9, 8, 15, 14, 0, 2, 1, 2, 5, 10, 10, 7, 8, 9, 7, 7, 6, 26, 49, 8, 7, 26, 8, 8, 5, 11, 11, 0, 6, 7, 5, 13, 10, 5, 2, 5, 6, 2, 1, 8, 3, 44, 9, 2, 12, 3, 13, 2, 12, 2, 1, 7, 4, 2, 1, 4, 8, 3, 1, 5, 1, 2, 5, 5, 16, 14, 4, 2, 4, 4, 13, 5, 10, 5, 2, 0, 6, 7, 12, 17, 4, 4, 11, 6, 2, 11, 3, 11, 7, 11, 12, 14, 1, 6, 5, 16, 12, 3, 31, 27, 34, 35, 43, 15, 13, 23, 8, 8, 27, 29, 25, 14, 16, 21, 33, 18, 35, 14, 18, 172, 57, 134, 296, 439, 575, 219, 164, 143, 205, 95, 165, 181, 205, 171, 136, 60, 107, 137, 54, 95, 76, 128, 376, 174, 408, 455, 657, 989, 659, 452, 365, 833, 303, 267, 387, 530, 265, 157, 172, 172, 274, 216, 215, 204, 270, 140, 39, 64, 203, 516, 634, 528, 474, 603, 557, 517, 528, 951, 401, 177, 102, 97, 263, 196, 91, 186, 246, 214, 59, 16, 22, 62, 260, 243, 449, 363, 392, 339, 403, 393, 158, 378, 123, 121, 91, 159, 158, 73, 115, 176, 193, 0, 21, 5, 29, 32, 109, 55, 111, 176, 152, 71, 114, 116, 47, 100, 78, 91, 77, 93, 82, 84, 115, 47, 0, 22, 12, 0, 159, 6, 25, 34, 27, 18, 24, 19, 75, 12, 38, 70, 12, 24, 83, 19, 8, 35, 38, 0, 4, 14, 2, 63, 14, 41, 8, 16, 43, 5, 24, 36, 24, 74, 15, 78, 31, 33, 28, 43, 46, 28, 0, 10, 15, 1, 87, 25, 25, 15, 4, 44, 9, 10, 63, 22, 120, 34, 57, 41, 31, 23, 11, 25, 35, 0, 8, 25, 36, 84, 64, 126, 27, 26, 147, 40, 12, 253, 82, 352, 49, 131, 57, 53, 45, 118, 67, 54, 46, 47, 18, 88, 164, 213, 252, 192, 123, 656, 106, 64, 456, 507, 865, 272, 372, 268, 151, 142, 382, 340, 148, 188, 124, 75, 338, 558, 738, 579, 636, 369, 1571, 237, 316, 1826, 874, 1746, 371, 1151, 706, 746, 510, 1067, 561, 511, 712, 498, 416, 1131, 2288, 884, 1018, 1124, 1244, 4187, 532, 818, 4102, 1843, 3615, 1033, 2169, 2039, 1730, 1257, 2479, 2117, 919, 1993, 873, 1095, 2468, 3035, 3711, 3181, 3351, 1685, 5406, 1572, 1785, 5983, 4389, 4057, 2301, 2494, 5151, 1344, 2192, 2678, 3137, 2772, 2581, 1441, 2559, 3805, 2767, 2690, 2580, 3625, 1728, 3512, 2125, 1046, 4119, 1693, 2639, 1241, 1657, 4000, 2544, 2342, 1641, 2671, 3437, 425, 336, 447, 1489, 1369, 1765, 2139, 1830, 1693, 1505, 1092, 1660, 1746, 1209, 530, 590, 670, 842, 1130, 552, 591, 1211, 880, 119, 75, 79, 233, 537, 639, 1165, 921, 776, 737, 843, 673, 417, 461, 401, 430, 328, 603, 365, 465, 329, 569, 448, 0, 0, 0, 0, 0, 2, 3, 13, 18, 0, 2, 4, 6, 9, 6, 5, 26, 86, 1, 12, 4, 36, 7, 0, 0, 1, 3, 1, 17, 6, 9, 11, 21, 3, 3, 86, 46, 12, 15, 107, 28, 6, 24, 0, 21, 10, 0, 0, 0, 0, 1, 33, 5, 15, 14, 45, 4, 6, 4, 4, 12, 3, 25, 15, 3, 8, 5, 3, 6, 0, 1, 2, 2, 8, 24, 12, 13, 16, 31, 2, 8, 6, 4, 5, 4, 9, 8, 40, 11, 2, 0, 10, 0, 7, 5, 4, 4, 32, 13, 25, 56, 29, 33, 40, 23, 15, 12, 14, 13, 16, 24, 16, 7, 18, 26, 3, 8, 14, 13, 13, 155, 55, 51, 148, 46, 29, 46, 109, 45, 11, 21, 39, 21, 30, 41, 32, 47, 40, 21, 14, 22, 57, 52, 235, 51, 59, 301, 134, 136, 67, 108, 122, 62, 60, 44, 67, 127, 59, 74, 141, 131, 21, 89, 34, 127, 251, 250, 151, 243, 322, 330, 134, 95, 355, 223, 76, 83, 185, 141, 219, 124, 29, 157, 162, 44, 192, 16, 60, 81, 224, 338, 67, 243, 422, 177, 94, 361, 504, 173, 118, 315, 74, 177, 439, 65, 208, 237, 6, 30, 25, 33, 332, 117, 40, 168, 34, 295, 59, 20, 43, 109, 162, 37, 473, 78, 28, 182, 13, 70, 52, 6, 16, 2, 4, 17, 10, 60, 18, 7, 12, 2, 31, 26, 15, 12, 26, 31, 3, 17, 39, 2, 5, 9, 1, 0, 0, 2, 14, 12, 16, 6, 2, 4, 9, 8, 10, 5, 8, 6, 16, 5, 5, 4, 13, 6, 4, 0, 32, 1, 2, 4, 123, 43, 161, 106, 78, 90, 116, 37, 15, 66, 23, 32, 38, 13, 27, 23, 20, 37, 0, 10, 7, 0, 17, 20, 8, 51, 21, 11, 39, 13, 20, 3, 16, 26, 7, 14, 2, 13, 6, 5, 5, 0, 9, 10, 0, 3, 4, 0, 23, 18, 5, 5, 2, 28, 5, 12, 7, 4, 3, 2, 3, 12, 2, 3, 0, 21, 16, 10, 0, 1, 3, 3, 4, 6, 3, 5, 9, 0, 4, 8, 2, 5, 2, 6, 3, 1, 2, 0, 1, 3, 56, 6, 6, 5, 5, 4, 12, 2, 0, 2, 2, 17, 2, 1, 4, 1, 2, 1, 0, 0, 1, 4, 9, 13, 1, 12, 9, 2, 1, 1, 2, 0, 2, 0, 5, 2, 1, 6, 5, 2, 6, 1, 1, 5, 7, 4, 23, 11, 13, 5, 9, 2, 14, 1, 2, 9, 0, 4, 0, 2, 3, 10, 3, 8, 4, 7, 4, 38, 30, 55, 52, 108, 18, 13, 19, 33, 4, 1, 30, 10, 28, 3, 19, 16, 23, 14, 47, 52, 30, 49, 35, 17, 43, 74, 118, 59, 43, 54, 74, 21, 26, 58, 30, 36, 6, 26, 33, 38, 28, 71, 81, 106, 55, 40, 28, 34, 181, 344, 120, 215, 89, 133, 80, 89, 105, 94, 75, 63, 69, 115, 109, 84, 87, 235, 175, 41, 61, 9, 40, 223, 462, 211, 278, 232, 219, 147, 181, 262, 153, 90, 71, 109, 87, 98, 103, 128, 230, 143, 17, 29, 11, 20, 259, 336, 344, 198, 184, 188, 203, 224, 66, 152, 79, 39, 45, 78, 75, 66, 64, 99, 155, 0, 63, 126, 12, 263, 91, 108, 186, 64, 61, 71, 88, 42, 26, 79, 47, 38, 29, 60, 26, 45, 33, 32, 0, 35, 43, 32, 38, 18, 103, 54, 63, 41, 47, 26, 29, 20, 43, 51, 27, 34, 47, 31, 72, 48, 89, 0, 38, 51, 11, 26, 50, 225, 183, 128, 34, 70, 82, 43, 53, 100, 56, 52, 70, 33, 39, 74, 94, 227, 0, 12, 1, 3, 6, 133, 218, 81, 172, 115, 182, 302, 107, 88, 61, 98, 64, 166, 26, 61, 86, 54, 457, 0, 13, 4, 4, 7, 179, 58, 144, 267, 89, 226, 271, 28, 83, 247, 58, 60, 166, 39, 41, 108, 26, 423, 0, 9, 0, 1, 4, 104, 260, 127, 115, 156, 113, 118, 39, 109, 233, 41, 63, 70, 311, 96, 62, 134, 158, 0, 10, 6, 6, 405, 687, 539, 296, 615, 375, 439, 267, 196, 188, 439, 196, 206, 59, 942, 707, 78, 379, 201, 9, 24, 18, 36, 1482, 2728, 1142, 824, 1537, 823, 466, 1520, 1086, 284, 665, 372, 1200, 381, 1182, 633, 707, 1647, 1404, 60, 19, 27, 2, 853, 1163, 643, 430, 728, 749, 273, 91, 458, 785, 198, 356, 212, 185, 629, 278, 222, 523, 263, 169, 56, 10, 13, 31, 595, 992, 119, 213, 151, 214, 187, 178, 109, 134, 113, 98, 63, 84, 85, 69, 104, 196, 28, 103, 18, 49, 138, 209, 273, 290, 136, 118, 107, 12, 134, 152, 85, 102, 54, 20, 97, 139, 47, 53, 110, 605, 1110, 80, 80, 108, 175, 168, 133, 78, 110, 152, 24, 175, 82, 38, 57, 31, 35, 77, 82, 45, 101, 52, 0, 1, 0, 0, 6, 69, 31, 122, 14, 44, 6, 25, 26, 2, 6, 16, 11, 24, 85, 43, 15, 33, 56, 0, 1, 6, 2, 8, 14, 16, 41, 19, 5, 12, 2, 9, 11, 9, 8, 4, 17, 71, 15, 7, 22, 39, 0, 8, 9, 0, 1, 12, 28, 16, 15, 27, 2, 15, 13, 6, 20, 30, 11, 10, 30, 23, 28, 28, 38, 0, 3, 0, 0, 3, 18, 27, 26, 9, 10, 12, 6, 43, 12, 21, 27, 16, 12, 56, 20, 7, 26, 33, 0, 3, 15, 7, 15, 102, 32, 61, 105, 65, 20, 10, 70, 59, 35, 19, 26, 13, 52, 29, 41, 50, 58, 27, 10, 54, 31, 143, 230, 297, 261, 232, 314, 79, 26, 223, 169, 55, 32, 99, 120, 174, 152, 148, 170, 138, 366, 135, 120, 74, 741, 1682, 1734, 1947, 1057, 587, 475, 133, 871, 320, 253, 159, 209, 417, 947, 1007, 769, 780, 428, 2254, 1977, 2200, 2133, 5484, 9052, 9259, 12801, 6348, 6769, 2840, 609, 5837, 1358, 2561, 1102, 2846, 3669, 3551, 3249, 1975, 5593, 3087, 3756, 3059, 2440, 1929, 15903, 10782, 23419, 20907, 14939, 14051, 5122, 2426, 7575, 2460, 3141, 2472, 2806, 5200, 3916, 4568, 6034, 3644, 4202, 486, 1884, 641, 797, 5410, 7593, 5089, 4718, 1895, 5343, 2548, 1910, 1724, 1281, 1866, 510, 978, 2470, 2041, 1726, 986, 556, 2413, 3, 41, 13, 92, 875, 750, 681, 671, 1028, 235, 420, 214, 351, 357, 271, 103, 187, 901, 413, 423, 198, 263, 509, 33, 0, 7, 1, 102, 253, 268, 78, 41, 50, 24, 25, 228, 45, 74, 135, 141, 260, 138, 58, 47, 65, 144, 0, 15, 18, 101, 302, 761, 522, 155, 98, 288, 371, 65, 457, 307, 239, 482, 557, 411, 1958, 108, 480, 383, 297, 0, 20, 57, 646, 476, 1063, 349, 207, 441, 1347, 223, 212, 634, 140, 172, 71, 332, 571, 185, 124, 558, 629, 483, 0, 98, 125, 1107, 819, 1486, 449, 441, 524, 927, 702, 293, 536, 158, 183, 265, 603, 175, 1195, 251, 727, 2433, 695, 0, 16, 0, 380, 41, 354, 262, 56, 376, 184, 278, 279, 19, 156, 49, 113, 183, 307, 154, 75, 191, 1134, 165, 0, 0, 7, 9, 0, 6, 9, 6, 5, 2, 22, 277, 6, 9, 21, 6, 63, 14, 22, 27, 10, 21, 11, 0, 3, 0, 1, 0, 4, 9, 10, 0, 3, 3, 19, 1, 9, 29, 6, 5, 5, 10, 4, 5, 2, 4, 1, 4, 0, 1, 11, 0, 2, 8, 1, 15, 0, 21, 2, 10, 3, 4, 9, 5, 1, 3, 4, 4, 9, 0, 1, 9, 4, 18, 6, 22, 16, 21, 4, 13, 41, 7, 47, 8, 4, 16, 14, 17, 33, 7, 5, 14, 2, 3, 12, 1, 91, 8, 15, 108, 56, 19, 30, 148, 27, 66, 89, 39, 80, 86, 18, 40, 17, 26, 62, 1, 10, 25, 13, 238, 24, 71, 121, 161, 69, 112, 261, 87, 81, 201, 116, 65, 194, 107, 150, 141, 53, 113, 1, 15, 32, 76, 188, 52, 210, 175, 96, 357, 165, 394, 39, 181, 257, 125, 197, 298, 69, 421, 120, 58, 19, 16, 35, 77, 76, 282, 223, 301, 158, 410, 29, 31, 349, 103, 311, 125, 164, 409, 372, 134, 329, 123, 36, 58, 0, 11, 14, 11, 22, 92, 63, 61, 74, 27, 37, 40, 6, 20, 25, 27, 51, 18, 64, 46, 9, 41, 35, 0, 2, 8, 0, 5, 64, 64, 79, 35, 37, 59, 18, 19, 1, 34, 11, 25, 15, 2, 27, 48, 10, 36, 0, 7, 46, 1, 12, 111, 141, 189, 90, 68, 32, 65, 25, 18, 111, 30, 17, 31, 20, 20, 22, 22, 132, 0, 0, 7, 1, 7, 290, 185, 116, 227, 47, 59, 139, 36, 21, 57, 105, 35, 36, 33, 28, 150, 12, 308, 0, 1, 0, 2, 3, 492, 40, 175, 346, 36, 217, 102, 3, 85, 160, 98, 40, 70, 36, 35, 77, 3, 286, 2, 0, 2, 1, 0, 339, 369, 197, 220, 162, 76, 77, 40, 121, 111, 81, 3, 101, 104, 66, 52, 104, 102, 0, 2, 21, 5, 323, 414, 243, 392, 707, 186, 438, 76, 171, 81, 102, 215, 83, 46, 610, 461, 161, 189, 89, 0, 51, 68, 25, 1263, 2611, 1357, 1357, 1862, 848, 585, 1133, 1111, 350, 718, 454, 521, 382, 795, 558, 574, 939, 977, 6, 101, 36, 18, 1189, 1641, 943, 208, 769, 771, 399, 82, 377, 772, 274, 370, 202, 160, 677, 491, 126, 272, 203, 4, 16, 55, 26, 74, 883, 1056, 225, 379, 245, 78, 286, 191, 151, 63, 116, 123, 21, 56, 40, 74, 68, 172, 21, 84, 19, 66, 554, 482, 454, 500, 212, 164, 132, 67, 118, 100, 120, 80, 45, 8, 144, 164, 53, 63, 69, 26, 89, 29, 45, 143, 229, 115, 83, 65, 98, 133, 36, 66, 52, 45, 76, 35, 18, 20, 69, 71, 81, 16, 0, 7, 36, 26, 19, 67, 56, 25, 108, 43, 47, 33, 56, 76, 49, 51, 67, 86, 56, 21, 41, 90, 69, 0, 47, 25, 25, 19, 185, 91, 131, 92, 179, 34, 87, 184, 77, 110, 101, 97, 37, 107, 88, 26, 35, 103, 0, 78, 27, 35, 111, 96, 122, 131, 187, 267, 110, 108, 153, 47, 139, 61, 58, 45, 65, 78, 126, 85, 127, 0, 291, 102, 61, 178, 165, 112, 213, 285, 202, 132, 199, 148, 76, 121, 172, 93, 70, 293, 37, 85, 78, 252, 0, 500, 300, 211, 319, 385, 215, 401, 587, 392, 282, 219, 254, 217, 108, 170, 178, 63, 138, 45, 317, 81, 262, 451, 522, 605, 345, 562, 757, 448, 396, 667, 611, 178, 231, 635, 318, 63, 70, 312, 144, 196, 152, 292, 290, 262, 597, 683, 770, 539, 645, 885, 529, 525, 1011, 423, 579, 159, 943, 581, 235, 243, 462, 139, 734, 616, 1070, 393, 558, 580, 1210, 915, 587, 909, 1194, 1012, 1161, 1096, 754, 489, 347, 2444, 1159, 521, 602, 1440, 627, 840, 734, 350, 742, 1111, 525, 910, 581, 423, 483, 1104, 1104, 291, 840, 779, 589, 148, 1923, 1211, 908, 590, 843, 344, 506, 1930, 598, 872, 2254, 433, 763, 647, 441, 700, 475, 248, 264, 233, 601, 120, 105, 327, 250, 259, 133, 852, 199, 172, 134, 27, 308, 995, 487, 400, 96, 168, 129, 208, 230, 206, 171, 130, 86, 81, 153, 110, 74, 106, 48, 18, 35, 35, 16, 60, 115, 121, 47, 23, 52, 78, 78, 167, 91, 95, 95, 150, 48, 72, 64, 79, 93, 40, 40, 45, 35, 73, 40, 15, 0, 36, 1, 2, 1, 210, 21, 111, 40, 60, 113, 78, 34, 42, 40, 32, 18, 37, 7, 30, 14, 31, 29, 0, 25, 6, 2, 6, 63, 17, 40, 52, 30, 77, 72, 37, 40, 36, 47, 16, 33, 15, 12, 18, 13, 9, 0, 18, 6, 1, 7, 76, 62, 44, 68, 4, 51, 42, 46, 65, 87, 59, 26, 45, 25, 17, 22, 12, 5, 0, 6, 1, 0, 12, 51, 21, 13, 11, 6, 7, 20, 4, 19, 40, 14, 7, 24, 13, 8, 13, 2, 6, 0, 0, 0, 3, 0, 5, 13, 1, 0, 0, 2, 0, 1, 0, 16, 2, 1, 9, 9, 1, 1, 4, 5, 0, 0, 0, 0, 0, 0, 0, 0, 0, 1, 0, 1, 0, 2, 3, 1, 0, 3, 0, 0, 2, 0, 0, 0, 0, 0, 0, 0, 3, 0, 0, 0, 0, 0, 0, 0, 2, 1, 0, 0, 0, 0, 0, 2, 0, 0, 0, 0, 0, 0, 2, 0, 1, 0, 2, 0, 1, 0, 0, 2, 0, 0, 0, 0, 2, 0, 5, 0, 1, 0, 0, 0, 1, 2, 6, 1, 2, 0, 0, 0, 0, 0, 0, 0, 1, 1, 1, 2, 0, 2, 0, 0, 0, 0, 3, 5, 20, 4, 2, 13, 5, 9, 1, 2, 0, 6, 0, 3, 3, 4, 7, 0, 16, 1, 4, 12, 3, 0, 5, 69, 5, 53, 27, 10, 18, 30, 11, 20, 5, 6, 6, 8, 41, 18, 1, 16, 2, 3, 8, 5, 0, 5, 126, 45, 97, 42, 38, 63, 31, 27, 23, 48, 22, 9, 9, 44, 36, 8, 29, 16, 15, 0, 36, 15, 19, 36, 51, 41, 75, 146, 62, 45, 67, 101, 25, 14, 59, 90, 196, 30, 57, 97, 84, 75, 0, 1, 6, 6, 48, 12, 9, 34, 19, 11, 14, 32, 51, 13, 51, 37, 55, 48, 318, 24, 16, 78, 77, 0, 1, 4, 0, 33, 21, 32, 22, 19, 148, 4, 36, 125, 36, 83, 63, 41, 66, 132, 79, 64, 82, 111, 0, 9, 0, 19, 39, 81, 122, 107, 21, 136, 63, 16, 431, 120, 243, 162, 172, 65, 340, 161, 127, 209, 221, 0, 25, 69, 49, 139, 293, 558, 295, 204, 730, 250, 103, 632, 379, 487, 411, 585, 487, 725, 626, 599, 690, 446, 252, 114, 280, 303, 397, 869, 1186, 766, 870, 1450, 769, 441, 1783, 788, 940, 895, 1343, 1118, 1100, 906, 914, 1406, 1188, 640, 373, 503, 834, 1126, 1502, 1541, 1558, 1031, 1955, 1008, 1000, 2970, 1006, 1655, 1398, 1364, 1198, 2607, 1823, 1321, 1598, 1361, 3748, 1284, 1952, 2239, 3313, 1553, 2036, 2781, 2066, 5963, 1679, 1141, 8299, 1582, 4269, 1805, 2790, 2451, 3213, 2540, 1361, 2916, 1714, 5154, 3421, 2552, 4845, 6981, 5640, 6748, 6319, 3831, 10066, 2937, 2279, 11611, 4609, 7015, 2512, 3339, 4470, 3073, 6625, 1796, 4505, 3977, 1736, 1378, 1057, 682, 2137, 1772, 2154, 3779, 1660, 4366, 3547, 902, 2635, 1741, 3874, 2194, 3673, 4518, 2255, 2255, 1371, 1462, 2192, 1, 29, 96, 100, 226, 197, 569, 384, 339, 411, 371, 353, 365, 203, 243, 320, 423, 770, 586, 496, 201, 376, 520, 9, 16, 20, 21, 72, 133, 151, 94, 93, 91, 66, 58, 97, 135, 170, 79, 200, 318, 115, 81, 166, 219, 211]}],                        {\"template\": {\"data\": {\"bar\": [{\"error_x\": {\"color\": \"#2a3f5f\"}, \"error_y\": {\"color\": \"#2a3f5f\"}, \"marker\": {\"line\": {\"color\": \"#E5ECF6\", \"width\": 0.5}}, \"type\": \"bar\"}], \"barpolar\": [{\"marker\": {\"line\": {\"color\": \"#E5ECF6\", \"width\": 0.5}}, \"type\": \"barpolar\"}], \"carpet\": [{\"aaxis\": {\"endlinecolor\": \"#2a3f5f\", \"gridcolor\": \"white\", \"linecolor\": \"white\", \"minorgridcolor\": \"white\", \"startlinecolor\": \"#2a3f5f\"}, \"baxis\": {\"endlinecolor\": \"#2a3f5f\", \"gridcolor\": \"white\", \"linecolor\": \"white\", \"minorgridcolor\": \"white\", \"startlinecolor\": \"#2a3f5f\"}, \"type\": \"carpet\"}], \"choropleth\": [{\"colorbar\": {\"outlinewidth\": 0, \"ticks\": \"\"}, \"type\": \"choropleth\"}], \"contour\": [{\"colorbar\": {\"outlinewidth\": 0, \"ticks\": \"\"}, \"colorscale\": [[0.0, \"#0d0887\"], [0.1111111111111111, \"#46039f\"], [0.2222222222222222, \"#7201a8\"], [0.3333333333333333, \"#9c179e\"], [0.4444444444444444, \"#bd3786\"], [0.5555555555555556, \"#d8576b\"], [0.6666666666666666, \"#ed7953\"], [0.7777777777777778, \"#fb9f3a\"], [0.8888888888888888, \"#fdca26\"], [1.0, \"#f0f921\"]], \"type\": \"contour\"}], \"contourcarpet\": [{\"colorbar\": {\"outlinewidth\": 0, \"ticks\": \"\"}, \"type\": \"contourcarpet\"}], \"heatmap\": [{\"colorbar\": {\"outlinewidth\": 0, \"ticks\": \"\"}, \"colorscale\": [[0.0, \"#0d0887\"], [0.1111111111111111, \"#46039f\"], [0.2222222222222222, \"#7201a8\"], [0.3333333333333333, \"#9c179e\"], [0.4444444444444444, \"#bd3786\"], [0.5555555555555556, \"#d8576b\"], [0.6666666666666666, \"#ed7953\"], [0.7777777777777778, \"#fb9f3a\"], [0.8888888888888888, \"#fdca26\"], [1.0, \"#f0f921\"]], \"type\": \"heatmap\"}], \"heatmapgl\": [{\"colorbar\": {\"outlinewidth\": 0, \"ticks\": \"\"}, \"colorscale\": [[0.0, \"#0d0887\"], [0.1111111111111111, \"#46039f\"], [0.2222222222222222, \"#7201a8\"], [0.3333333333333333, \"#9c179e\"], [0.4444444444444444, \"#bd3786\"], [0.5555555555555556, \"#d8576b\"], [0.6666666666666666, \"#ed7953\"], [0.7777777777777778, \"#fb9f3a\"], [0.8888888888888888, \"#fdca26\"], [1.0, \"#f0f921\"]], \"type\": \"heatmapgl\"}], \"histogram\": [{\"marker\": {\"colorbar\": {\"outlinewidth\": 0, \"ticks\": \"\"}}, \"type\": \"histogram\"}], \"histogram2d\": [{\"colorbar\": {\"outlinewidth\": 0, \"ticks\": \"\"}, \"colorscale\": [[0.0, \"#0d0887\"], [0.1111111111111111, \"#46039f\"], [0.2222222222222222, \"#7201a8\"], [0.3333333333333333, \"#9c179e\"], [0.4444444444444444, \"#bd3786\"], [0.5555555555555556, \"#d8576b\"], [0.6666666666666666, \"#ed7953\"], [0.7777777777777778, \"#fb9f3a\"], [0.8888888888888888, \"#fdca26\"], [1.0, \"#f0f921\"]], \"type\": \"histogram2d\"}], \"histogram2dcontour\": [{\"colorbar\": {\"outlinewidth\": 0, \"ticks\": \"\"}, \"colorscale\": [[0.0, \"#0d0887\"], [0.1111111111111111, \"#46039f\"], [0.2222222222222222, \"#7201a8\"], [0.3333333333333333, \"#9c179e\"], [0.4444444444444444, \"#bd3786\"], [0.5555555555555556, \"#d8576b\"], [0.6666666666666666, \"#ed7953\"], [0.7777777777777778, \"#fb9f3a\"], [0.8888888888888888, \"#fdca26\"], [1.0, \"#f0f921\"]], \"type\": \"histogram2dcontour\"}], \"mesh3d\": [{\"colorbar\": {\"outlinewidth\": 0, \"ticks\": \"\"}, \"type\": \"mesh3d\"}], \"parcoords\": [{\"line\": {\"colorbar\": {\"outlinewidth\": 0, \"ticks\": \"\"}}, \"type\": \"parcoords\"}], \"pie\": [{\"automargin\": true, \"type\": \"pie\"}], \"scatter\": [{\"marker\": {\"colorbar\": {\"outlinewidth\": 0, \"ticks\": \"\"}}, \"type\": \"scatter\"}], \"scatter3d\": [{\"line\": {\"colorbar\": {\"outlinewidth\": 0, \"ticks\": \"\"}}, \"marker\": {\"colorbar\": {\"outlinewidth\": 0, \"ticks\": \"\"}}, \"type\": \"scatter3d\"}], \"scattercarpet\": [{\"marker\": {\"colorbar\": {\"outlinewidth\": 0, \"ticks\": \"\"}}, \"type\": \"scattercarpet\"}], \"scattergeo\": [{\"marker\": {\"colorbar\": {\"outlinewidth\": 0, \"ticks\": \"\"}}, \"type\": \"scattergeo\"}], \"scattergl\": [{\"marker\": {\"colorbar\": {\"outlinewidth\": 0, \"ticks\": \"\"}}, \"type\": \"scattergl\"}], \"scattermapbox\": [{\"marker\": {\"colorbar\": {\"outlinewidth\": 0, \"ticks\": \"\"}}, \"type\": \"scattermapbox\"}], \"scatterpolar\": [{\"marker\": {\"colorbar\": {\"outlinewidth\": 0, \"ticks\": \"\"}}, \"type\": \"scatterpolar\"}], \"scatterpolargl\": [{\"marker\": {\"colorbar\": {\"outlinewidth\": 0, \"ticks\": \"\"}}, \"type\": \"scatterpolargl\"}], \"scatterternary\": [{\"marker\": {\"colorbar\": {\"outlinewidth\": 0, \"ticks\": \"\"}}, \"type\": \"scatterternary\"}], \"surface\": [{\"colorbar\": {\"outlinewidth\": 0, \"ticks\": \"\"}, \"colorscale\": [[0.0, \"#0d0887\"], [0.1111111111111111, \"#46039f\"], [0.2222222222222222, \"#7201a8\"], [0.3333333333333333, \"#9c179e\"], [0.4444444444444444, \"#bd3786\"], [0.5555555555555556, \"#d8576b\"], [0.6666666666666666, \"#ed7953\"], [0.7777777777777778, \"#fb9f3a\"], [0.8888888888888888, \"#fdca26\"], [1.0, \"#f0f921\"]], \"type\": \"surface\"}], \"table\": [{\"cells\": {\"fill\": {\"color\": \"#EBF0F8\"}, \"line\": {\"color\": \"white\"}}, \"header\": {\"fill\": {\"color\": \"#C8D4E3\"}, \"line\": {\"color\": \"white\"}}, \"type\": \"table\"}]}, \"layout\": {\"annotationdefaults\": {\"arrowcolor\": \"#2a3f5f\", \"arrowhead\": 0, \"arrowwidth\": 1}, \"autotypenumbers\": \"strict\", \"coloraxis\": {\"colorbar\": {\"outlinewidth\": 0, \"ticks\": \"\"}}, \"colorscale\": {\"diverging\": [[0, \"#8e0152\"], [0.1, \"#c51b7d\"], [0.2, \"#de77ae\"], [0.3, \"#f1b6da\"], [0.4, \"#fde0ef\"], [0.5, \"#f7f7f7\"], [0.6, \"#e6f5d0\"], [0.7, \"#b8e186\"], [0.8, \"#7fbc41\"], [0.9, \"#4d9221\"], [1, \"#276419\"]], \"sequential\": [[0.0, \"#0d0887\"], [0.1111111111111111, \"#46039f\"], [0.2222222222222222, \"#7201a8\"], [0.3333333333333333, \"#9c179e\"], [0.4444444444444444, \"#bd3786\"], [0.5555555555555556, \"#d8576b\"], [0.6666666666666666, \"#ed7953\"], [0.7777777777777778, \"#fb9f3a\"], [0.8888888888888888, \"#fdca26\"], [1.0, \"#f0f921\"]], \"sequentialminus\": [[0.0, \"#0d0887\"], [0.1111111111111111, \"#46039f\"], [0.2222222222222222, \"#7201a8\"], [0.3333333333333333, \"#9c179e\"], [0.4444444444444444, \"#bd3786\"], [0.5555555555555556, \"#d8576b\"], [0.6666666666666666, \"#ed7953\"], [0.7777777777777778, \"#fb9f3a\"], [0.8888888888888888, \"#fdca26\"], [1.0, \"#f0f921\"]]}, \"colorway\": [\"#636efa\", \"#EF553B\", \"#00cc96\", \"#ab63fa\", \"#FFA15A\", \"#19d3f3\", \"#FF6692\", \"#B6E880\", \"#FF97FF\", \"#FECB52\"], \"font\": {\"color\": \"#2a3f5f\"}, \"geo\": {\"bgcolor\": \"white\", \"lakecolor\": \"white\", \"landcolor\": \"#E5ECF6\", \"showlakes\": true, \"showland\": true, \"subunitcolor\": \"white\"}, \"hoverlabel\": {\"align\": \"left\"}, \"hovermode\": \"closest\", \"mapbox\": {\"style\": \"light\"}, \"paper_bgcolor\": \"white\", \"plot_bgcolor\": \"#E5ECF6\", \"polar\": {\"angularaxis\": {\"gridcolor\": \"white\", \"linecolor\": \"white\", \"ticks\": \"\"}, \"bgcolor\": \"#E5ECF6\", \"radialaxis\": {\"gridcolor\": \"white\", \"linecolor\": \"white\", \"ticks\": \"\"}}, \"scene\": {\"xaxis\": {\"backgroundcolor\": \"#E5ECF6\", \"gridcolor\": \"white\", \"gridwidth\": 2, \"linecolor\": \"white\", \"showbackground\": true, \"ticks\": \"\", \"zerolinecolor\": \"white\"}, \"yaxis\": {\"backgroundcolor\": \"#E5ECF6\", \"gridcolor\": \"white\", \"gridwidth\": 2, \"linecolor\": \"white\", \"showbackground\": true, \"ticks\": \"\", \"zerolinecolor\": \"white\"}, \"zaxis\": {\"backgroundcolor\": \"#E5ECF6\", \"gridcolor\": \"white\", \"gridwidth\": 2, \"linecolor\": \"white\", \"showbackground\": true, \"ticks\": \"\", \"zerolinecolor\": \"white\"}}, \"shapedefaults\": {\"line\": {\"color\": \"#2a3f5f\"}}, \"ternary\": {\"aaxis\": {\"gridcolor\": \"white\", \"linecolor\": \"white\", \"ticks\": \"\"}, \"baxis\": {\"gridcolor\": \"white\", \"linecolor\": \"white\", \"ticks\": \"\"}, \"bgcolor\": \"#E5ECF6\", \"caxis\": {\"gridcolor\": \"white\", \"linecolor\": \"white\", \"ticks\": \"\"}}, \"title\": {\"x\": 0.05}, \"xaxis\": {\"automargin\": true, \"gridcolor\": \"white\", \"linecolor\": \"white\", \"ticks\": \"\", \"title\": {\"standoff\": 15}, \"zerolinecolor\": \"white\", \"zerolinewidth\": 2}, \"yaxis\": {\"automargin\": true, \"gridcolor\": \"white\", \"linecolor\": \"white\", \"ticks\": \"\", \"title\": {\"standoff\": 15}, \"zerolinecolor\": \"white\", \"zerolinewidth\": 2}}}, \"title\": {\"text\": \"Histograma dos N\\u00fameros de Focos de Calor\"}, \"xaxis\": {\"title\": {\"text\": \"Distribui\\u00e7\\u00e3o\"}}, \"yaxis\": {\"title\": {\"text\": \"Frequ\\u00eancia\"}}},                        {\"responsive\": true}                    ).then(function(){\n",
       "                            \n",
       "var gd = document.getElementById('5315b60f-1736-46ec-860a-0b30b8cae402');\n",
       "var x = new MutationObserver(function (mutations, observer) {{\n",
       "        var display = window.getComputedStyle(gd).display;\n",
       "        if (!display || display === 'none') {{\n",
       "            console.log([gd, 'removed!']);\n",
       "            Plotly.purge(gd);\n",
       "            observer.disconnect();\n",
       "        }}\n",
       "}});\n",
       "\n",
       "// Listen for the removal of the full notebook cells\n",
       "var notebookContainer = gd.closest('#notebook-container');\n",
       "if (notebookContainer) {{\n",
       "    x.observe(notebookContainer, {childList: true});\n",
       "}}\n",
       "\n",
       "// Listen for the clearing of the current output cell\n",
       "var outputEl = gd.closest('.output');\n",
       "if (outputEl) {{\n",
       "    x.observe(outputEl, {childList: true});\n",
       "}}\n",
       "\n",
       "                        })                };                });            </script>        </div>"
      ]
     },
     "metadata": {},
     "output_type": "display_data"
    }
   ],
   "source": [
    "plot_histogram(base)"
   ]
  },
  {
   "cell_type": "code",
   "execution_count": 65,
   "metadata": {},
   "outputs": [],
   "source": [
    "# Boxplot do número de focos de calor\n",
    "\n",
    "def plot_box_plot(df):\n",
    "    \n",
    "    graph = go.Box(y = df[df['state'] == 'Mato Grosso']['number'],\n",
    "                name = 'Mato Grosso')\n",
    "    \n",
    "    graph1 = go.Box(y = df[df['state'] == 'Pará']['number'],\n",
    "                name = 'Pará')\n",
    "    \n",
    "    graph2 = go.Box(y = df[df['state'] == 'Maranhão']['number'],\n",
    "                name = 'Maranhão')\n",
    "    \n",
    "    data = [graph, graph1, graph2]\n",
    "    \n",
    "    layout = go.Layout(title = 'BoxPlot dos Números de Focos de Calor',\n",
    "                      height=600, \n",
    "                      width=1000)\n",
    "    \n",
    "    fig = go.Figure(data=data, layout=layout)\n",
    "    return py.iplot(fig)"
   ]
  },
  {
   "cell_type": "code",
   "execution_count": 66,
   "metadata": {},
   "outputs": [
    {
     "data": {
      "application/vnd.plotly.v1+json": {
       "config": {
        "linkText": "Export to plot.ly",
        "plotlyServerURL": "https://plot.ly",
        "showLink": false
       },
       "data": [
        {
         "name": "Mato Grosso",
         "type": "box",
         "y": [
          0,
          39,
          44,
          44,
          172,
          883,
          261,
          440,
          1000,
          470,
          232,
          615,
          327,
          206,
          179,
          276,
          244,
          720,
          300,
          457,
          317,
          576,
          768,
          0,
          28,
          35,
          54,
          22,
          566,
          397,
          951,
          414,
          280,
          208,
          203,
          440,
          147,
          200,
          374,
          134,
          396,
          763,
          295,
          266,
          709,
          806,
          0,
          18,
          60,
          24,
          103,
          541,
          822,
          423,
          474,
          679,
          227,
          379,
          663,
          301,
          419,
          636,
          481,
          517,
          934,
          698,
          766,
          1188,
          1270,
          0,
          76,
          59,
          309,
          641,
          930,
          946,
          1010,
          428,
          809,
          358,
          255,
          893,
          467,
          560,
          411,
          658,
          638,
          1351,
          708,
          426,
          708,
          992,
          0,
          730,
          1192,
          1191,
          2522,
          2765,
          4053,
          2259,
          1013,
          1546,
          522,
          601,
          1382,
          640,
          958,
          962,
          803,
          437,
          929,
          844,
          985,
          1118,
          951,
          2200,
          2201,
          4358,
          6641,
          7879,
          9038,
          11530,
          2696,
          2398,
          3552,
          1147,
          1148,
          2186,
          1074,
          1933,
          1388,
          1696,
          1328,
          1306,
          1476,
          1623,
          2151,
          1960,
          3711,
          3926,
          1335,
          1554,
          6932,
          12311,
          13214,
          6543,
          4561,
          4217,
          2497,
          1730,
          4037,
          1066,
          2120,
          1711,
          2112,
          1461,
          3301,
          2100,
          1816,
          2326,
          2429,
          15404,
          18563,
          6059,
          7755,
          16911,
          12841,
          16025,
          18153,
          9975,
          18331,
          5259,
          2326,
          17459,
          2652,
          6429,
          3739,
          6418,
          4498,
          6168,
          4578,
          2650,
          8030,
          10430,
          10360,
          11726,
          6251,
          8487,
          18707,
          19936,
          34088,
          27674,
          17382,
          37231,
          9639,
          3692,
          24140,
          6634,
          10620,
          5915,
          6569,
          8933,
          8284,
          14840,
          6638,
          10747,
          20312,
          2705,
          6111,
          6063,
          6544,
          10863,
          6660,
          11405,
          9852,
          2818,
          11291,
          7778,
          3173,
          5433,
          2533,
          3475,
          1828,
          4657,
          5730,
          2715,
          3738,
          1711,
          1774,
          5259,
          182,
          842,
          502,
          373,
          3247,
          2443,
          2825,
          1539,
          2711,
          1025,
          984,
          730,
          920,
          1198,
          488,
          906,
          836,
          1670,
          855,
          928,
          363,
          1176,
          1919,
          76,
          47,
          98,
          37,
          1127,
          1646,
          1446,
          564,
          305,
          537,
          597,
          207,
          1133,
          453,
          572,
          408,
          347,
          1413,
          399,
          249,
          471,
          666,
          612
         ]
        },
        {
         "name": "Pará",
         "type": "box",
         "y": [
          0,
          87,
          30,
          34,
          144,
          1440,
          875,
          2861,
          855,
          817,
          240,
          466,
          701,
          219,
          534,
          291,
          570,
          866,
          1479,
          213,
          536,
          355,
          225,
          0,
          285,
          29,
          16,
          120,
          23,
          36,
          121,
          110,
          39,
          99,
          26,
          147,
          25,
          78,
          47,
          30,
          92,
          370,
          14,
          36,
          80,
          64,
          0,
          7,
          181,
          0,
          14,
          28,
          29,
          32,
          18,
          17,
          11,
          11,
          141,
          16,
          16,
          20,
          17,
          31,
          53,
          18,
          51,
          46,
          63,
          0,
          6,
          40,
          0,
          11,
          14,
          61,
          43,
          11,
          17,
          12,
          15,
          30,
          10,
          24,
          29,
          23,
          22,
          51,
          42,
          13,
          38,
          38,
          0,
          4,
          12,
          7,
          18,
          112,
          193,
          101,
          8,
          90,
          30,
          8,
          97,
          21,
          98,
          74,
          55,
          84,
          148,
          121,
          78,
          80,
          88,
          58,
          37,
          59,
          42,
          149,
          403,
          637,
          656,
          423,
          671,
          328,
          91,
          441,
          199,
          305,
          323,
          284,
          241,
          509,
          486,
          454,
          315,
          491,
          639,
          982,
          426,
          709,
          1308,
          3814,
          6620,
          9464,
          1955,
          1885,
          3020,
          703,
          2065,
          1024,
          1041,
          793,
          813,
          882,
          1732,
          3696,
          929,
          1443,
          2687,
          6816,
          6179,
          5484,
          9042,
          21369,
          8875,
          17861,
          23635,
          15064,
          21386,
          11035,
          5386,
          21677,
          3040,
          9168,
          3173,
          8147,
          7672,
          5185,
          8781,
          2782,
          10185,
          10865,
          6237,
          4417,
          2569,
          6136,
          11379,
          12633,
          14249,
          12728,
          13225,
          22055,
          9463,
          8961,
          15187,
          6821,
          8190,
          4363,
          6636,
          9394,
          3878,
          15735,
          4892,
          4618,
          10876,
          3666,
          5026,
          4308,
          5102,
          7848,
          6673,
          7464,
          8689,
          9346,
          8346,
          11568,
          9444,
          6435,
          4588,
          5946,
          5510,
          6241,
          7379,
          5954,
          6146,
          5028,
          3870,
          8052,
          1862,
          2682,
          3366,
          4936,
          12795,
          10732,
          15958,
          9368,
          9684,
          10114,
          9456,
          12485,
          7544,
          5760,
          8871,
          3844,
          7908,
          9783,
          7314,
          9639,
          6276,
          7390,
          2970,
          1009,
          766,
          1697,
          2566,
          5083,
          8293,
          10231,
          3779,
          5141,
          3054,
          3187,
          4068,
          2731,
          4840,
          2950,
          5579,
          4802,
          6718,
          3051,
          4879,
          1005,
          1745,
          2184
         ]
        },
        {
         "name": "Maranhão",
         "type": "box",
         "y": [
          0,
          54,
          19,
          29,
          49,
          575,
          338,
          674,
          386,
          634,
          203,
          400,
          457,
          195,
          461,
          316,
          291,
          458,
          395,
          178,
          281,
          712,
          86,
          0,
          6,
          11,
          1,
          116,
          13,
          24,
          73,
          36,
          21,
          59,
          30,
          104,
          14,
          84,
          72,
          17,
          78,
          268,
          44,
          15,
          74,
          72,
          0,
          17,
          6,
          0,
          16,
          24,
          43,
          19,
          19,
          89,
          6,
          39,
          129,
          43,
          54,
          45,
          40,
          41,
          70,
          32,
          93,
          57,
          39,
          0,
          4,
          6,
          2,
          28,
          112,
          98,
          99,
          20,
          76,
          40,
          27,
          143,
          46,
          114,
          83,
          66,
          103,
          103,
          90,
          50,
          63,
          93,
          0,
          3,
          28,
          21,
          71,
          236,
          324,
          108,
          89,
          294,
          101,
          25,
          300,
          98,
          370,
          132,
          140,
          184,
          186,
          157,
          203,
          139,
          231,
          78,
          32,
          94,
          101,
          227,
          865,
          818,
          662,
          520,
          1477,
          687,
          312,
          1225,
          689,
          987,
          603,
          786,
          850,
          693,
          644,
          738,
          749,
          757,
          276,
          258,
          233,
          549,
          1675,
          2675,
          1677,
          1984,
          1416,
          2786,
          1542,
          1182,
          2601,
          1159,
          3693,
          1332,
          2027,
          1616,
          2182,
          1973,
          1457,
          1078,
          1871,
          1177,
          897,
          839,
          2035,
          3789,
          2407,
          2426,
          3118,
          2416,
          10780,
          1777,
          2181,
          6826,
          2192,
          10519,
          2374,
          5338,
          5411,
          3849,
          3001,
          2833,
          3366,
          2162,
          3933,
          1739,
          1364,
          4550,
          5543,
          7799,
          6807,
          7805,
          3782,
          11245,
          3575,
          3107,
          11813,
          5086,
          7376,
          4312,
          4357,
          5502,
          3109,
          9243,
          3177,
          3667,
          4403,
          5140,
          3207,
          2654,
          6597,
          7152,
          8588,
          5386,
          8704,
          4270,
          9694,
          5018,
          2839,
          4095,
          3171,
          5911,
          3221,
          5574,
          6387,
          5617,
          4538,
          1832,
          3645,
          3394,
          2235,
          1494,
          2267,
          3521,
          8421,
          7536,
          10348,
          6670,
          6879,
          5191,
          5728,
          6505,
          6082,
          4038,
          2644,
          2368,
          3710,
          4159,
          3826,
          2706,
          2309,
          3158,
          2481,
          1396,
          1001,
          1462,
          1290,
          3377,
          3718,
          5296,
          3775,
          3469,
          2478,
          3386,
          2485,
          2502,
          2584,
          2086,
          2597,
          2329,
          3647,
          1491,
          2970,
          904,
          1813,
          1228
         ]
        }
       ],
       "layout": {
        "height": 600,
        "template": {
         "data": {
          "bar": [
           {
            "error_x": {
             "color": "#2a3f5f"
            },
            "error_y": {
             "color": "#2a3f5f"
            },
            "marker": {
             "line": {
              "color": "#E5ECF6",
              "width": 0.5
             }
            },
            "type": "bar"
           }
          ],
          "barpolar": [
           {
            "marker": {
             "line": {
              "color": "#E5ECF6",
              "width": 0.5
             }
            },
            "type": "barpolar"
           }
          ],
          "carpet": [
           {
            "aaxis": {
             "endlinecolor": "#2a3f5f",
             "gridcolor": "white",
             "linecolor": "white",
             "minorgridcolor": "white",
             "startlinecolor": "#2a3f5f"
            },
            "baxis": {
             "endlinecolor": "#2a3f5f",
             "gridcolor": "white",
             "linecolor": "white",
             "minorgridcolor": "white",
             "startlinecolor": "#2a3f5f"
            },
            "type": "carpet"
           }
          ],
          "choropleth": [
           {
            "colorbar": {
             "outlinewidth": 0,
             "ticks": ""
            },
            "type": "choropleth"
           }
          ],
          "contour": [
           {
            "colorbar": {
             "outlinewidth": 0,
             "ticks": ""
            },
            "colorscale": [
             [
              0,
              "#0d0887"
             ],
             [
              0.1111111111111111,
              "#46039f"
             ],
             [
              0.2222222222222222,
              "#7201a8"
             ],
             [
              0.3333333333333333,
              "#9c179e"
             ],
             [
              0.4444444444444444,
              "#bd3786"
             ],
             [
              0.5555555555555556,
              "#d8576b"
             ],
             [
              0.6666666666666666,
              "#ed7953"
             ],
             [
              0.7777777777777778,
              "#fb9f3a"
             ],
             [
              0.8888888888888888,
              "#fdca26"
             ],
             [
              1,
              "#f0f921"
             ]
            ],
            "type": "contour"
           }
          ],
          "contourcarpet": [
           {
            "colorbar": {
             "outlinewidth": 0,
             "ticks": ""
            },
            "type": "contourcarpet"
           }
          ],
          "heatmap": [
           {
            "colorbar": {
             "outlinewidth": 0,
             "ticks": ""
            },
            "colorscale": [
             [
              0,
              "#0d0887"
             ],
             [
              0.1111111111111111,
              "#46039f"
             ],
             [
              0.2222222222222222,
              "#7201a8"
             ],
             [
              0.3333333333333333,
              "#9c179e"
             ],
             [
              0.4444444444444444,
              "#bd3786"
             ],
             [
              0.5555555555555556,
              "#d8576b"
             ],
             [
              0.6666666666666666,
              "#ed7953"
             ],
             [
              0.7777777777777778,
              "#fb9f3a"
             ],
             [
              0.8888888888888888,
              "#fdca26"
             ],
             [
              1,
              "#f0f921"
             ]
            ],
            "type": "heatmap"
           }
          ],
          "heatmapgl": [
           {
            "colorbar": {
             "outlinewidth": 0,
             "ticks": ""
            },
            "colorscale": [
             [
              0,
              "#0d0887"
             ],
             [
              0.1111111111111111,
              "#46039f"
             ],
             [
              0.2222222222222222,
              "#7201a8"
             ],
             [
              0.3333333333333333,
              "#9c179e"
             ],
             [
              0.4444444444444444,
              "#bd3786"
             ],
             [
              0.5555555555555556,
              "#d8576b"
             ],
             [
              0.6666666666666666,
              "#ed7953"
             ],
             [
              0.7777777777777778,
              "#fb9f3a"
             ],
             [
              0.8888888888888888,
              "#fdca26"
             ],
             [
              1,
              "#f0f921"
             ]
            ],
            "type": "heatmapgl"
           }
          ],
          "histogram": [
           {
            "marker": {
             "colorbar": {
              "outlinewidth": 0,
              "ticks": ""
             }
            },
            "type": "histogram"
           }
          ],
          "histogram2d": [
           {
            "colorbar": {
             "outlinewidth": 0,
             "ticks": ""
            },
            "colorscale": [
             [
              0,
              "#0d0887"
             ],
             [
              0.1111111111111111,
              "#46039f"
             ],
             [
              0.2222222222222222,
              "#7201a8"
             ],
             [
              0.3333333333333333,
              "#9c179e"
             ],
             [
              0.4444444444444444,
              "#bd3786"
             ],
             [
              0.5555555555555556,
              "#d8576b"
             ],
             [
              0.6666666666666666,
              "#ed7953"
             ],
             [
              0.7777777777777778,
              "#fb9f3a"
             ],
             [
              0.8888888888888888,
              "#fdca26"
             ],
             [
              1,
              "#f0f921"
             ]
            ],
            "type": "histogram2d"
           }
          ],
          "histogram2dcontour": [
           {
            "colorbar": {
             "outlinewidth": 0,
             "ticks": ""
            },
            "colorscale": [
             [
              0,
              "#0d0887"
             ],
             [
              0.1111111111111111,
              "#46039f"
             ],
             [
              0.2222222222222222,
              "#7201a8"
             ],
             [
              0.3333333333333333,
              "#9c179e"
             ],
             [
              0.4444444444444444,
              "#bd3786"
             ],
             [
              0.5555555555555556,
              "#d8576b"
             ],
             [
              0.6666666666666666,
              "#ed7953"
             ],
             [
              0.7777777777777778,
              "#fb9f3a"
             ],
             [
              0.8888888888888888,
              "#fdca26"
             ],
             [
              1,
              "#f0f921"
             ]
            ],
            "type": "histogram2dcontour"
           }
          ],
          "mesh3d": [
           {
            "colorbar": {
             "outlinewidth": 0,
             "ticks": ""
            },
            "type": "mesh3d"
           }
          ],
          "parcoords": [
           {
            "line": {
             "colorbar": {
              "outlinewidth": 0,
              "ticks": ""
             }
            },
            "type": "parcoords"
           }
          ],
          "pie": [
           {
            "automargin": true,
            "type": "pie"
           }
          ],
          "scatter": [
           {
            "marker": {
             "colorbar": {
              "outlinewidth": 0,
              "ticks": ""
             }
            },
            "type": "scatter"
           }
          ],
          "scatter3d": [
           {
            "line": {
             "colorbar": {
              "outlinewidth": 0,
              "ticks": ""
             }
            },
            "marker": {
             "colorbar": {
              "outlinewidth": 0,
              "ticks": ""
             }
            },
            "type": "scatter3d"
           }
          ],
          "scattercarpet": [
           {
            "marker": {
             "colorbar": {
              "outlinewidth": 0,
              "ticks": ""
             }
            },
            "type": "scattercarpet"
           }
          ],
          "scattergeo": [
           {
            "marker": {
             "colorbar": {
              "outlinewidth": 0,
              "ticks": ""
             }
            },
            "type": "scattergeo"
           }
          ],
          "scattergl": [
           {
            "marker": {
             "colorbar": {
              "outlinewidth": 0,
              "ticks": ""
             }
            },
            "type": "scattergl"
           }
          ],
          "scattermapbox": [
           {
            "marker": {
             "colorbar": {
              "outlinewidth": 0,
              "ticks": ""
             }
            },
            "type": "scattermapbox"
           }
          ],
          "scatterpolar": [
           {
            "marker": {
             "colorbar": {
              "outlinewidth": 0,
              "ticks": ""
             }
            },
            "type": "scatterpolar"
           }
          ],
          "scatterpolargl": [
           {
            "marker": {
             "colorbar": {
              "outlinewidth": 0,
              "ticks": ""
             }
            },
            "type": "scatterpolargl"
           }
          ],
          "scatterternary": [
           {
            "marker": {
             "colorbar": {
              "outlinewidth": 0,
              "ticks": ""
             }
            },
            "type": "scatterternary"
           }
          ],
          "surface": [
           {
            "colorbar": {
             "outlinewidth": 0,
             "ticks": ""
            },
            "colorscale": [
             [
              0,
              "#0d0887"
             ],
             [
              0.1111111111111111,
              "#46039f"
             ],
             [
              0.2222222222222222,
              "#7201a8"
             ],
             [
              0.3333333333333333,
              "#9c179e"
             ],
             [
              0.4444444444444444,
              "#bd3786"
             ],
             [
              0.5555555555555556,
              "#d8576b"
             ],
             [
              0.6666666666666666,
              "#ed7953"
             ],
             [
              0.7777777777777778,
              "#fb9f3a"
             ],
             [
              0.8888888888888888,
              "#fdca26"
             ],
             [
              1,
              "#f0f921"
             ]
            ],
            "type": "surface"
           }
          ],
          "table": [
           {
            "cells": {
             "fill": {
              "color": "#EBF0F8"
             },
             "line": {
              "color": "white"
             }
            },
            "header": {
             "fill": {
              "color": "#C8D4E3"
             },
             "line": {
              "color": "white"
             }
            },
            "type": "table"
           }
          ]
         },
         "layout": {
          "annotationdefaults": {
           "arrowcolor": "#2a3f5f",
           "arrowhead": 0,
           "arrowwidth": 1
          },
          "autotypenumbers": "strict",
          "coloraxis": {
           "colorbar": {
            "outlinewidth": 0,
            "ticks": ""
           }
          },
          "colorscale": {
           "diverging": [
            [
             0,
             "#8e0152"
            ],
            [
             0.1,
             "#c51b7d"
            ],
            [
             0.2,
             "#de77ae"
            ],
            [
             0.3,
             "#f1b6da"
            ],
            [
             0.4,
             "#fde0ef"
            ],
            [
             0.5,
             "#f7f7f7"
            ],
            [
             0.6,
             "#e6f5d0"
            ],
            [
             0.7,
             "#b8e186"
            ],
            [
             0.8,
             "#7fbc41"
            ],
            [
             0.9,
             "#4d9221"
            ],
            [
             1,
             "#276419"
            ]
           ],
           "sequential": [
            [
             0,
             "#0d0887"
            ],
            [
             0.1111111111111111,
             "#46039f"
            ],
            [
             0.2222222222222222,
             "#7201a8"
            ],
            [
             0.3333333333333333,
             "#9c179e"
            ],
            [
             0.4444444444444444,
             "#bd3786"
            ],
            [
             0.5555555555555556,
             "#d8576b"
            ],
            [
             0.6666666666666666,
             "#ed7953"
            ],
            [
             0.7777777777777778,
             "#fb9f3a"
            ],
            [
             0.8888888888888888,
             "#fdca26"
            ],
            [
             1,
             "#f0f921"
            ]
           ],
           "sequentialminus": [
            [
             0,
             "#0d0887"
            ],
            [
             0.1111111111111111,
             "#46039f"
            ],
            [
             0.2222222222222222,
             "#7201a8"
            ],
            [
             0.3333333333333333,
             "#9c179e"
            ],
            [
             0.4444444444444444,
             "#bd3786"
            ],
            [
             0.5555555555555556,
             "#d8576b"
            ],
            [
             0.6666666666666666,
             "#ed7953"
            ],
            [
             0.7777777777777778,
             "#fb9f3a"
            ],
            [
             0.8888888888888888,
             "#fdca26"
            ],
            [
             1,
             "#f0f921"
            ]
           ]
          },
          "colorway": [
           "#636efa",
           "#EF553B",
           "#00cc96",
           "#ab63fa",
           "#FFA15A",
           "#19d3f3",
           "#FF6692",
           "#B6E880",
           "#FF97FF",
           "#FECB52"
          ],
          "font": {
           "color": "#2a3f5f"
          },
          "geo": {
           "bgcolor": "white",
           "lakecolor": "white",
           "landcolor": "#E5ECF6",
           "showlakes": true,
           "showland": true,
           "subunitcolor": "white"
          },
          "hoverlabel": {
           "align": "left"
          },
          "hovermode": "closest",
          "mapbox": {
           "style": "light"
          },
          "paper_bgcolor": "white",
          "plot_bgcolor": "#E5ECF6",
          "polar": {
           "angularaxis": {
            "gridcolor": "white",
            "linecolor": "white",
            "ticks": ""
           },
           "bgcolor": "#E5ECF6",
           "radialaxis": {
            "gridcolor": "white",
            "linecolor": "white",
            "ticks": ""
           }
          },
          "scene": {
           "xaxis": {
            "backgroundcolor": "#E5ECF6",
            "gridcolor": "white",
            "gridwidth": 2,
            "linecolor": "white",
            "showbackground": true,
            "ticks": "",
            "zerolinecolor": "white"
           },
           "yaxis": {
            "backgroundcolor": "#E5ECF6",
            "gridcolor": "white",
            "gridwidth": 2,
            "linecolor": "white",
            "showbackground": true,
            "ticks": "",
            "zerolinecolor": "white"
           },
           "zaxis": {
            "backgroundcolor": "#E5ECF6",
            "gridcolor": "white",
            "gridwidth": 2,
            "linecolor": "white",
            "showbackground": true,
            "ticks": "",
            "zerolinecolor": "white"
           }
          },
          "shapedefaults": {
           "line": {
            "color": "#2a3f5f"
           }
          },
          "ternary": {
           "aaxis": {
            "gridcolor": "white",
            "linecolor": "white",
            "ticks": ""
           },
           "baxis": {
            "gridcolor": "white",
            "linecolor": "white",
            "ticks": ""
           },
           "bgcolor": "#E5ECF6",
           "caxis": {
            "gridcolor": "white",
            "linecolor": "white",
            "ticks": ""
           }
          },
          "title": {
           "x": 0.05
          },
          "xaxis": {
           "automargin": true,
           "gridcolor": "white",
           "linecolor": "white",
           "ticks": "",
           "title": {
            "standoff": 15
           },
           "zerolinecolor": "white",
           "zerolinewidth": 2
          },
          "yaxis": {
           "automargin": true,
           "gridcolor": "white",
           "linecolor": "white",
           "ticks": "",
           "title": {
            "standoff": 15
           },
           "zerolinecolor": "white",
           "zerolinewidth": 2
          }
         }
        },
        "title": {
         "text": "BoxPlot dos Números de Focos de Calor"
        },
        "width": 1000
       }
      },
      "text/html": [
       "<div>                            <div id=\"cd0c8c48-d605-416d-adaf-a13506d5cc7d\" class=\"plotly-graph-div\" style=\"height:600px; width:1000px;\"></div>            <script type=\"text/javascript\">                require([\"plotly\"], function(Plotly) {                    window.PLOTLYENV=window.PLOTLYENV || {};                                    if (document.getElementById(\"cd0c8c48-d605-416d-adaf-a13506d5cc7d\")) {                    Plotly.newPlot(                        \"cd0c8c48-d605-416d-adaf-a13506d5cc7d\",                        [{\"name\": \"Mato Grosso\", \"type\": \"box\", \"y\": [0, 39, 44, 44, 172, 883, 261, 440, 1000, 470, 232, 615, 327, 206, 179, 276, 244, 720, 300, 457, 317, 576, 768, 0, 28, 35, 54, 22, 566, 397, 951, 414, 280, 208, 203, 440, 147, 200, 374, 134, 396, 763, 295, 266, 709, 806, 0, 18, 60, 24, 103, 541, 822, 423, 474, 679, 227, 379, 663, 301, 419, 636, 481, 517, 934, 698, 766, 1188, 1270, 0, 76, 59, 309, 641, 930, 946, 1010, 428, 809, 358, 255, 893, 467, 560, 411, 658, 638, 1351, 708, 426, 708, 992, 0, 730, 1192, 1191, 2522, 2765, 4053, 2259, 1013, 1546, 522, 601, 1382, 640, 958, 962, 803, 437, 929, 844, 985, 1118, 951, 2200, 2201, 4358, 6641, 7879, 9038, 11530, 2696, 2398, 3552, 1147, 1148, 2186, 1074, 1933, 1388, 1696, 1328, 1306, 1476, 1623, 2151, 1960, 3711, 3926, 1335, 1554, 6932, 12311, 13214, 6543, 4561, 4217, 2497, 1730, 4037, 1066, 2120, 1711, 2112, 1461, 3301, 2100, 1816, 2326, 2429, 15404, 18563, 6059, 7755, 16911, 12841, 16025, 18153, 9975, 18331, 5259, 2326, 17459, 2652, 6429, 3739, 6418, 4498, 6168, 4578, 2650, 8030, 10430, 10360, 11726, 6251, 8487, 18707, 19936, 34088, 27674, 17382, 37231, 9639, 3692, 24140, 6634, 10620, 5915, 6569, 8933, 8284, 14840, 6638, 10747, 20312, 2705, 6111, 6063, 6544, 10863, 6660, 11405, 9852, 2818, 11291, 7778, 3173, 5433, 2533, 3475, 1828, 4657, 5730, 2715, 3738, 1711, 1774, 5259, 182, 842, 502, 373, 3247, 2443, 2825, 1539, 2711, 1025, 984, 730, 920, 1198, 488, 906, 836, 1670, 855, 928, 363, 1176, 1919, 76, 47, 98, 37, 1127, 1646, 1446, 564, 305, 537, 597, 207, 1133, 453, 572, 408, 347, 1413, 399, 249, 471, 666, 612]}, {\"name\": \"Par\\u00e1\", \"type\": \"box\", \"y\": [0, 87, 30, 34, 144, 1440, 875, 2861, 855, 817, 240, 466, 701, 219, 534, 291, 570, 866, 1479, 213, 536, 355, 225, 0, 285, 29, 16, 120, 23, 36, 121, 110, 39, 99, 26, 147, 25, 78, 47, 30, 92, 370, 14, 36, 80, 64, 0, 7, 181, 0, 14, 28, 29, 32, 18, 17, 11, 11, 141, 16, 16, 20, 17, 31, 53, 18, 51, 46, 63, 0, 6, 40, 0, 11, 14, 61, 43, 11, 17, 12, 15, 30, 10, 24, 29, 23, 22, 51, 42, 13, 38, 38, 0, 4, 12, 7, 18, 112, 193, 101, 8, 90, 30, 8, 97, 21, 98, 74, 55, 84, 148, 121, 78, 80, 88, 58, 37, 59, 42, 149, 403, 637, 656, 423, 671, 328, 91, 441, 199, 305, 323, 284, 241, 509, 486, 454, 315, 491, 639, 982, 426, 709, 1308, 3814, 6620, 9464, 1955, 1885, 3020, 703, 2065, 1024, 1041, 793, 813, 882, 1732, 3696, 929, 1443, 2687, 6816, 6179, 5484, 9042, 21369, 8875, 17861, 23635, 15064, 21386, 11035, 5386, 21677, 3040, 9168, 3173, 8147, 7672, 5185, 8781, 2782, 10185, 10865, 6237, 4417, 2569, 6136, 11379, 12633, 14249, 12728, 13225, 22055, 9463, 8961, 15187, 6821, 8190, 4363, 6636, 9394, 3878, 15735, 4892, 4618, 10876, 3666, 5026, 4308, 5102, 7848, 6673, 7464, 8689, 9346, 8346, 11568, 9444, 6435, 4588, 5946, 5510, 6241, 7379, 5954, 6146, 5028, 3870, 8052, 1862, 2682, 3366, 4936, 12795, 10732, 15958, 9368, 9684, 10114, 9456, 12485, 7544, 5760, 8871, 3844, 7908, 9783, 7314, 9639, 6276, 7390, 2970, 1009, 766, 1697, 2566, 5083, 8293, 10231, 3779, 5141, 3054, 3187, 4068, 2731, 4840, 2950, 5579, 4802, 6718, 3051, 4879, 1005, 1745, 2184]}, {\"name\": \"Maranh\\u00e3o\", \"type\": \"box\", \"y\": [0, 54, 19, 29, 49, 575, 338, 674, 386, 634, 203, 400, 457, 195, 461, 316, 291, 458, 395, 178, 281, 712, 86, 0, 6, 11, 1, 116, 13, 24, 73, 36, 21, 59, 30, 104, 14, 84, 72, 17, 78, 268, 44, 15, 74, 72, 0, 17, 6, 0, 16, 24, 43, 19, 19, 89, 6, 39, 129, 43, 54, 45, 40, 41, 70, 32, 93, 57, 39, 0, 4, 6, 2, 28, 112, 98, 99, 20, 76, 40, 27, 143, 46, 114, 83, 66, 103, 103, 90, 50, 63, 93, 0, 3, 28, 21, 71, 236, 324, 108, 89, 294, 101, 25, 300, 98, 370, 132, 140, 184, 186, 157, 203, 139, 231, 78, 32, 94, 101, 227, 865, 818, 662, 520, 1477, 687, 312, 1225, 689, 987, 603, 786, 850, 693, 644, 738, 749, 757, 276, 258, 233, 549, 1675, 2675, 1677, 1984, 1416, 2786, 1542, 1182, 2601, 1159, 3693, 1332, 2027, 1616, 2182, 1973, 1457, 1078, 1871, 1177, 897, 839, 2035, 3789, 2407, 2426, 3118, 2416, 10780, 1777, 2181, 6826, 2192, 10519, 2374, 5338, 5411, 3849, 3001, 2833, 3366, 2162, 3933, 1739, 1364, 4550, 5543, 7799, 6807, 7805, 3782, 11245, 3575, 3107, 11813, 5086, 7376, 4312, 4357, 5502, 3109, 9243, 3177, 3667, 4403, 5140, 3207, 2654, 6597, 7152, 8588, 5386, 8704, 4270, 9694, 5018, 2839, 4095, 3171, 5911, 3221, 5574, 6387, 5617, 4538, 1832, 3645, 3394, 2235, 1494, 2267, 3521, 8421, 7536, 10348, 6670, 6879, 5191, 5728, 6505, 6082, 4038, 2644, 2368, 3710, 4159, 3826, 2706, 2309, 3158, 2481, 1396, 1001, 1462, 1290, 3377, 3718, 5296, 3775, 3469, 2478, 3386, 2485, 2502, 2584, 2086, 2597, 2329, 3647, 1491, 2970, 904, 1813, 1228]}],                        {\"height\": 600, \"template\": {\"data\": {\"bar\": [{\"error_x\": {\"color\": \"#2a3f5f\"}, \"error_y\": {\"color\": \"#2a3f5f\"}, \"marker\": {\"line\": {\"color\": \"#E5ECF6\", \"width\": 0.5}}, \"type\": \"bar\"}], \"barpolar\": [{\"marker\": {\"line\": {\"color\": \"#E5ECF6\", \"width\": 0.5}}, \"type\": \"barpolar\"}], \"carpet\": [{\"aaxis\": {\"endlinecolor\": \"#2a3f5f\", \"gridcolor\": \"white\", \"linecolor\": \"white\", \"minorgridcolor\": \"white\", \"startlinecolor\": \"#2a3f5f\"}, \"baxis\": {\"endlinecolor\": \"#2a3f5f\", \"gridcolor\": \"white\", \"linecolor\": \"white\", \"minorgridcolor\": \"white\", \"startlinecolor\": \"#2a3f5f\"}, \"type\": \"carpet\"}], \"choropleth\": [{\"colorbar\": {\"outlinewidth\": 0, \"ticks\": \"\"}, \"type\": \"choropleth\"}], \"contour\": [{\"colorbar\": {\"outlinewidth\": 0, \"ticks\": \"\"}, \"colorscale\": [[0.0, \"#0d0887\"], [0.1111111111111111, \"#46039f\"], [0.2222222222222222, \"#7201a8\"], [0.3333333333333333, \"#9c179e\"], [0.4444444444444444, \"#bd3786\"], [0.5555555555555556, \"#d8576b\"], [0.6666666666666666, \"#ed7953\"], [0.7777777777777778, \"#fb9f3a\"], [0.8888888888888888, \"#fdca26\"], [1.0, \"#f0f921\"]], \"type\": \"contour\"}], \"contourcarpet\": [{\"colorbar\": {\"outlinewidth\": 0, \"ticks\": \"\"}, \"type\": \"contourcarpet\"}], \"heatmap\": [{\"colorbar\": {\"outlinewidth\": 0, \"ticks\": \"\"}, \"colorscale\": [[0.0, \"#0d0887\"], [0.1111111111111111, \"#46039f\"], [0.2222222222222222, \"#7201a8\"], [0.3333333333333333, \"#9c179e\"], [0.4444444444444444, \"#bd3786\"], [0.5555555555555556, \"#d8576b\"], [0.6666666666666666, \"#ed7953\"], [0.7777777777777778, \"#fb9f3a\"], [0.8888888888888888, \"#fdca26\"], [1.0, \"#f0f921\"]], \"type\": \"heatmap\"}], \"heatmapgl\": [{\"colorbar\": {\"outlinewidth\": 0, \"ticks\": \"\"}, \"colorscale\": [[0.0, \"#0d0887\"], [0.1111111111111111, \"#46039f\"], [0.2222222222222222, \"#7201a8\"], [0.3333333333333333, \"#9c179e\"], [0.4444444444444444, \"#bd3786\"], [0.5555555555555556, \"#d8576b\"], [0.6666666666666666, \"#ed7953\"], [0.7777777777777778, \"#fb9f3a\"], [0.8888888888888888, \"#fdca26\"], [1.0, \"#f0f921\"]], \"type\": \"heatmapgl\"}], \"histogram\": [{\"marker\": {\"colorbar\": {\"outlinewidth\": 0, \"ticks\": \"\"}}, \"type\": \"histogram\"}], \"histogram2d\": [{\"colorbar\": {\"outlinewidth\": 0, \"ticks\": \"\"}, \"colorscale\": [[0.0, \"#0d0887\"], [0.1111111111111111, \"#46039f\"], [0.2222222222222222, \"#7201a8\"], [0.3333333333333333, \"#9c179e\"], [0.4444444444444444, \"#bd3786\"], [0.5555555555555556, \"#d8576b\"], [0.6666666666666666, \"#ed7953\"], [0.7777777777777778, \"#fb9f3a\"], [0.8888888888888888, \"#fdca26\"], [1.0, \"#f0f921\"]], \"type\": \"histogram2d\"}], \"histogram2dcontour\": [{\"colorbar\": {\"outlinewidth\": 0, \"ticks\": \"\"}, \"colorscale\": [[0.0, \"#0d0887\"], [0.1111111111111111, \"#46039f\"], [0.2222222222222222, \"#7201a8\"], [0.3333333333333333, \"#9c179e\"], [0.4444444444444444, \"#bd3786\"], [0.5555555555555556, \"#d8576b\"], [0.6666666666666666, \"#ed7953\"], [0.7777777777777778, \"#fb9f3a\"], [0.8888888888888888, \"#fdca26\"], [1.0, \"#f0f921\"]], \"type\": \"histogram2dcontour\"}], \"mesh3d\": [{\"colorbar\": {\"outlinewidth\": 0, \"ticks\": \"\"}, \"type\": \"mesh3d\"}], \"parcoords\": [{\"line\": {\"colorbar\": {\"outlinewidth\": 0, \"ticks\": \"\"}}, \"type\": \"parcoords\"}], \"pie\": [{\"automargin\": true, \"type\": \"pie\"}], \"scatter\": [{\"marker\": {\"colorbar\": {\"outlinewidth\": 0, \"ticks\": \"\"}}, \"type\": \"scatter\"}], \"scatter3d\": [{\"line\": {\"colorbar\": {\"outlinewidth\": 0, \"ticks\": \"\"}}, \"marker\": {\"colorbar\": {\"outlinewidth\": 0, \"ticks\": \"\"}}, \"type\": \"scatter3d\"}], \"scattercarpet\": [{\"marker\": {\"colorbar\": {\"outlinewidth\": 0, \"ticks\": \"\"}}, \"type\": \"scattercarpet\"}], \"scattergeo\": [{\"marker\": {\"colorbar\": {\"outlinewidth\": 0, \"ticks\": \"\"}}, \"type\": \"scattergeo\"}], \"scattergl\": [{\"marker\": {\"colorbar\": {\"outlinewidth\": 0, \"ticks\": \"\"}}, \"type\": \"scattergl\"}], \"scattermapbox\": [{\"marker\": {\"colorbar\": {\"outlinewidth\": 0, \"ticks\": \"\"}}, \"type\": \"scattermapbox\"}], \"scatterpolar\": [{\"marker\": {\"colorbar\": {\"outlinewidth\": 0, \"ticks\": \"\"}}, \"type\": \"scatterpolar\"}], \"scatterpolargl\": [{\"marker\": {\"colorbar\": {\"outlinewidth\": 0, \"ticks\": \"\"}}, \"type\": \"scatterpolargl\"}], \"scatterternary\": [{\"marker\": {\"colorbar\": {\"outlinewidth\": 0, \"ticks\": \"\"}}, \"type\": \"scatterternary\"}], \"surface\": [{\"colorbar\": {\"outlinewidth\": 0, \"ticks\": \"\"}, \"colorscale\": [[0.0, \"#0d0887\"], [0.1111111111111111, \"#46039f\"], [0.2222222222222222, \"#7201a8\"], [0.3333333333333333, \"#9c179e\"], [0.4444444444444444, \"#bd3786\"], [0.5555555555555556, \"#d8576b\"], [0.6666666666666666, \"#ed7953\"], [0.7777777777777778, \"#fb9f3a\"], [0.8888888888888888, \"#fdca26\"], [1.0, \"#f0f921\"]], \"type\": \"surface\"}], \"table\": [{\"cells\": {\"fill\": {\"color\": \"#EBF0F8\"}, \"line\": {\"color\": \"white\"}}, \"header\": {\"fill\": {\"color\": \"#C8D4E3\"}, \"line\": {\"color\": \"white\"}}, \"type\": \"table\"}]}, \"layout\": {\"annotationdefaults\": {\"arrowcolor\": \"#2a3f5f\", \"arrowhead\": 0, \"arrowwidth\": 1}, \"autotypenumbers\": \"strict\", \"coloraxis\": {\"colorbar\": {\"outlinewidth\": 0, \"ticks\": \"\"}}, \"colorscale\": {\"diverging\": [[0, \"#8e0152\"], [0.1, \"#c51b7d\"], [0.2, \"#de77ae\"], [0.3, \"#f1b6da\"], [0.4, \"#fde0ef\"], [0.5, \"#f7f7f7\"], [0.6, \"#e6f5d0\"], [0.7, \"#b8e186\"], [0.8, \"#7fbc41\"], [0.9, \"#4d9221\"], [1, \"#276419\"]], \"sequential\": [[0.0, \"#0d0887\"], [0.1111111111111111, \"#46039f\"], [0.2222222222222222, \"#7201a8\"], [0.3333333333333333, \"#9c179e\"], [0.4444444444444444, \"#bd3786\"], [0.5555555555555556, \"#d8576b\"], [0.6666666666666666, \"#ed7953\"], [0.7777777777777778, \"#fb9f3a\"], [0.8888888888888888, \"#fdca26\"], [1.0, \"#f0f921\"]], \"sequentialminus\": [[0.0, \"#0d0887\"], [0.1111111111111111, \"#46039f\"], [0.2222222222222222, \"#7201a8\"], [0.3333333333333333, \"#9c179e\"], [0.4444444444444444, \"#bd3786\"], [0.5555555555555556, \"#d8576b\"], [0.6666666666666666, \"#ed7953\"], [0.7777777777777778, \"#fb9f3a\"], [0.8888888888888888, \"#fdca26\"], [1.0, \"#f0f921\"]]}, \"colorway\": [\"#636efa\", \"#EF553B\", \"#00cc96\", \"#ab63fa\", \"#FFA15A\", \"#19d3f3\", \"#FF6692\", \"#B6E880\", \"#FF97FF\", \"#FECB52\"], \"font\": {\"color\": \"#2a3f5f\"}, \"geo\": {\"bgcolor\": \"white\", \"lakecolor\": \"white\", \"landcolor\": \"#E5ECF6\", \"showlakes\": true, \"showland\": true, \"subunitcolor\": \"white\"}, \"hoverlabel\": {\"align\": \"left\"}, \"hovermode\": \"closest\", \"mapbox\": {\"style\": \"light\"}, \"paper_bgcolor\": \"white\", \"plot_bgcolor\": \"#E5ECF6\", \"polar\": {\"angularaxis\": {\"gridcolor\": \"white\", \"linecolor\": \"white\", \"ticks\": \"\"}, \"bgcolor\": \"#E5ECF6\", \"radialaxis\": {\"gridcolor\": \"white\", \"linecolor\": \"white\", \"ticks\": \"\"}}, \"scene\": {\"xaxis\": {\"backgroundcolor\": \"#E5ECF6\", \"gridcolor\": \"white\", \"gridwidth\": 2, \"linecolor\": \"white\", \"showbackground\": true, \"ticks\": \"\", \"zerolinecolor\": \"white\"}, \"yaxis\": {\"backgroundcolor\": \"#E5ECF6\", \"gridcolor\": \"white\", \"gridwidth\": 2, \"linecolor\": \"white\", \"showbackground\": true, \"ticks\": \"\", \"zerolinecolor\": \"white\"}, \"zaxis\": {\"backgroundcolor\": \"#E5ECF6\", \"gridcolor\": \"white\", \"gridwidth\": 2, \"linecolor\": \"white\", \"showbackground\": true, \"ticks\": \"\", \"zerolinecolor\": \"white\"}}, \"shapedefaults\": {\"line\": {\"color\": \"#2a3f5f\"}}, \"ternary\": {\"aaxis\": {\"gridcolor\": \"white\", \"linecolor\": \"white\", \"ticks\": \"\"}, \"baxis\": {\"gridcolor\": \"white\", \"linecolor\": \"white\", \"ticks\": \"\"}, \"bgcolor\": \"#E5ECF6\", \"caxis\": {\"gridcolor\": \"white\", \"linecolor\": \"white\", \"ticks\": \"\"}}, \"title\": {\"x\": 0.05}, \"xaxis\": {\"automargin\": true, \"gridcolor\": \"white\", \"linecolor\": \"white\", \"ticks\": \"\", \"title\": {\"standoff\": 15}, \"zerolinecolor\": \"white\", \"zerolinewidth\": 2}, \"yaxis\": {\"automargin\": true, \"gridcolor\": \"white\", \"linecolor\": \"white\", \"ticks\": \"\", \"title\": {\"standoff\": 15}, \"zerolinecolor\": \"white\", \"zerolinewidth\": 2}}}, \"title\": {\"text\": \"BoxPlot dos N\\u00fameros de Focos de Calor\"}, \"width\": 1000},                        {\"responsive\": true}                    ).then(function(){\n",
       "                            \n",
       "var gd = document.getElementById('cd0c8c48-d605-416d-adaf-a13506d5cc7d');\n",
       "var x = new MutationObserver(function (mutations, observer) {{\n",
       "        var display = window.getComputedStyle(gd).display;\n",
       "        if (!display || display === 'none') {{\n",
       "            console.log([gd, 'removed!']);\n",
       "            Plotly.purge(gd);\n",
       "            observer.disconnect();\n",
       "        }}\n",
       "}});\n",
       "\n",
       "// Listen for the removal of the full notebook cells\n",
       "var notebookContainer = gd.closest('#notebook-container');\n",
       "if (notebookContainer) {{\n",
       "    x.observe(notebookContainer, {childList: true});\n",
       "}}\n",
       "\n",
       "// Listen for the clearing of the current output cell\n",
       "var outputEl = gd.closest('.output');\n",
       "if (outputEl) {{\n",
       "    x.observe(outputEl, {childList: true});\n",
       "}}\n",
       "\n",
       "                        })                };                });            </script>        </div>"
      ]
     },
     "metadata": {},
     "output_type": "display_data"
    }
   ],
   "source": [
    "plot_box_plot(base)"
   ]
  },
  {
   "cell_type": "code",
   "execution_count": 67,
   "metadata": {},
   "outputs": [
    {
     "data": {
      "application/vnd.plotly.v1+json": {
       "config": {
        "linkText": "Export to plot.ly",
        "plotlyServerURL": "https://plot.ly",
        "showLink": false
       },
       "data": [
        {
         "mode": "markers+lines+text",
         "name": "Focos de Calor",
         "text": [
          34638,
          44307,
          26056,
          33013,
          69126,
          70560,
          97012,
          72104,
          43479,
          79968,
          29448,
          15059,
          59013,
          17371,
          27953,
          18554,
          24955,
          27741,
          27305,
          30911,
          18032,
          31169,
          47708
         ],
         "textposition": "top center",
         "type": "scatter",
         "x": [
          1998,
          1999,
          2000,
          2001,
          2002,
          2003,
          2004,
          2005,
          2006,
          2007,
          2008,
          2009,
          2010,
          2011,
          2012,
          2013,
          2014,
          2015,
          2016,
          2017,
          2018,
          2019,
          2020
         ],
         "y": [
          34638,
          44307,
          26056,
          33013,
          69126,
          70560,
          97012,
          72104,
          43479,
          79968,
          29448,
          15059,
          59013,
          17371,
          27953,
          18554,
          24955,
          27741,
          27305,
          30911,
          18032,
          31169,
          47708
         ]
        },
        {
         "mode": "markers+lines",
         "name": "Média Móvel do Triênio",
         "type": "scatter",
         "x": [
          1998,
          1999,
          2000,
          2001,
          2002,
          2003,
          2004,
          2005,
          2006,
          2007,
          2008,
          2009,
          2010,
          2011,
          2012,
          2013,
          2014,
          2015,
          2016,
          2017,
          2018,
          2019,
          2020
         ],
         "y": [
          null,
          null,
          35000.333333333336,
          34458.666666666664,
          42731.666666666664,
          57566.333333333336,
          78899.33333333333,
          79892,
          70865,
          65183.666666666664,
          50965,
          41491.666666666664,
          34506.666666666664,
          30481,
          34779,
          21292.666666666668,
          23820.666666666668,
          23750,
          26667,
          28652.333333333332,
          25416,
          26704,
          32303
         ]
        }
       ],
       "layout": {
        "height": 450,
        "legend": {
         "bgcolor": "rgba(255, 255, 255, 0)",
         "x": 0.98,
         "xanchor": "right",
         "y": 0.95,
         "yanchor": "top"
        },
        "template": {
         "data": {
          "bar": [
           {
            "error_x": {
             "color": "#2a3f5f"
            },
            "error_y": {
             "color": "#2a3f5f"
            },
            "marker": {
             "line": {
              "color": "#E5ECF6",
              "width": 0.5
             }
            },
            "type": "bar"
           }
          ],
          "barpolar": [
           {
            "marker": {
             "line": {
              "color": "#E5ECF6",
              "width": 0.5
             }
            },
            "type": "barpolar"
           }
          ],
          "carpet": [
           {
            "aaxis": {
             "endlinecolor": "#2a3f5f",
             "gridcolor": "white",
             "linecolor": "white",
             "minorgridcolor": "white",
             "startlinecolor": "#2a3f5f"
            },
            "baxis": {
             "endlinecolor": "#2a3f5f",
             "gridcolor": "white",
             "linecolor": "white",
             "minorgridcolor": "white",
             "startlinecolor": "#2a3f5f"
            },
            "type": "carpet"
           }
          ],
          "choropleth": [
           {
            "colorbar": {
             "outlinewidth": 0,
             "ticks": ""
            },
            "type": "choropleth"
           }
          ],
          "contour": [
           {
            "colorbar": {
             "outlinewidth": 0,
             "ticks": ""
            },
            "colorscale": [
             [
              0,
              "#0d0887"
             ],
             [
              0.1111111111111111,
              "#46039f"
             ],
             [
              0.2222222222222222,
              "#7201a8"
             ],
             [
              0.3333333333333333,
              "#9c179e"
             ],
             [
              0.4444444444444444,
              "#bd3786"
             ],
             [
              0.5555555555555556,
              "#d8576b"
             ],
             [
              0.6666666666666666,
              "#ed7953"
             ],
             [
              0.7777777777777778,
              "#fb9f3a"
             ],
             [
              0.8888888888888888,
              "#fdca26"
             ],
             [
              1,
              "#f0f921"
             ]
            ],
            "type": "contour"
           }
          ],
          "contourcarpet": [
           {
            "colorbar": {
             "outlinewidth": 0,
             "ticks": ""
            },
            "type": "contourcarpet"
           }
          ],
          "heatmap": [
           {
            "colorbar": {
             "outlinewidth": 0,
             "ticks": ""
            },
            "colorscale": [
             [
              0,
              "#0d0887"
             ],
             [
              0.1111111111111111,
              "#46039f"
             ],
             [
              0.2222222222222222,
              "#7201a8"
             ],
             [
              0.3333333333333333,
              "#9c179e"
             ],
             [
              0.4444444444444444,
              "#bd3786"
             ],
             [
              0.5555555555555556,
              "#d8576b"
             ],
             [
              0.6666666666666666,
              "#ed7953"
             ],
             [
              0.7777777777777778,
              "#fb9f3a"
             ],
             [
              0.8888888888888888,
              "#fdca26"
             ],
             [
              1,
              "#f0f921"
             ]
            ],
            "type": "heatmap"
           }
          ],
          "heatmapgl": [
           {
            "colorbar": {
             "outlinewidth": 0,
             "ticks": ""
            },
            "colorscale": [
             [
              0,
              "#0d0887"
             ],
             [
              0.1111111111111111,
              "#46039f"
             ],
             [
              0.2222222222222222,
              "#7201a8"
             ],
             [
              0.3333333333333333,
              "#9c179e"
             ],
             [
              0.4444444444444444,
              "#bd3786"
             ],
             [
              0.5555555555555556,
              "#d8576b"
             ],
             [
              0.6666666666666666,
              "#ed7953"
             ],
             [
              0.7777777777777778,
              "#fb9f3a"
             ],
             [
              0.8888888888888888,
              "#fdca26"
             ],
             [
              1,
              "#f0f921"
             ]
            ],
            "type": "heatmapgl"
           }
          ],
          "histogram": [
           {
            "marker": {
             "colorbar": {
              "outlinewidth": 0,
              "ticks": ""
             }
            },
            "type": "histogram"
           }
          ],
          "histogram2d": [
           {
            "colorbar": {
             "outlinewidth": 0,
             "ticks": ""
            },
            "colorscale": [
             [
              0,
              "#0d0887"
             ],
             [
              0.1111111111111111,
              "#46039f"
             ],
             [
              0.2222222222222222,
              "#7201a8"
             ],
             [
              0.3333333333333333,
              "#9c179e"
             ],
             [
              0.4444444444444444,
              "#bd3786"
             ],
             [
              0.5555555555555556,
              "#d8576b"
             ],
             [
              0.6666666666666666,
              "#ed7953"
             ],
             [
              0.7777777777777778,
              "#fb9f3a"
             ],
             [
              0.8888888888888888,
              "#fdca26"
             ],
             [
              1,
              "#f0f921"
             ]
            ],
            "type": "histogram2d"
           }
          ],
          "histogram2dcontour": [
           {
            "colorbar": {
             "outlinewidth": 0,
             "ticks": ""
            },
            "colorscale": [
             [
              0,
              "#0d0887"
             ],
             [
              0.1111111111111111,
              "#46039f"
             ],
             [
              0.2222222222222222,
              "#7201a8"
             ],
             [
              0.3333333333333333,
              "#9c179e"
             ],
             [
              0.4444444444444444,
              "#bd3786"
             ],
             [
              0.5555555555555556,
              "#d8576b"
             ],
             [
              0.6666666666666666,
              "#ed7953"
             ],
             [
              0.7777777777777778,
              "#fb9f3a"
             ],
             [
              0.8888888888888888,
              "#fdca26"
             ],
             [
              1,
              "#f0f921"
             ]
            ],
            "type": "histogram2dcontour"
           }
          ],
          "mesh3d": [
           {
            "colorbar": {
             "outlinewidth": 0,
             "ticks": ""
            },
            "type": "mesh3d"
           }
          ],
          "parcoords": [
           {
            "line": {
             "colorbar": {
              "outlinewidth": 0,
              "ticks": ""
             }
            },
            "type": "parcoords"
           }
          ],
          "pie": [
           {
            "automargin": true,
            "type": "pie"
           }
          ],
          "scatter": [
           {
            "marker": {
             "colorbar": {
              "outlinewidth": 0,
              "ticks": ""
             }
            },
            "type": "scatter"
           }
          ],
          "scatter3d": [
           {
            "line": {
             "colorbar": {
              "outlinewidth": 0,
              "ticks": ""
             }
            },
            "marker": {
             "colorbar": {
              "outlinewidth": 0,
              "ticks": ""
             }
            },
            "type": "scatter3d"
           }
          ],
          "scattercarpet": [
           {
            "marker": {
             "colorbar": {
              "outlinewidth": 0,
              "ticks": ""
             }
            },
            "type": "scattercarpet"
           }
          ],
          "scattergeo": [
           {
            "marker": {
             "colorbar": {
              "outlinewidth": 0,
              "ticks": ""
             }
            },
            "type": "scattergeo"
           }
          ],
          "scattergl": [
           {
            "marker": {
             "colorbar": {
              "outlinewidth": 0,
              "ticks": ""
             }
            },
            "type": "scattergl"
           }
          ],
          "scattermapbox": [
           {
            "marker": {
             "colorbar": {
              "outlinewidth": 0,
              "ticks": ""
             }
            },
            "type": "scattermapbox"
           }
          ],
          "scatterpolar": [
           {
            "marker": {
             "colorbar": {
              "outlinewidth": 0,
              "ticks": ""
             }
            },
            "type": "scatterpolar"
           }
          ],
          "scatterpolargl": [
           {
            "marker": {
             "colorbar": {
              "outlinewidth": 0,
              "ticks": ""
             }
            },
            "type": "scatterpolargl"
           }
          ],
          "scatterternary": [
           {
            "marker": {
             "colorbar": {
              "outlinewidth": 0,
              "ticks": ""
             }
            },
            "type": "scatterternary"
           }
          ],
          "surface": [
           {
            "colorbar": {
             "outlinewidth": 0,
             "ticks": ""
            },
            "colorscale": [
             [
              0,
              "#0d0887"
             ],
             [
              0.1111111111111111,
              "#46039f"
             ],
             [
              0.2222222222222222,
              "#7201a8"
             ],
             [
              0.3333333333333333,
              "#9c179e"
             ],
             [
              0.4444444444444444,
              "#bd3786"
             ],
             [
              0.5555555555555556,
              "#d8576b"
             ],
             [
              0.6666666666666666,
              "#ed7953"
             ],
             [
              0.7777777777777778,
              "#fb9f3a"
             ],
             [
              0.8888888888888888,
              "#fdca26"
             ],
             [
              1,
              "#f0f921"
             ]
            ],
            "type": "surface"
           }
          ],
          "table": [
           {
            "cells": {
             "fill": {
              "color": "#EBF0F8"
             },
             "line": {
              "color": "white"
             }
            },
            "header": {
             "fill": {
              "color": "#C8D4E3"
             },
             "line": {
              "color": "white"
             }
            },
            "type": "table"
           }
          ]
         },
         "layout": {
          "annotationdefaults": {
           "arrowcolor": "#2a3f5f",
           "arrowhead": 0,
           "arrowwidth": 1
          },
          "autotypenumbers": "strict",
          "coloraxis": {
           "colorbar": {
            "outlinewidth": 0,
            "ticks": ""
           }
          },
          "colorscale": {
           "diverging": [
            [
             0,
             "#8e0152"
            ],
            [
             0.1,
             "#c51b7d"
            ],
            [
             0.2,
             "#de77ae"
            ],
            [
             0.3,
             "#f1b6da"
            ],
            [
             0.4,
             "#fde0ef"
            ],
            [
             0.5,
             "#f7f7f7"
            ],
            [
             0.6,
             "#e6f5d0"
            ],
            [
             0.7,
             "#b8e186"
            ],
            [
             0.8,
             "#7fbc41"
            ],
            [
             0.9,
             "#4d9221"
            ],
            [
             1,
             "#276419"
            ]
           ],
           "sequential": [
            [
             0,
             "#0d0887"
            ],
            [
             0.1111111111111111,
             "#46039f"
            ],
            [
             0.2222222222222222,
             "#7201a8"
            ],
            [
             0.3333333333333333,
             "#9c179e"
            ],
            [
             0.4444444444444444,
             "#bd3786"
            ],
            [
             0.5555555555555556,
             "#d8576b"
            ],
            [
             0.6666666666666666,
             "#ed7953"
            ],
            [
             0.7777777777777778,
             "#fb9f3a"
            ],
            [
             0.8888888888888888,
             "#fdca26"
            ],
            [
             1,
             "#f0f921"
            ]
           ],
           "sequentialminus": [
            [
             0,
             "#0d0887"
            ],
            [
             0.1111111111111111,
             "#46039f"
            ],
            [
             0.2222222222222222,
             "#7201a8"
            ],
            [
             0.3333333333333333,
             "#9c179e"
            ],
            [
             0.4444444444444444,
             "#bd3786"
            ],
            [
             0.5555555555555556,
             "#d8576b"
            ],
            [
             0.6666666666666666,
             "#ed7953"
            ],
            [
             0.7777777777777778,
             "#fb9f3a"
            ],
            [
             0.8888888888888888,
             "#fdca26"
            ],
            [
             1,
             "#f0f921"
            ]
           ]
          },
          "colorway": [
           "#636efa",
           "#EF553B",
           "#00cc96",
           "#ab63fa",
           "#FFA15A",
           "#19d3f3",
           "#FF6692",
           "#B6E880",
           "#FF97FF",
           "#FECB52"
          ],
          "font": {
           "color": "#2a3f5f"
          },
          "geo": {
           "bgcolor": "white",
           "lakecolor": "white",
           "landcolor": "#E5ECF6",
           "showlakes": true,
           "showland": true,
           "subunitcolor": "white"
          },
          "hoverlabel": {
           "align": "left"
          },
          "hovermode": "closest",
          "mapbox": {
           "style": "light"
          },
          "paper_bgcolor": "white",
          "plot_bgcolor": "#E5ECF6",
          "polar": {
           "angularaxis": {
            "gridcolor": "white",
            "linecolor": "white",
            "ticks": ""
           },
           "bgcolor": "#E5ECF6",
           "radialaxis": {
            "gridcolor": "white",
            "linecolor": "white",
            "ticks": ""
           }
          },
          "scene": {
           "xaxis": {
            "backgroundcolor": "#E5ECF6",
            "gridcolor": "white",
            "gridwidth": 2,
            "linecolor": "white",
            "showbackground": true,
            "ticks": "",
            "zerolinecolor": "white"
           },
           "yaxis": {
            "backgroundcolor": "#E5ECF6",
            "gridcolor": "white",
            "gridwidth": 2,
            "linecolor": "white",
            "showbackground": true,
            "ticks": "",
            "zerolinecolor": "white"
           },
           "zaxis": {
            "backgroundcolor": "#E5ECF6",
            "gridcolor": "white",
            "gridwidth": 2,
            "linecolor": "white",
            "showbackground": true,
            "ticks": "",
            "zerolinecolor": "white"
           }
          },
          "shapedefaults": {
           "line": {
            "color": "#2a3f5f"
           }
          },
          "ternary": {
           "aaxis": {
            "gridcolor": "white",
            "linecolor": "white",
            "ticks": ""
           },
           "baxis": {
            "gridcolor": "white",
            "linecolor": "white",
            "ticks": ""
           },
           "bgcolor": "#E5ECF6",
           "caxis": {
            "gridcolor": "white",
            "linecolor": "white",
            "ticks": ""
           }
          },
          "title": {
           "x": 0.05
          },
          "xaxis": {
           "automargin": true,
           "gridcolor": "white",
           "linecolor": "white",
           "ticks": "",
           "title": {
            "standoff": 15
           },
           "zerolinecolor": "white",
           "zerolinewidth": 2
          },
          "yaxis": {
           "automargin": true,
           "gridcolor": "white",
           "linecolor": "white",
           "ticks": "",
           "title": {
            "standoff": 15
           },
           "zerolinecolor": "white",
           "zerolinewidth": 2
          }
         }
        },
        "title": {
         "text": "Série Temporal dos Focos de Calor - Mato Grosso"
        },
        "width": 1000,
        "xaxis": {
         "title": {
          "text": "Ano"
         }
        },
        "yaxis": {
         "title": {
          "text": "Número de Focos de Calor"
         }
        }
       }
      },
      "text/html": [
       "<div>                            <div id=\"3cb73ac4-8b3b-43bb-9387-40b5310edc70\" class=\"plotly-graph-div\" style=\"height:450px; width:1000px;\"></div>            <script type=\"text/javascript\">                require([\"plotly\"], function(Plotly) {                    window.PLOTLYENV=window.PLOTLYENV || {};                                    if (document.getElementById(\"3cb73ac4-8b3b-43bb-9387-40b5310edc70\")) {                    Plotly.newPlot(                        \"3cb73ac4-8b3b-43bb-9387-40b5310edc70\",                        [{\"mode\": \"markers+lines+text\", \"name\": \"Focos de Calor\", \"text\": [34638.0, 44307.0, 26056.0, 33013.0, 69126.0, 70560.0, 97012.0, 72104.0, 43479.0, 79968.0, 29448.0, 15059.0, 59013.0, 17371.0, 27953.0, 18554.0, 24955.0, 27741.0, 27305.0, 30911.0, 18032.0, 31169.0, 47708.0], \"textposition\": \"top center\", \"type\": \"scatter\", \"x\": [1998, 1999, 2000, 2001, 2002, 2003, 2004, 2005, 2006, 2007, 2008, 2009, 2010, 2011, 2012, 2013, 2014, 2015, 2016, 2017, 2018, 2019, 2020], \"y\": [34638, 44307, 26056, 33013, 69126, 70560, 97012, 72104, 43479, 79968, 29448, 15059, 59013, 17371, 27953, 18554, 24955, 27741, 27305, 30911, 18032, 31169, 47708]}, {\"mode\": \"markers+lines\", \"name\": \"M\\u00e9dia M\\u00f3vel do Tri\\u00eanio\", \"type\": \"scatter\", \"x\": [1998, 1999, 2000, 2001, 2002, 2003, 2004, 2005, 2006, 2007, 2008, 2009, 2010, 2011, 2012, 2013, 2014, 2015, 2016, 2017, 2018, 2019, 2020], \"y\": [null, null, 35000.333333333336, 34458.666666666664, 42731.666666666664, 57566.333333333336, 78899.33333333333, 79892.0, 70865.0, 65183.666666666664, 50965.0, 41491.666666666664, 34506.666666666664, 30481.0, 34779.0, 21292.666666666668, 23820.666666666668, 23750.0, 26667.0, 28652.333333333332, 25416.0, 26704.0, 32303.0]}],                        {\"height\": 450, \"legend\": {\"bgcolor\": \"rgba(255, 255, 255, 0)\", \"x\": 0.98, \"xanchor\": \"right\", \"y\": 0.95, \"yanchor\": \"top\"}, \"template\": {\"data\": {\"bar\": [{\"error_x\": {\"color\": \"#2a3f5f\"}, \"error_y\": {\"color\": \"#2a3f5f\"}, \"marker\": {\"line\": {\"color\": \"#E5ECF6\", \"width\": 0.5}}, \"type\": \"bar\"}], \"barpolar\": [{\"marker\": {\"line\": {\"color\": \"#E5ECF6\", \"width\": 0.5}}, \"type\": \"barpolar\"}], \"carpet\": [{\"aaxis\": {\"endlinecolor\": \"#2a3f5f\", \"gridcolor\": \"white\", \"linecolor\": \"white\", \"minorgridcolor\": \"white\", \"startlinecolor\": \"#2a3f5f\"}, \"baxis\": {\"endlinecolor\": \"#2a3f5f\", \"gridcolor\": \"white\", \"linecolor\": \"white\", \"minorgridcolor\": \"white\", \"startlinecolor\": \"#2a3f5f\"}, \"type\": \"carpet\"}], \"choropleth\": [{\"colorbar\": {\"outlinewidth\": 0, \"ticks\": \"\"}, \"type\": \"choropleth\"}], \"contour\": [{\"colorbar\": {\"outlinewidth\": 0, \"ticks\": \"\"}, \"colorscale\": [[0.0, \"#0d0887\"], [0.1111111111111111, \"#46039f\"], [0.2222222222222222, \"#7201a8\"], [0.3333333333333333, \"#9c179e\"], [0.4444444444444444, \"#bd3786\"], [0.5555555555555556, \"#d8576b\"], [0.6666666666666666, \"#ed7953\"], [0.7777777777777778, \"#fb9f3a\"], [0.8888888888888888, \"#fdca26\"], [1.0, \"#f0f921\"]], \"type\": \"contour\"}], \"contourcarpet\": [{\"colorbar\": {\"outlinewidth\": 0, \"ticks\": \"\"}, \"type\": \"contourcarpet\"}], \"heatmap\": [{\"colorbar\": {\"outlinewidth\": 0, \"ticks\": \"\"}, \"colorscale\": [[0.0, \"#0d0887\"], [0.1111111111111111, \"#46039f\"], [0.2222222222222222, \"#7201a8\"], [0.3333333333333333, \"#9c179e\"], [0.4444444444444444, \"#bd3786\"], [0.5555555555555556, \"#d8576b\"], [0.6666666666666666, \"#ed7953\"], [0.7777777777777778, \"#fb9f3a\"], [0.8888888888888888, \"#fdca26\"], [1.0, \"#f0f921\"]], \"type\": \"heatmap\"}], \"heatmapgl\": [{\"colorbar\": {\"outlinewidth\": 0, \"ticks\": \"\"}, \"colorscale\": [[0.0, \"#0d0887\"], [0.1111111111111111, \"#46039f\"], [0.2222222222222222, \"#7201a8\"], [0.3333333333333333, \"#9c179e\"], [0.4444444444444444, \"#bd3786\"], [0.5555555555555556, \"#d8576b\"], [0.6666666666666666, \"#ed7953\"], [0.7777777777777778, \"#fb9f3a\"], [0.8888888888888888, \"#fdca26\"], [1.0, \"#f0f921\"]], \"type\": \"heatmapgl\"}], \"histogram\": [{\"marker\": {\"colorbar\": {\"outlinewidth\": 0, \"ticks\": \"\"}}, \"type\": \"histogram\"}], \"histogram2d\": [{\"colorbar\": {\"outlinewidth\": 0, \"ticks\": \"\"}, \"colorscale\": [[0.0, \"#0d0887\"], [0.1111111111111111, \"#46039f\"], [0.2222222222222222, \"#7201a8\"], [0.3333333333333333, \"#9c179e\"], [0.4444444444444444, \"#bd3786\"], [0.5555555555555556, \"#d8576b\"], [0.6666666666666666, \"#ed7953\"], [0.7777777777777778, \"#fb9f3a\"], [0.8888888888888888, \"#fdca26\"], [1.0, \"#f0f921\"]], \"type\": \"histogram2d\"}], \"histogram2dcontour\": [{\"colorbar\": {\"outlinewidth\": 0, \"ticks\": \"\"}, \"colorscale\": [[0.0, \"#0d0887\"], [0.1111111111111111, \"#46039f\"], [0.2222222222222222, \"#7201a8\"], [0.3333333333333333, \"#9c179e\"], [0.4444444444444444, \"#bd3786\"], [0.5555555555555556, \"#d8576b\"], [0.6666666666666666, \"#ed7953\"], [0.7777777777777778, \"#fb9f3a\"], [0.8888888888888888, \"#fdca26\"], [1.0, \"#f0f921\"]], \"type\": \"histogram2dcontour\"}], \"mesh3d\": [{\"colorbar\": {\"outlinewidth\": 0, \"ticks\": \"\"}, \"type\": \"mesh3d\"}], \"parcoords\": [{\"line\": {\"colorbar\": {\"outlinewidth\": 0, \"ticks\": \"\"}}, \"type\": \"parcoords\"}], \"pie\": [{\"automargin\": true, \"type\": \"pie\"}], \"scatter\": [{\"marker\": {\"colorbar\": {\"outlinewidth\": 0, \"ticks\": \"\"}}, \"type\": \"scatter\"}], \"scatter3d\": [{\"line\": {\"colorbar\": {\"outlinewidth\": 0, \"ticks\": \"\"}}, \"marker\": {\"colorbar\": {\"outlinewidth\": 0, \"ticks\": \"\"}}, \"type\": \"scatter3d\"}], \"scattercarpet\": [{\"marker\": {\"colorbar\": {\"outlinewidth\": 0, \"ticks\": \"\"}}, \"type\": \"scattercarpet\"}], \"scattergeo\": [{\"marker\": {\"colorbar\": {\"outlinewidth\": 0, \"ticks\": \"\"}}, \"type\": \"scattergeo\"}], \"scattergl\": [{\"marker\": {\"colorbar\": {\"outlinewidth\": 0, \"ticks\": \"\"}}, \"type\": \"scattergl\"}], \"scattermapbox\": [{\"marker\": {\"colorbar\": {\"outlinewidth\": 0, \"ticks\": \"\"}}, \"type\": \"scattermapbox\"}], \"scatterpolar\": [{\"marker\": {\"colorbar\": {\"outlinewidth\": 0, \"ticks\": \"\"}}, \"type\": \"scatterpolar\"}], \"scatterpolargl\": [{\"marker\": {\"colorbar\": {\"outlinewidth\": 0, \"ticks\": \"\"}}, \"type\": \"scatterpolargl\"}], \"scatterternary\": [{\"marker\": {\"colorbar\": {\"outlinewidth\": 0, \"ticks\": \"\"}}, \"type\": \"scatterternary\"}], \"surface\": [{\"colorbar\": {\"outlinewidth\": 0, \"ticks\": \"\"}, \"colorscale\": [[0.0, \"#0d0887\"], [0.1111111111111111, \"#46039f\"], [0.2222222222222222, \"#7201a8\"], [0.3333333333333333, \"#9c179e\"], [0.4444444444444444, \"#bd3786\"], [0.5555555555555556, \"#d8576b\"], [0.6666666666666666, \"#ed7953\"], [0.7777777777777778, \"#fb9f3a\"], [0.8888888888888888, \"#fdca26\"], [1.0, \"#f0f921\"]], \"type\": \"surface\"}], \"table\": [{\"cells\": {\"fill\": {\"color\": \"#EBF0F8\"}, \"line\": {\"color\": \"white\"}}, \"header\": {\"fill\": {\"color\": \"#C8D4E3\"}, \"line\": {\"color\": \"white\"}}, \"type\": \"table\"}]}, \"layout\": {\"annotationdefaults\": {\"arrowcolor\": \"#2a3f5f\", \"arrowhead\": 0, \"arrowwidth\": 1}, \"autotypenumbers\": \"strict\", \"coloraxis\": {\"colorbar\": {\"outlinewidth\": 0, \"ticks\": \"\"}}, \"colorscale\": {\"diverging\": [[0, \"#8e0152\"], [0.1, \"#c51b7d\"], [0.2, \"#de77ae\"], [0.3, \"#f1b6da\"], [0.4, \"#fde0ef\"], [0.5, \"#f7f7f7\"], [0.6, \"#e6f5d0\"], [0.7, \"#b8e186\"], [0.8, \"#7fbc41\"], [0.9, \"#4d9221\"], [1, \"#276419\"]], \"sequential\": [[0.0, \"#0d0887\"], [0.1111111111111111, \"#46039f\"], [0.2222222222222222, \"#7201a8\"], [0.3333333333333333, \"#9c179e\"], [0.4444444444444444, \"#bd3786\"], [0.5555555555555556, \"#d8576b\"], [0.6666666666666666, \"#ed7953\"], [0.7777777777777778, \"#fb9f3a\"], [0.8888888888888888, \"#fdca26\"], [1.0, \"#f0f921\"]], \"sequentialminus\": [[0.0, \"#0d0887\"], [0.1111111111111111, \"#46039f\"], [0.2222222222222222, \"#7201a8\"], [0.3333333333333333, \"#9c179e\"], [0.4444444444444444, \"#bd3786\"], [0.5555555555555556, \"#d8576b\"], [0.6666666666666666, \"#ed7953\"], [0.7777777777777778, \"#fb9f3a\"], [0.8888888888888888, \"#fdca26\"], [1.0, \"#f0f921\"]]}, \"colorway\": [\"#636efa\", \"#EF553B\", \"#00cc96\", \"#ab63fa\", \"#FFA15A\", \"#19d3f3\", \"#FF6692\", \"#B6E880\", \"#FF97FF\", \"#FECB52\"], \"font\": {\"color\": \"#2a3f5f\"}, \"geo\": {\"bgcolor\": \"white\", \"lakecolor\": \"white\", \"landcolor\": \"#E5ECF6\", \"showlakes\": true, \"showland\": true, \"subunitcolor\": \"white\"}, \"hoverlabel\": {\"align\": \"left\"}, \"hovermode\": \"closest\", \"mapbox\": {\"style\": \"light\"}, \"paper_bgcolor\": \"white\", \"plot_bgcolor\": \"#E5ECF6\", \"polar\": {\"angularaxis\": {\"gridcolor\": \"white\", \"linecolor\": \"white\", \"ticks\": \"\"}, \"bgcolor\": \"#E5ECF6\", \"radialaxis\": {\"gridcolor\": \"white\", \"linecolor\": \"white\", \"ticks\": \"\"}}, \"scene\": {\"xaxis\": {\"backgroundcolor\": \"#E5ECF6\", \"gridcolor\": \"white\", \"gridwidth\": 2, \"linecolor\": \"white\", \"showbackground\": true, \"ticks\": \"\", \"zerolinecolor\": \"white\"}, \"yaxis\": {\"backgroundcolor\": \"#E5ECF6\", \"gridcolor\": \"white\", \"gridwidth\": 2, \"linecolor\": \"white\", \"showbackground\": true, \"ticks\": \"\", \"zerolinecolor\": \"white\"}, \"zaxis\": {\"backgroundcolor\": \"#E5ECF6\", \"gridcolor\": \"white\", \"gridwidth\": 2, \"linecolor\": \"white\", \"showbackground\": true, \"ticks\": \"\", \"zerolinecolor\": \"white\"}}, \"shapedefaults\": {\"line\": {\"color\": \"#2a3f5f\"}}, \"ternary\": {\"aaxis\": {\"gridcolor\": \"white\", \"linecolor\": \"white\", \"ticks\": \"\"}, \"baxis\": {\"gridcolor\": \"white\", \"linecolor\": \"white\", \"ticks\": \"\"}, \"bgcolor\": \"#E5ECF6\", \"caxis\": {\"gridcolor\": \"white\", \"linecolor\": \"white\", \"ticks\": \"\"}}, \"title\": {\"x\": 0.05}, \"xaxis\": {\"automargin\": true, \"gridcolor\": \"white\", \"linecolor\": \"white\", \"ticks\": \"\", \"title\": {\"standoff\": 15}, \"zerolinecolor\": \"white\", \"zerolinewidth\": 2}, \"yaxis\": {\"automargin\": true, \"gridcolor\": \"white\", \"linecolor\": \"white\", \"ticks\": \"\", \"title\": {\"standoff\": 15}, \"zerolinecolor\": \"white\", \"zerolinewidth\": 2}}}, \"title\": {\"text\": \"S\\u00e9rie Temporal dos Focos de Calor - Mato Grosso\"}, \"width\": 1000, \"xaxis\": {\"title\": {\"text\": \"Ano\"}}, \"yaxis\": {\"title\": {\"text\": \"N\\u00famero de Focos de Calor\"}}},                        {\"responsive\": true}                    ).then(function(){\n",
       "                            \n",
       "var gd = document.getElementById('3cb73ac4-8b3b-43bb-9387-40b5310edc70');\n",
       "var x = new MutationObserver(function (mutations, observer) {{\n",
       "        var display = window.getComputedStyle(gd).display;\n",
       "        if (!display || display === 'none') {{\n",
       "            console.log([gd, 'removed!']);\n",
       "            Plotly.purge(gd);\n",
       "            observer.disconnect();\n",
       "        }}\n",
       "}});\n",
       "\n",
       "// Listen for the removal of the full notebook cells\n",
       "var notebookContainer = gd.closest('#notebook-container');\n",
       "if (notebookContainer) {{\n",
       "    x.observe(notebookContainer, {childList: true});\n",
       "}}\n",
       "\n",
       "// Listen for the clearing of the current output cell\n",
       "var outputEl = gd.closest('.output');\n",
       "if (outputEl) {{\n",
       "    x.observe(outputEl, {childList: true});\n",
       "}}\n",
       "\n",
       "                        })                };                });            </script>        </div>"
      ]
     },
     "metadata": {},
     "output_type": "display_data"
    }
   ],
   "source": [
    "# Série Temporal dos Focos de Calor - Mato Grosso\n",
    "base_temp = base.loc[base['state'] == 'Mato Grosso']\n",
    "plot_forest_fires_timeline(base_temp, 'Série Temporal dos Focos de Calor - Mato Grosso')"
   ]
  },
  {
   "cell_type": "code",
   "execution_count": 68,
   "metadata": {},
   "outputs": [
    {
     "data": {
      "application/vnd.plotly.v1+json": {
       "config": {
        "linkText": "Export to plot.ly",
        "plotlyServerURL": "https://plot.ly",
        "showLink": false
       },
       "data": [
        {
         "mode": "markers+lines+text",
         "name": "Focos de Calor",
         "text": [
          20287,
          20478,
          18201,
          28590,
          60238,
          53040,
          74214,
          71477,
          55840,
          68491,
          48449,
          41664,
          57196,
          26563,
          37221,
          24046,
          35526,
          43164,
          29724,
          49770,
          22080,
          30165,
          38603
         ],
         "textposition": "top center",
         "type": "scatter",
         "x": [
          1998,
          1999,
          2000,
          2001,
          2002,
          2003,
          2004,
          2005,
          2006,
          2007,
          2008,
          2009,
          2010,
          2011,
          2012,
          2013,
          2014,
          2015,
          2016,
          2017,
          2018,
          2019,
          2020
         ],
         "y": [
          20287,
          20478,
          18201,
          28590,
          60238,
          53040,
          74214,
          71477,
          55840,
          68491,
          48449,
          41664,
          57196,
          26563,
          37221,
          24046,
          35526,
          43164,
          29724,
          49770,
          22080,
          30165,
          38603
         ]
        },
        {
         "mode": "markers+lines",
         "name": "Média Móvel do Triênio",
         "type": "scatter",
         "x": [
          1998,
          1999,
          2000,
          2001,
          2002,
          2003,
          2004,
          2005,
          2006,
          2007,
          2008,
          2009,
          2010,
          2011,
          2012,
          2013,
          2014,
          2015,
          2016,
          2017,
          2018,
          2019,
          2020
         ],
         "y": [
          null,
          null,
          19655.333333333332,
          22423,
          35676.333333333336,
          47289.333333333336,
          62497.333333333336,
          66243.66666666667,
          67177,
          65269.333333333336,
          57593.333333333336,
          52868,
          49103,
          41807.666666666664,
          40326.666666666664,
          29276.666666666668,
          32264.333333333332,
          34245.333333333336,
          36138,
          40886,
          33858,
          34005,
          30282.666666666668
         ]
        }
       ],
       "layout": {
        "height": 450,
        "legend": {
         "bgcolor": "rgba(255, 255, 255, 0)",
         "x": 0.98,
         "xanchor": "right",
         "y": 0.95,
         "yanchor": "top"
        },
        "template": {
         "data": {
          "bar": [
           {
            "error_x": {
             "color": "#2a3f5f"
            },
            "error_y": {
             "color": "#2a3f5f"
            },
            "marker": {
             "line": {
              "color": "#E5ECF6",
              "width": 0.5
             }
            },
            "type": "bar"
           }
          ],
          "barpolar": [
           {
            "marker": {
             "line": {
              "color": "#E5ECF6",
              "width": 0.5
             }
            },
            "type": "barpolar"
           }
          ],
          "carpet": [
           {
            "aaxis": {
             "endlinecolor": "#2a3f5f",
             "gridcolor": "white",
             "linecolor": "white",
             "minorgridcolor": "white",
             "startlinecolor": "#2a3f5f"
            },
            "baxis": {
             "endlinecolor": "#2a3f5f",
             "gridcolor": "white",
             "linecolor": "white",
             "minorgridcolor": "white",
             "startlinecolor": "#2a3f5f"
            },
            "type": "carpet"
           }
          ],
          "choropleth": [
           {
            "colorbar": {
             "outlinewidth": 0,
             "ticks": ""
            },
            "type": "choropleth"
           }
          ],
          "contour": [
           {
            "colorbar": {
             "outlinewidth": 0,
             "ticks": ""
            },
            "colorscale": [
             [
              0,
              "#0d0887"
             ],
             [
              0.1111111111111111,
              "#46039f"
             ],
             [
              0.2222222222222222,
              "#7201a8"
             ],
             [
              0.3333333333333333,
              "#9c179e"
             ],
             [
              0.4444444444444444,
              "#bd3786"
             ],
             [
              0.5555555555555556,
              "#d8576b"
             ],
             [
              0.6666666666666666,
              "#ed7953"
             ],
             [
              0.7777777777777778,
              "#fb9f3a"
             ],
             [
              0.8888888888888888,
              "#fdca26"
             ],
             [
              1,
              "#f0f921"
             ]
            ],
            "type": "contour"
           }
          ],
          "contourcarpet": [
           {
            "colorbar": {
             "outlinewidth": 0,
             "ticks": ""
            },
            "type": "contourcarpet"
           }
          ],
          "heatmap": [
           {
            "colorbar": {
             "outlinewidth": 0,
             "ticks": ""
            },
            "colorscale": [
             [
              0,
              "#0d0887"
             ],
             [
              0.1111111111111111,
              "#46039f"
             ],
             [
              0.2222222222222222,
              "#7201a8"
             ],
             [
              0.3333333333333333,
              "#9c179e"
             ],
             [
              0.4444444444444444,
              "#bd3786"
             ],
             [
              0.5555555555555556,
              "#d8576b"
             ],
             [
              0.6666666666666666,
              "#ed7953"
             ],
             [
              0.7777777777777778,
              "#fb9f3a"
             ],
             [
              0.8888888888888888,
              "#fdca26"
             ],
             [
              1,
              "#f0f921"
             ]
            ],
            "type": "heatmap"
           }
          ],
          "heatmapgl": [
           {
            "colorbar": {
             "outlinewidth": 0,
             "ticks": ""
            },
            "colorscale": [
             [
              0,
              "#0d0887"
             ],
             [
              0.1111111111111111,
              "#46039f"
             ],
             [
              0.2222222222222222,
              "#7201a8"
             ],
             [
              0.3333333333333333,
              "#9c179e"
             ],
             [
              0.4444444444444444,
              "#bd3786"
             ],
             [
              0.5555555555555556,
              "#d8576b"
             ],
             [
              0.6666666666666666,
              "#ed7953"
             ],
             [
              0.7777777777777778,
              "#fb9f3a"
             ],
             [
              0.8888888888888888,
              "#fdca26"
             ],
             [
              1,
              "#f0f921"
             ]
            ],
            "type": "heatmapgl"
           }
          ],
          "histogram": [
           {
            "marker": {
             "colorbar": {
              "outlinewidth": 0,
              "ticks": ""
             }
            },
            "type": "histogram"
           }
          ],
          "histogram2d": [
           {
            "colorbar": {
             "outlinewidth": 0,
             "ticks": ""
            },
            "colorscale": [
             [
              0,
              "#0d0887"
             ],
             [
              0.1111111111111111,
              "#46039f"
             ],
             [
              0.2222222222222222,
              "#7201a8"
             ],
             [
              0.3333333333333333,
              "#9c179e"
             ],
             [
              0.4444444444444444,
              "#bd3786"
             ],
             [
              0.5555555555555556,
              "#d8576b"
             ],
             [
              0.6666666666666666,
              "#ed7953"
             ],
             [
              0.7777777777777778,
              "#fb9f3a"
             ],
             [
              0.8888888888888888,
              "#fdca26"
             ],
             [
              1,
              "#f0f921"
             ]
            ],
            "type": "histogram2d"
           }
          ],
          "histogram2dcontour": [
           {
            "colorbar": {
             "outlinewidth": 0,
             "ticks": ""
            },
            "colorscale": [
             [
              0,
              "#0d0887"
             ],
             [
              0.1111111111111111,
              "#46039f"
             ],
             [
              0.2222222222222222,
              "#7201a8"
             ],
             [
              0.3333333333333333,
              "#9c179e"
             ],
             [
              0.4444444444444444,
              "#bd3786"
             ],
             [
              0.5555555555555556,
              "#d8576b"
             ],
             [
              0.6666666666666666,
              "#ed7953"
             ],
             [
              0.7777777777777778,
              "#fb9f3a"
             ],
             [
              0.8888888888888888,
              "#fdca26"
             ],
             [
              1,
              "#f0f921"
             ]
            ],
            "type": "histogram2dcontour"
           }
          ],
          "mesh3d": [
           {
            "colorbar": {
             "outlinewidth": 0,
             "ticks": ""
            },
            "type": "mesh3d"
           }
          ],
          "parcoords": [
           {
            "line": {
             "colorbar": {
              "outlinewidth": 0,
              "ticks": ""
             }
            },
            "type": "parcoords"
           }
          ],
          "pie": [
           {
            "automargin": true,
            "type": "pie"
           }
          ],
          "scatter": [
           {
            "marker": {
             "colorbar": {
              "outlinewidth": 0,
              "ticks": ""
             }
            },
            "type": "scatter"
           }
          ],
          "scatter3d": [
           {
            "line": {
             "colorbar": {
              "outlinewidth": 0,
              "ticks": ""
             }
            },
            "marker": {
             "colorbar": {
              "outlinewidth": 0,
              "ticks": ""
             }
            },
            "type": "scatter3d"
           }
          ],
          "scattercarpet": [
           {
            "marker": {
             "colorbar": {
              "outlinewidth": 0,
              "ticks": ""
             }
            },
            "type": "scattercarpet"
           }
          ],
          "scattergeo": [
           {
            "marker": {
             "colorbar": {
              "outlinewidth": 0,
              "ticks": ""
             }
            },
            "type": "scattergeo"
           }
          ],
          "scattergl": [
           {
            "marker": {
             "colorbar": {
              "outlinewidth": 0,
              "ticks": ""
             }
            },
            "type": "scattergl"
           }
          ],
          "scattermapbox": [
           {
            "marker": {
             "colorbar": {
              "outlinewidth": 0,
              "ticks": ""
             }
            },
            "type": "scattermapbox"
           }
          ],
          "scatterpolar": [
           {
            "marker": {
             "colorbar": {
              "outlinewidth": 0,
              "ticks": ""
             }
            },
            "type": "scatterpolar"
           }
          ],
          "scatterpolargl": [
           {
            "marker": {
             "colorbar": {
              "outlinewidth": 0,
              "ticks": ""
             }
            },
            "type": "scatterpolargl"
           }
          ],
          "scatterternary": [
           {
            "marker": {
             "colorbar": {
              "outlinewidth": 0,
              "ticks": ""
             }
            },
            "type": "scatterternary"
           }
          ],
          "surface": [
           {
            "colorbar": {
             "outlinewidth": 0,
             "ticks": ""
            },
            "colorscale": [
             [
              0,
              "#0d0887"
             ],
             [
              0.1111111111111111,
              "#46039f"
             ],
             [
              0.2222222222222222,
              "#7201a8"
             ],
             [
              0.3333333333333333,
              "#9c179e"
             ],
             [
              0.4444444444444444,
              "#bd3786"
             ],
             [
              0.5555555555555556,
              "#d8576b"
             ],
             [
              0.6666666666666666,
              "#ed7953"
             ],
             [
              0.7777777777777778,
              "#fb9f3a"
             ],
             [
              0.8888888888888888,
              "#fdca26"
             ],
             [
              1,
              "#f0f921"
             ]
            ],
            "type": "surface"
           }
          ],
          "table": [
           {
            "cells": {
             "fill": {
              "color": "#EBF0F8"
             },
             "line": {
              "color": "white"
             }
            },
            "header": {
             "fill": {
              "color": "#C8D4E3"
             },
             "line": {
              "color": "white"
             }
            },
            "type": "table"
           }
          ]
         },
         "layout": {
          "annotationdefaults": {
           "arrowcolor": "#2a3f5f",
           "arrowhead": 0,
           "arrowwidth": 1
          },
          "autotypenumbers": "strict",
          "coloraxis": {
           "colorbar": {
            "outlinewidth": 0,
            "ticks": ""
           }
          },
          "colorscale": {
           "diverging": [
            [
             0,
             "#8e0152"
            ],
            [
             0.1,
             "#c51b7d"
            ],
            [
             0.2,
             "#de77ae"
            ],
            [
             0.3,
             "#f1b6da"
            ],
            [
             0.4,
             "#fde0ef"
            ],
            [
             0.5,
             "#f7f7f7"
            ],
            [
             0.6,
             "#e6f5d0"
            ],
            [
             0.7,
             "#b8e186"
            ],
            [
             0.8,
             "#7fbc41"
            ],
            [
             0.9,
             "#4d9221"
            ],
            [
             1,
             "#276419"
            ]
           ],
           "sequential": [
            [
             0,
             "#0d0887"
            ],
            [
             0.1111111111111111,
             "#46039f"
            ],
            [
             0.2222222222222222,
             "#7201a8"
            ],
            [
             0.3333333333333333,
             "#9c179e"
            ],
            [
             0.4444444444444444,
             "#bd3786"
            ],
            [
             0.5555555555555556,
             "#d8576b"
            ],
            [
             0.6666666666666666,
             "#ed7953"
            ],
            [
             0.7777777777777778,
             "#fb9f3a"
            ],
            [
             0.8888888888888888,
             "#fdca26"
            ],
            [
             1,
             "#f0f921"
            ]
           ],
           "sequentialminus": [
            [
             0,
             "#0d0887"
            ],
            [
             0.1111111111111111,
             "#46039f"
            ],
            [
             0.2222222222222222,
             "#7201a8"
            ],
            [
             0.3333333333333333,
             "#9c179e"
            ],
            [
             0.4444444444444444,
             "#bd3786"
            ],
            [
             0.5555555555555556,
             "#d8576b"
            ],
            [
             0.6666666666666666,
             "#ed7953"
            ],
            [
             0.7777777777777778,
             "#fb9f3a"
            ],
            [
             0.8888888888888888,
             "#fdca26"
            ],
            [
             1,
             "#f0f921"
            ]
           ]
          },
          "colorway": [
           "#636efa",
           "#EF553B",
           "#00cc96",
           "#ab63fa",
           "#FFA15A",
           "#19d3f3",
           "#FF6692",
           "#B6E880",
           "#FF97FF",
           "#FECB52"
          ],
          "font": {
           "color": "#2a3f5f"
          },
          "geo": {
           "bgcolor": "white",
           "lakecolor": "white",
           "landcolor": "#E5ECF6",
           "showlakes": true,
           "showland": true,
           "subunitcolor": "white"
          },
          "hoverlabel": {
           "align": "left"
          },
          "hovermode": "closest",
          "mapbox": {
           "style": "light"
          },
          "paper_bgcolor": "white",
          "plot_bgcolor": "#E5ECF6",
          "polar": {
           "angularaxis": {
            "gridcolor": "white",
            "linecolor": "white",
            "ticks": ""
           },
           "bgcolor": "#E5ECF6",
           "radialaxis": {
            "gridcolor": "white",
            "linecolor": "white",
            "ticks": ""
           }
          },
          "scene": {
           "xaxis": {
            "backgroundcolor": "#E5ECF6",
            "gridcolor": "white",
            "gridwidth": 2,
            "linecolor": "white",
            "showbackground": true,
            "ticks": "",
            "zerolinecolor": "white"
           },
           "yaxis": {
            "backgroundcolor": "#E5ECF6",
            "gridcolor": "white",
            "gridwidth": 2,
            "linecolor": "white",
            "showbackground": true,
            "ticks": "",
            "zerolinecolor": "white"
           },
           "zaxis": {
            "backgroundcolor": "#E5ECF6",
            "gridcolor": "white",
            "gridwidth": 2,
            "linecolor": "white",
            "showbackground": true,
            "ticks": "",
            "zerolinecolor": "white"
           }
          },
          "shapedefaults": {
           "line": {
            "color": "#2a3f5f"
           }
          },
          "ternary": {
           "aaxis": {
            "gridcolor": "white",
            "linecolor": "white",
            "ticks": ""
           },
           "baxis": {
            "gridcolor": "white",
            "linecolor": "white",
            "ticks": ""
           },
           "bgcolor": "#E5ECF6",
           "caxis": {
            "gridcolor": "white",
            "linecolor": "white",
            "ticks": ""
           }
          },
          "title": {
           "x": 0.05
          },
          "xaxis": {
           "automargin": true,
           "gridcolor": "white",
           "linecolor": "white",
           "ticks": "",
           "title": {
            "standoff": 15
           },
           "zerolinecolor": "white",
           "zerolinewidth": 2
          },
          "yaxis": {
           "automargin": true,
           "gridcolor": "white",
           "linecolor": "white",
           "ticks": "",
           "title": {
            "standoff": 15
           },
           "zerolinecolor": "white",
           "zerolinewidth": 2
          }
         }
        },
        "title": {
         "text": "Série Temporal dos Focos de Calor - Pará"
        },
        "width": 1000,
        "xaxis": {
         "title": {
          "text": "Ano"
         }
        },
        "yaxis": {
         "title": {
          "text": "Número de Focos de Calor"
         }
        }
       }
      },
      "text/html": [
       "<div>                            <div id=\"4606c174-d97d-4326-b5c9-a99805a08fdd\" class=\"plotly-graph-div\" style=\"height:450px; width:1000px;\"></div>            <script type=\"text/javascript\">                require([\"plotly\"], function(Plotly) {                    window.PLOTLYENV=window.PLOTLYENV || {};                                    if (document.getElementById(\"4606c174-d97d-4326-b5c9-a99805a08fdd\")) {                    Plotly.newPlot(                        \"4606c174-d97d-4326-b5c9-a99805a08fdd\",                        [{\"mode\": \"markers+lines+text\", \"name\": \"Focos de Calor\", \"text\": [20287.0, 20478.0, 18201.0, 28590.0, 60238.0, 53040.0, 74214.0, 71477.0, 55840.0, 68491.0, 48449.0, 41664.0, 57196.0, 26563.0, 37221.0, 24046.0, 35526.0, 43164.0, 29724.0, 49770.0, 22080.0, 30165.0, 38603.0], \"textposition\": \"top center\", \"type\": \"scatter\", \"x\": [1998, 1999, 2000, 2001, 2002, 2003, 2004, 2005, 2006, 2007, 2008, 2009, 2010, 2011, 2012, 2013, 2014, 2015, 2016, 2017, 2018, 2019, 2020], \"y\": [20287, 20478, 18201, 28590, 60238, 53040, 74214, 71477, 55840, 68491, 48449, 41664, 57196, 26563, 37221, 24046, 35526, 43164, 29724, 49770, 22080, 30165, 38603]}, {\"mode\": \"markers+lines\", \"name\": \"M\\u00e9dia M\\u00f3vel do Tri\\u00eanio\", \"type\": \"scatter\", \"x\": [1998, 1999, 2000, 2001, 2002, 2003, 2004, 2005, 2006, 2007, 2008, 2009, 2010, 2011, 2012, 2013, 2014, 2015, 2016, 2017, 2018, 2019, 2020], \"y\": [null, null, 19655.333333333332, 22423.0, 35676.333333333336, 47289.333333333336, 62497.333333333336, 66243.66666666667, 67177.0, 65269.333333333336, 57593.333333333336, 52868.0, 49103.0, 41807.666666666664, 40326.666666666664, 29276.666666666668, 32264.333333333332, 34245.333333333336, 36138.0, 40886.0, 33858.0, 34005.0, 30282.666666666668]}],                        {\"height\": 450, \"legend\": {\"bgcolor\": \"rgba(255, 255, 255, 0)\", \"x\": 0.98, \"xanchor\": \"right\", \"y\": 0.95, \"yanchor\": \"top\"}, \"template\": {\"data\": {\"bar\": [{\"error_x\": {\"color\": \"#2a3f5f\"}, \"error_y\": {\"color\": \"#2a3f5f\"}, \"marker\": {\"line\": {\"color\": \"#E5ECF6\", \"width\": 0.5}}, \"type\": \"bar\"}], \"barpolar\": [{\"marker\": {\"line\": {\"color\": \"#E5ECF6\", \"width\": 0.5}}, \"type\": \"barpolar\"}], \"carpet\": [{\"aaxis\": {\"endlinecolor\": \"#2a3f5f\", \"gridcolor\": \"white\", \"linecolor\": \"white\", \"minorgridcolor\": \"white\", \"startlinecolor\": \"#2a3f5f\"}, \"baxis\": {\"endlinecolor\": \"#2a3f5f\", \"gridcolor\": \"white\", \"linecolor\": \"white\", \"minorgridcolor\": \"white\", \"startlinecolor\": \"#2a3f5f\"}, \"type\": \"carpet\"}], \"choropleth\": [{\"colorbar\": {\"outlinewidth\": 0, \"ticks\": \"\"}, \"type\": \"choropleth\"}], \"contour\": [{\"colorbar\": {\"outlinewidth\": 0, \"ticks\": \"\"}, \"colorscale\": [[0.0, \"#0d0887\"], [0.1111111111111111, \"#46039f\"], [0.2222222222222222, \"#7201a8\"], [0.3333333333333333, \"#9c179e\"], [0.4444444444444444, \"#bd3786\"], [0.5555555555555556, \"#d8576b\"], [0.6666666666666666, \"#ed7953\"], [0.7777777777777778, \"#fb9f3a\"], [0.8888888888888888, \"#fdca26\"], [1.0, \"#f0f921\"]], \"type\": \"contour\"}], \"contourcarpet\": [{\"colorbar\": {\"outlinewidth\": 0, \"ticks\": \"\"}, \"type\": \"contourcarpet\"}], \"heatmap\": [{\"colorbar\": {\"outlinewidth\": 0, \"ticks\": \"\"}, \"colorscale\": [[0.0, \"#0d0887\"], [0.1111111111111111, \"#46039f\"], [0.2222222222222222, \"#7201a8\"], [0.3333333333333333, \"#9c179e\"], [0.4444444444444444, \"#bd3786\"], [0.5555555555555556, \"#d8576b\"], [0.6666666666666666, \"#ed7953\"], [0.7777777777777778, \"#fb9f3a\"], [0.8888888888888888, \"#fdca26\"], [1.0, \"#f0f921\"]], \"type\": \"heatmap\"}], \"heatmapgl\": [{\"colorbar\": {\"outlinewidth\": 0, \"ticks\": \"\"}, \"colorscale\": [[0.0, \"#0d0887\"], [0.1111111111111111, \"#46039f\"], [0.2222222222222222, \"#7201a8\"], [0.3333333333333333, \"#9c179e\"], [0.4444444444444444, \"#bd3786\"], [0.5555555555555556, \"#d8576b\"], [0.6666666666666666, \"#ed7953\"], [0.7777777777777778, \"#fb9f3a\"], [0.8888888888888888, \"#fdca26\"], [1.0, \"#f0f921\"]], \"type\": \"heatmapgl\"}], \"histogram\": [{\"marker\": {\"colorbar\": {\"outlinewidth\": 0, \"ticks\": \"\"}}, \"type\": \"histogram\"}], \"histogram2d\": [{\"colorbar\": {\"outlinewidth\": 0, \"ticks\": \"\"}, \"colorscale\": [[0.0, \"#0d0887\"], [0.1111111111111111, \"#46039f\"], [0.2222222222222222, \"#7201a8\"], [0.3333333333333333, \"#9c179e\"], [0.4444444444444444, \"#bd3786\"], [0.5555555555555556, \"#d8576b\"], [0.6666666666666666, \"#ed7953\"], [0.7777777777777778, \"#fb9f3a\"], [0.8888888888888888, \"#fdca26\"], [1.0, \"#f0f921\"]], \"type\": \"histogram2d\"}], \"histogram2dcontour\": [{\"colorbar\": {\"outlinewidth\": 0, \"ticks\": \"\"}, \"colorscale\": [[0.0, \"#0d0887\"], [0.1111111111111111, \"#46039f\"], [0.2222222222222222, \"#7201a8\"], [0.3333333333333333, \"#9c179e\"], [0.4444444444444444, \"#bd3786\"], [0.5555555555555556, \"#d8576b\"], [0.6666666666666666, \"#ed7953\"], [0.7777777777777778, \"#fb9f3a\"], [0.8888888888888888, \"#fdca26\"], [1.0, \"#f0f921\"]], \"type\": \"histogram2dcontour\"}], \"mesh3d\": [{\"colorbar\": {\"outlinewidth\": 0, \"ticks\": \"\"}, \"type\": \"mesh3d\"}], \"parcoords\": [{\"line\": {\"colorbar\": {\"outlinewidth\": 0, \"ticks\": \"\"}}, \"type\": \"parcoords\"}], \"pie\": [{\"automargin\": true, \"type\": \"pie\"}], \"scatter\": [{\"marker\": {\"colorbar\": {\"outlinewidth\": 0, \"ticks\": \"\"}}, \"type\": \"scatter\"}], \"scatter3d\": [{\"line\": {\"colorbar\": {\"outlinewidth\": 0, \"ticks\": \"\"}}, \"marker\": {\"colorbar\": {\"outlinewidth\": 0, \"ticks\": \"\"}}, \"type\": \"scatter3d\"}], \"scattercarpet\": [{\"marker\": {\"colorbar\": {\"outlinewidth\": 0, \"ticks\": \"\"}}, \"type\": \"scattercarpet\"}], \"scattergeo\": [{\"marker\": {\"colorbar\": {\"outlinewidth\": 0, \"ticks\": \"\"}}, \"type\": \"scattergeo\"}], \"scattergl\": [{\"marker\": {\"colorbar\": {\"outlinewidth\": 0, \"ticks\": \"\"}}, \"type\": \"scattergl\"}], \"scattermapbox\": [{\"marker\": {\"colorbar\": {\"outlinewidth\": 0, \"ticks\": \"\"}}, \"type\": \"scattermapbox\"}], \"scatterpolar\": [{\"marker\": {\"colorbar\": {\"outlinewidth\": 0, \"ticks\": \"\"}}, \"type\": \"scatterpolar\"}], \"scatterpolargl\": [{\"marker\": {\"colorbar\": {\"outlinewidth\": 0, \"ticks\": \"\"}}, \"type\": \"scatterpolargl\"}], \"scatterternary\": [{\"marker\": {\"colorbar\": {\"outlinewidth\": 0, \"ticks\": \"\"}}, \"type\": \"scatterternary\"}], \"surface\": [{\"colorbar\": {\"outlinewidth\": 0, \"ticks\": \"\"}, \"colorscale\": [[0.0, \"#0d0887\"], [0.1111111111111111, \"#46039f\"], [0.2222222222222222, \"#7201a8\"], [0.3333333333333333, \"#9c179e\"], [0.4444444444444444, \"#bd3786\"], [0.5555555555555556, \"#d8576b\"], [0.6666666666666666, \"#ed7953\"], [0.7777777777777778, \"#fb9f3a\"], [0.8888888888888888, \"#fdca26\"], [1.0, \"#f0f921\"]], \"type\": \"surface\"}], \"table\": [{\"cells\": {\"fill\": {\"color\": \"#EBF0F8\"}, \"line\": {\"color\": \"white\"}}, \"header\": {\"fill\": {\"color\": \"#C8D4E3\"}, \"line\": {\"color\": \"white\"}}, \"type\": \"table\"}]}, \"layout\": {\"annotationdefaults\": {\"arrowcolor\": \"#2a3f5f\", \"arrowhead\": 0, \"arrowwidth\": 1}, \"autotypenumbers\": \"strict\", \"coloraxis\": {\"colorbar\": {\"outlinewidth\": 0, \"ticks\": \"\"}}, \"colorscale\": {\"diverging\": [[0, \"#8e0152\"], [0.1, \"#c51b7d\"], [0.2, \"#de77ae\"], [0.3, \"#f1b6da\"], [0.4, \"#fde0ef\"], [0.5, \"#f7f7f7\"], [0.6, \"#e6f5d0\"], [0.7, \"#b8e186\"], [0.8, \"#7fbc41\"], [0.9, \"#4d9221\"], [1, \"#276419\"]], \"sequential\": [[0.0, \"#0d0887\"], [0.1111111111111111, \"#46039f\"], [0.2222222222222222, \"#7201a8\"], [0.3333333333333333, \"#9c179e\"], [0.4444444444444444, \"#bd3786\"], [0.5555555555555556, \"#d8576b\"], [0.6666666666666666, \"#ed7953\"], [0.7777777777777778, \"#fb9f3a\"], [0.8888888888888888, \"#fdca26\"], [1.0, \"#f0f921\"]], \"sequentialminus\": [[0.0, \"#0d0887\"], [0.1111111111111111, \"#46039f\"], [0.2222222222222222, \"#7201a8\"], [0.3333333333333333, \"#9c179e\"], [0.4444444444444444, \"#bd3786\"], [0.5555555555555556, \"#d8576b\"], [0.6666666666666666, \"#ed7953\"], [0.7777777777777778, \"#fb9f3a\"], [0.8888888888888888, \"#fdca26\"], [1.0, \"#f0f921\"]]}, \"colorway\": [\"#636efa\", \"#EF553B\", \"#00cc96\", \"#ab63fa\", \"#FFA15A\", \"#19d3f3\", \"#FF6692\", \"#B6E880\", \"#FF97FF\", \"#FECB52\"], \"font\": {\"color\": \"#2a3f5f\"}, \"geo\": {\"bgcolor\": \"white\", \"lakecolor\": \"white\", \"landcolor\": \"#E5ECF6\", \"showlakes\": true, \"showland\": true, \"subunitcolor\": \"white\"}, \"hoverlabel\": {\"align\": \"left\"}, \"hovermode\": \"closest\", \"mapbox\": {\"style\": \"light\"}, \"paper_bgcolor\": \"white\", \"plot_bgcolor\": \"#E5ECF6\", \"polar\": {\"angularaxis\": {\"gridcolor\": \"white\", \"linecolor\": \"white\", \"ticks\": \"\"}, \"bgcolor\": \"#E5ECF6\", \"radialaxis\": {\"gridcolor\": \"white\", \"linecolor\": \"white\", \"ticks\": \"\"}}, \"scene\": {\"xaxis\": {\"backgroundcolor\": \"#E5ECF6\", \"gridcolor\": \"white\", \"gridwidth\": 2, \"linecolor\": \"white\", \"showbackground\": true, \"ticks\": \"\", \"zerolinecolor\": \"white\"}, \"yaxis\": {\"backgroundcolor\": \"#E5ECF6\", \"gridcolor\": \"white\", \"gridwidth\": 2, \"linecolor\": \"white\", \"showbackground\": true, \"ticks\": \"\", \"zerolinecolor\": \"white\"}, \"zaxis\": {\"backgroundcolor\": \"#E5ECF6\", \"gridcolor\": \"white\", \"gridwidth\": 2, \"linecolor\": \"white\", \"showbackground\": true, \"ticks\": \"\", \"zerolinecolor\": \"white\"}}, \"shapedefaults\": {\"line\": {\"color\": \"#2a3f5f\"}}, \"ternary\": {\"aaxis\": {\"gridcolor\": \"white\", \"linecolor\": \"white\", \"ticks\": \"\"}, \"baxis\": {\"gridcolor\": \"white\", \"linecolor\": \"white\", \"ticks\": \"\"}, \"bgcolor\": \"#E5ECF6\", \"caxis\": {\"gridcolor\": \"white\", \"linecolor\": \"white\", \"ticks\": \"\"}}, \"title\": {\"x\": 0.05}, \"xaxis\": {\"automargin\": true, \"gridcolor\": \"white\", \"linecolor\": \"white\", \"ticks\": \"\", \"title\": {\"standoff\": 15}, \"zerolinecolor\": \"white\", \"zerolinewidth\": 2}, \"yaxis\": {\"automargin\": true, \"gridcolor\": \"white\", \"linecolor\": \"white\", \"ticks\": \"\", \"title\": {\"standoff\": 15}, \"zerolinecolor\": \"white\", \"zerolinewidth\": 2}}}, \"title\": {\"text\": \"S\\u00e9rie Temporal dos Focos de Calor - Par\\u00e1\"}, \"width\": 1000, \"xaxis\": {\"title\": {\"text\": \"Ano\"}}, \"yaxis\": {\"title\": {\"text\": \"N\\u00famero de Focos de Calor\"}}},                        {\"responsive\": true}                    ).then(function(){\n",
       "                            \n",
       "var gd = document.getElementById('4606c174-d97d-4326-b5c9-a99805a08fdd');\n",
       "var x = new MutationObserver(function (mutations, observer) {{\n",
       "        var display = window.getComputedStyle(gd).display;\n",
       "        if (!display || display === 'none') {{\n",
       "            console.log([gd, 'removed!']);\n",
       "            Plotly.purge(gd);\n",
       "            observer.disconnect();\n",
       "        }}\n",
       "}});\n",
       "\n",
       "// Listen for the removal of the full notebook cells\n",
       "var notebookContainer = gd.closest('#notebook-container');\n",
       "if (notebookContainer) {{\n",
       "    x.observe(notebookContainer, {childList: true});\n",
       "}}\n",
       "\n",
       "// Listen for the clearing of the current output cell\n",
       "var outputEl = gd.closest('.output');\n",
       "if (outputEl) {{\n",
       "    x.observe(outputEl, {childList: true});\n",
       "}}\n",
       "\n",
       "                        })                };                });            </script>        </div>"
      ]
     },
     "metadata": {},
     "output_type": "display_data"
    }
   ],
   "source": [
    "# Série Temporal dos Focos de Calor - Pará\n",
    "base_temp = base.loc[base['state'] == 'Pará']\n",
    "plot_forest_fires_timeline(base_temp, 'Série Temporal dos Focos de Calor - Pará')"
   ]
  },
  {
   "cell_type": "code",
   "execution_count": 69,
   "metadata": {},
   "outputs": [
    {
     "data": {
      "application/vnd.plotly.v1+json": {
       "config": {
        "linkText": "Export to plot.ly",
        "plotlyServerURL": "https://plot.ly",
        "showLink": false
       },
       "data": [
        {
         "marker": {
          "color": "rgb(255, 65, 54)",
          "line": {
           "width": 2
          },
          "size": [
           733.82,
           2.43,
           27.86,
           636.27,
           1005.65,
           72.54,
           13.77,
           20.1,
           537.99,
           1232.94,
           3288.05,
           437.25,
           759.34,
           204.35,
           13.05,
           2146.42,
           40.14,
           666.53,
           11.26,
           91.47,
           46.29,
           1647.51,
           10.43,
           100.87,
           0.19,
           197.56,
           1143.05
          ],
          "sizemin": 4,
          "sizemode": "area"
         },
         "mode": "markers",
         "type": "scatter",
         "x": [
          "Acre",
          "Alagoas",
          "Amapá",
          "Amazonas",
          "Bahia",
          "Ceará",
          "Distrito Federal",
          "Espírito Santo",
          "Goiás",
          "Maranhão",
          "Mato Grosso",
          "Mato Grosso do Sul",
          "Minas Gerais",
          "Paraná",
          "Paraíba",
          "Pará",
          "Pernambuco",
          "Piauí",
          "Rio Grande do Norte",
          "Rio Grande do Sul",
          "Rio de Janeiro",
          "Rondônia",
          "Roraima",
          "Santa Catarina",
          "Sergipe",
          "São Paulo",
          "Tocantins"
         ],
         "y": [
          73382,
          243,
          2786,
          63627,
          100565,
          7254,
          1377,
          2010,
          53799,
          123294,
          328805,
          43725,
          75934,
          20435,
          1305,
          214642,
          4014,
          66653,
          1126,
          9147,
          4629,
          164751,
          1043,
          10087,
          19,
          19756,
          114305
         ]
        }
       ],
       "layout": {
        "height": 600,
        "template": {
         "data": {
          "bar": [
           {
            "error_x": {
             "color": "#2a3f5f"
            },
            "error_y": {
             "color": "#2a3f5f"
            },
            "marker": {
             "line": {
              "color": "#E5ECF6",
              "width": 0.5
             }
            },
            "type": "bar"
           }
          ],
          "barpolar": [
           {
            "marker": {
             "line": {
              "color": "#E5ECF6",
              "width": 0.5
             }
            },
            "type": "barpolar"
           }
          ],
          "carpet": [
           {
            "aaxis": {
             "endlinecolor": "#2a3f5f",
             "gridcolor": "white",
             "linecolor": "white",
             "minorgridcolor": "white",
             "startlinecolor": "#2a3f5f"
            },
            "baxis": {
             "endlinecolor": "#2a3f5f",
             "gridcolor": "white",
             "linecolor": "white",
             "minorgridcolor": "white",
             "startlinecolor": "#2a3f5f"
            },
            "type": "carpet"
           }
          ],
          "choropleth": [
           {
            "colorbar": {
             "outlinewidth": 0,
             "ticks": ""
            },
            "type": "choropleth"
           }
          ],
          "contour": [
           {
            "colorbar": {
             "outlinewidth": 0,
             "ticks": ""
            },
            "colorscale": [
             [
              0,
              "#0d0887"
             ],
             [
              0.1111111111111111,
              "#46039f"
             ],
             [
              0.2222222222222222,
              "#7201a8"
             ],
             [
              0.3333333333333333,
              "#9c179e"
             ],
             [
              0.4444444444444444,
              "#bd3786"
             ],
             [
              0.5555555555555556,
              "#d8576b"
             ],
             [
              0.6666666666666666,
              "#ed7953"
             ],
             [
              0.7777777777777778,
              "#fb9f3a"
             ],
             [
              0.8888888888888888,
              "#fdca26"
             ],
             [
              1,
              "#f0f921"
             ]
            ],
            "type": "contour"
           }
          ],
          "contourcarpet": [
           {
            "colorbar": {
             "outlinewidth": 0,
             "ticks": ""
            },
            "type": "contourcarpet"
           }
          ],
          "heatmap": [
           {
            "colorbar": {
             "outlinewidth": 0,
             "ticks": ""
            },
            "colorscale": [
             [
              0,
              "#0d0887"
             ],
             [
              0.1111111111111111,
              "#46039f"
             ],
             [
              0.2222222222222222,
              "#7201a8"
             ],
             [
              0.3333333333333333,
              "#9c179e"
             ],
             [
              0.4444444444444444,
              "#bd3786"
             ],
             [
              0.5555555555555556,
              "#d8576b"
             ],
             [
              0.6666666666666666,
              "#ed7953"
             ],
             [
              0.7777777777777778,
              "#fb9f3a"
             ],
             [
              0.8888888888888888,
              "#fdca26"
             ],
             [
              1,
              "#f0f921"
             ]
            ],
            "type": "heatmap"
           }
          ],
          "heatmapgl": [
           {
            "colorbar": {
             "outlinewidth": 0,
             "ticks": ""
            },
            "colorscale": [
             [
              0,
              "#0d0887"
             ],
             [
              0.1111111111111111,
              "#46039f"
             ],
             [
              0.2222222222222222,
              "#7201a8"
             ],
             [
              0.3333333333333333,
              "#9c179e"
             ],
             [
              0.4444444444444444,
              "#bd3786"
             ],
             [
              0.5555555555555556,
              "#d8576b"
             ],
             [
              0.6666666666666666,
              "#ed7953"
             ],
             [
              0.7777777777777778,
              "#fb9f3a"
             ],
             [
              0.8888888888888888,
              "#fdca26"
             ],
             [
              1,
              "#f0f921"
             ]
            ],
            "type": "heatmapgl"
           }
          ],
          "histogram": [
           {
            "marker": {
             "colorbar": {
              "outlinewidth": 0,
              "ticks": ""
             }
            },
            "type": "histogram"
           }
          ],
          "histogram2d": [
           {
            "colorbar": {
             "outlinewidth": 0,
             "ticks": ""
            },
            "colorscale": [
             [
              0,
              "#0d0887"
             ],
             [
              0.1111111111111111,
              "#46039f"
             ],
             [
              0.2222222222222222,
              "#7201a8"
             ],
             [
              0.3333333333333333,
              "#9c179e"
             ],
             [
              0.4444444444444444,
              "#bd3786"
             ],
             [
              0.5555555555555556,
              "#d8576b"
             ],
             [
              0.6666666666666666,
              "#ed7953"
             ],
             [
              0.7777777777777778,
              "#fb9f3a"
             ],
             [
              0.8888888888888888,
              "#fdca26"
             ],
             [
              1,
              "#f0f921"
             ]
            ],
            "type": "histogram2d"
           }
          ],
          "histogram2dcontour": [
           {
            "colorbar": {
             "outlinewidth": 0,
             "ticks": ""
            },
            "colorscale": [
             [
              0,
              "#0d0887"
             ],
             [
              0.1111111111111111,
              "#46039f"
             ],
             [
              0.2222222222222222,
              "#7201a8"
             ],
             [
              0.3333333333333333,
              "#9c179e"
             ],
             [
              0.4444444444444444,
              "#bd3786"
             ],
             [
              0.5555555555555556,
              "#d8576b"
             ],
             [
              0.6666666666666666,
              "#ed7953"
             ],
             [
              0.7777777777777778,
              "#fb9f3a"
             ],
             [
              0.8888888888888888,
              "#fdca26"
             ],
             [
              1,
              "#f0f921"
             ]
            ],
            "type": "histogram2dcontour"
           }
          ],
          "mesh3d": [
           {
            "colorbar": {
             "outlinewidth": 0,
             "ticks": ""
            },
            "type": "mesh3d"
           }
          ],
          "parcoords": [
           {
            "line": {
             "colorbar": {
              "outlinewidth": 0,
              "ticks": ""
             }
            },
            "type": "parcoords"
           }
          ],
          "pie": [
           {
            "automargin": true,
            "type": "pie"
           }
          ],
          "scatter": [
           {
            "marker": {
             "colorbar": {
              "outlinewidth": 0,
              "ticks": ""
             }
            },
            "type": "scatter"
           }
          ],
          "scatter3d": [
           {
            "line": {
             "colorbar": {
              "outlinewidth": 0,
              "ticks": ""
             }
            },
            "marker": {
             "colorbar": {
              "outlinewidth": 0,
              "ticks": ""
             }
            },
            "type": "scatter3d"
           }
          ],
          "scattercarpet": [
           {
            "marker": {
             "colorbar": {
              "outlinewidth": 0,
              "ticks": ""
             }
            },
            "type": "scattercarpet"
           }
          ],
          "scattergeo": [
           {
            "marker": {
             "colorbar": {
              "outlinewidth": 0,
              "ticks": ""
             }
            },
            "type": "scattergeo"
           }
          ],
          "scattergl": [
           {
            "marker": {
             "colorbar": {
              "outlinewidth": 0,
              "ticks": ""
             }
            },
            "type": "scattergl"
           }
          ],
          "scattermapbox": [
           {
            "marker": {
             "colorbar": {
              "outlinewidth": 0,
              "ticks": ""
             }
            },
            "type": "scattermapbox"
           }
          ],
          "scatterpolar": [
           {
            "marker": {
             "colorbar": {
              "outlinewidth": 0,
              "ticks": ""
             }
            },
            "type": "scatterpolar"
           }
          ],
          "scatterpolargl": [
           {
            "marker": {
             "colorbar": {
              "outlinewidth": 0,
              "ticks": ""
             }
            },
            "type": "scatterpolargl"
           }
          ],
          "scatterternary": [
           {
            "marker": {
             "colorbar": {
              "outlinewidth": 0,
              "ticks": ""
             }
            },
            "type": "scatterternary"
           }
          ],
          "surface": [
           {
            "colorbar": {
             "outlinewidth": 0,
             "ticks": ""
            },
            "colorscale": [
             [
              0,
              "#0d0887"
             ],
             [
              0.1111111111111111,
              "#46039f"
             ],
             [
              0.2222222222222222,
              "#7201a8"
             ],
             [
              0.3333333333333333,
              "#9c179e"
             ],
             [
              0.4444444444444444,
              "#bd3786"
             ],
             [
              0.5555555555555556,
              "#d8576b"
             ],
             [
              0.6666666666666666,
              "#ed7953"
             ],
             [
              0.7777777777777778,
              "#fb9f3a"
             ],
             [
              0.8888888888888888,
              "#fdca26"
             ],
             [
              1,
              "#f0f921"
             ]
            ],
            "type": "surface"
           }
          ],
          "table": [
           {
            "cells": {
             "fill": {
              "color": "#EBF0F8"
             },
             "line": {
              "color": "white"
             }
            },
            "header": {
             "fill": {
              "color": "#C8D4E3"
             },
             "line": {
              "color": "white"
             }
            },
            "type": "table"
           }
          ]
         },
         "layout": {
          "annotationdefaults": {
           "arrowcolor": "#2a3f5f",
           "arrowhead": 0,
           "arrowwidth": 1
          },
          "autotypenumbers": "strict",
          "coloraxis": {
           "colorbar": {
            "outlinewidth": 0,
            "ticks": ""
           }
          },
          "colorscale": {
           "diverging": [
            [
             0,
             "#8e0152"
            ],
            [
             0.1,
             "#c51b7d"
            ],
            [
             0.2,
             "#de77ae"
            ],
            [
             0.3,
             "#f1b6da"
            ],
            [
             0.4,
             "#fde0ef"
            ],
            [
             0.5,
             "#f7f7f7"
            ],
            [
             0.6,
             "#e6f5d0"
            ],
            [
             0.7,
             "#b8e186"
            ],
            [
             0.8,
             "#7fbc41"
            ],
            [
             0.9,
             "#4d9221"
            ],
            [
             1,
             "#276419"
            ]
           ],
           "sequential": [
            [
             0,
             "#0d0887"
            ],
            [
             0.1111111111111111,
             "#46039f"
            ],
            [
             0.2222222222222222,
             "#7201a8"
            ],
            [
             0.3333333333333333,
             "#9c179e"
            ],
            [
             0.4444444444444444,
             "#bd3786"
            ],
            [
             0.5555555555555556,
             "#d8576b"
            ],
            [
             0.6666666666666666,
             "#ed7953"
            ],
            [
             0.7777777777777778,
             "#fb9f3a"
            ],
            [
             0.8888888888888888,
             "#fdca26"
            ],
            [
             1,
             "#f0f921"
            ]
           ],
           "sequentialminus": [
            [
             0,
             "#0d0887"
            ],
            [
             0.1111111111111111,
             "#46039f"
            ],
            [
             0.2222222222222222,
             "#7201a8"
            ],
            [
             0.3333333333333333,
             "#9c179e"
            ],
            [
             0.4444444444444444,
             "#bd3786"
            ],
            [
             0.5555555555555556,
             "#d8576b"
            ],
            [
             0.6666666666666666,
             "#ed7953"
            ],
            [
             0.7777777777777778,
             "#fb9f3a"
            ],
            [
             0.8888888888888888,
             "#fdca26"
            ],
            [
             1,
             "#f0f921"
            ]
           ]
          },
          "colorway": [
           "#636efa",
           "#EF553B",
           "#00cc96",
           "#ab63fa",
           "#FFA15A",
           "#19d3f3",
           "#FF6692",
           "#B6E880",
           "#FF97FF",
           "#FECB52"
          ],
          "font": {
           "color": "#2a3f5f"
          },
          "geo": {
           "bgcolor": "white",
           "lakecolor": "white",
           "landcolor": "#E5ECF6",
           "showlakes": true,
           "showland": true,
           "subunitcolor": "white"
          },
          "hoverlabel": {
           "align": "left"
          },
          "hovermode": "closest",
          "mapbox": {
           "style": "light"
          },
          "paper_bgcolor": "white",
          "plot_bgcolor": "#E5ECF6",
          "polar": {
           "angularaxis": {
            "gridcolor": "white",
            "linecolor": "white",
            "ticks": ""
           },
           "bgcolor": "#E5ECF6",
           "radialaxis": {
            "gridcolor": "white",
            "linecolor": "white",
            "ticks": ""
           }
          },
          "scene": {
           "xaxis": {
            "backgroundcolor": "#E5ECF6",
            "gridcolor": "white",
            "gridwidth": 2,
            "linecolor": "white",
            "showbackground": true,
            "ticks": "",
            "zerolinecolor": "white"
           },
           "yaxis": {
            "backgroundcolor": "#E5ECF6",
            "gridcolor": "white",
            "gridwidth": 2,
            "linecolor": "white",
            "showbackground": true,
            "ticks": "",
            "zerolinecolor": "white"
           },
           "zaxis": {
            "backgroundcolor": "#E5ECF6",
            "gridcolor": "white",
            "gridwidth": 2,
            "linecolor": "white",
            "showbackground": true,
            "ticks": "",
            "zerolinecolor": "white"
           }
          },
          "shapedefaults": {
           "line": {
            "color": "#2a3f5f"
           }
          },
          "ternary": {
           "aaxis": {
            "gridcolor": "white",
            "linecolor": "white",
            "ticks": ""
           },
           "baxis": {
            "gridcolor": "white",
            "linecolor": "white",
            "ticks": ""
           },
           "bgcolor": "#E5ECF6",
           "caxis": {
            "gridcolor": "white",
            "linecolor": "white",
            "ticks": ""
           }
          },
          "title": {
           "x": 0.05
          },
          "xaxis": {
           "automargin": true,
           "gridcolor": "white",
           "linecolor": "white",
           "ticks": "",
           "title": {
            "standoff": 15
           },
           "zerolinecolor": "white",
           "zerolinewidth": 2
          },
          "yaxis": {
           "automargin": true,
           "gridcolor": "white",
           "linecolor": "white",
           "ticks": "",
           "title": {
            "standoff": 15
           },
           "zerolinecolor": "white",
           "zerolinewidth": 2
          }
         }
        },
        "title": {
         "text": "Número de Focos de Calor por Estado - Setembro"
        },
        "width": 1000,
        "xaxis": {
         "title": {
          "text": "Estado"
         }
        },
        "yaxis": {
         "title": {
          "text": "Número de Focos de Calor"
         }
        }
       }
      },
      "text/html": [
       "<div>                            <div id=\"ad450dfc-f8d4-44fd-a5e2-1a1768e0fe9b\" class=\"plotly-graph-div\" style=\"height:600px; width:1000px;\"></div>            <script type=\"text/javascript\">                require([\"plotly\"], function(Plotly) {                    window.PLOTLYENV=window.PLOTLYENV || {};                                    if (document.getElementById(\"ad450dfc-f8d4-44fd-a5e2-1a1768e0fe9b\")) {                    Plotly.newPlot(                        \"ad450dfc-f8d4-44fd-a5e2-1a1768e0fe9b\",                        [{\"marker\": {\"color\": \"rgb(255, 65, 54)\", \"line\": {\"width\": 2}, \"size\": [733.82, 2.43, 27.86, 636.27, 1005.65, 72.54, 13.77, 20.1, 537.99, 1232.94, 3288.05, 437.25, 759.34, 204.35, 13.05, 2146.42, 40.14, 666.53, 11.26, 91.47, 46.29, 1647.51, 10.43, 100.87, 0.19, 197.56, 1143.05], \"sizemin\": 4, \"sizemode\": \"area\"}, \"mode\": \"markers\", \"type\": \"scatter\", \"x\": [\"Acre\", \"Alagoas\", \"Amap\\u00e1\", \"Amazonas\", \"Bahia\", \"Cear\\u00e1\", \"Distrito Federal\", \"Esp\\u00edrito Santo\", \"Goi\\u00e1s\", \"Maranh\\u00e3o\", \"Mato Grosso\", \"Mato Grosso do Sul\", \"Minas Gerais\", \"Paran\\u00e1\", \"Para\\u00edba\", \"Par\\u00e1\", \"Pernambuco\", \"Piau\\u00ed\", \"Rio Grande do Norte\", \"Rio Grande do Sul\", \"Rio de Janeiro\", \"Rond\\u00f4nia\", \"Roraima\", \"Santa Catarina\", \"Sergipe\", \"S\\u00e3o Paulo\", \"Tocantins\"], \"y\": [73382, 243, 2786, 63627, 100565, 7254, 1377, 2010, 53799, 123294, 328805, 43725, 75934, 20435, 1305, 214642, 4014, 66653, 1126, 9147, 4629, 164751, 1043, 10087, 19, 19756, 114305]}],                        {\"height\": 600, \"template\": {\"data\": {\"bar\": [{\"error_x\": {\"color\": \"#2a3f5f\"}, \"error_y\": {\"color\": \"#2a3f5f\"}, \"marker\": {\"line\": {\"color\": \"#E5ECF6\", \"width\": 0.5}}, \"type\": \"bar\"}], \"barpolar\": [{\"marker\": {\"line\": {\"color\": \"#E5ECF6\", \"width\": 0.5}}, \"type\": \"barpolar\"}], \"carpet\": [{\"aaxis\": {\"endlinecolor\": \"#2a3f5f\", \"gridcolor\": \"white\", \"linecolor\": \"white\", \"minorgridcolor\": \"white\", \"startlinecolor\": \"#2a3f5f\"}, \"baxis\": {\"endlinecolor\": \"#2a3f5f\", \"gridcolor\": \"white\", \"linecolor\": \"white\", \"minorgridcolor\": \"white\", \"startlinecolor\": \"#2a3f5f\"}, \"type\": \"carpet\"}], \"choropleth\": [{\"colorbar\": {\"outlinewidth\": 0, \"ticks\": \"\"}, \"type\": \"choropleth\"}], \"contour\": [{\"colorbar\": {\"outlinewidth\": 0, \"ticks\": \"\"}, \"colorscale\": [[0.0, \"#0d0887\"], [0.1111111111111111, \"#46039f\"], [0.2222222222222222, \"#7201a8\"], [0.3333333333333333, \"#9c179e\"], [0.4444444444444444, \"#bd3786\"], [0.5555555555555556, \"#d8576b\"], [0.6666666666666666, \"#ed7953\"], [0.7777777777777778, \"#fb9f3a\"], [0.8888888888888888, \"#fdca26\"], [1.0, \"#f0f921\"]], \"type\": \"contour\"}], \"contourcarpet\": [{\"colorbar\": {\"outlinewidth\": 0, \"ticks\": \"\"}, \"type\": \"contourcarpet\"}], \"heatmap\": [{\"colorbar\": {\"outlinewidth\": 0, \"ticks\": \"\"}, \"colorscale\": [[0.0, \"#0d0887\"], [0.1111111111111111, \"#46039f\"], [0.2222222222222222, \"#7201a8\"], [0.3333333333333333, \"#9c179e\"], [0.4444444444444444, \"#bd3786\"], [0.5555555555555556, \"#d8576b\"], [0.6666666666666666, \"#ed7953\"], [0.7777777777777778, \"#fb9f3a\"], [0.8888888888888888, \"#fdca26\"], [1.0, \"#f0f921\"]], \"type\": \"heatmap\"}], \"heatmapgl\": [{\"colorbar\": {\"outlinewidth\": 0, \"ticks\": \"\"}, \"colorscale\": [[0.0, \"#0d0887\"], [0.1111111111111111, \"#46039f\"], [0.2222222222222222, \"#7201a8\"], [0.3333333333333333, \"#9c179e\"], [0.4444444444444444, \"#bd3786\"], [0.5555555555555556, \"#d8576b\"], [0.6666666666666666, \"#ed7953\"], [0.7777777777777778, \"#fb9f3a\"], [0.8888888888888888, \"#fdca26\"], [1.0, \"#f0f921\"]], \"type\": \"heatmapgl\"}], \"histogram\": [{\"marker\": {\"colorbar\": {\"outlinewidth\": 0, \"ticks\": \"\"}}, \"type\": \"histogram\"}], \"histogram2d\": [{\"colorbar\": {\"outlinewidth\": 0, \"ticks\": \"\"}, \"colorscale\": [[0.0, \"#0d0887\"], [0.1111111111111111, \"#46039f\"], [0.2222222222222222, \"#7201a8\"], [0.3333333333333333, \"#9c179e\"], [0.4444444444444444, \"#bd3786\"], [0.5555555555555556, \"#d8576b\"], [0.6666666666666666, \"#ed7953\"], [0.7777777777777778, \"#fb9f3a\"], [0.8888888888888888, \"#fdca26\"], [1.0, \"#f0f921\"]], \"type\": \"histogram2d\"}], \"histogram2dcontour\": [{\"colorbar\": {\"outlinewidth\": 0, \"ticks\": \"\"}, \"colorscale\": [[0.0, \"#0d0887\"], [0.1111111111111111, \"#46039f\"], [0.2222222222222222, \"#7201a8\"], [0.3333333333333333, \"#9c179e\"], [0.4444444444444444, \"#bd3786\"], [0.5555555555555556, \"#d8576b\"], [0.6666666666666666, \"#ed7953\"], [0.7777777777777778, \"#fb9f3a\"], [0.8888888888888888, \"#fdca26\"], [1.0, \"#f0f921\"]], \"type\": \"histogram2dcontour\"}], \"mesh3d\": [{\"colorbar\": {\"outlinewidth\": 0, \"ticks\": \"\"}, \"type\": \"mesh3d\"}], \"parcoords\": [{\"line\": {\"colorbar\": {\"outlinewidth\": 0, \"ticks\": \"\"}}, \"type\": \"parcoords\"}], \"pie\": [{\"automargin\": true, \"type\": \"pie\"}], \"scatter\": [{\"marker\": {\"colorbar\": {\"outlinewidth\": 0, \"ticks\": \"\"}}, \"type\": \"scatter\"}], \"scatter3d\": [{\"line\": {\"colorbar\": {\"outlinewidth\": 0, \"ticks\": \"\"}}, \"marker\": {\"colorbar\": {\"outlinewidth\": 0, \"ticks\": \"\"}}, \"type\": \"scatter3d\"}], \"scattercarpet\": [{\"marker\": {\"colorbar\": {\"outlinewidth\": 0, \"ticks\": \"\"}}, \"type\": \"scattercarpet\"}], \"scattergeo\": [{\"marker\": {\"colorbar\": {\"outlinewidth\": 0, \"ticks\": \"\"}}, \"type\": \"scattergeo\"}], \"scattergl\": [{\"marker\": {\"colorbar\": {\"outlinewidth\": 0, \"ticks\": \"\"}}, \"type\": \"scattergl\"}], \"scattermapbox\": [{\"marker\": {\"colorbar\": {\"outlinewidth\": 0, \"ticks\": \"\"}}, \"type\": \"scattermapbox\"}], \"scatterpolar\": [{\"marker\": {\"colorbar\": {\"outlinewidth\": 0, \"ticks\": \"\"}}, \"type\": \"scatterpolar\"}], \"scatterpolargl\": [{\"marker\": {\"colorbar\": {\"outlinewidth\": 0, \"ticks\": \"\"}}, \"type\": \"scatterpolargl\"}], \"scatterternary\": [{\"marker\": {\"colorbar\": {\"outlinewidth\": 0, \"ticks\": \"\"}}, \"type\": \"scatterternary\"}], \"surface\": [{\"colorbar\": {\"outlinewidth\": 0, \"ticks\": \"\"}, \"colorscale\": [[0.0, \"#0d0887\"], [0.1111111111111111, \"#46039f\"], [0.2222222222222222, \"#7201a8\"], [0.3333333333333333, \"#9c179e\"], [0.4444444444444444, \"#bd3786\"], [0.5555555555555556, \"#d8576b\"], [0.6666666666666666, \"#ed7953\"], [0.7777777777777778, \"#fb9f3a\"], [0.8888888888888888, \"#fdca26\"], [1.0, \"#f0f921\"]], \"type\": \"surface\"}], \"table\": [{\"cells\": {\"fill\": {\"color\": \"#EBF0F8\"}, \"line\": {\"color\": \"white\"}}, \"header\": {\"fill\": {\"color\": \"#C8D4E3\"}, \"line\": {\"color\": \"white\"}}, \"type\": \"table\"}]}, \"layout\": {\"annotationdefaults\": {\"arrowcolor\": \"#2a3f5f\", \"arrowhead\": 0, \"arrowwidth\": 1}, \"autotypenumbers\": \"strict\", \"coloraxis\": {\"colorbar\": {\"outlinewidth\": 0, \"ticks\": \"\"}}, \"colorscale\": {\"diverging\": [[0, \"#8e0152\"], [0.1, \"#c51b7d\"], [0.2, \"#de77ae\"], [0.3, \"#f1b6da\"], [0.4, \"#fde0ef\"], [0.5, \"#f7f7f7\"], [0.6, \"#e6f5d0\"], [0.7, \"#b8e186\"], [0.8, \"#7fbc41\"], [0.9, \"#4d9221\"], [1, \"#276419\"]], \"sequential\": [[0.0, \"#0d0887\"], [0.1111111111111111, \"#46039f\"], [0.2222222222222222, \"#7201a8\"], [0.3333333333333333, \"#9c179e\"], [0.4444444444444444, \"#bd3786\"], [0.5555555555555556, \"#d8576b\"], [0.6666666666666666, \"#ed7953\"], [0.7777777777777778, \"#fb9f3a\"], [0.8888888888888888, \"#fdca26\"], [1.0, \"#f0f921\"]], \"sequentialminus\": [[0.0, \"#0d0887\"], [0.1111111111111111, \"#46039f\"], [0.2222222222222222, \"#7201a8\"], [0.3333333333333333, \"#9c179e\"], [0.4444444444444444, \"#bd3786\"], [0.5555555555555556, \"#d8576b\"], [0.6666666666666666, \"#ed7953\"], [0.7777777777777778, \"#fb9f3a\"], [0.8888888888888888, \"#fdca26\"], [1.0, \"#f0f921\"]]}, \"colorway\": [\"#636efa\", \"#EF553B\", \"#00cc96\", \"#ab63fa\", \"#FFA15A\", \"#19d3f3\", \"#FF6692\", \"#B6E880\", \"#FF97FF\", \"#FECB52\"], \"font\": {\"color\": \"#2a3f5f\"}, \"geo\": {\"bgcolor\": \"white\", \"lakecolor\": \"white\", \"landcolor\": \"#E5ECF6\", \"showlakes\": true, \"showland\": true, \"subunitcolor\": \"white\"}, \"hoverlabel\": {\"align\": \"left\"}, \"hovermode\": \"closest\", \"mapbox\": {\"style\": \"light\"}, \"paper_bgcolor\": \"white\", \"plot_bgcolor\": \"#E5ECF6\", \"polar\": {\"angularaxis\": {\"gridcolor\": \"white\", \"linecolor\": \"white\", \"ticks\": \"\"}, \"bgcolor\": \"#E5ECF6\", \"radialaxis\": {\"gridcolor\": \"white\", \"linecolor\": \"white\", \"ticks\": \"\"}}, \"scene\": {\"xaxis\": {\"backgroundcolor\": \"#E5ECF6\", \"gridcolor\": \"white\", \"gridwidth\": 2, \"linecolor\": \"white\", \"showbackground\": true, \"ticks\": \"\", \"zerolinecolor\": \"white\"}, \"yaxis\": {\"backgroundcolor\": \"#E5ECF6\", \"gridcolor\": \"white\", \"gridwidth\": 2, \"linecolor\": \"white\", \"showbackground\": true, \"ticks\": \"\", \"zerolinecolor\": \"white\"}, \"zaxis\": {\"backgroundcolor\": \"#E5ECF6\", \"gridcolor\": \"white\", \"gridwidth\": 2, \"linecolor\": \"white\", \"showbackground\": true, \"ticks\": \"\", \"zerolinecolor\": \"white\"}}, \"shapedefaults\": {\"line\": {\"color\": \"#2a3f5f\"}}, \"ternary\": {\"aaxis\": {\"gridcolor\": \"white\", \"linecolor\": \"white\", \"ticks\": \"\"}, \"baxis\": {\"gridcolor\": \"white\", \"linecolor\": \"white\", \"ticks\": \"\"}, \"bgcolor\": \"#E5ECF6\", \"caxis\": {\"gridcolor\": \"white\", \"linecolor\": \"white\", \"ticks\": \"\"}}, \"title\": {\"x\": 0.05}, \"xaxis\": {\"automargin\": true, \"gridcolor\": \"white\", \"linecolor\": \"white\", \"ticks\": \"\", \"title\": {\"standoff\": 15}, \"zerolinecolor\": \"white\", \"zerolinewidth\": 2}, \"yaxis\": {\"automargin\": true, \"gridcolor\": \"white\", \"linecolor\": \"white\", \"ticks\": \"\", \"title\": {\"standoff\": 15}, \"zerolinecolor\": \"white\", \"zerolinewidth\": 2}}}, \"title\": {\"text\": \"N\\u00famero de Focos de Calor por Estado - Setembro\"}, \"width\": 1000, \"xaxis\": {\"title\": {\"text\": \"Estado\"}}, \"yaxis\": {\"title\": {\"text\": \"N\\u00famero de Focos de Calor\"}}},                        {\"responsive\": true}                    ).then(function(){\n",
       "                            \n",
       "var gd = document.getElementById('ad450dfc-f8d4-44fd-a5e2-1a1768e0fe9b');\n",
       "var x = new MutationObserver(function (mutations, observer) {{\n",
       "        var display = window.getComputedStyle(gd).display;\n",
       "        if (!display || display === 'none') {{\n",
       "            console.log([gd, 'removed!']);\n",
       "            Plotly.purge(gd);\n",
       "            observer.disconnect();\n",
       "        }}\n",
       "}});\n",
       "\n",
       "// Listen for the removal of the full notebook cells\n",
       "var notebookContainer = gd.closest('#notebook-container');\n",
       "if (notebookContainer) {{\n",
       "    x.observe(notebookContainer, {childList: true});\n",
       "}}\n",
       "\n",
       "// Listen for the clearing of the current output cell\n",
       "var outputEl = gd.closest('.output');\n",
       "if (outputEl) {{\n",
       "    x.observe(outputEl, {childList: true});\n",
       "}}\n",
       "\n",
       "                        })                };                });            </script>        </div>"
      ]
     },
     "metadata": {},
     "output_type": "display_data"
    }
   ],
   "source": [
    "#Bubble Chart do Número de Focos de Calor por Estado - Setembro\n",
    "base_temp = base.loc[base['month'] == 'Setembro']\n",
    "plot_forest_fires_state(base_temp, 'Número de Focos de Calor por Estado - Setembro', False)"
   ]
  },
  {
   "cell_type": "code",
   "execution_count": 70,
   "metadata": {},
   "outputs": [],
   "source": [
    "# Função para Gráfico de Barras\n",
    "\n",
    "def plot_forest_fires_state_max_month(df, months, title_graph):\n",
    "    \n",
    "    data = []\n",
    "    \n",
    "    for month in months:\n",
    "        dataTemp = df[df['month'] == month].groupby(['state']).agg(\n",
    "            {'number': 'sum'}).nlargest(3, 'number').reset_index()\n",
    "    \n",
    "    \n",
    "        graph= go.Bar(x = dataTemp['state'],\n",
    "                    y = dataTemp['number'],\n",
    "                    text = dataTemp['number'],\n",
    "                    textposition='auto',\n",
    "                    name = month\n",
    "                    )\n",
    "    \n",
    "    \n",
    "        data.append(graph)\n",
    "        \n",
    "\n",
    "    layout = go.Layout(title = title_graph,\n",
    "                      xaxis = {'title': 'Estado'},\n",
    "                      yaxis = {'title': 'Número de Focos de Calor'},\n",
    "                      height=600, \n",
    "                      width=1000,\n",
    "                      legend=dict(\n",
    "                        yanchor='top',\n",
    "                        y=0.98,\n",
    "                        xanchor='right',\n",
    "                        x=0.99,\n",
    "                        bgcolor='rgba(255, 255, 255, 0)'\n",
    "                      ))\n",
    "            \n",
    "    fig = go.Figure(data=data, layout=layout)\n",
    "    \n",
    "    return py.iplot(fig)"
   ]
  },
  {
   "cell_type": "code",
   "execution_count": 71,
   "metadata": {},
   "outputs": [
    {
     "data": {
      "application/vnd.plotly.v1+json": {
       "config": {
        "linkText": "Export to plot.ly",
        "plotlyServerURL": "https://plot.ly",
        "showLink": false
       },
       "data": [
        {
         "name": "Agosto",
         "text": [
          242807,
          220653,
          96554
         ],
         "textposition": "auto",
         "type": "bar",
         "x": [
          "Pará",
          "Mato Grosso",
          "Rondônia"
         ],
         "y": [
          242807,
          220653,
          96554
         ]
        },
        {
         "name": "Setembro",
         "text": [
          328805,
          214642,
          164751
         ],
         "textposition": "auto",
         "type": "bar",
         "x": [
          "Mato Grosso",
          "Pará",
          "Rondônia"
         ],
         "y": [
          328805,
          214642,
          164751
         ]
        },
        {
         "name": "Outubro",
         "text": [
          152629,
          124116,
          116634
         ],
         "textposition": "auto",
         "type": "bar",
         "x": [
          "Pará",
          "Mato Grosso",
          "Maranhão"
         ],
         "y": [
          152629,
          124116,
          116634
         ]
        }
       ],
       "layout": {
        "height": 600,
        "legend": {
         "bgcolor": "rgba(255, 255, 255, 0)",
         "x": 0.99,
         "xanchor": "right",
         "y": 0.98,
         "yanchor": "top"
        },
        "template": {
         "data": {
          "bar": [
           {
            "error_x": {
             "color": "#2a3f5f"
            },
            "error_y": {
             "color": "#2a3f5f"
            },
            "marker": {
             "line": {
              "color": "#E5ECF6",
              "width": 0.5
             }
            },
            "type": "bar"
           }
          ],
          "barpolar": [
           {
            "marker": {
             "line": {
              "color": "#E5ECF6",
              "width": 0.5
             }
            },
            "type": "barpolar"
           }
          ],
          "carpet": [
           {
            "aaxis": {
             "endlinecolor": "#2a3f5f",
             "gridcolor": "white",
             "linecolor": "white",
             "minorgridcolor": "white",
             "startlinecolor": "#2a3f5f"
            },
            "baxis": {
             "endlinecolor": "#2a3f5f",
             "gridcolor": "white",
             "linecolor": "white",
             "minorgridcolor": "white",
             "startlinecolor": "#2a3f5f"
            },
            "type": "carpet"
           }
          ],
          "choropleth": [
           {
            "colorbar": {
             "outlinewidth": 0,
             "ticks": ""
            },
            "type": "choropleth"
           }
          ],
          "contour": [
           {
            "colorbar": {
             "outlinewidth": 0,
             "ticks": ""
            },
            "colorscale": [
             [
              0,
              "#0d0887"
             ],
             [
              0.1111111111111111,
              "#46039f"
             ],
             [
              0.2222222222222222,
              "#7201a8"
             ],
             [
              0.3333333333333333,
              "#9c179e"
             ],
             [
              0.4444444444444444,
              "#bd3786"
             ],
             [
              0.5555555555555556,
              "#d8576b"
             ],
             [
              0.6666666666666666,
              "#ed7953"
             ],
             [
              0.7777777777777778,
              "#fb9f3a"
             ],
             [
              0.8888888888888888,
              "#fdca26"
             ],
             [
              1,
              "#f0f921"
             ]
            ],
            "type": "contour"
           }
          ],
          "contourcarpet": [
           {
            "colorbar": {
             "outlinewidth": 0,
             "ticks": ""
            },
            "type": "contourcarpet"
           }
          ],
          "heatmap": [
           {
            "colorbar": {
             "outlinewidth": 0,
             "ticks": ""
            },
            "colorscale": [
             [
              0,
              "#0d0887"
             ],
             [
              0.1111111111111111,
              "#46039f"
             ],
             [
              0.2222222222222222,
              "#7201a8"
             ],
             [
              0.3333333333333333,
              "#9c179e"
             ],
             [
              0.4444444444444444,
              "#bd3786"
             ],
             [
              0.5555555555555556,
              "#d8576b"
             ],
             [
              0.6666666666666666,
              "#ed7953"
             ],
             [
              0.7777777777777778,
              "#fb9f3a"
             ],
             [
              0.8888888888888888,
              "#fdca26"
             ],
             [
              1,
              "#f0f921"
             ]
            ],
            "type": "heatmap"
           }
          ],
          "heatmapgl": [
           {
            "colorbar": {
             "outlinewidth": 0,
             "ticks": ""
            },
            "colorscale": [
             [
              0,
              "#0d0887"
             ],
             [
              0.1111111111111111,
              "#46039f"
             ],
             [
              0.2222222222222222,
              "#7201a8"
             ],
             [
              0.3333333333333333,
              "#9c179e"
             ],
             [
              0.4444444444444444,
              "#bd3786"
             ],
             [
              0.5555555555555556,
              "#d8576b"
             ],
             [
              0.6666666666666666,
              "#ed7953"
             ],
             [
              0.7777777777777778,
              "#fb9f3a"
             ],
             [
              0.8888888888888888,
              "#fdca26"
             ],
             [
              1,
              "#f0f921"
             ]
            ],
            "type": "heatmapgl"
           }
          ],
          "histogram": [
           {
            "marker": {
             "colorbar": {
              "outlinewidth": 0,
              "ticks": ""
             }
            },
            "type": "histogram"
           }
          ],
          "histogram2d": [
           {
            "colorbar": {
             "outlinewidth": 0,
             "ticks": ""
            },
            "colorscale": [
             [
              0,
              "#0d0887"
             ],
             [
              0.1111111111111111,
              "#46039f"
             ],
             [
              0.2222222222222222,
              "#7201a8"
             ],
             [
              0.3333333333333333,
              "#9c179e"
             ],
             [
              0.4444444444444444,
              "#bd3786"
             ],
             [
              0.5555555555555556,
              "#d8576b"
             ],
             [
              0.6666666666666666,
              "#ed7953"
             ],
             [
              0.7777777777777778,
              "#fb9f3a"
             ],
             [
              0.8888888888888888,
              "#fdca26"
             ],
             [
              1,
              "#f0f921"
             ]
            ],
            "type": "histogram2d"
           }
          ],
          "histogram2dcontour": [
           {
            "colorbar": {
             "outlinewidth": 0,
             "ticks": ""
            },
            "colorscale": [
             [
              0,
              "#0d0887"
             ],
             [
              0.1111111111111111,
              "#46039f"
             ],
             [
              0.2222222222222222,
              "#7201a8"
             ],
             [
              0.3333333333333333,
              "#9c179e"
             ],
             [
              0.4444444444444444,
              "#bd3786"
             ],
             [
              0.5555555555555556,
              "#d8576b"
             ],
             [
              0.6666666666666666,
              "#ed7953"
             ],
             [
              0.7777777777777778,
              "#fb9f3a"
             ],
             [
              0.8888888888888888,
              "#fdca26"
             ],
             [
              1,
              "#f0f921"
             ]
            ],
            "type": "histogram2dcontour"
           }
          ],
          "mesh3d": [
           {
            "colorbar": {
             "outlinewidth": 0,
             "ticks": ""
            },
            "type": "mesh3d"
           }
          ],
          "parcoords": [
           {
            "line": {
             "colorbar": {
              "outlinewidth": 0,
              "ticks": ""
             }
            },
            "type": "parcoords"
           }
          ],
          "pie": [
           {
            "automargin": true,
            "type": "pie"
           }
          ],
          "scatter": [
           {
            "marker": {
             "colorbar": {
              "outlinewidth": 0,
              "ticks": ""
             }
            },
            "type": "scatter"
           }
          ],
          "scatter3d": [
           {
            "line": {
             "colorbar": {
              "outlinewidth": 0,
              "ticks": ""
             }
            },
            "marker": {
             "colorbar": {
              "outlinewidth": 0,
              "ticks": ""
             }
            },
            "type": "scatter3d"
           }
          ],
          "scattercarpet": [
           {
            "marker": {
             "colorbar": {
              "outlinewidth": 0,
              "ticks": ""
             }
            },
            "type": "scattercarpet"
           }
          ],
          "scattergeo": [
           {
            "marker": {
             "colorbar": {
              "outlinewidth": 0,
              "ticks": ""
             }
            },
            "type": "scattergeo"
           }
          ],
          "scattergl": [
           {
            "marker": {
             "colorbar": {
              "outlinewidth": 0,
              "ticks": ""
             }
            },
            "type": "scattergl"
           }
          ],
          "scattermapbox": [
           {
            "marker": {
             "colorbar": {
              "outlinewidth": 0,
              "ticks": ""
             }
            },
            "type": "scattermapbox"
           }
          ],
          "scatterpolar": [
           {
            "marker": {
             "colorbar": {
              "outlinewidth": 0,
              "ticks": ""
             }
            },
            "type": "scatterpolar"
           }
          ],
          "scatterpolargl": [
           {
            "marker": {
             "colorbar": {
              "outlinewidth": 0,
              "ticks": ""
             }
            },
            "type": "scatterpolargl"
           }
          ],
          "scatterternary": [
           {
            "marker": {
             "colorbar": {
              "outlinewidth": 0,
              "ticks": ""
             }
            },
            "type": "scatterternary"
           }
          ],
          "surface": [
           {
            "colorbar": {
             "outlinewidth": 0,
             "ticks": ""
            },
            "colorscale": [
             [
              0,
              "#0d0887"
             ],
             [
              0.1111111111111111,
              "#46039f"
             ],
             [
              0.2222222222222222,
              "#7201a8"
             ],
             [
              0.3333333333333333,
              "#9c179e"
             ],
             [
              0.4444444444444444,
              "#bd3786"
             ],
             [
              0.5555555555555556,
              "#d8576b"
             ],
             [
              0.6666666666666666,
              "#ed7953"
             ],
             [
              0.7777777777777778,
              "#fb9f3a"
             ],
             [
              0.8888888888888888,
              "#fdca26"
             ],
             [
              1,
              "#f0f921"
             ]
            ],
            "type": "surface"
           }
          ],
          "table": [
           {
            "cells": {
             "fill": {
              "color": "#EBF0F8"
             },
             "line": {
              "color": "white"
             }
            },
            "header": {
             "fill": {
              "color": "#C8D4E3"
             },
             "line": {
              "color": "white"
             }
            },
            "type": "table"
           }
          ]
         },
         "layout": {
          "annotationdefaults": {
           "arrowcolor": "#2a3f5f",
           "arrowhead": 0,
           "arrowwidth": 1
          },
          "autotypenumbers": "strict",
          "coloraxis": {
           "colorbar": {
            "outlinewidth": 0,
            "ticks": ""
           }
          },
          "colorscale": {
           "diverging": [
            [
             0,
             "#8e0152"
            ],
            [
             0.1,
             "#c51b7d"
            ],
            [
             0.2,
             "#de77ae"
            ],
            [
             0.3,
             "#f1b6da"
            ],
            [
             0.4,
             "#fde0ef"
            ],
            [
             0.5,
             "#f7f7f7"
            ],
            [
             0.6,
             "#e6f5d0"
            ],
            [
             0.7,
             "#b8e186"
            ],
            [
             0.8,
             "#7fbc41"
            ],
            [
             0.9,
             "#4d9221"
            ],
            [
             1,
             "#276419"
            ]
           ],
           "sequential": [
            [
             0,
             "#0d0887"
            ],
            [
             0.1111111111111111,
             "#46039f"
            ],
            [
             0.2222222222222222,
             "#7201a8"
            ],
            [
             0.3333333333333333,
             "#9c179e"
            ],
            [
             0.4444444444444444,
             "#bd3786"
            ],
            [
             0.5555555555555556,
             "#d8576b"
            ],
            [
             0.6666666666666666,
             "#ed7953"
            ],
            [
             0.7777777777777778,
             "#fb9f3a"
            ],
            [
             0.8888888888888888,
             "#fdca26"
            ],
            [
             1,
             "#f0f921"
            ]
           ],
           "sequentialminus": [
            [
             0,
             "#0d0887"
            ],
            [
             0.1111111111111111,
             "#46039f"
            ],
            [
             0.2222222222222222,
             "#7201a8"
            ],
            [
             0.3333333333333333,
             "#9c179e"
            ],
            [
             0.4444444444444444,
             "#bd3786"
            ],
            [
             0.5555555555555556,
             "#d8576b"
            ],
            [
             0.6666666666666666,
             "#ed7953"
            ],
            [
             0.7777777777777778,
             "#fb9f3a"
            ],
            [
             0.8888888888888888,
             "#fdca26"
            ],
            [
             1,
             "#f0f921"
            ]
           ]
          },
          "colorway": [
           "#636efa",
           "#EF553B",
           "#00cc96",
           "#ab63fa",
           "#FFA15A",
           "#19d3f3",
           "#FF6692",
           "#B6E880",
           "#FF97FF",
           "#FECB52"
          ],
          "font": {
           "color": "#2a3f5f"
          },
          "geo": {
           "bgcolor": "white",
           "lakecolor": "white",
           "landcolor": "#E5ECF6",
           "showlakes": true,
           "showland": true,
           "subunitcolor": "white"
          },
          "hoverlabel": {
           "align": "left"
          },
          "hovermode": "closest",
          "mapbox": {
           "style": "light"
          },
          "paper_bgcolor": "white",
          "plot_bgcolor": "#E5ECF6",
          "polar": {
           "angularaxis": {
            "gridcolor": "white",
            "linecolor": "white",
            "ticks": ""
           },
           "bgcolor": "#E5ECF6",
           "radialaxis": {
            "gridcolor": "white",
            "linecolor": "white",
            "ticks": ""
           }
          },
          "scene": {
           "xaxis": {
            "backgroundcolor": "#E5ECF6",
            "gridcolor": "white",
            "gridwidth": 2,
            "linecolor": "white",
            "showbackground": true,
            "ticks": "",
            "zerolinecolor": "white"
           },
           "yaxis": {
            "backgroundcolor": "#E5ECF6",
            "gridcolor": "white",
            "gridwidth": 2,
            "linecolor": "white",
            "showbackground": true,
            "ticks": "",
            "zerolinecolor": "white"
           },
           "zaxis": {
            "backgroundcolor": "#E5ECF6",
            "gridcolor": "white",
            "gridwidth": 2,
            "linecolor": "white",
            "showbackground": true,
            "ticks": "",
            "zerolinecolor": "white"
           }
          },
          "shapedefaults": {
           "line": {
            "color": "#2a3f5f"
           }
          },
          "ternary": {
           "aaxis": {
            "gridcolor": "white",
            "linecolor": "white",
            "ticks": ""
           },
           "baxis": {
            "gridcolor": "white",
            "linecolor": "white",
            "ticks": ""
           },
           "bgcolor": "#E5ECF6",
           "caxis": {
            "gridcolor": "white",
            "linecolor": "white",
            "ticks": ""
           }
          },
          "title": {
           "x": 0.05
          },
          "xaxis": {
           "automargin": true,
           "gridcolor": "white",
           "linecolor": "white",
           "ticks": "",
           "title": {
            "standoff": 15
           },
           "zerolinecolor": "white",
           "zerolinewidth": 2
          },
          "yaxis": {
           "automargin": true,
           "gridcolor": "white",
           "linecolor": "white",
           "ticks": "",
           "title": {
            "standoff": 15
           },
           "zerolinecolor": "white",
           "zerolinewidth": 2
          }
         }
        },
        "title": {
         "text": "Estados com Maiores Focos de Calor em Agosto, Setembro e Outubro"
        },
        "width": 1000,
        "xaxis": {
         "title": {
          "text": "Estado"
         }
        },
        "yaxis": {
         "title": {
          "text": "Número de Focos de Calor"
         }
        }
       }
      },
      "text/html": [
       "<div>                            <div id=\"181a9324-8ae0-47c9-b582-67902d74e6f7\" class=\"plotly-graph-div\" style=\"height:600px; width:1000px;\"></div>            <script type=\"text/javascript\">                require([\"plotly\"], function(Plotly) {                    window.PLOTLYENV=window.PLOTLYENV || {};                                    if (document.getElementById(\"181a9324-8ae0-47c9-b582-67902d74e6f7\")) {                    Plotly.newPlot(                        \"181a9324-8ae0-47c9-b582-67902d74e6f7\",                        [{\"name\": \"Agosto\", \"text\": [242807.0, 220653.0, 96554.0], \"textposition\": \"auto\", \"type\": \"bar\", \"x\": [\"Par\\u00e1\", \"Mato Grosso\", \"Rond\\u00f4nia\"], \"y\": [242807, 220653, 96554]}, {\"name\": \"Setembro\", \"text\": [328805.0, 214642.0, 164751.0], \"textposition\": \"auto\", \"type\": \"bar\", \"x\": [\"Mato Grosso\", \"Par\\u00e1\", \"Rond\\u00f4nia\"], \"y\": [328805, 214642, 164751]}, {\"name\": \"Outubro\", \"text\": [152629.0, 124116.0, 116634.0], \"textposition\": \"auto\", \"type\": \"bar\", \"x\": [\"Par\\u00e1\", \"Mato Grosso\", \"Maranh\\u00e3o\"], \"y\": [152629, 124116, 116634]}],                        {\"height\": 600, \"legend\": {\"bgcolor\": \"rgba(255, 255, 255, 0)\", \"x\": 0.99, \"xanchor\": \"right\", \"y\": 0.98, \"yanchor\": \"top\"}, \"template\": {\"data\": {\"bar\": [{\"error_x\": {\"color\": \"#2a3f5f\"}, \"error_y\": {\"color\": \"#2a3f5f\"}, \"marker\": {\"line\": {\"color\": \"#E5ECF6\", \"width\": 0.5}}, \"type\": \"bar\"}], \"barpolar\": [{\"marker\": {\"line\": {\"color\": \"#E5ECF6\", \"width\": 0.5}}, \"type\": \"barpolar\"}], \"carpet\": [{\"aaxis\": {\"endlinecolor\": \"#2a3f5f\", \"gridcolor\": \"white\", \"linecolor\": \"white\", \"minorgridcolor\": \"white\", \"startlinecolor\": \"#2a3f5f\"}, \"baxis\": {\"endlinecolor\": \"#2a3f5f\", \"gridcolor\": \"white\", \"linecolor\": \"white\", \"minorgridcolor\": \"white\", \"startlinecolor\": \"#2a3f5f\"}, \"type\": \"carpet\"}], \"choropleth\": [{\"colorbar\": {\"outlinewidth\": 0, \"ticks\": \"\"}, \"type\": \"choropleth\"}], \"contour\": [{\"colorbar\": {\"outlinewidth\": 0, \"ticks\": \"\"}, \"colorscale\": [[0.0, \"#0d0887\"], [0.1111111111111111, \"#46039f\"], [0.2222222222222222, \"#7201a8\"], [0.3333333333333333, \"#9c179e\"], [0.4444444444444444, \"#bd3786\"], [0.5555555555555556, \"#d8576b\"], [0.6666666666666666, \"#ed7953\"], [0.7777777777777778, \"#fb9f3a\"], [0.8888888888888888, \"#fdca26\"], [1.0, \"#f0f921\"]], \"type\": \"contour\"}], \"contourcarpet\": [{\"colorbar\": {\"outlinewidth\": 0, \"ticks\": \"\"}, \"type\": \"contourcarpet\"}], \"heatmap\": [{\"colorbar\": {\"outlinewidth\": 0, \"ticks\": \"\"}, \"colorscale\": [[0.0, \"#0d0887\"], [0.1111111111111111, \"#46039f\"], [0.2222222222222222, \"#7201a8\"], [0.3333333333333333, \"#9c179e\"], [0.4444444444444444, \"#bd3786\"], [0.5555555555555556, \"#d8576b\"], [0.6666666666666666, \"#ed7953\"], [0.7777777777777778, \"#fb9f3a\"], [0.8888888888888888, \"#fdca26\"], [1.0, \"#f0f921\"]], \"type\": \"heatmap\"}], \"heatmapgl\": [{\"colorbar\": {\"outlinewidth\": 0, \"ticks\": \"\"}, \"colorscale\": [[0.0, \"#0d0887\"], [0.1111111111111111, \"#46039f\"], [0.2222222222222222, \"#7201a8\"], [0.3333333333333333, \"#9c179e\"], [0.4444444444444444, \"#bd3786\"], [0.5555555555555556, \"#d8576b\"], [0.6666666666666666, \"#ed7953\"], [0.7777777777777778, \"#fb9f3a\"], [0.8888888888888888, \"#fdca26\"], [1.0, \"#f0f921\"]], \"type\": \"heatmapgl\"}], \"histogram\": [{\"marker\": {\"colorbar\": {\"outlinewidth\": 0, \"ticks\": \"\"}}, \"type\": \"histogram\"}], \"histogram2d\": [{\"colorbar\": {\"outlinewidth\": 0, \"ticks\": \"\"}, \"colorscale\": [[0.0, \"#0d0887\"], [0.1111111111111111, \"#46039f\"], [0.2222222222222222, \"#7201a8\"], [0.3333333333333333, \"#9c179e\"], [0.4444444444444444, \"#bd3786\"], [0.5555555555555556, \"#d8576b\"], [0.6666666666666666, \"#ed7953\"], [0.7777777777777778, \"#fb9f3a\"], [0.8888888888888888, \"#fdca26\"], [1.0, \"#f0f921\"]], \"type\": \"histogram2d\"}], \"histogram2dcontour\": [{\"colorbar\": {\"outlinewidth\": 0, \"ticks\": \"\"}, \"colorscale\": [[0.0, \"#0d0887\"], [0.1111111111111111, \"#46039f\"], [0.2222222222222222, \"#7201a8\"], [0.3333333333333333, \"#9c179e\"], [0.4444444444444444, \"#bd3786\"], [0.5555555555555556, \"#d8576b\"], [0.6666666666666666, \"#ed7953\"], [0.7777777777777778, \"#fb9f3a\"], [0.8888888888888888, \"#fdca26\"], [1.0, \"#f0f921\"]], \"type\": \"histogram2dcontour\"}], \"mesh3d\": [{\"colorbar\": {\"outlinewidth\": 0, \"ticks\": \"\"}, \"type\": \"mesh3d\"}], \"parcoords\": [{\"line\": {\"colorbar\": {\"outlinewidth\": 0, \"ticks\": \"\"}}, \"type\": \"parcoords\"}], \"pie\": [{\"automargin\": true, \"type\": \"pie\"}], \"scatter\": [{\"marker\": {\"colorbar\": {\"outlinewidth\": 0, \"ticks\": \"\"}}, \"type\": \"scatter\"}], \"scatter3d\": [{\"line\": {\"colorbar\": {\"outlinewidth\": 0, \"ticks\": \"\"}}, \"marker\": {\"colorbar\": {\"outlinewidth\": 0, \"ticks\": \"\"}}, \"type\": \"scatter3d\"}], \"scattercarpet\": [{\"marker\": {\"colorbar\": {\"outlinewidth\": 0, \"ticks\": \"\"}}, \"type\": \"scattercarpet\"}], \"scattergeo\": [{\"marker\": {\"colorbar\": {\"outlinewidth\": 0, \"ticks\": \"\"}}, \"type\": \"scattergeo\"}], \"scattergl\": [{\"marker\": {\"colorbar\": {\"outlinewidth\": 0, \"ticks\": \"\"}}, \"type\": \"scattergl\"}], \"scattermapbox\": [{\"marker\": {\"colorbar\": {\"outlinewidth\": 0, \"ticks\": \"\"}}, \"type\": \"scattermapbox\"}], \"scatterpolar\": [{\"marker\": {\"colorbar\": {\"outlinewidth\": 0, \"ticks\": \"\"}}, \"type\": \"scatterpolar\"}], \"scatterpolargl\": [{\"marker\": {\"colorbar\": {\"outlinewidth\": 0, \"ticks\": \"\"}}, \"type\": \"scatterpolargl\"}], \"scatterternary\": [{\"marker\": {\"colorbar\": {\"outlinewidth\": 0, \"ticks\": \"\"}}, \"type\": \"scatterternary\"}], \"surface\": [{\"colorbar\": {\"outlinewidth\": 0, \"ticks\": \"\"}, \"colorscale\": [[0.0, \"#0d0887\"], [0.1111111111111111, \"#46039f\"], [0.2222222222222222, \"#7201a8\"], [0.3333333333333333, \"#9c179e\"], [0.4444444444444444, \"#bd3786\"], [0.5555555555555556, \"#d8576b\"], [0.6666666666666666, \"#ed7953\"], [0.7777777777777778, \"#fb9f3a\"], [0.8888888888888888, \"#fdca26\"], [1.0, \"#f0f921\"]], \"type\": \"surface\"}], \"table\": [{\"cells\": {\"fill\": {\"color\": \"#EBF0F8\"}, \"line\": {\"color\": \"white\"}}, \"header\": {\"fill\": {\"color\": \"#C8D4E3\"}, \"line\": {\"color\": \"white\"}}, \"type\": \"table\"}]}, \"layout\": {\"annotationdefaults\": {\"arrowcolor\": \"#2a3f5f\", \"arrowhead\": 0, \"arrowwidth\": 1}, \"autotypenumbers\": \"strict\", \"coloraxis\": {\"colorbar\": {\"outlinewidth\": 0, \"ticks\": \"\"}}, \"colorscale\": {\"diverging\": [[0, \"#8e0152\"], [0.1, \"#c51b7d\"], [0.2, \"#de77ae\"], [0.3, \"#f1b6da\"], [0.4, \"#fde0ef\"], [0.5, \"#f7f7f7\"], [0.6, \"#e6f5d0\"], [0.7, \"#b8e186\"], [0.8, \"#7fbc41\"], [0.9, \"#4d9221\"], [1, \"#276419\"]], \"sequential\": [[0.0, \"#0d0887\"], [0.1111111111111111, \"#46039f\"], [0.2222222222222222, \"#7201a8\"], [0.3333333333333333, \"#9c179e\"], [0.4444444444444444, \"#bd3786\"], [0.5555555555555556, \"#d8576b\"], [0.6666666666666666, \"#ed7953\"], [0.7777777777777778, \"#fb9f3a\"], [0.8888888888888888, \"#fdca26\"], [1.0, \"#f0f921\"]], \"sequentialminus\": [[0.0, \"#0d0887\"], [0.1111111111111111, \"#46039f\"], [0.2222222222222222, \"#7201a8\"], [0.3333333333333333, \"#9c179e\"], [0.4444444444444444, \"#bd3786\"], [0.5555555555555556, \"#d8576b\"], [0.6666666666666666, \"#ed7953\"], [0.7777777777777778, \"#fb9f3a\"], [0.8888888888888888, \"#fdca26\"], [1.0, \"#f0f921\"]]}, \"colorway\": [\"#636efa\", \"#EF553B\", \"#00cc96\", \"#ab63fa\", \"#FFA15A\", \"#19d3f3\", \"#FF6692\", \"#B6E880\", \"#FF97FF\", \"#FECB52\"], \"font\": {\"color\": \"#2a3f5f\"}, \"geo\": {\"bgcolor\": \"white\", \"lakecolor\": \"white\", \"landcolor\": \"#E5ECF6\", \"showlakes\": true, \"showland\": true, \"subunitcolor\": \"white\"}, \"hoverlabel\": {\"align\": \"left\"}, \"hovermode\": \"closest\", \"mapbox\": {\"style\": \"light\"}, \"paper_bgcolor\": \"white\", \"plot_bgcolor\": \"#E5ECF6\", \"polar\": {\"angularaxis\": {\"gridcolor\": \"white\", \"linecolor\": \"white\", \"ticks\": \"\"}, \"bgcolor\": \"#E5ECF6\", \"radialaxis\": {\"gridcolor\": \"white\", \"linecolor\": \"white\", \"ticks\": \"\"}}, \"scene\": {\"xaxis\": {\"backgroundcolor\": \"#E5ECF6\", \"gridcolor\": \"white\", \"gridwidth\": 2, \"linecolor\": \"white\", \"showbackground\": true, \"ticks\": \"\", \"zerolinecolor\": \"white\"}, \"yaxis\": {\"backgroundcolor\": \"#E5ECF6\", \"gridcolor\": \"white\", \"gridwidth\": 2, \"linecolor\": \"white\", \"showbackground\": true, \"ticks\": \"\", \"zerolinecolor\": \"white\"}, \"zaxis\": {\"backgroundcolor\": \"#E5ECF6\", \"gridcolor\": \"white\", \"gridwidth\": 2, \"linecolor\": \"white\", \"showbackground\": true, \"ticks\": \"\", \"zerolinecolor\": \"white\"}}, \"shapedefaults\": {\"line\": {\"color\": \"#2a3f5f\"}}, \"ternary\": {\"aaxis\": {\"gridcolor\": \"white\", \"linecolor\": \"white\", \"ticks\": \"\"}, \"baxis\": {\"gridcolor\": \"white\", \"linecolor\": \"white\", \"ticks\": \"\"}, \"bgcolor\": \"#E5ECF6\", \"caxis\": {\"gridcolor\": \"white\", \"linecolor\": \"white\", \"ticks\": \"\"}}, \"title\": {\"x\": 0.05}, \"xaxis\": {\"automargin\": true, \"gridcolor\": \"white\", \"linecolor\": \"white\", \"ticks\": \"\", \"title\": {\"standoff\": 15}, \"zerolinecolor\": \"white\", \"zerolinewidth\": 2}, \"yaxis\": {\"automargin\": true, \"gridcolor\": \"white\", \"linecolor\": \"white\", \"ticks\": \"\", \"title\": {\"standoff\": 15}, \"zerolinecolor\": \"white\", \"zerolinewidth\": 2}}}, \"title\": {\"text\": \"Estados com Maiores Focos de Calor em Agosto, Setembro e Outubro\"}, \"width\": 1000, \"xaxis\": {\"title\": {\"text\": \"Estado\"}}, \"yaxis\": {\"title\": {\"text\": \"N\\u00famero de Focos de Calor\"}}},                        {\"responsive\": true}                    ).then(function(){\n",
       "                            \n",
       "var gd = document.getElementById('181a9324-8ae0-47c9-b582-67902d74e6f7');\n",
       "var x = new MutationObserver(function (mutations, observer) {{\n",
       "        var display = window.getComputedStyle(gd).display;\n",
       "        if (!display || display === 'none') {{\n",
       "            console.log([gd, 'removed!']);\n",
       "            Plotly.purge(gd);\n",
       "            observer.disconnect();\n",
       "        }}\n",
       "}});\n",
       "\n",
       "// Listen for the removal of the full notebook cells\n",
       "var notebookContainer = gd.closest('#notebook-container');\n",
       "if (notebookContainer) {{\n",
       "    x.observe(notebookContainer, {childList: true});\n",
       "}}\n",
       "\n",
       "// Listen for the clearing of the current output cell\n",
       "var outputEl = gd.closest('.output');\n",
       "if (outputEl) {{\n",
       "    x.observe(outputEl, {childList: true});\n",
       "}}\n",
       "\n",
       "                        })                };                });            </script>        </div>"
      ]
     },
     "metadata": {},
     "output_type": "display_data"
    }
   ],
   "source": [
    "# Gráfico de barras dos Estados com Maiores Focos de Calor em Agosto, Setembro e Outubro\n",
    "title = 'Estados com Maiores Focos de Calor em Agosto, Setembro e Outubro'\n",
    "plot_forest_fires_state_max_month(base, ['Agosto', 'Setembro', 'Outubro'], title )"
   ]
  },
  {
   "cell_type": "code",
   "execution_count": 72,
   "metadata": {},
   "outputs": [
    {
     "data": {
      "application/vnd.plotly.v1+json": {
       "config": {
        "linkText": "Export to plot.ly",
        "plotlyServerURL": "https://plot.ly",
        "showLink": false
       },
       "data": [
        {
         "marker": {
          "color": "rgb(255, 65, 54)",
          "line": {
           "width": 2
          },
          "size": [
           91.93,
           1.59,
           7.5,
           167.29,
           79.12,
           39.79,
           1.96,
           4.01,
           60.08,
           168.17,
           477.08,
           120.8,
           87.37,
           35.19,
           9.1,
           386.03,
           10.17,
           93.17,
           6.64,
           36.12,
           6.94,
           111.45,
           19.3,
           24.25,
           0.77,
           61.23,
           120.93
          ],
          "sizemin": 4,
          "sizemode": "area"
         },
         "mode": "markers",
         "type": "scatter",
         "x": [
          "Acre",
          "Alagoas",
          "Amapá",
          "Amazonas",
          "Bahia",
          "Ceará",
          "Distrito Federal",
          "Espírito Santo",
          "Goiás",
          "Maranhão",
          "Mato Grosso",
          "Mato Grosso do Sul",
          "Minas Gerais",
          "Paraná",
          "Paraíba",
          "Pará",
          "Pernambuco",
          "Piauí",
          "Rio Grande do Norte",
          "Rio Grande do Sul",
          "Rio de Janeiro",
          "Rondônia",
          "Roraima",
          "Santa Catarina",
          "Sergipe",
          "São Paulo",
          "Tocantins"
         ],
         "y": [
          9193,
          159,
          750,
          16729,
          7912,
          3979,
          196,
          401,
          6008,
          16817,
          47708,
          12080,
          8737,
          3519,
          910,
          38603,
          1017,
          9317,
          664,
          3612,
          694,
          11145,
          1930,
          2425,
          77,
          6123,
          12093
         ]
        }
       ],
       "layout": {
        "height": 600,
        "template": {
         "data": {
          "bar": [
           {
            "error_x": {
             "color": "#2a3f5f"
            },
            "error_y": {
             "color": "#2a3f5f"
            },
            "marker": {
             "line": {
              "color": "#E5ECF6",
              "width": 0.5
             }
            },
            "type": "bar"
           }
          ],
          "barpolar": [
           {
            "marker": {
             "line": {
              "color": "#E5ECF6",
              "width": 0.5
             }
            },
            "type": "barpolar"
           }
          ],
          "carpet": [
           {
            "aaxis": {
             "endlinecolor": "#2a3f5f",
             "gridcolor": "white",
             "linecolor": "white",
             "minorgridcolor": "white",
             "startlinecolor": "#2a3f5f"
            },
            "baxis": {
             "endlinecolor": "#2a3f5f",
             "gridcolor": "white",
             "linecolor": "white",
             "minorgridcolor": "white",
             "startlinecolor": "#2a3f5f"
            },
            "type": "carpet"
           }
          ],
          "choropleth": [
           {
            "colorbar": {
             "outlinewidth": 0,
             "ticks": ""
            },
            "type": "choropleth"
           }
          ],
          "contour": [
           {
            "colorbar": {
             "outlinewidth": 0,
             "ticks": ""
            },
            "colorscale": [
             [
              0,
              "#0d0887"
             ],
             [
              0.1111111111111111,
              "#46039f"
             ],
             [
              0.2222222222222222,
              "#7201a8"
             ],
             [
              0.3333333333333333,
              "#9c179e"
             ],
             [
              0.4444444444444444,
              "#bd3786"
             ],
             [
              0.5555555555555556,
              "#d8576b"
             ],
             [
              0.6666666666666666,
              "#ed7953"
             ],
             [
              0.7777777777777778,
              "#fb9f3a"
             ],
             [
              0.8888888888888888,
              "#fdca26"
             ],
             [
              1,
              "#f0f921"
             ]
            ],
            "type": "contour"
           }
          ],
          "contourcarpet": [
           {
            "colorbar": {
             "outlinewidth": 0,
             "ticks": ""
            },
            "type": "contourcarpet"
           }
          ],
          "heatmap": [
           {
            "colorbar": {
             "outlinewidth": 0,
             "ticks": ""
            },
            "colorscale": [
             [
              0,
              "#0d0887"
             ],
             [
              0.1111111111111111,
              "#46039f"
             ],
             [
              0.2222222222222222,
              "#7201a8"
             ],
             [
              0.3333333333333333,
              "#9c179e"
             ],
             [
              0.4444444444444444,
              "#bd3786"
             ],
             [
              0.5555555555555556,
              "#d8576b"
             ],
             [
              0.6666666666666666,
              "#ed7953"
             ],
             [
              0.7777777777777778,
              "#fb9f3a"
             ],
             [
              0.8888888888888888,
              "#fdca26"
             ],
             [
              1,
              "#f0f921"
             ]
            ],
            "type": "heatmap"
           }
          ],
          "heatmapgl": [
           {
            "colorbar": {
             "outlinewidth": 0,
             "ticks": ""
            },
            "colorscale": [
             [
              0,
              "#0d0887"
             ],
             [
              0.1111111111111111,
              "#46039f"
             ],
             [
              0.2222222222222222,
              "#7201a8"
             ],
             [
              0.3333333333333333,
              "#9c179e"
             ],
             [
              0.4444444444444444,
              "#bd3786"
             ],
             [
              0.5555555555555556,
              "#d8576b"
             ],
             [
              0.6666666666666666,
              "#ed7953"
             ],
             [
              0.7777777777777778,
              "#fb9f3a"
             ],
             [
              0.8888888888888888,
              "#fdca26"
             ],
             [
              1,
              "#f0f921"
             ]
            ],
            "type": "heatmapgl"
           }
          ],
          "histogram": [
           {
            "marker": {
             "colorbar": {
              "outlinewidth": 0,
              "ticks": ""
             }
            },
            "type": "histogram"
           }
          ],
          "histogram2d": [
           {
            "colorbar": {
             "outlinewidth": 0,
             "ticks": ""
            },
            "colorscale": [
             [
              0,
              "#0d0887"
             ],
             [
              0.1111111111111111,
              "#46039f"
             ],
             [
              0.2222222222222222,
              "#7201a8"
             ],
             [
              0.3333333333333333,
              "#9c179e"
             ],
             [
              0.4444444444444444,
              "#bd3786"
             ],
             [
              0.5555555555555556,
              "#d8576b"
             ],
             [
              0.6666666666666666,
              "#ed7953"
             ],
             [
              0.7777777777777778,
              "#fb9f3a"
             ],
             [
              0.8888888888888888,
              "#fdca26"
             ],
             [
              1,
              "#f0f921"
             ]
            ],
            "type": "histogram2d"
           }
          ],
          "histogram2dcontour": [
           {
            "colorbar": {
             "outlinewidth": 0,
             "ticks": ""
            },
            "colorscale": [
             [
              0,
              "#0d0887"
             ],
             [
              0.1111111111111111,
              "#46039f"
             ],
             [
              0.2222222222222222,
              "#7201a8"
             ],
             [
              0.3333333333333333,
              "#9c179e"
             ],
             [
              0.4444444444444444,
              "#bd3786"
             ],
             [
              0.5555555555555556,
              "#d8576b"
             ],
             [
              0.6666666666666666,
              "#ed7953"
             ],
             [
              0.7777777777777778,
              "#fb9f3a"
             ],
             [
              0.8888888888888888,
              "#fdca26"
             ],
             [
              1,
              "#f0f921"
             ]
            ],
            "type": "histogram2dcontour"
           }
          ],
          "mesh3d": [
           {
            "colorbar": {
             "outlinewidth": 0,
             "ticks": ""
            },
            "type": "mesh3d"
           }
          ],
          "parcoords": [
           {
            "line": {
             "colorbar": {
              "outlinewidth": 0,
              "ticks": ""
             }
            },
            "type": "parcoords"
           }
          ],
          "pie": [
           {
            "automargin": true,
            "type": "pie"
           }
          ],
          "scatter": [
           {
            "marker": {
             "colorbar": {
              "outlinewidth": 0,
              "ticks": ""
             }
            },
            "type": "scatter"
           }
          ],
          "scatter3d": [
           {
            "line": {
             "colorbar": {
              "outlinewidth": 0,
              "ticks": ""
             }
            },
            "marker": {
             "colorbar": {
              "outlinewidth": 0,
              "ticks": ""
             }
            },
            "type": "scatter3d"
           }
          ],
          "scattercarpet": [
           {
            "marker": {
             "colorbar": {
              "outlinewidth": 0,
              "ticks": ""
             }
            },
            "type": "scattercarpet"
           }
          ],
          "scattergeo": [
           {
            "marker": {
             "colorbar": {
              "outlinewidth": 0,
              "ticks": ""
             }
            },
            "type": "scattergeo"
           }
          ],
          "scattergl": [
           {
            "marker": {
             "colorbar": {
              "outlinewidth": 0,
              "ticks": ""
             }
            },
            "type": "scattergl"
           }
          ],
          "scattermapbox": [
           {
            "marker": {
             "colorbar": {
              "outlinewidth": 0,
              "ticks": ""
             }
            },
            "type": "scattermapbox"
           }
          ],
          "scatterpolar": [
           {
            "marker": {
             "colorbar": {
              "outlinewidth": 0,
              "ticks": ""
             }
            },
            "type": "scatterpolar"
           }
          ],
          "scatterpolargl": [
           {
            "marker": {
             "colorbar": {
              "outlinewidth": 0,
              "ticks": ""
             }
            },
            "type": "scatterpolargl"
           }
          ],
          "scatterternary": [
           {
            "marker": {
             "colorbar": {
              "outlinewidth": 0,
              "ticks": ""
             }
            },
            "type": "scatterternary"
           }
          ],
          "surface": [
           {
            "colorbar": {
             "outlinewidth": 0,
             "ticks": ""
            },
            "colorscale": [
             [
              0,
              "#0d0887"
             ],
             [
              0.1111111111111111,
              "#46039f"
             ],
             [
              0.2222222222222222,
              "#7201a8"
             ],
             [
              0.3333333333333333,
              "#9c179e"
             ],
             [
              0.4444444444444444,
              "#bd3786"
             ],
             [
              0.5555555555555556,
              "#d8576b"
             ],
             [
              0.6666666666666666,
              "#ed7953"
             ],
             [
              0.7777777777777778,
              "#fb9f3a"
             ],
             [
              0.8888888888888888,
              "#fdca26"
             ],
             [
              1,
              "#f0f921"
             ]
            ],
            "type": "surface"
           }
          ],
          "table": [
           {
            "cells": {
             "fill": {
              "color": "#EBF0F8"
             },
             "line": {
              "color": "white"
             }
            },
            "header": {
             "fill": {
              "color": "#C8D4E3"
             },
             "line": {
              "color": "white"
             }
            },
            "type": "table"
           }
          ]
         },
         "layout": {
          "annotationdefaults": {
           "arrowcolor": "#2a3f5f",
           "arrowhead": 0,
           "arrowwidth": 1
          },
          "autotypenumbers": "strict",
          "coloraxis": {
           "colorbar": {
            "outlinewidth": 0,
            "ticks": ""
           }
          },
          "colorscale": {
           "diverging": [
            [
             0,
             "#8e0152"
            ],
            [
             0.1,
             "#c51b7d"
            ],
            [
             0.2,
             "#de77ae"
            ],
            [
             0.3,
             "#f1b6da"
            ],
            [
             0.4,
             "#fde0ef"
            ],
            [
             0.5,
             "#f7f7f7"
            ],
            [
             0.6,
             "#e6f5d0"
            ],
            [
             0.7,
             "#b8e186"
            ],
            [
             0.8,
             "#7fbc41"
            ],
            [
             0.9,
             "#4d9221"
            ],
            [
             1,
             "#276419"
            ]
           ],
           "sequential": [
            [
             0,
             "#0d0887"
            ],
            [
             0.1111111111111111,
             "#46039f"
            ],
            [
             0.2222222222222222,
             "#7201a8"
            ],
            [
             0.3333333333333333,
             "#9c179e"
            ],
            [
             0.4444444444444444,
             "#bd3786"
            ],
            [
             0.5555555555555556,
             "#d8576b"
            ],
            [
             0.6666666666666666,
             "#ed7953"
            ],
            [
             0.7777777777777778,
             "#fb9f3a"
            ],
            [
             0.8888888888888888,
             "#fdca26"
            ],
            [
             1,
             "#f0f921"
            ]
           ],
           "sequentialminus": [
            [
             0,
             "#0d0887"
            ],
            [
             0.1111111111111111,
             "#46039f"
            ],
            [
             0.2222222222222222,
             "#7201a8"
            ],
            [
             0.3333333333333333,
             "#9c179e"
            ],
            [
             0.4444444444444444,
             "#bd3786"
            ],
            [
             0.5555555555555556,
             "#d8576b"
            ],
            [
             0.6666666666666666,
             "#ed7953"
            ],
            [
             0.7777777777777778,
             "#fb9f3a"
            ],
            [
             0.8888888888888888,
             "#fdca26"
            ],
            [
             1,
             "#f0f921"
            ]
           ]
          },
          "colorway": [
           "#636efa",
           "#EF553B",
           "#00cc96",
           "#ab63fa",
           "#FFA15A",
           "#19d3f3",
           "#FF6692",
           "#B6E880",
           "#FF97FF",
           "#FECB52"
          ],
          "font": {
           "color": "#2a3f5f"
          },
          "geo": {
           "bgcolor": "white",
           "lakecolor": "white",
           "landcolor": "#E5ECF6",
           "showlakes": true,
           "showland": true,
           "subunitcolor": "white"
          },
          "hoverlabel": {
           "align": "left"
          },
          "hovermode": "closest",
          "mapbox": {
           "style": "light"
          },
          "paper_bgcolor": "white",
          "plot_bgcolor": "#E5ECF6",
          "polar": {
           "angularaxis": {
            "gridcolor": "white",
            "linecolor": "white",
            "ticks": ""
           },
           "bgcolor": "#E5ECF6",
           "radialaxis": {
            "gridcolor": "white",
            "linecolor": "white",
            "ticks": ""
           }
          },
          "scene": {
           "xaxis": {
            "backgroundcolor": "#E5ECF6",
            "gridcolor": "white",
            "gridwidth": 2,
            "linecolor": "white",
            "showbackground": true,
            "ticks": "",
            "zerolinecolor": "white"
           },
           "yaxis": {
            "backgroundcolor": "#E5ECF6",
            "gridcolor": "white",
            "gridwidth": 2,
            "linecolor": "white",
            "showbackground": true,
            "ticks": "",
            "zerolinecolor": "white"
           },
           "zaxis": {
            "backgroundcolor": "#E5ECF6",
            "gridcolor": "white",
            "gridwidth": 2,
            "linecolor": "white",
            "showbackground": true,
            "ticks": "",
            "zerolinecolor": "white"
           }
          },
          "shapedefaults": {
           "line": {
            "color": "#2a3f5f"
           }
          },
          "ternary": {
           "aaxis": {
            "gridcolor": "white",
            "linecolor": "white",
            "ticks": ""
           },
           "baxis": {
            "gridcolor": "white",
            "linecolor": "white",
            "ticks": ""
           },
           "bgcolor": "#E5ECF6",
           "caxis": {
            "gridcolor": "white",
            "linecolor": "white",
            "ticks": ""
           }
          },
          "title": {
           "x": 0.05
          },
          "xaxis": {
           "automargin": true,
           "gridcolor": "white",
           "linecolor": "white",
           "ticks": "",
           "title": {
            "standoff": 15
           },
           "zerolinecolor": "white",
           "zerolinewidth": 2
          },
          "yaxis": {
           "automargin": true,
           "gridcolor": "white",
           "linecolor": "white",
           "ticks": "",
           "title": {
            "standoff": 15
           },
           "zerolinecolor": "white",
           "zerolinewidth": 2
          }
         }
        },
        "title": {
         "text": "Número de Focos de Calor por Estado - 2020"
        },
        "width": 1000,
        "xaxis": {
         "title": {
          "text": "Estado"
         }
        },
        "yaxis": {
         "title": {
          "text": "Número de Focos de Calor"
         }
        }
       }
      },
      "text/html": [
       "<div>                            <div id=\"8376ae6c-9151-49af-87cd-d2de5efe07de\" class=\"plotly-graph-div\" style=\"height:600px; width:1000px;\"></div>            <script type=\"text/javascript\">                require([\"plotly\"], function(Plotly) {                    window.PLOTLYENV=window.PLOTLYENV || {};                                    if (document.getElementById(\"8376ae6c-9151-49af-87cd-d2de5efe07de\")) {                    Plotly.newPlot(                        \"8376ae6c-9151-49af-87cd-d2de5efe07de\",                        [{\"marker\": {\"color\": \"rgb(255, 65, 54)\", \"line\": {\"width\": 2}, \"size\": [91.93, 1.59, 7.5, 167.29, 79.12, 39.79, 1.96, 4.01, 60.08, 168.17, 477.08, 120.8, 87.37, 35.19, 9.1, 386.03, 10.17, 93.17, 6.64, 36.12, 6.94, 111.45, 19.3, 24.25, 0.77, 61.23, 120.93], \"sizemin\": 4, \"sizemode\": \"area\"}, \"mode\": \"markers\", \"type\": \"scatter\", \"x\": [\"Acre\", \"Alagoas\", \"Amap\\u00e1\", \"Amazonas\", \"Bahia\", \"Cear\\u00e1\", \"Distrito Federal\", \"Esp\\u00edrito Santo\", \"Goi\\u00e1s\", \"Maranh\\u00e3o\", \"Mato Grosso\", \"Mato Grosso do Sul\", \"Minas Gerais\", \"Paran\\u00e1\", \"Para\\u00edba\", \"Par\\u00e1\", \"Pernambuco\", \"Piau\\u00ed\", \"Rio Grande do Norte\", \"Rio Grande do Sul\", \"Rio de Janeiro\", \"Rond\\u00f4nia\", \"Roraima\", \"Santa Catarina\", \"Sergipe\", \"S\\u00e3o Paulo\", \"Tocantins\"], \"y\": [9193, 159, 750, 16729, 7912, 3979, 196, 401, 6008, 16817, 47708, 12080, 8737, 3519, 910, 38603, 1017, 9317, 664, 3612, 694, 11145, 1930, 2425, 77, 6123, 12093]}],                        {\"height\": 600, \"template\": {\"data\": {\"bar\": [{\"error_x\": {\"color\": \"#2a3f5f\"}, \"error_y\": {\"color\": \"#2a3f5f\"}, \"marker\": {\"line\": {\"color\": \"#E5ECF6\", \"width\": 0.5}}, \"type\": \"bar\"}], \"barpolar\": [{\"marker\": {\"line\": {\"color\": \"#E5ECF6\", \"width\": 0.5}}, \"type\": \"barpolar\"}], \"carpet\": [{\"aaxis\": {\"endlinecolor\": \"#2a3f5f\", \"gridcolor\": \"white\", \"linecolor\": \"white\", \"minorgridcolor\": \"white\", \"startlinecolor\": \"#2a3f5f\"}, \"baxis\": {\"endlinecolor\": \"#2a3f5f\", \"gridcolor\": \"white\", \"linecolor\": \"white\", \"minorgridcolor\": \"white\", \"startlinecolor\": \"#2a3f5f\"}, \"type\": \"carpet\"}], \"choropleth\": [{\"colorbar\": {\"outlinewidth\": 0, \"ticks\": \"\"}, \"type\": \"choropleth\"}], \"contour\": [{\"colorbar\": {\"outlinewidth\": 0, \"ticks\": \"\"}, \"colorscale\": [[0.0, \"#0d0887\"], [0.1111111111111111, \"#46039f\"], [0.2222222222222222, \"#7201a8\"], [0.3333333333333333, \"#9c179e\"], [0.4444444444444444, \"#bd3786\"], [0.5555555555555556, \"#d8576b\"], [0.6666666666666666, \"#ed7953\"], [0.7777777777777778, \"#fb9f3a\"], [0.8888888888888888, \"#fdca26\"], [1.0, \"#f0f921\"]], \"type\": \"contour\"}], \"contourcarpet\": [{\"colorbar\": {\"outlinewidth\": 0, \"ticks\": \"\"}, \"type\": \"contourcarpet\"}], \"heatmap\": [{\"colorbar\": {\"outlinewidth\": 0, \"ticks\": \"\"}, \"colorscale\": [[0.0, \"#0d0887\"], [0.1111111111111111, \"#46039f\"], [0.2222222222222222, \"#7201a8\"], [0.3333333333333333, \"#9c179e\"], [0.4444444444444444, \"#bd3786\"], [0.5555555555555556, \"#d8576b\"], [0.6666666666666666, \"#ed7953\"], [0.7777777777777778, \"#fb9f3a\"], [0.8888888888888888, \"#fdca26\"], [1.0, \"#f0f921\"]], \"type\": \"heatmap\"}], \"heatmapgl\": [{\"colorbar\": {\"outlinewidth\": 0, \"ticks\": \"\"}, \"colorscale\": [[0.0, \"#0d0887\"], [0.1111111111111111, \"#46039f\"], [0.2222222222222222, \"#7201a8\"], [0.3333333333333333, \"#9c179e\"], [0.4444444444444444, \"#bd3786\"], [0.5555555555555556, \"#d8576b\"], [0.6666666666666666, \"#ed7953\"], [0.7777777777777778, \"#fb9f3a\"], [0.8888888888888888, \"#fdca26\"], [1.0, \"#f0f921\"]], \"type\": \"heatmapgl\"}], \"histogram\": [{\"marker\": {\"colorbar\": {\"outlinewidth\": 0, \"ticks\": \"\"}}, \"type\": \"histogram\"}], \"histogram2d\": [{\"colorbar\": {\"outlinewidth\": 0, \"ticks\": \"\"}, \"colorscale\": [[0.0, \"#0d0887\"], [0.1111111111111111, \"#46039f\"], [0.2222222222222222, \"#7201a8\"], [0.3333333333333333, \"#9c179e\"], [0.4444444444444444, \"#bd3786\"], [0.5555555555555556, \"#d8576b\"], [0.6666666666666666, \"#ed7953\"], [0.7777777777777778, \"#fb9f3a\"], [0.8888888888888888, \"#fdca26\"], [1.0, \"#f0f921\"]], \"type\": \"histogram2d\"}], \"histogram2dcontour\": [{\"colorbar\": {\"outlinewidth\": 0, \"ticks\": \"\"}, \"colorscale\": [[0.0, \"#0d0887\"], [0.1111111111111111, \"#46039f\"], [0.2222222222222222, \"#7201a8\"], [0.3333333333333333, \"#9c179e\"], [0.4444444444444444, \"#bd3786\"], [0.5555555555555556, \"#d8576b\"], [0.6666666666666666, \"#ed7953\"], [0.7777777777777778, \"#fb9f3a\"], [0.8888888888888888, \"#fdca26\"], [1.0, \"#f0f921\"]], \"type\": \"histogram2dcontour\"}], \"mesh3d\": [{\"colorbar\": {\"outlinewidth\": 0, \"ticks\": \"\"}, \"type\": \"mesh3d\"}], \"parcoords\": [{\"line\": {\"colorbar\": {\"outlinewidth\": 0, \"ticks\": \"\"}}, \"type\": \"parcoords\"}], \"pie\": [{\"automargin\": true, \"type\": \"pie\"}], \"scatter\": [{\"marker\": {\"colorbar\": {\"outlinewidth\": 0, \"ticks\": \"\"}}, \"type\": \"scatter\"}], \"scatter3d\": [{\"line\": {\"colorbar\": {\"outlinewidth\": 0, \"ticks\": \"\"}}, \"marker\": {\"colorbar\": {\"outlinewidth\": 0, \"ticks\": \"\"}}, \"type\": \"scatter3d\"}], \"scattercarpet\": [{\"marker\": {\"colorbar\": {\"outlinewidth\": 0, \"ticks\": \"\"}}, \"type\": \"scattercarpet\"}], \"scattergeo\": [{\"marker\": {\"colorbar\": {\"outlinewidth\": 0, \"ticks\": \"\"}}, \"type\": \"scattergeo\"}], \"scattergl\": [{\"marker\": {\"colorbar\": {\"outlinewidth\": 0, \"ticks\": \"\"}}, \"type\": \"scattergl\"}], \"scattermapbox\": [{\"marker\": {\"colorbar\": {\"outlinewidth\": 0, \"ticks\": \"\"}}, \"type\": \"scattermapbox\"}], \"scatterpolar\": [{\"marker\": {\"colorbar\": {\"outlinewidth\": 0, \"ticks\": \"\"}}, \"type\": \"scatterpolar\"}], \"scatterpolargl\": [{\"marker\": {\"colorbar\": {\"outlinewidth\": 0, \"ticks\": \"\"}}, \"type\": \"scatterpolargl\"}], \"scatterternary\": [{\"marker\": {\"colorbar\": {\"outlinewidth\": 0, \"ticks\": \"\"}}, \"type\": \"scatterternary\"}], \"surface\": [{\"colorbar\": {\"outlinewidth\": 0, \"ticks\": \"\"}, \"colorscale\": [[0.0, \"#0d0887\"], [0.1111111111111111, \"#46039f\"], [0.2222222222222222, \"#7201a8\"], [0.3333333333333333, \"#9c179e\"], [0.4444444444444444, \"#bd3786\"], [0.5555555555555556, \"#d8576b\"], [0.6666666666666666, \"#ed7953\"], [0.7777777777777778, \"#fb9f3a\"], [0.8888888888888888, \"#fdca26\"], [1.0, \"#f0f921\"]], \"type\": \"surface\"}], \"table\": [{\"cells\": {\"fill\": {\"color\": \"#EBF0F8\"}, \"line\": {\"color\": \"white\"}}, \"header\": {\"fill\": {\"color\": \"#C8D4E3\"}, \"line\": {\"color\": \"white\"}}, \"type\": \"table\"}]}, \"layout\": {\"annotationdefaults\": {\"arrowcolor\": \"#2a3f5f\", \"arrowhead\": 0, \"arrowwidth\": 1}, \"autotypenumbers\": \"strict\", \"coloraxis\": {\"colorbar\": {\"outlinewidth\": 0, \"ticks\": \"\"}}, \"colorscale\": {\"diverging\": [[0, \"#8e0152\"], [0.1, \"#c51b7d\"], [0.2, \"#de77ae\"], [0.3, \"#f1b6da\"], [0.4, \"#fde0ef\"], [0.5, \"#f7f7f7\"], [0.6, \"#e6f5d0\"], [0.7, \"#b8e186\"], [0.8, \"#7fbc41\"], [0.9, \"#4d9221\"], [1, \"#276419\"]], \"sequential\": [[0.0, \"#0d0887\"], [0.1111111111111111, \"#46039f\"], [0.2222222222222222, \"#7201a8\"], [0.3333333333333333, \"#9c179e\"], [0.4444444444444444, \"#bd3786\"], [0.5555555555555556, \"#d8576b\"], [0.6666666666666666, \"#ed7953\"], [0.7777777777777778, \"#fb9f3a\"], [0.8888888888888888, \"#fdca26\"], [1.0, \"#f0f921\"]], \"sequentialminus\": [[0.0, \"#0d0887\"], [0.1111111111111111, \"#46039f\"], [0.2222222222222222, \"#7201a8\"], [0.3333333333333333, \"#9c179e\"], [0.4444444444444444, \"#bd3786\"], [0.5555555555555556, \"#d8576b\"], [0.6666666666666666, \"#ed7953\"], [0.7777777777777778, \"#fb9f3a\"], [0.8888888888888888, \"#fdca26\"], [1.0, \"#f0f921\"]]}, \"colorway\": [\"#636efa\", \"#EF553B\", \"#00cc96\", \"#ab63fa\", \"#FFA15A\", \"#19d3f3\", \"#FF6692\", \"#B6E880\", \"#FF97FF\", \"#FECB52\"], \"font\": {\"color\": \"#2a3f5f\"}, \"geo\": {\"bgcolor\": \"white\", \"lakecolor\": \"white\", \"landcolor\": \"#E5ECF6\", \"showlakes\": true, \"showland\": true, \"subunitcolor\": \"white\"}, \"hoverlabel\": {\"align\": \"left\"}, \"hovermode\": \"closest\", \"mapbox\": {\"style\": \"light\"}, \"paper_bgcolor\": \"white\", \"plot_bgcolor\": \"#E5ECF6\", \"polar\": {\"angularaxis\": {\"gridcolor\": \"white\", \"linecolor\": \"white\", \"ticks\": \"\"}, \"bgcolor\": \"#E5ECF6\", \"radialaxis\": {\"gridcolor\": \"white\", \"linecolor\": \"white\", \"ticks\": \"\"}}, \"scene\": {\"xaxis\": {\"backgroundcolor\": \"#E5ECF6\", \"gridcolor\": \"white\", \"gridwidth\": 2, \"linecolor\": \"white\", \"showbackground\": true, \"ticks\": \"\", \"zerolinecolor\": \"white\"}, \"yaxis\": {\"backgroundcolor\": \"#E5ECF6\", \"gridcolor\": \"white\", \"gridwidth\": 2, \"linecolor\": \"white\", \"showbackground\": true, \"ticks\": \"\", \"zerolinecolor\": \"white\"}, \"zaxis\": {\"backgroundcolor\": \"#E5ECF6\", \"gridcolor\": \"white\", \"gridwidth\": 2, \"linecolor\": \"white\", \"showbackground\": true, \"ticks\": \"\", \"zerolinecolor\": \"white\"}}, \"shapedefaults\": {\"line\": {\"color\": \"#2a3f5f\"}}, \"ternary\": {\"aaxis\": {\"gridcolor\": \"white\", \"linecolor\": \"white\", \"ticks\": \"\"}, \"baxis\": {\"gridcolor\": \"white\", \"linecolor\": \"white\", \"ticks\": \"\"}, \"bgcolor\": \"#E5ECF6\", \"caxis\": {\"gridcolor\": \"white\", \"linecolor\": \"white\", \"ticks\": \"\"}}, \"title\": {\"x\": 0.05}, \"xaxis\": {\"automargin\": true, \"gridcolor\": \"white\", \"linecolor\": \"white\", \"ticks\": \"\", \"title\": {\"standoff\": 15}, \"zerolinecolor\": \"white\", \"zerolinewidth\": 2}, \"yaxis\": {\"automargin\": true, \"gridcolor\": \"white\", \"linecolor\": \"white\", \"ticks\": \"\", \"title\": {\"standoff\": 15}, \"zerolinecolor\": \"white\", \"zerolinewidth\": 2}}}, \"title\": {\"text\": \"N\\u00famero de Focos de Calor por Estado - 2020\"}, \"width\": 1000, \"xaxis\": {\"title\": {\"text\": \"Estado\"}}, \"yaxis\": {\"title\": {\"text\": \"N\\u00famero de Focos de Calor\"}}},                        {\"responsive\": true}                    ).then(function(){\n",
       "                            \n",
       "var gd = document.getElementById('8376ae6c-9151-49af-87cd-d2de5efe07de');\n",
       "var x = new MutationObserver(function (mutations, observer) {{\n",
       "        var display = window.getComputedStyle(gd).display;\n",
       "        if (!display || display === 'none') {{\n",
       "            console.log([gd, 'removed!']);\n",
       "            Plotly.purge(gd);\n",
       "            observer.disconnect();\n",
       "        }}\n",
       "}});\n",
       "\n",
       "// Listen for the removal of the full notebook cells\n",
       "var notebookContainer = gd.closest('#notebook-container');\n",
       "if (notebookContainer) {{\n",
       "    x.observe(notebookContainer, {childList: true});\n",
       "}}\n",
       "\n",
       "// Listen for the clearing of the current output cell\n",
       "var outputEl = gd.closest('.output');\n",
       "if (outputEl) {{\n",
       "    x.observe(outputEl, {childList: true});\n",
       "}}\n",
       "\n",
       "                        })                };                });            </script>        </div>"
      ]
     },
     "metadata": {},
     "output_type": "display_data"
    }
   ],
   "source": [
    "#Bubble Chart do Número de Focos de Calor por Estado - 2020\n",
    "base_temp = base.loc[base['year'] == 2020]\n",
    "plot_forest_fires_state(base_temp, 'Número de Focos de Calor por Estado - 2020', False)"
   ]
  },
  {
   "cell_type": "markdown",
   "metadata": {},
   "source": [
    "## Time series decomposition Mato Grosso"
   ]
  },
  {
   "cell_type": "code",
   "execution_count": 103,
   "metadata": {},
   "outputs": [
    {
     "data": {
      "text/html": [
       "<div>\n",
       "<style scoped>\n",
       "    .dataframe tbody tr th:only-of-type {\n",
       "        vertical-align: middle;\n",
       "    }\n",
       "\n",
       "    .dataframe tbody tr th {\n",
       "        vertical-align: top;\n",
       "    }\n",
       "\n",
       "    .dataframe thead th {\n",
       "        text-align: right;\n",
       "    }\n",
       "</style>\n",
       "<table border=\"1\" class=\"dataframe\">\n",
       "  <thead>\n",
       "    <tr style=\"text-align: right;\">\n",
       "      <th></th>\n",
       "      <th>year</th>\n",
       "      <th>number</th>\n",
       "      <th>month</th>\n",
       "      <th>state</th>\n",
       "    </tr>\n",
       "    <tr>\n",
       "      <th>data</th>\n",
       "      <th></th>\n",
       "      <th></th>\n",
       "      <th></th>\n",
       "      <th></th>\n",
       "    </tr>\n",
       "  </thead>\n",
       "  <tbody>\n",
       "    <tr>\n",
       "      <th>1998-01-01</th>\n",
       "      <td>1998</td>\n",
       "      <td>0</td>\n",
       "      <td>Janeiro</td>\n",
       "      <td>Mato Grosso</td>\n",
       "    </tr>\n",
       "    <tr>\n",
       "      <th>1999-01-01</th>\n",
       "      <td>1999</td>\n",
       "      <td>39</td>\n",
       "      <td>Janeiro</td>\n",
       "      <td>Mato Grosso</td>\n",
       "    </tr>\n",
       "    <tr>\n",
       "      <th>2000-01-01</th>\n",
       "      <td>2000</td>\n",
       "      <td>44</td>\n",
       "      <td>Janeiro</td>\n",
       "      <td>Mato Grosso</td>\n",
       "    </tr>\n",
       "    <tr>\n",
       "      <th>2001-01-01</th>\n",
       "      <td>2001</td>\n",
       "      <td>44</td>\n",
       "      <td>Janeiro</td>\n",
       "      <td>Mato Grosso</td>\n",
       "    </tr>\n",
       "    <tr>\n",
       "      <th>2002-01-01</th>\n",
       "      <td>2002</td>\n",
       "      <td>172</td>\n",
       "      <td>Janeiro</td>\n",
       "      <td>Mato Grosso</td>\n",
       "    </tr>\n",
       "    <tr>\n",
       "      <th>...</th>\n",
       "      <td>...</td>\n",
       "      <td>...</td>\n",
       "      <td>...</td>\n",
       "      <td>...</td>\n",
       "    </tr>\n",
       "    <tr>\n",
       "      <th>2016-12-01</th>\n",
       "      <td>2016</td>\n",
       "      <td>399</td>\n",
       "      <td>Dezembro</td>\n",
       "      <td>Mato Grosso</td>\n",
       "    </tr>\n",
       "    <tr>\n",
       "      <th>2017-12-01</th>\n",
       "      <td>2017</td>\n",
       "      <td>249</td>\n",
       "      <td>Dezembro</td>\n",
       "      <td>Mato Grosso</td>\n",
       "    </tr>\n",
       "    <tr>\n",
       "      <th>2018-12-01</th>\n",
       "      <td>2018</td>\n",
       "      <td>471</td>\n",
       "      <td>Dezembro</td>\n",
       "      <td>Mato Grosso</td>\n",
       "    </tr>\n",
       "    <tr>\n",
       "      <th>2019-12-01</th>\n",
       "      <td>2019</td>\n",
       "      <td>666</td>\n",
       "      <td>Dezembro</td>\n",
       "      <td>Mato Grosso</td>\n",
       "    </tr>\n",
       "    <tr>\n",
       "      <th>2020-12-01</th>\n",
       "      <td>2020</td>\n",
       "      <td>612</td>\n",
       "      <td>Dezembro</td>\n",
       "      <td>Mato Grosso</td>\n",
       "    </tr>\n",
       "  </tbody>\n",
       "</table>\n",
       "<p>276 rows × 4 columns</p>\n",
       "</div>"
      ],
      "text/plain": [
       "            year  number     month        state\n",
       "data                                           \n",
       "1998-01-01  1998       0   Janeiro  Mato Grosso\n",
       "1999-01-01  1999      39   Janeiro  Mato Grosso\n",
       "2000-01-01  2000      44   Janeiro  Mato Grosso\n",
       "2001-01-01  2001      44   Janeiro  Mato Grosso\n",
       "2002-01-01  2002     172   Janeiro  Mato Grosso\n",
       "...          ...     ...       ...          ...\n",
       "2016-12-01  2016     399  Dezembro  Mato Grosso\n",
       "2017-12-01  2017     249  Dezembro  Mato Grosso\n",
       "2018-12-01  2018     471  Dezembro  Mato Grosso\n",
       "2019-12-01  2019     666  Dezembro  Mato Grosso\n",
       "2020-12-01  2020     612  Dezembro  Mato Grosso\n",
       "\n",
       "[276 rows x 4 columns]"
      ]
     },
     "execution_count": 103,
     "metadata": {},
     "output_type": "execute_result"
    }
   ],
   "source": [
    "base_MT = base[base['state'] == 'Mato Grosso']\n",
    "base_MT.set_index('data', inplace = True)\n",
    "base_MT"
   ]
  },
  {
   "cell_type": "code",
   "execution_count": 104,
   "metadata": {},
   "outputs": [],
   "source": [
    "from statsmodels.tsa.seasonal import seasonal_decompose\n",
    "import matplotlib.pyplot as plt\n",
    "plt.rcParams['figure.figsize'] = (13,5)"
   ]
  },
  {
   "cell_type": "code",
   "execution_count": 105,
   "metadata": {},
   "outputs": [],
   "source": [
    "result = seasonal_decompose(base_MT['number'].asfreq('MS'), model='additive')"
   ]
  },
  {
   "cell_type": "code",
   "execution_count": 106,
   "metadata": {},
   "outputs": [
    {
     "data": {
      "text/plain": [
       "<AxesSubplot:title={'center':'Trend'}, xlabel='data'>"
      ]
     },
     "execution_count": 106,
     "metadata": {},
     "output_type": "execute_result"
    },
    {
     "data": {
      "image/png": "[encoded data removed]",
      "text/plain": [
       "<Figure size 936x360 with 1 Axes>"
      ]
     },
     "metadata": {
      "needs_background": "light"
     },
     "output_type": "display_data"
    }
   ],
   "source": [
    "result.trend.plot(title='Trend')"
   ]
  },
  {
   "cell_type": "code",
   "execution_count": 101,
   "metadata": {},
   "outputs": [
    {
     "data": {
      "text/plain": [
       "<AxesSubplot:title={'center':'Seasonality'}, xlabel='data'>"
      ]
     },
     "execution_count": 101,
     "metadata": {},
     "output_type": "execute_result"
    },
    {
     "data": {
      "image/png": "[encoded data removed]",
      "text/plain": [
       "<Figure size 936x360 with 1 Axes>"
      ]
     },
     "metadata": {
      "needs_background": "light"
     },
     "output_type": "display_data"
    }
   ],
   "source": [
    "result.seasonal.plot(title='Seasonality')"
   ]
  },
  {
   "cell_type": "code",
   "execution_count": 102,
   "metadata": {},
   "outputs": [
    {
     "data": {
      "text/plain": [
       "<AxesSubplot:title={'center':'resid'}, xlabel='data'>"
      ]
     },
     "execution_count": 102,
     "metadata": {},
     "output_type": "execute_result"
    },
    {
     "data": {
      "image/png": "[encoded data removed]",
      "text/plain": [
       "<Figure size 936x360 with 1 Axes>"
      ]
     },
     "metadata": {
      "needs_background": "light"
     },
     "output_type": "display_data"
    }
   ],
   "source": [
    "result.resid.plot(title='resid')"
   ]
  },
  {
   "cell_type": "code",
   "execution_count": null,
   "metadata": {},
   "outputs": [],
   "source": []
  }
 ],
 "metadata": {
  "kernelspec": {
   "display_name": "Python 3",
   "language": "python",
   "name": "python3"
  },
  "language_info": {
   "codemirror_mode": {
    "name": "ipython",
    "version": 3
   },
   "file_extension": ".py",
   "mimetype": "text/x-python",
   "name": "python",
   "nbconvert_exporter": "python",
   "pygments_lexer": "ipython3",
   "version": "3.8.5"
  }
 },
 "nbformat": 4,
 "nbformat_minor": 4
}
