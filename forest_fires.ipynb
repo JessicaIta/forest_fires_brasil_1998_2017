{
 "cells": [
  {
   "cell_type": "markdown",
   "metadata": {},
   "source": [
    "# Focos de Calor - Incêndios Florestais de 1998 - 2017\n",
    "\n",
    "Base extraída do site de dados públicos do governo https://dados.gov.br/dataset/sistema-nacional-de-informacoes-florestais-snif"
   ]
  },
  {
   "cell_type": "code",
   "execution_count": 113,
   "metadata": {},
   "outputs": [
    {
     "data": {
      "text/html": [
       "        <script type=\"text/javascript\">\n",
       "        window.PlotlyConfig = {MathJaxConfig: 'local'};\n",
       "        if (window.MathJax) {MathJax.Hub.Config({SVG: {font: \"STIX-Web\"}});}\n",
       "        if (typeof require !== 'undefined') {\n",
       "        require.undef(\"plotly\");\n",
       "        requirejs.config({\n",
       "            paths: {\n",
       "                'plotly': ['https://cdn.plot.ly/plotly-latest.min']\n",
       "            }\n",
       "        });\n",
       "        require(['plotly'], function(Plotly) {\n",
       "            window._Plotly = Plotly;\n",
       "        });\n",
       "        }\n",
       "        </script>\n",
       "        "
      ]
     },
     "metadata": {},
     "output_type": "display_data"
    }
   ],
   "source": [
    "import numpy as np\n",
    "import pandas as pd\n",
    "\n",
    "import plotly.offline as py\n",
    "import plotly.graph_objs as go\n",
    "\n",
    "#Função para mostrar o gráfico no notebook\n",
    "py.init_notebook_mode(connected=True)"
   ]
  },
  {
   "cell_type": "code",
   "execution_count": 114,
   "metadata": {},
   "outputs": [
    {
     "data": {
      "text/html": [
       "<div>\n",
       "<style scoped>\n",
       "    .dataframe tbody tr th:only-of-type {\n",
       "        vertical-align: middle;\n",
       "    }\n",
       "\n",
       "    .dataframe tbody tr th {\n",
       "        vertical-align: top;\n",
       "    }\n",
       "\n",
       "    .dataframe thead th {\n",
       "        text-align: right;\n",
       "    }\n",
       "</style>\n",
       "<table border=\"1\" class=\"dataframe\">\n",
       "  <thead>\n",
       "    <tr style=\"text-align: right;\">\n",
       "      <th></th>\n",
       "      <th>year</th>\n",
       "      <th>state</th>\n",
       "      <th>month</th>\n",
       "      <th>number</th>\n",
       "      <th>date</th>\n",
       "    </tr>\n",
       "  </thead>\n",
       "  <tbody>\n",
       "    <tr>\n",
       "      <th>0</th>\n",
       "      <td>1998</td>\n",
       "      <td>Acre</td>\n",
       "      <td>Janeiro</td>\n",
       "      <td>0</td>\n",
       "      <td>1998-01-01</td>\n",
       "    </tr>\n",
       "    <tr>\n",
       "      <th>1</th>\n",
       "      <td>1999</td>\n",
       "      <td>Acre</td>\n",
       "      <td>Janeiro</td>\n",
       "      <td>0</td>\n",
       "      <td>1999-01-01</td>\n",
       "    </tr>\n",
       "    <tr>\n",
       "      <th>2</th>\n",
       "      <td>2000</td>\n",
       "      <td>Acre</td>\n",
       "      <td>Janeiro</td>\n",
       "      <td>0</td>\n",
       "      <td>2000-01-01</td>\n",
       "    </tr>\n",
       "    <tr>\n",
       "      <th>3</th>\n",
       "      <td>2001</td>\n",
       "      <td>Acre</td>\n",
       "      <td>Janeiro</td>\n",
       "      <td>0</td>\n",
       "      <td>2001-01-01</td>\n",
       "    </tr>\n",
       "    <tr>\n",
       "      <th>4</th>\n",
       "      <td>2002</td>\n",
       "      <td>Acre</td>\n",
       "      <td>Janeiro</td>\n",
       "      <td>0</td>\n",
       "      <td>2002-01-01</td>\n",
       "    </tr>\n",
       "    <tr>\n",
       "      <th>...</th>\n",
       "      <td>...</td>\n",
       "      <td>...</td>\n",
       "      <td>...</td>\n",
       "      <td>...</td>\n",
       "      <td>...</td>\n",
       "    </tr>\n",
       "    <tr>\n",
       "      <th>6449</th>\n",
       "      <td>2012</td>\n",
       "      <td>Tocantins</td>\n",
       "      <td>Dezembro</td>\n",
       "      <td>128</td>\n",
       "      <td>2012-01-01</td>\n",
       "    </tr>\n",
       "    <tr>\n",
       "      <th>6450</th>\n",
       "      <td>2013</td>\n",
       "      <td>Tocantins</td>\n",
       "      <td>Dezembro</td>\n",
       "      <td>85</td>\n",
       "      <td>2013-01-01</td>\n",
       "    </tr>\n",
       "    <tr>\n",
       "      <th>6451</th>\n",
       "      <td>2014</td>\n",
       "      <td>Tocantins</td>\n",
       "      <td>Dezembro</td>\n",
       "      <td>223</td>\n",
       "      <td>2014-01-01</td>\n",
       "    </tr>\n",
       "    <tr>\n",
       "      <th>6452</th>\n",
       "      <td>2015</td>\n",
       "      <td>Tocantins</td>\n",
       "      <td>Dezembro</td>\n",
       "      <td>373</td>\n",
       "      <td>2015-01-01</td>\n",
       "    </tr>\n",
       "    <tr>\n",
       "      <th>6453</th>\n",
       "      <td>2016</td>\n",
       "      <td>Tocantins</td>\n",
       "      <td>Dezembro</td>\n",
       "      <td>119</td>\n",
       "      <td>2016-01-01</td>\n",
       "    </tr>\n",
       "  </tbody>\n",
       "</table>\n",
       "<p>6454 rows × 5 columns</p>\n",
       "</div>"
      ],
      "text/plain": [
       "      year      state     month  number       date\n",
       "0     1998       Acre   Janeiro       0 1998-01-01\n",
       "1     1999       Acre   Janeiro       0 1999-01-01\n",
       "2     2000       Acre   Janeiro       0 2000-01-01\n",
       "3     2001       Acre   Janeiro       0 2001-01-01\n",
       "4     2002       Acre   Janeiro       0 2002-01-01\n",
       "...    ...        ...       ...     ...        ...\n",
       "6449  2012  Tocantins  Dezembro     128 2012-01-01\n",
       "6450  2013  Tocantins  Dezembro      85 2013-01-01\n",
       "6451  2014  Tocantins  Dezembro     223 2014-01-01\n",
       "6452  2015  Tocantins  Dezembro     373 2015-01-01\n",
       "6453  2016  Tocantins  Dezembro     119 2016-01-01\n",
       "\n",
       "[6454 rows x 5 columns]"
      ]
     },
     "execution_count": 114,
     "metadata": {},
     "output_type": "execute_result"
    }
   ],
   "source": [
    "archive = 'rf_incendiosflorestais_focoscalor_estados_1998-2017.csv'\n",
    "\n",
    "base = pd.read_csv(archive)\n",
    "base['date'] = pd.to_datetime(base.date)\n",
    "base"
   ]
  },
  {
   "cell_type": "code",
   "execution_count": 115,
   "metadata": {},
   "outputs": [
    {
     "data": {
      "text/html": [
       "<div>\n",
       "<style scoped>\n",
       "    .dataframe tbody tr th:only-of-type {\n",
       "        vertical-align: middle;\n",
       "    }\n",
       "\n",
       "    .dataframe tbody tr th {\n",
       "        vertical-align: top;\n",
       "    }\n",
       "\n",
       "    .dataframe thead th {\n",
       "        text-align: right;\n",
       "    }\n",
       "</style>\n",
       "<table border=\"1\" class=\"dataframe\">\n",
       "  <thead>\n",
       "    <tr style=\"text-align: right;\">\n",
       "      <th></th>\n",
       "      <th>year</th>\n",
       "      <th>state</th>\n",
       "      <th>month</th>\n",
       "      <th>number</th>\n",
       "      <th>date</th>\n",
       "    </tr>\n",
       "  </thead>\n",
       "  <tbody>\n",
       "    <tr>\n",
       "      <th>6449</th>\n",
       "      <td>2012</td>\n",
       "      <td>Tocantins</td>\n",
       "      <td>Dezembro</td>\n",
       "      <td>128</td>\n",
       "      <td>2012-01-01</td>\n",
       "    </tr>\n",
       "    <tr>\n",
       "      <th>6450</th>\n",
       "      <td>2013</td>\n",
       "      <td>Tocantins</td>\n",
       "      <td>Dezembro</td>\n",
       "      <td>85</td>\n",
       "      <td>2013-01-01</td>\n",
       "    </tr>\n",
       "    <tr>\n",
       "      <th>6451</th>\n",
       "      <td>2014</td>\n",
       "      <td>Tocantins</td>\n",
       "      <td>Dezembro</td>\n",
       "      <td>223</td>\n",
       "      <td>2014-01-01</td>\n",
       "    </tr>\n",
       "    <tr>\n",
       "      <th>6452</th>\n",
       "      <td>2015</td>\n",
       "      <td>Tocantins</td>\n",
       "      <td>Dezembro</td>\n",
       "      <td>373</td>\n",
       "      <td>2015-01-01</td>\n",
       "    </tr>\n",
       "    <tr>\n",
       "      <th>6453</th>\n",
       "      <td>2016</td>\n",
       "      <td>Tocantins</td>\n",
       "      <td>Dezembro</td>\n",
       "      <td>119</td>\n",
       "      <td>2016-01-01</td>\n",
       "    </tr>\n",
       "  </tbody>\n",
       "</table>\n",
       "</div>"
      ],
      "text/plain": [
       "      year      state     month  number       date\n",
       "6449  2012  Tocantins  Dezembro     128 2012-01-01\n",
       "6450  2013  Tocantins  Dezembro      85 2013-01-01\n",
       "6451  2014  Tocantins  Dezembro     223 2014-01-01\n",
       "6452  2015  Tocantins  Dezembro     373 2015-01-01\n",
       "6453  2016  Tocantins  Dezembro     119 2016-01-01"
      ]
     },
     "execution_count": 115,
     "metadata": {},
     "output_type": "execute_result"
    }
   ],
   "source": [
    "base.tail(5)"
   ]
  },
  {
   "cell_type": "code",
   "execution_count": 116,
   "metadata": {},
   "outputs": [
    {
     "name": "stdout",
     "output_type": "stream",
     "text": [
      "<class 'pandas.core.frame.DataFrame'>\n",
      "RangeIndex: 6454 entries, 0 to 6453\n",
      "Data columns (total 5 columns):\n",
      " #   Column  Non-Null Count  Dtype         \n",
      "---  ------  --------------  -----         \n",
      " 0   year    6454 non-null   int64         \n",
      " 1   state   6454 non-null   object        \n",
      " 2   month   6454 non-null   object        \n",
      " 3   number  6454 non-null   int64         \n",
      " 4   date    6454 non-null   datetime64[ns]\n",
      "dtypes: datetime64[ns](1), int64(2), object(2)\n",
      "memory usage: 252.2+ KB\n"
     ]
    }
   ],
   "source": [
    "# Informações sobre oa dados\n",
    "base.info()"
   ]
  },
  {
   "cell_type": "code",
   "execution_count": 117,
   "metadata": {},
   "outputs": [
    {
     "data": {
      "text/html": [
       "<div>\n",
       "<style scoped>\n",
       "    .dataframe tbody tr th:only-of-type {\n",
       "        vertical-align: middle;\n",
       "    }\n",
       "\n",
       "    .dataframe tbody tr th {\n",
       "        vertical-align: top;\n",
       "    }\n",
       "\n",
       "    .dataframe thead th {\n",
       "        text-align: right;\n",
       "    }\n",
       "</style>\n",
       "<table border=\"1\" class=\"dataframe\">\n",
       "  <thead>\n",
       "    <tr style=\"text-align: right;\">\n",
       "      <th></th>\n",
       "      <th>year</th>\n",
       "      <th>number</th>\n",
       "    </tr>\n",
       "  </thead>\n",
       "  <tbody>\n",
       "    <tr>\n",
       "      <th>count</th>\n",
       "      <td>6454.000000</td>\n",
       "      <td>6454.000000</td>\n",
       "    </tr>\n",
       "    <tr>\n",
       "      <th>mean</th>\n",
       "      <td>2007.461729</td>\n",
       "      <td>567.559653</td>\n",
       "    </tr>\n",
       "    <tr>\n",
       "      <th>std</th>\n",
       "      <td>5.746654</td>\n",
       "      <td>1648.372747</td>\n",
       "    </tr>\n",
       "    <tr>\n",
       "      <th>min</th>\n",
       "      <td>1998.000000</td>\n",
       "      <td>0.000000</td>\n",
       "    </tr>\n",
       "    <tr>\n",
       "      <th>25%</th>\n",
       "      <td>2002.000000</td>\n",
       "      <td>9.000000</td>\n",
       "    </tr>\n",
       "    <tr>\n",
       "      <th>50%</th>\n",
       "      <td>2007.000000</td>\n",
       "      <td>55.000000</td>\n",
       "    </tr>\n",
       "    <tr>\n",
       "      <th>75%</th>\n",
       "      <td>2012.000000</td>\n",
       "      <td>284.000000</td>\n",
       "    </tr>\n",
       "    <tr>\n",
       "      <th>max</th>\n",
       "      <td>2017.000000</td>\n",
       "      <td>25963.000000</td>\n",
       "    </tr>\n",
       "  </tbody>\n",
       "</table>\n",
       "</div>"
      ],
      "text/plain": [
       "              year        number\n",
       "count  6454.000000   6454.000000\n",
       "mean   2007.461729    567.559653\n",
       "std       5.746654   1648.372747\n",
       "min    1998.000000      0.000000\n",
       "25%    2002.000000      9.000000\n",
       "50%    2007.000000     55.000000\n",
       "75%    2012.000000    284.000000\n",
       "max    2017.000000  25963.000000"
      ]
     },
     "execution_count": 117,
     "metadata": {},
     "output_type": "execute_result"
    }
   ],
   "source": [
    "base.describe()"
   ]
  },
  {
   "cell_type": "code",
   "execution_count": 118,
   "metadata": {},
   "outputs": [],
   "source": [
    "# Função para Série Temporal\n",
    "\n",
    "def plot_forest_fires_timeline(df, title_graph):\n",
    "    \n",
    "    dataTemp = df.groupby(['date']).agg({'number': 'sum'}).reset_index()\n",
    "    \n",
    "    dataTemp['3-years-SMA'] = dataTemp['number'].rolling(window=3).mean()\n",
    "    \n",
    "    graph = go.Scatter(x = dataTemp['date'],\n",
    "                    y = dataTemp['number'],\n",
    "                    text = dataTemp['number'],\n",
    "                    mode = 'markers+lines+text',\n",
    "                    name = 'Focos de Calor',\n",
    "                    textposition= 'top center'\n",
    "                    )\n",
    "    \n",
    "    graph_sma = go.Scatter(x = dataTemp['date'],\n",
    "                    y = dataTemp['3-years-SMA'],\n",
    "                    mode = 'markers+lines',\n",
    "                    name = 'Média Móvel do Triênio'\n",
    "                    )\n",
    "    \n",
    "    data = [graph, graph_sma]\n",
    "\n",
    "    layout = go.Layout(title = title_graph,\n",
    "                      xaxis = {'title': 'Ano'},\n",
    "                      yaxis = {'title': 'Número de Focos de Calor'},\n",
    "                      height=450, \n",
    "                      width=1200,\n",
    "                      legend=dict(\n",
    "                        yanchor=\"top\",\n",
    "                        y=0.95,\n",
    "                        xanchor=\"left\",\n",
    "                        x=0.01,\n",
    "                        bgcolor='rgba(255, 255, 255, 0)'\n",
    "                      ))\n",
    "            \n",
    "    fig = go.Figure(data=data, layout=layout)\n",
    "    \n",
    "    return py.iplot(fig)\n",
    "    "
   ]
  },
  {
   "cell_type": "code",
   "execution_count": 119,
   "metadata": {},
   "outputs": [
    {
     "data": {
      "application/vnd.plotly.v1+json": {
       "config": {
        "linkText": "Export to plot.ly",
        "plotlyServerURL": "https://plot.ly",
        "showLink": false
       },
       "data": [
        {
         "mode": "markers+lines+text",
         "name": "Focos de Calor",
         "text": [
          123881,
          134596,
          101528,
          145567,
          235792,
          235242,
          270384,
          240764,
          136890,
          231252,
          123249,
          123211,
          249274,
          133080,
          193791,
          115184,
          183660,
          236305,
          188295,
          261085
         ],
         "textposition": "top center",
         "type": "scatter",
         "x": [
          "1998-01-01T00:00:00",
          "1999-01-01T00:00:00",
          "2000-01-01T00:00:00",
          "2001-01-01T00:00:00",
          "2002-01-01T00:00:00",
          "2003-01-01T00:00:00",
          "2004-01-01T00:00:00",
          "2005-01-01T00:00:00",
          "2006-01-01T00:00:00",
          "2007-01-01T00:00:00",
          "2008-01-01T00:00:00",
          "2009-01-01T00:00:00",
          "2010-01-01T00:00:00",
          "2011-01-01T00:00:00",
          "2012-01-01T00:00:00",
          "2013-01-01T00:00:00",
          "2014-01-01T00:00:00",
          "2015-01-01T00:00:00",
          "2016-01-01T00:00:00",
          "2017-01-01T00:00:00"
         ],
         "y": [
          123881,
          134596,
          101528,
          145567,
          235792,
          235242,
          270384,
          240764,
          136890,
          231252,
          123249,
          123211,
          249274,
          133080,
          193791,
          115184,
          183660,
          236305,
          188295,
          261085
         ]
        },
        {
         "mode": "markers+lines",
         "name": "Média Móvel do Triênio",
         "type": "scatter",
         "x": [
          "1998-01-01T00:00:00",
          "1999-01-01T00:00:00",
          "2000-01-01T00:00:00",
          "2001-01-01T00:00:00",
          "2002-01-01T00:00:00",
          "2003-01-01T00:00:00",
          "2004-01-01T00:00:00",
          "2005-01-01T00:00:00",
          "2006-01-01T00:00:00",
          "2007-01-01T00:00:00",
          "2008-01-01T00:00:00",
          "2009-01-01T00:00:00",
          "2010-01-01T00:00:00",
          "2011-01-01T00:00:00",
          "2012-01-01T00:00:00",
          "2013-01-01T00:00:00",
          "2014-01-01T00:00:00",
          "2015-01-01T00:00:00",
          "2016-01-01T00:00:00",
          "2017-01-01T00:00:00"
         ],
         "y": [
          null,
          null,
          120001.66666666667,
          127230.33333333333,
          160962.33333333334,
          205533.66666666666,
          247139.33333333334,
          248796.66666666666,
          216012.66666666666,
          202968.66666666666,
          163797,
          159237.33333333334,
          165244.66666666666,
          168521.66666666666,
          192048.33333333334,
          147351.66666666666,
          164211.66666666666,
          178383,
          202753.33333333334,
          228561.66666666666
         ]
        }
       ],
       "layout": {
        "height": 450,
        "legend": {
         "bgcolor": "rgba(255, 255, 255, 0)",
         "x": 0.01,
         "xanchor": "left",
         "y": 0.95,
         "yanchor": "top"
        },
        "template": {
         "data": {
          "bar": [
           {
            "error_x": {
             "color": "#2a3f5f"
            },
            "error_y": {
             "color": "#2a3f5f"
            },
            "marker": {
             "line": {
              "color": "#E5ECF6",
              "width": 0.5
             }
            },
            "type": "bar"
           }
          ],
          "barpolar": [
           {
            "marker": {
             "line": {
              "color": "#E5ECF6",
              "width": 0.5
             }
            },
            "type": "barpolar"
           }
          ],
          "carpet": [
           {
            "aaxis": {
             "endlinecolor": "#2a3f5f",
             "gridcolor": "white",
             "linecolor": "white",
             "minorgridcolor": "white",
             "startlinecolor": "#2a3f5f"
            },
            "baxis": {
             "endlinecolor": "#2a3f5f",
             "gridcolor": "white",
             "linecolor": "white",
             "minorgridcolor": "white",
             "startlinecolor": "#2a3f5f"
            },
            "type": "carpet"
           }
          ],
          "choropleth": [
           {
            "colorbar": {
             "outlinewidth": 0,
             "ticks": ""
            },
            "type": "choropleth"
           }
          ],
          "contour": [
           {
            "colorbar": {
             "outlinewidth": 0,
             "ticks": ""
            },
            "colorscale": [
             [
              0,
              "#0d0887"
             ],
             [
              0.1111111111111111,
              "#46039f"
             ],
             [
              0.2222222222222222,
              "#7201a8"
             ],
             [
              0.3333333333333333,
              "#9c179e"
             ],
             [
              0.4444444444444444,
              "#bd3786"
             ],
             [
              0.5555555555555556,
              "#d8576b"
             ],
             [
              0.6666666666666666,
              "#ed7953"
             ],
             [
              0.7777777777777778,
              "#fb9f3a"
             ],
             [
              0.8888888888888888,
              "#fdca26"
             ],
             [
              1,
              "#f0f921"
             ]
            ],
            "type": "contour"
           }
          ],
          "contourcarpet": [
           {
            "colorbar": {
             "outlinewidth": 0,
             "ticks": ""
            },
            "type": "contourcarpet"
           }
          ],
          "heatmap": [
           {
            "colorbar": {
             "outlinewidth": 0,
             "ticks": ""
            },
            "colorscale": [
             [
              0,
              "#0d0887"
             ],
             [
              0.1111111111111111,
              "#46039f"
             ],
             [
              0.2222222222222222,
              "#7201a8"
             ],
             [
              0.3333333333333333,
              "#9c179e"
             ],
             [
              0.4444444444444444,
              "#bd3786"
             ],
             [
              0.5555555555555556,
              "#d8576b"
             ],
             [
              0.6666666666666666,
              "#ed7953"
             ],
             [
              0.7777777777777778,
              "#fb9f3a"
             ],
             [
              0.8888888888888888,
              "#fdca26"
             ],
             [
              1,
              "#f0f921"
             ]
            ],
            "type": "heatmap"
           }
          ],
          "heatmapgl": [
           {
            "colorbar": {
             "outlinewidth": 0,
             "ticks": ""
            },
            "colorscale": [
             [
              0,
              "#0d0887"
             ],
             [
              0.1111111111111111,
              "#46039f"
             ],
             [
              0.2222222222222222,
              "#7201a8"
             ],
             [
              0.3333333333333333,
              "#9c179e"
             ],
             [
              0.4444444444444444,
              "#bd3786"
             ],
             [
              0.5555555555555556,
              "#d8576b"
             ],
             [
              0.6666666666666666,
              "#ed7953"
             ],
             [
              0.7777777777777778,
              "#fb9f3a"
             ],
             [
              0.8888888888888888,
              "#fdca26"
             ],
             [
              1,
              "#f0f921"
             ]
            ],
            "type": "heatmapgl"
           }
          ],
          "histogram": [
           {
            "marker": {
             "colorbar": {
              "outlinewidth": 0,
              "ticks": ""
             }
            },
            "type": "histogram"
           }
          ],
          "histogram2d": [
           {
            "colorbar": {
             "outlinewidth": 0,
             "ticks": ""
            },
            "colorscale": [
             [
              0,
              "#0d0887"
             ],
             [
              0.1111111111111111,
              "#46039f"
             ],
             [
              0.2222222222222222,
              "#7201a8"
             ],
             [
              0.3333333333333333,
              "#9c179e"
             ],
             [
              0.4444444444444444,
              "#bd3786"
             ],
             [
              0.5555555555555556,
              "#d8576b"
             ],
             [
              0.6666666666666666,
              "#ed7953"
             ],
             [
              0.7777777777777778,
              "#fb9f3a"
             ],
             [
              0.8888888888888888,
              "#fdca26"
             ],
             [
              1,
              "#f0f921"
             ]
            ],
            "type": "histogram2d"
           }
          ],
          "histogram2dcontour": [
           {
            "colorbar": {
             "outlinewidth": 0,
             "ticks": ""
            },
            "colorscale": [
             [
              0,
              "#0d0887"
             ],
             [
              0.1111111111111111,
              "#46039f"
             ],
             [
              0.2222222222222222,
              "#7201a8"
             ],
             [
              0.3333333333333333,
              "#9c179e"
             ],
             [
              0.4444444444444444,
              "#bd3786"
             ],
             [
              0.5555555555555556,
              "#d8576b"
             ],
             [
              0.6666666666666666,
              "#ed7953"
             ],
             [
              0.7777777777777778,
              "#fb9f3a"
             ],
             [
              0.8888888888888888,
              "#fdca26"
             ],
             [
              1,
              "#f0f921"
             ]
            ],
            "type": "histogram2dcontour"
           }
          ],
          "mesh3d": [
           {
            "colorbar": {
             "outlinewidth": 0,
             "ticks": ""
            },
            "type": "mesh3d"
           }
          ],
          "parcoords": [
           {
            "line": {
             "colorbar": {
              "outlinewidth": 0,
              "ticks": ""
             }
            },
            "type": "parcoords"
           }
          ],
          "pie": [
           {
            "automargin": true,
            "type": "pie"
           }
          ],
          "scatter": [
           {
            "marker": {
             "colorbar": {
              "outlinewidth": 0,
              "ticks": ""
             }
            },
            "type": "scatter"
           }
          ],
          "scatter3d": [
           {
            "line": {
             "colorbar": {
              "outlinewidth": 0,
              "ticks": ""
             }
            },
            "marker": {
             "colorbar": {
              "outlinewidth": 0,
              "ticks": ""
             }
            },
            "type": "scatter3d"
           }
          ],
          "scattercarpet": [
           {
            "marker": {
             "colorbar": {
              "outlinewidth": 0,
              "ticks": ""
             }
            },
            "type": "scattercarpet"
           }
          ],
          "scattergeo": [
           {
            "marker": {
             "colorbar": {
              "outlinewidth": 0,
              "ticks": ""
             }
            },
            "type": "scattergeo"
           }
          ],
          "scattergl": [
           {
            "marker": {
             "colorbar": {
              "outlinewidth": 0,
              "ticks": ""
             }
            },
            "type": "scattergl"
           }
          ],
          "scattermapbox": [
           {
            "marker": {
             "colorbar": {
              "outlinewidth": 0,
              "ticks": ""
             }
            },
            "type": "scattermapbox"
           }
          ],
          "scatterpolar": [
           {
            "marker": {
             "colorbar": {
              "outlinewidth": 0,
              "ticks": ""
             }
            },
            "type": "scatterpolar"
           }
          ],
          "scatterpolargl": [
           {
            "marker": {
             "colorbar": {
              "outlinewidth": 0,
              "ticks": ""
             }
            },
            "type": "scatterpolargl"
           }
          ],
          "scatterternary": [
           {
            "marker": {
             "colorbar": {
              "outlinewidth": 0,
              "ticks": ""
             }
            },
            "type": "scatterternary"
           }
          ],
          "surface": [
           {
            "colorbar": {
             "outlinewidth": 0,
             "ticks": ""
            },
            "colorscale": [
             [
              0,
              "#0d0887"
             ],
             [
              0.1111111111111111,
              "#46039f"
             ],
             [
              0.2222222222222222,
              "#7201a8"
             ],
             [
              0.3333333333333333,
              "#9c179e"
             ],
             [
              0.4444444444444444,
              "#bd3786"
             ],
             [
              0.5555555555555556,
              "#d8576b"
             ],
             [
              0.6666666666666666,
              "#ed7953"
             ],
             [
              0.7777777777777778,
              "#fb9f3a"
             ],
             [
              0.8888888888888888,
              "#fdca26"
             ],
             [
              1,
              "#f0f921"
             ]
            ],
            "type": "surface"
           }
          ],
          "table": [
           {
            "cells": {
             "fill": {
              "color": "#EBF0F8"
             },
             "line": {
              "color": "white"
             }
            },
            "header": {
             "fill": {
              "color": "#C8D4E3"
             },
             "line": {
              "color": "white"
             }
            },
            "type": "table"
           }
          ]
         },
         "layout": {
          "annotationdefaults": {
           "arrowcolor": "#2a3f5f",
           "arrowhead": 0,
           "arrowwidth": 1
          },
          "coloraxis": {
           "colorbar": {
            "outlinewidth": 0,
            "ticks": ""
           }
          },
          "colorscale": {
           "diverging": [
            [
             0,
             "#8e0152"
            ],
            [
             0.1,
             "#c51b7d"
            ],
            [
             0.2,
             "#de77ae"
            ],
            [
             0.3,
             "#f1b6da"
            ],
            [
             0.4,
             "#fde0ef"
            ],
            [
             0.5,
             "#f7f7f7"
            ],
            [
             0.6,
             "#e6f5d0"
            ],
            [
             0.7,
             "#b8e186"
            ],
            [
             0.8,
             "#7fbc41"
            ],
            [
             0.9,
             "#4d9221"
            ],
            [
             1,
             "#276419"
            ]
           ],
           "sequential": [
            [
             0,
             "#0d0887"
            ],
            [
             0.1111111111111111,
             "#46039f"
            ],
            [
             0.2222222222222222,
             "#7201a8"
            ],
            [
             0.3333333333333333,
             "#9c179e"
            ],
            [
             0.4444444444444444,
             "#bd3786"
            ],
            [
             0.5555555555555556,
             "#d8576b"
            ],
            [
             0.6666666666666666,
             "#ed7953"
            ],
            [
             0.7777777777777778,
             "#fb9f3a"
            ],
            [
             0.8888888888888888,
             "#fdca26"
            ],
            [
             1,
             "#f0f921"
            ]
           ],
           "sequentialminus": [
            [
             0,
             "#0d0887"
            ],
            [
             0.1111111111111111,
             "#46039f"
            ],
            [
             0.2222222222222222,
             "#7201a8"
            ],
            [
             0.3333333333333333,
             "#9c179e"
            ],
            [
             0.4444444444444444,
             "#bd3786"
            ],
            [
             0.5555555555555556,
             "#d8576b"
            ],
            [
             0.6666666666666666,
             "#ed7953"
            ],
            [
             0.7777777777777778,
             "#fb9f3a"
            ],
            [
             0.8888888888888888,
             "#fdca26"
            ],
            [
             1,
             "#f0f921"
            ]
           ]
          },
          "colorway": [
           "#636efa",
           "#EF553B",
           "#00cc96",
           "#ab63fa",
           "#FFA15A",
           "#19d3f3",
           "#FF6692",
           "#B6E880",
           "#FF97FF",
           "#FECB52"
          ],
          "font": {
           "color": "#2a3f5f"
          },
          "geo": {
           "bgcolor": "white",
           "lakecolor": "white",
           "landcolor": "#E5ECF6",
           "showlakes": true,
           "showland": true,
           "subunitcolor": "white"
          },
          "hoverlabel": {
           "align": "left"
          },
          "hovermode": "closest",
          "mapbox": {
           "style": "light"
          },
          "paper_bgcolor": "white",
          "plot_bgcolor": "#E5ECF6",
          "polar": {
           "angularaxis": {
            "gridcolor": "white",
            "linecolor": "white",
            "ticks": ""
           },
           "bgcolor": "#E5ECF6",
           "radialaxis": {
            "gridcolor": "white",
            "linecolor": "white",
            "ticks": ""
           }
          },
          "scene": {
           "xaxis": {
            "backgroundcolor": "#E5ECF6",
            "gridcolor": "white",
            "gridwidth": 2,
            "linecolor": "white",
            "showbackground": true,
            "ticks": "",
            "zerolinecolor": "white"
           },
           "yaxis": {
            "backgroundcolor": "#E5ECF6",
            "gridcolor": "white",
            "gridwidth": 2,
            "linecolor": "white",
            "showbackground": true,
            "ticks": "",
            "zerolinecolor": "white"
           },
           "zaxis": {
            "backgroundcolor": "#E5ECF6",
            "gridcolor": "white",
            "gridwidth": 2,
            "linecolor": "white",
            "showbackground": true,
            "ticks": "",
            "zerolinecolor": "white"
           }
          },
          "shapedefaults": {
           "line": {
            "color": "#2a3f5f"
           }
          },
          "ternary": {
           "aaxis": {
            "gridcolor": "white",
            "linecolor": "white",
            "ticks": ""
           },
           "baxis": {
            "gridcolor": "white",
            "linecolor": "white",
            "ticks": ""
           },
           "bgcolor": "#E5ECF6",
           "caxis": {
            "gridcolor": "white",
            "linecolor": "white",
            "ticks": ""
           }
          },
          "title": {
           "x": 0.05
          },
          "xaxis": {
           "automargin": true,
           "gridcolor": "white",
           "linecolor": "white",
           "ticks": "",
           "title": {
            "standoff": 15
           },
           "zerolinecolor": "white",
           "zerolinewidth": 2
          },
          "yaxis": {
           "automargin": true,
           "gridcolor": "white",
           "linecolor": "white",
           "ticks": "",
           "title": {
            "standoff": 15
           },
           "zerolinecolor": "white",
           "zerolinewidth": 2
          }
         }
        },
        "title": {
         "text": "Série Temporal dos Focos de Calor"
        },
        "width": 1200,
        "xaxis": {
         "title": {
          "text": "Ano"
         }
        },
        "yaxis": {
         "title": {
          "text": "Número de Focos de Calor"
         }
        }
       }
      },
      "text/html": [
       "<div>                            <div id=\"03ec8d02-a068-4bcb-91cf-be82404fe6cf\" class=\"plotly-graph-div\" style=\"height:450px; width:1200px;\"></div>            <script type=\"text/javascript\">                require([\"plotly\"], function(Plotly) {                    window.PLOTLYENV=window.PLOTLYENV || {};                                    if (document.getElementById(\"03ec8d02-a068-4bcb-91cf-be82404fe6cf\")) {                    Plotly.newPlot(                        \"03ec8d02-a068-4bcb-91cf-be82404fe6cf\",                        [{\"mode\": \"markers+lines+text\", \"name\": \"Focos de Calor\", \"text\": [123881.0, 134596.0, 101528.0, 145567.0, 235792.0, 235242.0, 270384.0, 240764.0, 136890.0, 231252.0, 123249.0, 123211.0, 249274.0, 133080.0, 193791.0, 115184.0, 183660.0, 236305.0, 188295.0, 261085.0], \"textposition\": \"top center\", \"type\": \"scatter\", \"x\": [\"1998-01-01T00:00:00\", \"1999-01-01T00:00:00\", \"2000-01-01T00:00:00\", \"2001-01-01T00:00:00\", \"2002-01-01T00:00:00\", \"2003-01-01T00:00:00\", \"2004-01-01T00:00:00\", \"2005-01-01T00:00:00\", \"2006-01-01T00:00:00\", \"2007-01-01T00:00:00\", \"2008-01-01T00:00:00\", \"2009-01-01T00:00:00\", \"2010-01-01T00:00:00\", \"2011-01-01T00:00:00\", \"2012-01-01T00:00:00\", \"2013-01-01T00:00:00\", \"2014-01-01T00:00:00\", \"2015-01-01T00:00:00\", \"2016-01-01T00:00:00\", \"2017-01-01T00:00:00\"], \"y\": [123881, 134596, 101528, 145567, 235792, 235242, 270384, 240764, 136890, 231252, 123249, 123211, 249274, 133080, 193791, 115184, 183660, 236305, 188295, 261085]}, {\"mode\": \"markers+lines\", \"name\": \"M\\u00e9dia M\\u00f3vel do Tri\\u00eanio\", \"type\": \"scatter\", \"x\": [\"1998-01-01T00:00:00\", \"1999-01-01T00:00:00\", \"2000-01-01T00:00:00\", \"2001-01-01T00:00:00\", \"2002-01-01T00:00:00\", \"2003-01-01T00:00:00\", \"2004-01-01T00:00:00\", \"2005-01-01T00:00:00\", \"2006-01-01T00:00:00\", \"2007-01-01T00:00:00\", \"2008-01-01T00:00:00\", \"2009-01-01T00:00:00\", \"2010-01-01T00:00:00\", \"2011-01-01T00:00:00\", \"2012-01-01T00:00:00\", \"2013-01-01T00:00:00\", \"2014-01-01T00:00:00\", \"2015-01-01T00:00:00\", \"2016-01-01T00:00:00\", \"2017-01-01T00:00:00\"], \"y\": [null, null, 120001.66666666667, 127230.33333333333, 160962.33333333334, 205533.66666666666, 247139.33333333334, 248796.66666666666, 216012.66666666666, 202968.66666666666, 163797.0, 159237.33333333334, 165244.66666666666, 168521.66666666666, 192048.33333333334, 147351.66666666666, 164211.66666666666, 178383.0, 202753.33333333334, 228561.66666666666]}],                        {\"height\": 450, \"legend\": {\"bgcolor\": \"rgba(255, 255, 255, 0)\", \"x\": 0.01, \"xanchor\": \"left\", \"y\": 0.95, \"yanchor\": \"top\"}, \"template\": {\"data\": {\"bar\": [{\"error_x\": {\"color\": \"#2a3f5f\"}, \"error_y\": {\"color\": \"#2a3f5f\"}, \"marker\": {\"line\": {\"color\": \"#E5ECF6\", \"width\": 0.5}}, \"type\": \"bar\"}], \"barpolar\": [{\"marker\": {\"line\": {\"color\": \"#E5ECF6\", \"width\": 0.5}}, \"type\": \"barpolar\"}], \"carpet\": [{\"aaxis\": {\"endlinecolor\": \"#2a3f5f\", \"gridcolor\": \"white\", \"linecolor\": \"white\", \"minorgridcolor\": \"white\", \"startlinecolor\": \"#2a3f5f\"}, \"baxis\": {\"endlinecolor\": \"#2a3f5f\", \"gridcolor\": \"white\", \"linecolor\": \"white\", \"minorgridcolor\": \"white\", \"startlinecolor\": \"#2a3f5f\"}, \"type\": \"carpet\"}], \"choropleth\": [{\"colorbar\": {\"outlinewidth\": 0, \"ticks\": \"\"}, \"type\": \"choropleth\"}], \"contour\": [{\"colorbar\": {\"outlinewidth\": 0, \"ticks\": \"\"}, \"colorscale\": [[0.0, \"#0d0887\"], [0.1111111111111111, \"#46039f\"], [0.2222222222222222, \"#7201a8\"], [0.3333333333333333, \"#9c179e\"], [0.4444444444444444, \"#bd3786\"], [0.5555555555555556, \"#d8576b\"], [0.6666666666666666, \"#ed7953\"], [0.7777777777777778, \"#fb9f3a\"], [0.8888888888888888, \"#fdca26\"], [1.0, \"#f0f921\"]], \"type\": \"contour\"}], \"contourcarpet\": [{\"colorbar\": {\"outlinewidth\": 0, \"ticks\": \"\"}, \"type\": \"contourcarpet\"}], \"heatmap\": [{\"colorbar\": {\"outlinewidth\": 0, \"ticks\": \"\"}, \"colorscale\": [[0.0, \"#0d0887\"], [0.1111111111111111, \"#46039f\"], [0.2222222222222222, \"#7201a8\"], [0.3333333333333333, \"#9c179e\"], [0.4444444444444444, \"#bd3786\"], [0.5555555555555556, \"#d8576b\"], [0.6666666666666666, \"#ed7953\"], [0.7777777777777778, \"#fb9f3a\"], [0.8888888888888888, \"#fdca26\"], [1.0, \"#f0f921\"]], \"type\": \"heatmap\"}], \"heatmapgl\": [{\"colorbar\": {\"outlinewidth\": 0, \"ticks\": \"\"}, \"colorscale\": [[0.0, \"#0d0887\"], [0.1111111111111111, \"#46039f\"], [0.2222222222222222, \"#7201a8\"], [0.3333333333333333, \"#9c179e\"], [0.4444444444444444, \"#bd3786\"], [0.5555555555555556, \"#d8576b\"], [0.6666666666666666, \"#ed7953\"], [0.7777777777777778, \"#fb9f3a\"], [0.8888888888888888, \"#fdca26\"], [1.0, \"#f0f921\"]], \"type\": \"heatmapgl\"}], \"histogram\": [{\"marker\": {\"colorbar\": {\"outlinewidth\": 0, \"ticks\": \"\"}}, \"type\": \"histogram\"}], \"histogram2d\": [{\"colorbar\": {\"outlinewidth\": 0, \"ticks\": \"\"}, \"colorscale\": [[0.0, \"#0d0887\"], [0.1111111111111111, \"#46039f\"], [0.2222222222222222, \"#7201a8\"], [0.3333333333333333, \"#9c179e\"], [0.4444444444444444, \"#bd3786\"], [0.5555555555555556, \"#d8576b\"], [0.6666666666666666, \"#ed7953\"], [0.7777777777777778, \"#fb9f3a\"], [0.8888888888888888, \"#fdca26\"], [1.0, \"#f0f921\"]], \"type\": \"histogram2d\"}], \"histogram2dcontour\": [{\"colorbar\": {\"outlinewidth\": 0, \"ticks\": \"\"}, \"colorscale\": [[0.0, \"#0d0887\"], [0.1111111111111111, \"#46039f\"], [0.2222222222222222, \"#7201a8\"], [0.3333333333333333, \"#9c179e\"], [0.4444444444444444, \"#bd3786\"], [0.5555555555555556, \"#d8576b\"], [0.6666666666666666, \"#ed7953\"], [0.7777777777777778, \"#fb9f3a\"], [0.8888888888888888, \"#fdca26\"], [1.0, \"#f0f921\"]], \"type\": \"histogram2dcontour\"}], \"mesh3d\": [{\"colorbar\": {\"outlinewidth\": 0, \"ticks\": \"\"}, \"type\": \"mesh3d\"}], \"parcoords\": [{\"line\": {\"colorbar\": {\"outlinewidth\": 0, \"ticks\": \"\"}}, \"type\": \"parcoords\"}], \"pie\": [{\"automargin\": true, \"type\": \"pie\"}], \"scatter\": [{\"marker\": {\"colorbar\": {\"outlinewidth\": 0, \"ticks\": \"\"}}, \"type\": \"scatter\"}], \"scatter3d\": [{\"line\": {\"colorbar\": {\"outlinewidth\": 0, \"ticks\": \"\"}}, \"marker\": {\"colorbar\": {\"outlinewidth\": 0, \"ticks\": \"\"}}, \"type\": \"scatter3d\"}], \"scattercarpet\": [{\"marker\": {\"colorbar\": {\"outlinewidth\": 0, \"ticks\": \"\"}}, \"type\": \"scattercarpet\"}], \"scattergeo\": [{\"marker\": {\"colorbar\": {\"outlinewidth\": 0, \"ticks\": \"\"}}, \"type\": \"scattergeo\"}], \"scattergl\": [{\"marker\": {\"colorbar\": {\"outlinewidth\": 0, \"ticks\": \"\"}}, \"type\": \"scattergl\"}], \"scattermapbox\": [{\"marker\": {\"colorbar\": {\"outlinewidth\": 0, \"ticks\": \"\"}}, \"type\": \"scattermapbox\"}], \"scatterpolar\": [{\"marker\": {\"colorbar\": {\"outlinewidth\": 0, \"ticks\": \"\"}}, \"type\": \"scatterpolar\"}], \"scatterpolargl\": [{\"marker\": {\"colorbar\": {\"outlinewidth\": 0, \"ticks\": \"\"}}, \"type\": \"scatterpolargl\"}], \"scatterternary\": [{\"marker\": {\"colorbar\": {\"outlinewidth\": 0, \"ticks\": \"\"}}, \"type\": \"scatterternary\"}], \"surface\": [{\"colorbar\": {\"outlinewidth\": 0, \"ticks\": \"\"}, \"colorscale\": [[0.0, \"#0d0887\"], [0.1111111111111111, \"#46039f\"], [0.2222222222222222, \"#7201a8\"], [0.3333333333333333, \"#9c179e\"], [0.4444444444444444, \"#bd3786\"], [0.5555555555555556, \"#d8576b\"], [0.6666666666666666, \"#ed7953\"], [0.7777777777777778, \"#fb9f3a\"], [0.8888888888888888, \"#fdca26\"], [1.0, \"#f0f921\"]], \"type\": \"surface\"}], \"table\": [{\"cells\": {\"fill\": {\"color\": \"#EBF0F8\"}, \"line\": {\"color\": \"white\"}}, \"header\": {\"fill\": {\"color\": \"#C8D4E3\"}, \"line\": {\"color\": \"white\"}}, \"type\": \"table\"}]}, \"layout\": {\"annotationdefaults\": {\"arrowcolor\": \"#2a3f5f\", \"arrowhead\": 0, \"arrowwidth\": 1}, \"coloraxis\": {\"colorbar\": {\"outlinewidth\": 0, \"ticks\": \"\"}}, \"colorscale\": {\"diverging\": [[0, \"#8e0152\"], [0.1, \"#c51b7d\"], [0.2, \"#de77ae\"], [0.3, \"#f1b6da\"], [0.4, \"#fde0ef\"], [0.5, \"#f7f7f7\"], [0.6, \"#e6f5d0\"], [0.7, \"#b8e186\"], [0.8, \"#7fbc41\"], [0.9, \"#4d9221\"], [1, \"#276419\"]], \"sequential\": [[0.0, \"#0d0887\"], [0.1111111111111111, \"#46039f\"], [0.2222222222222222, \"#7201a8\"], [0.3333333333333333, \"#9c179e\"], [0.4444444444444444, \"#bd3786\"], [0.5555555555555556, \"#d8576b\"], [0.6666666666666666, \"#ed7953\"], [0.7777777777777778, \"#fb9f3a\"], [0.8888888888888888, \"#fdca26\"], [1.0, \"#f0f921\"]], \"sequentialminus\": [[0.0, \"#0d0887\"], [0.1111111111111111, \"#46039f\"], [0.2222222222222222, \"#7201a8\"], [0.3333333333333333, \"#9c179e\"], [0.4444444444444444, \"#bd3786\"], [0.5555555555555556, \"#d8576b\"], [0.6666666666666666, \"#ed7953\"], [0.7777777777777778, \"#fb9f3a\"], [0.8888888888888888, \"#fdca26\"], [1.0, \"#f0f921\"]]}, \"colorway\": [\"#636efa\", \"#EF553B\", \"#00cc96\", \"#ab63fa\", \"#FFA15A\", \"#19d3f3\", \"#FF6692\", \"#B6E880\", \"#FF97FF\", \"#FECB52\"], \"font\": {\"color\": \"#2a3f5f\"}, \"geo\": {\"bgcolor\": \"white\", \"lakecolor\": \"white\", \"landcolor\": \"#E5ECF6\", \"showlakes\": true, \"showland\": true, \"subunitcolor\": \"white\"}, \"hoverlabel\": {\"align\": \"left\"}, \"hovermode\": \"closest\", \"mapbox\": {\"style\": \"light\"}, \"paper_bgcolor\": \"white\", \"plot_bgcolor\": \"#E5ECF6\", \"polar\": {\"angularaxis\": {\"gridcolor\": \"white\", \"linecolor\": \"white\", \"ticks\": \"\"}, \"bgcolor\": \"#E5ECF6\", \"radialaxis\": {\"gridcolor\": \"white\", \"linecolor\": \"white\", \"ticks\": \"\"}}, \"scene\": {\"xaxis\": {\"backgroundcolor\": \"#E5ECF6\", \"gridcolor\": \"white\", \"gridwidth\": 2, \"linecolor\": \"white\", \"showbackground\": true, \"ticks\": \"\", \"zerolinecolor\": \"white\"}, \"yaxis\": {\"backgroundcolor\": \"#E5ECF6\", \"gridcolor\": \"white\", \"gridwidth\": 2, \"linecolor\": \"white\", \"showbackground\": true, \"ticks\": \"\", \"zerolinecolor\": \"white\"}, \"zaxis\": {\"backgroundcolor\": \"#E5ECF6\", \"gridcolor\": \"white\", \"gridwidth\": 2, \"linecolor\": \"white\", \"showbackground\": true, \"ticks\": \"\", \"zerolinecolor\": \"white\"}}, \"shapedefaults\": {\"line\": {\"color\": \"#2a3f5f\"}}, \"ternary\": {\"aaxis\": {\"gridcolor\": \"white\", \"linecolor\": \"white\", \"ticks\": \"\"}, \"baxis\": {\"gridcolor\": \"white\", \"linecolor\": \"white\", \"ticks\": \"\"}, \"bgcolor\": \"#E5ECF6\", \"caxis\": {\"gridcolor\": \"white\", \"linecolor\": \"white\", \"ticks\": \"\"}}, \"title\": {\"x\": 0.05}, \"xaxis\": {\"automargin\": true, \"gridcolor\": \"white\", \"linecolor\": \"white\", \"ticks\": \"\", \"title\": {\"standoff\": 15}, \"zerolinecolor\": \"white\", \"zerolinewidth\": 2}, \"yaxis\": {\"automargin\": true, \"gridcolor\": \"white\", \"linecolor\": \"white\", \"ticks\": \"\", \"title\": {\"standoff\": 15}, \"zerolinecolor\": \"white\", \"zerolinewidth\": 2}}}, \"title\": {\"text\": \"S\\u00e9rie Temporal dos Focos de Calor\"}, \"width\": 1200, \"xaxis\": {\"title\": {\"text\": \"Ano\"}}, \"yaxis\": {\"title\": {\"text\": \"N\\u00famero de Focos de Calor\"}}},                        {\"responsive\": true}                    ).then(function(){\n",
       "                            \n",
       "var gd = document.getElementById('03ec8d02-a068-4bcb-91cf-be82404fe6cf');\n",
       "var x = new MutationObserver(function (mutations, observer) {{\n",
       "        var display = window.getComputedStyle(gd).display;\n",
       "        if (!display || display === 'none') {{\n",
       "            console.log([gd, 'removed!']);\n",
       "            Plotly.purge(gd);\n",
       "            observer.disconnect();\n",
       "        }}\n",
       "}});\n",
       "\n",
       "// Listen for the removal of the full notebook cells\n",
       "var notebookContainer = gd.closest('#notebook-container');\n",
       "if (notebookContainer) {{\n",
       "    x.observe(notebookContainer, {childList: true});\n",
       "}}\n",
       "\n",
       "// Listen for the clearing of the current output cell\n",
       "var outputEl = gd.closest('.output');\n",
       "if (outputEl) {{\n",
       "    x.observe(outputEl, {childList: true});\n",
       "}}\n",
       "\n",
       "                        })                };                });            </script>        </div>"
      ]
     },
     "metadata": {},
     "output_type": "display_data"
    }
   ],
   "source": [
    "plot_forest_fires_timeline(base, 'Série Temporal dos Focos de Calor')"
   ]
  },
  {
   "cell_type": "code",
   "execution_count": 120,
   "metadata": {},
   "outputs": [],
   "source": [
    "# Função para Gráfico de Barras\n",
    "\n",
    "def plot_forest_fires_state(df, title_graph, modeGraphBar):\n",
    "    \n",
    "    dataTemp = df.groupby(['state']).agg({'number': 'sum'}).sort_values(\n",
    "        by=['state']).reset_index()\n",
    "    \n",
    "    if modeGraphBar:\n",
    "        graph = go.Bar(x = dataTemp['state'],\n",
    "                    y = dataTemp['number'],\n",
    "                    text = dataTemp['number'],\n",
    "                    textposition='auto'\n",
    "                    )\n",
    "    else:\n",
    "        graph = go.Scatter(x = dataTemp['state'],\n",
    "                    y = dataTemp['number'],\n",
    "                    mode = 'markers',\n",
    "                    marker=dict(\n",
    "                        size=dataTemp['number']/100,\n",
    "                        sizemode='area',\n",
    "                        color='rgb(255, 65, 54)',\n",
    "                        sizemin=4,\n",
    "                        line_width=2\n",
    "                        )\n",
    "                    )    \n",
    "    \n",
    "    data = [graph]\n",
    "\n",
    "    layout = go.Layout(title = title_graph,\n",
    "                      xaxis = {'title': 'Estado'},\n",
    "                      yaxis = {'title': 'Número de Focos de Calor'},\n",
    "                      height=600, \n",
    "                      width=1000)\n",
    "            \n",
    "    fig = go.Figure(data=data, layout=layout)\n",
    "    \n",
    "    return py.iplot(fig)"
   ]
  },
  {
   "cell_type": "code",
   "execution_count": 121,
   "metadata": {},
   "outputs": [
    {
     "data": {
      "application/vnd.plotly.v1+json": {
       "config": {
        "linkText": "Export to plot.ly",
        "plotlyServerURL": "https://plot.ly",
        "showLink": false
       },
       "data": [
        {
         "text": [
          73439,
          4644,
          26403,
          118691,
          239777,
          85436,
          3561,
          6546,
          115138,
          405879,
          723629,
          119897,
          181589,
          54552,
          12787,
          638042,
          24498,
          182406,
          9426,
          29891,
          11703,
          224510,
          29454,
          27209,
          3237,
          62308,
          248378
         ],
         "textposition": "auto",
         "type": "bar",
         "x": [
          "Acre",
          "Alagoas",
          "Amapá",
          "Amazonas",
          "Bahia",
          "Ceará",
          "Distrito Federal",
          "Espírito Santo",
          "Goiás",
          "Maranhão",
          "Mato Grosso",
          "Mato Grosso do Sul",
          "Minas Gerais",
          "Paraná",
          "Paraíba",
          "Pará",
          "Pernambuco",
          "Piauí",
          "Rio Grande do Norte",
          "Rio Grande do Sul",
          "Rio de Janeiro",
          "Rondônia",
          "Roraima",
          "Santa Catarina",
          "Sergipe",
          "São Paulo",
          "Tocantins"
         ],
         "y": [
          73439,
          4644,
          26403,
          118691,
          239777,
          85436,
          3561,
          6546,
          115138,
          405879,
          723629,
          119897,
          181589,
          54552,
          12787,
          638042,
          24498,
          182406,
          9426,
          29891,
          11703,
          224510,
          29454,
          27209,
          3237,
          62308,
          248378
         ]
        }
       ],
       "layout": {
        "height": 600,
        "template": {
         "data": {
          "bar": [
           {
            "error_x": {
             "color": "#2a3f5f"
            },
            "error_y": {
             "color": "#2a3f5f"
            },
            "marker": {
             "line": {
              "color": "#E5ECF6",
              "width": 0.5
             }
            },
            "type": "bar"
           }
          ],
          "barpolar": [
           {
            "marker": {
             "line": {
              "color": "#E5ECF6",
              "width": 0.5
             }
            },
            "type": "barpolar"
           }
          ],
          "carpet": [
           {
            "aaxis": {
             "endlinecolor": "#2a3f5f",
             "gridcolor": "white",
             "linecolor": "white",
             "minorgridcolor": "white",
             "startlinecolor": "#2a3f5f"
            },
            "baxis": {
             "endlinecolor": "#2a3f5f",
             "gridcolor": "white",
             "linecolor": "white",
             "minorgridcolor": "white",
             "startlinecolor": "#2a3f5f"
            },
            "type": "carpet"
           }
          ],
          "choropleth": [
           {
            "colorbar": {
             "outlinewidth": 0,
             "ticks": ""
            },
            "type": "choropleth"
           }
          ],
          "contour": [
           {
            "colorbar": {
             "outlinewidth": 0,
             "ticks": ""
            },
            "colorscale": [
             [
              0,
              "#0d0887"
             ],
             [
              0.1111111111111111,
              "#46039f"
             ],
             [
              0.2222222222222222,
              "#7201a8"
             ],
             [
              0.3333333333333333,
              "#9c179e"
             ],
             [
              0.4444444444444444,
              "#bd3786"
             ],
             [
              0.5555555555555556,
              "#d8576b"
             ],
             [
              0.6666666666666666,
              "#ed7953"
             ],
             [
              0.7777777777777778,
              "#fb9f3a"
             ],
             [
              0.8888888888888888,
              "#fdca26"
             ],
             [
              1,
              "#f0f921"
             ]
            ],
            "type": "contour"
           }
          ],
          "contourcarpet": [
           {
            "colorbar": {
             "outlinewidth": 0,
             "ticks": ""
            },
            "type": "contourcarpet"
           }
          ],
          "heatmap": [
           {
            "colorbar": {
             "outlinewidth": 0,
             "ticks": ""
            },
            "colorscale": [
             [
              0,
              "#0d0887"
             ],
             [
              0.1111111111111111,
              "#46039f"
             ],
             [
              0.2222222222222222,
              "#7201a8"
             ],
             [
              0.3333333333333333,
              "#9c179e"
             ],
             [
              0.4444444444444444,
              "#bd3786"
             ],
             [
              0.5555555555555556,
              "#d8576b"
             ],
             [
              0.6666666666666666,
              "#ed7953"
             ],
             [
              0.7777777777777778,
              "#fb9f3a"
             ],
             [
              0.8888888888888888,
              "#fdca26"
             ],
             [
              1,
              "#f0f921"
             ]
            ],
            "type": "heatmap"
           }
          ],
          "heatmapgl": [
           {
            "colorbar": {
             "outlinewidth": 0,
             "ticks": ""
            },
            "colorscale": [
             [
              0,
              "#0d0887"
             ],
             [
              0.1111111111111111,
              "#46039f"
             ],
             [
              0.2222222222222222,
              "#7201a8"
             ],
             [
              0.3333333333333333,
              "#9c179e"
             ],
             [
              0.4444444444444444,
              "#bd3786"
             ],
             [
              0.5555555555555556,
              "#d8576b"
             ],
             [
              0.6666666666666666,
              "#ed7953"
             ],
             [
              0.7777777777777778,
              "#fb9f3a"
             ],
             [
              0.8888888888888888,
              "#fdca26"
             ],
             [
              1,
              "#f0f921"
             ]
            ],
            "type": "heatmapgl"
           }
          ],
          "histogram": [
           {
            "marker": {
             "colorbar": {
              "outlinewidth": 0,
              "ticks": ""
             }
            },
            "type": "histogram"
           }
          ],
          "histogram2d": [
           {
            "colorbar": {
             "outlinewidth": 0,
             "ticks": ""
            },
            "colorscale": [
             [
              0,
              "#0d0887"
             ],
             [
              0.1111111111111111,
              "#46039f"
             ],
             [
              0.2222222222222222,
              "#7201a8"
             ],
             [
              0.3333333333333333,
              "#9c179e"
             ],
             [
              0.4444444444444444,
              "#bd3786"
             ],
             [
              0.5555555555555556,
              "#d8576b"
             ],
             [
              0.6666666666666666,
              "#ed7953"
             ],
             [
              0.7777777777777778,
              "#fb9f3a"
             ],
             [
              0.8888888888888888,
              "#fdca26"
             ],
             [
              1,
              "#f0f921"
             ]
            ],
            "type": "histogram2d"
           }
          ],
          "histogram2dcontour": [
           {
            "colorbar": {
             "outlinewidth": 0,
             "ticks": ""
            },
            "colorscale": [
             [
              0,
              "#0d0887"
             ],
             [
              0.1111111111111111,
              "#46039f"
             ],
             [
              0.2222222222222222,
              "#7201a8"
             ],
             [
              0.3333333333333333,
              "#9c179e"
             ],
             [
              0.4444444444444444,
              "#bd3786"
             ],
             [
              0.5555555555555556,
              "#d8576b"
             ],
             [
              0.6666666666666666,
              "#ed7953"
             ],
             [
              0.7777777777777778,
              "#fb9f3a"
             ],
             [
              0.8888888888888888,
              "#fdca26"
             ],
             [
              1,
              "#f0f921"
             ]
            ],
            "type": "histogram2dcontour"
           }
          ],
          "mesh3d": [
           {
            "colorbar": {
             "outlinewidth": 0,
             "ticks": ""
            },
            "type": "mesh3d"
           }
          ],
          "parcoords": [
           {
            "line": {
             "colorbar": {
              "outlinewidth": 0,
              "ticks": ""
             }
            },
            "type": "parcoords"
           }
          ],
          "pie": [
           {
            "automargin": true,
            "type": "pie"
           }
          ],
          "scatter": [
           {
            "marker": {
             "colorbar": {
              "outlinewidth": 0,
              "ticks": ""
             }
            },
            "type": "scatter"
           }
          ],
          "scatter3d": [
           {
            "line": {
             "colorbar": {
              "outlinewidth": 0,
              "ticks": ""
             }
            },
            "marker": {
             "colorbar": {
              "outlinewidth": 0,
              "ticks": ""
             }
            },
            "type": "scatter3d"
           }
          ],
          "scattercarpet": [
           {
            "marker": {
             "colorbar": {
              "outlinewidth": 0,
              "ticks": ""
             }
            },
            "type": "scattercarpet"
           }
          ],
          "scattergeo": [
           {
            "marker": {
             "colorbar": {
              "outlinewidth": 0,
              "ticks": ""
             }
            },
            "type": "scattergeo"
           }
          ],
          "scattergl": [
           {
            "marker": {
             "colorbar": {
              "outlinewidth": 0,
              "ticks": ""
             }
            },
            "type": "scattergl"
           }
          ],
          "scattermapbox": [
           {
            "marker": {
             "colorbar": {
              "outlinewidth": 0,
              "ticks": ""
             }
            },
            "type": "scattermapbox"
           }
          ],
          "scatterpolar": [
           {
            "marker": {
             "colorbar": {
              "outlinewidth": 0,
              "ticks": ""
             }
            },
            "type": "scatterpolar"
           }
          ],
          "scatterpolargl": [
           {
            "marker": {
             "colorbar": {
              "outlinewidth": 0,
              "ticks": ""
             }
            },
            "type": "scatterpolargl"
           }
          ],
          "scatterternary": [
           {
            "marker": {
             "colorbar": {
              "outlinewidth": 0,
              "ticks": ""
             }
            },
            "type": "scatterternary"
           }
          ],
          "surface": [
           {
            "colorbar": {
             "outlinewidth": 0,
             "ticks": ""
            },
            "colorscale": [
             [
              0,
              "#0d0887"
             ],
             [
              0.1111111111111111,
              "#46039f"
             ],
             [
              0.2222222222222222,
              "#7201a8"
             ],
             [
              0.3333333333333333,
              "#9c179e"
             ],
             [
              0.4444444444444444,
              "#bd3786"
             ],
             [
              0.5555555555555556,
              "#d8576b"
             ],
             [
              0.6666666666666666,
              "#ed7953"
             ],
             [
              0.7777777777777778,
              "#fb9f3a"
             ],
             [
              0.8888888888888888,
              "#fdca26"
             ],
             [
              1,
              "#f0f921"
             ]
            ],
            "type": "surface"
           }
          ],
          "table": [
           {
            "cells": {
             "fill": {
              "color": "#EBF0F8"
             },
             "line": {
              "color": "white"
             }
            },
            "header": {
             "fill": {
              "color": "#C8D4E3"
             },
             "line": {
              "color": "white"
             }
            },
            "type": "table"
           }
          ]
         },
         "layout": {
          "annotationdefaults": {
           "arrowcolor": "#2a3f5f",
           "arrowhead": 0,
           "arrowwidth": 1
          },
          "coloraxis": {
           "colorbar": {
            "outlinewidth": 0,
            "ticks": ""
           }
          },
          "colorscale": {
           "diverging": [
            [
             0,
             "#8e0152"
            ],
            [
             0.1,
             "#c51b7d"
            ],
            [
             0.2,
             "#de77ae"
            ],
            [
             0.3,
             "#f1b6da"
            ],
            [
             0.4,
             "#fde0ef"
            ],
            [
             0.5,
             "#f7f7f7"
            ],
            [
             0.6,
             "#e6f5d0"
            ],
            [
             0.7,
             "#b8e186"
            ],
            [
             0.8,
             "#7fbc41"
            ],
            [
             0.9,
             "#4d9221"
            ],
            [
             1,
             "#276419"
            ]
           ],
           "sequential": [
            [
             0,
             "#0d0887"
            ],
            [
             0.1111111111111111,
             "#46039f"
            ],
            [
             0.2222222222222222,
             "#7201a8"
            ],
            [
             0.3333333333333333,
             "#9c179e"
            ],
            [
             0.4444444444444444,
             "#bd3786"
            ],
            [
             0.5555555555555556,
             "#d8576b"
            ],
            [
             0.6666666666666666,
             "#ed7953"
            ],
            [
             0.7777777777777778,
             "#fb9f3a"
            ],
            [
             0.8888888888888888,
             "#fdca26"
            ],
            [
             1,
             "#f0f921"
            ]
           ],
           "sequentialminus": [
            [
             0,
             "#0d0887"
            ],
            [
             0.1111111111111111,
             "#46039f"
            ],
            [
             0.2222222222222222,
             "#7201a8"
            ],
            [
             0.3333333333333333,
             "#9c179e"
            ],
            [
             0.4444444444444444,
             "#bd3786"
            ],
            [
             0.5555555555555556,
             "#d8576b"
            ],
            [
             0.6666666666666666,
             "#ed7953"
            ],
            [
             0.7777777777777778,
             "#fb9f3a"
            ],
            [
             0.8888888888888888,
             "#fdca26"
            ],
            [
             1,
             "#f0f921"
            ]
           ]
          },
          "colorway": [
           "#636efa",
           "#EF553B",
           "#00cc96",
           "#ab63fa",
           "#FFA15A",
           "#19d3f3",
           "#FF6692",
           "#B6E880",
           "#FF97FF",
           "#FECB52"
          ],
          "font": {
           "color": "#2a3f5f"
          },
          "geo": {
           "bgcolor": "white",
           "lakecolor": "white",
           "landcolor": "#E5ECF6",
           "showlakes": true,
           "showland": true,
           "subunitcolor": "white"
          },
          "hoverlabel": {
           "align": "left"
          },
          "hovermode": "closest",
          "mapbox": {
           "style": "light"
          },
          "paper_bgcolor": "white",
          "plot_bgcolor": "#E5ECF6",
          "polar": {
           "angularaxis": {
            "gridcolor": "white",
            "linecolor": "white",
            "ticks": ""
           },
           "bgcolor": "#E5ECF6",
           "radialaxis": {
            "gridcolor": "white",
            "linecolor": "white",
            "ticks": ""
           }
          },
          "scene": {
           "xaxis": {
            "backgroundcolor": "#E5ECF6",
            "gridcolor": "white",
            "gridwidth": 2,
            "linecolor": "white",
            "showbackground": true,
            "ticks": "",
            "zerolinecolor": "white"
           },
           "yaxis": {
            "backgroundcolor": "#E5ECF6",
            "gridcolor": "white",
            "gridwidth": 2,
            "linecolor": "white",
            "showbackground": true,
            "ticks": "",
            "zerolinecolor": "white"
           },
           "zaxis": {
            "backgroundcolor": "#E5ECF6",
            "gridcolor": "white",
            "gridwidth": 2,
            "linecolor": "white",
            "showbackground": true,
            "ticks": "",
            "zerolinecolor": "white"
           }
          },
          "shapedefaults": {
           "line": {
            "color": "#2a3f5f"
           }
          },
          "ternary": {
           "aaxis": {
            "gridcolor": "white",
            "linecolor": "white",
            "ticks": ""
           },
           "baxis": {
            "gridcolor": "white",
            "linecolor": "white",
            "ticks": ""
           },
           "bgcolor": "#E5ECF6",
           "caxis": {
            "gridcolor": "white",
            "linecolor": "white",
            "ticks": ""
           }
          },
          "title": {
           "x": 0.05
          },
          "xaxis": {
           "automargin": true,
           "gridcolor": "white",
           "linecolor": "white",
           "ticks": "",
           "title": {
            "standoff": 15
           },
           "zerolinecolor": "white",
           "zerolinewidth": 2
          },
          "yaxis": {
           "automargin": true,
           "gridcolor": "white",
           "linecolor": "white",
           "ticks": "",
           "title": {
            "standoff": 15
           },
           "zerolinecolor": "white",
           "zerolinewidth": 2
          }
         }
        },
        "title": {
         "text": "Número de Focos de Calor por Estado"
        },
        "width": 1000,
        "xaxis": {
         "title": {
          "text": "Estado"
         }
        },
        "yaxis": {
         "title": {
          "text": "Número de Focos de Calor"
         }
        }
       }
      },
      "text/html": [
       "<div>                            <div id=\"109c38b5-227b-4bab-b1ce-0fcc833d46c8\" class=\"plotly-graph-div\" style=\"height:600px; width:1000px;\"></div>            <script type=\"text/javascript\">                require([\"plotly\"], function(Plotly) {                    window.PLOTLYENV=window.PLOTLYENV || {};                                    if (document.getElementById(\"109c38b5-227b-4bab-b1ce-0fcc833d46c8\")) {                    Plotly.newPlot(                        \"109c38b5-227b-4bab-b1ce-0fcc833d46c8\",                        [{\"text\": [73439.0, 4644.0, 26403.0, 118691.0, 239777.0, 85436.0, 3561.0, 6546.0, 115138.0, 405879.0, 723629.0, 119897.0, 181589.0, 54552.0, 12787.0, 638042.0, 24498.0, 182406.0, 9426.0, 29891.0, 11703.0, 224510.0, 29454.0, 27209.0, 3237.0, 62308.0, 248378.0], \"textposition\": \"auto\", \"type\": \"bar\", \"x\": [\"Acre\", \"Alagoas\", \"Amap\\u00e1\", \"Amazonas\", \"Bahia\", \"Cear\\u00e1\", \"Distrito Federal\", \"Esp\\u00edrito Santo\", \"Goi\\u00e1s\", \"Maranh\\u00e3o\", \"Mato Grosso\", \"Mato Grosso do Sul\", \"Minas Gerais\", \"Paran\\u00e1\", \"Para\\u00edba\", \"Par\\u00e1\", \"Pernambuco\", \"Piau\\u00ed\", \"Rio Grande do Norte\", \"Rio Grande do Sul\", \"Rio de Janeiro\", \"Rond\\u00f4nia\", \"Roraima\", \"Santa Catarina\", \"Sergipe\", \"S\\u00e3o Paulo\", \"Tocantins\"], \"y\": [73439, 4644, 26403, 118691, 239777, 85436, 3561, 6546, 115138, 405879, 723629, 119897, 181589, 54552, 12787, 638042, 24498, 182406, 9426, 29891, 11703, 224510, 29454, 27209, 3237, 62308, 248378]}],                        {\"height\": 600, \"template\": {\"data\": {\"bar\": [{\"error_x\": {\"color\": \"#2a3f5f\"}, \"error_y\": {\"color\": \"#2a3f5f\"}, \"marker\": {\"line\": {\"color\": \"#E5ECF6\", \"width\": 0.5}}, \"type\": \"bar\"}], \"barpolar\": [{\"marker\": {\"line\": {\"color\": \"#E5ECF6\", \"width\": 0.5}}, \"type\": \"barpolar\"}], \"carpet\": [{\"aaxis\": {\"endlinecolor\": \"#2a3f5f\", \"gridcolor\": \"white\", \"linecolor\": \"white\", \"minorgridcolor\": \"white\", \"startlinecolor\": \"#2a3f5f\"}, \"baxis\": {\"endlinecolor\": \"#2a3f5f\", \"gridcolor\": \"white\", \"linecolor\": \"white\", \"minorgridcolor\": \"white\", \"startlinecolor\": \"#2a3f5f\"}, \"type\": \"carpet\"}], \"choropleth\": [{\"colorbar\": {\"outlinewidth\": 0, \"ticks\": \"\"}, \"type\": \"choropleth\"}], \"contour\": [{\"colorbar\": {\"outlinewidth\": 0, \"ticks\": \"\"}, \"colorscale\": [[0.0, \"#0d0887\"], [0.1111111111111111, \"#46039f\"], [0.2222222222222222, \"#7201a8\"], [0.3333333333333333, \"#9c179e\"], [0.4444444444444444, \"#bd3786\"], [0.5555555555555556, \"#d8576b\"], [0.6666666666666666, \"#ed7953\"], [0.7777777777777778, \"#fb9f3a\"], [0.8888888888888888, \"#fdca26\"], [1.0, \"#f0f921\"]], \"type\": \"contour\"}], \"contourcarpet\": [{\"colorbar\": {\"outlinewidth\": 0, \"ticks\": \"\"}, \"type\": \"contourcarpet\"}], \"heatmap\": [{\"colorbar\": {\"outlinewidth\": 0, \"ticks\": \"\"}, \"colorscale\": [[0.0, \"#0d0887\"], [0.1111111111111111, \"#46039f\"], [0.2222222222222222, \"#7201a8\"], [0.3333333333333333, \"#9c179e\"], [0.4444444444444444, \"#bd3786\"], [0.5555555555555556, \"#d8576b\"], [0.6666666666666666, \"#ed7953\"], [0.7777777777777778, \"#fb9f3a\"], [0.8888888888888888, \"#fdca26\"], [1.0, \"#f0f921\"]], \"type\": \"heatmap\"}], \"heatmapgl\": [{\"colorbar\": {\"outlinewidth\": 0, \"ticks\": \"\"}, \"colorscale\": [[0.0, \"#0d0887\"], [0.1111111111111111, \"#46039f\"], [0.2222222222222222, \"#7201a8\"], [0.3333333333333333, \"#9c179e\"], [0.4444444444444444, \"#bd3786\"], [0.5555555555555556, \"#d8576b\"], [0.6666666666666666, \"#ed7953\"], [0.7777777777777778, \"#fb9f3a\"], [0.8888888888888888, \"#fdca26\"], [1.0, \"#f0f921\"]], \"type\": \"heatmapgl\"}], \"histogram\": [{\"marker\": {\"colorbar\": {\"outlinewidth\": 0, \"ticks\": \"\"}}, \"type\": \"histogram\"}], \"histogram2d\": [{\"colorbar\": {\"outlinewidth\": 0, \"ticks\": \"\"}, \"colorscale\": [[0.0, \"#0d0887\"], [0.1111111111111111, \"#46039f\"], [0.2222222222222222, \"#7201a8\"], [0.3333333333333333, \"#9c179e\"], [0.4444444444444444, \"#bd3786\"], [0.5555555555555556, \"#d8576b\"], [0.6666666666666666, \"#ed7953\"], [0.7777777777777778, \"#fb9f3a\"], [0.8888888888888888, \"#fdca26\"], [1.0, \"#f0f921\"]], \"type\": \"histogram2d\"}], \"histogram2dcontour\": [{\"colorbar\": {\"outlinewidth\": 0, \"ticks\": \"\"}, \"colorscale\": [[0.0, \"#0d0887\"], [0.1111111111111111, \"#46039f\"], [0.2222222222222222, \"#7201a8\"], [0.3333333333333333, \"#9c179e\"], [0.4444444444444444, \"#bd3786\"], [0.5555555555555556, \"#d8576b\"], [0.6666666666666666, \"#ed7953\"], [0.7777777777777778, \"#fb9f3a\"], [0.8888888888888888, \"#fdca26\"], [1.0, \"#f0f921\"]], \"type\": \"histogram2dcontour\"}], \"mesh3d\": [{\"colorbar\": {\"outlinewidth\": 0, \"ticks\": \"\"}, \"type\": \"mesh3d\"}], \"parcoords\": [{\"line\": {\"colorbar\": {\"outlinewidth\": 0, \"ticks\": \"\"}}, \"type\": \"parcoords\"}], \"pie\": [{\"automargin\": true, \"type\": \"pie\"}], \"scatter\": [{\"marker\": {\"colorbar\": {\"outlinewidth\": 0, \"ticks\": \"\"}}, \"type\": \"scatter\"}], \"scatter3d\": [{\"line\": {\"colorbar\": {\"outlinewidth\": 0, \"ticks\": \"\"}}, \"marker\": {\"colorbar\": {\"outlinewidth\": 0, \"ticks\": \"\"}}, \"type\": \"scatter3d\"}], \"scattercarpet\": [{\"marker\": {\"colorbar\": {\"outlinewidth\": 0, \"ticks\": \"\"}}, \"type\": \"scattercarpet\"}], \"scattergeo\": [{\"marker\": {\"colorbar\": {\"outlinewidth\": 0, \"ticks\": \"\"}}, \"type\": \"scattergeo\"}], \"scattergl\": [{\"marker\": {\"colorbar\": {\"outlinewidth\": 0, \"ticks\": \"\"}}, \"type\": \"scattergl\"}], \"scattermapbox\": [{\"marker\": {\"colorbar\": {\"outlinewidth\": 0, \"ticks\": \"\"}}, \"type\": \"scattermapbox\"}], \"scatterpolar\": [{\"marker\": {\"colorbar\": {\"outlinewidth\": 0, \"ticks\": \"\"}}, \"type\": \"scatterpolar\"}], \"scatterpolargl\": [{\"marker\": {\"colorbar\": {\"outlinewidth\": 0, \"ticks\": \"\"}}, \"type\": \"scatterpolargl\"}], \"scatterternary\": [{\"marker\": {\"colorbar\": {\"outlinewidth\": 0, \"ticks\": \"\"}}, \"type\": \"scatterternary\"}], \"surface\": [{\"colorbar\": {\"outlinewidth\": 0, \"ticks\": \"\"}, \"colorscale\": [[0.0, \"#0d0887\"], [0.1111111111111111, \"#46039f\"], [0.2222222222222222, \"#7201a8\"], [0.3333333333333333, \"#9c179e\"], [0.4444444444444444, \"#bd3786\"], [0.5555555555555556, \"#d8576b\"], [0.6666666666666666, \"#ed7953\"], [0.7777777777777778, \"#fb9f3a\"], [0.8888888888888888, \"#fdca26\"], [1.0, \"#f0f921\"]], \"type\": \"surface\"}], \"table\": [{\"cells\": {\"fill\": {\"color\": \"#EBF0F8\"}, \"line\": {\"color\": \"white\"}}, \"header\": {\"fill\": {\"color\": \"#C8D4E3\"}, \"line\": {\"color\": \"white\"}}, \"type\": \"table\"}]}, \"layout\": {\"annotationdefaults\": {\"arrowcolor\": \"#2a3f5f\", \"arrowhead\": 0, \"arrowwidth\": 1}, \"coloraxis\": {\"colorbar\": {\"outlinewidth\": 0, \"ticks\": \"\"}}, \"colorscale\": {\"diverging\": [[0, \"#8e0152\"], [0.1, \"#c51b7d\"], [0.2, \"#de77ae\"], [0.3, \"#f1b6da\"], [0.4, \"#fde0ef\"], [0.5, \"#f7f7f7\"], [0.6, \"#e6f5d0\"], [0.7, \"#b8e186\"], [0.8, \"#7fbc41\"], [0.9, \"#4d9221\"], [1, \"#276419\"]], \"sequential\": [[0.0, \"#0d0887\"], [0.1111111111111111, \"#46039f\"], [0.2222222222222222, \"#7201a8\"], [0.3333333333333333, \"#9c179e\"], [0.4444444444444444, \"#bd3786\"], [0.5555555555555556, \"#d8576b\"], [0.6666666666666666, \"#ed7953\"], [0.7777777777777778, \"#fb9f3a\"], [0.8888888888888888, \"#fdca26\"], [1.0, \"#f0f921\"]], \"sequentialminus\": [[0.0, \"#0d0887\"], [0.1111111111111111, \"#46039f\"], [0.2222222222222222, \"#7201a8\"], [0.3333333333333333, \"#9c179e\"], [0.4444444444444444, \"#bd3786\"], [0.5555555555555556, \"#d8576b\"], [0.6666666666666666, \"#ed7953\"], [0.7777777777777778, \"#fb9f3a\"], [0.8888888888888888, \"#fdca26\"], [1.0, \"#f0f921\"]]}, \"colorway\": [\"#636efa\", \"#EF553B\", \"#00cc96\", \"#ab63fa\", \"#FFA15A\", \"#19d3f3\", \"#FF6692\", \"#B6E880\", \"#FF97FF\", \"#FECB52\"], \"font\": {\"color\": \"#2a3f5f\"}, \"geo\": {\"bgcolor\": \"white\", \"lakecolor\": \"white\", \"landcolor\": \"#E5ECF6\", \"showlakes\": true, \"showland\": true, \"subunitcolor\": \"white\"}, \"hoverlabel\": {\"align\": \"left\"}, \"hovermode\": \"closest\", \"mapbox\": {\"style\": \"light\"}, \"paper_bgcolor\": \"white\", \"plot_bgcolor\": \"#E5ECF6\", \"polar\": {\"angularaxis\": {\"gridcolor\": \"white\", \"linecolor\": \"white\", \"ticks\": \"\"}, \"bgcolor\": \"#E5ECF6\", \"radialaxis\": {\"gridcolor\": \"white\", \"linecolor\": \"white\", \"ticks\": \"\"}}, \"scene\": {\"xaxis\": {\"backgroundcolor\": \"#E5ECF6\", \"gridcolor\": \"white\", \"gridwidth\": 2, \"linecolor\": \"white\", \"showbackground\": true, \"ticks\": \"\", \"zerolinecolor\": \"white\"}, \"yaxis\": {\"backgroundcolor\": \"#E5ECF6\", \"gridcolor\": \"white\", \"gridwidth\": 2, \"linecolor\": \"white\", \"showbackground\": true, \"ticks\": \"\", \"zerolinecolor\": \"white\"}, \"zaxis\": {\"backgroundcolor\": \"#E5ECF6\", \"gridcolor\": \"white\", \"gridwidth\": 2, \"linecolor\": \"white\", \"showbackground\": true, \"ticks\": \"\", \"zerolinecolor\": \"white\"}}, \"shapedefaults\": {\"line\": {\"color\": \"#2a3f5f\"}}, \"ternary\": {\"aaxis\": {\"gridcolor\": \"white\", \"linecolor\": \"white\", \"ticks\": \"\"}, \"baxis\": {\"gridcolor\": \"white\", \"linecolor\": \"white\", \"ticks\": \"\"}, \"bgcolor\": \"#E5ECF6\", \"caxis\": {\"gridcolor\": \"white\", \"linecolor\": \"white\", \"ticks\": \"\"}}, \"title\": {\"x\": 0.05}, \"xaxis\": {\"automargin\": true, \"gridcolor\": \"white\", \"linecolor\": \"white\", \"ticks\": \"\", \"title\": {\"standoff\": 15}, \"zerolinecolor\": \"white\", \"zerolinewidth\": 2}, \"yaxis\": {\"automargin\": true, \"gridcolor\": \"white\", \"linecolor\": \"white\", \"ticks\": \"\", \"title\": {\"standoff\": 15}, \"zerolinecolor\": \"white\", \"zerolinewidth\": 2}}}, \"title\": {\"text\": \"N\\u00famero de Focos de Calor por Estado\"}, \"width\": 1000, \"xaxis\": {\"title\": {\"text\": \"Estado\"}}, \"yaxis\": {\"title\": {\"text\": \"N\\u00famero de Focos de Calor\"}}},                        {\"responsive\": true}                    ).then(function(){\n",
       "                            \n",
       "var gd = document.getElementById('109c38b5-227b-4bab-b1ce-0fcc833d46c8');\n",
       "var x = new MutationObserver(function (mutations, observer) {{\n",
       "        var display = window.getComputedStyle(gd).display;\n",
       "        if (!display || display === 'none') {{\n",
       "            console.log([gd, 'removed!']);\n",
       "            Plotly.purge(gd);\n",
       "            observer.disconnect();\n",
       "        }}\n",
       "}});\n",
       "\n",
       "// Listen for the removal of the full notebook cells\n",
       "var notebookContainer = gd.closest('#notebook-container');\n",
       "if (notebookContainer) {{\n",
       "    x.observe(notebookContainer, {childList: true});\n",
       "}}\n",
       "\n",
       "// Listen for the clearing of the current output cell\n",
       "var outputEl = gd.closest('.output');\n",
       "if (outputEl) {{\n",
       "    x.observe(outputEl, {childList: true});\n",
       "}}\n",
       "\n",
       "                        })                };                });            </script>        </div>"
      ]
     },
     "metadata": {},
     "output_type": "display_data"
    }
   ],
   "source": [
    "plot_forest_fires_state(base, 'Número de Focos de Calor por Estado', True)"
   ]
  },
  {
   "cell_type": "code",
   "execution_count": 122,
   "metadata": {},
   "outputs": [],
   "source": [
    "# Função para Gráfico de Barras\n",
    "\n",
    "def plot_forest_fires_month(df):\n",
    "    \n",
    "    dataTemp = df.groupby(['month']).agg({'number': 'sum'}).sort_values(\n",
    "        by=['number'], ascending=False).reset_index()\n",
    "    \n",
    "    \n",
    "    graph = go.Bar(x = dataTemp['month'],\n",
    "                    y = dataTemp['number'],\n",
    "                    text = dataTemp['number'],\n",
    "                    textposition='auto'\n",
    "                    )\n",
    "    \n",
    "    \n",
    "    data = [graph]\n",
    "\n",
    "    layout = go.Layout(title = 'Número de Focos de Calor por Mês',\n",
    "                      xaxis = {'title': 'Estado'},\n",
    "                      yaxis = {'title': 'Número de Focos de Calor'},\n",
    "                      height=600, \n",
    "                      width=900)\n",
    "            \n",
    "    fig = go.Figure(data=data, layout=layout)\n",
    "    \n",
    "    return py.iplot(fig)"
   ]
  },
  {
   "cell_type": "code",
   "execution_count": 123,
   "metadata": {},
   "outputs": [
    {
     "data": {
      "application/vnd.plotly.v1+json": {
       "config": {
        "linkText": "Export to plot.ly",
        "plotlyServerURL": "https://plot.ly",
        "showLink": false
       },
       "data": [
        {
         "text": [
          1151789,
          791781,
          675673,
          341306,
          225306,
          167905,
          113628,
          52587,
          46083,
          35118,
          31897,
          29957
         ],
         "textposition": "auto",
         "type": "bar",
         "x": [
          "Setembro",
          "Agosto",
          "Outubro",
          "Novembro",
          "Julho",
          "Dezembro",
          "Junho",
          "Janeiro",
          "Maio",
          "Março",
          "Fevereiro",
          "Abril"
         ],
         "y": [
          1151789,
          791781,
          675673,
          341306,
          225306,
          167905,
          113628,
          52587,
          46083,
          35118,
          31897,
          29957
         ]
        }
       ],
       "layout": {
        "height": 600,
        "template": {
         "data": {
          "bar": [
           {
            "error_x": {
             "color": "#2a3f5f"
            },
            "error_y": {
             "color": "#2a3f5f"
            },
            "marker": {
             "line": {
              "color": "#E5ECF6",
              "width": 0.5
             }
            },
            "type": "bar"
           }
          ],
          "barpolar": [
           {
            "marker": {
             "line": {
              "color": "#E5ECF6",
              "width": 0.5
             }
            },
            "type": "barpolar"
           }
          ],
          "carpet": [
           {
            "aaxis": {
             "endlinecolor": "#2a3f5f",
             "gridcolor": "white",
             "linecolor": "white",
             "minorgridcolor": "white",
             "startlinecolor": "#2a3f5f"
            },
            "baxis": {
             "endlinecolor": "#2a3f5f",
             "gridcolor": "white",
             "linecolor": "white",
             "minorgridcolor": "white",
             "startlinecolor": "#2a3f5f"
            },
            "type": "carpet"
           }
          ],
          "choropleth": [
           {
            "colorbar": {
             "outlinewidth": 0,
             "ticks": ""
            },
            "type": "choropleth"
           }
          ],
          "contour": [
           {
            "colorbar": {
             "outlinewidth": 0,
             "ticks": ""
            },
            "colorscale": [
             [
              0,
              "#0d0887"
             ],
             [
              0.1111111111111111,
              "#46039f"
             ],
             [
              0.2222222222222222,
              "#7201a8"
             ],
             [
              0.3333333333333333,
              "#9c179e"
             ],
             [
              0.4444444444444444,
              "#bd3786"
             ],
             [
              0.5555555555555556,
              "#d8576b"
             ],
             [
              0.6666666666666666,
              "#ed7953"
             ],
             [
              0.7777777777777778,
              "#fb9f3a"
             ],
             [
              0.8888888888888888,
              "#fdca26"
             ],
             [
              1,
              "#f0f921"
             ]
            ],
            "type": "contour"
           }
          ],
          "contourcarpet": [
           {
            "colorbar": {
             "outlinewidth": 0,
             "ticks": ""
            },
            "type": "contourcarpet"
           }
          ],
          "heatmap": [
           {
            "colorbar": {
             "outlinewidth": 0,
             "ticks": ""
            },
            "colorscale": [
             [
              0,
              "#0d0887"
             ],
             [
              0.1111111111111111,
              "#46039f"
             ],
             [
              0.2222222222222222,
              "#7201a8"
             ],
             [
              0.3333333333333333,
              "#9c179e"
             ],
             [
              0.4444444444444444,
              "#bd3786"
             ],
             [
              0.5555555555555556,
              "#d8576b"
             ],
             [
              0.6666666666666666,
              "#ed7953"
             ],
             [
              0.7777777777777778,
              "#fb9f3a"
             ],
             [
              0.8888888888888888,
              "#fdca26"
             ],
             [
              1,
              "#f0f921"
             ]
            ],
            "type": "heatmap"
           }
          ],
          "heatmapgl": [
           {
            "colorbar": {
             "outlinewidth": 0,
             "ticks": ""
            },
            "colorscale": [
             [
              0,
              "#0d0887"
             ],
             [
              0.1111111111111111,
              "#46039f"
             ],
             [
              0.2222222222222222,
              "#7201a8"
             ],
             [
              0.3333333333333333,
              "#9c179e"
             ],
             [
              0.4444444444444444,
              "#bd3786"
             ],
             [
              0.5555555555555556,
              "#d8576b"
             ],
             [
              0.6666666666666666,
              "#ed7953"
             ],
             [
              0.7777777777777778,
              "#fb9f3a"
             ],
             [
              0.8888888888888888,
              "#fdca26"
             ],
             [
              1,
              "#f0f921"
             ]
            ],
            "type": "heatmapgl"
           }
          ],
          "histogram": [
           {
            "marker": {
             "colorbar": {
              "outlinewidth": 0,
              "ticks": ""
             }
            },
            "type": "histogram"
           }
          ],
          "histogram2d": [
           {
            "colorbar": {
             "outlinewidth": 0,
             "ticks": ""
            },
            "colorscale": [
             [
              0,
              "#0d0887"
             ],
             [
              0.1111111111111111,
              "#46039f"
             ],
             [
              0.2222222222222222,
              "#7201a8"
             ],
             [
              0.3333333333333333,
              "#9c179e"
             ],
             [
              0.4444444444444444,
              "#bd3786"
             ],
             [
              0.5555555555555556,
              "#d8576b"
             ],
             [
              0.6666666666666666,
              "#ed7953"
             ],
             [
              0.7777777777777778,
              "#fb9f3a"
             ],
             [
              0.8888888888888888,
              "#fdca26"
             ],
             [
              1,
              "#f0f921"
             ]
            ],
            "type": "histogram2d"
           }
          ],
          "histogram2dcontour": [
           {
            "colorbar": {
             "outlinewidth": 0,
             "ticks": ""
            },
            "colorscale": [
             [
              0,
              "#0d0887"
             ],
             [
              0.1111111111111111,
              "#46039f"
             ],
             [
              0.2222222222222222,
              "#7201a8"
             ],
             [
              0.3333333333333333,
              "#9c179e"
             ],
             [
              0.4444444444444444,
              "#bd3786"
             ],
             [
              0.5555555555555556,
              "#d8576b"
             ],
             [
              0.6666666666666666,
              "#ed7953"
             ],
             [
              0.7777777777777778,
              "#fb9f3a"
             ],
             [
              0.8888888888888888,
              "#fdca26"
             ],
             [
              1,
              "#f0f921"
             ]
            ],
            "type": "histogram2dcontour"
           }
          ],
          "mesh3d": [
           {
            "colorbar": {
             "outlinewidth": 0,
             "ticks": ""
            },
            "type": "mesh3d"
           }
          ],
          "parcoords": [
           {
            "line": {
             "colorbar": {
              "outlinewidth": 0,
              "ticks": ""
             }
            },
            "type": "parcoords"
           }
          ],
          "pie": [
           {
            "automargin": true,
            "type": "pie"
           }
          ],
          "scatter": [
           {
            "marker": {
             "colorbar": {
              "outlinewidth": 0,
              "ticks": ""
             }
            },
            "type": "scatter"
           }
          ],
          "scatter3d": [
           {
            "line": {
             "colorbar": {
              "outlinewidth": 0,
              "ticks": ""
             }
            },
            "marker": {
             "colorbar": {
              "outlinewidth": 0,
              "ticks": ""
             }
            },
            "type": "scatter3d"
           }
          ],
          "scattercarpet": [
           {
            "marker": {
             "colorbar": {
              "outlinewidth": 0,
              "ticks": ""
             }
            },
            "type": "scattercarpet"
           }
          ],
          "scattergeo": [
           {
            "marker": {
             "colorbar": {
              "outlinewidth": 0,
              "ticks": ""
             }
            },
            "type": "scattergeo"
           }
          ],
          "scattergl": [
           {
            "marker": {
             "colorbar": {
              "outlinewidth": 0,
              "ticks": ""
             }
            },
            "type": "scattergl"
           }
          ],
          "scattermapbox": [
           {
            "marker": {
             "colorbar": {
              "outlinewidth": 0,
              "ticks": ""
             }
            },
            "type": "scattermapbox"
           }
          ],
          "scatterpolar": [
           {
            "marker": {
             "colorbar": {
              "outlinewidth": 0,
              "ticks": ""
             }
            },
            "type": "scatterpolar"
           }
          ],
          "scatterpolargl": [
           {
            "marker": {
             "colorbar": {
              "outlinewidth": 0,
              "ticks": ""
             }
            },
            "type": "scatterpolargl"
           }
          ],
          "scatterternary": [
           {
            "marker": {
             "colorbar": {
              "outlinewidth": 0,
              "ticks": ""
             }
            },
            "type": "scatterternary"
           }
          ],
          "surface": [
           {
            "colorbar": {
             "outlinewidth": 0,
             "ticks": ""
            },
            "colorscale": [
             [
              0,
              "#0d0887"
             ],
             [
              0.1111111111111111,
              "#46039f"
             ],
             [
              0.2222222222222222,
              "#7201a8"
             ],
             [
              0.3333333333333333,
              "#9c179e"
             ],
             [
              0.4444444444444444,
              "#bd3786"
             ],
             [
              0.5555555555555556,
              "#d8576b"
             ],
             [
              0.6666666666666666,
              "#ed7953"
             ],
             [
              0.7777777777777778,
              "#fb9f3a"
             ],
             [
              0.8888888888888888,
              "#fdca26"
             ],
             [
              1,
              "#f0f921"
             ]
            ],
            "type": "surface"
           }
          ],
          "table": [
           {
            "cells": {
             "fill": {
              "color": "#EBF0F8"
             },
             "line": {
              "color": "white"
             }
            },
            "header": {
             "fill": {
              "color": "#C8D4E3"
             },
             "line": {
              "color": "white"
             }
            },
            "type": "table"
           }
          ]
         },
         "layout": {
          "annotationdefaults": {
           "arrowcolor": "#2a3f5f",
           "arrowhead": 0,
           "arrowwidth": 1
          },
          "coloraxis": {
           "colorbar": {
            "outlinewidth": 0,
            "ticks": ""
           }
          },
          "colorscale": {
           "diverging": [
            [
             0,
             "#8e0152"
            ],
            [
             0.1,
             "#c51b7d"
            ],
            [
             0.2,
             "#de77ae"
            ],
            [
             0.3,
             "#f1b6da"
            ],
            [
             0.4,
             "#fde0ef"
            ],
            [
             0.5,
             "#f7f7f7"
            ],
            [
             0.6,
             "#e6f5d0"
            ],
            [
             0.7,
             "#b8e186"
            ],
            [
             0.8,
             "#7fbc41"
            ],
            [
             0.9,
             "#4d9221"
            ],
            [
             1,
             "#276419"
            ]
           ],
           "sequential": [
            [
             0,
             "#0d0887"
            ],
            [
             0.1111111111111111,
             "#46039f"
            ],
            [
             0.2222222222222222,
             "#7201a8"
            ],
            [
             0.3333333333333333,
             "#9c179e"
            ],
            [
             0.4444444444444444,
             "#bd3786"
            ],
            [
             0.5555555555555556,
             "#d8576b"
            ],
            [
             0.6666666666666666,
             "#ed7953"
            ],
            [
             0.7777777777777778,
             "#fb9f3a"
            ],
            [
             0.8888888888888888,
             "#fdca26"
            ],
            [
             1,
             "#f0f921"
            ]
           ],
           "sequentialminus": [
            [
             0,
             "#0d0887"
            ],
            [
             0.1111111111111111,
             "#46039f"
            ],
            [
             0.2222222222222222,
             "#7201a8"
            ],
            [
             0.3333333333333333,
             "#9c179e"
            ],
            [
             0.4444444444444444,
             "#bd3786"
            ],
            [
             0.5555555555555556,
             "#d8576b"
            ],
            [
             0.6666666666666666,
             "#ed7953"
            ],
            [
             0.7777777777777778,
             "#fb9f3a"
            ],
            [
             0.8888888888888888,
             "#fdca26"
            ],
            [
             1,
             "#f0f921"
            ]
           ]
          },
          "colorway": [
           "#636efa",
           "#EF553B",
           "#00cc96",
           "#ab63fa",
           "#FFA15A",
           "#19d3f3",
           "#FF6692",
           "#B6E880",
           "#FF97FF",
           "#FECB52"
          ],
          "font": {
           "color": "#2a3f5f"
          },
          "geo": {
           "bgcolor": "white",
           "lakecolor": "white",
           "landcolor": "#E5ECF6",
           "showlakes": true,
           "showland": true,
           "subunitcolor": "white"
          },
          "hoverlabel": {
           "align": "left"
          },
          "hovermode": "closest",
          "mapbox": {
           "style": "light"
          },
          "paper_bgcolor": "white",
          "plot_bgcolor": "#E5ECF6",
          "polar": {
           "angularaxis": {
            "gridcolor": "white",
            "linecolor": "white",
            "ticks": ""
           },
           "bgcolor": "#E5ECF6",
           "radialaxis": {
            "gridcolor": "white",
            "linecolor": "white",
            "ticks": ""
           }
          },
          "scene": {
           "xaxis": {
            "backgroundcolor": "#E5ECF6",
            "gridcolor": "white",
            "gridwidth": 2,
            "linecolor": "white",
            "showbackground": true,
            "ticks": "",
            "zerolinecolor": "white"
           },
           "yaxis": {
            "backgroundcolor": "#E5ECF6",
            "gridcolor": "white",
            "gridwidth": 2,
            "linecolor": "white",
            "showbackground": true,
            "ticks": "",
            "zerolinecolor": "white"
           },
           "zaxis": {
            "backgroundcolor": "#E5ECF6",
            "gridcolor": "white",
            "gridwidth": 2,
            "linecolor": "white",
            "showbackground": true,
            "ticks": "",
            "zerolinecolor": "white"
           }
          },
          "shapedefaults": {
           "line": {
            "color": "#2a3f5f"
           }
          },
          "ternary": {
           "aaxis": {
            "gridcolor": "white",
            "linecolor": "white",
            "ticks": ""
           },
           "baxis": {
            "gridcolor": "white",
            "linecolor": "white",
            "ticks": ""
           },
           "bgcolor": "#E5ECF6",
           "caxis": {
            "gridcolor": "white",
            "linecolor": "white",
            "ticks": ""
           }
          },
          "title": {
           "x": 0.05
          },
          "xaxis": {
           "automargin": true,
           "gridcolor": "white",
           "linecolor": "white",
           "ticks": "",
           "title": {
            "standoff": 15
           },
           "zerolinecolor": "white",
           "zerolinewidth": 2
          },
          "yaxis": {
           "automargin": true,
           "gridcolor": "white",
           "linecolor": "white",
           "ticks": "",
           "title": {
            "standoff": 15
           },
           "zerolinecolor": "white",
           "zerolinewidth": 2
          }
         }
        },
        "title": {
         "text": "Número de Focos de Calor por Mês"
        },
        "width": 900,
        "xaxis": {
         "title": {
          "text": "Estado"
         }
        },
        "yaxis": {
         "title": {
          "text": "Número de Focos de Calor"
         }
        }
       }
      },
      "text/html": [
       "<div>                            <div id=\"1bef75b6-dc6a-4a32-8077-23fc1833795c\" class=\"plotly-graph-div\" style=\"height:600px; width:900px;\"></div>            <script type=\"text/javascript\">                require([\"plotly\"], function(Plotly) {                    window.PLOTLYENV=window.PLOTLYENV || {};                                    if (document.getElementById(\"1bef75b6-dc6a-4a32-8077-23fc1833795c\")) {                    Plotly.newPlot(                        \"1bef75b6-dc6a-4a32-8077-23fc1833795c\",                        [{\"text\": [1151789.0, 791781.0, 675673.0, 341306.0, 225306.0, 167905.0, 113628.0, 52587.0, 46083.0, 35118.0, 31897.0, 29957.0], \"textposition\": \"auto\", \"type\": \"bar\", \"x\": [\"Setembro\", \"Agosto\", \"Outubro\", \"Novembro\", \"Julho\", \"Dezembro\", \"Junho\", \"Janeiro\", \"Maio\", \"Mar\\u00e7o\", \"Fevereiro\", \"Abril\"], \"y\": [1151789, 791781, 675673, 341306, 225306, 167905, 113628, 52587, 46083, 35118, 31897, 29957]}],                        {\"height\": 600, \"template\": {\"data\": {\"bar\": [{\"error_x\": {\"color\": \"#2a3f5f\"}, \"error_y\": {\"color\": \"#2a3f5f\"}, \"marker\": {\"line\": {\"color\": \"#E5ECF6\", \"width\": 0.5}}, \"type\": \"bar\"}], \"barpolar\": [{\"marker\": {\"line\": {\"color\": \"#E5ECF6\", \"width\": 0.5}}, \"type\": \"barpolar\"}], \"carpet\": [{\"aaxis\": {\"endlinecolor\": \"#2a3f5f\", \"gridcolor\": \"white\", \"linecolor\": \"white\", \"minorgridcolor\": \"white\", \"startlinecolor\": \"#2a3f5f\"}, \"baxis\": {\"endlinecolor\": \"#2a3f5f\", \"gridcolor\": \"white\", \"linecolor\": \"white\", \"minorgridcolor\": \"white\", \"startlinecolor\": \"#2a3f5f\"}, \"type\": \"carpet\"}], \"choropleth\": [{\"colorbar\": {\"outlinewidth\": 0, \"ticks\": \"\"}, \"type\": \"choropleth\"}], \"contour\": [{\"colorbar\": {\"outlinewidth\": 0, \"ticks\": \"\"}, \"colorscale\": [[0.0, \"#0d0887\"], [0.1111111111111111, \"#46039f\"], [0.2222222222222222, \"#7201a8\"], [0.3333333333333333, \"#9c179e\"], [0.4444444444444444, \"#bd3786\"], [0.5555555555555556, \"#d8576b\"], [0.6666666666666666, \"#ed7953\"], [0.7777777777777778, \"#fb9f3a\"], [0.8888888888888888, \"#fdca26\"], [1.0, \"#f0f921\"]], \"type\": \"contour\"}], \"contourcarpet\": [{\"colorbar\": {\"outlinewidth\": 0, \"ticks\": \"\"}, \"type\": \"contourcarpet\"}], \"heatmap\": [{\"colorbar\": {\"outlinewidth\": 0, \"ticks\": \"\"}, \"colorscale\": [[0.0, \"#0d0887\"], [0.1111111111111111, \"#46039f\"], [0.2222222222222222, \"#7201a8\"], [0.3333333333333333, \"#9c179e\"], [0.4444444444444444, \"#bd3786\"], [0.5555555555555556, \"#d8576b\"], [0.6666666666666666, \"#ed7953\"], [0.7777777777777778, \"#fb9f3a\"], [0.8888888888888888, \"#fdca26\"], [1.0, \"#f0f921\"]], \"type\": \"heatmap\"}], \"heatmapgl\": [{\"colorbar\": {\"outlinewidth\": 0, \"ticks\": \"\"}, \"colorscale\": [[0.0, \"#0d0887\"], [0.1111111111111111, \"#46039f\"], [0.2222222222222222, \"#7201a8\"], [0.3333333333333333, \"#9c179e\"], [0.4444444444444444, \"#bd3786\"], [0.5555555555555556, \"#d8576b\"], [0.6666666666666666, \"#ed7953\"], [0.7777777777777778, \"#fb9f3a\"], [0.8888888888888888, \"#fdca26\"], [1.0, \"#f0f921\"]], \"type\": \"heatmapgl\"}], \"histogram\": [{\"marker\": {\"colorbar\": {\"outlinewidth\": 0, \"ticks\": \"\"}}, \"type\": \"histogram\"}], \"histogram2d\": [{\"colorbar\": {\"outlinewidth\": 0, \"ticks\": \"\"}, \"colorscale\": [[0.0, \"#0d0887\"], [0.1111111111111111, \"#46039f\"], [0.2222222222222222, \"#7201a8\"], [0.3333333333333333, \"#9c179e\"], [0.4444444444444444, \"#bd3786\"], [0.5555555555555556, \"#d8576b\"], [0.6666666666666666, \"#ed7953\"], [0.7777777777777778, \"#fb9f3a\"], [0.8888888888888888, \"#fdca26\"], [1.0, \"#f0f921\"]], \"type\": \"histogram2d\"}], \"histogram2dcontour\": [{\"colorbar\": {\"outlinewidth\": 0, \"ticks\": \"\"}, \"colorscale\": [[0.0, \"#0d0887\"], [0.1111111111111111, \"#46039f\"], [0.2222222222222222, \"#7201a8\"], [0.3333333333333333, \"#9c179e\"], [0.4444444444444444, \"#bd3786\"], [0.5555555555555556, \"#d8576b\"], [0.6666666666666666, \"#ed7953\"], [0.7777777777777778, \"#fb9f3a\"], [0.8888888888888888, \"#fdca26\"], [1.0, \"#f0f921\"]], \"type\": \"histogram2dcontour\"}], \"mesh3d\": [{\"colorbar\": {\"outlinewidth\": 0, \"ticks\": \"\"}, \"type\": \"mesh3d\"}], \"parcoords\": [{\"line\": {\"colorbar\": {\"outlinewidth\": 0, \"ticks\": \"\"}}, \"type\": \"parcoords\"}], \"pie\": [{\"automargin\": true, \"type\": \"pie\"}], \"scatter\": [{\"marker\": {\"colorbar\": {\"outlinewidth\": 0, \"ticks\": \"\"}}, \"type\": \"scatter\"}], \"scatter3d\": [{\"line\": {\"colorbar\": {\"outlinewidth\": 0, \"ticks\": \"\"}}, \"marker\": {\"colorbar\": {\"outlinewidth\": 0, \"ticks\": \"\"}}, \"type\": \"scatter3d\"}], \"scattercarpet\": [{\"marker\": {\"colorbar\": {\"outlinewidth\": 0, \"ticks\": \"\"}}, \"type\": \"scattercarpet\"}], \"scattergeo\": [{\"marker\": {\"colorbar\": {\"outlinewidth\": 0, \"ticks\": \"\"}}, \"type\": \"scattergeo\"}], \"scattergl\": [{\"marker\": {\"colorbar\": {\"outlinewidth\": 0, \"ticks\": \"\"}}, \"type\": \"scattergl\"}], \"scattermapbox\": [{\"marker\": {\"colorbar\": {\"outlinewidth\": 0, \"ticks\": \"\"}}, \"type\": \"scattermapbox\"}], \"scatterpolar\": [{\"marker\": {\"colorbar\": {\"outlinewidth\": 0, \"ticks\": \"\"}}, \"type\": \"scatterpolar\"}], \"scatterpolargl\": [{\"marker\": {\"colorbar\": {\"outlinewidth\": 0, \"ticks\": \"\"}}, \"type\": \"scatterpolargl\"}], \"scatterternary\": [{\"marker\": {\"colorbar\": {\"outlinewidth\": 0, \"ticks\": \"\"}}, \"type\": \"scatterternary\"}], \"surface\": [{\"colorbar\": {\"outlinewidth\": 0, \"ticks\": \"\"}, \"colorscale\": [[0.0, \"#0d0887\"], [0.1111111111111111, \"#46039f\"], [0.2222222222222222, \"#7201a8\"], [0.3333333333333333, \"#9c179e\"], [0.4444444444444444, \"#bd3786\"], [0.5555555555555556, \"#d8576b\"], [0.6666666666666666, \"#ed7953\"], [0.7777777777777778, \"#fb9f3a\"], [0.8888888888888888, \"#fdca26\"], [1.0, \"#f0f921\"]], \"type\": \"surface\"}], \"table\": [{\"cells\": {\"fill\": {\"color\": \"#EBF0F8\"}, \"line\": {\"color\": \"white\"}}, \"header\": {\"fill\": {\"color\": \"#C8D4E3\"}, \"line\": {\"color\": \"white\"}}, \"type\": \"table\"}]}, \"layout\": {\"annotationdefaults\": {\"arrowcolor\": \"#2a3f5f\", \"arrowhead\": 0, \"arrowwidth\": 1}, \"coloraxis\": {\"colorbar\": {\"outlinewidth\": 0, \"ticks\": \"\"}}, \"colorscale\": {\"diverging\": [[0, \"#8e0152\"], [0.1, \"#c51b7d\"], [0.2, \"#de77ae\"], [0.3, \"#f1b6da\"], [0.4, \"#fde0ef\"], [0.5, \"#f7f7f7\"], [0.6, \"#e6f5d0\"], [0.7, \"#b8e186\"], [0.8, \"#7fbc41\"], [0.9, \"#4d9221\"], [1, \"#276419\"]], \"sequential\": [[0.0, \"#0d0887\"], [0.1111111111111111, \"#46039f\"], [0.2222222222222222, \"#7201a8\"], [0.3333333333333333, \"#9c179e\"], [0.4444444444444444, \"#bd3786\"], [0.5555555555555556, \"#d8576b\"], [0.6666666666666666, \"#ed7953\"], [0.7777777777777778, \"#fb9f3a\"], [0.8888888888888888, \"#fdca26\"], [1.0, \"#f0f921\"]], \"sequentialminus\": [[0.0, \"#0d0887\"], [0.1111111111111111, \"#46039f\"], [0.2222222222222222, \"#7201a8\"], [0.3333333333333333, \"#9c179e\"], [0.4444444444444444, \"#bd3786\"], [0.5555555555555556, \"#d8576b\"], [0.6666666666666666, \"#ed7953\"], [0.7777777777777778, \"#fb9f3a\"], [0.8888888888888888, \"#fdca26\"], [1.0, \"#f0f921\"]]}, \"colorway\": [\"#636efa\", \"#EF553B\", \"#00cc96\", \"#ab63fa\", \"#FFA15A\", \"#19d3f3\", \"#FF6692\", \"#B6E880\", \"#FF97FF\", \"#FECB52\"], \"font\": {\"color\": \"#2a3f5f\"}, \"geo\": {\"bgcolor\": \"white\", \"lakecolor\": \"white\", \"landcolor\": \"#E5ECF6\", \"showlakes\": true, \"showland\": true, \"subunitcolor\": \"white\"}, \"hoverlabel\": {\"align\": \"left\"}, \"hovermode\": \"closest\", \"mapbox\": {\"style\": \"light\"}, \"paper_bgcolor\": \"white\", \"plot_bgcolor\": \"#E5ECF6\", \"polar\": {\"angularaxis\": {\"gridcolor\": \"white\", \"linecolor\": \"white\", \"ticks\": \"\"}, \"bgcolor\": \"#E5ECF6\", \"radialaxis\": {\"gridcolor\": \"white\", \"linecolor\": \"white\", \"ticks\": \"\"}}, \"scene\": {\"xaxis\": {\"backgroundcolor\": \"#E5ECF6\", \"gridcolor\": \"white\", \"gridwidth\": 2, \"linecolor\": \"white\", \"showbackground\": true, \"ticks\": \"\", \"zerolinecolor\": \"white\"}, \"yaxis\": {\"backgroundcolor\": \"#E5ECF6\", \"gridcolor\": \"white\", \"gridwidth\": 2, \"linecolor\": \"white\", \"showbackground\": true, \"ticks\": \"\", \"zerolinecolor\": \"white\"}, \"zaxis\": {\"backgroundcolor\": \"#E5ECF6\", \"gridcolor\": \"white\", \"gridwidth\": 2, \"linecolor\": \"white\", \"showbackground\": true, \"ticks\": \"\", \"zerolinecolor\": \"white\"}}, \"shapedefaults\": {\"line\": {\"color\": \"#2a3f5f\"}}, \"ternary\": {\"aaxis\": {\"gridcolor\": \"white\", \"linecolor\": \"white\", \"ticks\": \"\"}, \"baxis\": {\"gridcolor\": \"white\", \"linecolor\": \"white\", \"ticks\": \"\"}, \"bgcolor\": \"#E5ECF6\", \"caxis\": {\"gridcolor\": \"white\", \"linecolor\": \"white\", \"ticks\": \"\"}}, \"title\": {\"x\": 0.05}, \"xaxis\": {\"automargin\": true, \"gridcolor\": \"white\", \"linecolor\": \"white\", \"ticks\": \"\", \"title\": {\"standoff\": 15}, \"zerolinecolor\": \"white\", \"zerolinewidth\": 2}, \"yaxis\": {\"automargin\": true, \"gridcolor\": \"white\", \"linecolor\": \"white\", \"ticks\": \"\", \"title\": {\"standoff\": 15}, \"zerolinecolor\": \"white\", \"zerolinewidth\": 2}}}, \"title\": {\"text\": \"N\\u00famero de Focos de Calor por M\\u00eas\"}, \"width\": 900, \"xaxis\": {\"title\": {\"text\": \"Estado\"}}, \"yaxis\": {\"title\": {\"text\": \"N\\u00famero de Focos de Calor\"}}},                        {\"responsive\": true}                    ).then(function(){\n",
       "                            \n",
       "var gd = document.getElementById('1bef75b6-dc6a-4a32-8077-23fc1833795c');\n",
       "var x = new MutationObserver(function (mutations, observer) {{\n",
       "        var display = window.getComputedStyle(gd).display;\n",
       "        if (!display || display === 'none') {{\n",
       "            console.log([gd, 'removed!']);\n",
       "            Plotly.purge(gd);\n",
       "            observer.disconnect();\n",
       "        }}\n",
       "}});\n",
       "\n",
       "// Listen for the removal of the full notebook cells\n",
       "var notebookContainer = gd.closest('#notebook-container');\n",
       "if (notebookContainer) {{\n",
       "    x.observe(notebookContainer, {childList: true});\n",
       "}}\n",
       "\n",
       "// Listen for the clearing of the current output cell\n",
       "var outputEl = gd.closest('.output');\n",
       "if (outputEl) {{\n",
       "    x.observe(outputEl, {childList: true});\n",
       "}}\n",
       "\n",
       "                        })                };                });            </script>        </div>"
      ]
     },
     "metadata": {},
     "output_type": "display_data"
    }
   ],
   "source": [
    "plot_forest_fires_month(base)"
   ]
  },
  {
   "cell_type": "code",
   "execution_count": 124,
   "metadata": {},
   "outputs": [],
   "source": [
    "# Histograma dos focos de calor\n",
    "\n",
    "def plot_histogram(df):\n",
    "\n",
    "    graph = go.Histogram(x=df[df['number'] < 2000]['number']) \n",
    "\n",
    "                          \n",
    "    data = [graph]\n",
    "    \n",
    "    layout = go.Layout(title = 'Histograma dos Números de Focos de Calor',\n",
    "                   xaxis = {'title': 'Distribuição'},\n",
    "                   yaxis = {'title': 'Frequência'})\n",
    "    \n",
    "    fig = go.Figure(data=data, layout=layout)\n",
    "    return py.iplot(fig)"
   ]
  },
  {
   "cell_type": "code",
   "execution_count": 125,
   "metadata": {},
   "outputs": [
    {
     "data": {
      "application/vnd.plotly.v1+json": {
       "config": {
        "linkText": "Export to plot.ly",
        "plotlyServerURL": "https://plot.ly",
        "showLink": false
       },
       "data": [
        {
         "type": "histogram",
         "x": [
          0,
          0,
          0,
          0,
          0,
          10,
          0,
          12,
          4,
          0,
          0,
          0,
          1,
          0,
          0,
          0,
          0,
          1,
          12,
          0,
          0,
          0,
          0,
          0,
          1,
          0,
          3,
          0,
          0,
          5,
          0,
          2,
          0,
          0,
          0,
          0,
          0,
          2,
          5,
          1,
          0,
          0,
          11,
          0,
          0,
          0,
          0,
          3,
          0,
          2,
          0,
          1,
          0,
          0,
          1,
          2,
          1,
          2,
          0,
          0,
          0,
          0,
          1,
          0,
          0,
          1,
          2,
          1,
          0,
          0,
          0,
          0,
          3,
          2,
          1,
          19,
          7,
          3,
          0,
          1,
          0,
          0,
          1,
          0,
          0,
          6,
          7,
          2,
          8,
          1,
          0,
          3,
          9,
          3,
          3,
          4,
          1,
          2,
          21,
          10,
          3,
          0,
          1,
          1,
          0,
          0,
          5,
          27,
          1,
          4,
          0,
          0,
          1,
          10,
          7,
          8,
          17,
          40,
          87,
          45,
          37,
          1,
          1,
          3,
          39,
          168,
          42,
          368,
          33,
          29,
          41,
          31,
          126,
          93,
          71,
          54,
          60,
          109,
          533,
          457,
          130,
          63,
          136,
          396,
          728,
          1976,
          645,
          839,
          960,
          445,
          194,
          1682,
          425,
          739,
          679,
          1100,
          1397,
          1493,
          509,
          209,
          265,
          290,
          1949,
          1978,
          1666,
          1265,
          1204,
          1996,
          44,
          60,
          18,
          137,
          687,
          740,
          461,
          547,
          316,
          203,
          652,
          565,
          292,
          97,
          348,
          258,
          406,
          905,
          509,
          1508,
          0,
          0,
          0,
          1,
          86,
          15,
          10,
          14,
          18,
          7,
          4,
          33,
          39,
          74,
          13,
          79,
          56,
          115,
          46,
          98,
          7,
          0,
          0,
          0,
          1,
          1,
          7,
          2,
          0,
          0,
          0,
          1,
          0,
          4,
          1,
          3,
          6,
          8,
          6,
          0,
          58,
          11,
          5,
          12,
          150,
          9,
          83,
          29,
          33,
          55,
          104,
          23,
          41,
          36,
          49,
          54,
          81,
          24,
          38,
          38,
          0,
          20,
          16,
          4,
          15,
          33,
          7,
          31,
          14,
          28,
          74,
          32,
          26,
          33,
          41,
          19,
          29,
          46,
          14,
          21,
          0,
          52,
          32,
          0,
          27,
          15,
          16,
          35,
          37,
          7,
          31,
          31,
          70,
          34,
          44,
          31,
          28,
          32,
          9,
          23,
          0,
          4,
          20,
          0,
          6,
          20,
          6,
          1,
          2,
          1,
          18,
          5,
          3,
          17,
          18,
          25,
          16,
          63,
          13,
          7,
          0,
          1,
          1,
          2,
          1,
          1,
          3,
          0,
          0,
          0,
          0,
          0,
          0,
          0,
          21,
          2,
          1,
          18,
          4,
          1,
          0,
          0,
          0,
          2,
          0,
          0,
          0,
          0,
          0,
          0,
          0,
          0,
          0,
          2,
          4,
          1,
          2,
          2,
          5,
          2,
          0,
          0,
          0,
          0,
          5,
          0,
          0,
          0,
          0,
          0,
          0,
          0,
          2,
          0,
          0,
          0,
          1,
          0,
          3,
          0,
          1,
          3,
          4,
          1,
          3,
          2,
          2,
          2,
          1,
          3,
          1,
          0,
          1,
          4,
          0,
          0,
          3,
          3,
          5,
          1,
          14,
          3,
          22,
          5,
          14,
          8,
          5,
          7,
          4,
          2,
          9,
          13,
          5,
          5,
          6,
          4,
          11,
          7,
          18,
          4,
          20,
          4,
          13,
          15,
          30,
          10,
          12,
          17,
          32,
          6,
          18,
          30,
          16,
          23,
          28,
          25,
          7,
          40,
          74,
          14,
          19,
          15,
          2,
          22,
          50,
          17,
          28,
          25,
          12,
          15,
          37,
          55,
          31,
          23,
          95,
          10,
          14,
          162,
          76,
          10,
          32,
          12,
          2,
          30,
          95,
          43,
          71,
          16,
          30,
          33,
          34,
          55,
          45,
          50,
          59,
          42,
          24,
          136,
          155,
          0,
          0,
          2,
          0,
          7,
          31,
          38,
          109,
          6,
          0,
          2,
          4,
          2,
          0,
          30,
          3,
          10,
          14,
          19,
          2,
          0,
          1,
          0,
          0,
          2,
          0,
          2,
          1,
          2,
          0,
          0,
          0,
          0,
          3,
          5,
          0,
          2,
          1,
          1,
          0,
          0,
          2,
          0,
          0,
          0,
          1,
          0,
          0,
          0,
          0,
          1,
          1,
          2,
          0,
          1,
          0,
          1,
          2,
          5,
          0,
          0,
          0,
          0,
          0,
          0,
          2,
          0,
          0,
          0,
          0,
          2,
          0,
          2,
          0,
          2,
          2,
          0,
          0,
          0,
          3,
          0,
          0,
          0,
          0,
          3,
          0,
          0,
          0,
          0,
          0,
          0,
          2,
          2,
          2,
          2,
          0,
          0,
          0,
          1,
          1,
          0,
          2,
          0,
          0,
          0,
          0,
          5,
          2,
          0,
          0,
          0,
          1,
          0,
          0,
          7,
          1,
          0,
          3,
          2,
          2,
          0,
          0,
          0,
          1,
          1,
          0,
          2,
          0,
          0,
          0,
          0,
          4,
          2,
          5,
          3,
          1,
          4,
          5,
          1,
          3,
          1,
          0,
          3,
          12,
          18,
          14,
          9,
          4,
          11,
          5,
          4,
          20,
          1,
          16,
          19,
          9,
          18,
          40,
          37,
          33,
          20,
          4,
          19,
          95,
          73,
          88,
          67,
          97,
          112,
          61,
          83,
          188,
          63,
          128,
          168,
          85,
          137,
          192,
          142,
          95,
          42,
          25,
          42,
          194,
          557,
          355,
          412,
          335,
          405,
          162,
          395,
          765,
          265,
          304,
          475,
          385,
          480,
          827,
          793,
          468,
          131,
          26,
          157,
          406,
          1096,
          750,
          949,
          685,
          207,
          198,
          266,
          1019,
          339,
          282,
          969,
          341,
          484,
          1300,
          1161,
          858,
          84,
          41,
          30,
          593,
          200,
          411,
          777,
          38,
          74,
          14,
          32,
          123,
          43,
          360,
          422,
          148,
          354,
          269,
          491,
          0,
          3,
          7,
          3,
          17,
          158,
          123,
          44,
          20,
          37,
          16,
          9,
          82,
          53,
          6,
          37,
          46,
          35,
          770,
          65,
          0,
          43,
          62,
          8,
          2,
          62,
          92,
          6,
          10,
          92,
          32,
          3,
          81,
          30,
          25,
          16,
          49,
          107,
          275,
          52,
          0,
          7,
          69,
          6,
          5,
          64,
          6,
          12,
          20,
          6,
          10,
          11,
          116,
          49,
          17,
          49,
          50,
          46,
          140,
          45,
          0,
          2,
          18,
          1,
          2,
          11,
          4,
          5,
          5,
          0,
          13,
          1,
          11,
          5,
          3,
          20,
          25,
          24,
          22,
          20,
          0,
          0,
          51,
          0,
          8,
          2,
          0,
          8,
          4,
          0,
          1,
          3,
          13,
          6,
          12,
          19,
          12,
          10,
          30,
          40,
          2,
          7,
          6,
          5,
          5,
          3,
          12,
          78,
          9,
          23,
          7,
          13,
          9,
          22,
          45,
          56,
          74,
          33,
          90,
          119,
          71,
          11,
          39,
          9,
          146,
          180,
          177,
          676,
          123,
          116,
          108,
          199,
          640,
          271,
          234,
          248,
          202,
          356,
          1137,
          1975,
          321,
          259,
          180,
          501,
          741,
          1867,
          1207,
          1422,
          861,
          1321,
          1243,
          1276,
          267,
          216,
          189,
          166,
          928,
          1401,
          911,
          1360,
          998,
          1295,
          1739,
          83,
          479,
          145,
          332,
          695,
          725,
          710,
          545,
          721,
          215,
          632,
          889,
          694,
          1238,
          1202,
          952,
          1581,
          6,
          32,
          27,
          244,
          259,
          169,
          209,
          261,
          59,
          90,
          39,
          973,
          354,
          399,
          682,
          220,
          676,
          1054,
          591,
          552,
          196,
          2,
          60,
          22,
          44,
          147,
          53,
          17,
          23,
          7,
          0,
          102,
          123,
          121,
          80,
          236,
          293,
          565,
          133,
          0,
          114,
          31,
          24,
          125,
          439,
          158,
          303,
          225,
          373,
          314,
          177,
          297,
          101,
          179,
          125,
          132,
          256,
          285,
          154,
          0,
          157,
          32,
          101,
          204,
          223,
          122,
          143,
          277,
          113,
          235,
          117,
          206,
          156,
          200,
          231,
          107,
          143,
          418,
          100,
          0,
          83,
          65,
          4,
          146,
          274,
          115,
          158,
          199,
          141,
          135,
          249,
          156,
          90,
          404,
          363,
          148,
          229,
          281,
          163,
          0,
          55,
          23,
          26,
          110,
          376,
          89,
          76,
          60,
          64,
          151,
          40,
          103,
          149,
          396,
          108,
          183,
          190,
          217,
          94,
          0,
          76,
          71,
          85,
          166,
          106,
          124,
          120,
          43,
          161,
          56,
          34,
          198,
          189,
          326,
          141,
          224,
          144,
          259,
          121,
          55,
          64,
          178,
          98,
          118,
          140,
          289,
          211,
          68,
          270,
          72,
          92,
          192,
          345,
          385,
          208,
          243,
          242,
          416,
          329,
          219,
          107,
          202,
          248,
          549,
          261,
          310,
          269,
          229,
          811,
          271,
          321,
          519,
          578,
          906,
          362,
          249,
          306,
          345,
          300,
          815,
          453,
          633,
          979,
          1827,
          1039,
          1430,
          948,
          995,
          611,
          439,
          1795,
          1835,
          610,
          674,
          829,
          724,
          1018,
          1275,
          1819,
          1791,
          1969,
          1307,
          1687,
          1969,
          1415,
          49,
          49,
          114,
          699,
          1020,
          533,
          1736,
          1595,
          239,
          402,
          605,
          176,
          168,
          288,
          348,
          1705,
          408,
          174,
          82,
          37,
          24,
          158,
          848,
          710,
          423,
          116,
          169,
          259,
          52,
          308,
          226,
          230,
          477,
          131,
          144,
          1408,
          164,
          0,
          47,
          1,
          11,
          33,
          264,
          143,
          384,
          211,
          304,
          166,
          347,
          288,
          32,
          273,
          103,
          115,
          207,
          100,
          91,
          0,
          16,
          6,
          0,
          75,
          9,
          5,
          25,
          23,
          3,
          12,
          8,
          63,
          2,
          41,
          49,
          18,
          25,
          13,
          9,
          0,
          30,
          9,
          0,
          17,
          3,
          1,
          5,
          3,
          2,
          2,
          3,
          40,
          6,
          10,
          17,
          6,
          20,
          4,
          4,
          0,
          6,
          15,
          2,
          5,
          3,
          2,
          4,
          1,
          1,
          0,
          0,
          7,
          1,
          2,
          4,
          4,
          3,
          10,
          6,
          0,
          5,
          7,
          81,
          10,
          0,
          3,
          1,
          0,
          0,
          0,
          0,
          2,
          0,
          19,
          4,
          4,
          17,
          8,
          9,
          1,
          16,
          16,
          38,
          13,
          2,
          1,
          6,
          0,
          1,
          1,
          0,
          3,
          5,
          28,
          5,
          19,
          22,
          45,
          23,
          76,
          83,
          18,
          146,
          12,
          14,
          16,
          14,
          1,
          11,
          3,
          7,
          44,
          18,
          50,
          4,
          47,
          25,
          124,
          26,
          93,
          131,
          79,
          219,
          111,
          109,
          61,
          51,
          50,
          182,
          32,
          26,
          202,
          53,
          278,
          32,
          155,
          127,
          293,
          121,
          590,
          124,
          127,
          801,
          172,
          384,
          144,
          185,
          237,
          241,
          177,
          101,
          357,
          239,
          609,
          177,
          155,
          214,
          370,
          505,
          1014,
          309,
          875,
          1606,
          1761,
          1217,
          1378,
          581,
          964,
          816,
          435,
          502,
          415,
          1104,
          466,
          517,
          658,
          1310,
          949,
          575,
          524,
          669,
          1012,
          1443,
          1753,
          1653,
          1652,
          1561,
          995,
          1081,
          829,
          1081,
          1328,
          812,
          276,
          397,
          389,
          545,
          1787,
          1360,
          1161,
          1177,
          1655,
          1987,
          578,
          1441,
          631,
          956,
          643,
          1021,
          819,
          0,
          0,
          0,
          0,
          0,
          0,
          0,
          0,
          0,
          0,
          0,
          1,
          2,
          2,
          0,
          0,
          0,
          1,
          1,
          1,
          0,
          2,
          0,
          1,
          0,
          1,
          0,
          0,
          0,
          0,
          0,
          0,
          4,
          1,
          0,
          1,
          1,
          0,
          2,
          0,
          0,
          0,
          0,
          0,
          0,
          0,
          0,
          0,
          0,
          1,
          2,
          0,
          0,
          0,
          0,
          1,
          1,
          0,
          1,
          0,
          0,
          0,
          0,
          0,
          1,
          0,
          1,
          0,
          0,
          0,
          1,
          0,
          8,
          1,
          4,
          1,
          2,
          0,
          5,
          1,
          0,
          0,
          2,
          0,
          1,
          0,
          9,
          2,
          3,
          4,
          6,
          9,
          23,
          3,
          0,
          2,
          9,
          2,
          15,
          6,
          2,
          3,
          1,
          3,
          7,
          11,
          6,
          3,
          2,
          21,
          0,
          4,
          21,
          18,
          6,
          4,
          6,
          1,
          42,
          23,
          17,
          4,
          15,
          22,
          33,
          19,
          37,
          24,
          10,
          25,
          12,
          33,
          85,
          53,
          29,
          22,
          27,
          15,
          79,
          44,
          48,
          16,
          9,
          25,
          53,
          36,
          108,
          20,
          40,
          137,
          30,
          37,
          159,
          61,
          55,
          34,
          99,
          53,
          29,
          147,
          33,
          12,
          3,
          12,
          33,
          17,
          100,
          23,
          20,
          73,
          54,
          5,
          196,
          133,
          64,
          31,
          72,
          76,
          58,
          122,
          3,
          8,
          18,
          0,
          19,
          12,
          18,
          18,
          1,
          13,
          6,
          3,
          6,
          0,
          15,
          3,
          34,
          21,
          9,
          66,
          0,
          1,
          0,
          0,
          1,
          0,
          0,
          2,
          0,
          0,
          4,
          0,
          0,
          1,
          0,
          0,
          0,
          3,
          1,
          0,
          0,
          0,
          0,
          1,
          1,
          0,
          0,
          0,
          0,
          0,
          0,
          0,
          1,
          0,
          0,
          2,
          0,
          0,
          0,
          0,
          33,
          5,
          1,
          2,
          4,
          1,
          4,
          13,
          0,
          12,
          4,
          52,
          3,
          1,
          10,
          11,
          76,
          43,
          13,
          0,
          10,
          5,
          5,
          4,
          11,
          5,
          1,
          45,
          3,
          20,
          12,
          15,
          42,
          25,
          15,
          17,
          60,
          24,
          8,
          0,
          8,
          1,
          2,
          4,
          28,
          3,
          3,
          14,
          9,
          5,
          11,
          3,
          5,
          35,
          13,
          15,
          25,
          107,
          9,
          0,
          2,
          3,
          2,
          2,
          22,
          0,
          4,
          1,
          2,
          8,
          8,
          7,
          3,
          74,
          16,
          15,
          33,
          57,
          7,
          0,
          16,
          2,
          8,
          5,
          1,
          0,
          5,
          0,
          1,
          2,
          7,
          3,
          2,
          20,
          14,
          18,
          17,
          48,
          10,
          6,
          6,
          9,
          9,
          18,
          19,
          3,
          8,
          5,
          4,
          4,
          12,
          3,
          7,
          15,
          22,
          9,
          18,
          49,
          37,
          37,
          9,
          16,
          12,
          9,
          27,
          4,
          9,
          11,
          13,
          5,
          25,
          5,
          18,
          35,
          20,
          17,
          30,
          42,
          3,
          38,
          60,
          26,
          30,
          60,
          118,
          12,
          12,
          29,
          82,
          13,
          17,
          39,
          93,
          12,
          53,
          47,
          35,
          78,
          30,
          108,
          64,
          14,
          38,
          46,
          252,
          47,
          8,
          87,
          63,
          78,
          57,
          53,
          108,
          48,
          30,
          61,
          228,
          128,
          58,
          20,
          23,
          88,
          19,
          113,
          159,
          48,
          62,
          10,
          79,
          100,
          13,
          32,
          38,
          62,
          37,
          89,
          307,
          58,
          56,
          4,
          9,
          3,
          3,
          22,
          49,
          42,
          0,
          0,
          112,
          3,
          18,
          3,
          6,
          7,
          11,
          20,
          141,
          8,
          3,
          5,
          0,
          3,
          1,
          12,
          18,
          9,
          5,
          0,
          14,
          1,
          32,
          10,
          1,
          18,
          9,
          28,
          61,
          12,
          0,
          14,
          10,
          29,
          12,
          14,
          10,
          27,
          85,
          28,
          23,
          30,
          59,
          39,
          21,
          33,
          80,
          118,
          52,
          53,
          0,
          334,
          11,
          9,
          9,
          47,
          11,
          84,
          21,
          13,
          25,
          29,
          86,
          45,
          37,
          86,
          44,
          53,
          117,
          75,
          0,
          1,
          4,
          10,
          48,
          29,
          36,
          36,
          29,
          49,
          20,
          32,
          65,
          19,
          57,
          79,
          80,
          76,
          136,
          115,
          0,
          25,
          16,
          49,
          78,
          87,
          32,
          55,
          22,
          17,
          36,
          11,
          105,
          71,
          89,
          42,
          138,
          89,
          167,
          60,
          0,
          99,
          58,
          85,
          171,
          57,
          157,
          164,
          33,
          94,
          41,
          104,
          239,
          136,
          103,
          150,
          210,
          129,
          233,
          135,
          172,
          250,
          222,
          212,
          302,
          321,
          422,
          189,
          70,
          186,
          55,
          179,
          278,
          314,
          245,
          192,
          318,
          277,
          289,
          442,
          512,
          311,
          332,
          371,
          686,
          322,
          778,
          363,
          169,
          399,
          193,
          470,
          941,
          607,
          564,
          350,
          446,
          347,
          837,
          577,
          1198,
          925,
          787,
          1428,
          902,
          1498,
          639,
          588,
          568,
          647,
          1613,
          912,
          488,
          1255,
          943,
          1032,
          1492,
          1898,
          1293,
          1863,
          1662,
          1341,
          1463,
          1255,
          685,
          684,
          1687,
          1703,
          1034,
          743,
          905,
          479,
          1367,
          1183,
          1275,
          1717,
          178,
          1195,
          1231,
          367,
          1227,
          476,
          1524,
          606,
          1947,
          1807,
          522,
          47,
          110,
          26,
          15,
          192,
          168,
          291,
          144,
          91,
          79,
          90,
          89,
          67,
          59,
          57,
          183,
          181,
          547,
          123,
          117,
          13,
          20,
          6,
          18,
          115,
          129,
          56,
          5,
          7,
          16,
          6,
          39,
          48,
          39,
          93,
          86,
          68,
          179,
          64,
          0,
          54,
          19,
          29,
          48,
          436,
          241,
          450,
          221,
          428,
          121,
          240,
          319,
          124,
          326,
          209,
          195,
          494,
          412,
          187,
          0,
          6,
          11,
          1,
          116,
          11,
          22,
          56,
          22,
          13,
          45,
          20,
          93,
          9,
          46,
          62,
          29,
          95,
          318,
          47,
          0,
          17,
          6,
          0,
          16,
          16,
          18,
          9,
          14,
          52,
          4,
          33,
          82,
          22,
          49,
          30,
          59,
          53,
          113,
          32,
          0,
          4,
          6,
          2,
          28,
          79,
          44,
          43,
          9,
          5,
          26,
          14,
          128,
          37,
          97,
          62,
          78,
          119,
          113,
          91,
          0,
          3,
          28,
          21,
          71,
          60,
          145,
          74,
          5,
          73,
          26,
          19,
          273,
          73,
          286,
          100,
          148,
          194,
          206,
          142,
          78,
          32,
          94,
          100,
          230,
          338,
          706,
          529,
          131,
          515,
          235,
          279,
          494,
          602,
          915,
          498,
          812,
          887,
          709,
          885,
          274,
          258,
          233,
          549,
          1271,
          1103,
          1366,
          1152,
          512,
          1205,
          502,
          972,
          1024,
          1111,
          1642,
          1176,
          895,
          839,
          1889,
          1382,
          713,
          1766,
          1739,
          1365,
          1861,
          1494,
          1399,
          1001,
          1461,
          1296,
          1660,
          1052,
          800,
          1101,
          1768,
          1803,
          1629,
          1296,
          1577,
          0,
          39,
          44,
          44,
          172,
          896,
          301,
          438,
          947,
          476,
          245,
          527,
          298,
          171,
          166,
          269,
          315,
          960,
          374,
          482,
          0,
          28,
          35,
          54,
          22,
          592,
          272,
          871,
          383,
          213,
          180,
          248,
          431,
          119,
          193,
          375,
          199,
          542,
          1050,
          337,
          0,
          18,
          60,
          24,
          103,
          554,
          743,
          362,
          448,
          476,
          180,
          325,
          605,
          252,
          423,
          563,
          655,
          705,
          1085,
          719,
          0,
          76,
          59,
          309,
          641,
          903,
          441,
          372,
          161,
          79,
          274,
          169,
          769,
          345,
          521,
          338,
          859,
          947,
          1770,
          606,
          0,
          731,
          1194,
          1193,
          942,
          1641,
          269,
          359,
          119,
          516,
          1313,
          547,
          812,
          739,
          933,
          541,
          1081,
          845,
          856,
          1339,
          403,
          979,
          1025,
          974,
          1651,
          1213,
          1795,
          1402,
          1417,
          1338,
          1555,
          1941,
          1790,
          1117,
          1613,
          1061,
          1630,
          1533,
          1986,
          182,
          842,
          502,
          373,
          1368,
          1031,
          299,
          190,
          588,
          768,
          1103,
          375,
          1064,
          1018,
          1930,
          918,
          813,
          76,
          47,
          98,
          37,
          1157,
          1622,
          1217,
          246,
          23,
          81,
          159,
          171,
          846,
          431,
          492,
          447,
          466,
          1777,
          425,
          0,
          239,
          326,
          97,
          304,
          182,
          258,
          59,
          59,
          19,
          63,
          229,
          72,
          129,
          201,
          174,
          197,
          226,
          127,
          355,
          0,
          69,
          81,
          89,
          98,
          108,
          169,
          221,
          104,
          111,
          78,
          164,
          157,
          61,
          112,
          100,
          139,
          148,
          187,
          165,
          0,
          100,
          23,
          39,
          115,
          137,
          225,
          158,
          137,
          137,
          97,
          118,
          149,
          37,
          169,
          158,
          95,
          190,
          143,
          170,
          0,
          97,
          90,
          108,
          230,
          126,
          97,
          126,
          51,
          46,
          72,
          291,
          136,
          23,
          97,
          78,
          129,
          65,
          161,
          59,
          0,
          206,
          127,
          112,
          88,
          74,
          25,
          328,
          99,
          62,
          34,
          927,
          105,
          81,
          157,
          72,
          70,
          58,
          97,
          72,
          82,
          127,
          157,
          249,
          517,
          170,
          394,
          439,
          89,
          141,
          24,
          376,
          149,
          104,
          96,
          35,
          84,
          299,
          120,
          175,
          360,
          1297,
          160,
          591,
          935,
          182,
          529,
          859,
          289,
          197,
          116,
          354,
          589,
          250,
          538,
          201,
          193,
          371,
          687,
          1050,
          228,
          530,
          953,
          1408,
          1129,
          1823,
          456,
          816,
          1721,
          552,
          677,
          312,
          1293,
          1481,
          1488,
          457,
          510,
          1383,
          1124,
          1870,
          1078,
          1620,
          1146,
          1505,
          1072,
          1074,
          365,
          1482,
          576,
          657,
          563,
          541,
          960,
          647,
          244,
          668,
          432,
          854,
          597,
          276,
          652,
          378,
          581,
          507,
          1200,
          685,
          306,
          1194,
          274,
          220,
          1470,
          380,
          208,
          159,
          83,
          82,
          50,
          439,
          259,
          445,
          115,
          423,
          190,
          276,
          258,
          133,
          100,
          306,
          139,
          143,
          376,
          153,
          110,
          46,
          18,
          15,
          208,
          87,
          276,
          577,
          194,
          195,
          84,
          394,
          123,
          0,
          36,
          24,
          18,
          29,
          37,
          22,
          28,
          109,
          91,
          85,
          74,
          118,
          61,
          75,
          75,
          133,
          147,
          61,
          106,
          0,
          112,
          20,
          39,
          62,
          126,
          29,
          79,
          96,
          71,
          59,
          74,
          155,
          111,
          123,
          143,
          157,
          84,
          207,
          61,
          0,
          13,
          24,
          13,
          62,
          81,
          81,
          107,
          69,
          155,
          61,
          106,
          109,
          67,
          152,
          110,
          77,
          80,
          123,
          105,
          0,
          27,
          49,
          60,
          99,
          215,
          48,
          89,
          50,
          35,
          113,
          26,
          112,
          66,
          180,
          61,
          161,
          109,
          172,
          69,
          0,
          51,
          67,
          83,
          98,
          75,
          79,
          134,
          62,
          124,
          50,
          128,
          179,
          151,
          144,
          150,
          224,
          114,
          186,
          125,
          70,
          132,
          135,
          166,
          207,
          245,
          209,
          246,
          73,
          184,
          48,
          173,
          139,
          304,
          219,
          144,
          376,
          200,
          263,
          360,
          232,
          318,
          345,
          266,
          741,
          407,
          625,
          467,
          336,
          446,
          194,
          477,
          707,
          801,
          669,
          462,
          559,
          288,
          1004,
          610,
          875,
          1190,
          769,
          858,
          1955,
          1642,
          1029,
          959,
          605,
          685,
          901,
          911,
          1952,
          1059,
          1433,
          1981,
          1080,
          1597,
          1310,
          1656,
          1093,
          1363,
          1954,
          528,
          616,
          1013,
          1206,
          1221,
          948,
          32,
          271,
          43,
          62,
          417,
          399,
          914,
          422,
          59,
          1305,
          892,
          246,
          82,
          153,
          220,
          277,
          398,
          1453,
          126,
          136,
          21,
          32,
          14,
          44,
          225,
          225,
          125,
          65,
          32,
          95,
          25,
          108,
          105,
          43,
          189,
          98,
          155,
          295,
          91,
          0,
          87,
          30,
          34,
          144,
          900,
          579,
          1768,
          403,
          467,
          131,
          241,
          437,
          108,
          392,
          167,
          251,
          725,
          1322,
          219,
          0,
          285,
          29,
          16,
          120,
          34,
          20,
          85,
          49,
          23,
          54,
          15,
          102,
          13,
          63,
          30,
          37,
          108,
          430,
          14,
          0,
          7,
          181,
          0,
          14,
          27,
          22,
          21,
          10,
          6,
          4,
          4,
          110,
          21,
          30,
          19,
          34,
          61,
          81,
          42,
          0,
          6,
          40,
          0,
          11,
          14,
          23,
          14,
          2,
          0,
          7,
          8,
          22,
          10,
          11,
          20,
          27,
          27,
          66,
          45,
          0,
          4,
          12,
          7,
          18,
          3,
          44,
          37,
          0,
          9,
          0,
          7,
          57,
          16,
          59,
          42,
          70,
          95,
          154,
          114,
          58,
          37,
          59,
          42,
          149,
          64,
          340,
          304,
          78,
          129,
          48,
          38,
          94,
          105,
          183,
          173,
          319,
          265,
          502,
          679,
          638,
          982,
          426,
          708,
          772,
          1571,
          615,
          476,
          971,
          397,
          1432,
          632,
          661,
          447,
          825,
          906,
          1579,
          1861,
          1008,
          766,
          1698,
          1495,
          1417,
          689,
          684,
          1612,
          1812,
          0,
          26,
          0,
          11,
          5,
          70,
          33,
          178,
          83,
          69,
          77,
          115,
          46,
          11,
          61,
          38,
          75,
          42,
          18,
          23,
          0,
          2,
          11,
          6,
          18,
          3,
          3,
          15,
          7,
          7,
          20,
          9,
          15,
          5,
          15,
          9,
          6,
          15,
          4,
          8,
          0,
          1,
          5,
          0,
          3,
          0,
          3,
          13,
          4,
          1,
          8,
          2,
          16,
          6,
          4,
          3,
          18,
          7,
          1,
          2,
          0,
          3,
          1,
          0,
          1,
          0,
          3,
          2,
          0,
          0,
          0,
          1,
          2,
          2,
          13,
          6,
          8,
          11,
          1,
          1,
          0,
          0,
          0,
          4,
          1,
          0,
          1,
          0,
          0,
          0,
          0,
          0,
          10,
          0,
          10,
          3,
          1,
          6,
          1,
          1,
          3,
          1,
          2,
          0,
          1,
          0,
          0,
          0,
          0,
          0,
          0,
          0,
          3,
          2,
          5,
          3,
          1,
          0,
          4,
          0,
          0,
          1,
          0,
          8,
          8,
          6,
          1,
          0,
          1,
          1,
          0,
          3,
          7,
          6,
          5,
          1,
          9,
          3,
          22,
          2,
          3,
          4,
          7,
          34,
          38,
          14,
          18,
          0,
          3,
          8,
          1,
          4,
          9,
          12,
          13,
          3,
          30,
          5,
          50,
          3,
          50,
          14,
          9,
          98,
          63,
          81,
          34,
          13,
          27,
          22,
          21,
          28,
          37,
          55,
          71,
          25,
          51,
          48,
          131,
          30,
          179,
          48,
          125,
          279,
          193,
          381,
          190,
          155,
          135,
          111,
          80,
          117,
          150,
          200,
          136,
          58,
          70,
          121,
          304,
          123,
          46,
          38,
          65,
          294,
          238,
          538,
          331,
          280,
          215,
          256,
          175,
          428,
          451,
          359,
          130,
          95,
          111,
          206,
          132,
          101,
          51,
          40,
          34,
          70,
          163,
          288,
          351,
          159,
          196,
          133,
          187,
          270,
          65,
          179,
          62,
          78,
          62,
          122,
          8,
          0,
          7,
          49,
          32,
          47,
          109,
          88,
          55,
          78,
          11,
          35,
          35,
          18,
          35,
          31,
          28,
          86,
          120,
          113,
          55,
          0,
          22,
          67,
          8,
          24,
          46,
          42,
          77,
          60,
          32,
          38,
          21,
          46,
          8,
          40,
          9,
          52,
          58,
          31,
          60,
          0,
          40,
          52,
          12,
          18,
          76,
          83,
          84,
          56,
          54,
          43,
          57,
          22,
          21,
          55,
          18,
          42,
          55,
          63,
          43,
          0,
          39,
          51,
          43,
          84,
          130,
          68,
          22,
          49,
          14,
          62,
          80,
          71,
          38,
          38,
          72,
          38,
          83,
          167,
          77,
          0,
          57,
          43,
          26,
          65,
          115,
          9,
          125,
          90,
          14,
          41,
          117,
          39,
          97,
          86,
          85,
          109,
          77,
          72,
          49,
          36,
          31,
          53,
          43,
          115,
          159,
          147,
          114,
          62,
          57,
          17,
          105,
          55,
          162,
          77,
          52,
          112,
          201,
          238,
          169,
          59,
          94,
          98,
          122,
          172,
          101,
          148,
          155,
          139,
          60,
          87,
          34,
          196,
          262,
          111,
          168,
          215,
          137,
          504,
          891,
          42,
          938,
          849,
          342,
          1593,
          1896,
          1237,
          800,
          844,
          580,
          205,
          844,
          733,
          435,
          522,
          481,
          646,
          651,
          1010,
          987,
          61,
          878,
          381,
          258,
          1071,
          1360,
          386,
          866,
          960,
          413,
          149,
          270,
          913,
          459,
          476,
          443,
          599,
          1371,
          1706,
          61,
          452,
          658,
          209,
          399,
          1228,
          666,
          157,
          327,
          194,
          78,
          424,
          230,
          256,
          145,
          233,
          411,
          158,
          193,
          134,
          143,
          447,
          85,
          89,
          425,
          503,
          388,
          597,
          60,
          59,
          39,
          90,
          183,
          138,
          142,
          126,
          68,
          18,
          275,
          292,
          82,
          254,
          159,
          85,
          165,
          171,
          151,
          40,
          6,
          22,
          62,
          30,
          37,
          78,
          54,
          155,
          78,
          30,
          45,
          0,
          102,
          3,
          7,
          10,
          188,
          29,
          221,
          148,
          156,
          170,
          256,
          47,
          49,
          146,
          55,
          99,
          109,
          24,
          52,
          0,
          13,
          4,
          2,
          19,
          35,
          8,
          33,
          41,
          21,
          48,
          28,
          33,
          25,
          64,
          29,
          25,
          55,
          19,
          23,
          0,
          27,
          14,
          0,
          24,
          9,
          6,
          45,
          18,
          4,
          32,
          15,
          59,
          39,
          44,
          40,
          36,
          33,
          4,
          7,
          0,
          2,
          1,
          2,
          5,
          7,
          5,
          1,
          2,
          1,
          5,
          3,
          2,
          22,
          46,
          11,
          10,
          30,
          8,
          9,
          0,
          6,
          7,
          5,
          13,
          1,
          2,
          1,
          1,
          0,
          0,
          0,
          8,
          1,
          36,
          9,
          4,
          17,
          6,
          13,
          1,
          7,
          4,
          2,
          1,
          2,
          4,
          3,
          0,
          1,
          0,
          1,
          1,
          4,
          12,
          12,
          3,
          3,
          4,
          5,
          5,
          2,
          0,
          6,
          8,
          5,
          13,
          1,
          1,
          3,
          0,
          1,
          7,
          2,
          11,
          4,
          11,
          13,
          17,
          2,
          12,
          3,
          31,
          27,
          37,
          26,
          41,
          10,
          8,
          20,
          2,
          10,
          29,
          27,
          27,
          14,
          23,
          21,
          42,
          20,
          177,
          64,
          130,
          298,
          374,
          510,
          192,
          154,
          147,
          164,
          92,
          164,
          179,
          243,
          192,
          143,
          63,
          116,
          171,
          69,
          372,
          180,
          411,
          461,
          638,
          859,
          545,
          408,
          310,
          702,
          274,
          254,
          347,
          461,
          222,
          161,
          174,
          194,
          319,
          256,
          141,
          41,
          64,
          208,
          521,
          560,
          465,
          452,
          385,
          359,
          363,
          486,
          831,
          352,
          181,
          110,
          111,
          315,
          191,
          66,
          59,
          16,
          22,
          62,
          259,
          229,
          373,
          191,
          207,
          200,
          203,
          351,
          117,
          364,
          108,
          141,
          101,
          176,
          161,
          0,
          21,
          5,
          29,
          33,
          86,
          42,
          94,
          133,
          123,
          61,
          79,
          99,
          39,
          80,
          72,
          79,
          92,
          94,
          85,
          0,
          22,
          12,
          0,
          160,
          3,
          20,
          26,
          23,
          11,
          21,
          19,
          54,
          11,
          31,
          68,
          14,
          38,
          97,
          24,
          0,
          4,
          14,
          2,
          63,
          15,
          27,
          13,
          18,
          31,
          4,
          17,
          47,
          15,
          71,
          14,
          88,
          35,
          53,
          25,
          0,
          10,
          15,
          1,
          87,
          22,
          10,
          3,
          1,
          9,
          7,
          8,
          56,
          16,
          119,
          34,
          63,
          50,
          35,
          25,
          0,
          8,
          25,
          36,
          84,
          13,
          80,
          22,
          0,
          52,
          12,
          12,
          231,
          77,
          334,
          40,
          138,
          66,
          60,
          36,
          46,
          47,
          18,
          87,
          161,
          88,
          239,
          171,
          40,
          303,
          33,
          56,
          208,
          462,
          834,
          263,
          373,
          283,
          153,
          193,
          189,
          123,
          75,
          337,
          534,
          407,
          564,
          445,
          150,
          919,
          97,
          302,
          1696,
          864,
          1755,
          361,
          1177,
          690,
          754,
          643,
          711,
          499,
          415,
          1133,
          864,
          1002,
          943,
          911,
          290,
          790,
          1958,
          1015,
          1647,
          1572,
          1991,
          872,
          1099,
          1618,
          1472,
          1709,
          1394,
          1438,
          1443,
          1830,
          913,
          1484,
          1269,
          1788,
          424,
          334,
          450,
          1484,
          1174,
          1248,
          1798,
          1599,
          740,
          939,
          594,
          1336,
          1417,
          825,
          447,
          640,
          717,
          897,
          1126,
          449,
          119,
          74,
          79,
          230,
          373,
          459,
          788,
          486,
          339,
          317,
          329,
          570,
          357,
          362,
          334,
          468,
          346,
          626,
          374,
          0,
          0,
          0,
          0,
          0,
          0,
          1,
          5,
          12,
          0,
          1,
          3,
          13,
          10,
          12,
          9,
          35,
          97,
          9,
          15,
          0,
          0,
          1,
          3,
          1,
          10,
          8,
          4,
          7,
          15,
          2,
          5,
          73,
          36,
          11,
          12,
          116,
          36,
          16,
          34,
          0,
          0,
          0,
          0,
          1,
          23,
          4,
          7,
          8,
          27,
          2,
          5,
          10,
          7,
          20,
          9,
          38,
          23,
          16,
          10,
          0,
          1,
          2,
          2,
          8,
          11,
          3,
          1,
          8,
          9,
          2,
          1,
          10,
          12,
          12,
          9,
          25,
          24,
          45,
          12,
          0,
          7,
          5,
          4,
          4,
          1,
          0,
          11,
          4,
          2,
          0,
          37,
          6,
          17,
          18,
          16,
          20,
          21,
          30,
          15,
          3,
          8,
          14,
          13,
          13,
          13,
          19,
          16,
          19,
          3,
          4,
          33,
          7,
          33,
          14,
          17,
          54,
          33,
          37,
          68,
          21,
          14,
          22,
          57,
          17,
          42,
          23,
          20,
          54,
          15,
          14,
          56,
          55,
          121,
          50,
          58,
          62,
          74,
          131,
          70,
          21,
          88,
          34,
          129,
          184,
          191,
          74,
          98,
          79,
          189,
          19,
          91,
          316,
          250,
          72,
          74,
          199,
          158,
          241,
          164,
          44,
          192,
          16,
          60,
          45,
          166,
          205,
          46,
          197,
          223,
          132,
          90,
          353,
          510,
          172,
          117,
          318,
          85,
          195,
          728,
          6,
          30,
          25,
          33,
          313,
          81,
          26,
          116,
          12,
          137,
          42,
          18,
          35,
          114,
          163,
          44,
          500,
          96,
          30,
          238,
          6,
          16,
          2,
          4,
          11,
          5,
          49,
          12,
          1,
          1,
          0,
          27,
          23,
          20,
          13,
          28,
          36,
          6,
          19,
          43,
          1,
          0,
          0,
          2,
          8,
          10,
          9,
          2,
          0,
          0,
          6,
          1,
          10,
          3,
          18,
          12,
          25,
          11,
          5,
          0,
          32,
          1,
          2,
          4,
          113,
          44,
          153,
          93,
          63,
          70,
          110,
          32,
          15,
          72,
          25,
          34,
          45,
          15,
          28,
          0,
          11,
          7,
          0,
          18,
          9,
          5,
          42,
          21,
          9,
          25,
          8,
          12,
          5,
          13,
          24,
          8,
          15,
          2,
          10,
          0,
          9,
          11,
          0,
          3,
          1,
          1,
          15,
          8,
          7,
          3,
          2,
          23,
          3,
          2,
          6,
          6,
          3,
          1,
          3,
          0,
          21,
          16,
          10,
          0,
          2,
          3,
          2,
          2,
          1,
          0,
          1,
          7,
          0,
          4,
          7,
          2,
          4,
          0,
          6,
          0,
          1,
          3,
          56,
          6,
          0,
          2,
          3,
          0,
          2,
          0,
          0,
          3,
          0,
          14,
          2,
          2,
          4,
          1,
          2,
          1,
          4,
          8,
          13,
          1,
          1,
          2,
          0,
          0,
          0,
          0,
          0,
          1,
          1,
          5,
          1,
          2,
          5,
          4,
          3,
          5,
          7,
          5,
          25,
          7,
          7,
          5,
          2,
          0,
          7,
          0,
          0,
          7,
          0,
          3,
          0,
          2,
          3,
          13,
          4,
          4,
          40,
          29,
          55,
          48,
          97,
          15,
          9,
          13,
          26,
          2,
          1,
          24,
          10,
          23,
          2,
          21,
          16,
          24,
          21,
          51,
          35,
          17,
          45,
          52,
          112,
          47,
          37,
          50,
          50,
          17,
          29,
          50,
          22,
          41,
          7,
          30,
          36,
          44,
          48,
          55,
          40,
          28,
          34,
          140,
          276,
          89,
          168,
          85,
          88,
          53,
          84,
          111,
          76,
          74,
          71,
          75,
          129,
          129,
          85,
          41,
          62,
          9,
          41,
          178,
          366,
          164,
          249,
          148,
          130,
          82,
          172,
          212,
          144,
          69,
          77,
          124,
          105,
          93,
          89,
          19,
          29,
          11,
          20,
          222,
          278,
          284,
          149,
          101,
          80,
          126,
          221,
          54,
          125,
          75,
          46,
          47,
          74,
          75,
          0,
          63,
          126,
          12,
          265,
          58,
          70,
          152,
          46,
          37,
          42,
          65,
          22,
          33,
          61,
          22,
          53,
          51,
          68,
          28,
          0,
          35,
          43,
          32,
          38,
          13,
          52,
          36,
          34,
          24,
          30,
          15,
          23,
          26,
          39,
          43,
          37,
          41,
          55,
          31,
          0,
          38,
          51,
          11,
          26,
          27,
          149,
          153,
          76,
          8,
          38,
          41,
          21,
          31,
          50,
          44,
          58,
          108,
          30,
          34,
          0,
          12,
          1,
          3,
          6,
          30,
          98,
          14,
          59,
          4,
          110,
          145,
          72,
          41,
          41,
          47,
          60,
          175,
          32,
          51,
          0,
          13,
          4,
          4,
          7,
          18,
          4,
          24,
          24,
          3,
          20,
          177,
          9,
          20,
          112,
          14,
          63,
          169,
          37,
          43,
          0,
          9,
          0,
          1,
          4,
          14,
          52,
          50,
          7,
          10,
          16,
          30,
          4,
          12,
          86,
          10,
          62,
          68,
          261,
          103,
          0,
          10,
          6,
          6,
          93,
          55,
          156,
          47,
          45,
          7,
          25,
          47,
          34,
          45,
          134,
          42,
          209,
          60,
          865,
          885,
          9,
          24,
          18,
          36,
          824,
          1419,
          403,
          120,
          642,
          258,
          56,
          1057,
          267,
          116,
          410,
          156,
          1168,
          414,
          1111,
          819,
          60,
          19,
          27,
          2,
          226,
          828,
          431,
          189,
          444,
          573,
          97,
          39,
          250,
          449,
          113,
          290,
          224,
          222,
          628,
          343,
          169,
          56,
          10,
          13,
          10,
          360,
          680,
          83,
          160,
          21,
          135,
          148,
          95,
          74,
          91,
          104,
          110,
          70,
          93,
          101,
          28,
          103,
          18,
          49,
          117,
          121,
          161,
          227,
          27,
          13,
          14,
          4,
          90,
          117,
          74,
          110,
          68,
          30,
          105,
          137,
          605,
          1110,
          80,
          80,
          45,
          98,
          99,
          35,
          15,
          25,
          32,
          15,
          103,
          69,
          38,
          62,
          31,
          42,
          79,
          0,
          1,
          0,
          0,
          6,
          62,
          30,
          99,
          16,
          33,
          4,
          17,
          18,
          1,
          2,
          7,
          12,
          30,
          93,
          44,
          0,
          1,
          6,
          2,
          8,
          10,
          12,
          42,
          17,
          8,
          7,
          1,
          9,
          2,
          9,
          8,
          5,
          22,
          88,
          10,
          0,
          8,
          9,
          0,
          1,
          13,
          20,
          17,
          15,
          20,
          2,
          12,
          11,
          6,
          6,
          23,
          13,
          15,
          25,
          21,
          0,
          3,
          0,
          0,
          3,
          10,
          14,
          7,
          0,
          0,
          8,
          3,
          19,
          8,
          12,
          9,
          15,
          15,
          59,
          19,
          0,
          3,
          13,
          5,
          10,
          21,
          9,
          38,
          7,
          4,
          1,
          6,
          41,
          54,
          22,
          9,
          28,
          13,
          44,
          31,
          26,
          10,
          54,
          31,
          141,
          74,
          151,
          153,
          40,
          71,
          11,
          13,
          44,
          130,
          32,
          22,
          92,
          119,
          170,
          192,
          365,
          135,
          117,
          74,
          539,
          516,
          1233,
          798,
          314,
          187,
          138,
          110,
          747,
          293,
          205,
          117,
          192,
          423,
          969,
          1280,
          1976,
          1251,
          484,
          1161,
          885,
          1927,
          1869,
          1782,
          1776,
          483,
          1884,
          644,
          796,
          1148,
          1482,
          1444,
          1307,
          822,
          1229,
          555,
          1063,
          1844,
          3,
          41,
          13,
          91,
          639,
          526,
          452,
          465,
          253,
          53,
          78,
          128,
          238,
          245,
          174,
          108,
          202,
          1002,
          401,
          372,
          33,
          0,
          7,
          1,
          91,
          214,
          208,
          36,
          4,
          6,
          2,
          9,
          158,
          37,
          50,
          143,
          144,
          282,
          148,
          0,
          15,
          18,
          101,
          302,
          547,
          355,
          106,
          70,
          194,
          245,
          45,
          351,
          225,
          217,
          397,
          355,
          330,
          1754,
          108,
          0,
          20,
          57,
          646,
          476,
          767,
          259,
          105,
          283,
          796,
          138,
          153,
          470,
          112,
          130,
          62,
          226,
          418,
          171,
          129,
          0,
          98,
          125,
          1108,
          820,
          1131,
          276,
          244,
          385,
          665,
          422,
          176,
          417,
          91,
          99,
          179,
          494,
          163,
          1081,
          216,
          0,
          16,
          0,
          380,
          41,
          268,
          182,
          22,
          201,
          58,
          175,
          115,
          15,
          108,
          25,
          87,
          162,
          278,
          126,
          51,
          0,
          0,
          7,
          9,
          0,
          0,
          2,
          1,
          0,
          0,
          8,
          219,
          3,
          4,
          18,
          4,
          58,
          12,
          22,
          29,
          0,
          3,
          0,
          1,
          0,
          0,
          6,
          5,
          0,
          1,
          0,
          16,
          0,
          6,
          22,
          6,
          4,
          3,
          7,
          4,
          1,
          4,
          0,
          1,
          7,
          0,
          2,
          2,
          0,
          3,
          0,
          18,
          1,
          9,
          2,
          4,
          9,
          5,
          0,
          3,
          0,
          1,
          9,
          4,
          7,
          2,
          18,
          9,
          4,
          2,
          4,
          29,
          3,
          39,
          4,
          3,
          12,
          11,
          11,
          35,
          2,
          3,
          12,
          1,
          48,
          6,
          9,
          72,
          40,
          9,
          17,
          117,
          18,
          53,
          67,
          18,
          67,
          77,
          19,
          43,
          1,
          10,
          25,
          13,
          191,
          14,
          53,
          88,
          135,
          15,
          78,
          197,
          64,
          65,
          152,
          63,
          61,
          181,
          101,
          156,
          1,
          15,
          32,
          76,
          133,
          27,
          135,
          135,
          26,
          112,
          39,
          312,
          27,
          121,
          187,
          106,
          143,
          280,
          71,
          327,
          16,
          35,
          77,
          76,
          199,
          157,
          160,
          71,
          101,
          8,
          5,
          290,
          73,
          249,
          78,
          65,
          277,
          304,
          136,
          0,
          11,
          14,
          11,
          22,
          45,
          37,
          46,
          41,
          9,
          25,
          21,
          2,
          9,
          14,
          18,
          58,
          28,
          53,
          46,
          0,
          2,
          8,
          0,
          5,
          43,
          29,
          46,
          18,
          14,
          29,
          7,
          15,
          1,
          13,
          12,
          27,
          23,
          10,
          31,
          0,
          7,
          46,
          1,
          12,
          58,
          73,
          92,
          48,
          23,
          14,
          33,
          9,
          8,
          65,
          14,
          15,
          37,
          21,
          12,
          0,
          0,
          7,
          1,
          7,
          120,
          59,
          25,
          30,
          2,
          31,
          57,
          19,
          5,
          40,
          46,
          34,
          32,
          36,
          26,
          0,
          1,
          0,
          2,
          3,
          84,
          2,
          21,
          33,
          2,
          15,
          33,
          1,
          16,
          60,
          52,
          42,
          70,
          26,
          36,
          2,
          0,
          2,
          1,
          0,
          68,
          127,
          58,
          32,
          11,
          2,
          14,
          1,
          26,
          42,
          31,
          3,
          104,
          79,
          70,
          0,
          2,
          21,
          5,
          82,
          43,
          94,
          90,
          74,
          12,
          46,
          26,
          31,
          31,
          42,
          69,
          82,
          45,
          480,
          591,
          0,
          51,
          69,
          24,
          702,
          1513,
          728,
          391,
          728,
          462,
          51,
          759,
          511,
          175,
          398,
          236,
          459,
          379,
          765,
          713,
          6,
          101,
          36,
          18,
          416,
          1339,
          755,
          116,
          530,
          617,
          233,
          47,
          198,
          450,
          188,
          303,
          208,
          156,
          644,
          626,
          4,
          16,
          55,
          26,
          42,
          669,
          704,
          197,
          269,
          35,
          56,
          252,
          76,
          102,
          34,
          107,
          122,
          21,
          56,
          51,
          21,
          84,
          19,
          66,
          348,
          347,
          279,
          384,
          45,
          26,
          16,
          61,
          88,
          79,
          72,
          84,
          43,
          9,
          156,
          152,
          26,
          89,
          29,
          45,
          76,
          129,
          68,
          17,
          7,
          17,
          29,
          20,
          23,
          24,
          32,
          74,
          45,
          19,
          20,
          0,
          7,
          36,
          26,
          19,
          59,
          37,
          26,
          76,
          14,
          34,
          12,
          45,
          75,
          38,
          36,
          99,
          120,
          85,
          28,
          0,
          47,
          25,
          25,
          19,
          137,
          41,
          78,
          59,
          96,
          30,
          65,
          152,
          73,
          81,
          100,
          112,
          69,
          188,
          107,
          0,
          78,
          26,
          35,
          111,
          86,
          73,
          73,
          106,
          152,
          72,
          55,
          111,
          45,
          99,
          57,
          75,
          68,
          82,
          103,
          0,
          291,
          102,
          61,
          178,
          106,
          36,
          62,
          63,
          44,
          84,
          67,
          91,
          52,
          82,
          103,
          103,
          76,
          307,
          41,
          0,
          500,
          300,
          211,
          319,
          69,
          60,
          212,
          88,
          69,
          40,
          142,
          150,
          136,
          82,
          118,
          181,
          65,
          139,
          43,
          451,
          522,
          606,
          346,
          562,
          132,
          231,
          236,
          97,
          91,
          25,
          125,
          143,
          210,
          30,
          47,
          331,
          147,
          197,
          217,
          596,
          684,
          770,
          538,
          448,
          171,
          342,
          284,
          245,
          94,
          126,
          110,
          600,
          479,
          179,
          181,
          476,
          149,
          687,
          802,
          581,
          1211,
          915,
          595,
          719,
          934,
          794,
          522,
          572,
          470,
          153,
          289,
          1809,
          1067,
          435,
          497,
          1458,
          643,
          797,
          981,
          525,
          911,
          582,
          425,
          302,
          977,
          809,
          231,
          694,
          495,
          486,
          116,
          1677,
          1108,
          813,
          560,
          882,
          368,
          490,
          434,
          763,
          647,
          444,
          733,
          422,
          195,
          221,
          153,
          281,
          87,
          64,
          260,
          188,
          206,
          127,
          887,
          213,
          177,
          179,
          488,
          398,
          96,
          168,
          72,
          155,
          144,
          163,
          43,
          50,
          20,
          83,
          104,
          87,
          50,
          120,
          56,
          21,
          39,
          37,
          121,
          47,
          23,
          52,
          57,
          58,
          102,
          15,
          13,
          21,
          36,
          37,
          52,
          53,
          64,
          109,
          57,
          45,
          47,
          0,
          36,
          1,
          2,
          1,
          198,
          16,
          80,
          36,
          56,
          100,
          60,
          29,
          36,
          39,
          34,
          20,
          44,
          9,
          31,
          0,
          25,
          6,
          2,
          6,
          50,
          10,
          19,
          36,
          22,
          67,
          64,
          33,
          31,
          34,
          47,
          18,
          40,
          22,
          18,
          0,
          18,
          6,
          1,
          7,
          62,
          36,
          28,
          41,
          2,
          43,
          29,
          44,
          47,
          71,
          67,
          33,
          49,
          26,
          16,
          0,
          6,
          1,
          0,
          12,
          48,
          13,
          8,
          9,
          1,
          2,
          19,
          1,
          12,
          40,
          15,
          7,
          35,
          14,
          8,
          0,
          0,
          0,
          3,
          0,
          2,
          5,
          0,
          0,
          0,
          0,
          0,
          0,
          0,
          17,
          1,
          1,
          11,
          9,
          1,
          0,
          0,
          0,
          0,
          0,
          0,
          0,
          0,
          0,
          0,
          0,
          2,
          0,
          1,
          3,
          1,
          0,
          3,
          1,
          0,
          0,
          0,
          0,
          0,
          0,
          0,
          0,
          0,
          0,
          0,
          0,
          0,
          0,
          0,
          1,
          0,
          0,
          0,
          0,
          0,
          0,
          0,
          0,
          0,
          2,
          0,
          0,
          0,
          0,
          0,
          0,
          0,
          0,
          1,
          0,
          0,
          0,
          0,
          6,
          0,
          0,
          0,
          0,
          1,
          0,
          3,
          0,
          2,
          0,
          0,
          0,
          1,
          0,
          0,
          1,
          1,
          4,
          1,
          2,
          0,
          0,
          0,
          3,
          5,
          20,
          2,
          3,
          11,
          3,
          3,
          0,
          1,
          1,
          5,
          1,
          3,
          3,
          6,
          10,
          0,
          12,
          3,
          0,
          5,
          57,
          2,
          41,
          23,
          5,
          7,
          17,
          9,
          16,
          4,
          6,
          7,
          9,
          47,
          17,
          1,
          8,
          5,
          0,
          5,
          103,
          36,
          66,
          29,
          17,
          33,
          14,
          21,
          19,
          36,
          18,
          9,
          9,
          63,
          36,
          0,
          36,
          15,
          19,
          35,
          35,
          40,
          66,
          91,
          34,
          28,
          43,
          79,
          14,
          12,
          50,
          89,
          186,
          42,
          61,
          0,
          1,
          6,
          6,
          48,
          15,
          7,
          27,
          14,
          8,
          6,
          21,
          32,
          13,
          45,
          37,
          73,
          65,
          383,
          25,
          0,
          1,
          4,
          0,
          33,
          19,
          23,
          13,
          11,
          99,
          4,
          23,
          120,
          16,
          80,
          60,
          58,
          85,
          165,
          98,
          0,
          9,
          0,
          19,
          37,
          64,
          52,
          52,
          4,
          22,
          46,
          5,
          419,
          106,
          226,
          130,
          187,
          88,
          369,
          164,
          0,
          24,
          69,
          48,
          138,
          96,
          350,
          236,
          35,
          250,
          81,
          91,
          580,
          354,
          467,
          373,
          618,
          512,
          778,
          576,
          252,
          113,
          278,
          305,
          396,
          329,
          1079,
          669,
          289,
          591,
          282,
          421,
          767,
          717,
          922,
          873,
          1372,
          1150,
          1148,
          1320,
          640,
          373,
          500,
          830,
          976,
          762,
          1389,
          1082,
          430,
          982,
          441,
          989,
          1001,
          1693,
          1393,
          1404,
          1217,
          1284,
          1949,
          1339,
          1776,
          1840,
          1277,
          845,
          1124,
          1668,
          1810,
          1738,
          1378,
          1053,
          684,
          1537,
          1339,
          1658,
          1176,
          718,
          1591,
          1,
          29,
          96,
          100,
          207,
          146,
          424,
          271,
          108,
          147,
          104,
          251,
          283,
          144,
          179,
          345,
          451,
          833,
          623,
          434,
          9,
          16,
          20,
          21,
          39,
          109,
          96,
          53,
          15,
          13,
          7,
          46,
          72,
          105,
          128,
          85,
          223,
          373,
          119
         ]
        }
       ],
       "layout": {
        "template": {
         "data": {
          "bar": [
           {
            "error_x": {
             "color": "#2a3f5f"
            },
            "error_y": {
             "color": "#2a3f5f"
            },
            "marker": {
             "line": {
              "color": "#E5ECF6",
              "width": 0.5
             }
            },
            "type": "bar"
           }
          ],
          "barpolar": [
           {
            "marker": {
             "line": {
              "color": "#E5ECF6",
              "width": 0.5
             }
            },
            "type": "barpolar"
           }
          ],
          "carpet": [
           {
            "aaxis": {
             "endlinecolor": "#2a3f5f",
             "gridcolor": "white",
             "linecolor": "white",
             "minorgridcolor": "white",
             "startlinecolor": "#2a3f5f"
            },
            "baxis": {
             "endlinecolor": "#2a3f5f",
             "gridcolor": "white",
             "linecolor": "white",
             "minorgridcolor": "white",
             "startlinecolor": "#2a3f5f"
            },
            "type": "carpet"
           }
          ],
          "choropleth": [
           {
            "colorbar": {
             "outlinewidth": 0,
             "ticks": ""
            },
            "type": "choropleth"
           }
          ],
          "contour": [
           {
            "colorbar": {
             "outlinewidth": 0,
             "ticks": ""
            },
            "colorscale": [
             [
              0,
              "#0d0887"
             ],
             [
              0.1111111111111111,
              "#46039f"
             ],
             [
              0.2222222222222222,
              "#7201a8"
             ],
             [
              0.3333333333333333,
              "#9c179e"
             ],
             [
              0.4444444444444444,
              "#bd3786"
             ],
             [
              0.5555555555555556,
              "#d8576b"
             ],
             [
              0.6666666666666666,
              "#ed7953"
             ],
             [
              0.7777777777777778,
              "#fb9f3a"
             ],
             [
              0.8888888888888888,
              "#fdca26"
             ],
             [
              1,
              "#f0f921"
             ]
            ],
            "type": "contour"
           }
          ],
          "contourcarpet": [
           {
            "colorbar": {
             "outlinewidth": 0,
             "ticks": ""
            },
            "type": "contourcarpet"
           }
          ],
          "heatmap": [
           {
            "colorbar": {
             "outlinewidth": 0,
             "ticks": ""
            },
            "colorscale": [
             [
              0,
              "#0d0887"
             ],
             [
              0.1111111111111111,
              "#46039f"
             ],
             [
              0.2222222222222222,
              "#7201a8"
             ],
             [
              0.3333333333333333,
              "#9c179e"
             ],
             [
              0.4444444444444444,
              "#bd3786"
             ],
             [
              0.5555555555555556,
              "#d8576b"
             ],
             [
              0.6666666666666666,
              "#ed7953"
             ],
             [
              0.7777777777777778,
              "#fb9f3a"
             ],
             [
              0.8888888888888888,
              "#fdca26"
             ],
             [
              1,
              "#f0f921"
             ]
            ],
            "type": "heatmap"
           }
          ],
          "heatmapgl": [
           {
            "colorbar": {
             "outlinewidth": 0,
             "ticks": ""
            },
            "colorscale": [
             [
              0,
              "#0d0887"
             ],
             [
              0.1111111111111111,
              "#46039f"
             ],
             [
              0.2222222222222222,
              "#7201a8"
             ],
             [
              0.3333333333333333,
              "#9c179e"
             ],
             [
              0.4444444444444444,
              "#bd3786"
             ],
             [
              0.5555555555555556,
              "#d8576b"
             ],
             [
              0.6666666666666666,
              "#ed7953"
             ],
             [
              0.7777777777777778,
              "#fb9f3a"
             ],
             [
              0.8888888888888888,
              "#fdca26"
             ],
             [
              1,
              "#f0f921"
             ]
            ],
            "type": "heatmapgl"
           }
          ],
          "histogram": [
           {
            "marker": {
             "colorbar": {
              "outlinewidth": 0,
              "ticks": ""
             }
            },
            "type": "histogram"
           }
          ],
          "histogram2d": [
           {
            "colorbar": {
             "outlinewidth": 0,
             "ticks": ""
            },
            "colorscale": [
             [
              0,
              "#0d0887"
             ],
             [
              0.1111111111111111,
              "#46039f"
             ],
             [
              0.2222222222222222,
              "#7201a8"
             ],
             [
              0.3333333333333333,
              "#9c179e"
             ],
             [
              0.4444444444444444,
              "#bd3786"
             ],
             [
              0.5555555555555556,
              "#d8576b"
             ],
             [
              0.6666666666666666,
              "#ed7953"
             ],
             [
              0.7777777777777778,
              "#fb9f3a"
             ],
             [
              0.8888888888888888,
              "#fdca26"
             ],
             [
              1,
              "#f0f921"
             ]
            ],
            "type": "histogram2d"
           }
          ],
          "histogram2dcontour": [
           {
            "colorbar": {
             "outlinewidth": 0,
             "ticks": ""
            },
            "colorscale": [
             [
              0,
              "#0d0887"
             ],
             [
              0.1111111111111111,
              "#46039f"
             ],
             [
              0.2222222222222222,
              "#7201a8"
             ],
             [
              0.3333333333333333,
              "#9c179e"
             ],
             [
              0.4444444444444444,
              "#bd3786"
             ],
             [
              0.5555555555555556,
              "#d8576b"
             ],
             [
              0.6666666666666666,
              "#ed7953"
             ],
             [
              0.7777777777777778,
              "#fb9f3a"
             ],
             [
              0.8888888888888888,
              "#fdca26"
             ],
             [
              1,
              "#f0f921"
             ]
            ],
            "type": "histogram2dcontour"
           }
          ],
          "mesh3d": [
           {
            "colorbar": {
             "outlinewidth": 0,
             "ticks": ""
            },
            "type": "mesh3d"
           }
          ],
          "parcoords": [
           {
            "line": {
             "colorbar": {
              "outlinewidth": 0,
              "ticks": ""
             }
            },
            "type": "parcoords"
           }
          ],
          "pie": [
           {
            "automargin": true,
            "type": "pie"
           }
          ],
          "scatter": [
           {
            "marker": {
             "colorbar": {
              "outlinewidth": 0,
              "ticks": ""
             }
            },
            "type": "scatter"
           }
          ],
          "scatter3d": [
           {
            "line": {
             "colorbar": {
              "outlinewidth": 0,
              "ticks": ""
             }
            },
            "marker": {
             "colorbar": {
              "outlinewidth": 0,
              "ticks": ""
             }
            },
            "type": "scatter3d"
           }
          ],
          "scattercarpet": [
           {
            "marker": {
             "colorbar": {
              "outlinewidth": 0,
              "ticks": ""
             }
            },
            "type": "scattercarpet"
           }
          ],
          "scattergeo": [
           {
            "marker": {
             "colorbar": {
              "outlinewidth": 0,
              "ticks": ""
             }
            },
            "type": "scattergeo"
           }
          ],
          "scattergl": [
           {
            "marker": {
             "colorbar": {
              "outlinewidth": 0,
              "ticks": ""
             }
            },
            "type": "scattergl"
           }
          ],
          "scattermapbox": [
           {
            "marker": {
             "colorbar": {
              "outlinewidth": 0,
              "ticks": ""
             }
            },
            "type": "scattermapbox"
           }
          ],
          "scatterpolar": [
           {
            "marker": {
             "colorbar": {
              "outlinewidth": 0,
              "ticks": ""
             }
            },
            "type": "scatterpolar"
           }
          ],
          "scatterpolargl": [
           {
            "marker": {
             "colorbar": {
              "outlinewidth": 0,
              "ticks": ""
             }
            },
            "type": "scatterpolargl"
           }
          ],
          "scatterternary": [
           {
            "marker": {
             "colorbar": {
              "outlinewidth": 0,
              "ticks": ""
             }
            },
            "type": "scatterternary"
           }
          ],
          "surface": [
           {
            "colorbar": {
             "outlinewidth": 0,
             "ticks": ""
            },
            "colorscale": [
             [
              0,
              "#0d0887"
             ],
             [
              0.1111111111111111,
              "#46039f"
             ],
             [
              0.2222222222222222,
              "#7201a8"
             ],
             [
              0.3333333333333333,
              "#9c179e"
             ],
             [
              0.4444444444444444,
              "#bd3786"
             ],
             [
              0.5555555555555556,
              "#d8576b"
             ],
             [
              0.6666666666666666,
              "#ed7953"
             ],
             [
              0.7777777777777778,
              "#fb9f3a"
             ],
             [
              0.8888888888888888,
              "#fdca26"
             ],
             [
              1,
              "#f0f921"
             ]
            ],
            "type": "surface"
           }
          ],
          "table": [
           {
            "cells": {
             "fill": {
              "color": "#EBF0F8"
             },
             "line": {
              "color": "white"
             }
            },
            "header": {
             "fill": {
              "color": "#C8D4E3"
             },
             "line": {
              "color": "white"
             }
            },
            "type": "table"
           }
          ]
         },
         "layout": {
          "annotationdefaults": {
           "arrowcolor": "#2a3f5f",
           "arrowhead": 0,
           "arrowwidth": 1
          },
          "coloraxis": {
           "colorbar": {
            "outlinewidth": 0,
            "ticks": ""
           }
          },
          "colorscale": {
           "diverging": [
            [
             0,
             "#8e0152"
            ],
            [
             0.1,
             "#c51b7d"
            ],
            [
             0.2,
             "#de77ae"
            ],
            [
             0.3,
             "#f1b6da"
            ],
            [
             0.4,
             "#fde0ef"
            ],
            [
             0.5,
             "#f7f7f7"
            ],
            [
             0.6,
             "#e6f5d0"
            ],
            [
             0.7,
             "#b8e186"
            ],
            [
             0.8,
             "#7fbc41"
            ],
            [
             0.9,
             "#4d9221"
            ],
            [
             1,
             "#276419"
            ]
           ],
           "sequential": [
            [
             0,
             "#0d0887"
            ],
            [
             0.1111111111111111,
             "#46039f"
            ],
            [
             0.2222222222222222,
             "#7201a8"
            ],
            [
             0.3333333333333333,
             "#9c179e"
            ],
            [
             0.4444444444444444,
             "#bd3786"
            ],
            [
             0.5555555555555556,
             "#d8576b"
            ],
            [
             0.6666666666666666,
             "#ed7953"
            ],
            [
             0.7777777777777778,
             "#fb9f3a"
            ],
            [
             0.8888888888888888,
             "#fdca26"
            ],
            [
             1,
             "#f0f921"
            ]
           ],
           "sequentialminus": [
            [
             0,
             "#0d0887"
            ],
            [
             0.1111111111111111,
             "#46039f"
            ],
            [
             0.2222222222222222,
             "#7201a8"
            ],
            [
             0.3333333333333333,
             "#9c179e"
            ],
            [
             0.4444444444444444,
             "#bd3786"
            ],
            [
             0.5555555555555556,
             "#d8576b"
            ],
            [
             0.6666666666666666,
             "#ed7953"
            ],
            [
             0.7777777777777778,
             "#fb9f3a"
            ],
            [
             0.8888888888888888,
             "#fdca26"
            ],
            [
             1,
             "#f0f921"
            ]
           ]
          },
          "colorway": [
           "#636efa",
           "#EF553B",
           "#00cc96",
           "#ab63fa",
           "#FFA15A",
           "#19d3f3",
           "#FF6692",
           "#B6E880",
           "#FF97FF",
           "#FECB52"
          ],
          "font": {
           "color": "#2a3f5f"
          },
          "geo": {
           "bgcolor": "white",
           "lakecolor": "white",
           "landcolor": "#E5ECF6",
           "showlakes": true,
           "showland": true,
           "subunitcolor": "white"
          },
          "hoverlabel": {
           "align": "left"
          },
          "hovermode": "closest",
          "mapbox": {
           "style": "light"
          },
          "paper_bgcolor": "white",
          "plot_bgcolor": "#E5ECF6",
          "polar": {
           "angularaxis": {
            "gridcolor": "white",
            "linecolor": "white",
            "ticks": ""
           },
           "bgcolor": "#E5ECF6",
           "radialaxis": {
            "gridcolor": "white",
            "linecolor": "white",
            "ticks": ""
           }
          },
          "scene": {
           "xaxis": {
            "backgroundcolor": "#E5ECF6",
            "gridcolor": "white",
            "gridwidth": 2,
            "linecolor": "white",
            "showbackground": true,
            "ticks": "",
            "zerolinecolor": "white"
           },
           "yaxis": {
            "backgroundcolor": "#E5ECF6",
            "gridcolor": "white",
            "gridwidth": 2,
            "linecolor": "white",
            "showbackground": true,
            "ticks": "",
            "zerolinecolor": "white"
           },
           "zaxis": {
            "backgroundcolor": "#E5ECF6",
            "gridcolor": "white",
            "gridwidth": 2,
            "linecolor": "white",
            "showbackground": true,
            "ticks": "",
            "zerolinecolor": "white"
           }
          },
          "shapedefaults": {
           "line": {
            "color": "#2a3f5f"
           }
          },
          "ternary": {
           "aaxis": {
            "gridcolor": "white",
            "linecolor": "white",
            "ticks": ""
           },
           "baxis": {
            "gridcolor": "white",
            "linecolor": "white",
            "ticks": ""
           },
           "bgcolor": "#E5ECF6",
           "caxis": {
            "gridcolor": "white",
            "linecolor": "white",
            "ticks": ""
           }
          },
          "title": {
           "x": 0.05
          },
          "xaxis": {
           "automargin": true,
           "gridcolor": "white",
           "linecolor": "white",
           "ticks": "",
           "title": {
            "standoff": 15
           },
           "zerolinecolor": "white",
           "zerolinewidth": 2
          },
          "yaxis": {
           "automargin": true,
           "gridcolor": "white",
           "linecolor": "white",
           "ticks": "",
           "title": {
            "standoff": 15
           },
           "zerolinecolor": "white",
           "zerolinewidth": 2
          }
         }
        },
        "title": {
         "text": "Histograma dos Números de Focos de Calor"
        },
        "xaxis": {
         "title": {
          "text": "Distribuição"
         }
        },
        "yaxis": {
         "title": {
          "text": "Frequência"
         }
        }
       }
      },
      "text/html": [
       "<div>                            <div id=\"0c21916f-7ee1-435e-b46e-5d854e90a162\" class=\"plotly-graph-div\" style=\"height:525px; width:100%;\"></div>            <script type=\"text/javascript\">                require([\"plotly\"], function(Plotly) {                    window.PLOTLYENV=window.PLOTLYENV || {};                                    if (document.getElementById(\"0c21916f-7ee1-435e-b46e-5d854e90a162\")) {                    Plotly.newPlot(                        \"0c21916f-7ee1-435e-b46e-5d854e90a162\",                        [{\"type\": \"histogram\", \"x\": [0, 0, 0, 0, 0, 10, 0, 12, 4, 0, 0, 0, 1, 0, 0, 0, 0, 1, 12, 0, 0, 0, 0, 0, 1, 0, 3, 0, 0, 5, 0, 2, 0, 0, 0, 0, 0, 2, 5, 1, 0, 0, 11, 0, 0, 0, 0, 3, 0, 2, 0, 1, 0, 0, 1, 2, 1, 2, 0, 0, 0, 0, 1, 0, 0, 1, 2, 1, 0, 0, 0, 0, 3, 2, 1, 19, 7, 3, 0, 1, 0, 0, 1, 0, 0, 6, 7, 2, 8, 1, 0, 3, 9, 3, 3, 4, 1, 2, 21, 10, 3, 0, 1, 1, 0, 0, 5, 27, 1, 4, 0, 0, 1, 10, 7, 8, 17, 40, 87, 45, 37, 1, 1, 3, 39, 168, 42, 368, 33, 29, 41, 31, 126, 93, 71, 54, 60, 109, 533, 457, 130, 63, 136, 396, 728, 1976, 645, 839, 960, 445, 194, 1682, 425, 739, 679, 1100, 1397, 1493, 509, 209, 265, 290, 1949, 1978, 1666, 1265, 1204, 1996, 44, 60, 18, 137, 687, 740, 461, 547, 316, 203, 652, 565, 292, 97, 348, 258, 406, 905, 509, 1508, 0, 0, 0, 1, 86, 15, 10, 14, 18, 7, 4, 33, 39, 74, 13, 79, 56, 115, 46, 98, 7, 0, 0, 0, 1, 1, 7, 2, 0, 0, 0, 1, 0, 4, 1, 3, 6, 8, 6, 0, 58, 11, 5, 12, 150, 9, 83, 29, 33, 55, 104, 23, 41, 36, 49, 54, 81, 24, 38, 38, 0, 20, 16, 4, 15, 33, 7, 31, 14, 28, 74, 32, 26, 33, 41, 19, 29, 46, 14, 21, 0, 52, 32, 0, 27, 15, 16, 35, 37, 7, 31, 31, 70, 34, 44, 31, 28, 32, 9, 23, 0, 4, 20, 0, 6, 20, 6, 1, 2, 1, 18, 5, 3, 17, 18, 25, 16, 63, 13, 7, 0, 1, 1, 2, 1, 1, 3, 0, 0, 0, 0, 0, 0, 0, 21, 2, 1, 18, 4, 1, 0, 0, 0, 2, 0, 0, 0, 0, 0, 0, 0, 0, 0, 2, 4, 1, 2, 2, 5, 2, 0, 0, 0, 0, 5, 0, 0, 0, 0, 0, 0, 0, 2, 0, 0, 0, 1, 0, 3, 0, 1, 3, 4, 1, 3, 2, 2, 2, 1, 3, 1, 0, 1, 4, 0, 0, 3, 3, 5, 1, 14, 3, 22, 5, 14, 8, 5, 7, 4, 2, 9, 13, 5, 5, 6, 4, 11, 7, 18, 4, 20, 4, 13, 15, 30, 10, 12, 17, 32, 6, 18, 30, 16, 23, 28, 25, 7, 40, 74, 14, 19, 15, 2, 22, 50, 17, 28, 25, 12, 15, 37, 55, 31, 23, 95, 10, 14, 162, 76, 10, 32, 12, 2, 30, 95, 43, 71, 16, 30, 33, 34, 55, 45, 50, 59, 42, 24, 136, 155, 0, 0, 2, 0, 7, 31, 38, 109, 6, 0, 2, 4, 2, 0, 30, 3, 10, 14, 19, 2, 0, 1, 0, 0, 2, 0, 2, 1, 2, 0, 0, 0, 0, 3, 5, 0, 2, 1, 1, 0, 0, 2, 0, 0, 0, 1, 0, 0, 0, 0, 1, 1, 2, 0, 1, 0, 1, 2, 5, 0, 0, 0, 0, 0, 0, 2, 0, 0, 0, 0, 2, 0, 2, 0, 2, 2, 0, 0, 0, 3, 0, 0, 0, 0, 3, 0, 0, 0, 0, 0, 0, 2, 2, 2, 2, 0, 0, 0, 1, 1, 0, 2, 0, 0, 0, 0, 5, 2, 0, 0, 0, 1, 0, 0, 7, 1, 0, 3, 2, 2, 0, 0, 0, 1, 1, 0, 2, 0, 0, 0, 0, 4, 2, 5, 3, 1, 4, 5, 1, 3, 1, 0, 3, 12, 18, 14, 9, 4, 11, 5, 4, 20, 1, 16, 19, 9, 18, 40, 37, 33, 20, 4, 19, 95, 73, 88, 67, 97, 112, 61, 83, 188, 63, 128, 168, 85, 137, 192, 142, 95, 42, 25, 42, 194, 557, 355, 412, 335, 405, 162, 395, 765, 265, 304, 475, 385, 480, 827, 793, 468, 131, 26, 157, 406, 1096, 750, 949, 685, 207, 198, 266, 1019, 339, 282, 969, 341, 484, 1300, 1161, 858, 84, 41, 30, 593, 200, 411, 777, 38, 74, 14, 32, 123, 43, 360, 422, 148, 354, 269, 491, 0, 3, 7, 3, 17, 158, 123, 44, 20, 37, 16, 9, 82, 53, 6, 37, 46, 35, 770, 65, 0, 43, 62, 8, 2, 62, 92, 6, 10, 92, 32, 3, 81, 30, 25, 16, 49, 107, 275, 52, 0, 7, 69, 6, 5, 64, 6, 12, 20, 6, 10, 11, 116, 49, 17, 49, 50, 46, 140, 45, 0, 2, 18, 1, 2, 11, 4, 5, 5, 0, 13, 1, 11, 5, 3, 20, 25, 24, 22, 20, 0, 0, 51, 0, 8, 2, 0, 8, 4, 0, 1, 3, 13, 6, 12, 19, 12, 10, 30, 40, 2, 7, 6, 5, 5, 3, 12, 78, 9, 23, 7, 13, 9, 22, 45, 56, 74, 33, 90, 119, 71, 11, 39, 9, 146, 180, 177, 676, 123, 116, 108, 199, 640, 271, 234, 248, 202, 356, 1137, 1975, 321, 259, 180, 501, 741, 1867, 1207, 1422, 861, 1321, 1243, 1276, 267, 216, 189, 166, 928, 1401, 911, 1360, 998, 1295, 1739, 83, 479, 145, 332, 695, 725, 710, 545, 721, 215, 632, 889, 694, 1238, 1202, 952, 1581, 6, 32, 27, 244, 259, 169, 209, 261, 59, 90, 39, 973, 354, 399, 682, 220, 676, 1054, 591, 552, 196, 2, 60, 22, 44, 147, 53, 17, 23, 7, 0, 102, 123, 121, 80, 236, 293, 565, 133, 0, 114, 31, 24, 125, 439, 158, 303, 225, 373, 314, 177, 297, 101, 179, 125, 132, 256, 285, 154, 0, 157, 32, 101, 204, 223, 122, 143, 277, 113, 235, 117, 206, 156, 200, 231, 107, 143, 418, 100, 0, 83, 65, 4, 146, 274, 115, 158, 199, 141, 135, 249, 156, 90, 404, 363, 148, 229, 281, 163, 0, 55, 23, 26, 110, 376, 89, 76, 60, 64, 151, 40, 103, 149, 396, 108, 183, 190, 217, 94, 0, 76, 71, 85, 166, 106, 124, 120, 43, 161, 56, 34, 198, 189, 326, 141, 224, 144, 259, 121, 55, 64, 178, 98, 118, 140, 289, 211, 68, 270, 72, 92, 192, 345, 385, 208, 243, 242, 416, 329, 219, 107, 202, 248, 549, 261, 310, 269, 229, 811, 271, 321, 519, 578, 906, 362, 249, 306, 345, 300, 815, 453, 633, 979, 1827, 1039, 1430, 948, 995, 611, 439, 1795, 1835, 610, 674, 829, 724, 1018, 1275, 1819, 1791, 1969, 1307, 1687, 1969, 1415, 49, 49, 114, 699, 1020, 533, 1736, 1595, 239, 402, 605, 176, 168, 288, 348, 1705, 408, 174, 82, 37, 24, 158, 848, 710, 423, 116, 169, 259, 52, 308, 226, 230, 477, 131, 144, 1408, 164, 0, 47, 1, 11, 33, 264, 143, 384, 211, 304, 166, 347, 288, 32, 273, 103, 115, 207, 100, 91, 0, 16, 6, 0, 75, 9, 5, 25, 23, 3, 12, 8, 63, 2, 41, 49, 18, 25, 13, 9, 0, 30, 9, 0, 17, 3, 1, 5, 3, 2, 2, 3, 40, 6, 10, 17, 6, 20, 4, 4, 0, 6, 15, 2, 5, 3, 2, 4, 1, 1, 0, 0, 7, 1, 2, 4, 4, 3, 10, 6, 0, 5, 7, 81, 10, 0, 3, 1, 0, 0, 0, 0, 2, 0, 19, 4, 4, 17, 8, 9, 1, 16, 16, 38, 13, 2, 1, 6, 0, 1, 1, 0, 3, 5, 28, 5, 19, 22, 45, 23, 76, 83, 18, 146, 12, 14, 16, 14, 1, 11, 3, 7, 44, 18, 50, 4, 47, 25, 124, 26, 93, 131, 79, 219, 111, 109, 61, 51, 50, 182, 32, 26, 202, 53, 278, 32, 155, 127, 293, 121, 590, 124, 127, 801, 172, 384, 144, 185, 237, 241, 177, 101, 357, 239, 609, 177, 155, 214, 370, 505, 1014, 309, 875, 1606, 1761, 1217, 1378, 581, 964, 816, 435, 502, 415, 1104, 466, 517, 658, 1310, 949, 575, 524, 669, 1012, 1443, 1753, 1653, 1652, 1561, 995, 1081, 829, 1081, 1328, 812, 276, 397, 389, 545, 1787, 1360, 1161, 1177, 1655, 1987, 578, 1441, 631, 956, 643, 1021, 819, 0, 0, 0, 0, 0, 0, 0, 0, 0, 0, 0, 1, 2, 2, 0, 0, 0, 1, 1, 1, 0, 2, 0, 1, 0, 1, 0, 0, 0, 0, 0, 0, 4, 1, 0, 1, 1, 0, 2, 0, 0, 0, 0, 0, 0, 0, 0, 0, 0, 1, 2, 0, 0, 0, 0, 1, 1, 0, 1, 0, 0, 0, 0, 0, 1, 0, 1, 0, 0, 0, 1, 0, 8, 1, 4, 1, 2, 0, 5, 1, 0, 0, 2, 0, 1, 0, 9, 2, 3, 4, 6, 9, 23, 3, 0, 2, 9, 2, 15, 6, 2, 3, 1, 3, 7, 11, 6, 3, 2, 21, 0, 4, 21, 18, 6, 4, 6, 1, 42, 23, 17, 4, 15, 22, 33, 19, 37, 24, 10, 25, 12, 33, 85, 53, 29, 22, 27, 15, 79, 44, 48, 16, 9, 25, 53, 36, 108, 20, 40, 137, 30, 37, 159, 61, 55, 34, 99, 53, 29, 147, 33, 12, 3, 12, 33, 17, 100, 23, 20, 73, 54, 5, 196, 133, 64, 31, 72, 76, 58, 122, 3, 8, 18, 0, 19, 12, 18, 18, 1, 13, 6, 3, 6, 0, 15, 3, 34, 21, 9, 66, 0, 1, 0, 0, 1, 0, 0, 2, 0, 0, 4, 0, 0, 1, 0, 0, 0, 3, 1, 0, 0, 0, 0, 1, 1, 0, 0, 0, 0, 0, 0, 0, 1, 0, 0, 2, 0, 0, 0, 0, 33, 5, 1, 2, 4, 1, 4, 13, 0, 12, 4, 52, 3, 1, 10, 11, 76, 43, 13, 0, 10, 5, 5, 4, 11, 5, 1, 45, 3, 20, 12, 15, 42, 25, 15, 17, 60, 24, 8, 0, 8, 1, 2, 4, 28, 3, 3, 14, 9, 5, 11, 3, 5, 35, 13, 15, 25, 107, 9, 0, 2, 3, 2, 2, 22, 0, 4, 1, 2, 8, 8, 7, 3, 74, 16, 15, 33, 57, 7, 0, 16, 2, 8, 5, 1, 0, 5, 0, 1, 2, 7, 3, 2, 20, 14, 18, 17, 48, 10, 6, 6, 9, 9, 18, 19, 3, 8, 5, 4, 4, 12, 3, 7, 15, 22, 9, 18, 49, 37, 37, 9, 16, 12, 9, 27, 4, 9, 11, 13, 5, 25, 5, 18, 35, 20, 17, 30, 42, 3, 38, 60, 26, 30, 60, 118, 12, 12, 29, 82, 13, 17, 39, 93, 12, 53, 47, 35, 78, 30, 108, 64, 14, 38, 46, 252, 47, 8, 87, 63, 78, 57, 53, 108, 48, 30, 61, 228, 128, 58, 20, 23, 88, 19, 113, 159, 48, 62, 10, 79, 100, 13, 32, 38, 62, 37, 89, 307, 58, 56, 4, 9, 3, 3, 22, 49, 42, 0, 0, 112, 3, 18, 3, 6, 7, 11, 20, 141, 8, 3, 5, 0, 3, 1, 12, 18, 9, 5, 0, 14, 1, 32, 10, 1, 18, 9, 28, 61, 12, 0, 14, 10, 29, 12, 14, 10, 27, 85, 28, 23, 30, 59, 39, 21, 33, 80, 118, 52, 53, 0, 334, 11, 9, 9, 47, 11, 84, 21, 13, 25, 29, 86, 45, 37, 86, 44, 53, 117, 75, 0, 1, 4, 10, 48, 29, 36, 36, 29, 49, 20, 32, 65, 19, 57, 79, 80, 76, 136, 115, 0, 25, 16, 49, 78, 87, 32, 55, 22, 17, 36, 11, 105, 71, 89, 42, 138, 89, 167, 60, 0, 99, 58, 85, 171, 57, 157, 164, 33, 94, 41, 104, 239, 136, 103, 150, 210, 129, 233, 135, 172, 250, 222, 212, 302, 321, 422, 189, 70, 186, 55, 179, 278, 314, 245, 192, 318, 277, 289, 442, 512, 311, 332, 371, 686, 322, 778, 363, 169, 399, 193, 470, 941, 607, 564, 350, 446, 347, 837, 577, 1198, 925, 787, 1428, 902, 1498, 639, 588, 568, 647, 1613, 912, 488, 1255, 943, 1032, 1492, 1898, 1293, 1863, 1662, 1341, 1463, 1255, 685, 684, 1687, 1703, 1034, 743, 905, 479, 1367, 1183, 1275, 1717, 178, 1195, 1231, 367, 1227, 476, 1524, 606, 1947, 1807, 522, 47, 110, 26, 15, 192, 168, 291, 144, 91, 79, 90, 89, 67, 59, 57, 183, 181, 547, 123, 117, 13, 20, 6, 18, 115, 129, 56, 5, 7, 16, 6, 39, 48, 39, 93, 86, 68, 179, 64, 0, 54, 19, 29, 48, 436, 241, 450, 221, 428, 121, 240, 319, 124, 326, 209, 195, 494, 412, 187, 0, 6, 11, 1, 116, 11, 22, 56, 22, 13, 45, 20, 93, 9, 46, 62, 29, 95, 318, 47, 0, 17, 6, 0, 16, 16, 18, 9, 14, 52, 4, 33, 82, 22, 49, 30, 59, 53, 113, 32, 0, 4, 6, 2, 28, 79, 44, 43, 9, 5, 26, 14, 128, 37, 97, 62, 78, 119, 113, 91, 0, 3, 28, 21, 71, 60, 145, 74, 5, 73, 26, 19, 273, 73, 286, 100, 148, 194, 206, 142, 78, 32, 94, 100, 230, 338, 706, 529, 131, 515, 235, 279, 494, 602, 915, 498, 812, 887, 709, 885, 274, 258, 233, 549, 1271, 1103, 1366, 1152, 512, 1205, 502, 972, 1024, 1111, 1642, 1176, 895, 839, 1889, 1382, 713, 1766, 1739, 1365, 1861, 1494, 1399, 1001, 1461, 1296, 1660, 1052, 800, 1101, 1768, 1803, 1629, 1296, 1577, 0, 39, 44, 44, 172, 896, 301, 438, 947, 476, 245, 527, 298, 171, 166, 269, 315, 960, 374, 482, 0, 28, 35, 54, 22, 592, 272, 871, 383, 213, 180, 248, 431, 119, 193, 375, 199, 542, 1050, 337, 0, 18, 60, 24, 103, 554, 743, 362, 448, 476, 180, 325, 605, 252, 423, 563, 655, 705, 1085, 719, 0, 76, 59, 309, 641, 903, 441, 372, 161, 79, 274, 169, 769, 345, 521, 338, 859, 947, 1770, 606, 0, 731, 1194, 1193, 942, 1641, 269, 359, 119, 516, 1313, 547, 812, 739, 933, 541, 1081, 845, 856, 1339, 403, 979, 1025, 974, 1651, 1213, 1795, 1402, 1417, 1338, 1555, 1941, 1790, 1117, 1613, 1061, 1630, 1533, 1986, 182, 842, 502, 373, 1368, 1031, 299, 190, 588, 768, 1103, 375, 1064, 1018, 1930, 918, 813, 76, 47, 98, 37, 1157, 1622, 1217, 246, 23, 81, 159, 171, 846, 431, 492, 447, 466, 1777, 425, 0, 239, 326, 97, 304, 182, 258, 59, 59, 19, 63, 229, 72, 129, 201, 174, 197, 226, 127, 355, 0, 69, 81, 89, 98, 108, 169, 221, 104, 111, 78, 164, 157, 61, 112, 100, 139, 148, 187, 165, 0, 100, 23, 39, 115, 137, 225, 158, 137, 137, 97, 118, 149, 37, 169, 158, 95, 190, 143, 170, 0, 97, 90, 108, 230, 126, 97, 126, 51, 46, 72, 291, 136, 23, 97, 78, 129, 65, 161, 59, 0, 206, 127, 112, 88, 74, 25, 328, 99, 62, 34, 927, 105, 81, 157, 72, 70, 58, 97, 72, 82, 127, 157, 249, 517, 170, 394, 439, 89, 141, 24, 376, 149, 104, 96, 35, 84, 299, 120, 175, 360, 1297, 160, 591, 935, 182, 529, 859, 289, 197, 116, 354, 589, 250, 538, 201, 193, 371, 687, 1050, 228, 530, 953, 1408, 1129, 1823, 456, 816, 1721, 552, 677, 312, 1293, 1481, 1488, 457, 510, 1383, 1124, 1870, 1078, 1620, 1146, 1505, 1072, 1074, 365, 1482, 576, 657, 563, 541, 960, 647, 244, 668, 432, 854, 597, 276, 652, 378, 581, 507, 1200, 685, 306, 1194, 274, 220, 1470, 380, 208, 159, 83, 82, 50, 439, 259, 445, 115, 423, 190, 276, 258, 133, 100, 306, 139, 143, 376, 153, 110, 46, 18, 15, 208, 87, 276, 577, 194, 195, 84, 394, 123, 0, 36, 24, 18, 29, 37, 22, 28, 109, 91, 85, 74, 118, 61, 75, 75, 133, 147, 61, 106, 0, 112, 20, 39, 62, 126, 29, 79, 96, 71, 59, 74, 155, 111, 123, 143, 157, 84, 207, 61, 0, 13, 24, 13, 62, 81, 81, 107, 69, 155, 61, 106, 109, 67, 152, 110, 77, 80, 123, 105, 0, 27, 49, 60, 99, 215, 48, 89, 50, 35, 113, 26, 112, 66, 180, 61, 161, 109, 172, 69, 0, 51, 67, 83, 98, 75, 79, 134, 62, 124, 50, 128, 179, 151, 144, 150, 224, 114, 186, 125, 70, 132, 135, 166, 207, 245, 209, 246, 73, 184, 48, 173, 139, 304, 219, 144, 376, 200, 263, 360, 232, 318, 345, 266, 741, 407, 625, 467, 336, 446, 194, 477, 707, 801, 669, 462, 559, 288, 1004, 610, 875, 1190, 769, 858, 1955, 1642, 1029, 959, 605, 685, 901, 911, 1952, 1059, 1433, 1981, 1080, 1597, 1310, 1656, 1093, 1363, 1954, 528, 616, 1013, 1206, 1221, 948, 32, 271, 43, 62, 417, 399, 914, 422, 59, 1305, 892, 246, 82, 153, 220, 277, 398, 1453, 126, 136, 21, 32, 14, 44, 225, 225, 125, 65, 32, 95, 25, 108, 105, 43, 189, 98, 155, 295, 91, 0, 87, 30, 34, 144, 900, 579, 1768, 403, 467, 131, 241, 437, 108, 392, 167, 251, 725, 1322, 219, 0, 285, 29, 16, 120, 34, 20, 85, 49, 23, 54, 15, 102, 13, 63, 30, 37, 108, 430, 14, 0, 7, 181, 0, 14, 27, 22, 21, 10, 6, 4, 4, 110, 21, 30, 19, 34, 61, 81, 42, 0, 6, 40, 0, 11, 14, 23, 14, 2, 0, 7, 8, 22, 10, 11, 20, 27, 27, 66, 45, 0, 4, 12, 7, 18, 3, 44, 37, 0, 9, 0, 7, 57, 16, 59, 42, 70, 95, 154, 114, 58, 37, 59, 42, 149, 64, 340, 304, 78, 129, 48, 38, 94, 105, 183, 173, 319, 265, 502, 679, 638, 982, 426, 708, 772, 1571, 615, 476, 971, 397, 1432, 632, 661, 447, 825, 906, 1579, 1861, 1008, 766, 1698, 1495, 1417, 689, 684, 1612, 1812, 0, 26, 0, 11, 5, 70, 33, 178, 83, 69, 77, 115, 46, 11, 61, 38, 75, 42, 18, 23, 0, 2, 11, 6, 18, 3, 3, 15, 7, 7, 20, 9, 15, 5, 15, 9, 6, 15, 4, 8, 0, 1, 5, 0, 3, 0, 3, 13, 4, 1, 8, 2, 16, 6, 4, 3, 18, 7, 1, 2, 0, 3, 1, 0, 1, 0, 3, 2, 0, 0, 0, 1, 2, 2, 13, 6, 8, 11, 1, 1, 0, 0, 0, 4, 1, 0, 1, 0, 0, 0, 0, 0, 10, 0, 10, 3, 1, 6, 1, 1, 3, 1, 2, 0, 1, 0, 0, 0, 0, 0, 0, 0, 3, 2, 5, 3, 1, 0, 4, 0, 0, 1, 0, 8, 8, 6, 1, 0, 1, 1, 0, 3, 7, 6, 5, 1, 9, 3, 22, 2, 3, 4, 7, 34, 38, 14, 18, 0, 3, 8, 1, 4, 9, 12, 13, 3, 30, 5, 50, 3, 50, 14, 9, 98, 63, 81, 34, 13, 27, 22, 21, 28, 37, 55, 71, 25, 51, 48, 131, 30, 179, 48, 125, 279, 193, 381, 190, 155, 135, 111, 80, 117, 150, 200, 136, 58, 70, 121, 304, 123, 46, 38, 65, 294, 238, 538, 331, 280, 215, 256, 175, 428, 451, 359, 130, 95, 111, 206, 132, 101, 51, 40, 34, 70, 163, 288, 351, 159, 196, 133, 187, 270, 65, 179, 62, 78, 62, 122, 8, 0, 7, 49, 32, 47, 109, 88, 55, 78, 11, 35, 35, 18, 35, 31, 28, 86, 120, 113, 55, 0, 22, 67, 8, 24, 46, 42, 77, 60, 32, 38, 21, 46, 8, 40, 9, 52, 58, 31, 60, 0, 40, 52, 12, 18, 76, 83, 84, 56, 54, 43, 57, 22, 21, 55, 18, 42, 55, 63, 43, 0, 39, 51, 43, 84, 130, 68, 22, 49, 14, 62, 80, 71, 38, 38, 72, 38, 83, 167, 77, 0, 57, 43, 26, 65, 115, 9, 125, 90, 14, 41, 117, 39, 97, 86, 85, 109, 77, 72, 49, 36, 31, 53, 43, 115, 159, 147, 114, 62, 57, 17, 105, 55, 162, 77, 52, 112, 201, 238, 169, 59, 94, 98, 122, 172, 101, 148, 155, 139, 60, 87, 34, 196, 262, 111, 168, 215, 137, 504, 891, 42, 938, 849, 342, 1593, 1896, 1237, 800, 844, 580, 205, 844, 733, 435, 522, 481, 646, 651, 1010, 987, 61, 878, 381, 258, 1071, 1360, 386, 866, 960, 413, 149, 270, 913, 459, 476, 443, 599, 1371, 1706, 61, 452, 658, 209, 399, 1228, 666, 157, 327, 194, 78, 424, 230, 256, 145, 233, 411, 158, 193, 134, 143, 447, 85, 89, 425, 503, 388, 597, 60, 59, 39, 90, 183, 138, 142, 126, 68, 18, 275, 292, 82, 254, 159, 85, 165, 171, 151, 40, 6, 22, 62, 30, 37, 78, 54, 155, 78, 30, 45, 0, 102, 3, 7, 10, 188, 29, 221, 148, 156, 170, 256, 47, 49, 146, 55, 99, 109, 24, 52, 0, 13, 4, 2, 19, 35, 8, 33, 41, 21, 48, 28, 33, 25, 64, 29, 25, 55, 19, 23, 0, 27, 14, 0, 24, 9, 6, 45, 18, 4, 32, 15, 59, 39, 44, 40, 36, 33, 4, 7, 0, 2, 1, 2, 5, 7, 5, 1, 2, 1, 5, 3, 2, 22, 46, 11, 10, 30, 8, 9, 0, 6, 7, 5, 13, 1, 2, 1, 1, 0, 0, 0, 8, 1, 36, 9, 4, 17, 6, 13, 1, 7, 4, 2, 1, 2, 4, 3, 0, 1, 0, 1, 1, 4, 12, 12, 3, 3, 4, 5, 5, 2, 0, 6, 8, 5, 13, 1, 1, 3, 0, 1, 7, 2, 11, 4, 11, 13, 17, 2, 12, 3, 31, 27, 37, 26, 41, 10, 8, 20, 2, 10, 29, 27, 27, 14, 23, 21, 42, 20, 177, 64, 130, 298, 374, 510, 192, 154, 147, 164, 92, 164, 179, 243, 192, 143, 63, 116, 171, 69, 372, 180, 411, 461, 638, 859, 545, 408, 310, 702, 274, 254, 347, 461, 222, 161, 174, 194, 319, 256, 141, 41, 64, 208, 521, 560, 465, 452, 385, 359, 363, 486, 831, 352, 181, 110, 111, 315, 191, 66, 59, 16, 22, 62, 259, 229, 373, 191, 207, 200, 203, 351, 117, 364, 108, 141, 101, 176, 161, 0, 21, 5, 29, 33, 86, 42, 94, 133, 123, 61, 79, 99, 39, 80, 72, 79, 92, 94, 85, 0, 22, 12, 0, 160, 3, 20, 26, 23, 11, 21, 19, 54, 11, 31, 68, 14, 38, 97, 24, 0, 4, 14, 2, 63, 15, 27, 13, 18, 31, 4, 17, 47, 15, 71, 14, 88, 35, 53, 25, 0, 10, 15, 1, 87, 22, 10, 3, 1, 9, 7, 8, 56, 16, 119, 34, 63, 50, 35, 25, 0, 8, 25, 36, 84, 13, 80, 22, 0, 52, 12, 12, 231, 77, 334, 40, 138, 66, 60, 36, 46, 47, 18, 87, 161, 88, 239, 171, 40, 303, 33, 56, 208, 462, 834, 263, 373, 283, 153, 193, 189, 123, 75, 337, 534, 407, 564, 445, 150, 919, 97, 302, 1696, 864, 1755, 361, 1177, 690, 754, 643, 711, 499, 415, 1133, 864, 1002, 943, 911, 290, 790, 1958, 1015, 1647, 1572, 1991, 872, 1099, 1618, 1472, 1709, 1394, 1438, 1443, 1830, 913, 1484, 1269, 1788, 424, 334, 450, 1484, 1174, 1248, 1798, 1599, 740, 939, 594, 1336, 1417, 825, 447, 640, 717, 897, 1126, 449, 119, 74, 79, 230, 373, 459, 788, 486, 339, 317, 329, 570, 357, 362, 334, 468, 346, 626, 374, 0, 0, 0, 0, 0, 0, 1, 5, 12, 0, 1, 3, 13, 10, 12, 9, 35, 97, 9, 15, 0, 0, 1, 3, 1, 10, 8, 4, 7, 15, 2, 5, 73, 36, 11, 12, 116, 36, 16, 34, 0, 0, 0, 0, 1, 23, 4, 7, 8, 27, 2, 5, 10, 7, 20, 9, 38, 23, 16, 10, 0, 1, 2, 2, 8, 11, 3, 1, 8, 9, 2, 1, 10, 12, 12, 9, 25, 24, 45, 12, 0, 7, 5, 4, 4, 1, 0, 11, 4, 2, 0, 37, 6, 17, 18, 16, 20, 21, 30, 15, 3, 8, 14, 13, 13, 13, 19, 16, 19, 3, 4, 33, 7, 33, 14, 17, 54, 33, 37, 68, 21, 14, 22, 57, 17, 42, 23, 20, 54, 15, 14, 56, 55, 121, 50, 58, 62, 74, 131, 70, 21, 88, 34, 129, 184, 191, 74, 98, 79, 189, 19, 91, 316, 250, 72, 74, 199, 158, 241, 164, 44, 192, 16, 60, 45, 166, 205, 46, 197, 223, 132, 90, 353, 510, 172, 117, 318, 85, 195, 728, 6, 30, 25, 33, 313, 81, 26, 116, 12, 137, 42, 18, 35, 114, 163, 44, 500, 96, 30, 238, 6, 16, 2, 4, 11, 5, 49, 12, 1, 1, 0, 27, 23, 20, 13, 28, 36, 6, 19, 43, 1, 0, 0, 2, 8, 10, 9, 2, 0, 0, 6, 1, 10, 3, 18, 12, 25, 11, 5, 0, 32, 1, 2, 4, 113, 44, 153, 93, 63, 70, 110, 32, 15, 72, 25, 34, 45, 15, 28, 0, 11, 7, 0, 18, 9, 5, 42, 21, 9, 25, 8, 12, 5, 13, 24, 8, 15, 2, 10, 0, 9, 11, 0, 3, 1, 1, 15, 8, 7, 3, 2, 23, 3, 2, 6, 6, 3, 1, 3, 0, 21, 16, 10, 0, 2, 3, 2, 2, 1, 0, 1, 7, 0, 4, 7, 2, 4, 0, 6, 0, 1, 3, 56, 6, 0, 2, 3, 0, 2, 0, 0, 3, 0, 14, 2, 2, 4, 1, 2, 1, 4, 8, 13, 1, 1, 2, 0, 0, 0, 0, 0, 1, 1, 5, 1, 2, 5, 4, 3, 5, 7, 5, 25, 7, 7, 5, 2, 0, 7, 0, 0, 7, 0, 3, 0, 2, 3, 13, 4, 4, 40, 29, 55, 48, 97, 15, 9, 13, 26, 2, 1, 24, 10, 23, 2, 21, 16, 24, 21, 51, 35, 17, 45, 52, 112, 47, 37, 50, 50, 17, 29, 50, 22, 41, 7, 30, 36, 44, 48, 55, 40, 28, 34, 140, 276, 89, 168, 85, 88, 53, 84, 111, 76, 74, 71, 75, 129, 129, 85, 41, 62, 9, 41, 178, 366, 164, 249, 148, 130, 82, 172, 212, 144, 69, 77, 124, 105, 93, 89, 19, 29, 11, 20, 222, 278, 284, 149, 101, 80, 126, 221, 54, 125, 75, 46, 47, 74, 75, 0, 63, 126, 12, 265, 58, 70, 152, 46, 37, 42, 65, 22, 33, 61, 22, 53, 51, 68, 28, 0, 35, 43, 32, 38, 13, 52, 36, 34, 24, 30, 15, 23, 26, 39, 43, 37, 41, 55, 31, 0, 38, 51, 11, 26, 27, 149, 153, 76, 8, 38, 41, 21, 31, 50, 44, 58, 108, 30, 34, 0, 12, 1, 3, 6, 30, 98, 14, 59, 4, 110, 145, 72, 41, 41, 47, 60, 175, 32, 51, 0, 13, 4, 4, 7, 18, 4, 24, 24, 3, 20, 177, 9, 20, 112, 14, 63, 169, 37, 43, 0, 9, 0, 1, 4, 14, 52, 50, 7, 10, 16, 30, 4, 12, 86, 10, 62, 68, 261, 103, 0, 10, 6, 6, 93, 55, 156, 47, 45, 7, 25, 47, 34, 45, 134, 42, 209, 60, 865, 885, 9, 24, 18, 36, 824, 1419, 403, 120, 642, 258, 56, 1057, 267, 116, 410, 156, 1168, 414, 1111, 819, 60, 19, 27, 2, 226, 828, 431, 189, 444, 573, 97, 39, 250, 449, 113, 290, 224, 222, 628, 343, 169, 56, 10, 13, 10, 360, 680, 83, 160, 21, 135, 148, 95, 74, 91, 104, 110, 70, 93, 101, 28, 103, 18, 49, 117, 121, 161, 227, 27, 13, 14, 4, 90, 117, 74, 110, 68, 30, 105, 137, 605, 1110, 80, 80, 45, 98, 99, 35, 15, 25, 32, 15, 103, 69, 38, 62, 31, 42, 79, 0, 1, 0, 0, 6, 62, 30, 99, 16, 33, 4, 17, 18, 1, 2, 7, 12, 30, 93, 44, 0, 1, 6, 2, 8, 10, 12, 42, 17, 8, 7, 1, 9, 2, 9, 8, 5, 22, 88, 10, 0, 8, 9, 0, 1, 13, 20, 17, 15, 20, 2, 12, 11, 6, 6, 23, 13, 15, 25, 21, 0, 3, 0, 0, 3, 10, 14, 7, 0, 0, 8, 3, 19, 8, 12, 9, 15, 15, 59, 19, 0, 3, 13, 5, 10, 21, 9, 38, 7, 4, 1, 6, 41, 54, 22, 9, 28, 13, 44, 31, 26, 10, 54, 31, 141, 74, 151, 153, 40, 71, 11, 13, 44, 130, 32, 22, 92, 119, 170, 192, 365, 135, 117, 74, 539, 516, 1233, 798, 314, 187, 138, 110, 747, 293, 205, 117, 192, 423, 969, 1280, 1976, 1251, 484, 1161, 885, 1927, 1869, 1782, 1776, 483, 1884, 644, 796, 1148, 1482, 1444, 1307, 822, 1229, 555, 1063, 1844, 3, 41, 13, 91, 639, 526, 452, 465, 253, 53, 78, 128, 238, 245, 174, 108, 202, 1002, 401, 372, 33, 0, 7, 1, 91, 214, 208, 36, 4, 6, 2, 9, 158, 37, 50, 143, 144, 282, 148, 0, 15, 18, 101, 302, 547, 355, 106, 70, 194, 245, 45, 351, 225, 217, 397, 355, 330, 1754, 108, 0, 20, 57, 646, 476, 767, 259, 105, 283, 796, 138, 153, 470, 112, 130, 62, 226, 418, 171, 129, 0, 98, 125, 1108, 820, 1131, 276, 244, 385, 665, 422, 176, 417, 91, 99, 179, 494, 163, 1081, 216, 0, 16, 0, 380, 41, 268, 182, 22, 201, 58, 175, 115, 15, 108, 25, 87, 162, 278, 126, 51, 0, 0, 7, 9, 0, 0, 2, 1, 0, 0, 8, 219, 3, 4, 18, 4, 58, 12, 22, 29, 0, 3, 0, 1, 0, 0, 6, 5, 0, 1, 0, 16, 0, 6, 22, 6, 4, 3, 7, 4, 1, 4, 0, 1, 7, 0, 2, 2, 0, 3, 0, 18, 1, 9, 2, 4, 9, 5, 0, 3, 0, 1, 9, 4, 7, 2, 18, 9, 4, 2, 4, 29, 3, 39, 4, 3, 12, 11, 11, 35, 2, 3, 12, 1, 48, 6, 9, 72, 40, 9, 17, 117, 18, 53, 67, 18, 67, 77, 19, 43, 1, 10, 25, 13, 191, 14, 53, 88, 135, 15, 78, 197, 64, 65, 152, 63, 61, 181, 101, 156, 1, 15, 32, 76, 133, 27, 135, 135, 26, 112, 39, 312, 27, 121, 187, 106, 143, 280, 71, 327, 16, 35, 77, 76, 199, 157, 160, 71, 101, 8, 5, 290, 73, 249, 78, 65, 277, 304, 136, 0, 11, 14, 11, 22, 45, 37, 46, 41, 9, 25, 21, 2, 9, 14, 18, 58, 28, 53, 46, 0, 2, 8, 0, 5, 43, 29, 46, 18, 14, 29, 7, 15, 1, 13, 12, 27, 23, 10, 31, 0, 7, 46, 1, 12, 58, 73, 92, 48, 23, 14, 33, 9, 8, 65, 14, 15, 37, 21, 12, 0, 0, 7, 1, 7, 120, 59, 25, 30, 2, 31, 57, 19, 5, 40, 46, 34, 32, 36, 26, 0, 1, 0, 2, 3, 84, 2, 21, 33, 2, 15, 33, 1, 16, 60, 52, 42, 70, 26, 36, 2, 0, 2, 1, 0, 68, 127, 58, 32, 11, 2, 14, 1, 26, 42, 31, 3, 104, 79, 70, 0, 2, 21, 5, 82, 43, 94, 90, 74, 12, 46, 26, 31, 31, 42, 69, 82, 45, 480, 591, 0, 51, 69, 24, 702, 1513, 728, 391, 728, 462, 51, 759, 511, 175, 398, 236, 459, 379, 765, 713, 6, 101, 36, 18, 416, 1339, 755, 116, 530, 617, 233, 47, 198, 450, 188, 303, 208, 156, 644, 626, 4, 16, 55, 26, 42, 669, 704, 197, 269, 35, 56, 252, 76, 102, 34, 107, 122, 21, 56, 51, 21, 84, 19, 66, 348, 347, 279, 384, 45, 26, 16, 61, 88, 79, 72, 84, 43, 9, 156, 152, 26, 89, 29, 45, 76, 129, 68, 17, 7, 17, 29, 20, 23, 24, 32, 74, 45, 19, 20, 0, 7, 36, 26, 19, 59, 37, 26, 76, 14, 34, 12, 45, 75, 38, 36, 99, 120, 85, 28, 0, 47, 25, 25, 19, 137, 41, 78, 59, 96, 30, 65, 152, 73, 81, 100, 112, 69, 188, 107, 0, 78, 26, 35, 111, 86, 73, 73, 106, 152, 72, 55, 111, 45, 99, 57, 75, 68, 82, 103, 0, 291, 102, 61, 178, 106, 36, 62, 63, 44, 84, 67, 91, 52, 82, 103, 103, 76, 307, 41, 0, 500, 300, 211, 319, 69, 60, 212, 88, 69, 40, 142, 150, 136, 82, 118, 181, 65, 139, 43, 451, 522, 606, 346, 562, 132, 231, 236, 97, 91, 25, 125, 143, 210, 30, 47, 331, 147, 197, 217, 596, 684, 770, 538, 448, 171, 342, 284, 245, 94, 126, 110, 600, 479, 179, 181, 476, 149, 687, 802, 581, 1211, 915, 595, 719, 934, 794, 522, 572, 470, 153, 289, 1809, 1067, 435, 497, 1458, 643, 797, 981, 525, 911, 582, 425, 302, 977, 809, 231, 694, 495, 486, 116, 1677, 1108, 813, 560, 882, 368, 490, 434, 763, 647, 444, 733, 422, 195, 221, 153, 281, 87, 64, 260, 188, 206, 127, 887, 213, 177, 179, 488, 398, 96, 168, 72, 155, 144, 163, 43, 50, 20, 83, 104, 87, 50, 120, 56, 21, 39, 37, 121, 47, 23, 52, 57, 58, 102, 15, 13, 21, 36, 37, 52, 53, 64, 109, 57, 45, 47, 0, 36, 1, 2, 1, 198, 16, 80, 36, 56, 100, 60, 29, 36, 39, 34, 20, 44, 9, 31, 0, 25, 6, 2, 6, 50, 10, 19, 36, 22, 67, 64, 33, 31, 34, 47, 18, 40, 22, 18, 0, 18, 6, 1, 7, 62, 36, 28, 41, 2, 43, 29, 44, 47, 71, 67, 33, 49, 26, 16, 0, 6, 1, 0, 12, 48, 13, 8, 9, 1, 2, 19, 1, 12, 40, 15, 7, 35, 14, 8, 0, 0, 0, 3, 0, 2, 5, 0, 0, 0, 0, 0, 0, 0, 17, 1, 1, 11, 9, 1, 0, 0, 0, 0, 0, 0, 0, 0, 0, 0, 0, 2, 0, 1, 3, 1, 0, 3, 1, 0, 0, 0, 0, 0, 0, 0, 0, 0, 0, 0, 0, 0, 0, 0, 1, 0, 0, 0, 0, 0, 0, 0, 0, 0, 2, 0, 0, 0, 0, 0, 0, 0, 0, 1, 0, 0, 0, 0, 6, 0, 0, 0, 0, 1, 0, 3, 0, 2, 0, 0, 0, 1, 0, 0, 1, 1, 4, 1, 2, 0, 0, 0, 3, 5, 20, 2, 3, 11, 3, 3, 0, 1, 1, 5, 1, 3, 3, 6, 10, 0, 12, 3, 0, 5, 57, 2, 41, 23, 5, 7, 17, 9, 16, 4, 6, 7, 9, 47, 17, 1, 8, 5, 0, 5, 103, 36, 66, 29, 17, 33, 14, 21, 19, 36, 18, 9, 9, 63, 36, 0, 36, 15, 19, 35, 35, 40, 66, 91, 34, 28, 43, 79, 14, 12, 50, 89, 186, 42, 61, 0, 1, 6, 6, 48, 15, 7, 27, 14, 8, 6, 21, 32, 13, 45, 37, 73, 65, 383, 25, 0, 1, 4, 0, 33, 19, 23, 13, 11, 99, 4, 23, 120, 16, 80, 60, 58, 85, 165, 98, 0, 9, 0, 19, 37, 64, 52, 52, 4, 22, 46, 5, 419, 106, 226, 130, 187, 88, 369, 164, 0, 24, 69, 48, 138, 96, 350, 236, 35, 250, 81, 91, 580, 354, 467, 373, 618, 512, 778, 576, 252, 113, 278, 305, 396, 329, 1079, 669, 289, 591, 282, 421, 767, 717, 922, 873, 1372, 1150, 1148, 1320, 640, 373, 500, 830, 976, 762, 1389, 1082, 430, 982, 441, 989, 1001, 1693, 1393, 1404, 1217, 1284, 1949, 1339, 1776, 1840, 1277, 845, 1124, 1668, 1810, 1738, 1378, 1053, 684, 1537, 1339, 1658, 1176, 718, 1591, 1, 29, 96, 100, 207, 146, 424, 271, 108, 147, 104, 251, 283, 144, 179, 345, 451, 833, 623, 434, 9, 16, 20, 21, 39, 109, 96, 53, 15, 13, 7, 46, 72, 105, 128, 85, 223, 373, 119]}],                        {\"template\": {\"data\": {\"bar\": [{\"error_x\": {\"color\": \"#2a3f5f\"}, \"error_y\": {\"color\": \"#2a3f5f\"}, \"marker\": {\"line\": {\"color\": \"#E5ECF6\", \"width\": 0.5}}, \"type\": \"bar\"}], \"barpolar\": [{\"marker\": {\"line\": {\"color\": \"#E5ECF6\", \"width\": 0.5}}, \"type\": \"barpolar\"}], \"carpet\": [{\"aaxis\": {\"endlinecolor\": \"#2a3f5f\", \"gridcolor\": \"white\", \"linecolor\": \"white\", \"minorgridcolor\": \"white\", \"startlinecolor\": \"#2a3f5f\"}, \"baxis\": {\"endlinecolor\": \"#2a3f5f\", \"gridcolor\": \"white\", \"linecolor\": \"white\", \"minorgridcolor\": \"white\", \"startlinecolor\": \"#2a3f5f\"}, \"type\": \"carpet\"}], \"choropleth\": [{\"colorbar\": {\"outlinewidth\": 0, \"ticks\": \"\"}, \"type\": \"choropleth\"}], \"contour\": [{\"colorbar\": {\"outlinewidth\": 0, \"ticks\": \"\"}, \"colorscale\": [[0.0, \"#0d0887\"], [0.1111111111111111, \"#46039f\"], [0.2222222222222222, \"#7201a8\"], [0.3333333333333333, \"#9c179e\"], [0.4444444444444444, \"#bd3786\"], [0.5555555555555556, \"#d8576b\"], [0.6666666666666666, \"#ed7953\"], [0.7777777777777778, \"#fb9f3a\"], [0.8888888888888888, \"#fdca26\"], [1.0, \"#f0f921\"]], \"type\": \"contour\"}], \"contourcarpet\": [{\"colorbar\": {\"outlinewidth\": 0, \"ticks\": \"\"}, \"type\": \"contourcarpet\"}], \"heatmap\": [{\"colorbar\": {\"outlinewidth\": 0, \"ticks\": \"\"}, \"colorscale\": [[0.0, \"#0d0887\"], [0.1111111111111111, \"#46039f\"], [0.2222222222222222, \"#7201a8\"], [0.3333333333333333, \"#9c179e\"], [0.4444444444444444, \"#bd3786\"], [0.5555555555555556, \"#d8576b\"], [0.6666666666666666, \"#ed7953\"], [0.7777777777777778, \"#fb9f3a\"], [0.8888888888888888, \"#fdca26\"], [1.0, \"#f0f921\"]], \"type\": \"heatmap\"}], \"heatmapgl\": [{\"colorbar\": {\"outlinewidth\": 0, \"ticks\": \"\"}, \"colorscale\": [[0.0, \"#0d0887\"], [0.1111111111111111, \"#46039f\"], [0.2222222222222222, \"#7201a8\"], [0.3333333333333333, \"#9c179e\"], [0.4444444444444444, \"#bd3786\"], [0.5555555555555556, \"#d8576b\"], [0.6666666666666666, \"#ed7953\"], [0.7777777777777778, \"#fb9f3a\"], [0.8888888888888888, \"#fdca26\"], [1.0, \"#f0f921\"]], \"type\": \"heatmapgl\"}], \"histogram\": [{\"marker\": {\"colorbar\": {\"outlinewidth\": 0, \"ticks\": \"\"}}, \"type\": \"histogram\"}], \"histogram2d\": [{\"colorbar\": {\"outlinewidth\": 0, \"ticks\": \"\"}, \"colorscale\": [[0.0, \"#0d0887\"], [0.1111111111111111, \"#46039f\"], [0.2222222222222222, \"#7201a8\"], [0.3333333333333333, \"#9c179e\"], [0.4444444444444444, \"#bd3786\"], [0.5555555555555556, \"#d8576b\"], [0.6666666666666666, \"#ed7953\"], [0.7777777777777778, \"#fb9f3a\"], [0.8888888888888888, \"#fdca26\"], [1.0, \"#f0f921\"]], \"type\": \"histogram2d\"}], \"histogram2dcontour\": [{\"colorbar\": {\"outlinewidth\": 0, \"ticks\": \"\"}, \"colorscale\": [[0.0, \"#0d0887\"], [0.1111111111111111, \"#46039f\"], [0.2222222222222222, \"#7201a8\"], [0.3333333333333333, \"#9c179e\"], [0.4444444444444444, \"#bd3786\"], [0.5555555555555556, \"#d8576b\"], [0.6666666666666666, \"#ed7953\"], [0.7777777777777778, \"#fb9f3a\"], [0.8888888888888888, \"#fdca26\"], [1.0, \"#f0f921\"]], \"type\": \"histogram2dcontour\"}], \"mesh3d\": [{\"colorbar\": {\"outlinewidth\": 0, \"ticks\": \"\"}, \"type\": \"mesh3d\"}], \"parcoords\": [{\"line\": {\"colorbar\": {\"outlinewidth\": 0, \"ticks\": \"\"}}, \"type\": \"parcoords\"}], \"pie\": [{\"automargin\": true, \"type\": \"pie\"}], \"scatter\": [{\"marker\": {\"colorbar\": {\"outlinewidth\": 0, \"ticks\": \"\"}}, \"type\": \"scatter\"}], \"scatter3d\": [{\"line\": {\"colorbar\": {\"outlinewidth\": 0, \"ticks\": \"\"}}, \"marker\": {\"colorbar\": {\"outlinewidth\": 0, \"ticks\": \"\"}}, \"type\": \"scatter3d\"}], \"scattercarpet\": [{\"marker\": {\"colorbar\": {\"outlinewidth\": 0, \"ticks\": \"\"}}, \"type\": \"scattercarpet\"}], \"scattergeo\": [{\"marker\": {\"colorbar\": {\"outlinewidth\": 0, \"ticks\": \"\"}}, \"type\": \"scattergeo\"}], \"scattergl\": [{\"marker\": {\"colorbar\": {\"outlinewidth\": 0, \"ticks\": \"\"}}, \"type\": \"scattergl\"}], \"scattermapbox\": [{\"marker\": {\"colorbar\": {\"outlinewidth\": 0, \"ticks\": \"\"}}, \"type\": \"scattermapbox\"}], \"scatterpolar\": [{\"marker\": {\"colorbar\": {\"outlinewidth\": 0, \"ticks\": \"\"}}, \"type\": \"scatterpolar\"}], \"scatterpolargl\": [{\"marker\": {\"colorbar\": {\"outlinewidth\": 0, \"ticks\": \"\"}}, \"type\": \"scatterpolargl\"}], \"scatterternary\": [{\"marker\": {\"colorbar\": {\"outlinewidth\": 0, \"ticks\": \"\"}}, \"type\": \"scatterternary\"}], \"surface\": [{\"colorbar\": {\"outlinewidth\": 0, \"ticks\": \"\"}, \"colorscale\": [[0.0, \"#0d0887\"], [0.1111111111111111, \"#46039f\"], [0.2222222222222222, \"#7201a8\"], [0.3333333333333333, \"#9c179e\"], [0.4444444444444444, \"#bd3786\"], [0.5555555555555556, \"#d8576b\"], [0.6666666666666666, \"#ed7953\"], [0.7777777777777778, \"#fb9f3a\"], [0.8888888888888888, \"#fdca26\"], [1.0, \"#f0f921\"]], \"type\": \"surface\"}], \"table\": [{\"cells\": {\"fill\": {\"color\": \"#EBF0F8\"}, \"line\": {\"color\": \"white\"}}, \"header\": {\"fill\": {\"color\": \"#C8D4E3\"}, \"line\": {\"color\": \"white\"}}, \"type\": \"table\"}]}, \"layout\": {\"annotationdefaults\": {\"arrowcolor\": \"#2a3f5f\", \"arrowhead\": 0, \"arrowwidth\": 1}, \"coloraxis\": {\"colorbar\": {\"outlinewidth\": 0, \"ticks\": \"\"}}, \"colorscale\": {\"diverging\": [[0, \"#8e0152\"], [0.1, \"#c51b7d\"], [0.2, \"#de77ae\"], [0.3, \"#f1b6da\"], [0.4, \"#fde0ef\"], [0.5, \"#f7f7f7\"], [0.6, \"#e6f5d0\"], [0.7, \"#b8e186\"], [0.8, \"#7fbc41\"], [0.9, \"#4d9221\"], [1, \"#276419\"]], \"sequential\": [[0.0, \"#0d0887\"], [0.1111111111111111, \"#46039f\"], [0.2222222222222222, \"#7201a8\"], [0.3333333333333333, \"#9c179e\"], [0.4444444444444444, \"#bd3786\"], [0.5555555555555556, \"#d8576b\"], [0.6666666666666666, \"#ed7953\"], [0.7777777777777778, \"#fb9f3a\"], [0.8888888888888888, \"#fdca26\"], [1.0, \"#f0f921\"]], \"sequentialminus\": [[0.0, \"#0d0887\"], [0.1111111111111111, \"#46039f\"], [0.2222222222222222, \"#7201a8\"], [0.3333333333333333, \"#9c179e\"], [0.4444444444444444, \"#bd3786\"], [0.5555555555555556, \"#d8576b\"], [0.6666666666666666, \"#ed7953\"], [0.7777777777777778, \"#fb9f3a\"], [0.8888888888888888, \"#fdca26\"], [1.0, \"#f0f921\"]]}, \"colorway\": [\"#636efa\", \"#EF553B\", \"#00cc96\", \"#ab63fa\", \"#FFA15A\", \"#19d3f3\", \"#FF6692\", \"#B6E880\", \"#FF97FF\", \"#FECB52\"], \"font\": {\"color\": \"#2a3f5f\"}, \"geo\": {\"bgcolor\": \"white\", \"lakecolor\": \"white\", \"landcolor\": \"#E5ECF6\", \"showlakes\": true, \"showland\": true, \"subunitcolor\": \"white\"}, \"hoverlabel\": {\"align\": \"left\"}, \"hovermode\": \"closest\", \"mapbox\": {\"style\": \"light\"}, \"paper_bgcolor\": \"white\", \"plot_bgcolor\": \"#E5ECF6\", \"polar\": {\"angularaxis\": {\"gridcolor\": \"white\", \"linecolor\": \"white\", \"ticks\": \"\"}, \"bgcolor\": \"#E5ECF6\", \"radialaxis\": {\"gridcolor\": \"white\", \"linecolor\": \"white\", \"ticks\": \"\"}}, \"scene\": {\"xaxis\": {\"backgroundcolor\": \"#E5ECF6\", \"gridcolor\": \"white\", \"gridwidth\": 2, \"linecolor\": \"white\", \"showbackground\": true, \"ticks\": \"\", \"zerolinecolor\": \"white\"}, \"yaxis\": {\"backgroundcolor\": \"#E5ECF6\", \"gridcolor\": \"white\", \"gridwidth\": 2, \"linecolor\": \"white\", \"showbackground\": true, \"ticks\": \"\", \"zerolinecolor\": \"white\"}, \"zaxis\": {\"backgroundcolor\": \"#E5ECF6\", \"gridcolor\": \"white\", \"gridwidth\": 2, \"linecolor\": \"white\", \"showbackground\": true, \"ticks\": \"\", \"zerolinecolor\": \"white\"}}, \"shapedefaults\": {\"line\": {\"color\": \"#2a3f5f\"}}, \"ternary\": {\"aaxis\": {\"gridcolor\": \"white\", \"linecolor\": \"white\", \"ticks\": \"\"}, \"baxis\": {\"gridcolor\": \"white\", \"linecolor\": \"white\", \"ticks\": \"\"}, \"bgcolor\": \"#E5ECF6\", \"caxis\": {\"gridcolor\": \"white\", \"linecolor\": \"white\", \"ticks\": \"\"}}, \"title\": {\"x\": 0.05}, \"xaxis\": {\"automargin\": true, \"gridcolor\": \"white\", \"linecolor\": \"white\", \"ticks\": \"\", \"title\": {\"standoff\": 15}, \"zerolinecolor\": \"white\", \"zerolinewidth\": 2}, \"yaxis\": {\"automargin\": true, \"gridcolor\": \"white\", \"linecolor\": \"white\", \"ticks\": \"\", \"title\": {\"standoff\": 15}, \"zerolinecolor\": \"white\", \"zerolinewidth\": 2}}}, \"title\": {\"text\": \"Histograma dos N\\u00fameros de Focos de Calor\"}, \"xaxis\": {\"title\": {\"text\": \"Distribui\\u00e7\\u00e3o\"}}, \"yaxis\": {\"title\": {\"text\": \"Frequ\\u00eancia\"}}},                        {\"responsive\": true}                    ).then(function(){\n",
       "                            \n",
       "var gd = document.getElementById('0c21916f-7ee1-435e-b46e-5d854e90a162');\n",
       "var x = new MutationObserver(function (mutations, observer) {{\n",
       "        var display = window.getComputedStyle(gd).display;\n",
       "        if (!display || display === 'none') {{\n",
       "            console.log([gd, 'removed!']);\n",
       "            Plotly.purge(gd);\n",
       "            observer.disconnect();\n",
       "        }}\n",
       "}});\n",
       "\n",
       "// Listen for the removal of the full notebook cells\n",
       "var notebookContainer = gd.closest('#notebook-container');\n",
       "if (notebookContainer) {{\n",
       "    x.observe(notebookContainer, {childList: true});\n",
       "}}\n",
       "\n",
       "// Listen for the clearing of the current output cell\n",
       "var outputEl = gd.closest('.output');\n",
       "if (outputEl) {{\n",
       "    x.observe(outputEl, {childList: true});\n",
       "}}\n",
       "\n",
       "                        })                };                });            </script>        </div>"
      ]
     },
     "metadata": {},
     "output_type": "display_data"
    }
   ],
   "source": [
    "plot_histogram(base)"
   ]
  },
  {
   "cell_type": "code",
   "execution_count": 126,
   "metadata": {},
   "outputs": [],
   "source": [
    "# Boxplot do número de focos de calor\n",
    "\n",
    "def plot_box_plot(df):\n",
    "    \n",
    "    graph = go.Box(y = df[df['state'] == 'Mato Grosso']['number'],\n",
    "                name = 'Mato Grosso')\n",
    "    \n",
    "    graph1 = go.Box(y = df[df['state'] == 'Pará']['number'],\n",
    "                name = 'Pará')\n",
    "    \n",
    "    graph2 = go.Box(y = df[df['state'] == 'Maranhão']['number'],\n",
    "                name = 'Maranhão')\n",
    "    \n",
    "    data = [graph, graph1, graph2]\n",
    "    \n",
    "    layout = go.Layout(title = 'BoxPlot dos Números de Focos de Calor',\n",
    "                      height=600, \n",
    "                      width=1000)\n",
    "    \n",
    "    fig = go.Figure(data=data, layout=layout)\n",
    "    return py.iplot(fig)"
   ]
  },
  {
   "cell_type": "code",
   "execution_count": 127,
   "metadata": {},
   "outputs": [
    {
     "data": {
      "application/vnd.plotly.v1+json": {
       "config": {
        "linkText": "Export to plot.ly",
        "plotlyServerURL": "https://plot.ly",
        "showLink": false
       },
       "data": [
        {
         "name": "Mato Grosso",
         "type": "box",
         "y": [
          0,
          39,
          44,
          44,
          172,
          896,
          301,
          438,
          947,
          476,
          245,
          527,
          298,
          171,
          166,
          269,
          315,
          960,
          374,
          482,
          0,
          28,
          35,
          54,
          22,
          592,
          272,
          871,
          383,
          213,
          180,
          248,
          431,
          119,
          193,
          375,
          199,
          542,
          1050,
          337,
          0,
          18,
          60,
          24,
          103,
          554,
          743,
          362,
          448,
          476,
          180,
          325,
          605,
          252,
          423,
          563,
          655,
          705,
          1085,
          719,
          0,
          76,
          59,
          309,
          641,
          903,
          441,
          372,
          161,
          79,
          274,
          169,
          769,
          345,
          521,
          338,
          859,
          947,
          1770,
          606,
          0,
          731,
          1194,
          1193,
          2528,
          942,
          2413,
          1641,
          269,
          359,
          119,
          516,
          1313,
          547,
          812,
          739,
          933,
          541,
          1081,
          845,
          2201,
          2201,
          4358,
          6665,
          7878,
          4313,
          9813,
          2294,
          856,
          1339,
          403,
          979,
          1025,
          974,
          1651,
          1213,
          1795,
          1402,
          1417,
          2041,
          3712,
          3926,
          1338,
          1555,
          5661,
          5435,
          11517,
          4172,
          1941,
          1790,
          1117,
          1613,
          3442,
          1061,
          2008,
          1630,
          2255,
          1533,
          3495,
          2790,
          15406,
          18566,
          6063,
          7762,
          14086,
          11132,
          13603,
          11570,
          6218,
          14453,
          2875,
          2250,
          14608,
          2628,
          6195,
          3568,
          7167,
          5112,
          6228,
          6229,
          10363,
          11729,
          6251,
          8490,
          11034,
          15790,
          24994,
          20551,
          12661,
          25963,
          7965,
          3129,
          18366,
          6332,
          10344,
          5576,
          7081,
          11068,
          8980,
          23945,
          2707,
          6109,
          6062,
          6543,
          9375,
          5341,
          9295,
          7765,
          2327,
          4890,
          6326,
          2579,
          4465,
          2010,
          2837,
          1986,
          5281,
          6490,
          2749,
          4800,
          182,
          842,
          502,
          373,
          2905,
          2097,
          2405,
          1368,
          1031,
          299,
          190,
          588,
          768,
          1103,
          375,
          1064,
          1018,
          1930,
          918,
          813,
          76,
          47,
          98,
          37,
          1157,
          1622,
          1217,
          246,
          23,
          81,
          159,
          171,
          846,
          431,
          492,
          447,
          466,
          1777,
          425
         ]
        },
        {
         "name": "Pará",
         "type": "box",
         "y": [
          0,
          87,
          30,
          34,
          144,
          900,
          579,
          1768,
          403,
          467,
          131,
          241,
          437,
          108,
          392,
          167,
          251,
          725,
          1322,
          219,
          0,
          285,
          29,
          16,
          120,
          34,
          20,
          85,
          49,
          23,
          54,
          15,
          102,
          13,
          63,
          30,
          37,
          108,
          430,
          14,
          0,
          7,
          181,
          0,
          14,
          27,
          22,
          21,
          10,
          6,
          4,
          4,
          110,
          21,
          30,
          19,
          34,
          61,
          81,
          42,
          0,
          6,
          40,
          0,
          11,
          14,
          23,
          14,
          2,
          0,
          7,
          8,
          22,
          10,
          11,
          20,
          27,
          27,
          66,
          45,
          0,
          4,
          12,
          7,
          18,
          3,
          44,
          37,
          0,
          9,
          0,
          7,
          57,
          16,
          59,
          42,
          70,
          95,
          154,
          114,
          58,
          37,
          59,
          42,
          149,
          64,
          340,
          304,
          78,
          129,
          48,
          38,
          94,
          105,
          183,
          173,
          319,
          265,
          502,
          679,
          638,
          982,
          426,
          708,
          772,
          1571,
          4436,
          4364,
          615,
          476,
          971,
          397,
          1432,
          632,
          661,
          447,
          825,
          906,
          1579,
          4985,
          6815,
          6178,
          5484,
          9043,
          15664,
          6255,
          12812,
          13055,
          7575,
          14352,
          4435,
          3859,
          18130,
          2195,
          6964,
          2161,
          8555,
          7913,
          4863,
          11962,
          6237,
          4419,
          2569,
          6139,
          5609,
          8447,
          9471,
          9032,
          8372,
          14590,
          6294,
          6051,
          10810,
          5185,
          6870,
          3360,
          6787,
          11068,
          3953,
          25004,
          3665,
          5026,
          4313,
          5096,
          5189,
          3803,
          4726,
          5083,
          5964,
          2504,
          6653,
          6342,
          3843,
          3141,
          3714,
          4921,
          6448,
          7781,
          5281,
          7628,
          1861,
          2682,
          3366,
          4938,
          7996,
          6195,
          9842,
          4968,
          2883,
          2890,
          2403,
          10012,
          4417,
          3043,
          6156,
          3688,
          7767,
          9643,
          7879,
          9079,
          1008,
          766,
          1698,
          2564,
          3118,
          4787,
          5508,
          1495,
          1417,
          689,
          684,
          2832,
          1612,
          3218,
          1812,
          5514,
          4828,
          6610,
          3300
         ]
        },
        {
         "name": "Maranhão",
         "type": "box",
         "y": [
          0,
          54,
          19,
          29,
          48,
          436,
          241,
          450,
          221,
          428,
          121,
          240,
          319,
          124,
          326,
          209,
          195,
          494,
          412,
          187,
          0,
          6,
          11,
          1,
          116,
          11,
          22,
          56,
          22,
          13,
          45,
          20,
          93,
          9,
          46,
          62,
          29,
          95,
          318,
          47,
          0,
          17,
          6,
          0,
          16,
          16,
          18,
          9,
          14,
          52,
          4,
          33,
          82,
          22,
          49,
          30,
          59,
          53,
          113,
          32,
          0,
          4,
          6,
          2,
          28,
          79,
          44,
          43,
          9,
          5,
          26,
          14,
          128,
          37,
          97,
          62,
          78,
          119,
          113,
          91,
          0,
          3,
          28,
          21,
          71,
          60,
          145,
          74,
          5,
          73,
          26,
          19,
          273,
          73,
          286,
          100,
          148,
          194,
          206,
          142,
          78,
          32,
          94,
          100,
          230,
          338,
          706,
          529,
          131,
          515,
          235,
          279,
          494,
          602,
          915,
          498,
          812,
          887,
          709,
          885,
          274,
          258,
          233,
          549,
          1271,
          1103,
          1366,
          1152,
          512,
          1205,
          502,
          972,
          2323,
          1024,
          3548,
          1111,
          2068,
          1642,
          2096,
          2521,
          1176,
          895,
          839,
          2037,
          3481,
          2023,
          1889,
          2239,
          1382,
          8409,
          713,
          1766,
          6353,
          2138,
          10395,
          2098,
          5592,
          5428,
          3723,
          3875,
          3935,
          1739,
          1365,
          4618,
          3181,
          5878,
          4673,
          6292,
          2907,
          8524,
          2761,
          2404,
          9795,
          4632,
          7626,
          3880,
          4373,
          6423,
          3166,
          14825,
          5137,
          3208,
          2654,
          6661,
          5182,
          6085,
          3604,
          6472,
          3024,
          4772,
          3498,
          1861,
          3228,
          2404,
          5000,
          2918,
          5812,
          6746,
          5351,
          6011,
          2237,
          1494,
          2267,
          3525,
          5830,
          4929,
          6398,
          4769,
          2004,
          2297,
          2331,
          5000,
          4005,
          2261,
          2010,
          2529,
          3869,
          4350,
          3982,
          2300,
          1399,
          1001,
          1461,
          1296,
          2165,
          2424,
          3255,
          1660,
          1052,
          800,
          1101,
          1768,
          1803,
          1629,
          1296,
          2692,
          2400,
          3706,
          1577
         ]
        }
       ],
       "layout": {
        "height": 600,
        "template": {
         "data": {
          "bar": [
           {
            "error_x": {
             "color": "#2a3f5f"
            },
            "error_y": {
             "color": "#2a3f5f"
            },
            "marker": {
             "line": {
              "color": "#E5ECF6",
              "width": 0.5
             }
            },
            "type": "bar"
           }
          ],
          "barpolar": [
           {
            "marker": {
             "line": {
              "color": "#E5ECF6",
              "width": 0.5
             }
            },
            "type": "barpolar"
           }
          ],
          "carpet": [
           {
            "aaxis": {
             "endlinecolor": "#2a3f5f",
             "gridcolor": "white",
             "linecolor": "white",
             "minorgridcolor": "white",
             "startlinecolor": "#2a3f5f"
            },
            "baxis": {
             "endlinecolor": "#2a3f5f",
             "gridcolor": "white",
             "linecolor": "white",
             "minorgridcolor": "white",
             "startlinecolor": "#2a3f5f"
            },
            "type": "carpet"
           }
          ],
          "choropleth": [
           {
            "colorbar": {
             "outlinewidth": 0,
             "ticks": ""
            },
            "type": "choropleth"
           }
          ],
          "contour": [
           {
            "colorbar": {
             "outlinewidth": 0,
             "ticks": ""
            },
            "colorscale": [
             [
              0,
              "#0d0887"
             ],
             [
              0.1111111111111111,
              "#46039f"
             ],
             [
              0.2222222222222222,
              "#7201a8"
             ],
             [
              0.3333333333333333,
              "#9c179e"
             ],
             [
              0.4444444444444444,
              "#bd3786"
             ],
             [
              0.5555555555555556,
              "#d8576b"
             ],
             [
              0.6666666666666666,
              "#ed7953"
             ],
             [
              0.7777777777777778,
              "#fb9f3a"
             ],
             [
              0.8888888888888888,
              "#fdca26"
             ],
             [
              1,
              "#f0f921"
             ]
            ],
            "type": "contour"
           }
          ],
          "contourcarpet": [
           {
            "colorbar": {
             "outlinewidth": 0,
             "ticks": ""
            },
            "type": "contourcarpet"
           }
          ],
          "heatmap": [
           {
            "colorbar": {
             "outlinewidth": 0,
             "ticks": ""
            },
            "colorscale": [
             [
              0,
              "#0d0887"
             ],
             [
              0.1111111111111111,
              "#46039f"
             ],
             [
              0.2222222222222222,
              "#7201a8"
             ],
             [
              0.3333333333333333,
              "#9c179e"
             ],
             [
              0.4444444444444444,
              "#bd3786"
             ],
             [
              0.5555555555555556,
              "#d8576b"
             ],
             [
              0.6666666666666666,
              "#ed7953"
             ],
             [
              0.7777777777777778,
              "#fb9f3a"
             ],
             [
              0.8888888888888888,
              "#fdca26"
             ],
             [
              1,
              "#f0f921"
             ]
            ],
            "type": "heatmap"
           }
          ],
          "heatmapgl": [
           {
            "colorbar": {
             "outlinewidth": 0,
             "ticks": ""
            },
            "colorscale": [
             [
              0,
              "#0d0887"
             ],
             [
              0.1111111111111111,
              "#46039f"
             ],
             [
              0.2222222222222222,
              "#7201a8"
             ],
             [
              0.3333333333333333,
              "#9c179e"
             ],
             [
              0.4444444444444444,
              "#bd3786"
             ],
             [
              0.5555555555555556,
              "#d8576b"
             ],
             [
              0.6666666666666666,
              "#ed7953"
             ],
             [
              0.7777777777777778,
              "#fb9f3a"
             ],
             [
              0.8888888888888888,
              "#fdca26"
             ],
             [
              1,
              "#f0f921"
             ]
            ],
            "type": "heatmapgl"
           }
          ],
          "histogram": [
           {
            "marker": {
             "colorbar": {
              "outlinewidth": 0,
              "ticks": ""
             }
            },
            "type": "histogram"
           }
          ],
          "histogram2d": [
           {
            "colorbar": {
             "outlinewidth": 0,
             "ticks": ""
            },
            "colorscale": [
             [
              0,
              "#0d0887"
             ],
             [
              0.1111111111111111,
              "#46039f"
             ],
             [
              0.2222222222222222,
              "#7201a8"
             ],
             [
              0.3333333333333333,
              "#9c179e"
             ],
             [
              0.4444444444444444,
              "#bd3786"
             ],
             [
              0.5555555555555556,
              "#d8576b"
             ],
             [
              0.6666666666666666,
              "#ed7953"
             ],
             [
              0.7777777777777778,
              "#fb9f3a"
             ],
             [
              0.8888888888888888,
              "#fdca26"
             ],
             [
              1,
              "#f0f921"
             ]
            ],
            "type": "histogram2d"
           }
          ],
          "histogram2dcontour": [
           {
            "colorbar": {
             "outlinewidth": 0,
             "ticks": ""
            },
            "colorscale": [
             [
              0,
              "#0d0887"
             ],
             [
              0.1111111111111111,
              "#46039f"
             ],
             [
              0.2222222222222222,
              "#7201a8"
             ],
             [
              0.3333333333333333,
              "#9c179e"
             ],
             [
              0.4444444444444444,
              "#bd3786"
             ],
             [
              0.5555555555555556,
              "#d8576b"
             ],
             [
              0.6666666666666666,
              "#ed7953"
             ],
             [
              0.7777777777777778,
              "#fb9f3a"
             ],
             [
              0.8888888888888888,
              "#fdca26"
             ],
             [
              1,
              "#f0f921"
             ]
            ],
            "type": "histogram2dcontour"
           }
          ],
          "mesh3d": [
           {
            "colorbar": {
             "outlinewidth": 0,
             "ticks": ""
            },
            "type": "mesh3d"
           }
          ],
          "parcoords": [
           {
            "line": {
             "colorbar": {
              "outlinewidth": 0,
              "ticks": ""
             }
            },
            "type": "parcoords"
           }
          ],
          "pie": [
           {
            "automargin": true,
            "type": "pie"
           }
          ],
          "scatter": [
           {
            "marker": {
             "colorbar": {
              "outlinewidth": 0,
              "ticks": ""
             }
            },
            "type": "scatter"
           }
          ],
          "scatter3d": [
           {
            "line": {
             "colorbar": {
              "outlinewidth": 0,
              "ticks": ""
             }
            },
            "marker": {
             "colorbar": {
              "outlinewidth": 0,
              "ticks": ""
             }
            },
            "type": "scatter3d"
           }
          ],
          "scattercarpet": [
           {
            "marker": {
             "colorbar": {
              "outlinewidth": 0,
              "ticks": ""
             }
            },
            "type": "scattercarpet"
           }
          ],
          "scattergeo": [
           {
            "marker": {
             "colorbar": {
              "outlinewidth": 0,
              "ticks": ""
             }
            },
            "type": "scattergeo"
           }
          ],
          "scattergl": [
           {
            "marker": {
             "colorbar": {
              "outlinewidth": 0,
              "ticks": ""
             }
            },
            "type": "scattergl"
           }
          ],
          "scattermapbox": [
           {
            "marker": {
             "colorbar": {
              "outlinewidth": 0,
              "ticks": ""
             }
            },
            "type": "scattermapbox"
           }
          ],
          "scatterpolar": [
           {
            "marker": {
             "colorbar": {
              "outlinewidth": 0,
              "ticks": ""
             }
            },
            "type": "scatterpolar"
           }
          ],
          "scatterpolargl": [
           {
            "marker": {
             "colorbar": {
              "outlinewidth": 0,
              "ticks": ""
             }
            },
            "type": "scatterpolargl"
           }
          ],
          "scatterternary": [
           {
            "marker": {
             "colorbar": {
              "outlinewidth": 0,
              "ticks": ""
             }
            },
            "type": "scatterternary"
           }
          ],
          "surface": [
           {
            "colorbar": {
             "outlinewidth": 0,
             "ticks": ""
            },
            "colorscale": [
             [
              0,
              "#0d0887"
             ],
             [
              0.1111111111111111,
              "#46039f"
             ],
             [
              0.2222222222222222,
              "#7201a8"
             ],
             [
              0.3333333333333333,
              "#9c179e"
             ],
             [
              0.4444444444444444,
              "#bd3786"
             ],
             [
              0.5555555555555556,
              "#d8576b"
             ],
             [
              0.6666666666666666,
              "#ed7953"
             ],
             [
              0.7777777777777778,
              "#fb9f3a"
             ],
             [
              0.8888888888888888,
              "#fdca26"
             ],
             [
              1,
              "#f0f921"
             ]
            ],
            "type": "surface"
           }
          ],
          "table": [
           {
            "cells": {
             "fill": {
              "color": "#EBF0F8"
             },
             "line": {
              "color": "white"
             }
            },
            "header": {
             "fill": {
              "color": "#C8D4E3"
             },
             "line": {
              "color": "white"
             }
            },
            "type": "table"
           }
          ]
         },
         "layout": {
          "annotationdefaults": {
           "arrowcolor": "#2a3f5f",
           "arrowhead": 0,
           "arrowwidth": 1
          },
          "coloraxis": {
           "colorbar": {
            "outlinewidth": 0,
            "ticks": ""
           }
          },
          "colorscale": {
           "diverging": [
            [
             0,
             "#8e0152"
            ],
            [
             0.1,
             "#c51b7d"
            ],
            [
             0.2,
             "#de77ae"
            ],
            [
             0.3,
             "#f1b6da"
            ],
            [
             0.4,
             "#fde0ef"
            ],
            [
             0.5,
             "#f7f7f7"
            ],
            [
             0.6,
             "#e6f5d0"
            ],
            [
             0.7,
             "#b8e186"
            ],
            [
             0.8,
             "#7fbc41"
            ],
            [
             0.9,
             "#4d9221"
            ],
            [
             1,
             "#276419"
            ]
           ],
           "sequential": [
            [
             0,
             "#0d0887"
            ],
            [
             0.1111111111111111,
             "#46039f"
            ],
            [
             0.2222222222222222,
             "#7201a8"
            ],
            [
             0.3333333333333333,
             "#9c179e"
            ],
            [
             0.4444444444444444,
             "#bd3786"
            ],
            [
             0.5555555555555556,
             "#d8576b"
            ],
            [
             0.6666666666666666,
             "#ed7953"
            ],
            [
             0.7777777777777778,
             "#fb9f3a"
            ],
            [
             0.8888888888888888,
             "#fdca26"
            ],
            [
             1,
             "#f0f921"
            ]
           ],
           "sequentialminus": [
            [
             0,
             "#0d0887"
            ],
            [
             0.1111111111111111,
             "#46039f"
            ],
            [
             0.2222222222222222,
             "#7201a8"
            ],
            [
             0.3333333333333333,
             "#9c179e"
            ],
            [
             0.4444444444444444,
             "#bd3786"
            ],
            [
             0.5555555555555556,
             "#d8576b"
            ],
            [
             0.6666666666666666,
             "#ed7953"
            ],
            [
             0.7777777777777778,
             "#fb9f3a"
            ],
            [
             0.8888888888888888,
             "#fdca26"
            ],
            [
             1,
             "#f0f921"
            ]
           ]
          },
          "colorway": [
           "#636efa",
           "#EF553B",
           "#00cc96",
           "#ab63fa",
           "#FFA15A",
           "#19d3f3",
           "#FF6692",
           "#B6E880",
           "#FF97FF",
           "#FECB52"
          ],
          "font": {
           "color": "#2a3f5f"
          },
          "geo": {
           "bgcolor": "white",
           "lakecolor": "white",
           "landcolor": "#E5ECF6",
           "showlakes": true,
           "showland": true,
           "subunitcolor": "white"
          },
          "hoverlabel": {
           "align": "left"
          },
          "hovermode": "closest",
          "mapbox": {
           "style": "light"
          },
          "paper_bgcolor": "white",
          "plot_bgcolor": "#E5ECF6",
          "polar": {
           "angularaxis": {
            "gridcolor": "white",
            "linecolor": "white",
            "ticks": ""
           },
           "bgcolor": "#E5ECF6",
           "radialaxis": {
            "gridcolor": "white",
            "linecolor": "white",
            "ticks": ""
           }
          },
          "scene": {
           "xaxis": {
            "backgroundcolor": "#E5ECF6",
            "gridcolor": "white",
            "gridwidth": 2,
            "linecolor": "white",
            "showbackground": true,
            "ticks": "",
            "zerolinecolor": "white"
           },
           "yaxis": {
            "backgroundcolor": "#E5ECF6",
            "gridcolor": "white",
            "gridwidth": 2,
            "linecolor": "white",
            "showbackground": true,
            "ticks": "",
            "zerolinecolor": "white"
           },
           "zaxis": {
            "backgroundcolor": "#E5ECF6",
            "gridcolor": "white",
            "gridwidth": 2,
            "linecolor": "white",
            "showbackground": true,
            "ticks": "",
            "zerolinecolor": "white"
           }
          },
          "shapedefaults": {
           "line": {
            "color": "#2a3f5f"
           }
          },
          "ternary": {
           "aaxis": {
            "gridcolor": "white",
            "linecolor": "white",
            "ticks": ""
           },
           "baxis": {
            "gridcolor": "white",
            "linecolor": "white",
            "ticks": ""
           },
           "bgcolor": "#E5ECF6",
           "caxis": {
            "gridcolor": "white",
            "linecolor": "white",
            "ticks": ""
           }
          },
          "title": {
           "x": 0.05
          },
          "xaxis": {
           "automargin": true,
           "gridcolor": "white",
           "linecolor": "white",
           "ticks": "",
           "title": {
            "standoff": 15
           },
           "zerolinecolor": "white",
           "zerolinewidth": 2
          },
          "yaxis": {
           "automargin": true,
           "gridcolor": "white",
           "linecolor": "white",
           "ticks": "",
           "title": {
            "standoff": 15
           },
           "zerolinecolor": "white",
           "zerolinewidth": 2
          }
         }
        },
        "title": {
         "text": "BoxPlot dos Números de Focos de Calor"
        },
        "width": 1000
       }
      },
      "text/html": [
       "<div>                            <div id=\"84e71803-d0d1-41e9-b988-22af26eb65f1\" class=\"plotly-graph-div\" style=\"height:600px; width:1000px;\"></div>            <script type=\"text/javascript\">                require([\"plotly\"], function(Plotly) {                    window.PLOTLYENV=window.PLOTLYENV || {};                                    if (document.getElementById(\"84e71803-d0d1-41e9-b988-22af26eb65f1\")) {                    Plotly.newPlot(                        \"84e71803-d0d1-41e9-b988-22af26eb65f1\",                        [{\"name\": \"Mato Grosso\", \"type\": \"box\", \"y\": [0, 39, 44, 44, 172, 896, 301, 438, 947, 476, 245, 527, 298, 171, 166, 269, 315, 960, 374, 482, 0, 28, 35, 54, 22, 592, 272, 871, 383, 213, 180, 248, 431, 119, 193, 375, 199, 542, 1050, 337, 0, 18, 60, 24, 103, 554, 743, 362, 448, 476, 180, 325, 605, 252, 423, 563, 655, 705, 1085, 719, 0, 76, 59, 309, 641, 903, 441, 372, 161, 79, 274, 169, 769, 345, 521, 338, 859, 947, 1770, 606, 0, 731, 1194, 1193, 2528, 942, 2413, 1641, 269, 359, 119, 516, 1313, 547, 812, 739, 933, 541, 1081, 845, 2201, 2201, 4358, 6665, 7878, 4313, 9813, 2294, 856, 1339, 403, 979, 1025, 974, 1651, 1213, 1795, 1402, 1417, 2041, 3712, 3926, 1338, 1555, 5661, 5435, 11517, 4172, 1941, 1790, 1117, 1613, 3442, 1061, 2008, 1630, 2255, 1533, 3495, 2790, 15406, 18566, 6063, 7762, 14086, 11132, 13603, 11570, 6218, 14453, 2875, 2250, 14608, 2628, 6195, 3568, 7167, 5112, 6228, 6229, 10363, 11729, 6251, 8490, 11034, 15790, 24994, 20551, 12661, 25963, 7965, 3129, 18366, 6332, 10344, 5576, 7081, 11068, 8980, 23945, 2707, 6109, 6062, 6543, 9375, 5341, 9295, 7765, 2327, 4890, 6326, 2579, 4465, 2010, 2837, 1986, 5281, 6490, 2749, 4800, 182, 842, 502, 373, 2905, 2097, 2405, 1368, 1031, 299, 190, 588, 768, 1103, 375, 1064, 1018, 1930, 918, 813, 76, 47, 98, 37, 1157, 1622, 1217, 246, 23, 81, 159, 171, 846, 431, 492, 447, 466, 1777, 425]}, {\"name\": \"Par\\u00e1\", \"type\": \"box\", \"y\": [0, 87, 30, 34, 144, 900, 579, 1768, 403, 467, 131, 241, 437, 108, 392, 167, 251, 725, 1322, 219, 0, 285, 29, 16, 120, 34, 20, 85, 49, 23, 54, 15, 102, 13, 63, 30, 37, 108, 430, 14, 0, 7, 181, 0, 14, 27, 22, 21, 10, 6, 4, 4, 110, 21, 30, 19, 34, 61, 81, 42, 0, 6, 40, 0, 11, 14, 23, 14, 2, 0, 7, 8, 22, 10, 11, 20, 27, 27, 66, 45, 0, 4, 12, 7, 18, 3, 44, 37, 0, 9, 0, 7, 57, 16, 59, 42, 70, 95, 154, 114, 58, 37, 59, 42, 149, 64, 340, 304, 78, 129, 48, 38, 94, 105, 183, 173, 319, 265, 502, 679, 638, 982, 426, 708, 772, 1571, 4436, 4364, 615, 476, 971, 397, 1432, 632, 661, 447, 825, 906, 1579, 4985, 6815, 6178, 5484, 9043, 15664, 6255, 12812, 13055, 7575, 14352, 4435, 3859, 18130, 2195, 6964, 2161, 8555, 7913, 4863, 11962, 6237, 4419, 2569, 6139, 5609, 8447, 9471, 9032, 8372, 14590, 6294, 6051, 10810, 5185, 6870, 3360, 6787, 11068, 3953, 25004, 3665, 5026, 4313, 5096, 5189, 3803, 4726, 5083, 5964, 2504, 6653, 6342, 3843, 3141, 3714, 4921, 6448, 7781, 5281, 7628, 1861, 2682, 3366, 4938, 7996, 6195, 9842, 4968, 2883, 2890, 2403, 10012, 4417, 3043, 6156, 3688, 7767, 9643, 7879, 9079, 1008, 766, 1698, 2564, 3118, 4787, 5508, 1495, 1417, 689, 684, 2832, 1612, 3218, 1812, 5514, 4828, 6610, 3300]}, {\"name\": \"Maranh\\u00e3o\", \"type\": \"box\", \"y\": [0, 54, 19, 29, 48, 436, 241, 450, 221, 428, 121, 240, 319, 124, 326, 209, 195, 494, 412, 187, 0, 6, 11, 1, 116, 11, 22, 56, 22, 13, 45, 20, 93, 9, 46, 62, 29, 95, 318, 47, 0, 17, 6, 0, 16, 16, 18, 9, 14, 52, 4, 33, 82, 22, 49, 30, 59, 53, 113, 32, 0, 4, 6, 2, 28, 79, 44, 43, 9, 5, 26, 14, 128, 37, 97, 62, 78, 119, 113, 91, 0, 3, 28, 21, 71, 60, 145, 74, 5, 73, 26, 19, 273, 73, 286, 100, 148, 194, 206, 142, 78, 32, 94, 100, 230, 338, 706, 529, 131, 515, 235, 279, 494, 602, 915, 498, 812, 887, 709, 885, 274, 258, 233, 549, 1271, 1103, 1366, 1152, 512, 1205, 502, 972, 2323, 1024, 3548, 1111, 2068, 1642, 2096, 2521, 1176, 895, 839, 2037, 3481, 2023, 1889, 2239, 1382, 8409, 713, 1766, 6353, 2138, 10395, 2098, 5592, 5428, 3723, 3875, 3935, 1739, 1365, 4618, 3181, 5878, 4673, 6292, 2907, 8524, 2761, 2404, 9795, 4632, 7626, 3880, 4373, 6423, 3166, 14825, 5137, 3208, 2654, 6661, 5182, 6085, 3604, 6472, 3024, 4772, 3498, 1861, 3228, 2404, 5000, 2918, 5812, 6746, 5351, 6011, 2237, 1494, 2267, 3525, 5830, 4929, 6398, 4769, 2004, 2297, 2331, 5000, 4005, 2261, 2010, 2529, 3869, 4350, 3982, 2300, 1399, 1001, 1461, 1296, 2165, 2424, 3255, 1660, 1052, 800, 1101, 1768, 1803, 1629, 1296, 2692, 2400, 3706, 1577]}],                        {\"height\": 600, \"template\": {\"data\": {\"bar\": [{\"error_x\": {\"color\": \"#2a3f5f\"}, \"error_y\": {\"color\": \"#2a3f5f\"}, \"marker\": {\"line\": {\"color\": \"#E5ECF6\", \"width\": 0.5}}, \"type\": \"bar\"}], \"barpolar\": [{\"marker\": {\"line\": {\"color\": \"#E5ECF6\", \"width\": 0.5}}, \"type\": \"barpolar\"}], \"carpet\": [{\"aaxis\": {\"endlinecolor\": \"#2a3f5f\", \"gridcolor\": \"white\", \"linecolor\": \"white\", \"minorgridcolor\": \"white\", \"startlinecolor\": \"#2a3f5f\"}, \"baxis\": {\"endlinecolor\": \"#2a3f5f\", \"gridcolor\": \"white\", \"linecolor\": \"white\", \"minorgridcolor\": \"white\", \"startlinecolor\": \"#2a3f5f\"}, \"type\": \"carpet\"}], \"choropleth\": [{\"colorbar\": {\"outlinewidth\": 0, \"ticks\": \"\"}, \"type\": \"choropleth\"}], \"contour\": [{\"colorbar\": {\"outlinewidth\": 0, \"ticks\": \"\"}, \"colorscale\": [[0.0, \"#0d0887\"], [0.1111111111111111, \"#46039f\"], [0.2222222222222222, \"#7201a8\"], [0.3333333333333333, \"#9c179e\"], [0.4444444444444444, \"#bd3786\"], [0.5555555555555556, \"#d8576b\"], [0.6666666666666666, \"#ed7953\"], [0.7777777777777778, \"#fb9f3a\"], [0.8888888888888888, \"#fdca26\"], [1.0, \"#f0f921\"]], \"type\": \"contour\"}], \"contourcarpet\": [{\"colorbar\": {\"outlinewidth\": 0, \"ticks\": \"\"}, \"type\": \"contourcarpet\"}], \"heatmap\": [{\"colorbar\": {\"outlinewidth\": 0, \"ticks\": \"\"}, \"colorscale\": [[0.0, \"#0d0887\"], [0.1111111111111111, \"#46039f\"], [0.2222222222222222, \"#7201a8\"], [0.3333333333333333, \"#9c179e\"], [0.4444444444444444, \"#bd3786\"], [0.5555555555555556, \"#d8576b\"], [0.6666666666666666, \"#ed7953\"], [0.7777777777777778, \"#fb9f3a\"], [0.8888888888888888, \"#fdca26\"], [1.0, \"#f0f921\"]], \"type\": \"heatmap\"}], \"heatmapgl\": [{\"colorbar\": {\"outlinewidth\": 0, \"ticks\": \"\"}, \"colorscale\": [[0.0, \"#0d0887\"], [0.1111111111111111, \"#46039f\"], [0.2222222222222222, \"#7201a8\"], [0.3333333333333333, \"#9c179e\"], [0.4444444444444444, \"#bd3786\"], [0.5555555555555556, \"#d8576b\"], [0.6666666666666666, \"#ed7953\"], [0.7777777777777778, \"#fb9f3a\"], [0.8888888888888888, \"#fdca26\"], [1.0, \"#f0f921\"]], \"type\": \"heatmapgl\"}], \"histogram\": [{\"marker\": {\"colorbar\": {\"outlinewidth\": 0, \"ticks\": \"\"}}, \"type\": \"histogram\"}], \"histogram2d\": [{\"colorbar\": {\"outlinewidth\": 0, \"ticks\": \"\"}, \"colorscale\": [[0.0, \"#0d0887\"], [0.1111111111111111, \"#46039f\"], [0.2222222222222222, \"#7201a8\"], [0.3333333333333333, \"#9c179e\"], [0.4444444444444444, \"#bd3786\"], [0.5555555555555556, \"#d8576b\"], [0.6666666666666666, \"#ed7953\"], [0.7777777777777778, \"#fb9f3a\"], [0.8888888888888888, \"#fdca26\"], [1.0, \"#f0f921\"]], \"type\": \"histogram2d\"}], \"histogram2dcontour\": [{\"colorbar\": {\"outlinewidth\": 0, \"ticks\": \"\"}, \"colorscale\": [[0.0, \"#0d0887\"], [0.1111111111111111, \"#46039f\"], [0.2222222222222222, \"#7201a8\"], [0.3333333333333333, \"#9c179e\"], [0.4444444444444444, \"#bd3786\"], [0.5555555555555556, \"#d8576b\"], [0.6666666666666666, \"#ed7953\"], [0.7777777777777778, \"#fb9f3a\"], [0.8888888888888888, \"#fdca26\"], [1.0, \"#f0f921\"]], \"type\": \"histogram2dcontour\"}], \"mesh3d\": [{\"colorbar\": {\"outlinewidth\": 0, \"ticks\": \"\"}, \"type\": \"mesh3d\"}], \"parcoords\": [{\"line\": {\"colorbar\": {\"outlinewidth\": 0, \"ticks\": \"\"}}, \"type\": \"parcoords\"}], \"pie\": [{\"automargin\": true, \"type\": \"pie\"}], \"scatter\": [{\"marker\": {\"colorbar\": {\"outlinewidth\": 0, \"ticks\": \"\"}}, \"type\": \"scatter\"}], \"scatter3d\": [{\"line\": {\"colorbar\": {\"outlinewidth\": 0, \"ticks\": \"\"}}, \"marker\": {\"colorbar\": {\"outlinewidth\": 0, \"ticks\": \"\"}}, \"type\": \"scatter3d\"}], \"scattercarpet\": [{\"marker\": {\"colorbar\": {\"outlinewidth\": 0, \"ticks\": \"\"}}, \"type\": \"scattercarpet\"}], \"scattergeo\": [{\"marker\": {\"colorbar\": {\"outlinewidth\": 0, \"ticks\": \"\"}}, \"type\": \"scattergeo\"}], \"scattergl\": [{\"marker\": {\"colorbar\": {\"outlinewidth\": 0, \"ticks\": \"\"}}, \"type\": \"scattergl\"}], \"scattermapbox\": [{\"marker\": {\"colorbar\": {\"outlinewidth\": 0, \"ticks\": \"\"}}, \"type\": \"scattermapbox\"}], \"scatterpolar\": [{\"marker\": {\"colorbar\": {\"outlinewidth\": 0, \"ticks\": \"\"}}, \"type\": \"scatterpolar\"}], \"scatterpolargl\": [{\"marker\": {\"colorbar\": {\"outlinewidth\": 0, \"ticks\": \"\"}}, \"type\": \"scatterpolargl\"}], \"scatterternary\": [{\"marker\": {\"colorbar\": {\"outlinewidth\": 0, \"ticks\": \"\"}}, \"type\": \"scatterternary\"}], \"surface\": [{\"colorbar\": {\"outlinewidth\": 0, \"ticks\": \"\"}, \"colorscale\": [[0.0, \"#0d0887\"], [0.1111111111111111, \"#46039f\"], [0.2222222222222222, \"#7201a8\"], [0.3333333333333333, \"#9c179e\"], [0.4444444444444444, \"#bd3786\"], [0.5555555555555556, \"#d8576b\"], [0.6666666666666666, \"#ed7953\"], [0.7777777777777778, \"#fb9f3a\"], [0.8888888888888888, \"#fdca26\"], [1.0, \"#f0f921\"]], \"type\": \"surface\"}], \"table\": [{\"cells\": {\"fill\": {\"color\": \"#EBF0F8\"}, \"line\": {\"color\": \"white\"}}, \"header\": {\"fill\": {\"color\": \"#C8D4E3\"}, \"line\": {\"color\": \"white\"}}, \"type\": \"table\"}]}, \"layout\": {\"annotationdefaults\": {\"arrowcolor\": \"#2a3f5f\", \"arrowhead\": 0, \"arrowwidth\": 1}, \"coloraxis\": {\"colorbar\": {\"outlinewidth\": 0, \"ticks\": \"\"}}, \"colorscale\": {\"diverging\": [[0, \"#8e0152\"], [0.1, \"#c51b7d\"], [0.2, \"#de77ae\"], [0.3, \"#f1b6da\"], [0.4, \"#fde0ef\"], [0.5, \"#f7f7f7\"], [0.6, \"#e6f5d0\"], [0.7, \"#b8e186\"], [0.8, \"#7fbc41\"], [0.9, \"#4d9221\"], [1, \"#276419\"]], \"sequential\": [[0.0, \"#0d0887\"], [0.1111111111111111, \"#46039f\"], [0.2222222222222222, \"#7201a8\"], [0.3333333333333333, \"#9c179e\"], [0.4444444444444444, \"#bd3786\"], [0.5555555555555556, \"#d8576b\"], [0.6666666666666666, \"#ed7953\"], [0.7777777777777778, \"#fb9f3a\"], [0.8888888888888888, \"#fdca26\"], [1.0, \"#f0f921\"]], \"sequentialminus\": [[0.0, \"#0d0887\"], [0.1111111111111111, \"#46039f\"], [0.2222222222222222, \"#7201a8\"], [0.3333333333333333, \"#9c179e\"], [0.4444444444444444, \"#bd3786\"], [0.5555555555555556, \"#d8576b\"], [0.6666666666666666, \"#ed7953\"], [0.7777777777777778, \"#fb9f3a\"], [0.8888888888888888, \"#fdca26\"], [1.0, \"#f0f921\"]]}, \"colorway\": [\"#636efa\", \"#EF553B\", \"#00cc96\", \"#ab63fa\", \"#FFA15A\", \"#19d3f3\", \"#FF6692\", \"#B6E880\", \"#FF97FF\", \"#FECB52\"], \"font\": {\"color\": \"#2a3f5f\"}, \"geo\": {\"bgcolor\": \"white\", \"lakecolor\": \"white\", \"landcolor\": \"#E5ECF6\", \"showlakes\": true, \"showland\": true, \"subunitcolor\": \"white\"}, \"hoverlabel\": {\"align\": \"left\"}, \"hovermode\": \"closest\", \"mapbox\": {\"style\": \"light\"}, \"paper_bgcolor\": \"white\", \"plot_bgcolor\": \"#E5ECF6\", \"polar\": {\"angularaxis\": {\"gridcolor\": \"white\", \"linecolor\": \"white\", \"ticks\": \"\"}, \"bgcolor\": \"#E5ECF6\", \"radialaxis\": {\"gridcolor\": \"white\", \"linecolor\": \"white\", \"ticks\": \"\"}}, \"scene\": {\"xaxis\": {\"backgroundcolor\": \"#E5ECF6\", \"gridcolor\": \"white\", \"gridwidth\": 2, \"linecolor\": \"white\", \"showbackground\": true, \"ticks\": \"\", \"zerolinecolor\": \"white\"}, \"yaxis\": {\"backgroundcolor\": \"#E5ECF6\", \"gridcolor\": \"white\", \"gridwidth\": 2, \"linecolor\": \"white\", \"showbackground\": true, \"ticks\": \"\", \"zerolinecolor\": \"white\"}, \"zaxis\": {\"backgroundcolor\": \"#E5ECF6\", \"gridcolor\": \"white\", \"gridwidth\": 2, \"linecolor\": \"white\", \"showbackground\": true, \"ticks\": \"\", \"zerolinecolor\": \"white\"}}, \"shapedefaults\": {\"line\": {\"color\": \"#2a3f5f\"}}, \"ternary\": {\"aaxis\": {\"gridcolor\": \"white\", \"linecolor\": \"white\", \"ticks\": \"\"}, \"baxis\": {\"gridcolor\": \"white\", \"linecolor\": \"white\", \"ticks\": \"\"}, \"bgcolor\": \"#E5ECF6\", \"caxis\": {\"gridcolor\": \"white\", \"linecolor\": \"white\", \"ticks\": \"\"}}, \"title\": {\"x\": 0.05}, \"xaxis\": {\"automargin\": true, \"gridcolor\": \"white\", \"linecolor\": \"white\", \"ticks\": \"\", \"title\": {\"standoff\": 15}, \"zerolinecolor\": \"white\", \"zerolinewidth\": 2}, \"yaxis\": {\"automargin\": true, \"gridcolor\": \"white\", \"linecolor\": \"white\", \"ticks\": \"\", \"title\": {\"standoff\": 15}, \"zerolinecolor\": \"white\", \"zerolinewidth\": 2}}}, \"title\": {\"text\": \"BoxPlot dos N\\u00fameros de Focos de Calor\"}, \"width\": 1000},                        {\"responsive\": true}                    ).then(function(){\n",
       "                            \n",
       "var gd = document.getElementById('84e71803-d0d1-41e9-b988-22af26eb65f1');\n",
       "var x = new MutationObserver(function (mutations, observer) {{\n",
       "        var display = window.getComputedStyle(gd).display;\n",
       "        if (!display || display === 'none') {{\n",
       "            console.log([gd, 'removed!']);\n",
       "            Plotly.purge(gd);\n",
       "            observer.disconnect();\n",
       "        }}\n",
       "}});\n",
       "\n",
       "// Listen for the removal of the full notebook cells\n",
       "var notebookContainer = gd.closest('#notebook-container');\n",
       "if (notebookContainer) {{\n",
       "    x.observe(notebookContainer, {childList: true});\n",
       "}}\n",
       "\n",
       "// Listen for the clearing of the current output cell\n",
       "var outputEl = gd.closest('.output');\n",
       "if (outputEl) {{\n",
       "    x.observe(outputEl, {childList: true});\n",
       "}}\n",
       "\n",
       "                        })                };                });            </script>        </div>"
      ]
     },
     "metadata": {},
     "output_type": "display_data"
    }
   ],
   "source": [
    "plot_box_plot(base)"
   ]
  },
  {
   "cell_type": "code",
   "execution_count": 128,
   "metadata": {},
   "outputs": [
    {
     "data": {
      "application/vnd.plotly.v1+json": {
       "config": {
        "linkText": "Export to plot.ly",
        "plotlyServerURL": "https://plot.ly",
        "showLink": false
       },
       "data": [
        {
         "mode": "markers+lines+text",
         "name": "Focos de Calor",
         "text": [
          34647,
          44312,
          26064,
          33049,
          55562,
          49617,
          77014,
          51650,
          27265,
          50418,
          20033,
          13094,
          46936,
          15973,
          26017,
          17768,
          28024,
          33007,
          29572,
          43607
         ],
         "textposition": "top center",
         "type": "scatter",
         "x": [
          "1998-01-01T00:00:00",
          "1999-01-01T00:00:00",
          "2000-01-01T00:00:00",
          "2001-01-01T00:00:00",
          "2002-01-01T00:00:00",
          "2003-01-01T00:00:00",
          "2004-01-01T00:00:00",
          "2005-01-01T00:00:00",
          "2006-01-01T00:00:00",
          "2007-01-01T00:00:00",
          "2008-01-01T00:00:00",
          "2009-01-01T00:00:00",
          "2010-01-01T00:00:00",
          "2011-01-01T00:00:00",
          "2012-01-01T00:00:00",
          "2013-01-01T00:00:00",
          "2014-01-01T00:00:00",
          "2015-01-01T00:00:00",
          "2016-01-01T00:00:00",
          "2017-01-01T00:00:00"
         ],
         "y": [
          34647,
          44312,
          26064,
          33049,
          55562,
          49617,
          77014,
          51650,
          27265,
          50418,
          20033,
          13094,
          46936,
          15973,
          26017,
          17768,
          28024,
          33007,
          29572,
          43607
         ]
        },
        {
         "mode": "markers+lines",
         "name": "Média Móvel do Triênio",
         "type": "scatter",
         "x": [
          "1998-01-01T00:00:00",
          "1999-01-01T00:00:00",
          "2000-01-01T00:00:00",
          "2001-01-01T00:00:00",
          "2002-01-01T00:00:00",
          "2003-01-01T00:00:00",
          "2004-01-01T00:00:00",
          "2005-01-01T00:00:00",
          "2006-01-01T00:00:00",
          "2007-01-01T00:00:00",
          "2008-01-01T00:00:00",
          "2009-01-01T00:00:00",
          "2010-01-01T00:00:00",
          "2011-01-01T00:00:00",
          "2012-01-01T00:00:00",
          "2013-01-01T00:00:00",
          "2014-01-01T00:00:00",
          "2015-01-01T00:00:00",
          "2016-01-01T00:00:00",
          "2017-01-01T00:00:00"
         ],
         "y": [
          null,
          null,
          35007.666666666664,
          34475,
          38225,
          46076,
          60731,
          59427,
          51976.333333333336,
          43111,
          32572,
          27848.333333333332,
          26687.666666666668,
          25334.333333333332,
          29642,
          19919.333333333332,
          23936.333333333332,
          26266.333333333332,
          30201,
          35395.333333333336
         ]
        }
       ],
       "layout": {
        "height": 450,
        "legend": {
         "bgcolor": "rgba(255, 255, 255, 0)",
         "x": 0.01,
         "xanchor": "left",
         "y": 0.95,
         "yanchor": "top"
        },
        "template": {
         "data": {
          "bar": [
           {
            "error_x": {
             "color": "#2a3f5f"
            },
            "error_y": {
             "color": "#2a3f5f"
            },
            "marker": {
             "line": {
              "color": "#E5ECF6",
              "width": 0.5
             }
            },
            "type": "bar"
           }
          ],
          "barpolar": [
           {
            "marker": {
             "line": {
              "color": "#E5ECF6",
              "width": 0.5
             }
            },
            "type": "barpolar"
           }
          ],
          "carpet": [
           {
            "aaxis": {
             "endlinecolor": "#2a3f5f",
             "gridcolor": "white",
             "linecolor": "white",
             "minorgridcolor": "white",
             "startlinecolor": "#2a3f5f"
            },
            "baxis": {
             "endlinecolor": "#2a3f5f",
             "gridcolor": "white",
             "linecolor": "white",
             "minorgridcolor": "white",
             "startlinecolor": "#2a3f5f"
            },
            "type": "carpet"
           }
          ],
          "choropleth": [
           {
            "colorbar": {
             "outlinewidth": 0,
             "ticks": ""
            },
            "type": "choropleth"
           }
          ],
          "contour": [
           {
            "colorbar": {
             "outlinewidth": 0,
             "ticks": ""
            },
            "colorscale": [
             [
              0,
              "#0d0887"
             ],
             [
              0.1111111111111111,
              "#46039f"
             ],
             [
              0.2222222222222222,
              "#7201a8"
             ],
             [
              0.3333333333333333,
              "#9c179e"
             ],
             [
              0.4444444444444444,
              "#bd3786"
             ],
             [
              0.5555555555555556,
              "#d8576b"
             ],
             [
              0.6666666666666666,
              "#ed7953"
             ],
             [
              0.7777777777777778,
              "#fb9f3a"
             ],
             [
              0.8888888888888888,
              "#fdca26"
             ],
             [
              1,
              "#f0f921"
             ]
            ],
            "type": "contour"
           }
          ],
          "contourcarpet": [
           {
            "colorbar": {
             "outlinewidth": 0,
             "ticks": ""
            },
            "type": "contourcarpet"
           }
          ],
          "heatmap": [
           {
            "colorbar": {
             "outlinewidth": 0,
             "ticks": ""
            },
            "colorscale": [
             [
              0,
              "#0d0887"
             ],
             [
              0.1111111111111111,
              "#46039f"
             ],
             [
              0.2222222222222222,
              "#7201a8"
             ],
             [
              0.3333333333333333,
              "#9c179e"
             ],
             [
              0.4444444444444444,
              "#bd3786"
             ],
             [
              0.5555555555555556,
              "#d8576b"
             ],
             [
              0.6666666666666666,
              "#ed7953"
             ],
             [
              0.7777777777777778,
              "#fb9f3a"
             ],
             [
              0.8888888888888888,
              "#fdca26"
             ],
             [
              1,
              "#f0f921"
             ]
            ],
            "type": "heatmap"
           }
          ],
          "heatmapgl": [
           {
            "colorbar": {
             "outlinewidth": 0,
             "ticks": ""
            },
            "colorscale": [
             [
              0,
              "#0d0887"
             ],
             [
              0.1111111111111111,
              "#46039f"
             ],
             [
              0.2222222222222222,
              "#7201a8"
             ],
             [
              0.3333333333333333,
              "#9c179e"
             ],
             [
              0.4444444444444444,
              "#bd3786"
             ],
             [
              0.5555555555555556,
              "#d8576b"
             ],
             [
              0.6666666666666666,
              "#ed7953"
             ],
             [
              0.7777777777777778,
              "#fb9f3a"
             ],
             [
              0.8888888888888888,
              "#fdca26"
             ],
             [
              1,
              "#f0f921"
             ]
            ],
            "type": "heatmapgl"
           }
          ],
          "histogram": [
           {
            "marker": {
             "colorbar": {
              "outlinewidth": 0,
              "ticks": ""
             }
            },
            "type": "histogram"
           }
          ],
          "histogram2d": [
           {
            "colorbar": {
             "outlinewidth": 0,
             "ticks": ""
            },
            "colorscale": [
             [
              0,
              "#0d0887"
             ],
             [
              0.1111111111111111,
              "#46039f"
             ],
             [
              0.2222222222222222,
              "#7201a8"
             ],
             [
              0.3333333333333333,
              "#9c179e"
             ],
             [
              0.4444444444444444,
              "#bd3786"
             ],
             [
              0.5555555555555556,
              "#d8576b"
             ],
             [
              0.6666666666666666,
              "#ed7953"
             ],
             [
              0.7777777777777778,
              "#fb9f3a"
             ],
             [
              0.8888888888888888,
              "#fdca26"
             ],
             [
              1,
              "#f0f921"
             ]
            ],
            "type": "histogram2d"
           }
          ],
          "histogram2dcontour": [
           {
            "colorbar": {
             "outlinewidth": 0,
             "ticks": ""
            },
            "colorscale": [
             [
              0,
              "#0d0887"
             ],
             [
              0.1111111111111111,
              "#46039f"
             ],
             [
              0.2222222222222222,
              "#7201a8"
             ],
             [
              0.3333333333333333,
              "#9c179e"
             ],
             [
              0.4444444444444444,
              "#bd3786"
             ],
             [
              0.5555555555555556,
              "#d8576b"
             ],
             [
              0.6666666666666666,
              "#ed7953"
             ],
             [
              0.7777777777777778,
              "#fb9f3a"
             ],
             [
              0.8888888888888888,
              "#fdca26"
             ],
             [
              1,
              "#f0f921"
             ]
            ],
            "type": "histogram2dcontour"
           }
          ],
          "mesh3d": [
           {
            "colorbar": {
             "outlinewidth": 0,
             "ticks": ""
            },
            "type": "mesh3d"
           }
          ],
          "parcoords": [
           {
            "line": {
             "colorbar": {
              "outlinewidth": 0,
              "ticks": ""
             }
            },
            "type": "parcoords"
           }
          ],
          "pie": [
           {
            "automargin": true,
            "type": "pie"
           }
          ],
          "scatter": [
           {
            "marker": {
             "colorbar": {
              "outlinewidth": 0,
              "ticks": ""
             }
            },
            "type": "scatter"
           }
          ],
          "scatter3d": [
           {
            "line": {
             "colorbar": {
              "outlinewidth": 0,
              "ticks": ""
             }
            },
            "marker": {
             "colorbar": {
              "outlinewidth": 0,
              "ticks": ""
             }
            },
            "type": "scatter3d"
           }
          ],
          "scattercarpet": [
           {
            "marker": {
             "colorbar": {
              "outlinewidth": 0,
              "ticks": ""
             }
            },
            "type": "scattercarpet"
           }
          ],
          "scattergeo": [
           {
            "marker": {
             "colorbar": {
              "outlinewidth": 0,
              "ticks": ""
             }
            },
            "type": "scattergeo"
           }
          ],
          "scattergl": [
           {
            "marker": {
             "colorbar": {
              "outlinewidth": 0,
              "ticks": ""
             }
            },
            "type": "scattergl"
           }
          ],
          "scattermapbox": [
           {
            "marker": {
             "colorbar": {
              "outlinewidth": 0,
              "ticks": ""
             }
            },
            "type": "scattermapbox"
           }
          ],
          "scatterpolar": [
           {
            "marker": {
             "colorbar": {
              "outlinewidth": 0,
              "ticks": ""
             }
            },
            "type": "scatterpolar"
           }
          ],
          "scatterpolargl": [
           {
            "marker": {
             "colorbar": {
              "outlinewidth": 0,
              "ticks": ""
             }
            },
            "type": "scatterpolargl"
           }
          ],
          "scatterternary": [
           {
            "marker": {
             "colorbar": {
              "outlinewidth": 0,
              "ticks": ""
             }
            },
            "type": "scatterternary"
           }
          ],
          "surface": [
           {
            "colorbar": {
             "outlinewidth": 0,
             "ticks": ""
            },
            "colorscale": [
             [
              0,
              "#0d0887"
             ],
             [
              0.1111111111111111,
              "#46039f"
             ],
             [
              0.2222222222222222,
              "#7201a8"
             ],
             [
              0.3333333333333333,
              "#9c179e"
             ],
             [
              0.4444444444444444,
              "#bd3786"
             ],
             [
              0.5555555555555556,
              "#d8576b"
             ],
             [
              0.6666666666666666,
              "#ed7953"
             ],
             [
              0.7777777777777778,
              "#fb9f3a"
             ],
             [
              0.8888888888888888,
              "#fdca26"
             ],
             [
              1,
              "#f0f921"
             ]
            ],
            "type": "surface"
           }
          ],
          "table": [
           {
            "cells": {
             "fill": {
              "color": "#EBF0F8"
             },
             "line": {
              "color": "white"
             }
            },
            "header": {
             "fill": {
              "color": "#C8D4E3"
             },
             "line": {
              "color": "white"
             }
            },
            "type": "table"
           }
          ]
         },
         "layout": {
          "annotationdefaults": {
           "arrowcolor": "#2a3f5f",
           "arrowhead": 0,
           "arrowwidth": 1
          },
          "coloraxis": {
           "colorbar": {
            "outlinewidth": 0,
            "ticks": ""
           }
          },
          "colorscale": {
           "diverging": [
            [
             0,
             "#8e0152"
            ],
            [
             0.1,
             "#c51b7d"
            ],
            [
             0.2,
             "#de77ae"
            ],
            [
             0.3,
             "#f1b6da"
            ],
            [
             0.4,
             "#fde0ef"
            ],
            [
             0.5,
             "#f7f7f7"
            ],
            [
             0.6,
             "#e6f5d0"
            ],
            [
             0.7,
             "#b8e186"
            ],
            [
             0.8,
             "#7fbc41"
            ],
            [
             0.9,
             "#4d9221"
            ],
            [
             1,
             "#276419"
            ]
           ],
           "sequential": [
            [
             0,
             "#0d0887"
            ],
            [
             0.1111111111111111,
             "#46039f"
            ],
            [
             0.2222222222222222,
             "#7201a8"
            ],
            [
             0.3333333333333333,
             "#9c179e"
            ],
            [
             0.4444444444444444,
             "#bd3786"
            ],
            [
             0.5555555555555556,
             "#d8576b"
            ],
            [
             0.6666666666666666,
             "#ed7953"
            ],
            [
             0.7777777777777778,
             "#fb9f3a"
            ],
            [
             0.8888888888888888,
             "#fdca26"
            ],
            [
             1,
             "#f0f921"
            ]
           ],
           "sequentialminus": [
            [
             0,
             "#0d0887"
            ],
            [
             0.1111111111111111,
             "#46039f"
            ],
            [
             0.2222222222222222,
             "#7201a8"
            ],
            [
             0.3333333333333333,
             "#9c179e"
            ],
            [
             0.4444444444444444,
             "#bd3786"
            ],
            [
             0.5555555555555556,
             "#d8576b"
            ],
            [
             0.6666666666666666,
             "#ed7953"
            ],
            [
             0.7777777777777778,
             "#fb9f3a"
            ],
            [
             0.8888888888888888,
             "#fdca26"
            ],
            [
             1,
             "#f0f921"
            ]
           ]
          },
          "colorway": [
           "#636efa",
           "#EF553B",
           "#00cc96",
           "#ab63fa",
           "#FFA15A",
           "#19d3f3",
           "#FF6692",
           "#B6E880",
           "#FF97FF",
           "#FECB52"
          ],
          "font": {
           "color": "#2a3f5f"
          },
          "geo": {
           "bgcolor": "white",
           "lakecolor": "white",
           "landcolor": "#E5ECF6",
           "showlakes": true,
           "showland": true,
           "subunitcolor": "white"
          },
          "hoverlabel": {
           "align": "left"
          },
          "hovermode": "closest",
          "mapbox": {
           "style": "light"
          },
          "paper_bgcolor": "white",
          "plot_bgcolor": "#E5ECF6",
          "polar": {
           "angularaxis": {
            "gridcolor": "white",
            "linecolor": "white",
            "ticks": ""
           },
           "bgcolor": "#E5ECF6",
           "radialaxis": {
            "gridcolor": "white",
            "linecolor": "white",
            "ticks": ""
           }
          },
          "scene": {
           "xaxis": {
            "backgroundcolor": "#E5ECF6",
            "gridcolor": "white",
            "gridwidth": 2,
            "linecolor": "white",
            "showbackground": true,
            "ticks": "",
            "zerolinecolor": "white"
           },
           "yaxis": {
            "backgroundcolor": "#E5ECF6",
            "gridcolor": "white",
            "gridwidth": 2,
            "linecolor": "white",
            "showbackground": true,
            "ticks": "",
            "zerolinecolor": "white"
           },
           "zaxis": {
            "backgroundcolor": "#E5ECF6",
            "gridcolor": "white",
            "gridwidth": 2,
            "linecolor": "white",
            "showbackground": true,
            "ticks": "",
            "zerolinecolor": "white"
           }
          },
          "shapedefaults": {
           "line": {
            "color": "#2a3f5f"
           }
          },
          "ternary": {
           "aaxis": {
            "gridcolor": "white",
            "linecolor": "white",
            "ticks": ""
           },
           "baxis": {
            "gridcolor": "white",
            "linecolor": "white",
            "ticks": ""
           },
           "bgcolor": "#E5ECF6",
           "caxis": {
            "gridcolor": "white",
            "linecolor": "white",
            "ticks": ""
           }
          },
          "title": {
           "x": 0.05
          },
          "xaxis": {
           "automargin": true,
           "gridcolor": "white",
           "linecolor": "white",
           "ticks": "",
           "title": {
            "standoff": 15
           },
           "zerolinecolor": "white",
           "zerolinewidth": 2
          },
          "yaxis": {
           "automargin": true,
           "gridcolor": "white",
           "linecolor": "white",
           "ticks": "",
           "title": {
            "standoff": 15
           },
           "zerolinecolor": "white",
           "zerolinewidth": 2
          }
         }
        },
        "title": {
         "text": "Série Temporal dos Focos de Calor - Mato Grosso"
        },
        "width": 1200,
        "xaxis": {
         "title": {
          "text": "Ano"
         }
        },
        "yaxis": {
         "title": {
          "text": "Número de Focos de Calor"
         }
        }
       }
      },
      "text/html": [
       "<div>                            <div id=\"15aa23b2-0a34-449e-aad1-7f48865c6acd\" class=\"plotly-graph-div\" style=\"height:450px; width:1200px;\"></div>            <script type=\"text/javascript\">                require([\"plotly\"], function(Plotly) {                    window.PLOTLYENV=window.PLOTLYENV || {};                                    if (document.getElementById(\"15aa23b2-0a34-449e-aad1-7f48865c6acd\")) {                    Plotly.newPlot(                        \"15aa23b2-0a34-449e-aad1-7f48865c6acd\",                        [{\"mode\": \"markers+lines+text\", \"name\": \"Focos de Calor\", \"text\": [34647.0, 44312.0, 26064.0, 33049.0, 55562.0, 49617.0, 77014.0, 51650.0, 27265.0, 50418.0, 20033.0, 13094.0, 46936.0, 15973.0, 26017.0, 17768.0, 28024.0, 33007.0, 29572.0, 43607.0], \"textposition\": \"top center\", \"type\": \"scatter\", \"x\": [\"1998-01-01T00:00:00\", \"1999-01-01T00:00:00\", \"2000-01-01T00:00:00\", \"2001-01-01T00:00:00\", \"2002-01-01T00:00:00\", \"2003-01-01T00:00:00\", \"2004-01-01T00:00:00\", \"2005-01-01T00:00:00\", \"2006-01-01T00:00:00\", \"2007-01-01T00:00:00\", \"2008-01-01T00:00:00\", \"2009-01-01T00:00:00\", \"2010-01-01T00:00:00\", \"2011-01-01T00:00:00\", \"2012-01-01T00:00:00\", \"2013-01-01T00:00:00\", \"2014-01-01T00:00:00\", \"2015-01-01T00:00:00\", \"2016-01-01T00:00:00\", \"2017-01-01T00:00:00\"], \"y\": [34647, 44312, 26064, 33049, 55562, 49617, 77014, 51650, 27265, 50418, 20033, 13094, 46936, 15973, 26017, 17768, 28024, 33007, 29572, 43607]}, {\"mode\": \"markers+lines\", \"name\": \"M\\u00e9dia M\\u00f3vel do Tri\\u00eanio\", \"type\": \"scatter\", \"x\": [\"1998-01-01T00:00:00\", \"1999-01-01T00:00:00\", \"2000-01-01T00:00:00\", \"2001-01-01T00:00:00\", \"2002-01-01T00:00:00\", \"2003-01-01T00:00:00\", \"2004-01-01T00:00:00\", \"2005-01-01T00:00:00\", \"2006-01-01T00:00:00\", \"2007-01-01T00:00:00\", \"2008-01-01T00:00:00\", \"2009-01-01T00:00:00\", \"2010-01-01T00:00:00\", \"2011-01-01T00:00:00\", \"2012-01-01T00:00:00\", \"2013-01-01T00:00:00\", \"2014-01-01T00:00:00\", \"2015-01-01T00:00:00\", \"2016-01-01T00:00:00\", \"2017-01-01T00:00:00\"], \"y\": [null, null, 35007.666666666664, 34475.0, 38225.0, 46076.0, 60731.0, 59427.0, 51976.333333333336, 43111.0, 32572.0, 27848.333333333332, 26687.666666666668, 25334.333333333332, 29642.0, 19919.333333333332, 23936.333333333332, 26266.333333333332, 30201.0, 35395.333333333336]}],                        {\"height\": 450, \"legend\": {\"bgcolor\": \"rgba(255, 255, 255, 0)\", \"x\": 0.01, \"xanchor\": \"left\", \"y\": 0.95, \"yanchor\": \"top\"}, \"template\": {\"data\": {\"bar\": [{\"error_x\": {\"color\": \"#2a3f5f\"}, \"error_y\": {\"color\": \"#2a3f5f\"}, \"marker\": {\"line\": {\"color\": \"#E5ECF6\", \"width\": 0.5}}, \"type\": \"bar\"}], \"barpolar\": [{\"marker\": {\"line\": {\"color\": \"#E5ECF6\", \"width\": 0.5}}, \"type\": \"barpolar\"}], \"carpet\": [{\"aaxis\": {\"endlinecolor\": \"#2a3f5f\", \"gridcolor\": \"white\", \"linecolor\": \"white\", \"minorgridcolor\": \"white\", \"startlinecolor\": \"#2a3f5f\"}, \"baxis\": {\"endlinecolor\": \"#2a3f5f\", \"gridcolor\": \"white\", \"linecolor\": \"white\", \"minorgridcolor\": \"white\", \"startlinecolor\": \"#2a3f5f\"}, \"type\": \"carpet\"}], \"choropleth\": [{\"colorbar\": {\"outlinewidth\": 0, \"ticks\": \"\"}, \"type\": \"choropleth\"}], \"contour\": [{\"colorbar\": {\"outlinewidth\": 0, \"ticks\": \"\"}, \"colorscale\": [[0.0, \"#0d0887\"], [0.1111111111111111, \"#46039f\"], [0.2222222222222222, \"#7201a8\"], [0.3333333333333333, \"#9c179e\"], [0.4444444444444444, \"#bd3786\"], [0.5555555555555556, \"#d8576b\"], [0.6666666666666666, \"#ed7953\"], [0.7777777777777778, \"#fb9f3a\"], [0.8888888888888888, \"#fdca26\"], [1.0, \"#f0f921\"]], \"type\": \"contour\"}], \"contourcarpet\": [{\"colorbar\": {\"outlinewidth\": 0, \"ticks\": \"\"}, \"type\": \"contourcarpet\"}], \"heatmap\": [{\"colorbar\": {\"outlinewidth\": 0, \"ticks\": \"\"}, \"colorscale\": [[0.0, \"#0d0887\"], [0.1111111111111111, \"#46039f\"], [0.2222222222222222, \"#7201a8\"], [0.3333333333333333, \"#9c179e\"], [0.4444444444444444, \"#bd3786\"], [0.5555555555555556, \"#d8576b\"], [0.6666666666666666, \"#ed7953\"], [0.7777777777777778, \"#fb9f3a\"], [0.8888888888888888, \"#fdca26\"], [1.0, \"#f0f921\"]], \"type\": \"heatmap\"}], \"heatmapgl\": [{\"colorbar\": {\"outlinewidth\": 0, \"ticks\": \"\"}, \"colorscale\": [[0.0, \"#0d0887\"], [0.1111111111111111, \"#46039f\"], [0.2222222222222222, \"#7201a8\"], [0.3333333333333333, \"#9c179e\"], [0.4444444444444444, \"#bd3786\"], [0.5555555555555556, \"#d8576b\"], [0.6666666666666666, \"#ed7953\"], [0.7777777777777778, \"#fb9f3a\"], [0.8888888888888888, \"#fdca26\"], [1.0, \"#f0f921\"]], \"type\": \"heatmapgl\"}], \"histogram\": [{\"marker\": {\"colorbar\": {\"outlinewidth\": 0, \"ticks\": \"\"}}, \"type\": \"histogram\"}], \"histogram2d\": [{\"colorbar\": {\"outlinewidth\": 0, \"ticks\": \"\"}, \"colorscale\": [[0.0, \"#0d0887\"], [0.1111111111111111, \"#46039f\"], [0.2222222222222222, \"#7201a8\"], [0.3333333333333333, \"#9c179e\"], [0.4444444444444444, \"#bd3786\"], [0.5555555555555556, \"#d8576b\"], [0.6666666666666666, \"#ed7953\"], [0.7777777777777778, \"#fb9f3a\"], [0.8888888888888888, \"#fdca26\"], [1.0, \"#f0f921\"]], \"type\": \"histogram2d\"}], \"histogram2dcontour\": [{\"colorbar\": {\"outlinewidth\": 0, \"ticks\": \"\"}, \"colorscale\": [[0.0, \"#0d0887\"], [0.1111111111111111, \"#46039f\"], [0.2222222222222222, \"#7201a8\"], [0.3333333333333333, \"#9c179e\"], [0.4444444444444444, \"#bd3786\"], [0.5555555555555556, \"#d8576b\"], [0.6666666666666666, \"#ed7953\"], [0.7777777777777778, \"#fb9f3a\"], [0.8888888888888888, \"#fdca26\"], [1.0, \"#f0f921\"]], \"type\": \"histogram2dcontour\"}], \"mesh3d\": [{\"colorbar\": {\"outlinewidth\": 0, \"ticks\": \"\"}, \"type\": \"mesh3d\"}], \"parcoords\": [{\"line\": {\"colorbar\": {\"outlinewidth\": 0, \"ticks\": \"\"}}, \"type\": \"parcoords\"}], \"pie\": [{\"automargin\": true, \"type\": \"pie\"}], \"scatter\": [{\"marker\": {\"colorbar\": {\"outlinewidth\": 0, \"ticks\": \"\"}}, \"type\": \"scatter\"}], \"scatter3d\": [{\"line\": {\"colorbar\": {\"outlinewidth\": 0, \"ticks\": \"\"}}, \"marker\": {\"colorbar\": {\"outlinewidth\": 0, \"ticks\": \"\"}}, \"type\": \"scatter3d\"}], \"scattercarpet\": [{\"marker\": {\"colorbar\": {\"outlinewidth\": 0, \"ticks\": \"\"}}, \"type\": \"scattercarpet\"}], \"scattergeo\": [{\"marker\": {\"colorbar\": {\"outlinewidth\": 0, \"ticks\": \"\"}}, \"type\": \"scattergeo\"}], \"scattergl\": [{\"marker\": {\"colorbar\": {\"outlinewidth\": 0, \"ticks\": \"\"}}, \"type\": \"scattergl\"}], \"scattermapbox\": [{\"marker\": {\"colorbar\": {\"outlinewidth\": 0, \"ticks\": \"\"}}, \"type\": \"scattermapbox\"}], \"scatterpolar\": [{\"marker\": {\"colorbar\": {\"outlinewidth\": 0, \"ticks\": \"\"}}, \"type\": \"scatterpolar\"}], \"scatterpolargl\": [{\"marker\": {\"colorbar\": {\"outlinewidth\": 0, \"ticks\": \"\"}}, \"type\": \"scatterpolargl\"}], \"scatterternary\": [{\"marker\": {\"colorbar\": {\"outlinewidth\": 0, \"ticks\": \"\"}}, \"type\": \"scatterternary\"}], \"surface\": [{\"colorbar\": {\"outlinewidth\": 0, \"ticks\": \"\"}, \"colorscale\": [[0.0, \"#0d0887\"], [0.1111111111111111, \"#46039f\"], [0.2222222222222222, \"#7201a8\"], [0.3333333333333333, \"#9c179e\"], [0.4444444444444444, \"#bd3786\"], [0.5555555555555556, \"#d8576b\"], [0.6666666666666666, \"#ed7953\"], [0.7777777777777778, \"#fb9f3a\"], [0.8888888888888888, \"#fdca26\"], [1.0, \"#f0f921\"]], \"type\": \"surface\"}], \"table\": [{\"cells\": {\"fill\": {\"color\": \"#EBF0F8\"}, \"line\": {\"color\": \"white\"}}, \"header\": {\"fill\": {\"color\": \"#C8D4E3\"}, \"line\": {\"color\": \"white\"}}, \"type\": \"table\"}]}, \"layout\": {\"annotationdefaults\": {\"arrowcolor\": \"#2a3f5f\", \"arrowhead\": 0, \"arrowwidth\": 1}, \"coloraxis\": {\"colorbar\": {\"outlinewidth\": 0, \"ticks\": \"\"}}, \"colorscale\": {\"diverging\": [[0, \"#8e0152\"], [0.1, \"#c51b7d\"], [0.2, \"#de77ae\"], [0.3, \"#f1b6da\"], [0.4, \"#fde0ef\"], [0.5, \"#f7f7f7\"], [0.6, \"#e6f5d0\"], [0.7, \"#b8e186\"], [0.8, \"#7fbc41\"], [0.9, \"#4d9221\"], [1, \"#276419\"]], \"sequential\": [[0.0, \"#0d0887\"], [0.1111111111111111, \"#46039f\"], [0.2222222222222222, \"#7201a8\"], [0.3333333333333333, \"#9c179e\"], [0.4444444444444444, \"#bd3786\"], [0.5555555555555556, \"#d8576b\"], [0.6666666666666666, \"#ed7953\"], [0.7777777777777778, \"#fb9f3a\"], [0.8888888888888888, \"#fdca26\"], [1.0, \"#f0f921\"]], \"sequentialminus\": [[0.0, \"#0d0887\"], [0.1111111111111111, \"#46039f\"], [0.2222222222222222, \"#7201a8\"], [0.3333333333333333, \"#9c179e\"], [0.4444444444444444, \"#bd3786\"], [0.5555555555555556, \"#d8576b\"], [0.6666666666666666, \"#ed7953\"], [0.7777777777777778, \"#fb9f3a\"], [0.8888888888888888, \"#fdca26\"], [1.0, \"#f0f921\"]]}, \"colorway\": [\"#636efa\", \"#EF553B\", \"#00cc96\", \"#ab63fa\", \"#FFA15A\", \"#19d3f3\", \"#FF6692\", \"#B6E880\", \"#FF97FF\", \"#FECB52\"], \"font\": {\"color\": \"#2a3f5f\"}, \"geo\": {\"bgcolor\": \"white\", \"lakecolor\": \"white\", \"landcolor\": \"#E5ECF6\", \"showlakes\": true, \"showland\": true, \"subunitcolor\": \"white\"}, \"hoverlabel\": {\"align\": \"left\"}, \"hovermode\": \"closest\", \"mapbox\": {\"style\": \"light\"}, \"paper_bgcolor\": \"white\", \"plot_bgcolor\": \"#E5ECF6\", \"polar\": {\"angularaxis\": {\"gridcolor\": \"white\", \"linecolor\": \"white\", \"ticks\": \"\"}, \"bgcolor\": \"#E5ECF6\", \"radialaxis\": {\"gridcolor\": \"white\", \"linecolor\": \"white\", \"ticks\": \"\"}}, \"scene\": {\"xaxis\": {\"backgroundcolor\": \"#E5ECF6\", \"gridcolor\": \"white\", \"gridwidth\": 2, \"linecolor\": \"white\", \"showbackground\": true, \"ticks\": \"\", \"zerolinecolor\": \"white\"}, \"yaxis\": {\"backgroundcolor\": \"#E5ECF6\", \"gridcolor\": \"white\", \"gridwidth\": 2, \"linecolor\": \"white\", \"showbackground\": true, \"ticks\": \"\", \"zerolinecolor\": \"white\"}, \"zaxis\": {\"backgroundcolor\": \"#E5ECF6\", \"gridcolor\": \"white\", \"gridwidth\": 2, \"linecolor\": \"white\", \"showbackground\": true, \"ticks\": \"\", \"zerolinecolor\": \"white\"}}, \"shapedefaults\": {\"line\": {\"color\": \"#2a3f5f\"}}, \"ternary\": {\"aaxis\": {\"gridcolor\": \"white\", \"linecolor\": \"white\", \"ticks\": \"\"}, \"baxis\": {\"gridcolor\": \"white\", \"linecolor\": \"white\", \"ticks\": \"\"}, \"bgcolor\": \"#E5ECF6\", \"caxis\": {\"gridcolor\": \"white\", \"linecolor\": \"white\", \"ticks\": \"\"}}, \"title\": {\"x\": 0.05}, \"xaxis\": {\"automargin\": true, \"gridcolor\": \"white\", \"linecolor\": \"white\", \"ticks\": \"\", \"title\": {\"standoff\": 15}, \"zerolinecolor\": \"white\", \"zerolinewidth\": 2}, \"yaxis\": {\"automargin\": true, \"gridcolor\": \"white\", \"linecolor\": \"white\", \"ticks\": \"\", \"title\": {\"standoff\": 15}, \"zerolinecolor\": \"white\", \"zerolinewidth\": 2}}}, \"title\": {\"text\": \"S\\u00e9rie Temporal dos Focos de Calor - Mato Grosso\"}, \"width\": 1200, \"xaxis\": {\"title\": {\"text\": \"Ano\"}}, \"yaxis\": {\"title\": {\"text\": \"N\\u00famero de Focos de Calor\"}}},                        {\"responsive\": true}                    ).then(function(){\n",
       "                            \n",
       "var gd = document.getElementById('15aa23b2-0a34-449e-aad1-7f48865c6acd');\n",
       "var x = new MutationObserver(function (mutations, observer) {{\n",
       "        var display = window.getComputedStyle(gd).display;\n",
       "        if (!display || display === 'none') {{\n",
       "            console.log([gd, 'removed!']);\n",
       "            Plotly.purge(gd);\n",
       "            observer.disconnect();\n",
       "        }}\n",
       "}});\n",
       "\n",
       "// Listen for the removal of the full notebook cells\n",
       "var notebookContainer = gd.closest('#notebook-container');\n",
       "if (notebookContainer) {{\n",
       "    x.observe(notebookContainer, {childList: true});\n",
       "}}\n",
       "\n",
       "// Listen for the clearing of the current output cell\n",
       "var outputEl = gd.closest('.output');\n",
       "if (outputEl) {{\n",
       "    x.observe(outputEl, {childList: true});\n",
       "}}\n",
       "\n",
       "                        })                };                });            </script>        </div>"
      ]
     },
     "metadata": {},
     "output_type": "display_data"
    }
   ],
   "source": [
    "# Série Temporal dos Focos de Calor - Mato Grosso\n",
    "base_temp = base.loc[base['state'] == 'Mato Grosso']\n",
    "plot_forest_fires_timeline(base_temp, 'Série Temporal dos Focos de Calor - Mato Grosso')"
   ]
  },
  {
   "cell_type": "code",
   "execution_count": 129,
   "metadata": {},
   "outputs": [
    {
     "data": {
      "application/vnd.plotly.v1+json": {
       "config": {
        "linkText": "Export to plot.ly",
        "plotlyServerURL": "https://plot.ly",
        "showLink": false
       },
       "data": [
        {
         "mode": "markers+lines+text",
         "name": "Focos de Calor",
         "text": [
          20282,
          20479,
          18207,
          28587,
          38804,
          32100,
          47823,
          40226,
          27368,
          36135,
          21684,
          29806,
          41066,
          17687,
          26915,
          20542,
          35948,
          45202,
          29410,
          59771
         ],
         "textposition": "top center",
         "type": "scatter",
         "x": [
          "1998-01-01T00:00:00",
          "1999-01-01T00:00:00",
          "2000-01-01T00:00:00",
          "2001-01-01T00:00:00",
          "2002-01-01T00:00:00",
          "2003-01-01T00:00:00",
          "2004-01-01T00:00:00",
          "2005-01-01T00:00:00",
          "2006-01-01T00:00:00",
          "2007-01-01T00:00:00",
          "2008-01-01T00:00:00",
          "2009-01-01T00:00:00",
          "2010-01-01T00:00:00",
          "2011-01-01T00:00:00",
          "2012-01-01T00:00:00",
          "2013-01-01T00:00:00",
          "2014-01-01T00:00:00",
          "2015-01-01T00:00:00",
          "2016-01-01T00:00:00",
          "2017-01-01T00:00:00"
         ],
         "y": [
          20282,
          20479,
          18207,
          28587,
          38804,
          32100,
          47823,
          40226,
          27368,
          36135,
          21684,
          29806,
          41066,
          17687,
          26915,
          20542,
          35948,
          45202,
          29410,
          59771
         ]
        },
        {
         "mode": "markers+lines",
         "name": "Média Móvel do Triênio",
         "type": "scatter",
         "x": [
          "1998-01-01T00:00:00",
          "1999-01-01T00:00:00",
          "2000-01-01T00:00:00",
          "2001-01-01T00:00:00",
          "2002-01-01T00:00:00",
          "2003-01-01T00:00:00",
          "2004-01-01T00:00:00",
          "2005-01-01T00:00:00",
          "2006-01-01T00:00:00",
          "2007-01-01T00:00:00",
          "2008-01-01T00:00:00",
          "2009-01-01T00:00:00",
          "2010-01-01T00:00:00",
          "2011-01-01T00:00:00",
          "2012-01-01T00:00:00",
          "2013-01-01T00:00:00",
          "2014-01-01T00:00:00",
          "2015-01-01T00:00:00",
          "2016-01-01T00:00:00",
          "2017-01-01T00:00:00"
         ],
         "y": [
          null,
          null,
          19656,
          22424.333333333332,
          28532.666666666668,
          33163.666666666664,
          39575.666666666664,
          40049.666666666664,
          38472.333333333336,
          34576.333333333336,
          28395.666666666668,
          29208.333333333332,
          30852,
          29519.666666666668,
          28556,
          21714.666666666668,
          27801.666666666668,
          33897.333333333336,
          36853.333333333336,
          44794.333333333336
         ]
        }
       ],
       "layout": {
        "height": 450,
        "legend": {
         "bgcolor": "rgba(255, 255, 255, 0)",
         "x": 0.01,
         "xanchor": "left",
         "y": 0.95,
         "yanchor": "top"
        },
        "template": {
         "data": {
          "bar": [
           {
            "error_x": {
             "color": "#2a3f5f"
            },
            "error_y": {
             "color": "#2a3f5f"
            },
            "marker": {
             "line": {
              "color": "#E5ECF6",
              "width": 0.5
             }
            },
            "type": "bar"
           }
          ],
          "barpolar": [
           {
            "marker": {
             "line": {
              "color": "#E5ECF6",
              "width": 0.5
             }
            },
            "type": "barpolar"
           }
          ],
          "carpet": [
           {
            "aaxis": {
             "endlinecolor": "#2a3f5f",
             "gridcolor": "white",
             "linecolor": "white",
             "minorgridcolor": "white",
             "startlinecolor": "#2a3f5f"
            },
            "baxis": {
             "endlinecolor": "#2a3f5f",
             "gridcolor": "white",
             "linecolor": "white",
             "minorgridcolor": "white",
             "startlinecolor": "#2a3f5f"
            },
            "type": "carpet"
           }
          ],
          "choropleth": [
           {
            "colorbar": {
             "outlinewidth": 0,
             "ticks": ""
            },
            "type": "choropleth"
           }
          ],
          "contour": [
           {
            "colorbar": {
             "outlinewidth": 0,
             "ticks": ""
            },
            "colorscale": [
             [
              0,
              "#0d0887"
             ],
             [
              0.1111111111111111,
              "#46039f"
             ],
             [
              0.2222222222222222,
              "#7201a8"
             ],
             [
              0.3333333333333333,
              "#9c179e"
             ],
             [
              0.4444444444444444,
              "#bd3786"
             ],
             [
              0.5555555555555556,
              "#d8576b"
             ],
             [
              0.6666666666666666,
              "#ed7953"
             ],
             [
              0.7777777777777778,
              "#fb9f3a"
             ],
             [
              0.8888888888888888,
              "#fdca26"
             ],
             [
              1,
              "#f0f921"
             ]
            ],
            "type": "contour"
           }
          ],
          "contourcarpet": [
           {
            "colorbar": {
             "outlinewidth": 0,
             "ticks": ""
            },
            "type": "contourcarpet"
           }
          ],
          "heatmap": [
           {
            "colorbar": {
             "outlinewidth": 0,
             "ticks": ""
            },
            "colorscale": [
             [
              0,
              "#0d0887"
             ],
             [
              0.1111111111111111,
              "#46039f"
             ],
             [
              0.2222222222222222,
              "#7201a8"
             ],
             [
              0.3333333333333333,
              "#9c179e"
             ],
             [
              0.4444444444444444,
              "#bd3786"
             ],
             [
              0.5555555555555556,
              "#d8576b"
             ],
             [
              0.6666666666666666,
              "#ed7953"
             ],
             [
              0.7777777777777778,
              "#fb9f3a"
             ],
             [
              0.8888888888888888,
              "#fdca26"
             ],
             [
              1,
              "#f0f921"
             ]
            ],
            "type": "heatmap"
           }
          ],
          "heatmapgl": [
           {
            "colorbar": {
             "outlinewidth": 0,
             "ticks": ""
            },
            "colorscale": [
             [
              0,
              "#0d0887"
             ],
             [
              0.1111111111111111,
              "#46039f"
             ],
             [
              0.2222222222222222,
              "#7201a8"
             ],
             [
              0.3333333333333333,
              "#9c179e"
             ],
             [
              0.4444444444444444,
              "#bd3786"
             ],
             [
              0.5555555555555556,
              "#d8576b"
             ],
             [
              0.6666666666666666,
              "#ed7953"
             ],
             [
              0.7777777777777778,
              "#fb9f3a"
             ],
             [
              0.8888888888888888,
              "#fdca26"
             ],
             [
              1,
              "#f0f921"
             ]
            ],
            "type": "heatmapgl"
           }
          ],
          "histogram": [
           {
            "marker": {
             "colorbar": {
              "outlinewidth": 0,
              "ticks": ""
             }
            },
            "type": "histogram"
           }
          ],
          "histogram2d": [
           {
            "colorbar": {
             "outlinewidth": 0,
             "ticks": ""
            },
            "colorscale": [
             [
              0,
              "#0d0887"
             ],
             [
              0.1111111111111111,
              "#46039f"
             ],
             [
              0.2222222222222222,
              "#7201a8"
             ],
             [
              0.3333333333333333,
              "#9c179e"
             ],
             [
              0.4444444444444444,
              "#bd3786"
             ],
             [
              0.5555555555555556,
              "#d8576b"
             ],
             [
              0.6666666666666666,
              "#ed7953"
             ],
             [
              0.7777777777777778,
              "#fb9f3a"
             ],
             [
              0.8888888888888888,
              "#fdca26"
             ],
             [
              1,
              "#f0f921"
             ]
            ],
            "type": "histogram2d"
           }
          ],
          "histogram2dcontour": [
           {
            "colorbar": {
             "outlinewidth": 0,
             "ticks": ""
            },
            "colorscale": [
             [
              0,
              "#0d0887"
             ],
             [
              0.1111111111111111,
              "#46039f"
             ],
             [
              0.2222222222222222,
              "#7201a8"
             ],
             [
              0.3333333333333333,
              "#9c179e"
             ],
             [
              0.4444444444444444,
              "#bd3786"
             ],
             [
              0.5555555555555556,
              "#d8576b"
             ],
             [
              0.6666666666666666,
              "#ed7953"
             ],
             [
              0.7777777777777778,
              "#fb9f3a"
             ],
             [
              0.8888888888888888,
              "#fdca26"
             ],
             [
              1,
              "#f0f921"
             ]
            ],
            "type": "histogram2dcontour"
           }
          ],
          "mesh3d": [
           {
            "colorbar": {
             "outlinewidth": 0,
             "ticks": ""
            },
            "type": "mesh3d"
           }
          ],
          "parcoords": [
           {
            "line": {
             "colorbar": {
              "outlinewidth": 0,
              "ticks": ""
             }
            },
            "type": "parcoords"
           }
          ],
          "pie": [
           {
            "automargin": true,
            "type": "pie"
           }
          ],
          "scatter": [
           {
            "marker": {
             "colorbar": {
              "outlinewidth": 0,
              "ticks": ""
             }
            },
            "type": "scatter"
           }
          ],
          "scatter3d": [
           {
            "line": {
             "colorbar": {
              "outlinewidth": 0,
              "ticks": ""
             }
            },
            "marker": {
             "colorbar": {
              "outlinewidth": 0,
              "ticks": ""
             }
            },
            "type": "scatter3d"
           }
          ],
          "scattercarpet": [
           {
            "marker": {
             "colorbar": {
              "outlinewidth": 0,
              "ticks": ""
             }
            },
            "type": "scattercarpet"
           }
          ],
          "scattergeo": [
           {
            "marker": {
             "colorbar": {
              "outlinewidth": 0,
              "ticks": ""
             }
            },
            "type": "scattergeo"
           }
          ],
          "scattergl": [
           {
            "marker": {
             "colorbar": {
              "outlinewidth": 0,
              "ticks": ""
             }
            },
            "type": "scattergl"
           }
          ],
          "scattermapbox": [
           {
            "marker": {
             "colorbar": {
              "outlinewidth": 0,
              "ticks": ""
             }
            },
            "type": "scattermapbox"
           }
          ],
          "scatterpolar": [
           {
            "marker": {
             "colorbar": {
              "outlinewidth": 0,
              "ticks": ""
             }
            },
            "type": "scatterpolar"
           }
          ],
          "scatterpolargl": [
           {
            "marker": {
             "colorbar": {
              "outlinewidth": 0,
              "ticks": ""
             }
            },
            "type": "scatterpolargl"
           }
          ],
          "scatterternary": [
           {
            "marker": {
             "colorbar": {
              "outlinewidth": 0,
              "ticks": ""
             }
            },
            "type": "scatterternary"
           }
          ],
          "surface": [
           {
            "colorbar": {
             "outlinewidth": 0,
             "ticks": ""
            },
            "colorscale": [
             [
              0,
              "#0d0887"
             ],
             [
              0.1111111111111111,
              "#46039f"
             ],
             [
              0.2222222222222222,
              "#7201a8"
             ],
             [
              0.3333333333333333,
              "#9c179e"
             ],
             [
              0.4444444444444444,
              "#bd3786"
             ],
             [
              0.5555555555555556,
              "#d8576b"
             ],
             [
              0.6666666666666666,
              "#ed7953"
             ],
             [
              0.7777777777777778,
              "#fb9f3a"
             ],
             [
              0.8888888888888888,
              "#fdca26"
             ],
             [
              1,
              "#f0f921"
             ]
            ],
            "type": "surface"
           }
          ],
          "table": [
           {
            "cells": {
             "fill": {
              "color": "#EBF0F8"
             },
             "line": {
              "color": "white"
             }
            },
            "header": {
             "fill": {
              "color": "#C8D4E3"
             },
             "line": {
              "color": "white"
             }
            },
            "type": "table"
           }
          ]
         },
         "layout": {
          "annotationdefaults": {
           "arrowcolor": "#2a3f5f",
           "arrowhead": 0,
           "arrowwidth": 1
          },
          "coloraxis": {
           "colorbar": {
            "outlinewidth": 0,
            "ticks": ""
           }
          },
          "colorscale": {
           "diverging": [
            [
             0,
             "#8e0152"
            ],
            [
             0.1,
             "#c51b7d"
            ],
            [
             0.2,
             "#de77ae"
            ],
            [
             0.3,
             "#f1b6da"
            ],
            [
             0.4,
             "#fde0ef"
            ],
            [
             0.5,
             "#f7f7f7"
            ],
            [
             0.6,
             "#e6f5d0"
            ],
            [
             0.7,
             "#b8e186"
            ],
            [
             0.8,
             "#7fbc41"
            ],
            [
             0.9,
             "#4d9221"
            ],
            [
             1,
             "#276419"
            ]
           ],
           "sequential": [
            [
             0,
             "#0d0887"
            ],
            [
             0.1111111111111111,
             "#46039f"
            ],
            [
             0.2222222222222222,
             "#7201a8"
            ],
            [
             0.3333333333333333,
             "#9c179e"
            ],
            [
             0.4444444444444444,
             "#bd3786"
            ],
            [
             0.5555555555555556,
             "#d8576b"
            ],
            [
             0.6666666666666666,
             "#ed7953"
            ],
            [
             0.7777777777777778,
             "#fb9f3a"
            ],
            [
             0.8888888888888888,
             "#fdca26"
            ],
            [
             1,
             "#f0f921"
            ]
           ],
           "sequentialminus": [
            [
             0,
             "#0d0887"
            ],
            [
             0.1111111111111111,
             "#46039f"
            ],
            [
             0.2222222222222222,
             "#7201a8"
            ],
            [
             0.3333333333333333,
             "#9c179e"
            ],
            [
             0.4444444444444444,
             "#bd3786"
            ],
            [
             0.5555555555555556,
             "#d8576b"
            ],
            [
             0.6666666666666666,
             "#ed7953"
            ],
            [
             0.7777777777777778,
             "#fb9f3a"
            ],
            [
             0.8888888888888888,
             "#fdca26"
            ],
            [
             1,
             "#f0f921"
            ]
           ]
          },
          "colorway": [
           "#636efa",
           "#EF553B",
           "#00cc96",
           "#ab63fa",
           "#FFA15A",
           "#19d3f3",
           "#FF6692",
           "#B6E880",
           "#FF97FF",
           "#FECB52"
          ],
          "font": {
           "color": "#2a3f5f"
          },
          "geo": {
           "bgcolor": "white",
           "lakecolor": "white",
           "landcolor": "#E5ECF6",
           "showlakes": true,
           "showland": true,
           "subunitcolor": "white"
          },
          "hoverlabel": {
           "align": "left"
          },
          "hovermode": "closest",
          "mapbox": {
           "style": "light"
          },
          "paper_bgcolor": "white",
          "plot_bgcolor": "#E5ECF6",
          "polar": {
           "angularaxis": {
            "gridcolor": "white",
            "linecolor": "white",
            "ticks": ""
           },
           "bgcolor": "#E5ECF6",
           "radialaxis": {
            "gridcolor": "white",
            "linecolor": "white",
            "ticks": ""
           }
          },
          "scene": {
           "xaxis": {
            "backgroundcolor": "#E5ECF6",
            "gridcolor": "white",
            "gridwidth": 2,
            "linecolor": "white",
            "showbackground": true,
            "ticks": "",
            "zerolinecolor": "white"
           },
           "yaxis": {
            "backgroundcolor": "#E5ECF6",
            "gridcolor": "white",
            "gridwidth": 2,
            "linecolor": "white",
            "showbackground": true,
            "ticks": "",
            "zerolinecolor": "white"
           },
           "zaxis": {
            "backgroundcolor": "#E5ECF6",
            "gridcolor": "white",
            "gridwidth": 2,
            "linecolor": "white",
            "showbackground": true,
            "ticks": "",
            "zerolinecolor": "white"
           }
          },
          "shapedefaults": {
           "line": {
            "color": "#2a3f5f"
           }
          },
          "ternary": {
           "aaxis": {
            "gridcolor": "white",
            "linecolor": "white",
            "ticks": ""
           },
           "baxis": {
            "gridcolor": "white",
            "linecolor": "white",
            "ticks": ""
           },
           "bgcolor": "#E5ECF6",
           "caxis": {
            "gridcolor": "white",
            "linecolor": "white",
            "ticks": ""
           }
          },
          "title": {
           "x": 0.05
          },
          "xaxis": {
           "automargin": true,
           "gridcolor": "white",
           "linecolor": "white",
           "ticks": "",
           "title": {
            "standoff": 15
           },
           "zerolinecolor": "white",
           "zerolinewidth": 2
          },
          "yaxis": {
           "automargin": true,
           "gridcolor": "white",
           "linecolor": "white",
           "ticks": "",
           "title": {
            "standoff": 15
           },
           "zerolinecolor": "white",
           "zerolinewidth": 2
          }
         }
        },
        "title": {
         "text": "Série Temporal dos Focos de Calor - Pará"
        },
        "width": 1200,
        "xaxis": {
         "title": {
          "text": "Ano"
         }
        },
        "yaxis": {
         "title": {
          "text": "Número de Focos de Calor"
         }
        }
       }
      },
      "text/html": [
       "<div>                            <div id=\"effd74ec-f97b-467f-ad25-9e12b06af2e1\" class=\"plotly-graph-div\" style=\"height:450px; width:1200px;\"></div>            <script type=\"text/javascript\">                require([\"plotly\"], function(Plotly) {                    window.PLOTLYENV=window.PLOTLYENV || {};                                    if (document.getElementById(\"effd74ec-f97b-467f-ad25-9e12b06af2e1\")) {                    Plotly.newPlot(                        \"effd74ec-f97b-467f-ad25-9e12b06af2e1\",                        [{\"mode\": \"markers+lines+text\", \"name\": \"Focos de Calor\", \"text\": [20282.0, 20479.0, 18207.0, 28587.0, 38804.0, 32100.0, 47823.0, 40226.0, 27368.0, 36135.0, 21684.0, 29806.0, 41066.0, 17687.0, 26915.0, 20542.0, 35948.0, 45202.0, 29410.0, 59771.0], \"textposition\": \"top center\", \"type\": \"scatter\", \"x\": [\"1998-01-01T00:00:00\", \"1999-01-01T00:00:00\", \"2000-01-01T00:00:00\", \"2001-01-01T00:00:00\", \"2002-01-01T00:00:00\", \"2003-01-01T00:00:00\", \"2004-01-01T00:00:00\", \"2005-01-01T00:00:00\", \"2006-01-01T00:00:00\", \"2007-01-01T00:00:00\", \"2008-01-01T00:00:00\", \"2009-01-01T00:00:00\", \"2010-01-01T00:00:00\", \"2011-01-01T00:00:00\", \"2012-01-01T00:00:00\", \"2013-01-01T00:00:00\", \"2014-01-01T00:00:00\", \"2015-01-01T00:00:00\", \"2016-01-01T00:00:00\", \"2017-01-01T00:00:00\"], \"y\": [20282, 20479, 18207, 28587, 38804, 32100, 47823, 40226, 27368, 36135, 21684, 29806, 41066, 17687, 26915, 20542, 35948, 45202, 29410, 59771]}, {\"mode\": \"markers+lines\", \"name\": \"M\\u00e9dia M\\u00f3vel do Tri\\u00eanio\", \"type\": \"scatter\", \"x\": [\"1998-01-01T00:00:00\", \"1999-01-01T00:00:00\", \"2000-01-01T00:00:00\", \"2001-01-01T00:00:00\", \"2002-01-01T00:00:00\", \"2003-01-01T00:00:00\", \"2004-01-01T00:00:00\", \"2005-01-01T00:00:00\", \"2006-01-01T00:00:00\", \"2007-01-01T00:00:00\", \"2008-01-01T00:00:00\", \"2009-01-01T00:00:00\", \"2010-01-01T00:00:00\", \"2011-01-01T00:00:00\", \"2012-01-01T00:00:00\", \"2013-01-01T00:00:00\", \"2014-01-01T00:00:00\", \"2015-01-01T00:00:00\", \"2016-01-01T00:00:00\", \"2017-01-01T00:00:00\"], \"y\": [null, null, 19656.0, 22424.333333333332, 28532.666666666668, 33163.666666666664, 39575.666666666664, 40049.666666666664, 38472.333333333336, 34576.333333333336, 28395.666666666668, 29208.333333333332, 30852.0, 29519.666666666668, 28556.0, 21714.666666666668, 27801.666666666668, 33897.333333333336, 36853.333333333336, 44794.333333333336]}],                        {\"height\": 450, \"legend\": {\"bgcolor\": \"rgba(255, 255, 255, 0)\", \"x\": 0.01, \"xanchor\": \"left\", \"y\": 0.95, \"yanchor\": \"top\"}, \"template\": {\"data\": {\"bar\": [{\"error_x\": {\"color\": \"#2a3f5f\"}, \"error_y\": {\"color\": \"#2a3f5f\"}, \"marker\": {\"line\": {\"color\": \"#E5ECF6\", \"width\": 0.5}}, \"type\": \"bar\"}], \"barpolar\": [{\"marker\": {\"line\": {\"color\": \"#E5ECF6\", \"width\": 0.5}}, \"type\": \"barpolar\"}], \"carpet\": [{\"aaxis\": {\"endlinecolor\": \"#2a3f5f\", \"gridcolor\": \"white\", \"linecolor\": \"white\", \"minorgridcolor\": \"white\", \"startlinecolor\": \"#2a3f5f\"}, \"baxis\": {\"endlinecolor\": \"#2a3f5f\", \"gridcolor\": \"white\", \"linecolor\": \"white\", \"minorgridcolor\": \"white\", \"startlinecolor\": \"#2a3f5f\"}, \"type\": \"carpet\"}], \"choropleth\": [{\"colorbar\": {\"outlinewidth\": 0, \"ticks\": \"\"}, \"type\": \"choropleth\"}], \"contour\": [{\"colorbar\": {\"outlinewidth\": 0, \"ticks\": \"\"}, \"colorscale\": [[0.0, \"#0d0887\"], [0.1111111111111111, \"#46039f\"], [0.2222222222222222, \"#7201a8\"], [0.3333333333333333, \"#9c179e\"], [0.4444444444444444, \"#bd3786\"], [0.5555555555555556, \"#d8576b\"], [0.6666666666666666, \"#ed7953\"], [0.7777777777777778, \"#fb9f3a\"], [0.8888888888888888, \"#fdca26\"], [1.0, \"#f0f921\"]], \"type\": \"contour\"}], \"contourcarpet\": [{\"colorbar\": {\"outlinewidth\": 0, \"ticks\": \"\"}, \"type\": \"contourcarpet\"}], \"heatmap\": [{\"colorbar\": {\"outlinewidth\": 0, \"ticks\": \"\"}, \"colorscale\": [[0.0, \"#0d0887\"], [0.1111111111111111, \"#46039f\"], [0.2222222222222222, \"#7201a8\"], [0.3333333333333333, \"#9c179e\"], [0.4444444444444444, \"#bd3786\"], [0.5555555555555556, \"#d8576b\"], [0.6666666666666666, \"#ed7953\"], [0.7777777777777778, \"#fb9f3a\"], [0.8888888888888888, \"#fdca26\"], [1.0, \"#f0f921\"]], \"type\": \"heatmap\"}], \"heatmapgl\": [{\"colorbar\": {\"outlinewidth\": 0, \"ticks\": \"\"}, \"colorscale\": [[0.0, \"#0d0887\"], [0.1111111111111111, \"#46039f\"], [0.2222222222222222, \"#7201a8\"], [0.3333333333333333, \"#9c179e\"], [0.4444444444444444, \"#bd3786\"], [0.5555555555555556, \"#d8576b\"], [0.6666666666666666, \"#ed7953\"], [0.7777777777777778, \"#fb9f3a\"], [0.8888888888888888, \"#fdca26\"], [1.0, \"#f0f921\"]], \"type\": \"heatmapgl\"}], \"histogram\": [{\"marker\": {\"colorbar\": {\"outlinewidth\": 0, \"ticks\": \"\"}}, \"type\": \"histogram\"}], \"histogram2d\": [{\"colorbar\": {\"outlinewidth\": 0, \"ticks\": \"\"}, \"colorscale\": [[0.0, \"#0d0887\"], [0.1111111111111111, \"#46039f\"], [0.2222222222222222, \"#7201a8\"], [0.3333333333333333, \"#9c179e\"], [0.4444444444444444, \"#bd3786\"], [0.5555555555555556, \"#d8576b\"], [0.6666666666666666, \"#ed7953\"], [0.7777777777777778, \"#fb9f3a\"], [0.8888888888888888, \"#fdca26\"], [1.0, \"#f0f921\"]], \"type\": \"histogram2d\"}], \"histogram2dcontour\": [{\"colorbar\": {\"outlinewidth\": 0, \"ticks\": \"\"}, \"colorscale\": [[0.0, \"#0d0887\"], [0.1111111111111111, \"#46039f\"], [0.2222222222222222, \"#7201a8\"], [0.3333333333333333, \"#9c179e\"], [0.4444444444444444, \"#bd3786\"], [0.5555555555555556, \"#d8576b\"], [0.6666666666666666, \"#ed7953\"], [0.7777777777777778, \"#fb9f3a\"], [0.8888888888888888, \"#fdca26\"], [1.0, \"#f0f921\"]], \"type\": \"histogram2dcontour\"}], \"mesh3d\": [{\"colorbar\": {\"outlinewidth\": 0, \"ticks\": \"\"}, \"type\": \"mesh3d\"}], \"parcoords\": [{\"line\": {\"colorbar\": {\"outlinewidth\": 0, \"ticks\": \"\"}}, \"type\": \"parcoords\"}], \"pie\": [{\"automargin\": true, \"type\": \"pie\"}], \"scatter\": [{\"marker\": {\"colorbar\": {\"outlinewidth\": 0, \"ticks\": \"\"}}, \"type\": \"scatter\"}], \"scatter3d\": [{\"line\": {\"colorbar\": {\"outlinewidth\": 0, \"ticks\": \"\"}}, \"marker\": {\"colorbar\": {\"outlinewidth\": 0, \"ticks\": \"\"}}, \"type\": \"scatter3d\"}], \"scattercarpet\": [{\"marker\": {\"colorbar\": {\"outlinewidth\": 0, \"ticks\": \"\"}}, \"type\": \"scattercarpet\"}], \"scattergeo\": [{\"marker\": {\"colorbar\": {\"outlinewidth\": 0, \"ticks\": \"\"}}, \"type\": \"scattergeo\"}], \"scattergl\": [{\"marker\": {\"colorbar\": {\"outlinewidth\": 0, \"ticks\": \"\"}}, \"type\": \"scattergl\"}], \"scattermapbox\": [{\"marker\": {\"colorbar\": {\"outlinewidth\": 0, \"ticks\": \"\"}}, \"type\": \"scattermapbox\"}], \"scatterpolar\": [{\"marker\": {\"colorbar\": {\"outlinewidth\": 0, \"ticks\": \"\"}}, \"type\": \"scatterpolar\"}], \"scatterpolargl\": [{\"marker\": {\"colorbar\": {\"outlinewidth\": 0, \"ticks\": \"\"}}, \"type\": \"scatterpolargl\"}], \"scatterternary\": [{\"marker\": {\"colorbar\": {\"outlinewidth\": 0, \"ticks\": \"\"}}, \"type\": \"scatterternary\"}], \"surface\": [{\"colorbar\": {\"outlinewidth\": 0, \"ticks\": \"\"}, \"colorscale\": [[0.0, \"#0d0887\"], [0.1111111111111111, \"#46039f\"], [0.2222222222222222, \"#7201a8\"], [0.3333333333333333, \"#9c179e\"], [0.4444444444444444, \"#bd3786\"], [0.5555555555555556, \"#d8576b\"], [0.6666666666666666, \"#ed7953\"], [0.7777777777777778, \"#fb9f3a\"], [0.8888888888888888, \"#fdca26\"], [1.0, \"#f0f921\"]], \"type\": \"surface\"}], \"table\": [{\"cells\": {\"fill\": {\"color\": \"#EBF0F8\"}, \"line\": {\"color\": \"white\"}}, \"header\": {\"fill\": {\"color\": \"#C8D4E3\"}, \"line\": {\"color\": \"white\"}}, \"type\": \"table\"}]}, \"layout\": {\"annotationdefaults\": {\"arrowcolor\": \"#2a3f5f\", \"arrowhead\": 0, \"arrowwidth\": 1}, \"coloraxis\": {\"colorbar\": {\"outlinewidth\": 0, \"ticks\": \"\"}}, \"colorscale\": {\"diverging\": [[0, \"#8e0152\"], [0.1, \"#c51b7d\"], [0.2, \"#de77ae\"], [0.3, \"#f1b6da\"], [0.4, \"#fde0ef\"], [0.5, \"#f7f7f7\"], [0.6, \"#e6f5d0\"], [0.7, \"#b8e186\"], [0.8, \"#7fbc41\"], [0.9, \"#4d9221\"], [1, \"#276419\"]], \"sequential\": [[0.0, \"#0d0887\"], [0.1111111111111111, \"#46039f\"], [0.2222222222222222, \"#7201a8\"], [0.3333333333333333, \"#9c179e\"], [0.4444444444444444, \"#bd3786\"], [0.5555555555555556, \"#d8576b\"], [0.6666666666666666, \"#ed7953\"], [0.7777777777777778, \"#fb9f3a\"], [0.8888888888888888, \"#fdca26\"], [1.0, \"#f0f921\"]], \"sequentialminus\": [[0.0, \"#0d0887\"], [0.1111111111111111, \"#46039f\"], [0.2222222222222222, \"#7201a8\"], [0.3333333333333333, \"#9c179e\"], [0.4444444444444444, \"#bd3786\"], [0.5555555555555556, \"#d8576b\"], [0.6666666666666666, \"#ed7953\"], [0.7777777777777778, \"#fb9f3a\"], [0.8888888888888888, \"#fdca26\"], [1.0, \"#f0f921\"]]}, \"colorway\": [\"#636efa\", \"#EF553B\", \"#00cc96\", \"#ab63fa\", \"#FFA15A\", \"#19d3f3\", \"#FF6692\", \"#B6E880\", \"#FF97FF\", \"#FECB52\"], \"font\": {\"color\": \"#2a3f5f\"}, \"geo\": {\"bgcolor\": \"white\", \"lakecolor\": \"white\", \"landcolor\": \"#E5ECF6\", \"showlakes\": true, \"showland\": true, \"subunitcolor\": \"white\"}, \"hoverlabel\": {\"align\": \"left\"}, \"hovermode\": \"closest\", \"mapbox\": {\"style\": \"light\"}, \"paper_bgcolor\": \"white\", \"plot_bgcolor\": \"#E5ECF6\", \"polar\": {\"angularaxis\": {\"gridcolor\": \"white\", \"linecolor\": \"white\", \"ticks\": \"\"}, \"bgcolor\": \"#E5ECF6\", \"radialaxis\": {\"gridcolor\": \"white\", \"linecolor\": \"white\", \"ticks\": \"\"}}, \"scene\": {\"xaxis\": {\"backgroundcolor\": \"#E5ECF6\", \"gridcolor\": \"white\", \"gridwidth\": 2, \"linecolor\": \"white\", \"showbackground\": true, \"ticks\": \"\", \"zerolinecolor\": \"white\"}, \"yaxis\": {\"backgroundcolor\": \"#E5ECF6\", \"gridcolor\": \"white\", \"gridwidth\": 2, \"linecolor\": \"white\", \"showbackground\": true, \"ticks\": \"\", \"zerolinecolor\": \"white\"}, \"zaxis\": {\"backgroundcolor\": \"#E5ECF6\", \"gridcolor\": \"white\", \"gridwidth\": 2, \"linecolor\": \"white\", \"showbackground\": true, \"ticks\": \"\", \"zerolinecolor\": \"white\"}}, \"shapedefaults\": {\"line\": {\"color\": \"#2a3f5f\"}}, \"ternary\": {\"aaxis\": {\"gridcolor\": \"white\", \"linecolor\": \"white\", \"ticks\": \"\"}, \"baxis\": {\"gridcolor\": \"white\", \"linecolor\": \"white\", \"ticks\": \"\"}, \"bgcolor\": \"#E5ECF6\", \"caxis\": {\"gridcolor\": \"white\", \"linecolor\": \"white\", \"ticks\": \"\"}}, \"title\": {\"x\": 0.05}, \"xaxis\": {\"automargin\": true, \"gridcolor\": \"white\", \"linecolor\": \"white\", \"ticks\": \"\", \"title\": {\"standoff\": 15}, \"zerolinecolor\": \"white\", \"zerolinewidth\": 2}, \"yaxis\": {\"automargin\": true, \"gridcolor\": \"white\", \"linecolor\": \"white\", \"ticks\": \"\", \"title\": {\"standoff\": 15}, \"zerolinecolor\": \"white\", \"zerolinewidth\": 2}}}, \"title\": {\"text\": \"S\\u00e9rie Temporal dos Focos de Calor - Par\\u00e1\"}, \"width\": 1200, \"xaxis\": {\"title\": {\"text\": \"Ano\"}}, \"yaxis\": {\"title\": {\"text\": \"N\\u00famero de Focos de Calor\"}}},                        {\"responsive\": true}                    ).then(function(){\n",
       "                            \n",
       "var gd = document.getElementById('effd74ec-f97b-467f-ad25-9e12b06af2e1');\n",
       "var x = new MutationObserver(function (mutations, observer) {{\n",
       "        var display = window.getComputedStyle(gd).display;\n",
       "        if (!display || display === 'none') {{\n",
       "            console.log([gd, 'removed!']);\n",
       "            Plotly.purge(gd);\n",
       "            observer.disconnect();\n",
       "        }}\n",
       "}});\n",
       "\n",
       "// Listen for the removal of the full notebook cells\n",
       "var notebookContainer = gd.closest('#notebook-container');\n",
       "if (notebookContainer) {{\n",
       "    x.observe(notebookContainer, {childList: true});\n",
       "}}\n",
       "\n",
       "// Listen for the clearing of the current output cell\n",
       "var outputEl = gd.closest('.output');\n",
       "if (outputEl) {{\n",
       "    x.observe(outputEl, {childList: true});\n",
       "}}\n",
       "\n",
       "                        })                };                });            </script>        </div>"
      ]
     },
     "metadata": {},
     "output_type": "display_data"
    }
   ],
   "source": [
    "# Série Temporal dos Focos de Calor - Pará\n",
    "base_temp = base.loc[base['state'] == 'Pará']\n",
    "plot_forest_fires_timeline(base_temp, 'Série Temporal dos Focos de Calor - Pará')"
   ]
  },
  {
   "cell_type": "code",
   "execution_count": 130,
   "metadata": {},
   "outputs": [
    {
     "data": {
      "application/vnd.plotly.v1+json": {
       "config": {
        "linkText": "Export to plot.ly",
        "plotlyServerURL": "https://plot.ly",
        "showLink": false
       },
       "data": [
        {
         "marker": {
          "color": "rgb(255, 65, 54)",
          "line": {
           "width": 2
          },
          "size": [
           407.61,
           1.66,
           19.17,
           388.55,
           916.73,
           59.09,
           11.37,
           15.76,
           439.51,
           1029.97,
           2506.12,
           344.95,
           648.95,
           154.66,
           9.08,
           1602.67,
           36.42,
           566.76,
           8.2,
           54.54,
           38.94,
           1042.03,
           6.98,
           69.87,
           0.16,
           153.19,
           984.95
          ],
          "sizemin": 4,
          "sizemode": "area"
         },
         "mode": "markers",
         "type": "scatter",
         "x": [
          "Acre",
          "Alagoas",
          "Amapá",
          "Amazonas",
          "Bahia",
          "Ceará",
          "Distrito Federal",
          "Espírito Santo",
          "Goiás",
          "Maranhão",
          "Mato Grosso",
          "Mato Grosso do Sul",
          "Minas Gerais",
          "Paraná",
          "Paraíba",
          "Pará",
          "Pernambuco",
          "Piauí",
          "Rio Grande do Norte",
          "Rio Grande do Sul",
          "Rio de Janeiro",
          "Rondônia",
          "Roraima",
          "Santa Catarina",
          "Sergipe",
          "São Paulo",
          "Tocantins"
         ],
         "y": [
          40761,
          166,
          1917,
          38855,
          91673,
          5909,
          1137,
          1576,
          43951,
          102997,
          250612,
          34495,
          64895,
          15466,
          908,
          160267,
          3642,
          56676,
          820,
          5454,
          3894,
          104203,
          698,
          6987,
          16,
          15319,
          98495
         ]
        }
       ],
       "layout": {
        "height": 600,
        "template": {
         "data": {
          "bar": [
           {
            "error_x": {
             "color": "#2a3f5f"
            },
            "error_y": {
             "color": "#2a3f5f"
            },
            "marker": {
             "line": {
              "color": "#E5ECF6",
              "width": 0.5
             }
            },
            "type": "bar"
           }
          ],
          "barpolar": [
           {
            "marker": {
             "line": {
              "color": "#E5ECF6",
              "width": 0.5
             }
            },
            "type": "barpolar"
           }
          ],
          "carpet": [
           {
            "aaxis": {
             "endlinecolor": "#2a3f5f",
             "gridcolor": "white",
             "linecolor": "white",
             "minorgridcolor": "white",
             "startlinecolor": "#2a3f5f"
            },
            "baxis": {
             "endlinecolor": "#2a3f5f",
             "gridcolor": "white",
             "linecolor": "white",
             "minorgridcolor": "white",
             "startlinecolor": "#2a3f5f"
            },
            "type": "carpet"
           }
          ],
          "choropleth": [
           {
            "colorbar": {
             "outlinewidth": 0,
             "ticks": ""
            },
            "type": "choropleth"
           }
          ],
          "contour": [
           {
            "colorbar": {
             "outlinewidth": 0,
             "ticks": ""
            },
            "colorscale": [
             [
              0,
              "#0d0887"
             ],
             [
              0.1111111111111111,
              "#46039f"
             ],
             [
              0.2222222222222222,
              "#7201a8"
             ],
             [
              0.3333333333333333,
              "#9c179e"
             ],
             [
              0.4444444444444444,
              "#bd3786"
             ],
             [
              0.5555555555555556,
              "#d8576b"
             ],
             [
              0.6666666666666666,
              "#ed7953"
             ],
             [
              0.7777777777777778,
              "#fb9f3a"
             ],
             [
              0.8888888888888888,
              "#fdca26"
             ],
             [
              1,
              "#f0f921"
             ]
            ],
            "type": "contour"
           }
          ],
          "contourcarpet": [
           {
            "colorbar": {
             "outlinewidth": 0,
             "ticks": ""
            },
            "type": "contourcarpet"
           }
          ],
          "heatmap": [
           {
            "colorbar": {
             "outlinewidth": 0,
             "ticks": ""
            },
            "colorscale": [
             [
              0,
              "#0d0887"
             ],
             [
              0.1111111111111111,
              "#46039f"
             ],
             [
              0.2222222222222222,
              "#7201a8"
             ],
             [
              0.3333333333333333,
              "#9c179e"
             ],
             [
              0.4444444444444444,
              "#bd3786"
             ],
             [
              0.5555555555555556,
              "#d8576b"
             ],
             [
              0.6666666666666666,
              "#ed7953"
             ],
             [
              0.7777777777777778,
              "#fb9f3a"
             ],
             [
              0.8888888888888888,
              "#fdca26"
             ],
             [
              1,
              "#f0f921"
             ]
            ],
            "type": "heatmap"
           }
          ],
          "heatmapgl": [
           {
            "colorbar": {
             "outlinewidth": 0,
             "ticks": ""
            },
            "colorscale": [
             [
              0,
              "#0d0887"
             ],
             [
              0.1111111111111111,
              "#46039f"
             ],
             [
              0.2222222222222222,
              "#7201a8"
             ],
             [
              0.3333333333333333,
              "#9c179e"
             ],
             [
              0.4444444444444444,
              "#bd3786"
             ],
             [
              0.5555555555555556,
              "#d8576b"
             ],
             [
              0.6666666666666666,
              "#ed7953"
             ],
             [
              0.7777777777777778,
              "#fb9f3a"
             ],
             [
              0.8888888888888888,
              "#fdca26"
             ],
             [
              1,
              "#f0f921"
             ]
            ],
            "type": "heatmapgl"
           }
          ],
          "histogram": [
           {
            "marker": {
             "colorbar": {
              "outlinewidth": 0,
              "ticks": ""
             }
            },
            "type": "histogram"
           }
          ],
          "histogram2d": [
           {
            "colorbar": {
             "outlinewidth": 0,
             "ticks": ""
            },
            "colorscale": [
             [
              0,
              "#0d0887"
             ],
             [
              0.1111111111111111,
              "#46039f"
             ],
             [
              0.2222222222222222,
              "#7201a8"
             ],
             [
              0.3333333333333333,
              "#9c179e"
             ],
             [
              0.4444444444444444,
              "#bd3786"
             ],
             [
              0.5555555555555556,
              "#d8576b"
             ],
             [
              0.6666666666666666,
              "#ed7953"
             ],
             [
              0.7777777777777778,
              "#fb9f3a"
             ],
             [
              0.8888888888888888,
              "#fdca26"
             ],
             [
              1,
              "#f0f921"
             ]
            ],
            "type": "histogram2d"
           }
          ],
          "histogram2dcontour": [
           {
            "colorbar": {
             "outlinewidth": 0,
             "ticks": ""
            },
            "colorscale": [
             [
              0,
              "#0d0887"
             ],
             [
              0.1111111111111111,
              "#46039f"
             ],
             [
              0.2222222222222222,
              "#7201a8"
             ],
             [
              0.3333333333333333,
              "#9c179e"
             ],
             [
              0.4444444444444444,
              "#bd3786"
             ],
             [
              0.5555555555555556,
              "#d8576b"
             ],
             [
              0.6666666666666666,
              "#ed7953"
             ],
             [
              0.7777777777777778,
              "#fb9f3a"
             ],
             [
              0.8888888888888888,
              "#fdca26"
             ],
             [
              1,
              "#f0f921"
             ]
            ],
            "type": "histogram2dcontour"
           }
          ],
          "mesh3d": [
           {
            "colorbar": {
             "outlinewidth": 0,
             "ticks": ""
            },
            "type": "mesh3d"
           }
          ],
          "parcoords": [
           {
            "line": {
             "colorbar": {
              "outlinewidth": 0,
              "ticks": ""
             }
            },
            "type": "parcoords"
           }
          ],
          "pie": [
           {
            "automargin": true,
            "type": "pie"
           }
          ],
          "scatter": [
           {
            "marker": {
             "colorbar": {
              "outlinewidth": 0,
              "ticks": ""
             }
            },
            "type": "scatter"
           }
          ],
          "scatter3d": [
           {
            "line": {
             "colorbar": {
              "outlinewidth": 0,
              "ticks": ""
             }
            },
            "marker": {
             "colorbar": {
              "outlinewidth": 0,
              "ticks": ""
             }
            },
            "type": "scatter3d"
           }
          ],
          "scattercarpet": [
           {
            "marker": {
             "colorbar": {
              "outlinewidth": 0,
              "ticks": ""
             }
            },
            "type": "scattercarpet"
           }
          ],
          "scattergeo": [
           {
            "marker": {
             "colorbar": {
              "outlinewidth": 0,
              "ticks": ""
             }
            },
            "type": "scattergeo"
           }
          ],
          "scattergl": [
           {
            "marker": {
             "colorbar": {
              "outlinewidth": 0,
              "ticks": ""
             }
            },
            "type": "scattergl"
           }
          ],
          "scattermapbox": [
           {
            "marker": {
             "colorbar": {
              "outlinewidth": 0,
              "ticks": ""
             }
            },
            "type": "scattermapbox"
           }
          ],
          "scatterpolar": [
           {
            "marker": {
             "colorbar": {
              "outlinewidth": 0,
              "ticks": ""
             }
            },
            "type": "scatterpolar"
           }
          ],
          "scatterpolargl": [
           {
            "marker": {
             "colorbar": {
              "outlinewidth": 0,
              "ticks": ""
             }
            },
            "type": "scatterpolargl"
           }
          ],
          "scatterternary": [
           {
            "marker": {
             "colorbar": {
              "outlinewidth": 0,
              "ticks": ""
             }
            },
            "type": "scatterternary"
           }
          ],
          "surface": [
           {
            "colorbar": {
             "outlinewidth": 0,
             "ticks": ""
            },
            "colorscale": [
             [
              0,
              "#0d0887"
             ],
             [
              0.1111111111111111,
              "#46039f"
             ],
             [
              0.2222222222222222,
              "#7201a8"
             ],
             [
              0.3333333333333333,
              "#9c179e"
             ],
             [
              0.4444444444444444,
              "#bd3786"
             ],
             [
              0.5555555555555556,
              "#d8576b"
             ],
             [
              0.6666666666666666,
              "#ed7953"
             ],
             [
              0.7777777777777778,
              "#fb9f3a"
             ],
             [
              0.8888888888888888,
              "#fdca26"
             ],
             [
              1,
              "#f0f921"
             ]
            ],
            "type": "surface"
           }
          ],
          "table": [
           {
            "cells": {
             "fill": {
              "color": "#EBF0F8"
             },
             "line": {
              "color": "white"
             }
            },
            "header": {
             "fill": {
              "color": "#C8D4E3"
             },
             "line": {
              "color": "white"
             }
            },
            "type": "table"
           }
          ]
         },
         "layout": {
          "annotationdefaults": {
           "arrowcolor": "#2a3f5f",
           "arrowhead": 0,
           "arrowwidth": 1
          },
          "coloraxis": {
           "colorbar": {
            "outlinewidth": 0,
            "ticks": ""
           }
          },
          "colorscale": {
           "diverging": [
            [
             0,
             "#8e0152"
            ],
            [
             0.1,
             "#c51b7d"
            ],
            [
             0.2,
             "#de77ae"
            ],
            [
             0.3,
             "#f1b6da"
            ],
            [
             0.4,
             "#fde0ef"
            ],
            [
             0.5,
             "#f7f7f7"
            ],
            [
             0.6,
             "#e6f5d0"
            ],
            [
             0.7,
             "#b8e186"
            ],
            [
             0.8,
             "#7fbc41"
            ],
            [
             0.9,
             "#4d9221"
            ],
            [
             1,
             "#276419"
            ]
           ],
           "sequential": [
            [
             0,
             "#0d0887"
            ],
            [
             0.1111111111111111,
             "#46039f"
            ],
            [
             0.2222222222222222,
             "#7201a8"
            ],
            [
             0.3333333333333333,
             "#9c179e"
            ],
            [
             0.4444444444444444,
             "#bd3786"
            ],
            [
             0.5555555555555556,
             "#d8576b"
            ],
            [
             0.6666666666666666,
             "#ed7953"
            ],
            [
             0.7777777777777778,
             "#fb9f3a"
            ],
            [
             0.8888888888888888,
             "#fdca26"
            ],
            [
             1,
             "#f0f921"
            ]
           ],
           "sequentialminus": [
            [
             0,
             "#0d0887"
            ],
            [
             0.1111111111111111,
             "#46039f"
            ],
            [
             0.2222222222222222,
             "#7201a8"
            ],
            [
             0.3333333333333333,
             "#9c179e"
            ],
            [
             0.4444444444444444,
             "#bd3786"
            ],
            [
             0.5555555555555556,
             "#d8576b"
            ],
            [
             0.6666666666666666,
             "#ed7953"
            ],
            [
             0.7777777777777778,
             "#fb9f3a"
            ],
            [
             0.8888888888888888,
             "#fdca26"
            ],
            [
             1,
             "#f0f921"
            ]
           ]
          },
          "colorway": [
           "#636efa",
           "#EF553B",
           "#00cc96",
           "#ab63fa",
           "#FFA15A",
           "#19d3f3",
           "#FF6692",
           "#B6E880",
           "#FF97FF",
           "#FECB52"
          ],
          "font": {
           "color": "#2a3f5f"
          },
          "geo": {
           "bgcolor": "white",
           "lakecolor": "white",
           "landcolor": "#E5ECF6",
           "showlakes": true,
           "showland": true,
           "subunitcolor": "white"
          },
          "hoverlabel": {
           "align": "left"
          },
          "hovermode": "closest",
          "mapbox": {
           "style": "light"
          },
          "paper_bgcolor": "white",
          "plot_bgcolor": "#E5ECF6",
          "polar": {
           "angularaxis": {
            "gridcolor": "white",
            "linecolor": "white",
            "ticks": ""
           },
           "bgcolor": "#E5ECF6",
           "radialaxis": {
            "gridcolor": "white",
            "linecolor": "white",
            "ticks": ""
           }
          },
          "scene": {
           "xaxis": {
            "backgroundcolor": "#E5ECF6",
            "gridcolor": "white",
            "gridwidth": 2,
            "linecolor": "white",
            "showbackground": true,
            "ticks": "",
            "zerolinecolor": "white"
           },
           "yaxis": {
            "backgroundcolor": "#E5ECF6",
            "gridcolor": "white",
            "gridwidth": 2,
            "linecolor": "white",
            "showbackground": true,
            "ticks": "",
            "zerolinecolor": "white"
           },
           "zaxis": {
            "backgroundcolor": "#E5ECF6",
            "gridcolor": "white",
            "gridwidth": 2,
            "linecolor": "white",
            "showbackground": true,
            "ticks": "",
            "zerolinecolor": "white"
           }
          },
          "shapedefaults": {
           "line": {
            "color": "#2a3f5f"
           }
          },
          "ternary": {
           "aaxis": {
            "gridcolor": "white",
            "linecolor": "white",
            "ticks": ""
           },
           "baxis": {
            "gridcolor": "white",
            "linecolor": "white",
            "ticks": ""
           },
           "bgcolor": "#E5ECF6",
           "caxis": {
            "gridcolor": "white",
            "linecolor": "white",
            "ticks": ""
           }
          },
          "title": {
           "x": 0.05
          },
          "xaxis": {
           "automargin": true,
           "gridcolor": "white",
           "linecolor": "white",
           "ticks": "",
           "title": {
            "standoff": 15
           },
           "zerolinecolor": "white",
           "zerolinewidth": 2
          },
          "yaxis": {
           "automargin": true,
           "gridcolor": "white",
           "linecolor": "white",
           "ticks": "",
           "title": {
            "standoff": 15
           },
           "zerolinecolor": "white",
           "zerolinewidth": 2
          }
         }
        },
        "title": {
         "text": "Número de Focos de Calor por Estado - Setembro"
        },
        "width": 1000,
        "xaxis": {
         "title": {
          "text": "Estado"
         }
        },
        "yaxis": {
         "title": {
          "text": "Número de Focos de Calor"
         }
        }
       }
      },
      "text/html": [
       "<div>                            <div id=\"48dcbc1a-4be2-4f48-98b7-a374addded69\" class=\"plotly-graph-div\" style=\"height:600px; width:1000px;\"></div>            <script type=\"text/javascript\">                require([\"plotly\"], function(Plotly) {                    window.PLOTLYENV=window.PLOTLYENV || {};                                    if (document.getElementById(\"48dcbc1a-4be2-4f48-98b7-a374addded69\")) {                    Plotly.newPlot(                        \"48dcbc1a-4be2-4f48-98b7-a374addded69\",                        [{\"marker\": {\"color\": \"rgb(255, 65, 54)\", \"line\": {\"width\": 2}, \"size\": [407.61, 1.66, 19.17, 388.55, 916.73, 59.09, 11.37, 15.76, 439.51, 1029.97, 2506.12, 344.95, 648.95, 154.66, 9.08, 1602.67, 36.42, 566.76, 8.2, 54.54, 38.94, 1042.03, 6.98, 69.87, 0.16, 153.19, 984.95], \"sizemin\": 4, \"sizemode\": \"area\"}, \"mode\": \"markers\", \"type\": \"scatter\", \"x\": [\"Acre\", \"Alagoas\", \"Amap\\u00e1\", \"Amazonas\", \"Bahia\", \"Cear\\u00e1\", \"Distrito Federal\", \"Esp\\u00edrito Santo\", \"Goi\\u00e1s\", \"Maranh\\u00e3o\", \"Mato Grosso\", \"Mato Grosso do Sul\", \"Minas Gerais\", \"Paran\\u00e1\", \"Para\\u00edba\", \"Par\\u00e1\", \"Pernambuco\", \"Piau\\u00ed\", \"Rio Grande do Norte\", \"Rio Grande do Sul\", \"Rio de Janeiro\", \"Rond\\u00f4nia\", \"Roraima\", \"Santa Catarina\", \"Sergipe\", \"S\\u00e3o Paulo\", \"Tocantins\"], \"y\": [40761, 166, 1917, 38855, 91673, 5909, 1137, 1576, 43951, 102997, 250612, 34495, 64895, 15466, 908, 160267, 3642, 56676, 820, 5454, 3894, 104203, 698, 6987, 16, 15319, 98495]}],                        {\"height\": 600, \"template\": {\"data\": {\"bar\": [{\"error_x\": {\"color\": \"#2a3f5f\"}, \"error_y\": {\"color\": \"#2a3f5f\"}, \"marker\": {\"line\": {\"color\": \"#E5ECF6\", \"width\": 0.5}}, \"type\": \"bar\"}], \"barpolar\": [{\"marker\": {\"line\": {\"color\": \"#E5ECF6\", \"width\": 0.5}}, \"type\": \"barpolar\"}], \"carpet\": [{\"aaxis\": {\"endlinecolor\": \"#2a3f5f\", \"gridcolor\": \"white\", \"linecolor\": \"white\", \"minorgridcolor\": \"white\", \"startlinecolor\": \"#2a3f5f\"}, \"baxis\": {\"endlinecolor\": \"#2a3f5f\", \"gridcolor\": \"white\", \"linecolor\": \"white\", \"minorgridcolor\": \"white\", \"startlinecolor\": \"#2a3f5f\"}, \"type\": \"carpet\"}], \"choropleth\": [{\"colorbar\": {\"outlinewidth\": 0, \"ticks\": \"\"}, \"type\": \"choropleth\"}], \"contour\": [{\"colorbar\": {\"outlinewidth\": 0, \"ticks\": \"\"}, \"colorscale\": [[0.0, \"#0d0887\"], [0.1111111111111111, \"#46039f\"], [0.2222222222222222, \"#7201a8\"], [0.3333333333333333, \"#9c179e\"], [0.4444444444444444, \"#bd3786\"], [0.5555555555555556, \"#d8576b\"], [0.6666666666666666, \"#ed7953\"], [0.7777777777777778, \"#fb9f3a\"], [0.8888888888888888, \"#fdca26\"], [1.0, \"#f0f921\"]], \"type\": \"contour\"}], \"contourcarpet\": [{\"colorbar\": {\"outlinewidth\": 0, \"ticks\": \"\"}, \"type\": \"contourcarpet\"}], \"heatmap\": [{\"colorbar\": {\"outlinewidth\": 0, \"ticks\": \"\"}, \"colorscale\": [[0.0, \"#0d0887\"], [0.1111111111111111, \"#46039f\"], [0.2222222222222222, \"#7201a8\"], [0.3333333333333333, \"#9c179e\"], [0.4444444444444444, \"#bd3786\"], [0.5555555555555556, \"#d8576b\"], [0.6666666666666666, \"#ed7953\"], [0.7777777777777778, \"#fb9f3a\"], [0.8888888888888888, \"#fdca26\"], [1.0, \"#f0f921\"]], \"type\": \"heatmap\"}], \"heatmapgl\": [{\"colorbar\": {\"outlinewidth\": 0, \"ticks\": \"\"}, \"colorscale\": [[0.0, \"#0d0887\"], [0.1111111111111111, \"#46039f\"], [0.2222222222222222, \"#7201a8\"], [0.3333333333333333, \"#9c179e\"], [0.4444444444444444, \"#bd3786\"], [0.5555555555555556, \"#d8576b\"], [0.6666666666666666, \"#ed7953\"], [0.7777777777777778, \"#fb9f3a\"], [0.8888888888888888, \"#fdca26\"], [1.0, \"#f0f921\"]], \"type\": \"heatmapgl\"}], \"histogram\": [{\"marker\": {\"colorbar\": {\"outlinewidth\": 0, \"ticks\": \"\"}}, \"type\": \"histogram\"}], \"histogram2d\": [{\"colorbar\": {\"outlinewidth\": 0, \"ticks\": \"\"}, \"colorscale\": [[0.0, \"#0d0887\"], [0.1111111111111111, \"#46039f\"], [0.2222222222222222, \"#7201a8\"], [0.3333333333333333, \"#9c179e\"], [0.4444444444444444, \"#bd3786\"], [0.5555555555555556, \"#d8576b\"], [0.6666666666666666, \"#ed7953\"], [0.7777777777777778, \"#fb9f3a\"], [0.8888888888888888, \"#fdca26\"], [1.0, \"#f0f921\"]], \"type\": \"histogram2d\"}], \"histogram2dcontour\": [{\"colorbar\": {\"outlinewidth\": 0, \"ticks\": \"\"}, \"colorscale\": [[0.0, \"#0d0887\"], [0.1111111111111111, \"#46039f\"], [0.2222222222222222, \"#7201a8\"], [0.3333333333333333, \"#9c179e\"], [0.4444444444444444, \"#bd3786\"], [0.5555555555555556, \"#d8576b\"], [0.6666666666666666, \"#ed7953\"], [0.7777777777777778, \"#fb9f3a\"], [0.8888888888888888, \"#fdca26\"], [1.0, \"#f0f921\"]], \"type\": \"histogram2dcontour\"}], \"mesh3d\": [{\"colorbar\": {\"outlinewidth\": 0, \"ticks\": \"\"}, \"type\": \"mesh3d\"}], \"parcoords\": [{\"line\": {\"colorbar\": {\"outlinewidth\": 0, \"ticks\": \"\"}}, \"type\": \"parcoords\"}], \"pie\": [{\"automargin\": true, \"type\": \"pie\"}], \"scatter\": [{\"marker\": {\"colorbar\": {\"outlinewidth\": 0, \"ticks\": \"\"}}, \"type\": \"scatter\"}], \"scatter3d\": [{\"line\": {\"colorbar\": {\"outlinewidth\": 0, \"ticks\": \"\"}}, \"marker\": {\"colorbar\": {\"outlinewidth\": 0, \"ticks\": \"\"}}, \"type\": \"scatter3d\"}], \"scattercarpet\": [{\"marker\": {\"colorbar\": {\"outlinewidth\": 0, \"ticks\": \"\"}}, \"type\": \"scattercarpet\"}], \"scattergeo\": [{\"marker\": {\"colorbar\": {\"outlinewidth\": 0, \"ticks\": \"\"}}, \"type\": \"scattergeo\"}], \"scattergl\": [{\"marker\": {\"colorbar\": {\"outlinewidth\": 0, \"ticks\": \"\"}}, \"type\": \"scattergl\"}], \"scattermapbox\": [{\"marker\": {\"colorbar\": {\"outlinewidth\": 0, \"ticks\": \"\"}}, \"type\": \"scattermapbox\"}], \"scatterpolar\": [{\"marker\": {\"colorbar\": {\"outlinewidth\": 0, \"ticks\": \"\"}}, \"type\": \"scatterpolar\"}], \"scatterpolargl\": [{\"marker\": {\"colorbar\": {\"outlinewidth\": 0, \"ticks\": \"\"}}, \"type\": \"scatterpolargl\"}], \"scatterternary\": [{\"marker\": {\"colorbar\": {\"outlinewidth\": 0, \"ticks\": \"\"}}, \"type\": \"scatterternary\"}], \"surface\": [{\"colorbar\": {\"outlinewidth\": 0, \"ticks\": \"\"}, \"colorscale\": [[0.0, \"#0d0887\"], [0.1111111111111111, \"#46039f\"], [0.2222222222222222, \"#7201a8\"], [0.3333333333333333, \"#9c179e\"], [0.4444444444444444, \"#bd3786\"], [0.5555555555555556, \"#d8576b\"], [0.6666666666666666, \"#ed7953\"], [0.7777777777777778, \"#fb9f3a\"], [0.8888888888888888, \"#fdca26\"], [1.0, \"#f0f921\"]], \"type\": \"surface\"}], \"table\": [{\"cells\": {\"fill\": {\"color\": \"#EBF0F8\"}, \"line\": {\"color\": \"white\"}}, \"header\": {\"fill\": {\"color\": \"#C8D4E3\"}, \"line\": {\"color\": \"white\"}}, \"type\": \"table\"}]}, \"layout\": {\"annotationdefaults\": {\"arrowcolor\": \"#2a3f5f\", \"arrowhead\": 0, \"arrowwidth\": 1}, \"coloraxis\": {\"colorbar\": {\"outlinewidth\": 0, \"ticks\": \"\"}}, \"colorscale\": {\"diverging\": [[0, \"#8e0152\"], [0.1, \"#c51b7d\"], [0.2, \"#de77ae\"], [0.3, \"#f1b6da\"], [0.4, \"#fde0ef\"], [0.5, \"#f7f7f7\"], [0.6, \"#e6f5d0\"], [0.7, \"#b8e186\"], [0.8, \"#7fbc41\"], [0.9, \"#4d9221\"], [1, \"#276419\"]], \"sequential\": [[0.0, \"#0d0887\"], [0.1111111111111111, \"#46039f\"], [0.2222222222222222, \"#7201a8\"], [0.3333333333333333, \"#9c179e\"], [0.4444444444444444, \"#bd3786\"], [0.5555555555555556, \"#d8576b\"], [0.6666666666666666, \"#ed7953\"], [0.7777777777777778, \"#fb9f3a\"], [0.8888888888888888, \"#fdca26\"], [1.0, \"#f0f921\"]], \"sequentialminus\": [[0.0, \"#0d0887\"], [0.1111111111111111, \"#46039f\"], [0.2222222222222222, \"#7201a8\"], [0.3333333333333333, \"#9c179e\"], [0.4444444444444444, \"#bd3786\"], [0.5555555555555556, \"#d8576b\"], [0.6666666666666666, \"#ed7953\"], [0.7777777777777778, \"#fb9f3a\"], [0.8888888888888888, \"#fdca26\"], [1.0, \"#f0f921\"]]}, \"colorway\": [\"#636efa\", \"#EF553B\", \"#00cc96\", \"#ab63fa\", \"#FFA15A\", \"#19d3f3\", \"#FF6692\", \"#B6E880\", \"#FF97FF\", \"#FECB52\"], \"font\": {\"color\": \"#2a3f5f\"}, \"geo\": {\"bgcolor\": \"white\", \"lakecolor\": \"white\", \"landcolor\": \"#E5ECF6\", \"showlakes\": true, \"showland\": true, \"subunitcolor\": \"white\"}, \"hoverlabel\": {\"align\": \"left\"}, \"hovermode\": \"closest\", \"mapbox\": {\"style\": \"light\"}, \"paper_bgcolor\": \"white\", \"plot_bgcolor\": \"#E5ECF6\", \"polar\": {\"angularaxis\": {\"gridcolor\": \"white\", \"linecolor\": \"white\", \"ticks\": \"\"}, \"bgcolor\": \"#E5ECF6\", \"radialaxis\": {\"gridcolor\": \"white\", \"linecolor\": \"white\", \"ticks\": \"\"}}, \"scene\": {\"xaxis\": {\"backgroundcolor\": \"#E5ECF6\", \"gridcolor\": \"white\", \"gridwidth\": 2, \"linecolor\": \"white\", \"showbackground\": true, \"ticks\": \"\", \"zerolinecolor\": \"white\"}, \"yaxis\": {\"backgroundcolor\": \"#E5ECF6\", \"gridcolor\": \"white\", \"gridwidth\": 2, \"linecolor\": \"white\", \"showbackground\": true, \"ticks\": \"\", \"zerolinecolor\": \"white\"}, \"zaxis\": {\"backgroundcolor\": \"#E5ECF6\", \"gridcolor\": \"white\", \"gridwidth\": 2, \"linecolor\": \"white\", \"showbackground\": true, \"ticks\": \"\", \"zerolinecolor\": \"white\"}}, \"shapedefaults\": {\"line\": {\"color\": \"#2a3f5f\"}}, \"ternary\": {\"aaxis\": {\"gridcolor\": \"white\", \"linecolor\": \"white\", \"ticks\": \"\"}, \"baxis\": {\"gridcolor\": \"white\", \"linecolor\": \"white\", \"ticks\": \"\"}, \"bgcolor\": \"#E5ECF6\", \"caxis\": {\"gridcolor\": \"white\", \"linecolor\": \"white\", \"ticks\": \"\"}}, \"title\": {\"x\": 0.05}, \"xaxis\": {\"automargin\": true, \"gridcolor\": \"white\", \"linecolor\": \"white\", \"ticks\": \"\", \"title\": {\"standoff\": 15}, \"zerolinecolor\": \"white\", \"zerolinewidth\": 2}, \"yaxis\": {\"automargin\": true, \"gridcolor\": \"white\", \"linecolor\": \"white\", \"ticks\": \"\", \"title\": {\"standoff\": 15}, \"zerolinecolor\": \"white\", \"zerolinewidth\": 2}}}, \"title\": {\"text\": \"N\\u00famero de Focos de Calor por Estado - Setembro\"}, \"width\": 1000, \"xaxis\": {\"title\": {\"text\": \"Estado\"}}, \"yaxis\": {\"title\": {\"text\": \"N\\u00famero de Focos de Calor\"}}},                        {\"responsive\": true}                    ).then(function(){\n",
       "                            \n",
       "var gd = document.getElementById('48dcbc1a-4be2-4f48-98b7-a374addded69');\n",
       "var x = new MutationObserver(function (mutations, observer) {{\n",
       "        var display = window.getComputedStyle(gd).display;\n",
       "        if (!display || display === 'none') {{\n",
       "            console.log([gd, 'removed!']);\n",
       "            Plotly.purge(gd);\n",
       "            observer.disconnect();\n",
       "        }}\n",
       "}});\n",
       "\n",
       "// Listen for the removal of the full notebook cells\n",
       "var notebookContainer = gd.closest('#notebook-container');\n",
       "if (notebookContainer) {{\n",
       "    x.observe(notebookContainer, {childList: true});\n",
       "}}\n",
       "\n",
       "// Listen for the clearing of the current output cell\n",
       "var outputEl = gd.closest('.output');\n",
       "if (outputEl) {{\n",
       "    x.observe(outputEl, {childList: true});\n",
       "}}\n",
       "\n",
       "                        })                };                });            </script>        </div>"
      ]
     },
     "metadata": {},
     "output_type": "display_data"
    }
   ],
   "source": [
    "#Bubble Chart do Número de Focos de Calor por Estado - Setembro\n",
    "base_temp = base.loc[base['month'] == 'Setembro']\n",
    "plot_forest_fires_state(base_temp, 'Número de Focos de Calor por Estado - Setembro', False)"
   ]
  },
  {
   "cell_type": "code",
   "execution_count": 131,
   "metadata": {},
   "outputs": [],
   "source": [
    "# Função para Gráfico de Barras\n",
    "\n",
    "def plot_forest_fires_state_max_month(df, months, title_graph):\n",
    "    \n",
    "    data = []\n",
    "    \n",
    "    for month in months:\n",
    "        dataTemp = df[df['month'] == month].groupby(['state']).agg(\n",
    "            {'number': 'sum'}).nlargest(3, 'number').reset_index()\n",
    "    \n",
    "    \n",
    "        graph= go.Bar(x = dataTemp['state'],\n",
    "                    y = dataTemp['number'],\n",
    "                    text = dataTemp['number'],\n",
    "                    textposition='auto',\n",
    "                    name = month\n",
    "                    )\n",
    "    \n",
    "    \n",
    "        data.append(graph)\n",
    "        \n",
    "\n",
    "    layout = go.Layout(title = title_graph,\n",
    "                      xaxis = {'title': 'Estado'},\n",
    "                      yaxis = {'title': 'Número de Focos de Calor'},\n",
    "                      height=600, \n",
    "                      width=1000,\n",
    "                      legend=dict(\n",
    "                        yanchor='top',\n",
    "                        y=0.98,\n",
    "                        xanchor='right',\n",
    "                        x=0.99,\n",
    "                        bgcolor='rgba(255, 255, 255, 0)'\n",
    "                      ))\n",
    "            \n",
    "    fig = go.Figure(data=data, layout=layout)\n",
    "    \n",
    "    return py.iplot(fig)"
   ]
  },
  {
   "cell_type": "code",
   "execution_count": 132,
   "metadata": {},
   "outputs": [
    {
     "data": {
      "application/vnd.plotly.v1+json": {
       "config": {
        "linkText": "Export to plot.ly",
        "plotlyServerURL": "https://plot.ly",
        "showLink": false
       },
       "data": [
        {
         "name": "Agosto",
         "text": [
          175719,
          168270,
          66451
         ],
         "textposition": "auto",
         "type": "bar",
         "x": [
          "Mato Grosso",
          "Pará",
          "Maranhão"
         ],
         "y": [
          175719,
          168270,
          66451
         ]
        },
        {
         "name": "Setembro",
         "text": [
          250612,
          160267,
          104203
         ],
         "textposition": "auto",
         "type": "bar",
         "x": [
          "Mato Grosso",
          "Pará",
          "Rondônia"
         ],
         "y": [
          250612,
          160267,
          104203
         ]
        },
        {
         "name": "Outubro",
         "text": [
          101121,
          99937,
          89628
         ],
         "textposition": "auto",
         "type": "bar",
         "x": [
          "Pará",
          "Mato Grosso",
          "Maranhão"
         ],
         "y": [
          101121,
          99937,
          89628
         ]
        }
       ],
       "layout": {
        "height": 600,
        "legend": {
         "bgcolor": "rgba(255, 255, 255, 0)",
         "x": 0.99,
         "xanchor": "right",
         "y": 0.98,
         "yanchor": "top"
        },
        "template": {
         "data": {
          "bar": [
           {
            "error_x": {
             "color": "#2a3f5f"
            },
            "error_y": {
             "color": "#2a3f5f"
            },
            "marker": {
             "line": {
              "color": "#E5ECF6",
              "width": 0.5
             }
            },
            "type": "bar"
           }
          ],
          "barpolar": [
           {
            "marker": {
             "line": {
              "color": "#E5ECF6",
              "width": 0.5
             }
            },
            "type": "barpolar"
           }
          ],
          "carpet": [
           {
            "aaxis": {
             "endlinecolor": "#2a3f5f",
             "gridcolor": "white",
             "linecolor": "white",
             "minorgridcolor": "white",
             "startlinecolor": "#2a3f5f"
            },
            "baxis": {
             "endlinecolor": "#2a3f5f",
             "gridcolor": "white",
             "linecolor": "white",
             "minorgridcolor": "white",
             "startlinecolor": "#2a3f5f"
            },
            "type": "carpet"
           }
          ],
          "choropleth": [
           {
            "colorbar": {
             "outlinewidth": 0,
             "ticks": ""
            },
            "type": "choropleth"
           }
          ],
          "contour": [
           {
            "colorbar": {
             "outlinewidth": 0,
             "ticks": ""
            },
            "colorscale": [
             [
              0,
              "#0d0887"
             ],
             [
              0.1111111111111111,
              "#46039f"
             ],
             [
              0.2222222222222222,
              "#7201a8"
             ],
             [
              0.3333333333333333,
              "#9c179e"
             ],
             [
              0.4444444444444444,
              "#bd3786"
             ],
             [
              0.5555555555555556,
              "#d8576b"
             ],
             [
              0.6666666666666666,
              "#ed7953"
             ],
             [
              0.7777777777777778,
              "#fb9f3a"
             ],
             [
              0.8888888888888888,
              "#fdca26"
             ],
             [
              1,
              "#f0f921"
             ]
            ],
            "type": "contour"
           }
          ],
          "contourcarpet": [
           {
            "colorbar": {
             "outlinewidth": 0,
             "ticks": ""
            },
            "type": "contourcarpet"
           }
          ],
          "heatmap": [
           {
            "colorbar": {
             "outlinewidth": 0,
             "ticks": ""
            },
            "colorscale": [
             [
              0,
              "#0d0887"
             ],
             [
              0.1111111111111111,
              "#46039f"
             ],
             [
              0.2222222222222222,
              "#7201a8"
             ],
             [
              0.3333333333333333,
              "#9c179e"
             ],
             [
              0.4444444444444444,
              "#bd3786"
             ],
             [
              0.5555555555555556,
              "#d8576b"
             ],
             [
              0.6666666666666666,
              "#ed7953"
             ],
             [
              0.7777777777777778,
              "#fb9f3a"
             ],
             [
              0.8888888888888888,
              "#fdca26"
             ],
             [
              1,
              "#f0f921"
             ]
            ],
            "type": "heatmap"
           }
          ],
          "heatmapgl": [
           {
            "colorbar": {
             "outlinewidth": 0,
             "ticks": ""
            },
            "colorscale": [
             [
              0,
              "#0d0887"
             ],
             [
              0.1111111111111111,
              "#46039f"
             ],
             [
              0.2222222222222222,
              "#7201a8"
             ],
             [
              0.3333333333333333,
              "#9c179e"
             ],
             [
              0.4444444444444444,
              "#bd3786"
             ],
             [
              0.5555555555555556,
              "#d8576b"
             ],
             [
              0.6666666666666666,
              "#ed7953"
             ],
             [
              0.7777777777777778,
              "#fb9f3a"
             ],
             [
              0.8888888888888888,
              "#fdca26"
             ],
             [
              1,
              "#f0f921"
             ]
            ],
            "type": "heatmapgl"
           }
          ],
          "histogram": [
           {
            "marker": {
             "colorbar": {
              "outlinewidth": 0,
              "ticks": ""
             }
            },
            "type": "histogram"
           }
          ],
          "histogram2d": [
           {
            "colorbar": {
             "outlinewidth": 0,
             "ticks": ""
            },
            "colorscale": [
             [
              0,
              "#0d0887"
             ],
             [
              0.1111111111111111,
              "#46039f"
             ],
             [
              0.2222222222222222,
              "#7201a8"
             ],
             [
              0.3333333333333333,
              "#9c179e"
             ],
             [
              0.4444444444444444,
              "#bd3786"
             ],
             [
              0.5555555555555556,
              "#d8576b"
             ],
             [
              0.6666666666666666,
              "#ed7953"
             ],
             [
              0.7777777777777778,
              "#fb9f3a"
             ],
             [
              0.8888888888888888,
              "#fdca26"
             ],
             [
              1,
              "#f0f921"
             ]
            ],
            "type": "histogram2d"
           }
          ],
          "histogram2dcontour": [
           {
            "colorbar": {
             "outlinewidth": 0,
             "ticks": ""
            },
            "colorscale": [
             [
              0,
              "#0d0887"
             ],
             [
              0.1111111111111111,
              "#46039f"
             ],
             [
              0.2222222222222222,
              "#7201a8"
             ],
             [
              0.3333333333333333,
              "#9c179e"
             ],
             [
              0.4444444444444444,
              "#bd3786"
             ],
             [
              0.5555555555555556,
              "#d8576b"
             ],
             [
              0.6666666666666666,
              "#ed7953"
             ],
             [
              0.7777777777777778,
              "#fb9f3a"
             ],
             [
              0.8888888888888888,
              "#fdca26"
             ],
             [
              1,
              "#f0f921"
             ]
            ],
            "type": "histogram2dcontour"
           }
          ],
          "mesh3d": [
           {
            "colorbar": {
             "outlinewidth": 0,
             "ticks": ""
            },
            "type": "mesh3d"
           }
          ],
          "parcoords": [
           {
            "line": {
             "colorbar": {
              "outlinewidth": 0,
              "ticks": ""
             }
            },
            "type": "parcoords"
           }
          ],
          "pie": [
           {
            "automargin": true,
            "type": "pie"
           }
          ],
          "scatter": [
           {
            "marker": {
             "colorbar": {
              "outlinewidth": 0,
              "ticks": ""
             }
            },
            "type": "scatter"
           }
          ],
          "scatter3d": [
           {
            "line": {
             "colorbar": {
              "outlinewidth": 0,
              "ticks": ""
             }
            },
            "marker": {
             "colorbar": {
              "outlinewidth": 0,
              "ticks": ""
             }
            },
            "type": "scatter3d"
           }
          ],
          "scattercarpet": [
           {
            "marker": {
             "colorbar": {
              "outlinewidth": 0,
              "ticks": ""
             }
            },
            "type": "scattercarpet"
           }
          ],
          "scattergeo": [
           {
            "marker": {
             "colorbar": {
              "outlinewidth": 0,
              "ticks": ""
             }
            },
            "type": "scattergeo"
           }
          ],
          "scattergl": [
           {
            "marker": {
             "colorbar": {
              "outlinewidth": 0,
              "ticks": ""
             }
            },
            "type": "scattergl"
           }
          ],
          "scattermapbox": [
           {
            "marker": {
             "colorbar": {
              "outlinewidth": 0,
              "ticks": ""
             }
            },
            "type": "scattermapbox"
           }
          ],
          "scatterpolar": [
           {
            "marker": {
             "colorbar": {
              "outlinewidth": 0,
              "ticks": ""
             }
            },
            "type": "scatterpolar"
           }
          ],
          "scatterpolargl": [
           {
            "marker": {
             "colorbar": {
              "outlinewidth": 0,
              "ticks": ""
             }
            },
            "type": "scatterpolargl"
           }
          ],
          "scatterternary": [
           {
            "marker": {
             "colorbar": {
              "outlinewidth": 0,
              "ticks": ""
             }
            },
            "type": "scatterternary"
           }
          ],
          "surface": [
           {
            "colorbar": {
             "outlinewidth": 0,
             "ticks": ""
            },
            "colorscale": [
             [
              0,
              "#0d0887"
             ],
             [
              0.1111111111111111,
              "#46039f"
             ],
             [
              0.2222222222222222,
              "#7201a8"
             ],
             [
              0.3333333333333333,
              "#9c179e"
             ],
             [
              0.4444444444444444,
              "#bd3786"
             ],
             [
              0.5555555555555556,
              "#d8576b"
             ],
             [
              0.6666666666666666,
              "#ed7953"
             ],
             [
              0.7777777777777778,
              "#fb9f3a"
             ],
             [
              0.8888888888888888,
              "#fdca26"
             ],
             [
              1,
              "#f0f921"
             ]
            ],
            "type": "surface"
           }
          ],
          "table": [
           {
            "cells": {
             "fill": {
              "color": "#EBF0F8"
             },
             "line": {
              "color": "white"
             }
            },
            "header": {
             "fill": {
              "color": "#C8D4E3"
             },
             "line": {
              "color": "white"
             }
            },
            "type": "table"
           }
          ]
         },
         "layout": {
          "annotationdefaults": {
           "arrowcolor": "#2a3f5f",
           "arrowhead": 0,
           "arrowwidth": 1
          },
          "coloraxis": {
           "colorbar": {
            "outlinewidth": 0,
            "ticks": ""
           }
          },
          "colorscale": {
           "diverging": [
            [
             0,
             "#8e0152"
            ],
            [
             0.1,
             "#c51b7d"
            ],
            [
             0.2,
             "#de77ae"
            ],
            [
             0.3,
             "#f1b6da"
            ],
            [
             0.4,
             "#fde0ef"
            ],
            [
             0.5,
             "#f7f7f7"
            ],
            [
             0.6,
             "#e6f5d0"
            ],
            [
             0.7,
             "#b8e186"
            ],
            [
             0.8,
             "#7fbc41"
            ],
            [
             0.9,
             "#4d9221"
            ],
            [
             1,
             "#276419"
            ]
           ],
           "sequential": [
            [
             0,
             "#0d0887"
            ],
            [
             0.1111111111111111,
             "#46039f"
            ],
            [
             0.2222222222222222,
             "#7201a8"
            ],
            [
             0.3333333333333333,
             "#9c179e"
            ],
            [
             0.4444444444444444,
             "#bd3786"
            ],
            [
             0.5555555555555556,
             "#d8576b"
            ],
            [
             0.6666666666666666,
             "#ed7953"
            ],
            [
             0.7777777777777778,
             "#fb9f3a"
            ],
            [
             0.8888888888888888,
             "#fdca26"
            ],
            [
             1,
             "#f0f921"
            ]
           ],
           "sequentialminus": [
            [
             0,
             "#0d0887"
            ],
            [
             0.1111111111111111,
             "#46039f"
            ],
            [
             0.2222222222222222,
             "#7201a8"
            ],
            [
             0.3333333333333333,
             "#9c179e"
            ],
            [
             0.4444444444444444,
             "#bd3786"
            ],
            [
             0.5555555555555556,
             "#d8576b"
            ],
            [
             0.6666666666666666,
             "#ed7953"
            ],
            [
             0.7777777777777778,
             "#fb9f3a"
            ],
            [
             0.8888888888888888,
             "#fdca26"
            ],
            [
             1,
             "#f0f921"
            ]
           ]
          },
          "colorway": [
           "#636efa",
           "#EF553B",
           "#00cc96",
           "#ab63fa",
           "#FFA15A",
           "#19d3f3",
           "#FF6692",
           "#B6E880",
           "#FF97FF",
           "#FECB52"
          ],
          "font": {
           "color": "#2a3f5f"
          },
          "geo": {
           "bgcolor": "white",
           "lakecolor": "white",
           "landcolor": "#E5ECF6",
           "showlakes": true,
           "showland": true,
           "subunitcolor": "white"
          },
          "hoverlabel": {
           "align": "left"
          },
          "hovermode": "closest",
          "mapbox": {
           "style": "light"
          },
          "paper_bgcolor": "white",
          "plot_bgcolor": "#E5ECF6",
          "polar": {
           "angularaxis": {
            "gridcolor": "white",
            "linecolor": "white",
            "ticks": ""
           },
           "bgcolor": "#E5ECF6",
           "radialaxis": {
            "gridcolor": "white",
            "linecolor": "white",
            "ticks": ""
           }
          },
          "scene": {
           "xaxis": {
            "backgroundcolor": "#E5ECF6",
            "gridcolor": "white",
            "gridwidth": 2,
            "linecolor": "white",
            "showbackground": true,
            "ticks": "",
            "zerolinecolor": "white"
           },
           "yaxis": {
            "backgroundcolor": "#E5ECF6",
            "gridcolor": "white",
            "gridwidth": 2,
            "linecolor": "white",
            "showbackground": true,
            "ticks": "",
            "zerolinecolor": "white"
           },
           "zaxis": {
            "backgroundcolor": "#E5ECF6",
            "gridcolor": "white",
            "gridwidth": 2,
            "linecolor": "white",
            "showbackground": true,
            "ticks": "",
            "zerolinecolor": "white"
           }
          },
          "shapedefaults": {
           "line": {
            "color": "#2a3f5f"
           }
          },
          "ternary": {
           "aaxis": {
            "gridcolor": "white",
            "linecolor": "white",
            "ticks": ""
           },
           "baxis": {
            "gridcolor": "white",
            "linecolor": "white",
            "ticks": ""
           },
           "bgcolor": "#E5ECF6",
           "caxis": {
            "gridcolor": "white",
            "linecolor": "white",
            "ticks": ""
           }
          },
          "title": {
           "x": 0.05
          },
          "xaxis": {
           "automargin": true,
           "gridcolor": "white",
           "linecolor": "white",
           "ticks": "",
           "title": {
            "standoff": 15
           },
           "zerolinecolor": "white",
           "zerolinewidth": 2
          },
          "yaxis": {
           "automargin": true,
           "gridcolor": "white",
           "linecolor": "white",
           "ticks": "",
           "title": {
            "standoff": 15
           },
           "zerolinecolor": "white",
           "zerolinewidth": 2
          }
         }
        },
        "title": {
         "text": "Estados com Maiores Focos de Calor em Agosto, Setembro e Outubro"
        },
        "width": 1000,
        "xaxis": {
         "title": {
          "text": "Estado"
         }
        },
        "yaxis": {
         "title": {
          "text": "Número de Focos de Calor"
         }
        }
       }
      },
      "text/html": [
       "<div>                            <div id=\"da642a20-01bd-4def-b130-3b1e5bc4b1af\" class=\"plotly-graph-div\" style=\"height:600px; width:1000px;\"></div>            <script type=\"text/javascript\">                require([\"plotly\"], function(Plotly) {                    window.PLOTLYENV=window.PLOTLYENV || {};                                    if (document.getElementById(\"da642a20-01bd-4def-b130-3b1e5bc4b1af\")) {                    Plotly.newPlot(                        \"da642a20-01bd-4def-b130-3b1e5bc4b1af\",                        [{\"name\": \"Agosto\", \"text\": [175719.0, 168270.0, 66451.0], \"textposition\": \"auto\", \"type\": \"bar\", \"x\": [\"Mato Grosso\", \"Par\\u00e1\", \"Maranh\\u00e3o\"], \"y\": [175719, 168270, 66451]}, {\"name\": \"Setembro\", \"text\": [250612.0, 160267.0, 104203.0], \"textposition\": \"auto\", \"type\": \"bar\", \"x\": [\"Mato Grosso\", \"Par\\u00e1\", \"Rond\\u00f4nia\"], \"y\": [250612, 160267, 104203]}, {\"name\": \"Outubro\", \"text\": [101121.0, 99937.0, 89628.0], \"textposition\": \"auto\", \"type\": \"bar\", \"x\": [\"Par\\u00e1\", \"Mato Grosso\", \"Maranh\\u00e3o\"], \"y\": [101121, 99937, 89628]}],                        {\"height\": 600, \"legend\": {\"bgcolor\": \"rgba(255, 255, 255, 0)\", \"x\": 0.99, \"xanchor\": \"right\", \"y\": 0.98, \"yanchor\": \"top\"}, \"template\": {\"data\": {\"bar\": [{\"error_x\": {\"color\": \"#2a3f5f\"}, \"error_y\": {\"color\": \"#2a3f5f\"}, \"marker\": {\"line\": {\"color\": \"#E5ECF6\", \"width\": 0.5}}, \"type\": \"bar\"}], \"barpolar\": [{\"marker\": {\"line\": {\"color\": \"#E5ECF6\", \"width\": 0.5}}, \"type\": \"barpolar\"}], \"carpet\": [{\"aaxis\": {\"endlinecolor\": \"#2a3f5f\", \"gridcolor\": \"white\", \"linecolor\": \"white\", \"minorgridcolor\": \"white\", \"startlinecolor\": \"#2a3f5f\"}, \"baxis\": {\"endlinecolor\": \"#2a3f5f\", \"gridcolor\": \"white\", \"linecolor\": \"white\", \"minorgridcolor\": \"white\", \"startlinecolor\": \"#2a3f5f\"}, \"type\": \"carpet\"}], \"choropleth\": [{\"colorbar\": {\"outlinewidth\": 0, \"ticks\": \"\"}, \"type\": \"choropleth\"}], \"contour\": [{\"colorbar\": {\"outlinewidth\": 0, \"ticks\": \"\"}, \"colorscale\": [[0.0, \"#0d0887\"], [0.1111111111111111, \"#46039f\"], [0.2222222222222222, \"#7201a8\"], [0.3333333333333333, \"#9c179e\"], [0.4444444444444444, \"#bd3786\"], [0.5555555555555556, \"#d8576b\"], [0.6666666666666666, \"#ed7953\"], [0.7777777777777778, \"#fb9f3a\"], [0.8888888888888888, \"#fdca26\"], [1.0, \"#f0f921\"]], \"type\": \"contour\"}], \"contourcarpet\": [{\"colorbar\": {\"outlinewidth\": 0, \"ticks\": \"\"}, \"type\": \"contourcarpet\"}], \"heatmap\": [{\"colorbar\": {\"outlinewidth\": 0, \"ticks\": \"\"}, \"colorscale\": [[0.0, \"#0d0887\"], [0.1111111111111111, \"#46039f\"], [0.2222222222222222, \"#7201a8\"], [0.3333333333333333, \"#9c179e\"], [0.4444444444444444, \"#bd3786\"], [0.5555555555555556, \"#d8576b\"], [0.6666666666666666, \"#ed7953\"], [0.7777777777777778, \"#fb9f3a\"], [0.8888888888888888, \"#fdca26\"], [1.0, \"#f0f921\"]], \"type\": \"heatmap\"}], \"heatmapgl\": [{\"colorbar\": {\"outlinewidth\": 0, \"ticks\": \"\"}, \"colorscale\": [[0.0, \"#0d0887\"], [0.1111111111111111, \"#46039f\"], [0.2222222222222222, \"#7201a8\"], [0.3333333333333333, \"#9c179e\"], [0.4444444444444444, \"#bd3786\"], [0.5555555555555556, \"#d8576b\"], [0.6666666666666666, \"#ed7953\"], [0.7777777777777778, \"#fb9f3a\"], [0.8888888888888888, \"#fdca26\"], [1.0, \"#f0f921\"]], \"type\": \"heatmapgl\"}], \"histogram\": [{\"marker\": {\"colorbar\": {\"outlinewidth\": 0, \"ticks\": \"\"}}, \"type\": \"histogram\"}], \"histogram2d\": [{\"colorbar\": {\"outlinewidth\": 0, \"ticks\": \"\"}, \"colorscale\": [[0.0, \"#0d0887\"], [0.1111111111111111, \"#46039f\"], [0.2222222222222222, \"#7201a8\"], [0.3333333333333333, \"#9c179e\"], [0.4444444444444444, \"#bd3786\"], [0.5555555555555556, \"#d8576b\"], [0.6666666666666666, \"#ed7953\"], [0.7777777777777778, \"#fb9f3a\"], [0.8888888888888888, \"#fdca26\"], [1.0, \"#f0f921\"]], \"type\": \"histogram2d\"}], \"histogram2dcontour\": [{\"colorbar\": {\"outlinewidth\": 0, \"ticks\": \"\"}, \"colorscale\": [[0.0, \"#0d0887\"], [0.1111111111111111, \"#46039f\"], [0.2222222222222222, \"#7201a8\"], [0.3333333333333333, \"#9c179e\"], [0.4444444444444444, \"#bd3786\"], [0.5555555555555556, \"#d8576b\"], [0.6666666666666666, \"#ed7953\"], [0.7777777777777778, \"#fb9f3a\"], [0.8888888888888888, \"#fdca26\"], [1.0, \"#f0f921\"]], \"type\": \"histogram2dcontour\"}], \"mesh3d\": [{\"colorbar\": {\"outlinewidth\": 0, \"ticks\": \"\"}, \"type\": \"mesh3d\"}], \"parcoords\": [{\"line\": {\"colorbar\": {\"outlinewidth\": 0, \"ticks\": \"\"}}, \"type\": \"parcoords\"}], \"pie\": [{\"automargin\": true, \"type\": \"pie\"}], \"scatter\": [{\"marker\": {\"colorbar\": {\"outlinewidth\": 0, \"ticks\": \"\"}}, \"type\": \"scatter\"}], \"scatter3d\": [{\"line\": {\"colorbar\": {\"outlinewidth\": 0, \"ticks\": \"\"}}, \"marker\": {\"colorbar\": {\"outlinewidth\": 0, \"ticks\": \"\"}}, \"type\": \"scatter3d\"}], \"scattercarpet\": [{\"marker\": {\"colorbar\": {\"outlinewidth\": 0, \"ticks\": \"\"}}, \"type\": \"scattercarpet\"}], \"scattergeo\": [{\"marker\": {\"colorbar\": {\"outlinewidth\": 0, \"ticks\": \"\"}}, \"type\": \"scattergeo\"}], \"scattergl\": [{\"marker\": {\"colorbar\": {\"outlinewidth\": 0, \"ticks\": \"\"}}, \"type\": \"scattergl\"}], \"scattermapbox\": [{\"marker\": {\"colorbar\": {\"outlinewidth\": 0, \"ticks\": \"\"}}, \"type\": \"scattermapbox\"}], \"scatterpolar\": [{\"marker\": {\"colorbar\": {\"outlinewidth\": 0, \"ticks\": \"\"}}, \"type\": \"scatterpolar\"}], \"scatterpolargl\": [{\"marker\": {\"colorbar\": {\"outlinewidth\": 0, \"ticks\": \"\"}}, \"type\": \"scatterpolargl\"}], \"scatterternary\": [{\"marker\": {\"colorbar\": {\"outlinewidth\": 0, \"ticks\": \"\"}}, \"type\": \"scatterternary\"}], \"surface\": [{\"colorbar\": {\"outlinewidth\": 0, \"ticks\": \"\"}, \"colorscale\": [[0.0, \"#0d0887\"], [0.1111111111111111, \"#46039f\"], [0.2222222222222222, \"#7201a8\"], [0.3333333333333333, \"#9c179e\"], [0.4444444444444444, \"#bd3786\"], [0.5555555555555556, \"#d8576b\"], [0.6666666666666666, \"#ed7953\"], [0.7777777777777778, \"#fb9f3a\"], [0.8888888888888888, \"#fdca26\"], [1.0, \"#f0f921\"]], \"type\": \"surface\"}], \"table\": [{\"cells\": {\"fill\": {\"color\": \"#EBF0F8\"}, \"line\": {\"color\": \"white\"}}, \"header\": {\"fill\": {\"color\": \"#C8D4E3\"}, \"line\": {\"color\": \"white\"}}, \"type\": \"table\"}]}, \"layout\": {\"annotationdefaults\": {\"arrowcolor\": \"#2a3f5f\", \"arrowhead\": 0, \"arrowwidth\": 1}, \"coloraxis\": {\"colorbar\": {\"outlinewidth\": 0, \"ticks\": \"\"}}, \"colorscale\": {\"diverging\": [[0, \"#8e0152\"], [0.1, \"#c51b7d\"], [0.2, \"#de77ae\"], [0.3, \"#f1b6da\"], [0.4, \"#fde0ef\"], [0.5, \"#f7f7f7\"], [0.6, \"#e6f5d0\"], [0.7, \"#b8e186\"], [0.8, \"#7fbc41\"], [0.9, \"#4d9221\"], [1, \"#276419\"]], \"sequential\": [[0.0, \"#0d0887\"], [0.1111111111111111, \"#46039f\"], [0.2222222222222222, \"#7201a8\"], [0.3333333333333333, \"#9c179e\"], [0.4444444444444444, \"#bd3786\"], [0.5555555555555556, \"#d8576b\"], [0.6666666666666666, \"#ed7953\"], [0.7777777777777778, \"#fb9f3a\"], [0.8888888888888888, \"#fdca26\"], [1.0, \"#f0f921\"]], \"sequentialminus\": [[0.0, \"#0d0887\"], [0.1111111111111111, \"#46039f\"], [0.2222222222222222, \"#7201a8\"], [0.3333333333333333, \"#9c179e\"], [0.4444444444444444, \"#bd3786\"], [0.5555555555555556, \"#d8576b\"], [0.6666666666666666, \"#ed7953\"], [0.7777777777777778, \"#fb9f3a\"], [0.8888888888888888, \"#fdca26\"], [1.0, \"#f0f921\"]]}, \"colorway\": [\"#636efa\", \"#EF553B\", \"#00cc96\", \"#ab63fa\", \"#FFA15A\", \"#19d3f3\", \"#FF6692\", \"#B6E880\", \"#FF97FF\", \"#FECB52\"], \"font\": {\"color\": \"#2a3f5f\"}, \"geo\": {\"bgcolor\": \"white\", \"lakecolor\": \"white\", \"landcolor\": \"#E5ECF6\", \"showlakes\": true, \"showland\": true, \"subunitcolor\": \"white\"}, \"hoverlabel\": {\"align\": \"left\"}, \"hovermode\": \"closest\", \"mapbox\": {\"style\": \"light\"}, \"paper_bgcolor\": \"white\", \"plot_bgcolor\": \"#E5ECF6\", \"polar\": {\"angularaxis\": {\"gridcolor\": \"white\", \"linecolor\": \"white\", \"ticks\": \"\"}, \"bgcolor\": \"#E5ECF6\", \"radialaxis\": {\"gridcolor\": \"white\", \"linecolor\": \"white\", \"ticks\": \"\"}}, \"scene\": {\"xaxis\": {\"backgroundcolor\": \"#E5ECF6\", \"gridcolor\": \"white\", \"gridwidth\": 2, \"linecolor\": \"white\", \"showbackground\": true, \"ticks\": \"\", \"zerolinecolor\": \"white\"}, \"yaxis\": {\"backgroundcolor\": \"#E5ECF6\", \"gridcolor\": \"white\", \"gridwidth\": 2, \"linecolor\": \"white\", \"showbackground\": true, \"ticks\": \"\", \"zerolinecolor\": \"white\"}, \"zaxis\": {\"backgroundcolor\": \"#E5ECF6\", \"gridcolor\": \"white\", \"gridwidth\": 2, \"linecolor\": \"white\", \"showbackground\": true, \"ticks\": \"\", \"zerolinecolor\": \"white\"}}, \"shapedefaults\": {\"line\": {\"color\": \"#2a3f5f\"}}, \"ternary\": {\"aaxis\": {\"gridcolor\": \"white\", \"linecolor\": \"white\", \"ticks\": \"\"}, \"baxis\": {\"gridcolor\": \"white\", \"linecolor\": \"white\", \"ticks\": \"\"}, \"bgcolor\": \"#E5ECF6\", \"caxis\": {\"gridcolor\": \"white\", \"linecolor\": \"white\", \"ticks\": \"\"}}, \"title\": {\"x\": 0.05}, \"xaxis\": {\"automargin\": true, \"gridcolor\": \"white\", \"linecolor\": \"white\", \"ticks\": \"\", \"title\": {\"standoff\": 15}, \"zerolinecolor\": \"white\", \"zerolinewidth\": 2}, \"yaxis\": {\"automargin\": true, \"gridcolor\": \"white\", \"linecolor\": \"white\", \"ticks\": \"\", \"title\": {\"standoff\": 15}, \"zerolinecolor\": \"white\", \"zerolinewidth\": 2}}}, \"title\": {\"text\": \"Estados com Maiores Focos de Calor em Agosto, Setembro e Outubro\"}, \"width\": 1000, \"xaxis\": {\"title\": {\"text\": \"Estado\"}}, \"yaxis\": {\"title\": {\"text\": \"N\\u00famero de Focos de Calor\"}}},                        {\"responsive\": true}                    ).then(function(){\n",
       "                            \n",
       "var gd = document.getElementById('da642a20-01bd-4def-b130-3b1e5bc4b1af');\n",
       "var x = new MutationObserver(function (mutations, observer) {{\n",
       "        var display = window.getComputedStyle(gd).display;\n",
       "        if (!display || display === 'none') {{\n",
       "            console.log([gd, 'removed!']);\n",
       "            Plotly.purge(gd);\n",
       "            observer.disconnect();\n",
       "        }}\n",
       "}});\n",
       "\n",
       "// Listen for the removal of the full notebook cells\n",
       "var notebookContainer = gd.closest('#notebook-container');\n",
       "if (notebookContainer) {{\n",
       "    x.observe(notebookContainer, {childList: true});\n",
       "}}\n",
       "\n",
       "// Listen for the clearing of the current output cell\n",
       "var outputEl = gd.closest('.output');\n",
       "if (outputEl) {{\n",
       "    x.observe(outputEl, {childList: true});\n",
       "}}\n",
       "\n",
       "                        })                };                });            </script>        </div>"
      ]
     },
     "metadata": {},
     "output_type": "display_data"
    }
   ],
   "source": [
    "# Gráfico de barras dos Estados com Maiores Focos de Calor em Agosto, Setembro e Outubro\n",
    "title = 'Estados com Maiores Focos de Calor em Agosto, Setembro e Outubro'\n",
    "plot_forest_fires_state_max_month(base, ['Agosto', 'Setembro', 'Outubro'], title )"
   ]
  },
  {
   "cell_type": "code",
   "execution_count": 112,
   "metadata": {},
   "outputs": [
    {
     "data": {
      "application/vnd.plotly.v1+json": {
       "config": {
        "linkText": "Export to plot.ly",
        "plotlyServerURL": "https://plot.ly",
        "showLink": false
       },
       "data": [
        {
         "marker": {
          "color": "rgb(255, 65, 54)",
          "line": {
           "width": 2
          },
          "size": [
           70.42,
           1.59,
           14.65,
           147.98,
           82.49,
           25.55,
           4.1,
           2.34,
           87.05,
           309.16,
           436.07,
           73.36,
           114.73,
           44.63,
           2.94,
           597.71,
           5.22,
           94.78,
           2.99,
           25.75,
           13.97,
           140.84,
           11.01,
           23.54,
           0.75,
           54.06,
           223.17
          ],
          "sizemin": 4,
          "sizemode": "area"
         },
         "mode": "markers",
         "type": "scatter",
         "x": [
          "Acre",
          "Alagoas",
          "Amapá",
          "Amazonas",
          "Bahia",
          "Ceará",
          "Distrito Federal",
          "Espírito Santo",
          "Goiás",
          "Maranhão",
          "Mato Grosso",
          "Mato Grosso do Sul",
          "Minas Gerais",
          "Paraná",
          "Paraíba",
          "Pará",
          "Pernambuco",
          "Piauí",
          "Rio Grande do Norte",
          "Rio Grande do Sul",
          "Rio de Janeiro",
          "Rondônia",
          "Roraima",
          "Santa Catarina",
          "Sergipe",
          "São Paulo",
          "Tocantins"
         ],
         "y": [
          7042,
          159,
          1465,
          14798,
          8249,
          2555,
          410,
          234,
          8705,
          30916,
          43607,
          7336,
          11473,
          4463,
          294,
          59771,
          522,
          9478,
          299,
          2575,
          1397,
          14084,
          1101,
          2354,
          75,
          5406,
          22317
         ]
        }
       ],
       "layout": {
        "height": 600,
        "template": {
         "data": {
          "bar": [
           {
            "error_x": {
             "color": "#2a3f5f"
            },
            "error_y": {
             "color": "#2a3f5f"
            },
            "marker": {
             "line": {
              "color": "#E5ECF6",
              "width": 0.5
             }
            },
            "type": "bar"
           }
          ],
          "barpolar": [
           {
            "marker": {
             "line": {
              "color": "#E5ECF6",
              "width": 0.5
             }
            },
            "type": "barpolar"
           }
          ],
          "carpet": [
           {
            "aaxis": {
             "endlinecolor": "#2a3f5f",
             "gridcolor": "white",
             "linecolor": "white",
             "minorgridcolor": "white",
             "startlinecolor": "#2a3f5f"
            },
            "baxis": {
             "endlinecolor": "#2a3f5f",
             "gridcolor": "white",
             "linecolor": "white",
             "minorgridcolor": "white",
             "startlinecolor": "#2a3f5f"
            },
            "type": "carpet"
           }
          ],
          "choropleth": [
           {
            "colorbar": {
             "outlinewidth": 0,
             "ticks": ""
            },
            "type": "choropleth"
           }
          ],
          "contour": [
           {
            "colorbar": {
             "outlinewidth": 0,
             "ticks": ""
            },
            "colorscale": [
             [
              0,
              "#0d0887"
             ],
             [
              0.1111111111111111,
              "#46039f"
             ],
             [
              0.2222222222222222,
              "#7201a8"
             ],
             [
              0.3333333333333333,
              "#9c179e"
             ],
             [
              0.4444444444444444,
              "#bd3786"
             ],
             [
              0.5555555555555556,
              "#d8576b"
             ],
             [
              0.6666666666666666,
              "#ed7953"
             ],
             [
              0.7777777777777778,
              "#fb9f3a"
             ],
             [
              0.8888888888888888,
              "#fdca26"
             ],
             [
              1,
              "#f0f921"
             ]
            ],
            "type": "contour"
           }
          ],
          "contourcarpet": [
           {
            "colorbar": {
             "outlinewidth": 0,
             "ticks": ""
            },
            "type": "contourcarpet"
           }
          ],
          "heatmap": [
           {
            "colorbar": {
             "outlinewidth": 0,
             "ticks": ""
            },
            "colorscale": [
             [
              0,
              "#0d0887"
             ],
             [
              0.1111111111111111,
              "#46039f"
             ],
             [
              0.2222222222222222,
              "#7201a8"
             ],
             [
              0.3333333333333333,
              "#9c179e"
             ],
             [
              0.4444444444444444,
              "#bd3786"
             ],
             [
              0.5555555555555556,
              "#d8576b"
             ],
             [
              0.6666666666666666,
              "#ed7953"
             ],
             [
              0.7777777777777778,
              "#fb9f3a"
             ],
             [
              0.8888888888888888,
              "#fdca26"
             ],
             [
              1,
              "#f0f921"
             ]
            ],
            "type": "heatmap"
           }
          ],
          "heatmapgl": [
           {
            "colorbar": {
             "outlinewidth": 0,
             "ticks": ""
            },
            "colorscale": [
             [
              0,
              "#0d0887"
             ],
             [
              0.1111111111111111,
              "#46039f"
             ],
             [
              0.2222222222222222,
              "#7201a8"
             ],
             [
              0.3333333333333333,
              "#9c179e"
             ],
             [
              0.4444444444444444,
              "#bd3786"
             ],
             [
              0.5555555555555556,
              "#d8576b"
             ],
             [
              0.6666666666666666,
              "#ed7953"
             ],
             [
              0.7777777777777778,
              "#fb9f3a"
             ],
             [
              0.8888888888888888,
              "#fdca26"
             ],
             [
              1,
              "#f0f921"
             ]
            ],
            "type": "heatmapgl"
           }
          ],
          "histogram": [
           {
            "marker": {
             "colorbar": {
              "outlinewidth": 0,
              "ticks": ""
             }
            },
            "type": "histogram"
           }
          ],
          "histogram2d": [
           {
            "colorbar": {
             "outlinewidth": 0,
             "ticks": ""
            },
            "colorscale": [
             [
              0,
              "#0d0887"
             ],
             [
              0.1111111111111111,
              "#46039f"
             ],
             [
              0.2222222222222222,
              "#7201a8"
             ],
             [
              0.3333333333333333,
              "#9c179e"
             ],
             [
              0.4444444444444444,
              "#bd3786"
             ],
             [
              0.5555555555555556,
              "#d8576b"
             ],
             [
              0.6666666666666666,
              "#ed7953"
             ],
             [
              0.7777777777777778,
              "#fb9f3a"
             ],
             [
              0.8888888888888888,
              "#fdca26"
             ],
             [
              1,
              "#f0f921"
             ]
            ],
            "type": "histogram2d"
           }
          ],
          "histogram2dcontour": [
           {
            "colorbar": {
             "outlinewidth": 0,
             "ticks": ""
            },
            "colorscale": [
             [
              0,
              "#0d0887"
             ],
             [
              0.1111111111111111,
              "#46039f"
             ],
             [
              0.2222222222222222,
              "#7201a8"
             ],
             [
              0.3333333333333333,
              "#9c179e"
             ],
             [
              0.4444444444444444,
              "#bd3786"
             ],
             [
              0.5555555555555556,
              "#d8576b"
             ],
             [
              0.6666666666666666,
              "#ed7953"
             ],
             [
              0.7777777777777778,
              "#fb9f3a"
             ],
             [
              0.8888888888888888,
              "#fdca26"
             ],
             [
              1,
              "#f0f921"
             ]
            ],
            "type": "histogram2dcontour"
           }
          ],
          "mesh3d": [
           {
            "colorbar": {
             "outlinewidth": 0,
             "ticks": ""
            },
            "type": "mesh3d"
           }
          ],
          "parcoords": [
           {
            "line": {
             "colorbar": {
              "outlinewidth": 0,
              "ticks": ""
             }
            },
            "type": "parcoords"
           }
          ],
          "pie": [
           {
            "automargin": true,
            "type": "pie"
           }
          ],
          "scatter": [
           {
            "marker": {
             "colorbar": {
              "outlinewidth": 0,
              "ticks": ""
             }
            },
            "type": "scatter"
           }
          ],
          "scatter3d": [
           {
            "line": {
             "colorbar": {
              "outlinewidth": 0,
              "ticks": ""
             }
            },
            "marker": {
             "colorbar": {
              "outlinewidth": 0,
              "ticks": ""
             }
            },
            "type": "scatter3d"
           }
          ],
          "scattercarpet": [
           {
            "marker": {
             "colorbar": {
              "outlinewidth": 0,
              "ticks": ""
             }
            },
            "type": "scattercarpet"
           }
          ],
          "scattergeo": [
           {
            "marker": {
             "colorbar": {
              "outlinewidth": 0,
              "ticks": ""
             }
            },
            "type": "scattergeo"
           }
          ],
          "scattergl": [
           {
            "marker": {
             "colorbar": {
              "outlinewidth": 0,
              "ticks": ""
             }
            },
            "type": "scattergl"
           }
          ],
          "scattermapbox": [
           {
            "marker": {
             "colorbar": {
              "outlinewidth": 0,
              "ticks": ""
             }
            },
            "type": "scattermapbox"
           }
          ],
          "scatterpolar": [
           {
            "marker": {
             "colorbar": {
              "outlinewidth": 0,
              "ticks": ""
             }
            },
            "type": "scatterpolar"
           }
          ],
          "scatterpolargl": [
           {
            "marker": {
             "colorbar": {
              "outlinewidth": 0,
              "ticks": ""
             }
            },
            "type": "scatterpolargl"
           }
          ],
          "scatterternary": [
           {
            "marker": {
             "colorbar": {
              "outlinewidth": 0,
              "ticks": ""
             }
            },
            "type": "scatterternary"
           }
          ],
          "surface": [
           {
            "colorbar": {
             "outlinewidth": 0,
             "ticks": ""
            },
            "colorscale": [
             [
              0,
              "#0d0887"
             ],
             [
              0.1111111111111111,
              "#46039f"
             ],
             [
              0.2222222222222222,
              "#7201a8"
             ],
             [
              0.3333333333333333,
              "#9c179e"
             ],
             [
              0.4444444444444444,
              "#bd3786"
             ],
             [
              0.5555555555555556,
              "#d8576b"
             ],
             [
              0.6666666666666666,
              "#ed7953"
             ],
             [
              0.7777777777777778,
              "#fb9f3a"
             ],
             [
              0.8888888888888888,
              "#fdca26"
             ],
             [
              1,
              "#f0f921"
             ]
            ],
            "type": "surface"
           }
          ],
          "table": [
           {
            "cells": {
             "fill": {
              "color": "#EBF0F8"
             },
             "line": {
              "color": "white"
             }
            },
            "header": {
             "fill": {
              "color": "#C8D4E3"
             },
             "line": {
              "color": "white"
             }
            },
            "type": "table"
           }
          ]
         },
         "layout": {
          "annotationdefaults": {
           "arrowcolor": "#2a3f5f",
           "arrowhead": 0,
           "arrowwidth": 1
          },
          "coloraxis": {
           "colorbar": {
            "outlinewidth": 0,
            "ticks": ""
           }
          },
          "colorscale": {
           "diverging": [
            [
             0,
             "#8e0152"
            ],
            [
             0.1,
             "#c51b7d"
            ],
            [
             0.2,
             "#de77ae"
            ],
            [
             0.3,
             "#f1b6da"
            ],
            [
             0.4,
             "#fde0ef"
            ],
            [
             0.5,
             "#f7f7f7"
            ],
            [
             0.6,
             "#e6f5d0"
            ],
            [
             0.7,
             "#b8e186"
            ],
            [
             0.8,
             "#7fbc41"
            ],
            [
             0.9,
             "#4d9221"
            ],
            [
             1,
             "#276419"
            ]
           ],
           "sequential": [
            [
             0,
             "#0d0887"
            ],
            [
             0.1111111111111111,
             "#46039f"
            ],
            [
             0.2222222222222222,
             "#7201a8"
            ],
            [
             0.3333333333333333,
             "#9c179e"
            ],
            [
             0.4444444444444444,
             "#bd3786"
            ],
            [
             0.5555555555555556,
             "#d8576b"
            ],
            [
             0.6666666666666666,
             "#ed7953"
            ],
            [
             0.7777777777777778,
             "#fb9f3a"
            ],
            [
             0.8888888888888888,
             "#fdca26"
            ],
            [
             1,
             "#f0f921"
            ]
           ],
           "sequentialminus": [
            [
             0,
             "#0d0887"
            ],
            [
             0.1111111111111111,
             "#46039f"
            ],
            [
             0.2222222222222222,
             "#7201a8"
            ],
            [
             0.3333333333333333,
             "#9c179e"
            ],
            [
             0.4444444444444444,
             "#bd3786"
            ],
            [
             0.5555555555555556,
             "#d8576b"
            ],
            [
             0.6666666666666666,
             "#ed7953"
            ],
            [
             0.7777777777777778,
             "#fb9f3a"
            ],
            [
             0.8888888888888888,
             "#fdca26"
            ],
            [
             1,
             "#f0f921"
            ]
           ]
          },
          "colorway": [
           "#636efa",
           "#EF553B",
           "#00cc96",
           "#ab63fa",
           "#FFA15A",
           "#19d3f3",
           "#FF6692",
           "#B6E880",
           "#FF97FF",
           "#FECB52"
          ],
          "font": {
           "color": "#2a3f5f"
          },
          "geo": {
           "bgcolor": "white",
           "lakecolor": "white",
           "landcolor": "#E5ECF6",
           "showlakes": true,
           "showland": true,
           "subunitcolor": "white"
          },
          "hoverlabel": {
           "align": "left"
          },
          "hovermode": "closest",
          "mapbox": {
           "style": "light"
          },
          "paper_bgcolor": "white",
          "plot_bgcolor": "#E5ECF6",
          "polar": {
           "angularaxis": {
            "gridcolor": "white",
            "linecolor": "white",
            "ticks": ""
           },
           "bgcolor": "#E5ECF6",
           "radialaxis": {
            "gridcolor": "white",
            "linecolor": "white",
            "ticks": ""
           }
          },
          "scene": {
           "xaxis": {
            "backgroundcolor": "#E5ECF6",
            "gridcolor": "white",
            "gridwidth": 2,
            "linecolor": "white",
            "showbackground": true,
            "ticks": "",
            "zerolinecolor": "white"
           },
           "yaxis": {
            "backgroundcolor": "#E5ECF6",
            "gridcolor": "white",
            "gridwidth": 2,
            "linecolor": "white",
            "showbackground": true,
            "ticks": "",
            "zerolinecolor": "white"
           },
           "zaxis": {
            "backgroundcolor": "#E5ECF6",
            "gridcolor": "white",
            "gridwidth": 2,
            "linecolor": "white",
            "showbackground": true,
            "ticks": "",
            "zerolinecolor": "white"
           }
          },
          "shapedefaults": {
           "line": {
            "color": "#2a3f5f"
           }
          },
          "ternary": {
           "aaxis": {
            "gridcolor": "white",
            "linecolor": "white",
            "ticks": ""
           },
           "baxis": {
            "gridcolor": "white",
            "linecolor": "white",
            "ticks": ""
           },
           "bgcolor": "#E5ECF6",
           "caxis": {
            "gridcolor": "white",
            "linecolor": "white",
            "ticks": ""
           }
          },
          "title": {
           "x": 0.05
          },
          "xaxis": {
           "automargin": true,
           "gridcolor": "white",
           "linecolor": "white",
           "ticks": "",
           "title": {
            "standoff": 15
           },
           "zerolinecolor": "white",
           "zerolinewidth": 2
          },
          "yaxis": {
           "automargin": true,
           "gridcolor": "white",
           "linecolor": "white",
           "ticks": "",
           "title": {
            "standoff": 15
           },
           "zerolinecolor": "white",
           "zerolinewidth": 2
          }
         }
        },
        "title": {
         "text": "Número de Focos de Calor por Estado - 2017"
        },
        "width": 1000,
        "xaxis": {
         "title": {
          "text": "Estado"
         }
        },
        "yaxis": {
         "title": {
          "text": "Número de Focos de Calor"
         }
        }
       }
      },
      "text/html": [
       "<div>                            <div id=\"b974bbe8-1f37-4e5e-b93f-b6d5c5fed4c5\" class=\"plotly-graph-div\" style=\"height:600px; width:1000px;\"></div>            <script type=\"text/javascript\">                require([\"plotly\"], function(Plotly) {                    window.PLOTLYENV=window.PLOTLYENV || {};                                    if (document.getElementById(\"b974bbe8-1f37-4e5e-b93f-b6d5c5fed4c5\")) {                    Plotly.newPlot(                        \"b974bbe8-1f37-4e5e-b93f-b6d5c5fed4c5\",                        [{\"marker\": {\"color\": \"rgb(255, 65, 54)\", \"line\": {\"width\": 2}, \"size\": [70.42, 1.59, 14.65, 147.98, 82.49, 25.55, 4.1, 2.34, 87.05, 309.16, 436.07, 73.36, 114.73, 44.63, 2.94, 597.71, 5.22, 94.78, 2.99, 25.75, 13.97, 140.84, 11.01, 23.54, 0.75, 54.06, 223.17], \"sizemin\": 4, \"sizemode\": \"area\"}, \"mode\": \"markers\", \"type\": \"scatter\", \"x\": [\"Acre\", \"Alagoas\", \"Amap\\u00e1\", \"Amazonas\", \"Bahia\", \"Cear\\u00e1\", \"Distrito Federal\", \"Esp\\u00edrito Santo\", \"Goi\\u00e1s\", \"Maranh\\u00e3o\", \"Mato Grosso\", \"Mato Grosso do Sul\", \"Minas Gerais\", \"Paran\\u00e1\", \"Para\\u00edba\", \"Par\\u00e1\", \"Pernambuco\", \"Piau\\u00ed\", \"Rio Grande do Norte\", \"Rio Grande do Sul\", \"Rio de Janeiro\", \"Rond\\u00f4nia\", \"Roraima\", \"Santa Catarina\", \"Sergipe\", \"S\\u00e3o Paulo\", \"Tocantins\"], \"y\": [7042, 159, 1465, 14798, 8249, 2555, 410, 234, 8705, 30916, 43607, 7336, 11473, 4463, 294, 59771, 522, 9478, 299, 2575, 1397, 14084, 1101, 2354, 75, 5406, 22317]}],                        {\"height\": 600, \"template\": {\"data\": {\"bar\": [{\"error_x\": {\"color\": \"#2a3f5f\"}, \"error_y\": {\"color\": \"#2a3f5f\"}, \"marker\": {\"line\": {\"color\": \"#E5ECF6\", \"width\": 0.5}}, \"type\": \"bar\"}], \"barpolar\": [{\"marker\": {\"line\": {\"color\": \"#E5ECF6\", \"width\": 0.5}}, \"type\": \"barpolar\"}], \"carpet\": [{\"aaxis\": {\"endlinecolor\": \"#2a3f5f\", \"gridcolor\": \"white\", \"linecolor\": \"white\", \"minorgridcolor\": \"white\", \"startlinecolor\": \"#2a3f5f\"}, \"baxis\": {\"endlinecolor\": \"#2a3f5f\", \"gridcolor\": \"white\", \"linecolor\": \"white\", \"minorgridcolor\": \"white\", \"startlinecolor\": \"#2a3f5f\"}, \"type\": \"carpet\"}], \"choropleth\": [{\"colorbar\": {\"outlinewidth\": 0, \"ticks\": \"\"}, \"type\": \"choropleth\"}], \"contour\": [{\"colorbar\": {\"outlinewidth\": 0, \"ticks\": \"\"}, \"colorscale\": [[0.0, \"#0d0887\"], [0.1111111111111111, \"#46039f\"], [0.2222222222222222, \"#7201a8\"], [0.3333333333333333, \"#9c179e\"], [0.4444444444444444, \"#bd3786\"], [0.5555555555555556, \"#d8576b\"], [0.6666666666666666, \"#ed7953\"], [0.7777777777777778, \"#fb9f3a\"], [0.8888888888888888, \"#fdca26\"], [1.0, \"#f0f921\"]], \"type\": \"contour\"}], \"contourcarpet\": [{\"colorbar\": {\"outlinewidth\": 0, \"ticks\": \"\"}, \"type\": \"contourcarpet\"}], \"heatmap\": [{\"colorbar\": {\"outlinewidth\": 0, \"ticks\": \"\"}, \"colorscale\": [[0.0, \"#0d0887\"], [0.1111111111111111, \"#46039f\"], [0.2222222222222222, \"#7201a8\"], [0.3333333333333333, \"#9c179e\"], [0.4444444444444444, \"#bd3786\"], [0.5555555555555556, \"#d8576b\"], [0.6666666666666666, \"#ed7953\"], [0.7777777777777778, \"#fb9f3a\"], [0.8888888888888888, \"#fdca26\"], [1.0, \"#f0f921\"]], \"type\": \"heatmap\"}], \"heatmapgl\": [{\"colorbar\": {\"outlinewidth\": 0, \"ticks\": \"\"}, \"colorscale\": [[0.0, \"#0d0887\"], [0.1111111111111111, \"#46039f\"], [0.2222222222222222, \"#7201a8\"], [0.3333333333333333, \"#9c179e\"], [0.4444444444444444, \"#bd3786\"], [0.5555555555555556, \"#d8576b\"], [0.6666666666666666, \"#ed7953\"], [0.7777777777777778, \"#fb9f3a\"], [0.8888888888888888, \"#fdca26\"], [1.0, \"#f0f921\"]], \"type\": \"heatmapgl\"}], \"histogram\": [{\"marker\": {\"colorbar\": {\"outlinewidth\": 0, \"ticks\": \"\"}}, \"type\": \"histogram\"}], \"histogram2d\": [{\"colorbar\": {\"outlinewidth\": 0, \"ticks\": \"\"}, \"colorscale\": [[0.0, \"#0d0887\"], [0.1111111111111111, \"#46039f\"], [0.2222222222222222, \"#7201a8\"], [0.3333333333333333, \"#9c179e\"], [0.4444444444444444, \"#bd3786\"], [0.5555555555555556, \"#d8576b\"], [0.6666666666666666, \"#ed7953\"], [0.7777777777777778, \"#fb9f3a\"], [0.8888888888888888, \"#fdca26\"], [1.0, \"#f0f921\"]], \"type\": \"histogram2d\"}], \"histogram2dcontour\": [{\"colorbar\": {\"outlinewidth\": 0, \"ticks\": \"\"}, \"colorscale\": [[0.0, \"#0d0887\"], [0.1111111111111111, \"#46039f\"], [0.2222222222222222, \"#7201a8\"], [0.3333333333333333, \"#9c179e\"], [0.4444444444444444, \"#bd3786\"], [0.5555555555555556, \"#d8576b\"], [0.6666666666666666, \"#ed7953\"], [0.7777777777777778, \"#fb9f3a\"], [0.8888888888888888, \"#fdca26\"], [1.0, \"#f0f921\"]], \"type\": \"histogram2dcontour\"}], \"mesh3d\": [{\"colorbar\": {\"outlinewidth\": 0, \"ticks\": \"\"}, \"type\": \"mesh3d\"}], \"parcoords\": [{\"line\": {\"colorbar\": {\"outlinewidth\": 0, \"ticks\": \"\"}}, \"type\": \"parcoords\"}], \"pie\": [{\"automargin\": true, \"type\": \"pie\"}], \"scatter\": [{\"marker\": {\"colorbar\": {\"outlinewidth\": 0, \"ticks\": \"\"}}, \"type\": \"scatter\"}], \"scatter3d\": [{\"line\": {\"colorbar\": {\"outlinewidth\": 0, \"ticks\": \"\"}}, \"marker\": {\"colorbar\": {\"outlinewidth\": 0, \"ticks\": \"\"}}, \"type\": \"scatter3d\"}], \"scattercarpet\": [{\"marker\": {\"colorbar\": {\"outlinewidth\": 0, \"ticks\": \"\"}}, \"type\": \"scattercarpet\"}], \"scattergeo\": [{\"marker\": {\"colorbar\": {\"outlinewidth\": 0, \"ticks\": \"\"}}, \"type\": \"scattergeo\"}], \"scattergl\": [{\"marker\": {\"colorbar\": {\"outlinewidth\": 0, \"ticks\": \"\"}}, \"type\": \"scattergl\"}], \"scattermapbox\": [{\"marker\": {\"colorbar\": {\"outlinewidth\": 0, \"ticks\": \"\"}}, \"type\": \"scattermapbox\"}], \"scatterpolar\": [{\"marker\": {\"colorbar\": {\"outlinewidth\": 0, \"ticks\": \"\"}}, \"type\": \"scatterpolar\"}], \"scatterpolargl\": [{\"marker\": {\"colorbar\": {\"outlinewidth\": 0, \"ticks\": \"\"}}, \"type\": \"scatterpolargl\"}], \"scatterternary\": [{\"marker\": {\"colorbar\": {\"outlinewidth\": 0, \"ticks\": \"\"}}, \"type\": \"scatterternary\"}], \"surface\": [{\"colorbar\": {\"outlinewidth\": 0, \"ticks\": \"\"}, \"colorscale\": [[0.0, \"#0d0887\"], [0.1111111111111111, \"#46039f\"], [0.2222222222222222, \"#7201a8\"], [0.3333333333333333, \"#9c179e\"], [0.4444444444444444, \"#bd3786\"], [0.5555555555555556, \"#d8576b\"], [0.6666666666666666, \"#ed7953\"], [0.7777777777777778, \"#fb9f3a\"], [0.8888888888888888, \"#fdca26\"], [1.0, \"#f0f921\"]], \"type\": \"surface\"}], \"table\": [{\"cells\": {\"fill\": {\"color\": \"#EBF0F8\"}, \"line\": {\"color\": \"white\"}}, \"header\": {\"fill\": {\"color\": \"#C8D4E3\"}, \"line\": {\"color\": \"white\"}}, \"type\": \"table\"}]}, \"layout\": {\"annotationdefaults\": {\"arrowcolor\": \"#2a3f5f\", \"arrowhead\": 0, \"arrowwidth\": 1}, \"coloraxis\": {\"colorbar\": {\"outlinewidth\": 0, \"ticks\": \"\"}}, \"colorscale\": {\"diverging\": [[0, \"#8e0152\"], [0.1, \"#c51b7d\"], [0.2, \"#de77ae\"], [0.3, \"#f1b6da\"], [0.4, \"#fde0ef\"], [0.5, \"#f7f7f7\"], [0.6, \"#e6f5d0\"], [0.7, \"#b8e186\"], [0.8, \"#7fbc41\"], [0.9, \"#4d9221\"], [1, \"#276419\"]], \"sequential\": [[0.0, \"#0d0887\"], [0.1111111111111111, \"#46039f\"], [0.2222222222222222, \"#7201a8\"], [0.3333333333333333, \"#9c179e\"], [0.4444444444444444, \"#bd3786\"], [0.5555555555555556, \"#d8576b\"], [0.6666666666666666, \"#ed7953\"], [0.7777777777777778, \"#fb9f3a\"], [0.8888888888888888, \"#fdca26\"], [1.0, \"#f0f921\"]], \"sequentialminus\": [[0.0, \"#0d0887\"], [0.1111111111111111, \"#46039f\"], [0.2222222222222222, \"#7201a8\"], [0.3333333333333333, \"#9c179e\"], [0.4444444444444444, \"#bd3786\"], [0.5555555555555556, \"#d8576b\"], [0.6666666666666666, \"#ed7953\"], [0.7777777777777778, \"#fb9f3a\"], [0.8888888888888888, \"#fdca26\"], [1.0, \"#f0f921\"]]}, \"colorway\": [\"#636efa\", \"#EF553B\", \"#00cc96\", \"#ab63fa\", \"#FFA15A\", \"#19d3f3\", \"#FF6692\", \"#B6E880\", \"#FF97FF\", \"#FECB52\"], \"font\": {\"color\": \"#2a3f5f\"}, \"geo\": {\"bgcolor\": \"white\", \"lakecolor\": \"white\", \"landcolor\": \"#E5ECF6\", \"showlakes\": true, \"showland\": true, \"subunitcolor\": \"white\"}, \"hoverlabel\": {\"align\": \"left\"}, \"hovermode\": \"closest\", \"mapbox\": {\"style\": \"light\"}, \"paper_bgcolor\": \"white\", \"plot_bgcolor\": \"#E5ECF6\", \"polar\": {\"angularaxis\": {\"gridcolor\": \"white\", \"linecolor\": \"white\", \"ticks\": \"\"}, \"bgcolor\": \"#E5ECF6\", \"radialaxis\": {\"gridcolor\": \"white\", \"linecolor\": \"white\", \"ticks\": \"\"}}, \"scene\": {\"xaxis\": {\"backgroundcolor\": \"#E5ECF6\", \"gridcolor\": \"white\", \"gridwidth\": 2, \"linecolor\": \"white\", \"showbackground\": true, \"ticks\": \"\", \"zerolinecolor\": \"white\"}, \"yaxis\": {\"backgroundcolor\": \"#E5ECF6\", \"gridcolor\": \"white\", \"gridwidth\": 2, \"linecolor\": \"white\", \"showbackground\": true, \"ticks\": \"\", \"zerolinecolor\": \"white\"}, \"zaxis\": {\"backgroundcolor\": \"#E5ECF6\", \"gridcolor\": \"white\", \"gridwidth\": 2, \"linecolor\": \"white\", \"showbackground\": true, \"ticks\": \"\", \"zerolinecolor\": \"white\"}}, \"shapedefaults\": {\"line\": {\"color\": \"#2a3f5f\"}}, \"ternary\": {\"aaxis\": {\"gridcolor\": \"white\", \"linecolor\": \"white\", \"ticks\": \"\"}, \"baxis\": {\"gridcolor\": \"white\", \"linecolor\": \"white\", \"ticks\": \"\"}, \"bgcolor\": \"#E5ECF6\", \"caxis\": {\"gridcolor\": \"white\", \"linecolor\": \"white\", \"ticks\": \"\"}}, \"title\": {\"x\": 0.05}, \"xaxis\": {\"automargin\": true, \"gridcolor\": \"white\", \"linecolor\": \"white\", \"ticks\": \"\", \"title\": {\"standoff\": 15}, \"zerolinecolor\": \"white\", \"zerolinewidth\": 2}, \"yaxis\": {\"automargin\": true, \"gridcolor\": \"white\", \"linecolor\": \"white\", \"ticks\": \"\", \"title\": {\"standoff\": 15}, \"zerolinecolor\": \"white\", \"zerolinewidth\": 2}}}, \"title\": {\"text\": \"N\\u00famero de Focos de Calor por Estado - 2017\"}, \"width\": 1000, \"xaxis\": {\"title\": {\"text\": \"Estado\"}}, \"yaxis\": {\"title\": {\"text\": \"N\\u00famero de Focos de Calor\"}}},                        {\"responsive\": true}                    ).then(function(){\n",
       "                            \n",
       "var gd = document.getElementById('b974bbe8-1f37-4e5e-b93f-b6d5c5fed4c5');\n",
       "var x = new MutationObserver(function (mutations, observer) {{\n",
       "        var display = window.getComputedStyle(gd).display;\n",
       "        if (!display || display === 'none') {{\n",
       "            console.log([gd, 'removed!']);\n",
       "            Plotly.purge(gd);\n",
       "            observer.disconnect();\n",
       "        }}\n",
       "}});\n",
       "\n",
       "// Listen for the removal of the full notebook cells\n",
       "var notebookContainer = gd.closest('#notebook-container');\n",
       "if (notebookContainer) {{\n",
       "    x.observe(notebookContainer, {childList: true});\n",
       "}}\n",
       "\n",
       "// Listen for the clearing of the current output cell\n",
       "var outputEl = gd.closest('.output');\n",
       "if (outputEl) {{\n",
       "    x.observe(outputEl, {childList: true});\n",
       "}}\n",
       "\n",
       "                        })                };                });            </script>        </div>"
      ]
     },
     "metadata": {},
     "output_type": "display_data"
    }
   ],
   "source": [
    "#Bubble Chart do Número de Focos de Calor por Estado - 2017\n",
    "base_temp = base.loc[base['year'] == 2017]\n",
    "plot_forest_fires_state(base_temp, 'Número de Focos de Calor por Estado - 2017', False)"
   ]
  },
  {
   "cell_type": "code",
   "execution_count": null,
   "metadata": {},
   "outputs": [],
   "source": []
  }
 ],
 "metadata": {
  "kernelspec": {
   "display_name": "Python 3",
   "language": "python",
   "name": "python3"
  },
  "language_info": {
   "codemirror_mode": {
    "name": "ipython",
    "version": 3
   },
   "file_extension": ".py",
   "mimetype": "text/x-python",
   "name": "python",
   "nbconvert_exporter": "python",
   "pygments_lexer": "ipython3",
   "version": "3.8.5"
  }
 },
 "nbformat": 4,
 "nbformat_minor": 4
}
